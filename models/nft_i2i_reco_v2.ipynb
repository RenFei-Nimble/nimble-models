{
 "cells": [
  {
   "cell_type": "markdown",
   "id": "8e9d31ee",
   "metadata": {},
   "source": [
    "# Import"
   ]
  },
  {
   "cell_type": "code",
   "execution_count": 1,
   "id": "7859f2ab",
   "metadata": {},
   "outputs": [],
   "source": [
    "from collections.abc import Iterator\n",
    "from datetime import date, timedelta\n",
    "from scipy.sparse import csc_matrix\n",
    "from web3 import Web3\n",
    " \n",
    "import boto3\n",
    "import botocore\n",
    "import logging\n",
    "import multiprocess\n",
    "import numpy as np\n",
    "import os\n",
    "import pandas as pd\n",
    "import string"
   ]
  },
  {
   "cell_type": "markdown",
   "id": "b89beda0",
   "metadata": {},
   "source": [
    "# Download Data "
   ]
  },
  {
   "cell_type": "code",
   "execution_count": 2,
   "id": "ba4fe121",
   "metadata": {},
   "outputs": [],
   "source": [
    "def iterate_dates(start_date: date, end_date: date) -> Iterator:\n",
    "    '''Yields date in range of [start_date, end_date]\n",
    "\n",
    "    Args:\n",
    "        start_date: inclusive start date\n",
    "        end_date: inclusive end date\n",
    "    '''\n",
    "    for n in range(int((end_date - start_date).days)+1):\n",
    "        yield start_date + timedelta(n)"
   ]
  },
  {
   "cell_type": "code",
   "execution_count": 3,
   "id": "fb174413",
   "metadata": {},
   "outputs": [],
   "source": [
    "def download_nft_transfers(start_date: date, end_date: date, local_path: string) -> None:\n",
    "    '''Downloads nft token transfer data from start_date to end_date\n",
    "\n",
    "    Args:\n",
    "        start_date: inclusive start date\n",
    "        end_date: inclusive end date\n",
    "        local_path: download path\n",
    "\n",
    "    Raises:\n",
    "        FileNotFoundError: if local_path does not exist\n",
    "    '''\n",
    "    \n",
    "    if not os.path.exists(local_path):\n",
    "        raise FileNotFoundError(f\"The {local_path} does not exist\")\n",
    "\n",
    "    s3_client = boto3.client('s3')\n",
    "    bucket_name = \"nimble-data-warehouse-dev\"\n",
    "    for download_date in iterate_dates(start_date, end_date):\n",
    "        str_date = download_date.strftime(\"%Y-%m-%d\")\n",
    "        remote_path = f\"etl/ethereum/nft_token_transfers/date={str_date}/nft_token_transfers.csv\"\n",
    "        fname = os.path.join(local_path, f\"nft_token_transfers={str_date}.csv\")\n",
    "        if not os.path.exists(fname):\n",
    "            try:\n",
    "                s3_client.download_file(bucket_name, remote_path, fname)\n",
    "                logging.info(f\"{remote_path} downloaded\")\n",
    "            except botocore.exceptions.ClientError as error:\n",
    "                logging.error(f'{remote_path} not found')\n",
    "            except botocore.exceptions.ParamValidationError as error:\n",
    "                logging.error('The parameters you provided are incorrect: {}'.format(error))"
   ]
  },
  {
   "cell_type": "code",
   "execution_count": 4,
   "id": "6fc86454",
   "metadata": {},
   "outputs": [],
   "source": [
    "# %%time\n",
    "# # Load transfer data for multiple dates in range [start_date, end_date]\n",
    "# start_date = date(2022,8,16)\n",
    "# end_date = date(2022,9,24)\n",
    "local_path = \"/Users/keonyonglee/Projects/nimble/nft-recommendation-data-analysis-data/nft-token-transfers\"\n",
    "# download_nft_transfers(start_date, end_date, local_path)"
   ]
  },
  {
   "cell_type": "markdown",
   "id": "d037203b",
   "metadata": {},
   "source": [
    "# Load Data"
   ]
  },
  {
   "cell_type": "code",
   "execution_count": 5,
   "id": "56a60001",
   "metadata": {},
   "outputs": [],
   "source": [
    "def load_transfer_data(start_date: date, end_date: date, local_path: string) -> pd.DataFrame:\n",
    "    \"\"\"Loads NFT token transfer data with value in ether from start_date to end_date\n",
    "\n",
    "    Args:\n",
    "        start_date: an inclusive start date for nft token transfers\n",
    "        end_date: an inclusive end date for nft token transfers\n",
    "        local_path: a local path where the nft toke transfer date is located\n",
    "    \n",
    "    Returns:\n",
    "        concatenated transfers dataframe for [start_date, end_date]\n",
    "\n",
    "    Raises:\n",
    "        ValueError: if start_date is greater than end_date\n",
    "        FileNotFoundError: if local_path does not exist or if no csv file is found in the local_path\n",
    "    \"\"\"\n",
    "    if not os.path.exists(local_path):\n",
    "        raise FileNotFoundError(\"The local_path does not exist\")\n",
    "    if start_date > end_date:\n",
    "        raise ValueError(\"The 'end_date' should be equal to or greather than 'start_date'\")\n",
    "\n",
    "    transfers_list = []\n",
    "    for date_ in iterate_dates(start_date, end_date):\n",
    "        fname = os.path.join(local_path, \"nft_token_transfers={}.csv\".format(date_.strftime(\"%Y-%m-%d\")))\n",
    "        if os.path.exists(fname):\n",
    "            transfers = pd.read_csv(fname, low_memory=False)\n",
    "            transfers = convert_value_from_wei(transfers, 'ether')\n",
    "            transfers_list.append(transfers)\n",
    "        else:\n",
    "            logging.error(f\"{fname} does not exist\")\n",
    "    \n",
    "    if transfers_list:\n",
    "        return pd.concat(transfers_list, ignore_index=True)\n",
    "    else:\n",
    "        raise FileNotFoundError(f\"No csv file was loaded from {local_path}\")"
   ]
  },
  {
   "cell_type": "code",
   "execution_count": 6,
   "id": "6beb914a",
   "metadata": {},
   "outputs": [],
   "source": [
    "def convert_value_from_wei(transfers: pd.DataFrame, unit: string) -> pd.DataFrame:\n",
    "    '''Convert value in WEI to unit for transfers\n",
    "        where possible units are 'kwei', 'mwei', 'gwei', 'microether', 'milliether', 'ether'\n",
    "\n",
    "    Args:\n",
    "        transfers: dataframe you want to convert the value of\n",
    "        unit: unit to convert to\n",
    "\n",
    "    Returns:\n",
    "        a new dataframe with converted value\n",
    "\n",
    "    Raises:\n",
    "        ValueError if unit is not valid\n",
    "    '''\n",
    "    if unit not in ['kwei', 'mwei', 'gwei', 'microether', 'milliether', 'ether']:\n",
    "        raise ValueError(\"Invalid unit\")\n",
    "    values_in_ether = transfers['value'].apply(lambda x: float(Web3.fromWei(int(x), unit)))\n",
    "    transfers['value'] = values_in_ether\n",
    "    return transfers"
   ]
  },
  {
   "cell_type": "code",
   "execution_count": 7,
   "id": "d4f579c5",
   "metadata": {},
   "outputs": [
    {
     "name": "stdout",
     "output_type": "stream",
     "text": [
      "CPU times: user 4min 2s, sys: 17.7 s, total: 4min 20s\n",
      "Wall time: 4min 20s\n"
     ]
    }
   ],
   "source": [
    "%%time\n",
    "start_date = date(2022,5,1)\n",
    "end_date = date(2022,9,24)\n",
    "transfers = load_transfer_data(start_date, end_date, local_path)"
   ]
  },
  {
   "cell_type": "markdown",
   "id": "ff475774",
   "metadata": {},
   "source": [
    "# Be One With The Data"
   ]
  },
  {
   "cell_type": "code",
   "execution_count": 8,
   "id": "8c27ac76",
   "metadata": {},
   "outputs": [
    {
     "data": {
      "text/html": [
       "<div>\n",
       "<style scoped>\n",
       "    .dataframe tbody tr th:only-of-type {\n",
       "        vertical-align: middle;\n",
       "    }\n",
       "\n",
       "    .dataframe tbody tr th {\n",
       "        vertical-align: top;\n",
       "    }\n",
       "\n",
       "    .dataframe thead th {\n",
       "        text-align: right;\n",
       "    }\n",
       "</style>\n",
       "<table border=\"1\" class=\"dataframe\">\n",
       "  <thead>\n",
       "    <tr style=\"text-align: right;\">\n",
       "      <th></th>\n",
       "      <th>amount</th>\n",
       "      <th>block_hash</th>\n",
       "      <th>block_number</th>\n",
       "      <th>block_timestamp</th>\n",
       "      <th>contract_type</th>\n",
       "      <th>from_address</th>\n",
       "      <th>log_index</th>\n",
       "      <th>operator</th>\n",
       "      <th>to_address</th>\n",
       "      <th>token_address</th>\n",
       "      <th>token_id</th>\n",
       "      <th>transaction_hash</th>\n",
       "      <th>transaction_index</th>\n",
       "      <th>transaction_type</th>\n",
       "      <th>value</th>\n",
       "      <th>verified</th>\n",
       "      <th>is_batch</th>\n",
       "    </tr>\n",
       "  </thead>\n",
       "  <tbody>\n",
       "    <tr>\n",
       "      <th>0</th>\n",
       "      <td>1</td>\n",
       "      <td>0xb58d4afaac7009f3bceb77c615aaae3af3853d8586d2...</td>\n",
       "      <td>14695010</td>\n",
       "      <td>2022-05-01T23:59:13.000Z</td>\n",
       "      <td>ERC1155</td>\n",
       "      <td>0x27792e7d87a5f05334b52c0584ad8497852aef8b</td>\n",
       "      <td>675.0</td>\n",
       "      <td>0xae9d5478814305148fe82dbea70e72c7ff0abbde</td>\n",
       "      <td>0x6d18e2fd549e5a816fbce4aee665283db243caf9</td>\n",
       "      <td>0x495f947276749ce646f68ac8c248420045cb7b5e</td>\n",
       "      <td>1785431045419628203587059284159807424926884684...</td>\n",
       "      <td>0xfa59235a4aba3f57b295090cd6f9bce2f7f7006c1136...</td>\n",
       "      <td>317.0</td>\n",
       "      <td>Single</td>\n",
       "      <td>0.000000</td>\n",
       "      <td>1</td>\n",
       "      <td>False</td>\n",
       "    </tr>\n",
       "    <tr>\n",
       "      <th>1</th>\n",
       "      <td>1</td>\n",
       "      <td>0xb58d4afaac7009f3bceb77c615aaae3af3853d8586d2...</td>\n",
       "      <td>14695010</td>\n",
       "      <td>2022-05-01T23:59:13.000Z</td>\n",
       "      <td>ERC721</td>\n",
       "      <td>0x59346047b015a159e5340122b0c9134043dc00e1</td>\n",
       "      <td>668.0</td>\n",
       "      <td>NaN</td>\n",
       "      <td>0x9d08b5dea1cbd21e8eb76e49d69746909ba2239d</td>\n",
       "      <td>0x34d85c9cdeb23fa97cb08333b511ac86e1c4e258</td>\n",
       "      <td>51199</td>\n",
       "      <td>0xf75ff58cd2186a85fb3f957340b2564733da530f16a8...</td>\n",
       "      <td>312.0</td>\n",
       "      <td>Single</td>\n",
       "      <td>0.000000</td>\n",
       "      <td>1</td>\n",
       "      <td>False</td>\n",
       "    </tr>\n",
       "    <tr>\n",
       "      <th>2</th>\n",
       "      <td>1</td>\n",
       "      <td>0xb58d4afaac7009f3bceb77c615aaae3af3853d8586d2...</td>\n",
       "      <td>14695010</td>\n",
       "      <td>2022-05-01T23:59:13.000Z</td>\n",
       "      <td>ERC721</td>\n",
       "      <td>0x283af0b28c62c092c9727f1ee09c02ca627eb7f5</td>\n",
       "      <td>664.0</td>\n",
       "      <td>NaN</td>\n",
       "      <td>0xf7a766f28e561fc25fe5c445fdcd8e353afc3d63</td>\n",
       "      <td>0x57f1887a8bf19b14fc0df6fd9b2acc9af147ea85</td>\n",
       "      <td>3371214892998853998010100240008899446379973043...</td>\n",
       "      <td>0xda3143b89a0c701afe5a17346625d1129c9d2ba3cfc6...</td>\n",
       "      <td>308.0</td>\n",
       "      <td>Single</td>\n",
       "      <td>0.001945</td>\n",
       "      <td>1</td>\n",
       "      <td>True</td>\n",
       "    </tr>\n",
       "    <tr>\n",
       "      <th>3</th>\n",
       "      <td>1</td>\n",
       "      <td>0xb58d4afaac7009f3bceb77c615aaae3af3853d8586d2...</td>\n",
       "      <td>14695010</td>\n",
       "      <td>2022-05-01T23:59:13.000Z</td>\n",
       "      <td>ERC721</td>\n",
       "      <td>0x0000000000000000000000000000000000000000</td>\n",
       "      <td>657.0</td>\n",
       "      <td>NaN</td>\n",
       "      <td>0x283af0b28c62c092c9727f1ee09c02ca627eb7f5</td>\n",
       "      <td>0x57f1887a8bf19b14fc0df6fd9b2acc9af147ea85</td>\n",
       "      <td>3371214892998853998010100240008899446379973043...</td>\n",
       "      <td>0xda3143b89a0c701afe5a17346625d1129c9d2ba3cfc6...</td>\n",
       "      <td>308.0</td>\n",
       "      <td>Single</td>\n",
       "      <td>0.001945</td>\n",
       "      <td>1</td>\n",
       "      <td>True</td>\n",
       "    </tr>\n",
       "    <tr>\n",
       "      <th>4</th>\n",
       "      <td>1</td>\n",
       "      <td>0xb58d4afaac7009f3bceb77c615aaae3af3853d8586d2...</td>\n",
       "      <td>14695010</td>\n",
       "      <td>2022-05-01T23:59:13.000Z</td>\n",
       "      <td>ERC721</td>\n",
       "      <td>0xb56753544255746c4e9647df7d2e641f8b13c6ba</td>\n",
       "      <td>636.0</td>\n",
       "      <td>NaN</td>\n",
       "      <td>0xbb14199294a45467b760db495c0a767bfc057f8a</td>\n",
       "      <td>0xd9b78a2f1dafc8bb9c60961790d2beefebee56f4</td>\n",
       "      <td>2792</td>\n",
       "      <td>0x9437e96a57f91ceb71e7d971b894f6b1443894fb067a...</td>\n",
       "      <td>302.0</td>\n",
       "      <td>Single</td>\n",
       "      <td>0.310000</td>\n",
       "      <td>1</td>\n",
       "      <td>False</td>\n",
       "    </tr>\n",
       "    <tr>\n",
       "      <th>...</th>\n",
       "      <td>...</td>\n",
       "      <td>...</td>\n",
       "      <td>...</td>\n",
       "      <td>...</td>\n",
       "      <td>...</td>\n",
       "      <td>...</td>\n",
       "      <td>...</td>\n",
       "      <td>...</td>\n",
       "      <td>...</td>\n",
       "      <td>...</td>\n",
       "      <td>...</td>\n",
       "      <td>...</td>\n",
       "      <td>...</td>\n",
       "      <td>...</td>\n",
       "      <td>...</td>\n",
       "      <td>...</td>\n",
       "      <td>...</td>\n",
       "    </tr>\n",
       "    <tr>\n",
       "      <th>68566616</th>\n",
       "      <td>1</td>\n",
       "      <td>0xbd9516fe35fc92d4bce8b6b7b31a9a81b56f34e259d3...</td>\n",
       "      <td>15599492</td>\n",
       "      <td>2022-09-24T00:00:11.000Z</td>\n",
       "      <td>ERC721</td>\n",
       "      <td>0x47efd37de4fe5e5ca9934ed6c3c5e2aab093372f</td>\n",
       "      <td>237.0</td>\n",
       "      <td>NaN</td>\n",
       "      <td>0x07035d0e0cfb5e89218be943507694526a4ebe54</td>\n",
       "      <td>0x8f14778feb8cc049e227d01a2417a888dabb2abc</td>\n",
       "      <td>151</td>\n",
       "      <td>0x79a26bf8d4639a1b66cf336c42cab384d16e70bd847e...</td>\n",
       "      <td>158.0</td>\n",
       "      <td>Single</td>\n",
       "      <td>0.008000</td>\n",
       "      <td>1</td>\n",
       "      <td>False</td>\n",
       "    </tr>\n",
       "    <tr>\n",
       "      <th>68566617</th>\n",
       "      <td>1</td>\n",
       "      <td>0xbd9516fe35fc92d4bce8b6b7b31a9a81b56f34e259d3...</td>\n",
       "      <td>15599492</td>\n",
       "      <td>2022-09-24T00:00:11.000Z</td>\n",
       "      <td>ERC721</td>\n",
       "      <td>0x0000000000000000000000000000000000000000</td>\n",
       "      <td>235.0</td>\n",
       "      <td>NaN</td>\n",
       "      <td>0xbe61f001a92045155b30bd1c3f65d8a428f1542e</td>\n",
       "      <td>0x7ca18098ea15b0e199a5dffec2a912015130896a</td>\n",
       "      <td>531</td>\n",
       "      <td>0x35b846cc1fd7b20a8610e2430515a7b8c9d4e107b7bc...</td>\n",
       "      <td>157.0</td>\n",
       "      <td>Single</td>\n",
       "      <td>0.000000</td>\n",
       "      <td>1</td>\n",
       "      <td>False</td>\n",
       "    </tr>\n",
       "    <tr>\n",
       "      <th>68566618</th>\n",
       "      <td>1</td>\n",
       "      <td>0xbd9516fe35fc92d4bce8b6b7b31a9a81b56f34e259d3...</td>\n",
       "      <td>15599492</td>\n",
       "      <td>2022-09-24T00:00:11.000Z</td>\n",
       "      <td>ERC721</td>\n",
       "      <td>0x283af0b28c62c092c9727f1ee09c02ca627eb7f5</td>\n",
       "      <td>102.0</td>\n",
       "      <td>NaN</td>\n",
       "      <td>0x5192b3fe45a0a649b2709e2264d537c76190aa5c</td>\n",
       "      <td>0x57f1887a8bf19b14fc0df6fd9b2acc9af147ea85</td>\n",
       "      <td>1666219360701647988344975679758156907440319526...</td>\n",
       "      <td>0x9165174bf98f4aa577889a195c45ce64068e3382f1ad...</td>\n",
       "      <td>63.0</td>\n",
       "      <td>Single</td>\n",
       "      <td>0.008306</td>\n",
       "      <td>1</td>\n",
       "      <td>True</td>\n",
       "    </tr>\n",
       "    <tr>\n",
       "      <th>68566619</th>\n",
       "      <td>1</td>\n",
       "      <td>0xbd9516fe35fc92d4bce8b6b7b31a9a81b56f34e259d3...</td>\n",
       "      <td>15599492</td>\n",
       "      <td>2022-09-24T00:00:11.000Z</td>\n",
       "      <td>ERC721</td>\n",
       "      <td>0x0000000000000000000000000000000000000000</td>\n",
       "      <td>95.0</td>\n",
       "      <td>NaN</td>\n",
       "      <td>0x283af0b28c62c092c9727f1ee09c02ca627eb7f5</td>\n",
       "      <td>0x57f1887a8bf19b14fc0df6fd9b2acc9af147ea85</td>\n",
       "      <td>1666219360701647988344975679758156907440319526...</td>\n",
       "      <td>0x9165174bf98f4aa577889a195c45ce64068e3382f1ad...</td>\n",
       "      <td>63.0</td>\n",
       "      <td>Single</td>\n",
       "      <td>0.008306</td>\n",
       "      <td>1</td>\n",
       "      <td>True</td>\n",
       "    </tr>\n",
       "    <tr>\n",
       "      <th>68566620</th>\n",
       "      <td>1</td>\n",
       "      <td>0xbd9516fe35fc92d4bce8b6b7b31a9a81b56f34e259d3...</td>\n",
       "      <td>15599492</td>\n",
       "      <td>2022-09-24T00:00:11.000Z</td>\n",
       "      <td>ERC721</td>\n",
       "      <td>0x0000000000000000000000000000000000000000</td>\n",
       "      <td>27.0</td>\n",
       "      <td>NaN</td>\n",
       "      <td>0xfcdaa268c4d2933df7d37e8c8726884228ca1566</td>\n",
       "      <td>0xac12014a5884c3b038855a4e0c2419b2eccebcaf</td>\n",
       "      <td>147</td>\n",
       "      <td>0x52abb834b996a40f0d11234f83cc175e30e00884c53f...</td>\n",
       "      <td>19.0</td>\n",
       "      <td>Single</td>\n",
       "      <td>0.000000</td>\n",
       "      <td>1</td>\n",
       "      <td>False</td>\n",
       "    </tr>\n",
       "  </tbody>\n",
       "</table>\n",
       "<p>68566621 rows × 17 columns</p>\n",
       "</div>"
      ],
      "text/plain": [
       "         amount                                         block_hash  \\\n",
       "0             1  0xb58d4afaac7009f3bceb77c615aaae3af3853d8586d2...   \n",
       "1             1  0xb58d4afaac7009f3bceb77c615aaae3af3853d8586d2...   \n",
       "2             1  0xb58d4afaac7009f3bceb77c615aaae3af3853d8586d2...   \n",
       "3             1  0xb58d4afaac7009f3bceb77c615aaae3af3853d8586d2...   \n",
       "4             1  0xb58d4afaac7009f3bceb77c615aaae3af3853d8586d2...   \n",
       "...         ...                                                ...   \n",
       "68566616      1  0xbd9516fe35fc92d4bce8b6b7b31a9a81b56f34e259d3...   \n",
       "68566617      1  0xbd9516fe35fc92d4bce8b6b7b31a9a81b56f34e259d3...   \n",
       "68566618      1  0xbd9516fe35fc92d4bce8b6b7b31a9a81b56f34e259d3...   \n",
       "68566619      1  0xbd9516fe35fc92d4bce8b6b7b31a9a81b56f34e259d3...   \n",
       "68566620      1  0xbd9516fe35fc92d4bce8b6b7b31a9a81b56f34e259d3...   \n",
       "\n",
       "          block_number           block_timestamp contract_type  \\\n",
       "0             14695010  2022-05-01T23:59:13.000Z       ERC1155   \n",
       "1             14695010  2022-05-01T23:59:13.000Z        ERC721   \n",
       "2             14695010  2022-05-01T23:59:13.000Z        ERC721   \n",
       "3             14695010  2022-05-01T23:59:13.000Z        ERC721   \n",
       "4             14695010  2022-05-01T23:59:13.000Z        ERC721   \n",
       "...                ...                       ...           ...   \n",
       "68566616      15599492  2022-09-24T00:00:11.000Z        ERC721   \n",
       "68566617      15599492  2022-09-24T00:00:11.000Z        ERC721   \n",
       "68566618      15599492  2022-09-24T00:00:11.000Z        ERC721   \n",
       "68566619      15599492  2022-09-24T00:00:11.000Z        ERC721   \n",
       "68566620      15599492  2022-09-24T00:00:11.000Z        ERC721   \n",
       "\n",
       "                                        from_address  log_index  \\\n",
       "0         0x27792e7d87a5f05334b52c0584ad8497852aef8b      675.0   \n",
       "1         0x59346047b015a159e5340122b0c9134043dc00e1      668.0   \n",
       "2         0x283af0b28c62c092c9727f1ee09c02ca627eb7f5      664.0   \n",
       "3         0x0000000000000000000000000000000000000000      657.0   \n",
       "4         0xb56753544255746c4e9647df7d2e641f8b13c6ba      636.0   \n",
       "...                                              ...        ...   \n",
       "68566616  0x47efd37de4fe5e5ca9934ed6c3c5e2aab093372f      237.0   \n",
       "68566617  0x0000000000000000000000000000000000000000      235.0   \n",
       "68566618  0x283af0b28c62c092c9727f1ee09c02ca627eb7f5      102.0   \n",
       "68566619  0x0000000000000000000000000000000000000000       95.0   \n",
       "68566620  0x0000000000000000000000000000000000000000       27.0   \n",
       "\n",
       "                                            operator  \\\n",
       "0         0xae9d5478814305148fe82dbea70e72c7ff0abbde   \n",
       "1                                                NaN   \n",
       "2                                                NaN   \n",
       "3                                                NaN   \n",
       "4                                                NaN   \n",
       "...                                              ...   \n",
       "68566616                                         NaN   \n",
       "68566617                                         NaN   \n",
       "68566618                                         NaN   \n",
       "68566619                                         NaN   \n",
       "68566620                                         NaN   \n",
       "\n",
       "                                          to_address  \\\n",
       "0         0x6d18e2fd549e5a816fbce4aee665283db243caf9   \n",
       "1         0x9d08b5dea1cbd21e8eb76e49d69746909ba2239d   \n",
       "2         0xf7a766f28e561fc25fe5c445fdcd8e353afc3d63   \n",
       "3         0x283af0b28c62c092c9727f1ee09c02ca627eb7f5   \n",
       "4         0xbb14199294a45467b760db495c0a767bfc057f8a   \n",
       "...                                              ...   \n",
       "68566616  0x07035d0e0cfb5e89218be943507694526a4ebe54   \n",
       "68566617  0xbe61f001a92045155b30bd1c3f65d8a428f1542e   \n",
       "68566618  0x5192b3fe45a0a649b2709e2264d537c76190aa5c   \n",
       "68566619  0x283af0b28c62c092c9727f1ee09c02ca627eb7f5   \n",
       "68566620  0xfcdaa268c4d2933df7d37e8c8726884228ca1566   \n",
       "\n",
       "                                       token_address  \\\n",
       "0         0x495f947276749ce646f68ac8c248420045cb7b5e   \n",
       "1         0x34d85c9cdeb23fa97cb08333b511ac86e1c4e258   \n",
       "2         0x57f1887a8bf19b14fc0df6fd9b2acc9af147ea85   \n",
       "3         0x57f1887a8bf19b14fc0df6fd9b2acc9af147ea85   \n",
       "4         0xd9b78a2f1dafc8bb9c60961790d2beefebee56f4   \n",
       "...                                              ...   \n",
       "68566616  0x8f14778feb8cc049e227d01a2417a888dabb2abc   \n",
       "68566617  0x7ca18098ea15b0e199a5dffec2a912015130896a   \n",
       "68566618  0x57f1887a8bf19b14fc0df6fd9b2acc9af147ea85   \n",
       "68566619  0x57f1887a8bf19b14fc0df6fd9b2acc9af147ea85   \n",
       "68566620  0xac12014a5884c3b038855a4e0c2419b2eccebcaf   \n",
       "\n",
       "                                                   token_id  \\\n",
       "0         1785431045419628203587059284159807424926884684...   \n",
       "1                                                     51199   \n",
       "2         3371214892998853998010100240008899446379973043...   \n",
       "3         3371214892998853998010100240008899446379973043...   \n",
       "4                                                      2792   \n",
       "...                                                     ...   \n",
       "68566616                                                151   \n",
       "68566617                                                531   \n",
       "68566618  1666219360701647988344975679758156907440319526...   \n",
       "68566619  1666219360701647988344975679758156907440319526...   \n",
       "68566620                                                147   \n",
       "\n",
       "                                           transaction_hash  \\\n",
       "0         0xfa59235a4aba3f57b295090cd6f9bce2f7f7006c1136...   \n",
       "1         0xf75ff58cd2186a85fb3f957340b2564733da530f16a8...   \n",
       "2         0xda3143b89a0c701afe5a17346625d1129c9d2ba3cfc6...   \n",
       "3         0xda3143b89a0c701afe5a17346625d1129c9d2ba3cfc6...   \n",
       "4         0x9437e96a57f91ceb71e7d971b894f6b1443894fb067a...   \n",
       "...                                                     ...   \n",
       "68566616  0x79a26bf8d4639a1b66cf336c42cab384d16e70bd847e...   \n",
       "68566617  0x35b846cc1fd7b20a8610e2430515a7b8c9d4e107b7bc...   \n",
       "68566618  0x9165174bf98f4aa577889a195c45ce64068e3382f1ad...   \n",
       "68566619  0x9165174bf98f4aa577889a195c45ce64068e3382f1ad...   \n",
       "68566620  0x52abb834b996a40f0d11234f83cc175e30e00884c53f...   \n",
       "\n",
       "          transaction_index transaction_type     value  verified  is_batch  \n",
       "0                     317.0           Single  0.000000         1     False  \n",
       "1                     312.0           Single  0.000000         1     False  \n",
       "2                     308.0           Single  0.001945         1      True  \n",
       "3                     308.0           Single  0.001945         1      True  \n",
       "4                     302.0           Single  0.310000         1     False  \n",
       "...                     ...              ...       ...       ...       ...  \n",
       "68566616              158.0           Single  0.008000         1     False  \n",
       "68566617              157.0           Single  0.000000         1     False  \n",
       "68566618               63.0           Single  0.008306         1      True  \n",
       "68566619               63.0           Single  0.008306         1      True  \n",
       "68566620               19.0           Single  0.000000         1     False  \n",
       "\n",
       "[68566621 rows x 17 columns]"
      ]
     },
     "execution_count": 8,
     "metadata": {},
     "output_type": "execute_result"
    }
   ],
   "source": [
    "transfers"
   ]
  },
  {
   "cell_type": "code",
   "execution_count": 9,
   "id": "179450fb",
   "metadata": {},
   "outputs": [
    {
     "name": "stdout",
     "output_type": "stream",
     "text": [
      "<class 'pandas.core.frame.DataFrame'>\n",
      "RangeIndex: 68566621 entries, 0 to 68566620\n",
      "Data columns (total 17 columns):\n",
      " #   Column             Dtype  \n",
      "---  ------             -----  \n",
      " 0   amount             object \n",
      " 1   block_hash         object \n",
      " 2   block_number       int64  \n",
      " 3   block_timestamp    object \n",
      " 4   contract_type      object \n",
      " 5   from_address       object \n",
      " 6   log_index          float64\n",
      " 7   operator           object \n",
      " 8   to_address         object \n",
      " 9   token_address      object \n",
      " 10  token_id           object \n",
      " 11  transaction_hash   object \n",
      " 12  transaction_index  float64\n",
      " 13  transaction_type   object \n",
      " 14  value              float64\n",
      " 15  verified           int64  \n",
      " 16  is_batch           bool   \n",
      "dtypes: bool(1), float64(3), int64(2), object(11)\n",
      "memory usage: 8.2+ GB\n"
     ]
    }
   ],
   "source": [
    "transfers.info()"
   ]
  },
  {
   "cell_type": "code",
   "execution_count": 10,
   "id": "3eff5cf9",
   "metadata": {},
   "outputs": [
    {
     "data": {
      "text/plain": [
       "amount                      0\n",
       "block_hash                  0\n",
       "block_number                0\n",
       "block_timestamp             0\n",
       "contract_type            4018\n",
       "from_address                0\n",
       "log_index                6966\n",
       "operator             61830993\n",
       "to_address                  0\n",
       "token_address               0\n",
       "token_id                 3465\n",
       "transaction_hash            0\n",
       "transaction_index       18738\n",
       "transaction_type            0\n",
       "value                       0\n",
       "verified                    0\n",
       "is_batch                    0\n",
       "dtype: int64"
      ]
     },
     "execution_count": 10,
     "metadata": {},
     "output_type": "execute_result"
    }
   ],
   "source": [
    "transfers.isnull().sum()"
   ]
  },
  {
   "cell_type": "code",
   "execution_count": 11,
   "id": "43aa406d",
   "metadata": {},
   "outputs": [
    {
     "data": {
      "text/plain": [
       "ERC721     0.901090\n",
       "ERC1155    0.098576\n",
       "ERC165     0.000334\n",
       "Name: contract_type, dtype: float64"
      ]
     },
     "execution_count": 11,
     "metadata": {},
     "output_type": "execute_result"
    }
   ],
   "source": [
    "transfers.contract_type.value_counts(normalize=True)"
   ]
  },
  {
   "cell_type": "code",
   "execution_count": 12,
   "id": "6575284c",
   "metadata": {},
   "outputs": [
    {
     "data": {
      "text/plain": [
       "3110073"
      ]
     },
     "execution_count": 12,
     "metadata": {},
     "output_type": "execute_result"
    }
   ],
   "source": [
    "ens = \"0x57f1887a8bf19b14fc0df6fd9b2acc9af147ea85\".lower()\n",
    "transfers[transfers.token_address == ens].shape[0]"
   ]
  },
  {
   "cell_type": "code",
   "execution_count": 13,
   "id": "d2935212",
   "metadata": {},
   "outputs": [
    {
     "data": {
      "text/plain": [
       "2903"
      ]
     },
     "execution_count": 13,
     "metadata": {},
     "output_type": "execute_result"
    }
   ],
   "source": [
    "memory = \"0xccb9d89e0f77df3618eec9f6bf899be3b5561a89\".lower()\n",
    "transfers[transfers.token_address == memory].shape[0]"
   ]
  },
  {
   "cell_type": "markdown",
   "id": "05e43f24",
   "metadata": {},
   "source": [
    "# Preprocess"
   ]
  },
  {
   "cell_type": "code",
   "execution_count": 14,
   "id": "a4ac408e",
   "metadata": {},
   "outputs": [],
   "source": [
    "transfers.fillna(\"N/A\", inplace=True)"
   ]
  },
  {
   "cell_type": "code",
   "execution_count": 15,
   "id": "e16f6746",
   "metadata": {},
   "outputs": [],
   "source": [
    "transfers = transfers[(transfers.contract_type != 'ERC1155') & (transfers.contract_type != 'ERC165')]"
   ]
  },
  {
   "cell_type": "code",
   "execution_count": 16,
   "id": "dd004ac0",
   "metadata": {},
   "outputs": [
    {
     "data": {
      "text/plain": [
       "ERC721    61781056\n",
       "N/A           4018\n",
       "Name: contract_type, dtype: int64"
      ]
     },
     "execution_count": 16,
     "metadata": {},
     "output_type": "execute_result"
    }
   ],
   "source": [
    "transfers.contract_type.value_counts()"
   ]
  },
  {
   "cell_type": "code",
   "execution_count": 17,
   "id": "fec1cbbb",
   "metadata": {},
   "outputs": [],
   "source": [
    "transfers = transfers[transfers.token_id != 'N/A']"
   ]
  },
  {
   "cell_type": "code",
   "execution_count": 18,
   "id": "812e2131",
   "metadata": {},
   "outputs": [
    {
     "data": {
      "text/plain": [
       "0"
      ]
     },
     "execution_count": 18,
     "metadata": {},
     "output_type": "execute_result"
    }
   ],
   "source": [
    "transfers.token_id.isnull().sum()"
   ]
  },
  {
   "cell_type": "code",
   "execution_count": 19,
   "id": "6c9561a9",
   "metadata": {},
   "outputs": [],
   "source": [
    "mint_address = \"0x0000000000000000000000000000000000000000\"\n",
    "transfers = transfers[transfers.from_address != mint_address]"
   ]
  },
  {
   "cell_type": "code",
   "execution_count": 20,
   "id": "07bb38b8",
   "metadata": {},
   "outputs": [
    {
     "data": {
      "text/plain": [
       "0"
      ]
     },
     "execution_count": 20,
     "metadata": {},
     "output_type": "execute_result"
    }
   ],
   "source": [
    "transfers[transfers.from_address == mint_address].shape[0]"
   ]
  },
  {
   "cell_type": "code",
   "execution_count": 21,
   "id": "5f6f613a",
   "metadata": {},
   "outputs": [],
   "source": [
    "burn_addresses = [\n",
    "    \"0x0000000000000000000000000000000000000000\",\n",
    "    \"0x000000000000000000000000000000000000dead\"\n",
    "]\n",
    "transfers = transfers[~transfers.to_address.isin(burn_addresses)]"
   ]
  },
  {
   "cell_type": "code",
   "execution_count": 23,
   "id": "74693f1a",
   "metadata": {},
   "outputs": [
    {
     "data": {
      "text/plain": [
       "0"
      ]
     },
     "execution_count": 23,
     "metadata": {},
     "output_type": "execute_result"
    }
   ],
   "source": [
    "transfers[transfers.to_address.isin(burn_addresses)].shape[0]"
   ]
  },
  {
   "cell_type": "code",
   "execution_count": 24,
   "id": "4142a9db",
   "metadata": {},
   "outputs": [],
   "source": [
    "transfers['nft_id'] = transfers.apply(lambda row: f'{row.token_address}/{row.token_id}', axis=1)"
   ]
  },
  {
   "cell_type": "code",
   "execution_count": 25,
   "id": "7becc4b3",
   "metadata": {},
   "outputs": [
    {
     "data": {
      "text/plain": [
       "1            0x34d85c9cdeb23fa97cb08333b511ac86e1c4e258/51199\n",
       "2           0x57f1887a8bf19b14fc0df6fd9b2acc9af147ea85/337...\n",
       "4             0xd9b78a2f1dafc8bb9c60961790d2beefebee56f4/2792\n",
       "5              0xafe12842e3703a3cc3a71d9463389b1bf2c5bc1c/358\n",
       "8               0x34d85c9cdeb23fa97cb08333b511ac86e1c4e258/61\n",
       "                                  ...                        \n",
       "68566596      0xce0f25934deaaddd174427f1978bcd487a85e9fa/3393\n",
       "68566597      0xe6408dd80ee4d7596151ead35b37bdf84d2a3b0f/2287\n",
       "68566600       0xd896b402a848331e347909a03f286ce218706f43/573\n",
       "68566616       0x8f14778feb8cc049e227d01a2417a888dabb2abc/151\n",
       "68566618    0x57f1887a8bf19b14fc0df6fd9b2acc9af147ea85/166...\n",
       "Name: nft_id, Length: 20327516, dtype: object"
      ]
     },
     "execution_count": 25,
     "metadata": {},
     "output_type": "execute_result"
    }
   ],
   "source": [
    "transfers.nft_id"
   ]
  },
  {
   "cell_type": "code",
   "execution_count": 26,
   "id": "e114ec14",
   "metadata": {},
   "outputs": [],
   "source": [
    "columns={'from_address': 'seller', 'to_address': 'buyer', 'token_address': 'collection_id'}\n",
    "transfers.rename(columns=columns, inplace=True)"
   ]
  },
  {
   "cell_type": "code",
   "execution_count": 27,
   "id": "53632e94",
   "metadata": {},
   "outputs": [],
   "source": [
    "columns = [\n",
    "    'seller',\n",
    "    'buyer',\n",
    "    'collection_id',\n",
    "    'nft_id',\n",
    "    'value',\n",
    "    'is_batch',\n",
    "]\n",
    "transfers = transfers[columns]"
   ]
  },
  {
   "cell_type": "code",
   "execution_count": 28,
   "id": "303d2adc",
   "metadata": {},
   "outputs": [],
   "source": [
    "sales = transfers[transfers.value > 0]"
   ]
  },
  {
   "cell_type": "code",
   "execution_count": 31,
   "id": "c424e182",
   "metadata": {},
   "outputs": [
    {
     "data": {
      "text/plain": [
       "0"
      ]
     },
     "execution_count": 31,
     "metadata": {},
     "output_type": "execute_result"
    }
   ],
   "source": [
    "sales[sales.value == 0].shape[0]"
   ]
  },
  {
   "cell_type": "code",
   "execution_count": 32,
   "id": "f4ef238a",
   "metadata": {},
   "outputs": [
    {
     "data": {
      "text/html": [
       "<div>\n",
       "<style scoped>\n",
       "    .dataframe tbody tr th:only-of-type {\n",
       "        vertical-align: middle;\n",
       "    }\n",
       "\n",
       "    .dataframe tbody tr th {\n",
       "        vertical-align: top;\n",
       "    }\n",
       "\n",
       "    .dataframe thead th {\n",
       "        text-align: right;\n",
       "    }\n",
       "</style>\n",
       "<table border=\"1\" class=\"dataframe\">\n",
       "  <thead>\n",
       "    <tr style=\"text-align: right;\">\n",
       "      <th></th>\n",
       "      <th>seller</th>\n",
       "      <th>buyer</th>\n",
       "      <th>collection_id</th>\n",
       "      <th>nft_id</th>\n",
       "      <th>value</th>\n",
       "      <th>is_batch</th>\n",
       "    </tr>\n",
       "  </thead>\n",
       "  <tbody>\n",
       "    <tr>\n",
       "      <th>2</th>\n",
       "      <td>0x283af0b28c62c092c9727f1ee09c02ca627eb7f5</td>\n",
       "      <td>0xf7a766f28e561fc25fe5c445fdcd8e353afc3d63</td>\n",
       "      <td>0x57f1887a8bf19b14fc0df6fd9b2acc9af147ea85</td>\n",
       "      <td>0x57f1887a8bf19b14fc0df6fd9b2acc9af147ea85/337...</td>\n",
       "      <td>0.001945</td>\n",
       "      <td>True</td>\n",
       "    </tr>\n",
       "    <tr>\n",
       "      <th>4</th>\n",
       "      <td>0xb56753544255746c4e9647df7d2e641f8b13c6ba</td>\n",
       "      <td>0xbb14199294a45467b760db495c0a767bfc057f8a</td>\n",
       "      <td>0xd9b78a2f1dafc8bb9c60961790d2beefebee56f4</td>\n",
       "      <td>0xd9b78a2f1dafc8bb9c60961790d2beefebee56f4/2792</td>\n",
       "      <td>0.310000</td>\n",
       "      <td>False</td>\n",
       "    </tr>\n",
       "    <tr>\n",
       "      <th>5</th>\n",
       "      <td>0xfc1207ab36d0aafebf9d27473326ead93e3b0cb8</td>\n",
       "      <td>0x636e5f84c3abab43802595cefe6ac3c0687da411</td>\n",
       "      <td>0xafe12842e3703a3cc3a71d9463389b1bf2c5bc1c</td>\n",
       "      <td>0xafe12842e3703a3cc3a71d9463389b1bf2c5bc1c/358</td>\n",
       "      <td>0.018000</td>\n",
       "      <td>False</td>\n",
       "    </tr>\n",
       "    <tr>\n",
       "      <th>8</th>\n",
       "      <td>0x35d1cea472ecb765133d0a8e043989a9bd9a6bef</td>\n",
       "      <td>0x6dd8812a762a7c37fd5aa75d9e2186482c75888e</td>\n",
       "      <td>0x34d85c9cdeb23fa97cb08333b511ac86e1c4e258</td>\n",
       "      <td>0x34d85c9cdeb23fa97cb08333b511ac86e1c4e258/61</td>\n",
       "      <td>175.000000</td>\n",
       "      <td>False</td>\n",
       "    </tr>\n",
       "    <tr>\n",
       "      <th>15</th>\n",
       "      <td>0xd1df5522ad6d080615d645f49be708fa4e605cae</td>\n",
       "      <td>0xcdf99625169b900bbcd172c3fed98c887bb97227</td>\n",
       "      <td>0x34d85c9cdeb23fa97cb08333b511ac86e1c4e258</td>\n",
       "      <td>0x34d85c9cdeb23fa97cb08333b511ac86e1c4e258/75253</td>\n",
       "      <td>5.100000</td>\n",
       "      <td>False</td>\n",
       "    </tr>\n",
       "    <tr>\n",
       "      <th>...</th>\n",
       "      <td>...</td>\n",
       "      <td>...</td>\n",
       "      <td>...</td>\n",
       "      <td>...</td>\n",
       "      <td>...</td>\n",
       "      <td>...</td>\n",
       "    </tr>\n",
       "    <tr>\n",
       "      <th>68566594</th>\n",
       "      <td>0x283af0b28c62c092c9727f1ee09c02ca627eb7f5</td>\n",
       "      <td>0x4d1c6fe9d1d2cdc92a30004e55c2ee98ca31fe91</td>\n",
       "      <td>0x57f1887a8bf19b14fc0df6fd9b2acc9af147ea85</td>\n",
       "      <td>0x57f1887a8bf19b14fc0df6fd9b2acc9af147ea85/103...</td>\n",
       "      <td>0.004153</td>\n",
       "      <td>True</td>\n",
       "    </tr>\n",
       "    <tr>\n",
       "      <th>68566597</th>\n",
       "      <td>0xeea477ae1312bb5bc00ef3d9d1f8da8c69e2e9da</td>\n",
       "      <td>0x12523d7753bb3d74d2900ef3af384c14d7f494a6</td>\n",
       "      <td>0xe6408dd80ee4d7596151ead35b37bdf84d2a3b0f</td>\n",
       "      <td>0xe6408dd80ee4d7596151ead35b37bdf84d2a3b0f/2287</td>\n",
       "      <td>0.165000</td>\n",
       "      <td>False</td>\n",
       "    </tr>\n",
       "    <tr>\n",
       "      <th>68566600</th>\n",
       "      <td>0x0b579d10fc3cfa5b592ffc503751ddba359b2e6d</td>\n",
       "      <td>0xeb6d919f8421783053c0944498a434e75d20653d</td>\n",
       "      <td>0xd896b402a848331e347909a03f286ce218706f43</td>\n",
       "      <td>0xd896b402a848331e347909a03f286ce218706f43/573</td>\n",
       "      <td>0.005000</td>\n",
       "      <td>False</td>\n",
       "    </tr>\n",
       "    <tr>\n",
       "      <th>68566616</th>\n",
       "      <td>0x47efd37de4fe5e5ca9934ed6c3c5e2aab093372f</td>\n",
       "      <td>0x07035d0e0cfb5e89218be943507694526a4ebe54</td>\n",
       "      <td>0x8f14778feb8cc049e227d01a2417a888dabb2abc</td>\n",
       "      <td>0x8f14778feb8cc049e227d01a2417a888dabb2abc/151</td>\n",
       "      <td>0.008000</td>\n",
       "      <td>False</td>\n",
       "    </tr>\n",
       "    <tr>\n",
       "      <th>68566618</th>\n",
       "      <td>0x283af0b28c62c092c9727f1ee09c02ca627eb7f5</td>\n",
       "      <td>0x5192b3fe45a0a649b2709e2264d537c76190aa5c</td>\n",
       "      <td>0x57f1887a8bf19b14fc0df6fd9b2acc9af147ea85</td>\n",
       "      <td>0x57f1887a8bf19b14fc0df6fd9b2acc9af147ea85/166...</td>\n",
       "      <td>0.008306</td>\n",
       "      <td>True</td>\n",
       "    </tr>\n",
       "  </tbody>\n",
       "</table>\n",
       "<p>11734149 rows × 6 columns</p>\n",
       "</div>"
      ],
      "text/plain": [
       "                                              seller  \\\n",
       "2         0x283af0b28c62c092c9727f1ee09c02ca627eb7f5   \n",
       "4         0xb56753544255746c4e9647df7d2e641f8b13c6ba   \n",
       "5         0xfc1207ab36d0aafebf9d27473326ead93e3b0cb8   \n",
       "8         0x35d1cea472ecb765133d0a8e043989a9bd9a6bef   \n",
       "15        0xd1df5522ad6d080615d645f49be708fa4e605cae   \n",
       "...                                              ...   \n",
       "68566594  0x283af0b28c62c092c9727f1ee09c02ca627eb7f5   \n",
       "68566597  0xeea477ae1312bb5bc00ef3d9d1f8da8c69e2e9da   \n",
       "68566600  0x0b579d10fc3cfa5b592ffc503751ddba359b2e6d   \n",
       "68566616  0x47efd37de4fe5e5ca9934ed6c3c5e2aab093372f   \n",
       "68566618  0x283af0b28c62c092c9727f1ee09c02ca627eb7f5   \n",
       "\n",
       "                                               buyer  \\\n",
       "2         0xf7a766f28e561fc25fe5c445fdcd8e353afc3d63   \n",
       "4         0xbb14199294a45467b760db495c0a767bfc057f8a   \n",
       "5         0x636e5f84c3abab43802595cefe6ac3c0687da411   \n",
       "8         0x6dd8812a762a7c37fd5aa75d9e2186482c75888e   \n",
       "15        0xcdf99625169b900bbcd172c3fed98c887bb97227   \n",
       "...                                              ...   \n",
       "68566594  0x4d1c6fe9d1d2cdc92a30004e55c2ee98ca31fe91   \n",
       "68566597  0x12523d7753bb3d74d2900ef3af384c14d7f494a6   \n",
       "68566600  0xeb6d919f8421783053c0944498a434e75d20653d   \n",
       "68566616  0x07035d0e0cfb5e89218be943507694526a4ebe54   \n",
       "68566618  0x5192b3fe45a0a649b2709e2264d537c76190aa5c   \n",
       "\n",
       "                                       collection_id  \\\n",
       "2         0x57f1887a8bf19b14fc0df6fd9b2acc9af147ea85   \n",
       "4         0xd9b78a2f1dafc8bb9c60961790d2beefebee56f4   \n",
       "5         0xafe12842e3703a3cc3a71d9463389b1bf2c5bc1c   \n",
       "8         0x34d85c9cdeb23fa97cb08333b511ac86e1c4e258   \n",
       "15        0x34d85c9cdeb23fa97cb08333b511ac86e1c4e258   \n",
       "...                                              ...   \n",
       "68566594  0x57f1887a8bf19b14fc0df6fd9b2acc9af147ea85   \n",
       "68566597  0xe6408dd80ee4d7596151ead35b37bdf84d2a3b0f   \n",
       "68566600  0xd896b402a848331e347909a03f286ce218706f43   \n",
       "68566616  0x8f14778feb8cc049e227d01a2417a888dabb2abc   \n",
       "68566618  0x57f1887a8bf19b14fc0df6fd9b2acc9af147ea85   \n",
       "\n",
       "                                                     nft_id       value  \\\n",
       "2         0x57f1887a8bf19b14fc0df6fd9b2acc9af147ea85/337...    0.001945   \n",
       "4           0xd9b78a2f1dafc8bb9c60961790d2beefebee56f4/2792    0.310000   \n",
       "5            0xafe12842e3703a3cc3a71d9463389b1bf2c5bc1c/358    0.018000   \n",
       "8             0x34d85c9cdeb23fa97cb08333b511ac86e1c4e258/61  175.000000   \n",
       "15         0x34d85c9cdeb23fa97cb08333b511ac86e1c4e258/75253    5.100000   \n",
       "...                                                     ...         ...   \n",
       "68566594  0x57f1887a8bf19b14fc0df6fd9b2acc9af147ea85/103...    0.004153   \n",
       "68566597    0xe6408dd80ee4d7596151ead35b37bdf84d2a3b0f/2287    0.165000   \n",
       "68566600     0xd896b402a848331e347909a03f286ce218706f43/573    0.005000   \n",
       "68566616     0x8f14778feb8cc049e227d01a2417a888dabb2abc/151    0.008000   \n",
       "68566618  0x57f1887a8bf19b14fc0df6fd9b2acc9af147ea85/166...    0.008306   \n",
       "\n",
       "          is_batch  \n",
       "2             True  \n",
       "4            False  \n",
       "5            False  \n",
       "8            False  \n",
       "15           False  \n",
       "...            ...  \n",
       "68566594      True  \n",
       "68566597     False  \n",
       "68566600     False  \n",
       "68566616     False  \n",
       "68566618      True  \n",
       "\n",
       "[11734149 rows x 6 columns]"
      ]
     },
     "execution_count": 32,
     "metadata": {},
     "output_type": "execute_result"
    }
   ],
   "source": [
    "sales"
   ]
  },
  {
   "cell_type": "code",
   "execution_count": 34,
   "id": "68f988e4",
   "metadata": {},
   "outputs": [
    {
     "data": {
      "text/plain": [
       "0.1710519316778805"
      ]
     },
     "execution_count": 34,
     "metadata": {},
     "output_type": "execute_result"
    }
   ],
   "source": [
    "sales.shape[0] / 68599921"
   ]
  },
  {
   "cell_type": "markdown",
   "id": "d0d4f56c",
   "metadata": {},
   "source": [
    "# NFT Sales Volume Analysis"
   ]
  },
  {
   "cell_type": "code",
   "execution_count": 35,
   "id": "30e7a413",
   "metadata": {},
   "outputs": [],
   "source": [
    "non_batch_sales = sales[sales.is_batch == False][['nft_id', 'value']]"
   ]
  },
  {
   "cell_type": "code",
   "execution_count": 36,
   "id": "9892a007",
   "metadata": {},
   "outputs": [
    {
     "data": {
      "text/html": [
       "<div>\n",
       "<style scoped>\n",
       "    .dataframe tbody tr th:only-of-type {\n",
       "        vertical-align: middle;\n",
       "    }\n",
       "\n",
       "    .dataframe tbody tr th {\n",
       "        vertical-align: top;\n",
       "    }\n",
       "\n",
       "    .dataframe thead th {\n",
       "        text-align: right;\n",
       "    }\n",
       "</style>\n",
       "<table border=\"1\" class=\"dataframe\">\n",
       "  <thead>\n",
       "    <tr style=\"text-align: right;\">\n",
       "      <th></th>\n",
       "      <th>nft_id</th>\n",
       "      <th>value</th>\n",
       "    </tr>\n",
       "  </thead>\n",
       "  <tbody>\n",
       "    <tr>\n",
       "      <th>4</th>\n",
       "      <td>0xd9b78a2f1dafc8bb9c60961790d2beefebee56f4/2792</td>\n",
       "      <td>0.310000</td>\n",
       "    </tr>\n",
       "    <tr>\n",
       "      <th>5</th>\n",
       "      <td>0xafe12842e3703a3cc3a71d9463389b1bf2c5bc1c/358</td>\n",
       "      <td>0.018000</td>\n",
       "    </tr>\n",
       "    <tr>\n",
       "      <th>8</th>\n",
       "      <td>0x34d85c9cdeb23fa97cb08333b511ac86e1c4e258/61</td>\n",
       "      <td>175.000000</td>\n",
       "    </tr>\n",
       "    <tr>\n",
       "      <th>15</th>\n",
       "      <td>0x34d85c9cdeb23fa97cb08333b511ac86e1c4e258/75253</td>\n",
       "      <td>5.100000</td>\n",
       "    </tr>\n",
       "    <tr>\n",
       "      <th>59</th>\n",
       "      <td>0x07ce5d64b7b845c8ff645e9a3825f94e6bdd82f1/2974</td>\n",
       "      <td>0.399999</td>\n",
       "    </tr>\n",
       "    <tr>\n",
       "      <th>...</th>\n",
       "      <td>...</td>\n",
       "      <td>...</td>\n",
       "    </tr>\n",
       "    <tr>\n",
       "      <th>68566578</th>\n",
       "      <td>0xefed2a58cc6a5b81f9158b231847f005cf086c01/253</td>\n",
       "      <td>2.700000</td>\n",
       "    </tr>\n",
       "    <tr>\n",
       "      <th>68566586</th>\n",
       "      <td>0xbaf13560f86d65e7a3b982bfc8838791cbc8f3af/469</td>\n",
       "      <td>0.240000</td>\n",
       "    </tr>\n",
       "    <tr>\n",
       "      <th>68566597</th>\n",
       "      <td>0xe6408dd80ee4d7596151ead35b37bdf84d2a3b0f/2287</td>\n",
       "      <td>0.165000</td>\n",
       "    </tr>\n",
       "    <tr>\n",
       "      <th>68566600</th>\n",
       "      <td>0xd896b402a848331e347909a03f286ce218706f43/573</td>\n",
       "      <td>0.005000</td>\n",
       "    </tr>\n",
       "    <tr>\n",
       "      <th>68566616</th>\n",
       "      <td>0x8f14778feb8cc049e227d01a2417a888dabb2abc/151</td>\n",
       "      <td>0.008000</td>\n",
       "    </tr>\n",
       "  </tbody>\n",
       "</table>\n",
       "<p>5767171 rows × 2 columns</p>\n",
       "</div>"
      ],
      "text/plain": [
       "                                                    nft_id       value\n",
       "4          0xd9b78a2f1dafc8bb9c60961790d2beefebee56f4/2792    0.310000\n",
       "5           0xafe12842e3703a3cc3a71d9463389b1bf2c5bc1c/358    0.018000\n",
       "8            0x34d85c9cdeb23fa97cb08333b511ac86e1c4e258/61  175.000000\n",
       "15        0x34d85c9cdeb23fa97cb08333b511ac86e1c4e258/75253    5.100000\n",
       "59         0x07ce5d64b7b845c8ff645e9a3825f94e6bdd82f1/2974    0.399999\n",
       "...                                                    ...         ...\n",
       "68566578    0xefed2a58cc6a5b81f9158b231847f005cf086c01/253    2.700000\n",
       "68566586    0xbaf13560f86d65e7a3b982bfc8838791cbc8f3af/469    0.240000\n",
       "68566597   0xe6408dd80ee4d7596151ead35b37bdf84d2a3b0f/2287    0.165000\n",
       "68566600    0xd896b402a848331e347909a03f286ce218706f43/573    0.005000\n",
       "68566616    0x8f14778feb8cc049e227d01a2417a888dabb2abc/151    0.008000\n",
       "\n",
       "[5767171 rows x 2 columns]"
      ]
     },
     "execution_count": 36,
     "metadata": {},
     "output_type": "execute_result"
    }
   ],
   "source": [
    "non_batch_sales"
   ]
  },
  {
   "cell_type": "code",
   "execution_count": 37,
   "id": "ee73abe0",
   "metadata": {},
   "outputs": [
    {
     "data": {
      "text/plain": [
       "0.4914860890210274"
      ]
     },
     "execution_count": 37,
     "metadata": {},
     "output_type": "execute_result"
    }
   ],
   "source": [
    "non_batch_sales.shape[0] / sales.shape[0]"
   ]
  },
  {
   "cell_type": "code",
   "execution_count": 38,
   "id": "829196df",
   "metadata": {},
   "outputs": [],
   "source": [
    "total_sales_volume = non_batch_sales.groupby('nft_id').sum().rename(columns={'value': 'total_sales_volume'})"
   ]
  },
  {
   "cell_type": "code",
   "execution_count": 39,
   "id": "9710b512",
   "metadata": {},
   "outputs": [
    {
     "data": {
      "text/html": [
       "<div>\n",
       "<style scoped>\n",
       "    .dataframe tbody tr th:only-of-type {\n",
       "        vertical-align: middle;\n",
       "    }\n",
       "\n",
       "    .dataframe tbody tr th {\n",
       "        vertical-align: top;\n",
       "    }\n",
       "\n",
       "    .dataframe thead th {\n",
       "        text-align: right;\n",
       "    }\n",
       "</style>\n",
       "<table border=\"1\" class=\"dataframe\">\n",
       "  <thead>\n",
       "    <tr style=\"text-align: right;\">\n",
       "      <th></th>\n",
       "      <th>total_sales_volume</th>\n",
       "    </tr>\n",
       "    <tr>\n",
       "      <th>nft_id</th>\n",
       "      <th></th>\n",
       "    </tr>\n",
       "  </thead>\n",
       "  <tbody>\n",
       "    <tr>\n",
       "      <th>0x00000000001ba87a34f0d3224286643b36646d81/1002</th>\n",
       "      <td>0.015000</td>\n",
       "    </tr>\n",
       "    <tr>\n",
       "      <th>0x00000000001ba87a34f0d3224286643b36646d81/1007</th>\n",
       "      <td>0.008000</td>\n",
       "    </tr>\n",
       "    <tr>\n",
       "      <th>0x00000000001ba87a34f0d3224286643b36646d81/1008</th>\n",
       "      <td>0.008000</td>\n",
       "    </tr>\n",
       "    <tr>\n",
       "      <th>0x00000000001ba87a34f0d3224286643b36646d81/1012</th>\n",
       "      <td>0.016500</td>\n",
       "    </tr>\n",
       "    <tr>\n",
       "      <th>0x00000000001ba87a34f0d3224286643b36646d81/1013</th>\n",
       "      <td>0.005790</td>\n",
       "    </tr>\n",
       "    <tr>\n",
       "      <th>...</th>\n",
       "      <td>...</td>\n",
       "    </tr>\n",
       "    <tr>\n",
       "      <th>0xffed35bc5fb514098df353840e4eda01c4c7c776/996</th>\n",
       "      <td>0.025000</td>\n",
       "    </tr>\n",
       "    <tr>\n",
       "      <th>0xffed35bc5fb514098df353840e4eda01c4c7c776/997</th>\n",
       "      <td>0.035900</td>\n",
       "    </tr>\n",
       "    <tr>\n",
       "      <th>0xfff46beea0dca55cc6bf39ec48e559160191093e/1000</th>\n",
       "      <td>0.002000</td>\n",
       "    </tr>\n",
       "    <tr>\n",
       "      <th>0xfff46beea0dca55cc6bf39ec48e559160191093e/3234</th>\n",
       "      <td>0.000001</td>\n",
       "    </tr>\n",
       "    <tr>\n",
       "      <th>0xfff46beea0dca55cc6bf39ec48e559160191093e/573</th>\n",
       "      <td>0.000120</td>\n",
       "    </tr>\n",
       "  </tbody>\n",
       "</table>\n",
       "<p>4267995 rows × 1 columns</p>\n",
       "</div>"
      ],
      "text/plain": [
       "                                                 total_sales_volume\n",
       "nft_id                                                             \n",
       "0x00000000001ba87a34f0d3224286643b36646d81/1002            0.015000\n",
       "0x00000000001ba87a34f0d3224286643b36646d81/1007            0.008000\n",
       "0x00000000001ba87a34f0d3224286643b36646d81/1008            0.008000\n",
       "0x00000000001ba87a34f0d3224286643b36646d81/1012            0.016500\n",
       "0x00000000001ba87a34f0d3224286643b36646d81/1013            0.005790\n",
       "...                                                             ...\n",
       "0xffed35bc5fb514098df353840e4eda01c4c7c776/996             0.025000\n",
       "0xffed35bc5fb514098df353840e4eda01c4c7c776/997             0.035900\n",
       "0xfff46beea0dca55cc6bf39ec48e559160191093e/1000            0.002000\n",
       "0xfff46beea0dca55cc6bf39ec48e559160191093e/3234            0.000001\n",
       "0xfff46beea0dca55cc6bf39ec48e559160191093e/573             0.000120\n",
       "\n",
       "[4267995 rows x 1 columns]"
      ]
     },
     "execution_count": 39,
     "metadata": {},
     "output_type": "execute_result"
    }
   ],
   "source": [
    "total_sales_volume"
   ]
  },
  {
   "cell_type": "code",
   "execution_count": 40,
   "id": "49299f67",
   "metadata": {},
   "outputs": [
    {
     "data": {
      "text/html": [
       "<div>\n",
       "<style scoped>\n",
       "    .dataframe tbody tr th:only-of-type {\n",
       "        vertical-align: middle;\n",
       "    }\n",
       "\n",
       "    .dataframe tbody tr th {\n",
       "        vertical-align: top;\n",
       "    }\n",
       "\n",
       "    .dataframe thead th {\n",
       "        text-align: right;\n",
       "    }\n",
       "</style>\n",
       "<table border=\"1\" class=\"dataframe\">\n",
       "  <thead>\n",
       "    <tr style=\"text-align: right;\">\n",
       "      <th></th>\n",
       "      <th>count</th>\n",
       "      <th>mean</th>\n",
       "      <th>std</th>\n",
       "      <th>min</th>\n",
       "      <th>25%</th>\n",
       "      <th>50%</th>\n",
       "      <th>75%</th>\n",
       "      <th>max</th>\n",
       "    </tr>\n",
       "  </thead>\n",
       "  <tbody>\n",
       "    <tr>\n",
       "      <th>total_sales_volume</th>\n",
       "      <td>4267995.0</td>\n",
       "      <td>0.878374</td>\n",
       "      <td>346.976687</td>\n",
       "      <td>1.000000e-18</td>\n",
       "      <td>0.012889</td>\n",
       "      <td>0.0499</td>\n",
       "      <td>0.18</td>\n",
       "      <td>628496.607033</td>\n",
       "    </tr>\n",
       "  </tbody>\n",
       "</table>\n",
       "</div>"
      ],
      "text/plain": [
       "                        count      mean         std           min       25%  \\\n",
       "total_sales_volume  4267995.0  0.878374  346.976687  1.000000e-18  0.012889   \n",
       "\n",
       "                       50%   75%            max  \n",
       "total_sales_volume  0.0499  0.18  628496.607033  "
      ]
     },
     "execution_count": 40,
     "metadata": {},
     "output_type": "execute_result"
    }
   ],
   "source": [
    "total_sales_volume.describe().transpose()"
   ]
  },
  {
   "cell_type": "markdown",
   "id": "9c8fc724",
   "metadata": {},
   "source": [
    "# Unique Buyer Count Analysis"
   ]
  },
  {
   "cell_type": "code",
   "execution_count": 41,
   "id": "954282d4",
   "metadata": {},
   "outputs": [],
   "source": [
    "num_unique_buyers = sales[['nft_id', 'buyer']]\\\n",
    "                        .groupby('nft_id')\\\n",
    "                        .nunique('buyer')\\\n",
    "                        .rename(columns={'buyer': 'num_unique_buyers'})"
   ]
  },
  {
   "cell_type": "code",
   "execution_count": 42,
   "id": "411256d9",
   "metadata": {},
   "outputs": [
    {
     "data": {
      "text/html": [
       "<div>\n",
       "<style scoped>\n",
       "    .dataframe tbody tr th:only-of-type {\n",
       "        vertical-align: middle;\n",
       "    }\n",
       "\n",
       "    .dataframe tbody tr th {\n",
       "        vertical-align: top;\n",
       "    }\n",
       "\n",
       "    .dataframe thead th {\n",
       "        text-align: right;\n",
       "    }\n",
       "</style>\n",
       "<table border=\"1\" class=\"dataframe\">\n",
       "  <thead>\n",
       "    <tr style=\"text-align: right;\">\n",
       "      <th></th>\n",
       "      <th>num_unique_buyers</th>\n",
       "    </tr>\n",
       "    <tr>\n",
       "      <th>nft_id</th>\n",
       "      <th></th>\n",
       "    </tr>\n",
       "  </thead>\n",
       "  <tbody>\n",
       "    <tr>\n",
       "      <th>0x00000000001ba87a34f0d3224286643b36646d81/1002</th>\n",
       "      <td>1</td>\n",
       "    </tr>\n",
       "    <tr>\n",
       "      <th>0x00000000001ba87a34f0d3224286643b36646d81/1003</th>\n",
       "      <td>1</td>\n",
       "    </tr>\n",
       "    <tr>\n",
       "      <th>0x00000000001ba87a34f0d3224286643b36646d81/1007</th>\n",
       "      <td>5</td>\n",
       "    </tr>\n",
       "    <tr>\n",
       "      <th>0x00000000001ba87a34f0d3224286643b36646d81/1008</th>\n",
       "      <td>2</td>\n",
       "    </tr>\n",
       "    <tr>\n",
       "      <th>0x00000000001ba87a34f0d3224286643b36646d81/1009</th>\n",
       "      <td>1</td>\n",
       "    </tr>\n",
       "    <tr>\n",
       "      <th>...</th>\n",
       "      <td>...</td>\n",
       "    </tr>\n",
       "    <tr>\n",
       "      <th>0xffed35bc5fb514098df353840e4eda01c4c7c776/996</th>\n",
       "      <td>1</td>\n",
       "    </tr>\n",
       "    <tr>\n",
       "      <th>0xffed35bc5fb514098df353840e4eda01c4c7c776/997</th>\n",
       "      <td>1</td>\n",
       "    </tr>\n",
       "    <tr>\n",
       "      <th>0xfff46beea0dca55cc6bf39ec48e559160191093e/1000</th>\n",
       "      <td>1</td>\n",
       "    </tr>\n",
       "    <tr>\n",
       "      <th>0xfff46beea0dca55cc6bf39ec48e559160191093e/3234</th>\n",
       "      <td>1</td>\n",
       "    </tr>\n",
       "    <tr>\n",
       "      <th>0xfff46beea0dca55cc6bf39ec48e559160191093e/573</th>\n",
       "      <td>1</td>\n",
       "    </tr>\n",
       "  </tbody>\n",
       "</table>\n",
       "<p>7717484 rows × 1 columns</p>\n",
       "</div>"
      ],
      "text/plain": [
       "                                                 num_unique_buyers\n",
       "nft_id                                                            \n",
       "0x00000000001ba87a34f0d3224286643b36646d81/1002                  1\n",
       "0x00000000001ba87a34f0d3224286643b36646d81/1003                  1\n",
       "0x00000000001ba87a34f0d3224286643b36646d81/1007                  5\n",
       "0x00000000001ba87a34f0d3224286643b36646d81/1008                  2\n",
       "0x00000000001ba87a34f0d3224286643b36646d81/1009                  1\n",
       "...                                                            ...\n",
       "0xffed35bc5fb514098df353840e4eda01c4c7c776/996                   1\n",
       "0xffed35bc5fb514098df353840e4eda01c4c7c776/997                   1\n",
       "0xfff46beea0dca55cc6bf39ec48e559160191093e/1000                  1\n",
       "0xfff46beea0dca55cc6bf39ec48e559160191093e/3234                  1\n",
       "0xfff46beea0dca55cc6bf39ec48e559160191093e/573                   1\n",
       "\n",
       "[7717484 rows x 1 columns]"
      ]
     },
     "execution_count": 42,
     "metadata": {},
     "output_type": "execute_result"
    }
   ],
   "source": [
    "num_unique_buyers"
   ]
  },
  {
   "cell_type": "code",
   "execution_count": 43,
   "id": "d35fcccc",
   "metadata": {},
   "outputs": [
    {
     "data": {
      "text/html": [
       "<div>\n",
       "<style scoped>\n",
       "    .dataframe tbody tr th:only-of-type {\n",
       "        vertical-align: middle;\n",
       "    }\n",
       "\n",
       "    .dataframe tbody tr th {\n",
       "        vertical-align: top;\n",
       "    }\n",
       "\n",
       "    .dataframe thead th {\n",
       "        text-align: right;\n",
       "    }\n",
       "</style>\n",
       "<table border=\"1\" class=\"dataframe\">\n",
       "  <thead>\n",
       "    <tr style=\"text-align: right;\">\n",
       "      <th></th>\n",
       "      <th>count</th>\n",
       "      <th>mean</th>\n",
       "      <th>std</th>\n",
       "      <th>min</th>\n",
       "      <th>25%</th>\n",
       "      <th>50%</th>\n",
       "      <th>75%</th>\n",
       "      <th>max</th>\n",
       "    </tr>\n",
       "  </thead>\n",
       "  <tbody>\n",
       "    <tr>\n",
       "      <th>num_unique_buyers</th>\n",
       "      <td>7717484.0</td>\n",
       "      <td>1.504217</td>\n",
       "      <td>1.04479</td>\n",
       "      <td>1.0</td>\n",
       "      <td>1.0</td>\n",
       "      <td>1.0</td>\n",
       "      <td>2.0</td>\n",
       "      <td>179.0</td>\n",
       "    </tr>\n",
       "  </tbody>\n",
       "</table>\n",
       "</div>"
      ],
      "text/plain": [
       "                       count      mean      std  min  25%  50%  75%    max\n",
       "num_unique_buyers  7717484.0  1.504217  1.04479  1.0  1.0  1.0  2.0  179.0"
      ]
     },
     "execution_count": 43,
     "metadata": {},
     "output_type": "execute_result"
    }
   ],
   "source": [
    "num_unique_buyers.describe().transpose()"
   ]
  },
  {
   "cell_type": "code",
   "execution_count": 44,
   "id": "7483ba00",
   "metadata": {},
   "outputs": [],
   "source": [
    "over_two_unique_buyers = num_unique_buyers[num_unique_buyers.num_unique_buyers > 2].index"
   ]
  },
  {
   "cell_type": "code",
   "execution_count": 45,
   "id": "da8bdd92",
   "metadata": {},
   "outputs": [
    {
     "data": {
      "text/plain": [
       "0.30051817136462133"
      ]
     },
     "execution_count": 45,
     "metadata": {},
     "output_type": "execute_result"
    }
   ],
   "source": [
    "sales[sales.nft_id.isin(over_two_unique_buyers)].shape[0] / sales.shape[0]"
   ]
  },
  {
   "cell_type": "code",
   "execution_count": 46,
   "id": "bdceeaf3",
   "metadata": {},
   "outputs": [
    {
     "data": {
      "text/html": [
       "<div>\n",
       "<style scoped>\n",
       "    .dataframe tbody tr th:only-of-type {\n",
       "        vertical-align: middle;\n",
       "    }\n",
       "\n",
       "    .dataframe tbody tr th {\n",
       "        vertical-align: top;\n",
       "    }\n",
       "\n",
       "    .dataframe thead th {\n",
       "        text-align: right;\n",
       "    }\n",
       "</style>\n",
       "<table border=\"1\" class=\"dataframe\">\n",
       "  <thead>\n",
       "    <tr style=\"text-align: right;\">\n",
       "      <th></th>\n",
       "      <th>count</th>\n",
       "      <th>mean</th>\n",
       "      <th>std</th>\n",
       "      <th>min</th>\n",
       "      <th>25%</th>\n",
       "      <th>50%</th>\n",
       "      <th>75%</th>\n",
       "      <th>max</th>\n",
       "    </tr>\n",
       "  </thead>\n",
       "  <tbody>\n",
       "    <tr>\n",
       "      <th>total_sales_volume</th>\n",
       "      <td>738315.0</td>\n",
       "      <td>1.975225</td>\n",
       "      <td>388.031741</td>\n",
       "      <td>1.000000e-18</td>\n",
       "      <td>0.0385</td>\n",
       "      <td>0.1245</td>\n",
       "      <td>0.41</td>\n",
       "      <td>257679.0</td>\n",
       "    </tr>\n",
       "  </tbody>\n",
       "</table>\n",
       "</div>"
      ],
      "text/plain": [
       "                       count      mean         std           min     25%  \\\n",
       "total_sales_volume  738315.0  1.975225  388.031741  1.000000e-18  0.0385   \n",
       "\n",
       "                       50%   75%       max  \n",
       "total_sales_volume  0.1245  0.41  257679.0  "
      ]
     },
     "execution_count": 46,
     "metadata": {},
     "output_type": "execute_result"
    }
   ],
   "source": [
    "total_sales_volume[total_sales_volume.index.isin(over_two_unique_buyers)].describe().transpose()"
   ]
  },
  {
   "cell_type": "markdown",
   "id": "a5c01a75",
   "metadata": {},
   "source": [
    "# Filters"
   ]
  },
  {
   "cell_type": "code",
   "execution_count": 47,
   "id": "0d02383e",
   "metadata": {},
   "outputs": [
    {
     "data": {
      "text/plain": [
       "11734149"
      ]
     },
     "execution_count": 47,
     "metadata": {},
     "output_type": "execute_result"
    }
   ],
   "source": [
    "sales.shape[0]"
   ]
  },
  {
   "cell_type": "markdown",
   "id": "cea3731c",
   "metadata": {},
   "source": [
    "## Filter by The Number of Unique Buyers"
   ]
  },
  {
   "cell_type": "code",
   "execution_count": 48,
   "id": "37806dc0",
   "metadata": {},
   "outputs": [],
   "source": [
    "reco_sales = sales[sales.nft_id.isin(over_two_unique_buyers)]"
   ]
  },
  {
   "cell_type": "code",
   "execution_count": 49,
   "id": "ae35860e",
   "metadata": {},
   "outputs": [
    {
     "data": {
      "text/plain": [
       "3526325"
      ]
     },
     "execution_count": 49,
     "metadata": {},
     "output_type": "execute_result"
    }
   ],
   "source": [
    "reco_sales.shape[0]"
   ]
  },
  {
   "cell_type": "markdown",
   "id": "a1ca0be2",
   "metadata": {},
   "source": [
    "## Filter ENS"
   ]
  },
  {
   "cell_type": "code",
   "execution_count": 50,
   "id": "441364a1",
   "metadata": {},
   "outputs": [],
   "source": [
    "reco_sales = reco_sales[reco_sales.collection_id != ens]"
   ]
  },
  {
   "cell_type": "code",
   "execution_count": 51,
   "id": "220ebc75",
   "metadata": {},
   "outputs": [
    {
     "data": {
      "text/plain": [
       "3419350"
      ]
     },
     "execution_count": 51,
     "metadata": {},
     "output_type": "execute_result"
    }
   ],
   "source": [
    "reco_sales.shape[0]"
   ]
  },
  {
   "cell_type": "markdown",
   "id": "8eddb23b",
   "metadata": {},
   "source": [
    "## Filter Memory"
   ]
  },
  {
   "cell_type": "code",
   "execution_count": 52,
   "id": "da74afb0",
   "metadata": {},
   "outputs": [],
   "source": [
    "reco_sales = reco_sales[reco_sales.collection_id != memory]"
   ]
  },
  {
   "cell_type": "code",
   "execution_count": 53,
   "id": "f06fb968",
   "metadata": {},
   "outputs": [
    {
     "data": {
      "text/plain": [
       "3417432"
      ]
     },
     "execution_count": 53,
     "metadata": {},
     "output_type": "execute_result"
    }
   ],
   "source": [
    "reco_sales.shape[0]"
   ]
  },
  {
   "cell_type": "markdown",
   "id": "0bdf3f3a",
   "metadata": {},
   "source": [
    "# Be One With the New Data"
   ]
  },
  {
   "cell_type": "code",
   "execution_count": 54,
   "id": "97b57649",
   "metadata": {},
   "outputs": [
    {
     "data": {
      "text/html": [
       "<div>\n",
       "<style scoped>\n",
       "    .dataframe tbody tr th:only-of-type {\n",
       "        vertical-align: middle;\n",
       "    }\n",
       "\n",
       "    .dataframe tbody tr th {\n",
       "        vertical-align: top;\n",
       "    }\n",
       "\n",
       "    .dataframe thead th {\n",
       "        text-align: right;\n",
       "    }\n",
       "</style>\n",
       "<table border=\"1\" class=\"dataframe\">\n",
       "  <thead>\n",
       "    <tr style=\"text-align: right;\">\n",
       "      <th></th>\n",
       "      <th>seller</th>\n",
       "      <th>buyer</th>\n",
       "      <th>collection_id</th>\n",
       "      <th>nft_id</th>\n",
       "      <th>value</th>\n",
       "      <th>is_batch</th>\n",
       "    </tr>\n",
       "  </thead>\n",
       "  <tbody>\n",
       "    <tr>\n",
       "      <th>68</th>\n",
       "      <td>0x29202c949515577473a4281f34bed68f4bea5d13</td>\n",
       "      <td>0x18428cc069255af80edc7f27e1e78e47922483df</td>\n",
       "      <td>0xc7457f480416e145093edb355f626faa0fc7f90e</td>\n",
       "      <td>0xc7457f480416e145093edb355f626faa0fc7f90e/2145</td>\n",
       "      <td>0.270000</td>\n",
       "      <td>False</td>\n",
       "    </tr>\n",
       "    <tr>\n",
       "      <th>122</th>\n",
       "      <td>0xa87b68c3bcbb3f5eee1c1500ea271d321d29dfb4</td>\n",
       "      <td>0xe201a7e6e785513fc7777ec5e6d311bffe257b26</td>\n",
       "      <td>0xc7457f480416e145093edb355f626faa0fc7f90e</td>\n",
       "      <td>0xc7457f480416e145093edb355f626faa0fc7f90e/2116</td>\n",
       "      <td>0.292000</td>\n",
       "      <td>False</td>\n",
       "    </tr>\n",
       "    <tr>\n",
       "      <th>165</th>\n",
       "      <td>0xb284f19ffa703daadf6745d3c655f309d17370a5</td>\n",
       "      <td>0xc8fbd2100a95d0649223416ecd8e8551514c8b25</td>\n",
       "      <td>0x34d85c9cdeb23fa97cb08333b511ac86e1c4e258</td>\n",
       "      <td>0x34d85c9cdeb23fa97cb08333b511ac86e1c4e258/91445</td>\n",
       "      <td>4.869000</td>\n",
       "      <td>False</td>\n",
       "    </tr>\n",
       "    <tr>\n",
       "      <th>250</th>\n",
       "      <td>0xf0b145a02139f91f998d093f2a12b9ecf2ef5405</td>\n",
       "      <td>0x74132ebf4b4826d1b596ab6f803d1a31667aff58</td>\n",
       "      <td>0x34d85c9cdeb23fa97cb08333b511ac86e1c4e258</td>\n",
       "      <td>0x34d85c9cdeb23fa97cb08333b511ac86e1c4e258/56375</td>\n",
       "      <td>6.990000</td>\n",
       "      <td>False</td>\n",
       "    </tr>\n",
       "    <tr>\n",
       "      <th>253</th>\n",
       "      <td>0x3b2a887ca2d31795f664cf34db66b6e5f80144ba</td>\n",
       "      <td>0xb029eef1f5505764d0df1750f55612958547de57</td>\n",
       "      <td>0x34d85c9cdeb23fa97cb08333b511ac86e1c4e258</td>\n",
       "      <td>0x34d85c9cdeb23fa97cb08333b511ac86e1c4e258/70494</td>\n",
       "      <td>5.449000</td>\n",
       "      <td>False</td>\n",
       "    </tr>\n",
       "    <tr>\n",
       "      <th>...</th>\n",
       "      <td>...</td>\n",
       "      <td>...</td>\n",
       "      <td>...</td>\n",
       "      <td>...</td>\n",
       "      <td>...</td>\n",
       "      <td>...</td>\n",
       "    </tr>\n",
       "    <tr>\n",
       "      <th>68566549</th>\n",
       "      <td>0x3f2f83260199d4259f2bd9b9b44cd5fc53d452a5</td>\n",
       "      <td>0xf6706b26278e1f1ed30d23bc20cf73f6b2fb829d</td>\n",
       "      <td>0x9c094b49a2811ba92950212c98b27c600c02758f</td>\n",
       "      <td>0x9c094b49a2811ba92950212c98b27c600c02758f/800</td>\n",
       "      <td>0.010690</td>\n",
       "      <td>False</td>\n",
       "    </tr>\n",
       "    <tr>\n",
       "      <th>68566551</th>\n",
       "      <td>0xc48b1613f2f691639652ff4e57e8bb4bd501345c</td>\n",
       "      <td>0x59406ad8326d539c2d9f39e1d37f2434b4c364bf</td>\n",
       "      <td>0xbe82b9533ddf0acaddcaa6af38830ff4b919482c</td>\n",
       "      <td>0xbe82b9533ddf0acaddcaa6af38830ff4b919482c/9509</td>\n",
       "      <td>0.005100</td>\n",
       "      <td>False</td>\n",
       "    </tr>\n",
       "    <tr>\n",
       "      <th>68566564</th>\n",
       "      <td>0x0c76a5a49fee0ff7decb8fd921ce7534b028a3ec</td>\n",
       "      <td>0x62a99e0a7fa8d5c09622104e75299897807e14e3</td>\n",
       "      <td>0x02beed1404c69e62b76af6dbdae41bd98bca2eab</td>\n",
       "      <td>0x02beed1404c69e62b76af6dbdae41bd98bca2eab/2850</td>\n",
       "      <td>0.149999</td>\n",
       "      <td>False</td>\n",
       "    </tr>\n",
       "    <tr>\n",
       "      <th>68566565</th>\n",
       "      <td>0xd489e21aa26c56d344764605b7675918ff6d68e5</td>\n",
       "      <td>0xf1c745b6b47d634097c78722be6a8e507f4968f3</td>\n",
       "      <td>0xe17827609ac34443b3987661f4e037642f6bd9ba</td>\n",
       "      <td>0xe17827609ac34443b3987661f4e037642f6bd9ba/6126</td>\n",
       "      <td>0.057900</td>\n",
       "      <td>False</td>\n",
       "    </tr>\n",
       "    <tr>\n",
       "      <th>68566586</th>\n",
       "      <td>0x6eef09b526d883f98762a7005fabd2c800dfca44</td>\n",
       "      <td>0x09f7f588a6116959638257218abd2e98f8991872</td>\n",
       "      <td>0xbaf13560f86d65e7a3b982bfc8838791cbc8f3af</td>\n",
       "      <td>0xbaf13560f86d65e7a3b982bfc8838791cbc8f3af/469</td>\n",
       "      <td>0.240000</td>\n",
       "      <td>False</td>\n",
       "    </tr>\n",
       "  </tbody>\n",
       "</table>\n",
       "<p>3417432 rows × 6 columns</p>\n",
       "</div>"
      ],
      "text/plain": [
       "                                              seller  \\\n",
       "68        0x29202c949515577473a4281f34bed68f4bea5d13   \n",
       "122       0xa87b68c3bcbb3f5eee1c1500ea271d321d29dfb4   \n",
       "165       0xb284f19ffa703daadf6745d3c655f309d17370a5   \n",
       "250       0xf0b145a02139f91f998d093f2a12b9ecf2ef5405   \n",
       "253       0x3b2a887ca2d31795f664cf34db66b6e5f80144ba   \n",
       "...                                              ...   \n",
       "68566549  0x3f2f83260199d4259f2bd9b9b44cd5fc53d452a5   \n",
       "68566551  0xc48b1613f2f691639652ff4e57e8bb4bd501345c   \n",
       "68566564  0x0c76a5a49fee0ff7decb8fd921ce7534b028a3ec   \n",
       "68566565  0xd489e21aa26c56d344764605b7675918ff6d68e5   \n",
       "68566586  0x6eef09b526d883f98762a7005fabd2c800dfca44   \n",
       "\n",
       "                                               buyer  \\\n",
       "68        0x18428cc069255af80edc7f27e1e78e47922483df   \n",
       "122       0xe201a7e6e785513fc7777ec5e6d311bffe257b26   \n",
       "165       0xc8fbd2100a95d0649223416ecd8e8551514c8b25   \n",
       "250       0x74132ebf4b4826d1b596ab6f803d1a31667aff58   \n",
       "253       0xb029eef1f5505764d0df1750f55612958547de57   \n",
       "...                                              ...   \n",
       "68566549  0xf6706b26278e1f1ed30d23bc20cf73f6b2fb829d   \n",
       "68566551  0x59406ad8326d539c2d9f39e1d37f2434b4c364bf   \n",
       "68566564  0x62a99e0a7fa8d5c09622104e75299897807e14e3   \n",
       "68566565  0xf1c745b6b47d634097c78722be6a8e507f4968f3   \n",
       "68566586  0x09f7f588a6116959638257218abd2e98f8991872   \n",
       "\n",
       "                                       collection_id  \\\n",
       "68        0xc7457f480416e145093edb355f626faa0fc7f90e   \n",
       "122       0xc7457f480416e145093edb355f626faa0fc7f90e   \n",
       "165       0x34d85c9cdeb23fa97cb08333b511ac86e1c4e258   \n",
       "250       0x34d85c9cdeb23fa97cb08333b511ac86e1c4e258   \n",
       "253       0x34d85c9cdeb23fa97cb08333b511ac86e1c4e258   \n",
       "...                                              ...   \n",
       "68566549  0x9c094b49a2811ba92950212c98b27c600c02758f   \n",
       "68566551  0xbe82b9533ddf0acaddcaa6af38830ff4b919482c   \n",
       "68566564  0x02beed1404c69e62b76af6dbdae41bd98bca2eab   \n",
       "68566565  0xe17827609ac34443b3987661f4e037642f6bd9ba   \n",
       "68566586  0xbaf13560f86d65e7a3b982bfc8838791cbc8f3af   \n",
       "\n",
       "                                                    nft_id     value  is_batch  \n",
       "68         0xc7457f480416e145093edb355f626faa0fc7f90e/2145  0.270000     False  \n",
       "122        0xc7457f480416e145093edb355f626faa0fc7f90e/2116  0.292000     False  \n",
       "165       0x34d85c9cdeb23fa97cb08333b511ac86e1c4e258/91445  4.869000     False  \n",
       "250       0x34d85c9cdeb23fa97cb08333b511ac86e1c4e258/56375  6.990000     False  \n",
       "253       0x34d85c9cdeb23fa97cb08333b511ac86e1c4e258/70494  5.449000     False  \n",
       "...                                                    ...       ...       ...  \n",
       "68566549    0x9c094b49a2811ba92950212c98b27c600c02758f/800  0.010690     False  \n",
       "68566551   0xbe82b9533ddf0acaddcaa6af38830ff4b919482c/9509  0.005100     False  \n",
       "68566564   0x02beed1404c69e62b76af6dbdae41bd98bca2eab/2850  0.149999     False  \n",
       "68566565   0xe17827609ac34443b3987661f4e037642f6bd9ba/6126  0.057900     False  \n",
       "68566586    0xbaf13560f86d65e7a3b982bfc8838791cbc8f3af/469  0.240000     False  \n",
       "\n",
       "[3417432 rows x 6 columns]"
      ]
     },
     "execution_count": 54,
     "metadata": {},
     "output_type": "execute_result"
    }
   ],
   "source": [
    "reco_sales"
   ]
  },
  {
   "cell_type": "code",
   "execution_count": 56,
   "id": "dddb4afc",
   "metadata": {},
   "outputs": [
    {
     "data": {
      "text/plain": [
       "327177"
      ]
     },
     "execution_count": 56,
     "metadata": {},
     "output_type": "execute_result"
    }
   ],
   "source": [
    "reco_sales.buyer.nunique()"
   ]
  },
  {
   "cell_type": "code",
   "execution_count": 57,
   "id": "2f5ec215",
   "metadata": {},
   "outputs": [
    {
     "data": {
      "text/plain": [
       "878882"
      ]
     },
     "execution_count": 57,
     "metadata": {},
     "output_type": "execute_result"
    }
   ],
   "source": [
    "reco_sales.nft_id.nunique()"
   ]
  },
  {
   "cell_type": "code",
   "execution_count": 58,
   "id": "12c0c6c0",
   "metadata": {},
   "outputs": [
    {
     "data": {
      "text/plain": [
       "5261"
      ]
     },
     "execution_count": 58,
     "metadata": {},
     "output_type": "execute_result"
    }
   ],
   "source": [
    "reco_sales.collection_id.nunique()"
   ]
  },
  {
   "cell_type": "markdown",
   "id": "4c1a724a",
   "metadata": {},
   "source": [
    "# Save CSV File"
   ]
  },
  {
   "cell_type": "code",
   "execution_count": 59,
   "id": "7166d7f5",
   "metadata": {},
   "outputs": [],
   "source": [
    "reco_sales.to_csv(f'{local_path}/reco_sales.csv')"
   ]
  },
  {
   "cell_type": "markdown",
   "id": "b252ec5e",
   "metadata": {},
   "source": [
    "# Item Collaborative Filtering (CF)\n",
    "\n",
    "We calculate each NFT pair scores by their common buyers. As the first step, we only take the purchase transaction into account but ignore everything else, such as price, date and so on. We can consider them later.\n",
    "\n",
    "Thus, the algorithm can be summarized as follows. For item $i$ and $j$, let's denote the number of their common buyers as $N_{ij}$, and the number of buyers for item $i$ as $N_i$, and for item $j$ as $N_j$. Then, the item CF score for items $i$ and $j$ can be calculated by\n",
    "\n",
    "$$CF(i, j) = \\frac{N_{ij}}{\\sqrt{N_i} \\cdot \\sqrt{N_j}}$$\n",
    "\n",
    "which is essentially the cosine value between two vectors, the user purchase vector for item $i$ and for item $j$."
   ]
  },
  {
   "cell_type": "code",
   "execution_count": 3,
   "id": "9a685063",
   "metadata": {},
   "outputs": [],
   "source": [
    "local_path = \"/Users/keonyonglee/Projects/nimble/nft-recommendation-data-analysis-data/nft-token-transfers\"\n",
    "reco_sales = pd.read_csv(f'{local_path}/reco_sales.csv')"
   ]
  },
  {
   "cell_type": "markdown",
   "id": "3bb29d17",
   "metadata": {},
   "source": [
    "## Get Binary Matrix"
   ]
  },
  {
   "cell_type": "code",
   "execution_count": 4,
   "id": "149a4f3c",
   "metadata": {},
   "outputs": [
    {
     "name": "stdout",
     "output_type": "stream",
     "text": [
      "number of buyers 327177\n",
      "number of nft 878882\n"
     ]
    }
   ],
   "source": [
    "buyers = reco_sales['buyer'].unique()\n",
    "nfts = reco_sales['nft_id'].unique()\n",
    "num_buyers = len(buyers)\n",
    "num_nfts = len(nfts)\n",
    "print('number of buyers', num_buyers)\n",
    "print('number of nft', num_nfts)"
   ]
  },
  {
   "cell_type": "code",
   "execution_count": 8,
   "id": "67c6832f",
   "metadata": {},
   "outputs": [],
   "source": [
    "# buyer wallet_address -> index and nft_id -> index\n",
    "buyers_index = dict(zip(buyers, range(num_buyers)))\n",
    "nfts_index = dict(zip(nfts, range(num_nfts)))"
   ]
  },
  {
   "cell_type": "code",
   "execution_count": 9,
   "id": "fef5a0e3",
   "metadata": {},
   "outputs": [
    {
     "name": "stdout",
     "output_type": "stream",
     "text": [
      "CPU times: user 51.6 s, sys: 155 ms, total: 51.8 s\n",
      "Wall time: 51.8 s\n"
     ]
    }
   ],
   "source": [
    "%%time\n",
    "vals, rows, cols = [], [], []\n",
    "for _, row in reco_sales.iterrows():\n",
    "    buyer_idx = buyers_index[row['buyer']]\n",
    "    nft_idx = nfts_index[row['nft_id']]\n",
    "    val = 1\n",
    "    vals.append(val)\n",
    "    rows.append(buyer_idx)\n",
    "    cols.append(nft_idx)"
   ]
  },
  {
   "cell_type": "markdown",
   "id": "2076b5be",
   "metadata": {},
   "source": [
    "### Create a Compressed Sparse Column (CSC) matrix\n",
    "- https://docs.scipy.org/doc/scipy/reference/generated/scipy.sparse.csc_matrix.html"
   ]
  },
  {
   "cell_type": "markdown",
   "id": "0efe078c",
   "metadata": {},
   "source": [
    "#### user-2-item (buyer-2-nft) matrix with u2i_matrix(i, j) = 1 if the buyer_i has bought the nft_j"
   ]
  },
  {
   "cell_type": "code",
   "execution_count": 10,
   "id": "51b08e10",
   "metadata": {},
   "outputs": [
    {
     "name": "stdout",
     "output_type": "stream",
     "text": [
      "CPU times: user 573 ms, sys: 16.4 ms, total: 590 ms\n",
      "Wall time: 587 ms\n"
     ]
    }
   ],
   "source": [
    "%%time\n",
    "u2i_matrix = csc_matrix((vals, (rows, cols)), shape=(num_buyers, num_nfts))"
   ]
  },
  {
   "cell_type": "markdown",
   "id": "0e4f27e5",
   "metadata": {},
   "source": [
    "#### user-2-item norm where u2i_norm(j) = sqrt(num buyers of nft_j)"
   ]
  },
  {
   "cell_type": "code",
   "execution_count": 11,
   "id": "2c2c2abd",
   "metadata": {},
   "outputs": [
    {
     "name": "stdout",
     "output_type": "stream",
     "text": [
      "CPU times: user 26.8 ms, sys: 13.8 ms, total: 40.6 ms\n",
      "Wall time: 39.5 ms\n"
     ]
    }
   ],
   "source": [
    "%%time\n",
    "u2i_norm = np.sqrt(u2i_matrix.sum(axis=0))"
   ]
  },
  {
   "cell_type": "markdown",
   "id": "515bc746",
   "metadata": {},
   "source": [
    "### Sanity Check"
   ]
  },
  {
   "cell_type": "code",
   "execution_count": 12,
   "id": "3c3c5096",
   "metadata": {},
   "outputs": [
    {
     "name": "stdout",
     "output_type": "stream",
     "text": [
      "The number of less than or equal to 2 buyers nft = 0\n"
     ]
    }
   ],
   "source": [
    "less_than_or_equal_to_2_buyers = np.where(u2i_norm <= np.sqrt(2))[1]\n",
    "print(f'The number of less than or equal to 2 buyers nft = {len(less_than_or_equal_to_2_buyers)}')"
   ]
  },
  {
   "cell_type": "markdown",
   "id": "640e5451",
   "metadata": {},
   "source": [
    "## Compute Top 10 Similar NFTs for Each NFT"
   ]
  },
  {
   "cell_type": "code",
   "execution_count": 13,
   "id": "d61609dd",
   "metadata": {},
   "outputs": [],
   "source": [
    "def get_top_k(nft_id, k=10):\n",
    "    # buyer one hot encoding for each NFT\n",
    "    i_vec = u2i_matrix[:, nft_index[nft_id]]\n",
    "    # the number of common buyers for each NFT \n",
    "    ip = i_vec.multiply(u2i_matrix).sum(axis=0)\n",
    "    # the CF score\n",
    "    # sqrt(N_i) is omitted because it is common term for all the scroes\n",
    "    # and does not affect the ranking\n",
    "    score = ip / u2i_norm\n",
    "    \n",
    "    sorted_index = np.argsort(-score)\n",
    "    # 1:k+1 to omit the first item which is itself\n",
    "    similar_tokens = [\n",
    "        nfts[idx]\n",
    "        for idx in sorted_index[0, 1:k+1].tolist()[0]]\n",
    "    \n",
    "    top_scores = score[0, sorted_index[0, 1:k+1]]\n",
    "\n",
    "    n_buyer = i_vec.sum()\n",
    "\n",
    "    return similar_tokens, top_scores, n_buyer"
   ]
  },
  {
   "cell_type": "code",
   "execution_count": 16,
   "id": "3aa6e720",
   "metadata": {},
   "outputs": [
    {
     "name": "stdout",
     "output_type": "stream",
     "text": [
      "CPU times: user 17.6 s, sys: 2.15 s, total: 19.8 s\n",
      "Wall time: 1h 55min 44s\n"
     ]
    }
   ],
   "source": [
    "%%time\n",
    "with multiprocess.Pool(processes=32) as pool:\n",
    "    results = pool.map(get_top_k, nfts)"
   ]
  },
  {
   "cell_type": "code",
   "execution_count": 17,
   "id": "a15c7117",
   "metadata": {},
   "outputs": [
    {
     "name": "stdout",
     "output_type": "stream",
     "text": [
      "CPU times: user 4.6 s, sys: 427 ms, total: 5.03 s\n",
      "Wall time: 5.07 s\n"
     ]
    }
   ],
   "source": [
    "%%time\n",
    "with open(f'{local_path}/nft_i2i_v2.csv', 'w') as fp:\n",
    "    for i, nft_id in enumerate(nfts):\n",
    "        fp.write(','.join([\n",
    "            nft_id,\n",
    "            str(results[i][2]),   # number of buyers\n",
    "            *results[i][0],       # top-k similar NFT\n",
    "            *[str(e) for e in results[i][1].tolist()[0]],   # top-k scores\n",
    "        ]) + '\\n')"
   ]
  },
  {
   "cell_type": "markdown",
   "id": "720bd389",
   "metadata": {},
   "source": [
    "## Filter out 0 similarity score recommendations"
   ]
  },
  {
   "cell_type": "code",
   "execution_count": 93,
   "id": "def9474a",
   "metadata": {},
   "outputs": [],
   "source": [
    "# Set up column names\n",
    "names = ['nft_id', 'num_of_buyers']\n",
    "names.extend([f'sim_nft_id_{x}' for  x in range(1,11)])\n",
    "names.extend([f'sim_score_{x}' for x in range(1, 11)])"
   ]
  },
  {
   "cell_type": "code",
   "execution_count": 94,
   "id": "8532f4e7",
   "metadata": {},
   "outputs": [
    {
     "name": "stdout",
     "output_type": "stream",
     "text": [
      "CPU times: user 3.97 s, sys: 336 ms, total: 4.31 s\n",
      "Wall time: 4.31 s\n"
     ]
    }
   ],
   "source": [
    "%%time\n",
    "local_path = \"/Users/keonyonglee/Projects/nimble/nft-recommendation-data-analysis-data/nft-token-transfers\"\n",
    "i2i_reco = pd.read_csv(f'{local_path}/nft_i2i_v2.csv', header=0, names=names)"
   ]
  },
  {
   "cell_type": "code",
   "execution_count": 95,
   "id": "62ca06ba",
   "metadata": {},
   "outputs": [
    {
     "data": {
      "text/html": [
       "<div>\n",
       "<style scoped>\n",
       "    .dataframe tbody tr th:only-of-type {\n",
       "        vertical-align: middle;\n",
       "    }\n",
       "\n",
       "    .dataframe tbody tr th {\n",
       "        vertical-align: top;\n",
       "    }\n",
       "\n",
       "    .dataframe thead th {\n",
       "        text-align: right;\n",
       "    }\n",
       "</style>\n",
       "<table border=\"1\" class=\"dataframe\">\n",
       "  <thead>\n",
       "    <tr style=\"text-align: right;\">\n",
       "      <th></th>\n",
       "      <th>nft_id</th>\n",
       "      <th>num_of_buyers</th>\n",
       "      <th>sim_nft_id_1</th>\n",
       "      <th>sim_nft_id_2</th>\n",
       "      <th>sim_nft_id_3</th>\n",
       "      <th>sim_nft_id_4</th>\n",
       "      <th>sim_nft_id_5</th>\n",
       "      <th>sim_nft_id_6</th>\n",
       "      <th>sim_nft_id_7</th>\n",
       "      <th>sim_nft_id_8</th>\n",
       "      <th>...</th>\n",
       "      <th>sim_score_1</th>\n",
       "      <th>sim_score_2</th>\n",
       "      <th>sim_score_3</th>\n",
       "      <th>sim_score_4</th>\n",
       "      <th>sim_score_5</th>\n",
       "      <th>sim_score_6</th>\n",
       "      <th>sim_score_7</th>\n",
       "      <th>sim_score_8</th>\n",
       "      <th>sim_score_9</th>\n",
       "      <th>sim_score_10</th>\n",
       "    </tr>\n",
       "  </thead>\n",
       "  <tbody>\n",
       "    <tr>\n",
       "      <th>0</th>\n",
       "      <td>0xc7457f480416e145093edb355f626faa0fc7f90e/2116</td>\n",
       "      <td>4</td>\n",
       "      <td>0x34b09150783499056b2e04a94c25814fe6ac1c7b/976</td>\n",
       "      <td>0x76b3af5f0f9b89ca5a4f9fe6c58421dbe567062d/6128</td>\n",
       "      <td>0xc7457f480416e145093edb355f626faa0fc7f90e/2989</td>\n",
       "      <td>0xc7457f480416e145093edb355f626faa0fc7f90e/4981</td>\n",
       "      <td>0x76b3af5f0f9b89ca5a4f9fe6c58421dbe567062d/6338</td>\n",
       "      <td>0x2e541cec5cb41e7678ac3c8e91acb3fc1db0da07/5947</td>\n",
       "      <td>0x54616c0815c306fc22417b96282ca4aa6f47d357/6902</td>\n",
       "      <td>0xc7457f480416e145093edb355f626faa0fc7f90e/417</td>\n",
       "      <td>...</td>\n",
       "      <td>0.577350</td>\n",
       "      <td>0.577350</td>\n",
       "      <td>0.577350</td>\n",
       "      <td>0.577350</td>\n",
       "      <td>0.577350</td>\n",
       "      <td>0.577350</td>\n",
       "      <td>0.577350</td>\n",
       "      <td>0.577350</td>\n",
       "      <td>0.500000</td>\n",
       "      <td>0.500000</td>\n",
       "    </tr>\n",
       "    <tr>\n",
       "      <th>1</th>\n",
       "      <td>0x34d85c9cdeb23fa97cb08333b511ac86e1c4e258/91445</td>\n",
       "      <td>3</td>\n",
       "      <td>0x358f8ac9a5f8891cb98f61ce5f6466ffc8e28c68/3730</td>\n",
       "      <td>0x34d85c9cdeb23fa97cb08333b511ac86e1c4e258/66473</td>\n",
       "      <td>0x34d85c9cdeb23fa97cb08333b511ac86e1c4e258/91249</td>\n",
       "      <td>0x34d85c9cdeb23fa97cb08333b511ac86e1c4e258/68520</td>\n",
       "      <td>0x34d85c9cdeb23fa97cb08333b511ac86e1c4e258/53070</td>\n",
       "      <td>0x358f8ac9a5f8891cb98f61ce5f6466ffc8e28c68/1742</td>\n",
       "      <td>0x358f8ac9a5f8891cb98f61ce5f6466ffc8e28c68/2617</td>\n",
       "      <td>0x160c404b2b49cbc3240055ceaee026df1e8497a0/8052</td>\n",
       "      <td>...</td>\n",
       "      <td>0.577350</td>\n",
       "      <td>0.577350</td>\n",
       "      <td>0.577350</td>\n",
       "      <td>0.577350</td>\n",
       "      <td>0.577350</td>\n",
       "      <td>0.577350</td>\n",
       "      <td>0.577350</td>\n",
       "      <td>0.577350</td>\n",
       "      <td>0.577350</td>\n",
       "      <td>0.577350</td>\n",
       "    </tr>\n",
       "    <tr>\n",
       "      <th>2</th>\n",
       "      <td>0x34d85c9cdeb23fa97cb08333b511ac86e1c4e258/56375</td>\n",
       "      <td>3</td>\n",
       "      <td>0x1fb7b8ad0c8368db5463b34d5ea58778706d580e/8377</td>\n",
       "      <td>0x445ede1ce0a4f6d05720cc691893c5bc3ea1bed7/9928</td>\n",
       "      <td>0x1fb7b8ad0c8368db5463b34d5ea58778706d580e/778</td>\n",
       "      <td>0x1fb7b8ad0c8368db5463b34d5ea58778706d580e/779</td>\n",
       "      <td>0x1fb7b8ad0c8368db5463b34d5ea58778706d580e/6143</td>\n",
       "      <td>0x1fb7b8ad0c8368db5463b34d5ea58778706d580e/881</td>\n",
       "      <td>0x56e5003cc86e75e750fbdb4716c80a2a22d2b5c5/5917</td>\n",
       "      <td>0x160c404b2b49cbc3240055ceaee026df1e8497a0/3220</td>\n",
       "      <td>...</td>\n",
       "      <td>0.577350</td>\n",
       "      <td>0.577350</td>\n",
       "      <td>0.577350</td>\n",
       "      <td>0.577350</td>\n",
       "      <td>0.577350</td>\n",
       "      <td>0.577350</td>\n",
       "      <td>0.577350</td>\n",
       "      <td>0.577350</td>\n",
       "      <td>0.577350</td>\n",
       "      <td>0.577350</td>\n",
       "    </tr>\n",
       "    <tr>\n",
       "      <th>3</th>\n",
       "      <td>0x34d85c9cdeb23fa97cb08333b511ac86e1c4e258/70494</td>\n",
       "      <td>5</td>\n",
       "      <td>0x34d85c9cdeb23fa97cb08333b511ac86e1c4e258/89501</td>\n",
       "      <td>0xda2686fd32c6b74d55605cfb48bef331771e7fc6/654</td>\n",
       "      <td>0x2a459947f0ac25ec28c197f09c2d88058a83f3bb/3732</td>\n",
       "      <td>0x03b8d129a8f6dc62a797b59aa5eebb11ad63dada/142</td>\n",
       "      <td>0x684e4ed51d350b4d76a3a07864df572d24e6dc4c/6531</td>\n",
       "      <td>0x0b7600ca77fc257fe7eb432f87825cccc4590037/8059</td>\n",
       "      <td>0x2a459947f0ac25ec28c197f09c2d88058a83f3bb/2624</td>\n",
       "      <td>0x394e3d3044fc89fcdd966d3cb35ac0b32b0cda91/9340</td>\n",
       "      <td>...</td>\n",
       "      <td>1.000000</td>\n",
       "      <td>0.577350</td>\n",
       "      <td>0.577350</td>\n",
       "      <td>0.577350</td>\n",
       "      <td>0.577350</td>\n",
       "      <td>0.577350</td>\n",
       "      <td>0.577350</td>\n",
       "      <td>0.577350</td>\n",
       "      <td>0.577350</td>\n",
       "      <td>0.577350</td>\n",
       "    </tr>\n",
       "    <tr>\n",
       "      <th>4</th>\n",
       "      <td>0x34d85c9cdeb23fa97cb08333b511ac86e1c4e258/21312</td>\n",
       "      <td>3</td>\n",
       "      <td>0x4d928fada59f3446627c5bea707a81e006cf676f/6717</td>\n",
       "      <td>0x2ee6af0dff3a1ce3f7e3414c52c48fd50d73691e/5711</td>\n",
       "      <td>0x740c178e10662bbb050bde257bfa318defe3cabc/9453</td>\n",
       "      <td>0xdcaf23e44639daf29f6532da213999d737f15aa4/5299</td>\n",
       "      <td>0x306b1ea3ecdf94ab739f1910bbda052ed4a9f949/2534</td>\n",
       "      <td>0x2ee6af0dff3a1ce3f7e3414c52c48fd50d73691e/1291</td>\n",
       "      <td>0xb852c6b5892256c264cc2c888ea462189154d8d7/4095</td>\n",
       "      <td>0x9a38dec0590abc8c883d72e52391090e948ddf12/1305</td>\n",
       "      <td>...</td>\n",
       "      <td>0.577350</td>\n",
       "      <td>0.577350</td>\n",
       "      <td>0.577350</td>\n",
       "      <td>0.577350</td>\n",
       "      <td>0.577350</td>\n",
       "      <td>0.577350</td>\n",
       "      <td>0.577350</td>\n",
       "      <td>0.577350</td>\n",
       "      <td>0.577350</td>\n",
       "      <td>0.577350</td>\n",
       "    </tr>\n",
       "    <tr>\n",
       "      <th>...</th>\n",
       "      <td>...</td>\n",
       "      <td>...</td>\n",
       "      <td>...</td>\n",
       "      <td>...</td>\n",
       "      <td>...</td>\n",
       "      <td>...</td>\n",
       "      <td>...</td>\n",
       "      <td>...</td>\n",
       "      <td>...</td>\n",
       "      <td>...</td>\n",
       "      <td>...</td>\n",
       "      <td>...</td>\n",
       "      <td>...</td>\n",
       "      <td>...</td>\n",
       "      <td>...</td>\n",
       "      <td>...</td>\n",
       "      <td>...</td>\n",
       "      <td>...</td>\n",
       "      <td>...</td>\n",
       "      <td>...</td>\n",
       "      <td>...</td>\n",
       "    </tr>\n",
       "    <tr>\n",
       "      <th>878876</th>\n",
       "      <td>0x2160dcdb088196e7e5faf12c2346456d933db34e/4035</td>\n",
       "      <td>3</td>\n",
       "      <td>0x2160dcdb088196e7e5faf12c2346456d933db34e/4035</td>\n",
       "      <td>0x6cb26df0c825fece867a84658f87b0ecbcea72f6/1860</td>\n",
       "      <td>0x34d85c9cdeb23fa97cb08333b511ac86e1c4e258/59895</td>\n",
       "      <td>0x6cb26df0c825fece867a84658f87b0ecbcea72f6/2220</td>\n",
       "      <td>0x209e639a0ec166ac7a1a4ba41968fa967db30221/4393</td>\n",
       "      <td>0xca21d4228cdcc68d4e23807e5e370c07577dd152/35011</td>\n",
       "      <td>0x011c77fa577c500deedad364b8af9e8540b808c0/11355</td>\n",
       "      <td>0xdb7b094fdc04f51560a03a99f747044951b73727/2414</td>\n",
       "      <td>...</td>\n",
       "      <td>1.732051</td>\n",
       "      <td>1.664101</td>\n",
       "      <td>1.664101</td>\n",
       "      <td>1.664101</td>\n",
       "      <td>1.649916</td>\n",
       "      <td>1.603567</td>\n",
       "      <td>1.581139</td>\n",
       "      <td>1.581139</td>\n",
       "      <td>1.581139</td>\n",
       "      <td>1.581139</td>\n",
       "    </tr>\n",
       "    <tr>\n",
       "      <th>878877</th>\n",
       "      <td>0xf442459c8bb4b891b789e816775232b812eb2ccd/9758</td>\n",
       "      <td>3</td>\n",
       "      <td>0xf442459c8bb4b891b789e816775232b812eb2ccd/6639</td>\n",
       "      <td>0xf442459c8bb4b891b789e816775232b812eb2ccd/910</td>\n",
       "      <td>0xf442459c8bb4b891b789e816775232b812eb2ccd/6722</td>\n",
       "      <td>0xf442459c8bb4b891b789e816775232b812eb2ccd/9758</td>\n",
       "      <td>0xf442459c8bb4b891b789e816775232b812eb2ccd/8987</td>\n",
       "      <td>0xf442459c8bb4b891b789e816775232b812eb2ccd/9628</td>\n",
       "      <td>0xf442459c8bb4b891b789e816775232b812eb2ccd/9040</td>\n",
       "      <td>0xf442459c8bb4b891b789e816775232b812eb2ccd/8312</td>\n",
       "      <td>...</td>\n",
       "      <td>1.809068</td>\n",
       "      <td>1.788854</td>\n",
       "      <td>1.767767</td>\n",
       "      <td>1.732051</td>\n",
       "      <td>1.666667</td>\n",
       "      <td>1.666667</td>\n",
       "      <td>1.666667</td>\n",
       "      <td>1.666667</td>\n",
       "      <td>1.664101</td>\n",
       "      <td>1.664101</td>\n",
       "    </tr>\n",
       "    <tr>\n",
       "      <th>878878</th>\n",
       "      <td>0xf442459c8bb4b891b789e816775232b812eb2ccd/2922</td>\n",
       "      <td>3</td>\n",
       "      <td>0xf442459c8bb4b891b789e816775232b812eb2ccd/6639</td>\n",
       "      <td>0xf442459c8bb4b891b789e816775232b812eb2ccd/6722</td>\n",
       "      <td>0xf442459c8bb4b891b789e816775232b812eb2ccd/2922</td>\n",
       "      <td>0xf442459c8bb4b891b789e816775232b812eb2ccd/411</td>\n",
       "      <td>0xf442459c8bb4b891b789e816775232b812eb2ccd/8312</td>\n",
       "      <td>0xf442459c8bb4b891b789e816775232b812eb2ccd/9628</td>\n",
       "      <td>0xf442459c8bb4b891b789e816775232b812eb2ccd/9040</td>\n",
       "      <td>0xf442459c8bb4b891b789e816775232b812eb2ccd/8987</td>\n",
       "      <td>...</td>\n",
       "      <td>1.809068</td>\n",
       "      <td>1.767767</td>\n",
       "      <td>1.732051</td>\n",
       "      <td>1.732051</td>\n",
       "      <td>1.666667</td>\n",
       "      <td>1.666667</td>\n",
       "      <td>1.666667</td>\n",
       "      <td>1.666667</td>\n",
       "      <td>1.664101</td>\n",
       "      <td>1.664101</td>\n",
       "    </tr>\n",
       "    <tr>\n",
       "      <th>878879</th>\n",
       "      <td>0x3b00ca89348991a8dcede0c56d1b307643eb6dd6/403</td>\n",
       "      <td>3</td>\n",
       "      <td>0x90e95660694b82c312be5f59481d3bbb801d8c39/1018</td>\n",
       "      <td>0x90e95660694b82c312be5f59481d3bbb801d8c39/2127</td>\n",
       "      <td>0x90e95660694b82c312be5f59481d3bbb801d8c39/831</td>\n",
       "      <td>0x90e95660694b82c312be5f59481d3bbb801d8c39/97</td>\n",
       "      <td>0x40c345f02b56041d1d0ade97de5bb65158738ef3/943</td>\n",
       "      <td>0xa0bae4c0410d79398703cbd9a30d010d414ab0da/70</td>\n",
       "      <td>0xa0bae4c0410d79398703cbd9a30d010d414ab0da/69</td>\n",
       "      <td>0xa0bae4c0410d79398703cbd9a30d010d414ab0da/66</td>\n",
       "      <td>...</td>\n",
       "      <td>3.905633</td>\n",
       "      <td>3.905633</td>\n",
       "      <td>3.905633</td>\n",
       "      <td>3.905633</td>\n",
       "      <td>3.905633</td>\n",
       "      <td>3.888889</td>\n",
       "      <td>3.888889</td>\n",
       "      <td>3.888889</td>\n",
       "      <td>3.888889</td>\n",
       "      <td>3.888889</td>\n",
       "    </tr>\n",
       "    <tr>\n",
       "      <th>878880</th>\n",
       "      <td>0x3b00ca89348991a8dcede0c56d1b307643eb6dd6/411</td>\n",
       "      <td>3</td>\n",
       "      <td>0x3b00ca89348991a8dcede0c56d1b307643eb6dd6/411</td>\n",
       "      <td>0x3b00ca89348991a8dcede0c56d1b307643eb6dd6/232</td>\n",
       "      <td>0x3b00ca89348991a8dcede0c56d1b307643eb6dd6/236</td>\n",
       "      <td>0x6cb26df0c825fece867a84658f87b0ecbcea72f6/2220</td>\n",
       "      <td>0x6cb26df0c825fece867a84658f87b0ecbcea72f6/1860</td>\n",
       "      <td>0x34d85c9cdeb23fa97cb08333b511ac86e1c4e258/59895</td>\n",
       "      <td>0x209e639a0ec166ac7a1a4ba41968fa967db30221/4393</td>\n",
       "      <td>0xca21d4228cdcc68d4e23807e5e370c07577dd152/35011</td>\n",
       "      <td>...</td>\n",
       "      <td>1.732051</td>\n",
       "      <td>1.732051</td>\n",
       "      <td>1.732051</td>\n",
       "      <td>1.664101</td>\n",
       "      <td>1.664101</td>\n",
       "      <td>1.664101</td>\n",
       "      <td>1.649916</td>\n",
       "      <td>1.603567</td>\n",
       "      <td>1.581139</td>\n",
       "      <td>1.581139</td>\n",
       "    </tr>\n",
       "  </tbody>\n",
       "</table>\n",
       "<p>878881 rows × 22 columns</p>\n",
       "</div>"
      ],
      "text/plain": [
       "                                                  nft_id  num_of_buyers  \\\n",
       "0        0xc7457f480416e145093edb355f626faa0fc7f90e/2116              4   \n",
       "1       0x34d85c9cdeb23fa97cb08333b511ac86e1c4e258/91445              3   \n",
       "2       0x34d85c9cdeb23fa97cb08333b511ac86e1c4e258/56375              3   \n",
       "3       0x34d85c9cdeb23fa97cb08333b511ac86e1c4e258/70494              5   \n",
       "4       0x34d85c9cdeb23fa97cb08333b511ac86e1c4e258/21312              3   \n",
       "...                                                  ...            ...   \n",
       "878876   0x2160dcdb088196e7e5faf12c2346456d933db34e/4035              3   \n",
       "878877   0xf442459c8bb4b891b789e816775232b812eb2ccd/9758              3   \n",
       "878878   0xf442459c8bb4b891b789e816775232b812eb2ccd/2922              3   \n",
       "878879    0x3b00ca89348991a8dcede0c56d1b307643eb6dd6/403              3   \n",
       "878880    0x3b00ca89348991a8dcede0c56d1b307643eb6dd6/411              3   \n",
       "\n",
       "                                            sim_nft_id_1  \\\n",
       "0         0x34b09150783499056b2e04a94c25814fe6ac1c7b/976   \n",
       "1        0x358f8ac9a5f8891cb98f61ce5f6466ffc8e28c68/3730   \n",
       "2        0x1fb7b8ad0c8368db5463b34d5ea58778706d580e/8377   \n",
       "3       0x34d85c9cdeb23fa97cb08333b511ac86e1c4e258/89501   \n",
       "4        0x4d928fada59f3446627c5bea707a81e006cf676f/6717   \n",
       "...                                                  ...   \n",
       "878876   0x2160dcdb088196e7e5faf12c2346456d933db34e/4035   \n",
       "878877   0xf442459c8bb4b891b789e816775232b812eb2ccd/6639   \n",
       "878878   0xf442459c8bb4b891b789e816775232b812eb2ccd/6639   \n",
       "878879   0x90e95660694b82c312be5f59481d3bbb801d8c39/1018   \n",
       "878880    0x3b00ca89348991a8dcede0c56d1b307643eb6dd6/411   \n",
       "\n",
       "                                            sim_nft_id_2  \\\n",
       "0        0x76b3af5f0f9b89ca5a4f9fe6c58421dbe567062d/6128   \n",
       "1       0x34d85c9cdeb23fa97cb08333b511ac86e1c4e258/66473   \n",
       "2        0x445ede1ce0a4f6d05720cc691893c5bc3ea1bed7/9928   \n",
       "3         0xda2686fd32c6b74d55605cfb48bef331771e7fc6/654   \n",
       "4        0x2ee6af0dff3a1ce3f7e3414c52c48fd50d73691e/5711   \n",
       "...                                                  ...   \n",
       "878876   0x6cb26df0c825fece867a84658f87b0ecbcea72f6/1860   \n",
       "878877    0xf442459c8bb4b891b789e816775232b812eb2ccd/910   \n",
       "878878   0xf442459c8bb4b891b789e816775232b812eb2ccd/6722   \n",
       "878879   0x90e95660694b82c312be5f59481d3bbb801d8c39/2127   \n",
       "878880    0x3b00ca89348991a8dcede0c56d1b307643eb6dd6/232   \n",
       "\n",
       "                                            sim_nft_id_3  \\\n",
       "0        0xc7457f480416e145093edb355f626faa0fc7f90e/2989   \n",
       "1       0x34d85c9cdeb23fa97cb08333b511ac86e1c4e258/91249   \n",
       "2         0x1fb7b8ad0c8368db5463b34d5ea58778706d580e/778   \n",
       "3        0x2a459947f0ac25ec28c197f09c2d88058a83f3bb/3732   \n",
       "4        0x740c178e10662bbb050bde257bfa318defe3cabc/9453   \n",
       "...                                                  ...   \n",
       "878876  0x34d85c9cdeb23fa97cb08333b511ac86e1c4e258/59895   \n",
       "878877   0xf442459c8bb4b891b789e816775232b812eb2ccd/6722   \n",
       "878878   0xf442459c8bb4b891b789e816775232b812eb2ccd/2922   \n",
       "878879    0x90e95660694b82c312be5f59481d3bbb801d8c39/831   \n",
       "878880    0x3b00ca89348991a8dcede0c56d1b307643eb6dd6/236   \n",
       "\n",
       "                                            sim_nft_id_4  \\\n",
       "0        0xc7457f480416e145093edb355f626faa0fc7f90e/4981   \n",
       "1       0x34d85c9cdeb23fa97cb08333b511ac86e1c4e258/68520   \n",
       "2         0x1fb7b8ad0c8368db5463b34d5ea58778706d580e/779   \n",
       "3         0x03b8d129a8f6dc62a797b59aa5eebb11ad63dada/142   \n",
       "4        0xdcaf23e44639daf29f6532da213999d737f15aa4/5299   \n",
       "...                                                  ...   \n",
       "878876   0x6cb26df0c825fece867a84658f87b0ecbcea72f6/2220   \n",
       "878877   0xf442459c8bb4b891b789e816775232b812eb2ccd/9758   \n",
       "878878    0xf442459c8bb4b891b789e816775232b812eb2ccd/411   \n",
       "878879     0x90e95660694b82c312be5f59481d3bbb801d8c39/97   \n",
       "878880   0x6cb26df0c825fece867a84658f87b0ecbcea72f6/2220   \n",
       "\n",
       "                                            sim_nft_id_5  \\\n",
       "0        0x76b3af5f0f9b89ca5a4f9fe6c58421dbe567062d/6338   \n",
       "1       0x34d85c9cdeb23fa97cb08333b511ac86e1c4e258/53070   \n",
       "2        0x1fb7b8ad0c8368db5463b34d5ea58778706d580e/6143   \n",
       "3        0x684e4ed51d350b4d76a3a07864df572d24e6dc4c/6531   \n",
       "4        0x306b1ea3ecdf94ab739f1910bbda052ed4a9f949/2534   \n",
       "...                                                  ...   \n",
       "878876   0x209e639a0ec166ac7a1a4ba41968fa967db30221/4393   \n",
       "878877   0xf442459c8bb4b891b789e816775232b812eb2ccd/8987   \n",
       "878878   0xf442459c8bb4b891b789e816775232b812eb2ccd/8312   \n",
       "878879    0x40c345f02b56041d1d0ade97de5bb65158738ef3/943   \n",
       "878880   0x6cb26df0c825fece867a84658f87b0ecbcea72f6/1860   \n",
       "\n",
       "                                            sim_nft_id_6  \\\n",
       "0        0x2e541cec5cb41e7678ac3c8e91acb3fc1db0da07/5947   \n",
       "1        0x358f8ac9a5f8891cb98f61ce5f6466ffc8e28c68/1742   \n",
       "2         0x1fb7b8ad0c8368db5463b34d5ea58778706d580e/881   \n",
       "3        0x0b7600ca77fc257fe7eb432f87825cccc4590037/8059   \n",
       "4        0x2ee6af0dff3a1ce3f7e3414c52c48fd50d73691e/1291   \n",
       "...                                                  ...   \n",
       "878876  0xca21d4228cdcc68d4e23807e5e370c07577dd152/35011   \n",
       "878877   0xf442459c8bb4b891b789e816775232b812eb2ccd/9628   \n",
       "878878   0xf442459c8bb4b891b789e816775232b812eb2ccd/9628   \n",
       "878879     0xa0bae4c0410d79398703cbd9a30d010d414ab0da/70   \n",
       "878880  0x34d85c9cdeb23fa97cb08333b511ac86e1c4e258/59895   \n",
       "\n",
       "                                            sim_nft_id_7  \\\n",
       "0        0x54616c0815c306fc22417b96282ca4aa6f47d357/6902   \n",
       "1        0x358f8ac9a5f8891cb98f61ce5f6466ffc8e28c68/2617   \n",
       "2        0x56e5003cc86e75e750fbdb4716c80a2a22d2b5c5/5917   \n",
       "3        0x2a459947f0ac25ec28c197f09c2d88058a83f3bb/2624   \n",
       "4        0xb852c6b5892256c264cc2c888ea462189154d8d7/4095   \n",
       "...                                                  ...   \n",
       "878876  0x011c77fa577c500deedad364b8af9e8540b808c0/11355   \n",
       "878877   0xf442459c8bb4b891b789e816775232b812eb2ccd/9040   \n",
       "878878   0xf442459c8bb4b891b789e816775232b812eb2ccd/9040   \n",
       "878879     0xa0bae4c0410d79398703cbd9a30d010d414ab0da/69   \n",
       "878880   0x209e639a0ec166ac7a1a4ba41968fa967db30221/4393   \n",
       "\n",
       "                                            sim_nft_id_8  ... sim_score_1  \\\n",
       "0         0xc7457f480416e145093edb355f626faa0fc7f90e/417  ...    0.577350   \n",
       "1        0x160c404b2b49cbc3240055ceaee026df1e8497a0/8052  ...    0.577350   \n",
       "2        0x160c404b2b49cbc3240055ceaee026df1e8497a0/3220  ...    0.577350   \n",
       "3        0x394e3d3044fc89fcdd966d3cb35ac0b32b0cda91/9340  ...    1.000000   \n",
       "4        0x9a38dec0590abc8c883d72e52391090e948ddf12/1305  ...    0.577350   \n",
       "...                                                  ...  ...         ...   \n",
       "878876   0xdb7b094fdc04f51560a03a99f747044951b73727/2414  ...    1.732051   \n",
       "878877   0xf442459c8bb4b891b789e816775232b812eb2ccd/8312  ...    1.809068   \n",
       "878878   0xf442459c8bb4b891b789e816775232b812eb2ccd/8987  ...    1.809068   \n",
       "878879     0xa0bae4c0410d79398703cbd9a30d010d414ab0da/66  ...    3.905633   \n",
       "878880  0xca21d4228cdcc68d4e23807e5e370c07577dd152/35011  ...    1.732051   \n",
       "\n",
       "       sim_score_2  sim_score_3  sim_score_4  sim_score_5  sim_score_6  \\\n",
       "0         0.577350     0.577350     0.577350     0.577350     0.577350   \n",
       "1         0.577350     0.577350     0.577350     0.577350     0.577350   \n",
       "2         0.577350     0.577350     0.577350     0.577350     0.577350   \n",
       "3         0.577350     0.577350     0.577350     0.577350     0.577350   \n",
       "4         0.577350     0.577350     0.577350     0.577350     0.577350   \n",
       "...            ...          ...          ...          ...          ...   \n",
       "878876    1.664101     1.664101     1.664101     1.649916     1.603567   \n",
       "878877    1.788854     1.767767     1.732051     1.666667     1.666667   \n",
       "878878    1.767767     1.732051     1.732051     1.666667     1.666667   \n",
       "878879    3.905633     3.905633     3.905633     3.905633     3.888889   \n",
       "878880    1.732051     1.732051     1.664101     1.664101     1.664101   \n",
       "\n",
       "        sim_score_7  sim_score_8  sim_score_9  sim_score_10  \n",
       "0          0.577350     0.577350     0.500000      0.500000  \n",
       "1          0.577350     0.577350     0.577350      0.577350  \n",
       "2          0.577350     0.577350     0.577350      0.577350  \n",
       "3          0.577350     0.577350     0.577350      0.577350  \n",
       "4          0.577350     0.577350     0.577350      0.577350  \n",
       "...             ...          ...          ...           ...  \n",
       "878876     1.581139     1.581139     1.581139      1.581139  \n",
       "878877     1.666667     1.666667     1.664101      1.664101  \n",
       "878878     1.666667     1.666667     1.664101      1.664101  \n",
       "878879     3.888889     3.888889     3.888889      3.888889  \n",
       "878880     1.649916     1.603567     1.581139      1.581139  \n",
       "\n",
       "[878881 rows x 22 columns]"
      ]
     },
     "execution_count": 95,
     "metadata": {},
     "output_type": "execute_result"
    }
   ],
   "source": [
    "i2i_reco"
   ]
  },
  {
   "cell_type": "code",
   "execution_count": 96,
   "id": "bb1980f2",
   "metadata": {},
   "outputs": [
    {
     "name": "stdout",
     "output_type": "stream",
     "text": [
      "<class 'pandas.core.frame.DataFrame'>\n",
      "RangeIndex: 878881 entries, 0 to 878880\n",
      "Data columns (total 22 columns):\n",
      " #   Column         Non-Null Count   Dtype  \n",
      "---  ------         --------------   -----  \n",
      " 0   nft_id         878881 non-null  object \n",
      " 1   num_of_buyers  878881 non-null  int64  \n",
      " 2   sim_nft_id_1   878881 non-null  object \n",
      " 3   sim_nft_id_2   878881 non-null  object \n",
      " 4   sim_nft_id_3   878881 non-null  object \n",
      " 5   sim_nft_id_4   878881 non-null  object \n",
      " 6   sim_nft_id_5   878881 non-null  object \n",
      " 7   sim_nft_id_6   878881 non-null  object \n",
      " 8   sim_nft_id_7   878881 non-null  object \n",
      " 9   sim_nft_id_8   878881 non-null  object \n",
      " 10  sim_nft_id_9   878881 non-null  object \n",
      " 11  sim_nft_id_10  878881 non-null  object \n",
      " 12  sim_score_1    878881 non-null  float64\n",
      " 13  sim_score_2    878881 non-null  float64\n",
      " 14  sim_score_3    878881 non-null  float64\n",
      " 15  sim_score_4    878881 non-null  float64\n",
      " 16  sim_score_5    878881 non-null  float64\n",
      " 17  sim_score_6    878881 non-null  float64\n",
      " 18  sim_score_7    878881 non-null  float64\n",
      " 19  sim_score_8    878881 non-null  float64\n",
      " 20  sim_score_9    878881 non-null  float64\n",
      " 21  sim_score_10   878881 non-null  float64\n",
      "dtypes: float64(10), int64(1), object(11)\n",
      "memory usage: 147.5+ MB\n"
     ]
    }
   ],
   "source": [
    "i2i_reco.info()"
   ]
  },
  {
   "cell_type": "code",
   "execution_count": 55,
   "id": "1b740520",
   "metadata": {},
   "outputs": [],
   "source": [
    "id_columns = [f'sim_nft_id_{x}' for  x in range(1,11)]\n",
    "score_columns = [f'sim_score_{x}' for x in range(1, 11)]"
   ]
  },
  {
   "cell_type": "code",
   "execution_count": 97,
   "id": "e827e784",
   "metadata": {},
   "outputs": [],
   "source": [
    "i2i_reco = i2i_reco[i2i_reco.sim_score_1 !=0]"
   ]
  },
  {
   "cell_type": "code",
   "execution_count": 98,
   "id": "aa9bbbea",
   "metadata": {},
   "outputs": [
    {
     "data": {
      "text/plain": [
       "878176"
      ]
     },
     "execution_count": 98,
     "metadata": {},
     "output_type": "execute_result"
    }
   ],
   "source": [
    "i2i_reco.shape[0]"
   ]
  },
  {
   "cell_type": "code",
   "execution_count": 99,
   "id": "ae310653",
   "metadata": {},
   "outputs": [],
   "source": [
    "one_reco_nfts = i2i_reco[i2i_reco.sim_score_2 == 0][['nft_id']+[id_columns[0]]+[score_columns[0]]]"
   ]
  },
  {
   "cell_type": "code",
   "execution_count": 100,
   "id": "2715457d",
   "metadata": {},
   "outputs": [
    {
     "data": {
      "text/plain": [
       "733"
      ]
     },
     "execution_count": 100,
     "metadata": {},
     "output_type": "execute_result"
    }
   ],
   "source": [
    "one_reco_nfts.shape[0]"
   ]
  },
  {
   "cell_type": "code",
   "execution_count": 101,
   "id": "c13e505d",
   "metadata": {},
   "outputs": [],
   "source": [
    "i2i_reco = i2i_reco[i2i_reco.sim_score_2 !=0]"
   ]
  },
  {
   "cell_type": "code",
   "execution_count": 102,
   "id": "c3135478",
   "metadata": {},
   "outputs": [],
   "source": [
    "two_reco_nfts = i2i_reco[i2i_reco.sim_score_3 == 0][['nft_id']+id_columns[:2]+score_columns[:2]]"
   ]
  },
  {
   "cell_type": "code",
   "execution_count": 103,
   "id": "6df65f6c",
   "metadata": {},
   "outputs": [
    {
     "data": {
      "text/plain": [
       "882"
      ]
     },
     "execution_count": 103,
     "metadata": {},
     "output_type": "execute_result"
    }
   ],
   "source": [
    "two_reco_nfts.shape[0]"
   ]
  },
  {
   "cell_type": "code",
   "execution_count": 104,
   "id": "467eeb3f",
   "metadata": {},
   "outputs": [],
   "source": [
    "i2i_reco = i2i_reco[i2i_reco.sim_score_3 !=0]"
   ]
  },
  {
   "cell_type": "code",
   "execution_count": 105,
   "id": "6252f7fc",
   "metadata": {},
   "outputs": [],
   "source": [
    "three_reco_nfts = i2i_reco[i2i_reco.sim_score_4 == 0][['nft_id']+id_columns[:3]+score_columns[:3]]"
   ]
  },
  {
   "cell_type": "code",
   "execution_count": 106,
   "id": "9121785a",
   "metadata": {},
   "outputs": [
    {
     "data": {
      "text/plain": [
       "994"
      ]
     },
     "execution_count": 106,
     "metadata": {},
     "output_type": "execute_result"
    }
   ],
   "source": [
    "three_reco_nfts.shape[0]"
   ]
  },
  {
   "cell_type": "code",
   "execution_count": 107,
   "id": "467eeb3f",
   "metadata": {},
   "outputs": [],
   "source": [
    "i2i_reco = i2i_reco[i2i_reco.sim_score_4 !=0]"
   ]
  },
  {
   "cell_type": "code",
   "execution_count": 108,
   "id": "6252f7fc",
   "metadata": {},
   "outputs": [],
   "source": [
    "four_reco_nfts = i2i_reco[i2i_reco.sim_score_5 == 0][['nft_id']+id_columns[:4]+score_columns[:4]]"
   ]
  },
  {
   "cell_type": "code",
   "execution_count": 109,
   "id": "7d4263be",
   "metadata": {},
   "outputs": [
    {
     "data": {
      "text/plain": [
       "1074"
      ]
     },
     "execution_count": 109,
     "metadata": {},
     "output_type": "execute_result"
    }
   ],
   "source": [
    "four_reco_nfts.shape[0]"
   ]
  },
  {
   "cell_type": "code",
   "execution_count": 110,
   "id": "467eeb3f",
   "metadata": {},
   "outputs": [],
   "source": [
    "i2i_reco = i2i_reco[i2i_reco.sim_score_5 !=0]"
   ]
  },
  {
   "cell_type": "code",
   "execution_count": 111,
   "id": "6252f7fc",
   "metadata": {},
   "outputs": [],
   "source": [
    "five_reco_nfts = i2i_reco[i2i_reco.sim_score_6 == 0][['nft_id']+id_columns[:5]+score_columns[:5]]"
   ]
  },
  {
   "cell_type": "code",
   "execution_count": 112,
   "id": "5d30c559",
   "metadata": {},
   "outputs": [
    {
     "data": {
      "text/plain": [
       "1090"
      ]
     },
     "execution_count": 112,
     "metadata": {},
     "output_type": "execute_result"
    }
   ],
   "source": [
    "five_reco_nfts.shape[0]"
   ]
  },
  {
   "cell_type": "code",
   "execution_count": 113,
   "id": "467eeb3f",
   "metadata": {},
   "outputs": [],
   "source": [
    "i2i_reco = i2i_reco[i2i_reco.sim_score_6 !=0]"
   ]
  },
  {
   "cell_type": "code",
   "execution_count": 114,
   "id": "6252f7fc",
   "metadata": {},
   "outputs": [],
   "source": [
    "six_reco_nfts = i2i_reco[i2i_reco.sim_score_7 == 0][['nft_id']+id_columns[:6]+score_columns[:6]]"
   ]
  },
  {
   "cell_type": "code",
   "execution_count": 115,
   "id": "5d30c559",
   "metadata": {},
   "outputs": [
    {
     "data": {
      "text/plain": [
       "1177"
      ]
     },
     "execution_count": 115,
     "metadata": {},
     "output_type": "execute_result"
    }
   ],
   "source": [
    "six_reco_nfts.shape[0]"
   ]
  },
  {
   "cell_type": "code",
   "execution_count": 116,
   "id": "467eeb3f",
   "metadata": {},
   "outputs": [],
   "source": [
    "i2i_reco = i2i_reco[i2i_reco.sim_score_7 !=0]"
   ]
  },
  {
   "cell_type": "code",
   "execution_count": 117,
   "id": "6252f7fc",
   "metadata": {},
   "outputs": [],
   "source": [
    "seven_reco_nfts = i2i_reco[i2i_reco.sim_score_8 == 0][['nft_id']+id_columns[:7]+score_columns[:7]]"
   ]
  },
  {
   "cell_type": "code",
   "execution_count": 118,
   "id": "5d30c559",
   "metadata": {},
   "outputs": [
    {
     "data": {
      "text/plain": [
       "1211"
      ]
     },
     "execution_count": 118,
     "metadata": {},
     "output_type": "execute_result"
    }
   ],
   "source": [
    "seven_reco_nfts.shape[0]"
   ]
  },
  {
   "cell_type": "code",
   "execution_count": 119,
   "id": "467eeb3f",
   "metadata": {},
   "outputs": [],
   "source": [
    "i2i_reco = i2i_reco[i2i_reco.sim_score_8 !=0]"
   ]
  },
  {
   "cell_type": "code",
   "execution_count": 120,
   "id": "6252f7fc",
   "metadata": {},
   "outputs": [],
   "source": [
    "eight_reco_nfts = i2i_reco[i2i_reco.sim_score_9 == 0][['nft_id']+id_columns[:8]+score_columns[:8]]"
   ]
  },
  {
   "cell_type": "code",
   "execution_count": 121,
   "id": "5d30c559",
   "metadata": {},
   "outputs": [
    {
     "data": {
      "text/plain": [
       "1285"
      ]
     },
     "execution_count": 121,
     "metadata": {},
     "output_type": "execute_result"
    }
   ],
   "source": [
    "eight_reco_nfts.shape[0]"
   ]
  },
  {
   "cell_type": "code",
   "execution_count": 122,
   "id": "467eeb3f",
   "metadata": {},
   "outputs": [],
   "source": [
    "i2i_reco = i2i_reco[i2i_reco.sim_score_9 !=0]"
   ]
  },
  {
   "cell_type": "code",
   "execution_count": 123,
   "id": "6252f7fc",
   "metadata": {},
   "outputs": [],
   "source": [
    "nine_reco_nfts = i2i_reco[i2i_reco.sim_score_10 == 0][['nft_id']+id_columns[:9]+score_columns[:9]]"
   ]
  },
  {
   "cell_type": "code",
   "execution_count": 124,
   "id": "5d30c559",
   "metadata": {},
   "outputs": [
    {
     "data": {
      "text/plain": [
       "1268"
      ]
     },
     "execution_count": 124,
     "metadata": {},
     "output_type": "execute_result"
    }
   ],
   "source": [
    "nine_reco_nfts.shape[0]"
   ]
  },
  {
   "cell_type": "code",
   "execution_count": 125,
   "id": "80a52ca2",
   "metadata": {},
   "outputs": [],
   "source": [
    "ten_reco_nfts = i2i_reco[i2i_reco.sim_score_10 !=0][['nft_id']+id_columns[:10]+score_columns[:10]]"
   ]
  },
  {
   "cell_type": "code",
   "execution_count": 126,
   "id": "2ebe1de1",
   "metadata": {},
   "outputs": [
    {
     "data": {
      "text/plain": [
       "868462"
      ]
     },
     "execution_count": 126,
     "metadata": {},
     "output_type": "execute_result"
    }
   ],
   "source": [
    "ten_reco_nfts.shape[0]"
   ]
  },
  {
   "cell_type": "code",
   "execution_count": 128,
   "id": "931dfdc3",
   "metadata": {},
   "outputs": [],
   "source": [
    "reco_list = [\n",
    "    one_reco_nfts,\n",
    "    two_reco_nfts,\n",
    "    three_reco_nfts,\n",
    "    four_reco_nfts,\n",
    "    five_reco_nfts,\n",
    "    six_reco_nfts,\n",
    "    seven_reco_nfts,\n",
    "    eight_reco_nfts,\n",
    "    nine_reco_nfts,\n",
    "    ten_reco_nfts,\n",
    "]\n",
    "filtered_reco = pd.concat(reco_list, join='outer').sort_index()"
   ]
  },
  {
   "cell_type": "code",
   "execution_count": 129,
   "id": "0147dfb2",
   "metadata": {},
   "outputs": [
    {
     "data": {
      "text/plain": [
       "878176"
      ]
     },
     "execution_count": 129,
     "metadata": {},
     "output_type": "execute_result"
    }
   ],
   "source": [
    "filtered_reco.shape[0]"
   ]
  },
  {
   "cell_type": "code",
   "execution_count": 130,
   "id": "2fc6e4df",
   "metadata": {},
   "outputs": [],
   "source": [
    "filtered_reco.to_csv(f'{local_path}/filtered_i2i_reco.csv')"
   ]
  },
  {
   "cell_type": "code",
   "execution_count": 131,
   "id": "a5d0223b",
   "metadata": {},
   "outputs": [
    {
     "data": {
      "text/html": [
       "<div>\n",
       "<style scoped>\n",
       "    .dataframe tbody tr th:only-of-type {\n",
       "        vertical-align: middle;\n",
       "    }\n",
       "\n",
       "    .dataframe tbody tr th {\n",
       "        vertical-align: top;\n",
       "    }\n",
       "\n",
       "    .dataframe thead th {\n",
       "        text-align: right;\n",
       "    }\n",
       "</style>\n",
       "<table border=\"1\" class=\"dataframe\">\n",
       "  <thead>\n",
       "    <tr style=\"text-align: right;\">\n",
       "      <th></th>\n",
       "      <th>nft_id</th>\n",
       "      <th>sim_nft_id_1</th>\n",
       "      <th>sim_score_1</th>\n",
       "      <th>sim_nft_id_2</th>\n",
       "      <th>sim_score_2</th>\n",
       "      <th>sim_nft_id_3</th>\n",
       "      <th>sim_score_3</th>\n",
       "      <th>sim_nft_id_4</th>\n",
       "      <th>sim_score_4</th>\n",
       "      <th>sim_nft_id_5</th>\n",
       "      <th>...</th>\n",
       "      <th>sim_nft_id_6</th>\n",
       "      <th>sim_score_6</th>\n",
       "      <th>sim_nft_id_7</th>\n",
       "      <th>sim_score_7</th>\n",
       "      <th>sim_nft_id_8</th>\n",
       "      <th>sim_score_8</th>\n",
       "      <th>sim_nft_id_9</th>\n",
       "      <th>sim_score_9</th>\n",
       "      <th>sim_nft_id_10</th>\n",
       "      <th>sim_score_10</th>\n",
       "    </tr>\n",
       "  </thead>\n",
       "  <tbody>\n",
       "    <tr>\n",
       "      <th>0</th>\n",
       "      <td>0xc7457f480416e145093edb355f626faa0fc7f90e/2116</td>\n",
       "      <td>0x34b09150783499056b2e04a94c25814fe6ac1c7b/976</td>\n",
       "      <td>0.577350</td>\n",
       "      <td>0x76b3af5f0f9b89ca5a4f9fe6c58421dbe567062d/6128</td>\n",
       "      <td>0.577350</td>\n",
       "      <td>0xc7457f480416e145093edb355f626faa0fc7f90e/2989</td>\n",
       "      <td>0.577350</td>\n",
       "      <td>0xc7457f480416e145093edb355f626faa0fc7f90e/4981</td>\n",
       "      <td>0.577350</td>\n",
       "      <td>0x76b3af5f0f9b89ca5a4f9fe6c58421dbe567062d/6338</td>\n",
       "      <td>...</td>\n",
       "      <td>0x2e541cec5cb41e7678ac3c8e91acb3fc1db0da07/5947</td>\n",
       "      <td>0.577350</td>\n",
       "      <td>0x54616c0815c306fc22417b96282ca4aa6f47d357/6902</td>\n",
       "      <td>0.577350</td>\n",
       "      <td>0xc7457f480416e145093edb355f626faa0fc7f90e/417</td>\n",
       "      <td>0.577350</td>\n",
       "      <td>0xc7457f480416e145093edb355f626faa0fc7f90e/2983</td>\n",
       "      <td>0.500000</td>\n",
       "      <td>0x8513db429f5fb564f473fd2e5c523fae33331aa5/1363</td>\n",
       "      <td>0.500000</td>\n",
       "    </tr>\n",
       "    <tr>\n",
       "      <th>1</th>\n",
       "      <td>0x34d85c9cdeb23fa97cb08333b511ac86e1c4e258/91445</td>\n",
       "      <td>0x358f8ac9a5f8891cb98f61ce5f6466ffc8e28c68/3730</td>\n",
       "      <td>0.577350</td>\n",
       "      <td>0x34d85c9cdeb23fa97cb08333b511ac86e1c4e258/66473</td>\n",
       "      <td>0.577350</td>\n",
       "      <td>0x34d85c9cdeb23fa97cb08333b511ac86e1c4e258/91249</td>\n",
       "      <td>0.577350</td>\n",
       "      <td>0x34d85c9cdeb23fa97cb08333b511ac86e1c4e258/68520</td>\n",
       "      <td>0.577350</td>\n",
       "      <td>0x34d85c9cdeb23fa97cb08333b511ac86e1c4e258/53070</td>\n",
       "      <td>...</td>\n",
       "      <td>0x358f8ac9a5f8891cb98f61ce5f6466ffc8e28c68/1742</td>\n",
       "      <td>0.577350</td>\n",
       "      <td>0x358f8ac9a5f8891cb98f61ce5f6466ffc8e28c68/2617</td>\n",
       "      <td>0.577350</td>\n",
       "      <td>0x160c404b2b49cbc3240055ceaee026df1e8497a0/8052</td>\n",
       "      <td>0.577350</td>\n",
       "      <td>0x358f8ac9a5f8891cb98f61ce5f6466ffc8e28c68/3731</td>\n",
       "      <td>0.577350</td>\n",
       "      <td>0x34d85c9cdeb23fa97cb08333b511ac86e1c4e258/95193</td>\n",
       "      <td>0.577350</td>\n",
       "    </tr>\n",
       "    <tr>\n",
       "      <th>2</th>\n",
       "      <td>0x34d85c9cdeb23fa97cb08333b511ac86e1c4e258/56375</td>\n",
       "      <td>0x1fb7b8ad0c8368db5463b34d5ea58778706d580e/8377</td>\n",
       "      <td>0.577350</td>\n",
       "      <td>0x445ede1ce0a4f6d05720cc691893c5bc3ea1bed7/9928</td>\n",
       "      <td>0.577350</td>\n",
       "      <td>0x1fb7b8ad0c8368db5463b34d5ea58778706d580e/778</td>\n",
       "      <td>0.577350</td>\n",
       "      <td>0x1fb7b8ad0c8368db5463b34d5ea58778706d580e/779</td>\n",
       "      <td>0.577350</td>\n",
       "      <td>0x1fb7b8ad0c8368db5463b34d5ea58778706d580e/6143</td>\n",
       "      <td>...</td>\n",
       "      <td>0x1fb7b8ad0c8368db5463b34d5ea58778706d580e/881</td>\n",
       "      <td>0.577350</td>\n",
       "      <td>0x56e5003cc86e75e750fbdb4716c80a2a22d2b5c5/5917</td>\n",
       "      <td>0.577350</td>\n",
       "      <td>0x160c404b2b49cbc3240055ceaee026df1e8497a0/3220</td>\n",
       "      <td>0.577350</td>\n",
       "      <td>0xc86664e7d2608f881f796ee8e24fa9d4d7598406/3744</td>\n",
       "      <td>0.577350</td>\n",
       "      <td>0x2e541cec5cb41e7678ac3c8e91acb3fc1db0da07/3632</td>\n",
       "      <td>0.577350</td>\n",
       "    </tr>\n",
       "    <tr>\n",
       "      <th>3</th>\n",
       "      <td>0x34d85c9cdeb23fa97cb08333b511ac86e1c4e258/70494</td>\n",
       "      <td>0x34d85c9cdeb23fa97cb08333b511ac86e1c4e258/89501</td>\n",
       "      <td>1.000000</td>\n",
       "      <td>0xda2686fd32c6b74d55605cfb48bef331771e7fc6/654</td>\n",
       "      <td>0.577350</td>\n",
       "      <td>0x2a459947f0ac25ec28c197f09c2d88058a83f3bb/3732</td>\n",
       "      <td>0.577350</td>\n",
       "      <td>0x03b8d129a8f6dc62a797b59aa5eebb11ad63dada/142</td>\n",
       "      <td>0.577350</td>\n",
       "      <td>0x684e4ed51d350b4d76a3a07864df572d24e6dc4c/6531</td>\n",
       "      <td>...</td>\n",
       "      <td>0x0b7600ca77fc257fe7eb432f87825cccc4590037/8059</td>\n",
       "      <td>0.577350</td>\n",
       "      <td>0x2a459947f0ac25ec28c197f09c2d88058a83f3bb/2624</td>\n",
       "      <td>0.577350</td>\n",
       "      <td>0x394e3d3044fc89fcdd966d3cb35ac0b32b0cda91/9340</td>\n",
       "      <td>0.577350</td>\n",
       "      <td>0xbc5d78bb900b16f68b512fef44cf18c2d73fdac7/79</td>\n",
       "      <td>0.577350</td>\n",
       "      <td>0x0ee80069c9b4993882fe0b3fc256260eff385982/6867</td>\n",
       "      <td>0.577350</td>\n",
       "    </tr>\n",
       "    <tr>\n",
       "      <th>4</th>\n",
       "      <td>0x34d85c9cdeb23fa97cb08333b511ac86e1c4e258/21312</td>\n",
       "      <td>0x4d928fada59f3446627c5bea707a81e006cf676f/6717</td>\n",
       "      <td>0.577350</td>\n",
       "      <td>0x2ee6af0dff3a1ce3f7e3414c52c48fd50d73691e/5711</td>\n",
       "      <td>0.577350</td>\n",
       "      <td>0x740c178e10662bbb050bde257bfa318defe3cabc/9453</td>\n",
       "      <td>0.577350</td>\n",
       "      <td>0xdcaf23e44639daf29f6532da213999d737f15aa4/5299</td>\n",
       "      <td>0.577350</td>\n",
       "      <td>0x306b1ea3ecdf94ab739f1910bbda052ed4a9f949/2534</td>\n",
       "      <td>...</td>\n",
       "      <td>0x2ee6af0dff3a1ce3f7e3414c52c48fd50d73691e/1291</td>\n",
       "      <td>0.577350</td>\n",
       "      <td>0xb852c6b5892256c264cc2c888ea462189154d8d7/4095</td>\n",
       "      <td>0.577350</td>\n",
       "      <td>0x9a38dec0590abc8c883d72e52391090e948ddf12/1305</td>\n",
       "      <td>0.577350</td>\n",
       "      <td>0x524cab2ec69124574082676e6f654a18df49a048/12520</td>\n",
       "      <td>0.577350</td>\n",
       "      <td>0x60e4d786628fea6478f785a6d7e704777c86a7c6/11270</td>\n",
       "      <td>0.577350</td>\n",
       "    </tr>\n",
       "    <tr>\n",
       "      <th>...</th>\n",
       "      <td>...</td>\n",
       "      <td>...</td>\n",
       "      <td>...</td>\n",
       "      <td>...</td>\n",
       "      <td>...</td>\n",
       "      <td>...</td>\n",
       "      <td>...</td>\n",
       "      <td>...</td>\n",
       "      <td>...</td>\n",
       "      <td>...</td>\n",
       "      <td>...</td>\n",
       "      <td>...</td>\n",
       "      <td>...</td>\n",
       "      <td>...</td>\n",
       "      <td>...</td>\n",
       "      <td>...</td>\n",
       "      <td>...</td>\n",
       "      <td>...</td>\n",
       "      <td>...</td>\n",
       "      <td>...</td>\n",
       "      <td>...</td>\n",
       "    </tr>\n",
       "    <tr>\n",
       "      <th>878876</th>\n",
       "      <td>0x2160dcdb088196e7e5faf12c2346456d933db34e/4035</td>\n",
       "      <td>0x2160dcdb088196e7e5faf12c2346456d933db34e/4035</td>\n",
       "      <td>1.732051</td>\n",
       "      <td>0x6cb26df0c825fece867a84658f87b0ecbcea72f6/1860</td>\n",
       "      <td>1.664101</td>\n",
       "      <td>0x34d85c9cdeb23fa97cb08333b511ac86e1c4e258/59895</td>\n",
       "      <td>1.664101</td>\n",
       "      <td>0x6cb26df0c825fece867a84658f87b0ecbcea72f6/2220</td>\n",
       "      <td>1.664101</td>\n",
       "      <td>0x209e639a0ec166ac7a1a4ba41968fa967db30221/4393</td>\n",
       "      <td>...</td>\n",
       "      <td>0xca21d4228cdcc68d4e23807e5e370c07577dd152/35011</td>\n",
       "      <td>1.603567</td>\n",
       "      <td>0x011c77fa577c500deedad364b8af9e8540b808c0/11355</td>\n",
       "      <td>1.581139</td>\n",
       "      <td>0xdb7b094fdc04f51560a03a99f747044951b73727/2414</td>\n",
       "      <td>1.581139</td>\n",
       "      <td>0x1821363abc9e33f1bfbe3f96f7c68eca7f6af2bd/833</td>\n",
       "      <td>1.581139</td>\n",
       "      <td>0x4591c791790f352685a29111eca67abdc878863e/6534</td>\n",
       "      <td>1.581139</td>\n",
       "    </tr>\n",
       "    <tr>\n",
       "      <th>878877</th>\n",
       "      <td>0xf442459c8bb4b891b789e816775232b812eb2ccd/9758</td>\n",
       "      <td>0xf442459c8bb4b891b789e816775232b812eb2ccd/6639</td>\n",
       "      <td>1.809068</td>\n",
       "      <td>0xf442459c8bb4b891b789e816775232b812eb2ccd/910</td>\n",
       "      <td>1.788854</td>\n",
       "      <td>0xf442459c8bb4b891b789e816775232b812eb2ccd/6722</td>\n",
       "      <td>1.767767</td>\n",
       "      <td>0xf442459c8bb4b891b789e816775232b812eb2ccd/9758</td>\n",
       "      <td>1.732051</td>\n",
       "      <td>0xf442459c8bb4b891b789e816775232b812eb2ccd/8987</td>\n",
       "      <td>...</td>\n",
       "      <td>0xf442459c8bb4b891b789e816775232b812eb2ccd/9628</td>\n",
       "      <td>1.666667</td>\n",
       "      <td>0xf442459c8bb4b891b789e816775232b812eb2ccd/9040</td>\n",
       "      <td>1.666667</td>\n",
       "      <td>0xf442459c8bb4b891b789e816775232b812eb2ccd/8312</td>\n",
       "      <td>1.666667</td>\n",
       "      <td>0x6cb26df0c825fece867a84658f87b0ecbcea72f6/1860</td>\n",
       "      <td>1.664101</td>\n",
       "      <td>0x6cb26df0c825fece867a84658f87b0ecbcea72f6/2220</td>\n",
       "      <td>1.664101</td>\n",
       "    </tr>\n",
       "    <tr>\n",
       "      <th>878878</th>\n",
       "      <td>0xf442459c8bb4b891b789e816775232b812eb2ccd/2922</td>\n",
       "      <td>0xf442459c8bb4b891b789e816775232b812eb2ccd/6639</td>\n",
       "      <td>1.809068</td>\n",
       "      <td>0xf442459c8bb4b891b789e816775232b812eb2ccd/6722</td>\n",
       "      <td>1.767767</td>\n",
       "      <td>0xf442459c8bb4b891b789e816775232b812eb2ccd/2922</td>\n",
       "      <td>1.732051</td>\n",
       "      <td>0xf442459c8bb4b891b789e816775232b812eb2ccd/411</td>\n",
       "      <td>1.732051</td>\n",
       "      <td>0xf442459c8bb4b891b789e816775232b812eb2ccd/8312</td>\n",
       "      <td>...</td>\n",
       "      <td>0xf442459c8bb4b891b789e816775232b812eb2ccd/9628</td>\n",
       "      <td>1.666667</td>\n",
       "      <td>0xf442459c8bb4b891b789e816775232b812eb2ccd/9040</td>\n",
       "      <td>1.666667</td>\n",
       "      <td>0xf442459c8bb4b891b789e816775232b812eb2ccd/8987</td>\n",
       "      <td>1.666667</td>\n",
       "      <td>0x6cb26df0c825fece867a84658f87b0ecbcea72f6/2220</td>\n",
       "      <td>1.664101</td>\n",
       "      <td>0x34d85c9cdeb23fa97cb08333b511ac86e1c4e258/59895</td>\n",
       "      <td>1.664101</td>\n",
       "    </tr>\n",
       "    <tr>\n",
       "      <th>878879</th>\n",
       "      <td>0x3b00ca89348991a8dcede0c56d1b307643eb6dd6/403</td>\n",
       "      <td>0x90e95660694b82c312be5f59481d3bbb801d8c39/1018</td>\n",
       "      <td>3.905633</td>\n",
       "      <td>0x90e95660694b82c312be5f59481d3bbb801d8c39/2127</td>\n",
       "      <td>3.905633</td>\n",
       "      <td>0x90e95660694b82c312be5f59481d3bbb801d8c39/831</td>\n",
       "      <td>3.905633</td>\n",
       "      <td>0x90e95660694b82c312be5f59481d3bbb801d8c39/97</td>\n",
       "      <td>3.905633</td>\n",
       "      <td>0x40c345f02b56041d1d0ade97de5bb65158738ef3/943</td>\n",
       "      <td>...</td>\n",
       "      <td>0xa0bae4c0410d79398703cbd9a30d010d414ab0da/70</td>\n",
       "      <td>3.888889</td>\n",
       "      <td>0xa0bae4c0410d79398703cbd9a30d010d414ab0da/69</td>\n",
       "      <td>3.888889</td>\n",
       "      <td>0xa0bae4c0410d79398703cbd9a30d010d414ab0da/66</td>\n",
       "      <td>3.888889</td>\n",
       "      <td>0xa0bae4c0410d79398703cbd9a30d010d414ab0da/68</td>\n",
       "      <td>3.888889</td>\n",
       "      <td>0xa0bae4c0410d79398703cbd9a30d010d414ab0da/67</td>\n",
       "      <td>3.888889</td>\n",
       "    </tr>\n",
       "    <tr>\n",
       "      <th>878880</th>\n",
       "      <td>0x3b00ca89348991a8dcede0c56d1b307643eb6dd6/411</td>\n",
       "      <td>0x3b00ca89348991a8dcede0c56d1b307643eb6dd6/411</td>\n",
       "      <td>1.732051</td>\n",
       "      <td>0x3b00ca89348991a8dcede0c56d1b307643eb6dd6/232</td>\n",
       "      <td>1.732051</td>\n",
       "      <td>0x3b00ca89348991a8dcede0c56d1b307643eb6dd6/236</td>\n",
       "      <td>1.732051</td>\n",
       "      <td>0x6cb26df0c825fece867a84658f87b0ecbcea72f6/2220</td>\n",
       "      <td>1.664101</td>\n",
       "      <td>0x6cb26df0c825fece867a84658f87b0ecbcea72f6/1860</td>\n",
       "      <td>...</td>\n",
       "      <td>0x34d85c9cdeb23fa97cb08333b511ac86e1c4e258/59895</td>\n",
       "      <td>1.664101</td>\n",
       "      <td>0x209e639a0ec166ac7a1a4ba41968fa967db30221/4393</td>\n",
       "      <td>1.649916</td>\n",
       "      <td>0xca21d4228cdcc68d4e23807e5e370c07577dd152/35011</td>\n",
       "      <td>1.603567</td>\n",
       "      <td>0x1821363abc9e33f1bfbe3f96f7c68eca7f6af2bd/833</td>\n",
       "      <td>1.581139</td>\n",
       "      <td>0xdb7b094fdc04f51560a03a99f747044951b73727/2414</td>\n",
       "      <td>1.581139</td>\n",
       "    </tr>\n",
       "  </tbody>\n",
       "</table>\n",
       "<p>878176 rows × 21 columns</p>\n",
       "</div>"
      ],
      "text/plain": [
       "                                                  nft_id  \\\n",
       "0        0xc7457f480416e145093edb355f626faa0fc7f90e/2116   \n",
       "1       0x34d85c9cdeb23fa97cb08333b511ac86e1c4e258/91445   \n",
       "2       0x34d85c9cdeb23fa97cb08333b511ac86e1c4e258/56375   \n",
       "3       0x34d85c9cdeb23fa97cb08333b511ac86e1c4e258/70494   \n",
       "4       0x34d85c9cdeb23fa97cb08333b511ac86e1c4e258/21312   \n",
       "...                                                  ...   \n",
       "878876   0x2160dcdb088196e7e5faf12c2346456d933db34e/4035   \n",
       "878877   0xf442459c8bb4b891b789e816775232b812eb2ccd/9758   \n",
       "878878   0xf442459c8bb4b891b789e816775232b812eb2ccd/2922   \n",
       "878879    0x3b00ca89348991a8dcede0c56d1b307643eb6dd6/403   \n",
       "878880    0x3b00ca89348991a8dcede0c56d1b307643eb6dd6/411   \n",
       "\n",
       "                                            sim_nft_id_1  sim_score_1  \\\n",
       "0         0x34b09150783499056b2e04a94c25814fe6ac1c7b/976     0.577350   \n",
       "1        0x358f8ac9a5f8891cb98f61ce5f6466ffc8e28c68/3730     0.577350   \n",
       "2        0x1fb7b8ad0c8368db5463b34d5ea58778706d580e/8377     0.577350   \n",
       "3       0x34d85c9cdeb23fa97cb08333b511ac86e1c4e258/89501     1.000000   \n",
       "4        0x4d928fada59f3446627c5bea707a81e006cf676f/6717     0.577350   \n",
       "...                                                  ...          ...   \n",
       "878876   0x2160dcdb088196e7e5faf12c2346456d933db34e/4035     1.732051   \n",
       "878877   0xf442459c8bb4b891b789e816775232b812eb2ccd/6639     1.809068   \n",
       "878878   0xf442459c8bb4b891b789e816775232b812eb2ccd/6639     1.809068   \n",
       "878879   0x90e95660694b82c312be5f59481d3bbb801d8c39/1018     3.905633   \n",
       "878880    0x3b00ca89348991a8dcede0c56d1b307643eb6dd6/411     1.732051   \n",
       "\n",
       "                                            sim_nft_id_2  sim_score_2  \\\n",
       "0        0x76b3af5f0f9b89ca5a4f9fe6c58421dbe567062d/6128     0.577350   \n",
       "1       0x34d85c9cdeb23fa97cb08333b511ac86e1c4e258/66473     0.577350   \n",
       "2        0x445ede1ce0a4f6d05720cc691893c5bc3ea1bed7/9928     0.577350   \n",
       "3         0xda2686fd32c6b74d55605cfb48bef331771e7fc6/654     0.577350   \n",
       "4        0x2ee6af0dff3a1ce3f7e3414c52c48fd50d73691e/5711     0.577350   \n",
       "...                                                  ...          ...   \n",
       "878876   0x6cb26df0c825fece867a84658f87b0ecbcea72f6/1860     1.664101   \n",
       "878877    0xf442459c8bb4b891b789e816775232b812eb2ccd/910     1.788854   \n",
       "878878   0xf442459c8bb4b891b789e816775232b812eb2ccd/6722     1.767767   \n",
       "878879   0x90e95660694b82c312be5f59481d3bbb801d8c39/2127     3.905633   \n",
       "878880    0x3b00ca89348991a8dcede0c56d1b307643eb6dd6/232     1.732051   \n",
       "\n",
       "                                            sim_nft_id_3  sim_score_3  \\\n",
       "0        0xc7457f480416e145093edb355f626faa0fc7f90e/2989     0.577350   \n",
       "1       0x34d85c9cdeb23fa97cb08333b511ac86e1c4e258/91249     0.577350   \n",
       "2         0x1fb7b8ad0c8368db5463b34d5ea58778706d580e/778     0.577350   \n",
       "3        0x2a459947f0ac25ec28c197f09c2d88058a83f3bb/3732     0.577350   \n",
       "4        0x740c178e10662bbb050bde257bfa318defe3cabc/9453     0.577350   \n",
       "...                                                  ...          ...   \n",
       "878876  0x34d85c9cdeb23fa97cb08333b511ac86e1c4e258/59895     1.664101   \n",
       "878877   0xf442459c8bb4b891b789e816775232b812eb2ccd/6722     1.767767   \n",
       "878878   0xf442459c8bb4b891b789e816775232b812eb2ccd/2922     1.732051   \n",
       "878879    0x90e95660694b82c312be5f59481d3bbb801d8c39/831     3.905633   \n",
       "878880    0x3b00ca89348991a8dcede0c56d1b307643eb6dd6/236     1.732051   \n",
       "\n",
       "                                            sim_nft_id_4  sim_score_4  \\\n",
       "0        0xc7457f480416e145093edb355f626faa0fc7f90e/4981     0.577350   \n",
       "1       0x34d85c9cdeb23fa97cb08333b511ac86e1c4e258/68520     0.577350   \n",
       "2         0x1fb7b8ad0c8368db5463b34d5ea58778706d580e/779     0.577350   \n",
       "3         0x03b8d129a8f6dc62a797b59aa5eebb11ad63dada/142     0.577350   \n",
       "4        0xdcaf23e44639daf29f6532da213999d737f15aa4/5299     0.577350   \n",
       "...                                                  ...          ...   \n",
       "878876   0x6cb26df0c825fece867a84658f87b0ecbcea72f6/2220     1.664101   \n",
       "878877   0xf442459c8bb4b891b789e816775232b812eb2ccd/9758     1.732051   \n",
       "878878    0xf442459c8bb4b891b789e816775232b812eb2ccd/411     1.732051   \n",
       "878879     0x90e95660694b82c312be5f59481d3bbb801d8c39/97     3.905633   \n",
       "878880   0x6cb26df0c825fece867a84658f87b0ecbcea72f6/2220     1.664101   \n",
       "\n",
       "                                            sim_nft_id_5  ...  \\\n",
       "0        0x76b3af5f0f9b89ca5a4f9fe6c58421dbe567062d/6338  ...   \n",
       "1       0x34d85c9cdeb23fa97cb08333b511ac86e1c4e258/53070  ...   \n",
       "2        0x1fb7b8ad0c8368db5463b34d5ea58778706d580e/6143  ...   \n",
       "3        0x684e4ed51d350b4d76a3a07864df572d24e6dc4c/6531  ...   \n",
       "4        0x306b1ea3ecdf94ab739f1910bbda052ed4a9f949/2534  ...   \n",
       "...                                                  ...  ...   \n",
       "878876   0x209e639a0ec166ac7a1a4ba41968fa967db30221/4393  ...   \n",
       "878877   0xf442459c8bb4b891b789e816775232b812eb2ccd/8987  ...   \n",
       "878878   0xf442459c8bb4b891b789e816775232b812eb2ccd/8312  ...   \n",
       "878879    0x40c345f02b56041d1d0ade97de5bb65158738ef3/943  ...   \n",
       "878880   0x6cb26df0c825fece867a84658f87b0ecbcea72f6/1860  ...   \n",
       "\n",
       "                                            sim_nft_id_6 sim_score_6  \\\n",
       "0        0x2e541cec5cb41e7678ac3c8e91acb3fc1db0da07/5947    0.577350   \n",
       "1        0x358f8ac9a5f8891cb98f61ce5f6466ffc8e28c68/1742    0.577350   \n",
       "2         0x1fb7b8ad0c8368db5463b34d5ea58778706d580e/881    0.577350   \n",
       "3        0x0b7600ca77fc257fe7eb432f87825cccc4590037/8059    0.577350   \n",
       "4        0x2ee6af0dff3a1ce3f7e3414c52c48fd50d73691e/1291    0.577350   \n",
       "...                                                  ...         ...   \n",
       "878876  0xca21d4228cdcc68d4e23807e5e370c07577dd152/35011    1.603567   \n",
       "878877   0xf442459c8bb4b891b789e816775232b812eb2ccd/9628    1.666667   \n",
       "878878   0xf442459c8bb4b891b789e816775232b812eb2ccd/9628    1.666667   \n",
       "878879     0xa0bae4c0410d79398703cbd9a30d010d414ab0da/70    3.888889   \n",
       "878880  0x34d85c9cdeb23fa97cb08333b511ac86e1c4e258/59895    1.664101   \n",
       "\n",
       "                                            sim_nft_id_7 sim_score_7  \\\n",
       "0        0x54616c0815c306fc22417b96282ca4aa6f47d357/6902    0.577350   \n",
       "1        0x358f8ac9a5f8891cb98f61ce5f6466ffc8e28c68/2617    0.577350   \n",
       "2        0x56e5003cc86e75e750fbdb4716c80a2a22d2b5c5/5917    0.577350   \n",
       "3        0x2a459947f0ac25ec28c197f09c2d88058a83f3bb/2624    0.577350   \n",
       "4        0xb852c6b5892256c264cc2c888ea462189154d8d7/4095    0.577350   \n",
       "...                                                  ...         ...   \n",
       "878876  0x011c77fa577c500deedad364b8af9e8540b808c0/11355    1.581139   \n",
       "878877   0xf442459c8bb4b891b789e816775232b812eb2ccd/9040    1.666667   \n",
       "878878   0xf442459c8bb4b891b789e816775232b812eb2ccd/9040    1.666667   \n",
       "878879     0xa0bae4c0410d79398703cbd9a30d010d414ab0da/69    3.888889   \n",
       "878880   0x209e639a0ec166ac7a1a4ba41968fa967db30221/4393    1.649916   \n",
       "\n",
       "                                            sim_nft_id_8 sim_score_8  \\\n",
       "0         0xc7457f480416e145093edb355f626faa0fc7f90e/417    0.577350   \n",
       "1        0x160c404b2b49cbc3240055ceaee026df1e8497a0/8052    0.577350   \n",
       "2        0x160c404b2b49cbc3240055ceaee026df1e8497a0/3220    0.577350   \n",
       "3        0x394e3d3044fc89fcdd966d3cb35ac0b32b0cda91/9340    0.577350   \n",
       "4        0x9a38dec0590abc8c883d72e52391090e948ddf12/1305    0.577350   \n",
       "...                                                  ...         ...   \n",
       "878876   0xdb7b094fdc04f51560a03a99f747044951b73727/2414    1.581139   \n",
       "878877   0xf442459c8bb4b891b789e816775232b812eb2ccd/8312    1.666667   \n",
       "878878   0xf442459c8bb4b891b789e816775232b812eb2ccd/8987    1.666667   \n",
       "878879     0xa0bae4c0410d79398703cbd9a30d010d414ab0da/66    3.888889   \n",
       "878880  0xca21d4228cdcc68d4e23807e5e370c07577dd152/35011    1.603567   \n",
       "\n",
       "                                            sim_nft_id_9 sim_score_9  \\\n",
       "0        0xc7457f480416e145093edb355f626faa0fc7f90e/2983    0.500000   \n",
       "1        0x358f8ac9a5f8891cb98f61ce5f6466ffc8e28c68/3731    0.577350   \n",
       "2        0xc86664e7d2608f881f796ee8e24fa9d4d7598406/3744    0.577350   \n",
       "3          0xbc5d78bb900b16f68b512fef44cf18c2d73fdac7/79    0.577350   \n",
       "4       0x524cab2ec69124574082676e6f654a18df49a048/12520    0.577350   \n",
       "...                                                  ...         ...   \n",
       "878876    0x1821363abc9e33f1bfbe3f96f7c68eca7f6af2bd/833    1.581139   \n",
       "878877   0x6cb26df0c825fece867a84658f87b0ecbcea72f6/1860    1.664101   \n",
       "878878   0x6cb26df0c825fece867a84658f87b0ecbcea72f6/2220    1.664101   \n",
       "878879     0xa0bae4c0410d79398703cbd9a30d010d414ab0da/68    3.888889   \n",
       "878880    0x1821363abc9e33f1bfbe3f96f7c68eca7f6af2bd/833    1.581139   \n",
       "\n",
       "                                           sim_nft_id_10 sim_score_10  \n",
       "0        0x8513db429f5fb564f473fd2e5c523fae33331aa5/1363     0.500000  \n",
       "1       0x34d85c9cdeb23fa97cb08333b511ac86e1c4e258/95193     0.577350  \n",
       "2        0x2e541cec5cb41e7678ac3c8e91acb3fc1db0da07/3632     0.577350  \n",
       "3        0x0ee80069c9b4993882fe0b3fc256260eff385982/6867     0.577350  \n",
       "4       0x60e4d786628fea6478f785a6d7e704777c86a7c6/11270     0.577350  \n",
       "...                                                  ...          ...  \n",
       "878876   0x4591c791790f352685a29111eca67abdc878863e/6534     1.581139  \n",
       "878877   0x6cb26df0c825fece867a84658f87b0ecbcea72f6/2220     1.664101  \n",
       "878878  0x34d85c9cdeb23fa97cb08333b511ac86e1c4e258/59895     1.664101  \n",
       "878879     0xa0bae4c0410d79398703cbd9a30d010d414ab0da/67     3.888889  \n",
       "878880   0xdb7b094fdc04f51560a03a99f747044951b73727/2414     1.581139  \n",
       "\n",
       "[878176 rows x 21 columns]"
      ]
     },
     "execution_count": 131,
     "metadata": {},
     "output_type": "execute_result"
    }
   ],
   "source": [
    "filtered_reco"
   ]
  },
  {
   "cell_type": "code",
   "execution_count": 133,
   "id": "3520471d",
   "metadata": {},
   "outputs": [
    {
     "data": {
      "text/plain": [
       "nft_id              0\n",
       "sim_nft_id_1        0\n",
       "sim_score_1         0\n",
       "sim_nft_id_2      733\n",
       "sim_score_2       733\n",
       "sim_nft_id_3     1615\n",
       "sim_score_3      1615\n",
       "sim_nft_id_4     2609\n",
       "sim_score_4      2609\n",
       "sim_nft_id_5     3683\n",
       "sim_score_5      3683\n",
       "sim_nft_id_6     4773\n",
       "sim_score_6      4773\n",
       "sim_nft_id_7     5950\n",
       "sim_score_7      5950\n",
       "sim_nft_id_8     7161\n",
       "sim_score_8      7161\n",
       "sim_nft_id_9     8446\n",
       "sim_score_9      8446\n",
       "sim_nft_id_10    9714\n",
       "sim_score_10     9714\n",
       "dtype: int64"
      ]
     },
     "execution_count": 133,
     "metadata": {},
     "output_type": "execute_result"
    }
   ],
   "source": [
    "filtered_reco.isna().sum()"
   ]
  },
  {
   "cell_type": "code",
   "execution_count": null,
   "id": "932b8a17",
   "metadata": {},
   "outputs": [],
   "source": []
  }
 ],
 "metadata": {
  "kernelspec": {
   "display_name": "Python 3 (ipykernel)",
   "language": "python",
   "name": "python3"
  },
  "language_info": {
   "codemirror_mode": {
    "name": "ipython",
    "version": 3
   },
   "file_extension": ".py",
   "mimetype": "text/x-python",
   "name": "python",
   "nbconvert_exporter": "python",
   "pygments_lexer": "ipython3",
   "version": "3.9.6"
  },
  "vscode": {
   "interpreter": {
    "hash": "31f2aee4e71d21fbe5cf8b01ff0e069b9275f58929596ceb00d14d90e3e16cd6"
   }
  }
 },
 "nbformat": 4,
 "nbformat_minor": 5
}
