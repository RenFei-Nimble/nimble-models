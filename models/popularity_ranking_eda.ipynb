{
 "cells": [
  {
   "cell_type": "markdown",
   "id": "0fcb4f37",
   "metadata": {},
   "source": [
    "# Exploratory Data Analysis on NFT transfer data for Popularity Ranking\n",
    "\n",
    "## 1. Goal\n",
    "\n",
    "### By the end of this notebook, we will:\n",
    "- Understahd what EDA is for and which tools we use.\n",
    "- Understand how to screen and use NFT transfer data to do popularity ranking.\n",
    "- Be able to understand the univariate distiribution of value (price), token_address, and token_id.\n",
    "\n",
    "## 2. Todos\n",
    "- Multivariate visualizations, for mapping and understanding interactions between different fields in the data.\n",
    "- K-means Clustering.\n",
    "- Predictive models, such as linear regression, use statistics and data to predict outcomes.\n",
    "- Use API to find blacklist candidates. \n",
    "\n",
    "\n",
    "## 3. Imports\n",
    "- collections.abc Iterator for typing\n",
    "- datetime date, timedelta to iterate over the range of dates\n",
    "- [web3](https://web3py.readthedocs.io/en/stable/) Web3 to convert from wei to ether\n",
    "- logging to log info, warnings, and errors\n",
    "- [matplotlib](https://matplotlib.org/).pyplot to plot data\n",
    "- os to validate local paths and generate paths\n",
    "- [pandas](https://pandas.pydata.org/) to handle data\n",
    "- string for typing\n",
    "- warnings for suppressing warnings in the notebook"
   ]
  },
  {
   "cell_type": "code",
   "execution_count": 1,
   "id": "13c05639",
   "metadata": {},
   "outputs": [],
   "source": [
    "%matplotlib inline\n",
    "# Import libraries\n",
    "from collections.abc import Iterator\n",
    "from datetime import date, timedelta\n",
    "from web3 import Web3\n",
    "\n",
    "import logging\n",
    "import matplotlib.pyplot as plt\n",
    "import numpy as np\n",
    "import os\n",
    "import pandas as pd\n",
    "import string\n",
    "import warnings\n",
    "warnings.filterwarnings('ignore')"
   ]
  },
  {
   "cell_type": "markdown",
   "id": "b900175d",
   "metadata": {},
   "source": [
    "## 4. Helper Functions\n",
    "- `iterate_dates`: Yields date in range of [start_date, end_date].\n",
    "- `convert_value_from_wei`: Converts value in WEI to unit for transfers where possible units are 'kwei', 'mwei', 'gwei', 'microether', 'milliether', 'ether'.\n",
    "- `load_transfer_data`: Loads NFT token transfer data with value in ether from start_date to end_date.\n",
    "- `get_outliers`: Returns the numpy array of outlier values from a column.\n",
    "- `get_high_outliers`: Returns the array of high outliers from a column.\n",
    "- `get_inliers`: Returns the array of inliers from a column."
   ]
  },
  {
   "cell_type": "code",
   "execution_count": 2,
   "id": "745403ea",
   "metadata": {},
   "outputs": [],
   "source": [
    "def iterate_dates(start_date: date, end_date: date) -> Iterator[date]:\n",
    "    '''Yields date in range of [start_date, end_date]\n",
    "\n",
    "    Args:\n",
    "        start_date: inclusive start date\n",
    "        end_date: inclusive end date\n",
    "    '''\n",
    "    for n in range(int((end_date - start_date).days)+1):\n",
    "        yield start_date + timedelta(n)\n",
    "\n",
    "def convert_value_from_wei(transfers: pd.DataFrame, unit: string) -> pd.DataFrame:\n",
    "    '''Convert value in WEI to unit for transfers\n",
    "        where possible units are 'kwei', 'mwei', 'gwei', 'microether', 'milliether', 'ether'\n",
    "\n",
    "    Args:\n",
    "        transfers: dataframe you want to convert the value of\n",
    "        unit: unit to convert to\n",
    "\n",
    "    Returns:\n",
    "        a new dataframe with converted value\n",
    "\n",
    "    Raises:\n",
    "        ValueError if unit is not valid\n",
    "    '''\n",
    "    if unit not in ['kwei', 'mwei', 'gwei', 'microether', 'milliether', 'ether']:\n",
    "        raise ValueError(\"Invalid unit\")\n",
    "    values_in_ether = transfers['value'].apply(lambda x: float(Web3.fromWei(int(x), unit)))\n",
    "    transfers['value'] = values_in_ether\n",
    "    return transfers\n",
    "\n",
    "def load_transfer_data(start_date: date, end_date: date, local_path: string) -> pd.DataFrame:\n",
    "    \"\"\"Loads NFT token transfer data with value in ether from start_date to end_date\n",
    "\n",
    "    Args:\n",
    "        start_date: an inclusive start date for nft token transfers\n",
    "        end_date: an inclusive end date for nft token transfers\n",
    "        local_path: a local path where the nft toke transfer date is located\n",
    "    \n",
    "    Returns:\n",
    "        concatenated transfers dataframe for [start_date, end_date]\n",
    "\n",
    "    Raises:\n",
    "        ValueError: if start_date is greater than end_date\n",
    "        FileNotFoundError: if local_path does not exist or if no csv file is found in the local_path\n",
    "    \"\"\"\n",
    "    if not os.path.exists(local_path):\n",
    "        raise FileNotFoundError(\"The local_path does not exist\")\n",
    "    if start_date > end_date:\n",
    "        raise ValueError(\"The 'end_date' should be equal to or greather than 'start_date'\")\n",
    "\n",
    "    transfers_list = []\n",
    "    for date_ in iterate_dates(start_date, end_date):\n",
    "        fname = os.path.join(local_path, \"nft_token_transfers={}.csv\".format(date_.strftime(\"%Y-%m-%d\")))\n",
    "        if os.path.exists(fname):\n",
    "            transfers = pd.read_csv(fname, low_memory=False)\n",
    "            transfers = convert_value_from_wei(transfers, 'ether')\n",
    "            transfers_list.append(transfers)\n",
    "        else:\n",
    "            logging.error(f\"{fname} does not exist\")\n",
    "    \n",
    "    if transfers_list:\n",
    "        return pd.concat(transfers_list, ignore_index=True)\n",
    "    else:\n",
    "        raise FileNotFoundError(f\"No csv file was loaded from {local_path}\")\n",
    "        \n",
    "def get_outliers(column: pd.Series) -> np.array:\n",
    "    \"\"\"Returns the array of outliers from a column\n",
    "    \n",
    "    Args:\n",
    "        column: a pandas series of values\n",
    "        \n",
    "    Returns:\n",
    "        numpy array of outliers\n",
    "    \"\"\"\n",
    "    outliers=[]\n",
    "    Q1 = column.quantile(.25)\n",
    "    Q3 = column.quantile(.75)\n",
    "    IQR = Q3 - Q1\n",
    "    lo = Q1 - (1.5 * IQR)\n",
    "    hi = Q3 + (1.5 * IQR)\n",
    "    for e in column:\n",
    "        if e > hi or e < lo:\n",
    "            outliers.append(e)\n",
    "    \n",
    "    return np.array(outliers)\n",
    "\n",
    "def get_high_outliers(column: pd.Series) -> np.array:\n",
    "    \"\"\"Returns the array of high outliers from a column\n",
    "    \n",
    "    Args:\n",
    "        column: a pandas series of values\n",
    "        \n",
    "    Returns:\n",
    "        numpy array of high outliers\n",
    "    \"\"\"\n",
    "    outliers=[]\n",
    "    Q1 = column.quantile(.25)\n",
    "    Q3 = column.quantile(.75)\n",
    "    IQR = Q3 - Q1\n",
    "    hi = Q3 + (1.5 * IQR)\n",
    "    for e in column:\n",
    "        if e > hi:\n",
    "            outliers.append(e)\n",
    "    \n",
    "    return np.array(outliers)\n",
    "\n",
    "def get_inliers(column: pd.Series) -> np.array:\n",
    "    \"\"\"Returns the array of inliers from a column\n",
    "    \n",
    "    Args:\n",
    "        column: a pandas series of values\n",
    "        \n",
    "    Returns: \n",
    "        numpy array of inliers\n",
    "    \"\"\"\n",
    "    inliers=[]\n",
    "    Q1 = column.quantile(.25)\n",
    "    Q3 = column.quantile(.75)\n",
    "    IQR = Q3 - Q1    \n",
    "    lo = Q1 - (1.5 * IQR)\n",
    "    hi = Q3 + (1.5 * IQR)\n",
    "    for e in column:\n",
    "        if e <= hi and e >= lo:\n",
    "            inliers.append(e)\n",
    "    \n",
    "    return np.array(inliers)"
   ]
  },
  {
   "cell_type": "markdown",
   "id": "2ba96ad4",
   "metadata": {},
   "source": [
    "## 5. Loading NFT Transfer Data Set\n",
    "- Loading nft_token_transfers={`date`}.csv where date = 2022/05/01 ~ 2022/08/03\n",
    "### File Information\n",
    "   - nft_token_transfers={`date`}.csv: This .csv file contains data about NFT transfers on `date`."
   ]
  },
  {
   "cell_type": "code",
   "execution_count": 3,
   "id": "7c8e5b39",
   "metadata": {},
   "outputs": [
    {
     "name": "stderr",
     "output_type": "stream",
     "text": [
      "ERROR:root:../../../nft-recommendation-data-analysis-data/nft-token-transfers/nft_token_transfers=2022-05-19.csv does not exist\n",
      "ERROR:root:../../../nft-recommendation-data-analysis-data/nft-token-transfers/nft_token_transfers=2022-05-20.csv does not exist\n",
      "ERROR:root:../../../nft-recommendation-data-analysis-data/nft-token-transfers/nft_token_transfers=2022-05-21.csv does not exist\n",
      "ERROR:root:../../../nft-recommendation-data-analysis-data/nft-token-transfers/nft_token_transfers=2022-05-22.csv does not exist\n",
      "ERROR:root:../../../nft-recommendation-data-analysis-data/nft-token-transfers/nft_token_transfers=2022-05-23.csv does not exist\n",
      "ERROR:root:../../../nft-recommendation-data-analysis-data/nft-token-transfers/nft_token_transfers=2022-05-24.csv does not exist\n",
      "ERROR:root:../../../nft-recommendation-data-analysis-data/nft-token-transfers/nft_token_transfers=2022-05-25.csv does not exist\n",
      "ERROR:root:../../../nft-recommendation-data-analysis-data/nft-token-transfers/nft_token_transfers=2022-05-26.csv does not exist\n",
      "ERROR:root:../../../nft-recommendation-data-analysis-data/nft-token-transfers/nft_token_transfers=2022-05-27.csv does not exist\n"
     ]
    },
    {
     "name": "stdout",
     "output_type": "stream",
     "text": [
      "CPU times: user 1min 57s, sys: 10.5 s, total: 2min 8s\n",
      "Wall time: 2min 8s\n"
     ]
    }
   ],
   "source": [
    "%%time\n",
    "# Load transfer data for multiple dates in range [start_date, end_date]\n",
    "start_date = date(2022,5,1)\n",
    "end_date = date(2022,8,3)\n",
    "local_path = \"../../../nft-recommendation-data-analysis-data/nft-token-transfers\"\n",
    "transfers = load_transfer_data(start_date, end_date, local_path)"
   ]
  },
  {
   "cell_type": "markdown",
   "id": "c3f549ac",
   "metadata": {},
   "source": [
    "## 6. Exploratory Data Analysis (EDA)\n",
    "\n",
    "We analyze and investigate the NFT transfer data set and summarize its main characteristic with data visualization methods. We will gain insignts into how best to manipulate the data to get the best ranking. We will discover patterns, spot anomalies, and check assumptions. In short, EDA provides a better understanding of data set variables and the relationships between them.\n",
    "\n",
    "We will be using:\n",
    "- Univariate visualization of each field in the raw dataset, with summary statistics.\n",
    "\n",
    "We will:\n",
    "- Screen data.\n",
    "- Identify outliers.\n",
    "- Check assumptions.\n",
    "\n",
    "\n",
    "### 6.1 Basic Analysis\n",
    "\n",
    "- Total # of transactions.\n",
    "- Features: \n",
    "    - amount\n",
    "    - block_hash\n",
    "    - block_number\n",
    "    - block_timestamp\n",
    "    - contract_type\n",
    "    - from_address\n",
    "    - log_index, operator\n",
    "    - to_address\n",
    "    - token_address\n",
    "    - token_id\n",
    "    - transaction_hash\n",
    "    - transaction_index\n",
    "    - transaction_type\n",
    "    - value \n",
    "    - verified\n",
    "- Data types of each columns.\n",
    "    - Confirm that value is saved in floats.\n",
    "    - In the future, it will be better to import block_timestamp as datetime or is it already?\n",
    "- Checks the uniqueness of each column.\n",
    "    - Why do we have multiple contract_types and amount?"
   ]
  },
  {
   "cell_type": "code",
   "execution_count": 4,
   "id": "7846ee53",
   "metadata": {},
   "outputs": [
    {
     "data": {
      "text/html": [
       "<div>\n",
       "<style scoped>\n",
       "    .dataframe tbody tr th:only-of-type {\n",
       "        vertical-align: middle;\n",
       "    }\n",
       "\n",
       "    .dataframe tbody tr th {\n",
       "        vertical-align: top;\n",
       "    }\n",
       "\n",
       "    .dataframe thead th {\n",
       "        text-align: right;\n",
       "    }\n",
       "</style>\n",
       "<table border=\"1\" class=\"dataframe\">\n",
       "  <thead>\n",
       "    <tr style=\"text-align: right;\">\n",
       "      <th></th>\n",
       "      <th>amount</th>\n",
       "      <th>block_hash</th>\n",
       "      <th>block_number</th>\n",
       "      <th>block_timestamp</th>\n",
       "      <th>contract_type</th>\n",
       "      <th>from_address</th>\n",
       "      <th>log_index</th>\n",
       "      <th>operator</th>\n",
       "      <th>to_address</th>\n",
       "      <th>token_address</th>\n",
       "      <th>token_id</th>\n",
       "      <th>transaction_hash</th>\n",
       "      <th>transaction_index</th>\n",
       "      <th>transaction_type</th>\n",
       "      <th>value</th>\n",
       "      <th>verified</th>\n",
       "    </tr>\n",
       "  </thead>\n",
       "  <tbody>\n",
       "    <tr>\n",
       "      <th>0</th>\n",
       "      <td>1</td>\n",
       "      <td>0xb58d4afaac7009f3bceb77c615aaae3af3853d8586d2...</td>\n",
       "      <td>14695010</td>\n",
       "      <td>2022-05-01T23:59:13.000Z</td>\n",
       "      <td>ERC1155</td>\n",
       "      <td>0x27792e7d87a5f05334b52c0584ad8497852aef8b</td>\n",
       "      <td>675</td>\n",
       "      <td>0xae9d5478814305148fe82dbea70e72c7ff0abbde</td>\n",
       "      <td>0x6d18e2fd549e5a816fbce4aee665283db243caf9</td>\n",
       "      <td>0x495f947276749ce646f68ac8c248420045cb7b5e</td>\n",
       "      <td>1785431045419628203587059284159807424926884684...</td>\n",
       "      <td>0xfa59235a4aba3f57b295090cd6f9bce2f7f7006c1136...</td>\n",
       "      <td>317</td>\n",
       "      <td>Single</td>\n",
       "      <td>0.000000</td>\n",
       "      <td>1</td>\n",
       "    </tr>\n",
       "    <tr>\n",
       "      <th>1</th>\n",
       "      <td>1</td>\n",
       "      <td>0xb58d4afaac7009f3bceb77c615aaae3af3853d8586d2...</td>\n",
       "      <td>14695010</td>\n",
       "      <td>2022-05-01T23:59:13.000Z</td>\n",
       "      <td>ERC721</td>\n",
       "      <td>0x59346047b015a159e5340122b0c9134043dc00e1</td>\n",
       "      <td>668</td>\n",
       "      <td>NaN</td>\n",
       "      <td>0x9d08b5dea1cbd21e8eb76e49d69746909ba2239d</td>\n",
       "      <td>0x34d85c9cdeb23fa97cb08333b511ac86e1c4e258</td>\n",
       "      <td>51199</td>\n",
       "      <td>0xf75ff58cd2186a85fb3f957340b2564733da530f16a8...</td>\n",
       "      <td>312</td>\n",
       "      <td>Single</td>\n",
       "      <td>0.000000</td>\n",
       "      <td>1</td>\n",
       "    </tr>\n",
       "    <tr>\n",
       "      <th>2</th>\n",
       "      <td>1</td>\n",
       "      <td>0xb58d4afaac7009f3bceb77c615aaae3af3853d8586d2...</td>\n",
       "      <td>14695010</td>\n",
       "      <td>2022-05-01T23:59:13.000Z</td>\n",
       "      <td>ERC721</td>\n",
       "      <td>0x283af0b28c62c092c9727f1ee09c02ca627eb7f5</td>\n",
       "      <td>664</td>\n",
       "      <td>NaN</td>\n",
       "      <td>0xf7a766f28e561fc25fe5c445fdcd8e353afc3d63</td>\n",
       "      <td>0x57f1887a8bf19b14fc0df6fd9b2acc9af147ea85</td>\n",
       "      <td>3371214892998853998010100240008899446379973043...</td>\n",
       "      <td>0xda3143b89a0c701afe5a17346625d1129c9d2ba3cfc6...</td>\n",
       "      <td>308</td>\n",
       "      <td>Single</td>\n",
       "      <td>0.001945</td>\n",
       "      <td>1</td>\n",
       "    </tr>\n",
       "    <tr>\n",
       "      <th>3</th>\n",
       "      <td>1</td>\n",
       "      <td>0xb58d4afaac7009f3bceb77c615aaae3af3853d8586d2...</td>\n",
       "      <td>14695010</td>\n",
       "      <td>2022-05-01T23:59:13.000Z</td>\n",
       "      <td>ERC721</td>\n",
       "      <td>0x0000000000000000000000000000000000000000</td>\n",
       "      <td>657</td>\n",
       "      <td>NaN</td>\n",
       "      <td>0x283af0b28c62c092c9727f1ee09c02ca627eb7f5</td>\n",
       "      <td>0x57f1887a8bf19b14fc0df6fd9b2acc9af147ea85</td>\n",
       "      <td>3371214892998853998010100240008899446379973043...</td>\n",
       "      <td>0xda3143b89a0c701afe5a17346625d1129c9d2ba3cfc6...</td>\n",
       "      <td>308</td>\n",
       "      <td>Single</td>\n",
       "      <td>0.001945</td>\n",
       "      <td>1</td>\n",
       "    </tr>\n",
       "    <tr>\n",
       "      <th>4</th>\n",
       "      <td>1</td>\n",
       "      <td>0xb58d4afaac7009f3bceb77c615aaae3af3853d8586d2...</td>\n",
       "      <td>14695010</td>\n",
       "      <td>2022-05-01T23:59:13.000Z</td>\n",
       "      <td>ERC721</td>\n",
       "      <td>0xb56753544255746c4e9647df7d2e641f8b13c6ba</td>\n",
       "      <td>636</td>\n",
       "      <td>NaN</td>\n",
       "      <td>0xbb14199294a45467b760db495c0a767bfc057f8a</td>\n",
       "      <td>0xd9b78a2f1dafc8bb9c60961790d2beefebee56f4</td>\n",
       "      <td>2792</td>\n",
       "      <td>0x9437e96a57f91ceb71e7d971b894f6b1443894fb067a...</td>\n",
       "      <td>302</td>\n",
       "      <td>Single</td>\n",
       "      <td>0.310000</td>\n",
       "      <td>1</td>\n",
       "    </tr>\n",
       "  </tbody>\n",
       "</table>\n",
       "</div>"
      ],
      "text/plain": [
       "  amount                                         block_hash  block_number  \\\n",
       "0      1  0xb58d4afaac7009f3bceb77c615aaae3af3853d8586d2...      14695010   \n",
       "1      1  0xb58d4afaac7009f3bceb77c615aaae3af3853d8586d2...      14695010   \n",
       "2      1  0xb58d4afaac7009f3bceb77c615aaae3af3853d8586d2...      14695010   \n",
       "3      1  0xb58d4afaac7009f3bceb77c615aaae3af3853d8586d2...      14695010   \n",
       "4      1  0xb58d4afaac7009f3bceb77c615aaae3af3853d8586d2...      14695010   \n",
       "\n",
       "            block_timestamp contract_type  \\\n",
       "0  2022-05-01T23:59:13.000Z       ERC1155   \n",
       "1  2022-05-01T23:59:13.000Z        ERC721   \n",
       "2  2022-05-01T23:59:13.000Z        ERC721   \n",
       "3  2022-05-01T23:59:13.000Z        ERC721   \n",
       "4  2022-05-01T23:59:13.000Z        ERC721   \n",
       "\n",
       "                                 from_address  log_index  \\\n",
       "0  0x27792e7d87a5f05334b52c0584ad8497852aef8b        675   \n",
       "1  0x59346047b015a159e5340122b0c9134043dc00e1        668   \n",
       "2  0x283af0b28c62c092c9727f1ee09c02ca627eb7f5        664   \n",
       "3  0x0000000000000000000000000000000000000000        657   \n",
       "4  0xb56753544255746c4e9647df7d2e641f8b13c6ba        636   \n",
       "\n",
       "                                     operator  \\\n",
       "0  0xae9d5478814305148fe82dbea70e72c7ff0abbde   \n",
       "1                                         NaN   \n",
       "2                                         NaN   \n",
       "3                                         NaN   \n",
       "4                                         NaN   \n",
       "\n",
       "                                   to_address  \\\n",
       "0  0x6d18e2fd549e5a816fbce4aee665283db243caf9   \n",
       "1  0x9d08b5dea1cbd21e8eb76e49d69746909ba2239d   \n",
       "2  0xf7a766f28e561fc25fe5c445fdcd8e353afc3d63   \n",
       "3  0x283af0b28c62c092c9727f1ee09c02ca627eb7f5   \n",
       "4  0xbb14199294a45467b760db495c0a767bfc057f8a   \n",
       "\n",
       "                                token_address  \\\n",
       "0  0x495f947276749ce646f68ac8c248420045cb7b5e   \n",
       "1  0x34d85c9cdeb23fa97cb08333b511ac86e1c4e258   \n",
       "2  0x57f1887a8bf19b14fc0df6fd9b2acc9af147ea85   \n",
       "3  0x57f1887a8bf19b14fc0df6fd9b2acc9af147ea85   \n",
       "4  0xd9b78a2f1dafc8bb9c60961790d2beefebee56f4   \n",
       "\n",
       "                                            token_id  \\\n",
       "0  1785431045419628203587059284159807424926884684...   \n",
       "1                                              51199   \n",
       "2  3371214892998853998010100240008899446379973043...   \n",
       "3  3371214892998853998010100240008899446379973043...   \n",
       "4                                               2792   \n",
       "\n",
       "                                    transaction_hash  transaction_index  \\\n",
       "0  0xfa59235a4aba3f57b295090cd6f9bce2f7f7006c1136...                317   \n",
       "1  0xf75ff58cd2186a85fb3f957340b2564733da530f16a8...                312   \n",
       "2  0xda3143b89a0c701afe5a17346625d1129c9d2ba3cfc6...                308   \n",
       "3  0xda3143b89a0c701afe5a17346625d1129c9d2ba3cfc6...                308   \n",
       "4  0x9437e96a57f91ceb71e7d971b894f6b1443894fb067a...                302   \n",
       "\n",
       "  transaction_type     value  verified  \n",
       "0           Single  0.000000         1  \n",
       "1           Single  0.000000         1  \n",
       "2           Single  0.001945         1  \n",
       "3           Single  0.001945         1  \n",
       "4           Single  0.310000         1  "
      ]
     },
     "execution_count": 4,
     "metadata": {},
     "output_type": "execute_result"
    }
   ],
   "source": [
    "transfers.head()"
   ]
  },
  {
   "cell_type": "code",
   "execution_count": 5,
   "id": "73fdc1a3",
   "metadata": {},
   "outputs": [
    {
     "name": "stdout",
     "output_type": "stream",
     "text": [
      "The shape of data: (38599376, 16)\n",
      "Column 0: amount\n",
      "Column 1: block_hash\n",
      "Column 2: block_number\n",
      "Column 3: block_timestamp\n",
      "Column 4: contract_type\n",
      "Column 5: from_address\n",
      "Column 6: log_index\n",
      "Column 7: operator\n",
      "Column 8: to_address\n",
      "Column 9: token_address\n",
      "Column 10: token_id\n",
      "Column 11: transaction_hash\n",
      "Column 12: transaction_index\n",
      "Column 13: transaction_type\n",
      "Column 14: value\n",
      "Column 15: verified\n"
     ]
    }
   ],
   "source": [
    "# Print out all column names\n",
    "print(f'The shape of data: {transfers.shape}')\n",
    "for i, col_name in enumerate(transfers.columns):\n",
    "    print(f\"Column {i}: {col_name}\")"
   ]
  },
  {
   "cell_type": "code",
   "execution_count": 6,
   "id": "a296fd4b",
   "metadata": {},
   "outputs": [
    {
     "data": {
      "text/plain": [
       "amount                  15978\n",
       "block_hash             505299\n",
       "block_number           505299\n",
       "block_timestamp        505299\n",
       "contract_type               3\n",
       "from_address           994132\n",
       "log_index               14067\n",
       "operator               331575\n",
       "to_address            1975828\n",
       "token_address           61625\n",
       "token_id              1703049\n",
       "transaction_hash     15955857\n",
       "transaction_index        1124\n",
       "transaction_type            2\n",
       "value                  210498\n",
       "verified                    2\n",
       "dtype: int64"
      ]
     },
     "execution_count": 6,
     "metadata": {},
     "output_type": "execute_result"
    }
   ],
   "source": [
    "# Checks for uniqueness\n",
    "transfers.nunique(axis=0)"
   ]
  },
  {
   "cell_type": "code",
   "execution_count": 7,
   "id": "2a2b0b46",
   "metadata": {},
   "outputs": [
    {
     "name": "stdout",
     "output_type": "stream",
     "text": [
      "<class 'pandas.core.frame.DataFrame'>\n",
      "RangeIndex: 38599376 entries, 0 to 38599375\n",
      "Data columns (total 16 columns):\n",
      " #   Column             Dtype  \n",
      "---  ------             -----  \n",
      " 0   amount             object \n",
      " 1   block_hash         object \n",
      " 2   block_number       int64  \n",
      " 3   block_timestamp    object \n",
      " 4   contract_type      object \n",
      " 5   from_address       object \n",
      " 6   log_index          int64  \n",
      " 7   operator           object \n",
      " 8   to_address         object \n",
      " 9   token_address      object \n",
      " 10  token_id           object \n",
      " 11  transaction_hash   object \n",
      " 12  transaction_index  int64  \n",
      " 13  transaction_type   object \n",
      " 14  value              float64\n",
      " 15  verified           int64  \n",
      "dtypes: float64(1), int64(4), object(11)\n",
      "memory usage: 4.6+ GB\n"
     ]
    }
   ],
   "source": [
    "# Prints out data types of the columns\n",
    "transfers.info()"
   ]
  },
  {
   "cell_type": "markdown",
   "id": "0698b402",
   "metadata": {},
   "source": [
    "### 6.2 Initial Data Screening\n",
    "- Handle Nulls.\n",
    "- Filter out non ERC721's.\n",
    "- Manually checked and CryptoPunks did not have contract type.\n",
    "- Keeping only ERC721 is not advised."
   ]
  },
  {
   "cell_type": "markdown",
   "id": "e5d98e25",
   "metadata": {},
   "source": [
    "#### 6.2.1 Handle Nulls\n",
    "- Counts the number of nulls in each column.\n",
    "- There are some Null in contract_type, operator, and token_id.\n",
    "- All Null items are replace by \"N/A\"."
   ]
  },
  {
   "cell_type": "code",
   "execution_count": 8,
   "id": "9b4f6788",
   "metadata": {},
   "outputs": [
    {
     "data": {
      "text/plain": [
       "amount                      0\n",
       "block_hash                  0\n",
       "block_number                0\n",
       "block_timestamp             0\n",
       "contract_type            2871\n",
       "from_address                0\n",
       "log_index                   0\n",
       "operator             35408159\n",
       "to_address                  0\n",
       "token_address               0\n",
       "token_id                 2967\n",
       "transaction_hash            0\n",
       "transaction_index           0\n",
       "transaction_type            0\n",
       "value                       0\n",
       "verified                    0\n",
       "dtype: int64"
      ]
     },
     "execution_count": 8,
     "metadata": {},
     "output_type": "execute_result"
    }
   ],
   "source": [
    "transfers.isnull().sum()"
   ]
  },
  {
   "cell_type": "code",
   "execution_count": 9,
   "id": "b93eda03",
   "metadata": {},
   "outputs": [],
   "source": [
    "transfers.fillna(\"N/A\", inplace=True)"
   ]
  },
  {
   "cell_type": "code",
   "execution_count": 10,
   "id": "0cfbda83",
   "metadata": {},
   "outputs": [
    {
     "data": {
      "text/plain": [
       "amount               0\n",
       "block_hash           0\n",
       "block_number         0\n",
       "block_timestamp      0\n",
       "contract_type        0\n",
       "from_address         0\n",
       "log_index            0\n",
       "operator             0\n",
       "to_address           0\n",
       "token_address        0\n",
       "token_id             0\n",
       "transaction_hash     0\n",
       "transaction_index    0\n",
       "transaction_type     0\n",
       "value                0\n",
       "verified             0\n",
       "dtype: int64"
      ]
     },
     "execution_count": 10,
     "metadata": {},
     "output_type": "execute_result"
    }
   ],
   "source": [
    "transfers.isnull().sum()"
   ]
  },
  {
   "cell_type": "markdown",
   "id": "8dc58dba",
   "metadata": {},
   "source": [
    "#### 6.2.2 Contract Type\n",
    "- Check that ERC721 is most of the data.\n",
    "- Keep ERC721 and N/A contract types.\n",
    "- Confirm that all ERC721 has amount == 1 (sanity check)."
   ]
  },
  {
   "cell_type": "code",
   "execution_count": 11,
   "id": "a753ee9e",
   "metadata": {},
   "outputs": [],
   "source": [
    "contract_type = transfers['contract_type']"
   ]
  },
  {
   "cell_type": "code",
   "execution_count": 12,
   "id": "37769e38",
   "metadata": {},
   "outputs": [
    {
     "data": {
      "text/plain": [
       "ERC721     35374781\n",
       "ERC1155     3213502\n",
       "ERC165         8222\n",
       "N/A            2871\n",
       "Name: contract_type, dtype: int64"
      ]
     },
     "execution_count": 12,
     "metadata": {},
     "output_type": "execute_result"
    }
   ],
   "source": [
    "contract_type.value_counts()"
   ]
  },
  {
   "cell_type": "code",
   "execution_count": 13,
   "id": "b07e7638",
   "metadata": {},
   "outputs": [
    {
     "data": {
      "text/plain": [
       "ERC721     0.916460\n",
       "ERC1155    0.083253\n",
       "ERC165     0.000213\n",
       "N/A        0.000074\n",
       "Name: contract_type, dtype: float64"
      ]
     },
     "execution_count": 13,
     "metadata": {},
     "output_type": "execute_result"
    }
   ],
   "source": [
    "contract_type.value_counts(normalize=True)"
   ]
  },
  {
   "cell_type": "code",
   "execution_count": 14,
   "id": "0d9ff161",
   "metadata": {},
   "outputs": [],
   "source": [
    "transfers = transfers[(transfers['contract_type'] == \"ERC721\") | (transfers['contract_type'] == \"N/A\")]"
   ]
  },
  {
   "cell_type": "code",
   "execution_count": 15,
   "id": "7e52aefb",
   "metadata": {},
   "outputs": [
    {
     "data": {
      "text/plain": [
       "1    1.0\n",
       "Name: amount, dtype: float64"
      ]
     },
     "execution_count": 15,
     "metadata": {},
     "output_type": "execute_result"
    }
   ],
   "source": [
    "transfers['amount'].value_counts(normalize=True)"
   ]
  },
  {
   "cell_type": "markdown",
   "id": "e7e2a713",
   "metadata": {},
   "source": [
    "### 6.3 Redo Basic Analysis"
   ]
  },
  {
   "cell_type": "code",
   "execution_count": 16,
   "id": "517b8ac0",
   "metadata": {},
   "outputs": [
    {
     "data": {
      "text/plain": [
       "(35377652, 16)"
      ]
     },
     "execution_count": 16,
     "metadata": {},
     "output_type": "execute_result"
    }
   ],
   "source": [
    "transfers.shape"
   ]
  },
  {
   "cell_type": "code",
   "execution_count": 17,
   "id": "34a3ce3f",
   "metadata": {},
   "outputs": [
    {
     "data": {
      "text/html": [
       "<div>\n",
       "<style scoped>\n",
       "    .dataframe tbody tr th:only-of-type {\n",
       "        vertical-align: middle;\n",
       "    }\n",
       "\n",
       "    .dataframe tbody tr th {\n",
       "        vertical-align: top;\n",
       "    }\n",
       "\n",
       "    .dataframe thead th {\n",
       "        text-align: right;\n",
       "    }\n",
       "</style>\n",
       "<table border=\"1\" class=\"dataframe\">\n",
       "  <thead>\n",
       "    <tr style=\"text-align: right;\">\n",
       "      <th></th>\n",
       "      <th>amount</th>\n",
       "      <th>block_hash</th>\n",
       "      <th>block_number</th>\n",
       "      <th>block_timestamp</th>\n",
       "      <th>contract_type</th>\n",
       "      <th>from_address</th>\n",
       "      <th>log_index</th>\n",
       "      <th>operator</th>\n",
       "      <th>to_address</th>\n",
       "      <th>token_address</th>\n",
       "      <th>token_id</th>\n",
       "      <th>transaction_hash</th>\n",
       "      <th>transaction_index</th>\n",
       "      <th>transaction_type</th>\n",
       "      <th>value</th>\n",
       "      <th>verified</th>\n",
       "    </tr>\n",
       "  </thead>\n",
       "  <tbody>\n",
       "    <tr>\n",
       "      <th>1</th>\n",
       "      <td>1</td>\n",
       "      <td>0xb58d4afaac7009f3bceb77c615aaae3af3853d8586d2...</td>\n",
       "      <td>14695010</td>\n",
       "      <td>2022-05-01T23:59:13.000Z</td>\n",
       "      <td>ERC721</td>\n",
       "      <td>0x59346047b015a159e5340122b0c9134043dc00e1</td>\n",
       "      <td>668</td>\n",
       "      <td>N/A</td>\n",
       "      <td>0x9d08b5dea1cbd21e8eb76e49d69746909ba2239d</td>\n",
       "      <td>0x34d85c9cdeb23fa97cb08333b511ac86e1c4e258</td>\n",
       "      <td>51199</td>\n",
       "      <td>0xf75ff58cd2186a85fb3f957340b2564733da530f16a8...</td>\n",
       "      <td>312</td>\n",
       "      <td>Single</td>\n",
       "      <td>0.000000</td>\n",
       "      <td>1</td>\n",
       "    </tr>\n",
       "    <tr>\n",
       "      <th>2</th>\n",
       "      <td>1</td>\n",
       "      <td>0xb58d4afaac7009f3bceb77c615aaae3af3853d8586d2...</td>\n",
       "      <td>14695010</td>\n",
       "      <td>2022-05-01T23:59:13.000Z</td>\n",
       "      <td>ERC721</td>\n",
       "      <td>0x283af0b28c62c092c9727f1ee09c02ca627eb7f5</td>\n",
       "      <td>664</td>\n",
       "      <td>N/A</td>\n",
       "      <td>0xf7a766f28e561fc25fe5c445fdcd8e353afc3d63</td>\n",
       "      <td>0x57f1887a8bf19b14fc0df6fd9b2acc9af147ea85</td>\n",
       "      <td>3371214892998853998010100240008899446379973043...</td>\n",
       "      <td>0xda3143b89a0c701afe5a17346625d1129c9d2ba3cfc6...</td>\n",
       "      <td>308</td>\n",
       "      <td>Single</td>\n",
       "      <td>0.001945</td>\n",
       "      <td>1</td>\n",
       "    </tr>\n",
       "    <tr>\n",
       "      <th>3</th>\n",
       "      <td>1</td>\n",
       "      <td>0xb58d4afaac7009f3bceb77c615aaae3af3853d8586d2...</td>\n",
       "      <td>14695010</td>\n",
       "      <td>2022-05-01T23:59:13.000Z</td>\n",
       "      <td>ERC721</td>\n",
       "      <td>0x0000000000000000000000000000000000000000</td>\n",
       "      <td>657</td>\n",
       "      <td>N/A</td>\n",
       "      <td>0x283af0b28c62c092c9727f1ee09c02ca627eb7f5</td>\n",
       "      <td>0x57f1887a8bf19b14fc0df6fd9b2acc9af147ea85</td>\n",
       "      <td>3371214892998853998010100240008899446379973043...</td>\n",
       "      <td>0xda3143b89a0c701afe5a17346625d1129c9d2ba3cfc6...</td>\n",
       "      <td>308</td>\n",
       "      <td>Single</td>\n",
       "      <td>0.001945</td>\n",
       "      <td>1</td>\n",
       "    </tr>\n",
       "    <tr>\n",
       "      <th>4</th>\n",
       "      <td>1</td>\n",
       "      <td>0xb58d4afaac7009f3bceb77c615aaae3af3853d8586d2...</td>\n",
       "      <td>14695010</td>\n",
       "      <td>2022-05-01T23:59:13.000Z</td>\n",
       "      <td>ERC721</td>\n",
       "      <td>0xb56753544255746c4e9647df7d2e641f8b13c6ba</td>\n",
       "      <td>636</td>\n",
       "      <td>N/A</td>\n",
       "      <td>0xbb14199294a45467b760db495c0a767bfc057f8a</td>\n",
       "      <td>0xd9b78a2f1dafc8bb9c60961790d2beefebee56f4</td>\n",
       "      <td>2792</td>\n",
       "      <td>0x9437e96a57f91ceb71e7d971b894f6b1443894fb067a...</td>\n",
       "      <td>302</td>\n",
       "      <td>Single</td>\n",
       "      <td>0.310000</td>\n",
       "      <td>1</td>\n",
       "    </tr>\n",
       "    <tr>\n",
       "      <th>5</th>\n",
       "      <td>1</td>\n",
       "      <td>0xb58d4afaac7009f3bceb77c615aaae3af3853d8586d2...</td>\n",
       "      <td>14695010</td>\n",
       "      <td>2022-05-01T23:59:13.000Z</td>\n",
       "      <td>ERC721</td>\n",
       "      <td>0xfc1207ab36d0aafebf9d27473326ead93e3b0cb8</td>\n",
       "      <td>633</td>\n",
       "      <td>N/A</td>\n",
       "      <td>0x636e5f84c3abab43802595cefe6ac3c0687da411</td>\n",
       "      <td>0xafe12842e3703a3cc3a71d9463389b1bf2c5bc1c</td>\n",
       "      <td>358</td>\n",
       "      <td>0x99224683b1fabf3de871251b564b9819775072f7c8d5...</td>\n",
       "      <td>301</td>\n",
       "      <td>Single</td>\n",
       "      <td>0.018000</td>\n",
       "      <td>1</td>\n",
       "    </tr>\n",
       "  </tbody>\n",
       "</table>\n",
       "</div>"
      ],
      "text/plain": [
       "  amount                                         block_hash  block_number  \\\n",
       "1      1  0xb58d4afaac7009f3bceb77c615aaae3af3853d8586d2...      14695010   \n",
       "2      1  0xb58d4afaac7009f3bceb77c615aaae3af3853d8586d2...      14695010   \n",
       "3      1  0xb58d4afaac7009f3bceb77c615aaae3af3853d8586d2...      14695010   \n",
       "4      1  0xb58d4afaac7009f3bceb77c615aaae3af3853d8586d2...      14695010   \n",
       "5      1  0xb58d4afaac7009f3bceb77c615aaae3af3853d8586d2...      14695010   \n",
       "\n",
       "            block_timestamp contract_type  \\\n",
       "1  2022-05-01T23:59:13.000Z        ERC721   \n",
       "2  2022-05-01T23:59:13.000Z        ERC721   \n",
       "3  2022-05-01T23:59:13.000Z        ERC721   \n",
       "4  2022-05-01T23:59:13.000Z        ERC721   \n",
       "5  2022-05-01T23:59:13.000Z        ERC721   \n",
       "\n",
       "                                 from_address  log_index operator  \\\n",
       "1  0x59346047b015a159e5340122b0c9134043dc00e1        668      N/A   \n",
       "2  0x283af0b28c62c092c9727f1ee09c02ca627eb7f5        664      N/A   \n",
       "3  0x0000000000000000000000000000000000000000        657      N/A   \n",
       "4  0xb56753544255746c4e9647df7d2e641f8b13c6ba        636      N/A   \n",
       "5  0xfc1207ab36d0aafebf9d27473326ead93e3b0cb8        633      N/A   \n",
       "\n",
       "                                   to_address  \\\n",
       "1  0x9d08b5dea1cbd21e8eb76e49d69746909ba2239d   \n",
       "2  0xf7a766f28e561fc25fe5c445fdcd8e353afc3d63   \n",
       "3  0x283af0b28c62c092c9727f1ee09c02ca627eb7f5   \n",
       "4  0xbb14199294a45467b760db495c0a767bfc057f8a   \n",
       "5  0x636e5f84c3abab43802595cefe6ac3c0687da411   \n",
       "\n",
       "                                token_address  \\\n",
       "1  0x34d85c9cdeb23fa97cb08333b511ac86e1c4e258   \n",
       "2  0x57f1887a8bf19b14fc0df6fd9b2acc9af147ea85   \n",
       "3  0x57f1887a8bf19b14fc0df6fd9b2acc9af147ea85   \n",
       "4  0xd9b78a2f1dafc8bb9c60961790d2beefebee56f4   \n",
       "5  0xafe12842e3703a3cc3a71d9463389b1bf2c5bc1c   \n",
       "\n",
       "                                            token_id  \\\n",
       "1                                              51199   \n",
       "2  3371214892998853998010100240008899446379973043...   \n",
       "3  3371214892998853998010100240008899446379973043...   \n",
       "4                                               2792   \n",
       "5                                                358   \n",
       "\n",
       "                                    transaction_hash  transaction_index  \\\n",
       "1  0xf75ff58cd2186a85fb3f957340b2564733da530f16a8...                312   \n",
       "2  0xda3143b89a0c701afe5a17346625d1129c9d2ba3cfc6...                308   \n",
       "3  0xda3143b89a0c701afe5a17346625d1129c9d2ba3cfc6...                308   \n",
       "4  0x9437e96a57f91ceb71e7d971b894f6b1443894fb067a...                302   \n",
       "5  0x99224683b1fabf3de871251b564b9819775072f7c8d5...                301   \n",
       "\n",
       "  transaction_type     value  verified  \n",
       "1           Single  0.000000         1  \n",
       "2           Single  0.001945         1  \n",
       "3           Single  0.001945         1  \n",
       "4           Single  0.310000         1  \n",
       "5           Single  0.018000         1  "
      ]
     },
     "execution_count": 17,
     "metadata": {},
     "output_type": "execute_result"
    }
   ],
   "source": [
    "transfers.head()"
   ]
  },
  {
   "cell_type": "code",
   "execution_count": 18,
   "id": "bcdf710f",
   "metadata": {},
   "outputs": [
    {
     "data": {
      "text/plain": [
       "amount                      1\n",
       "block_hash             503690\n",
       "block_number           503690\n",
       "block_timestamp        503690\n",
       "contract_type               2\n",
       "from_address           898103\n",
       "log_index               14067\n",
       "operator                    3\n",
       "to_address            1768351\n",
       "token_address           54380\n",
       "token_id              1445491\n",
       "transaction_hash     14651050\n",
       "transaction_index        1117\n",
       "transaction_type            1\n",
       "value                  204265\n",
       "verified                    2\n",
       "dtype: int64"
      ]
     },
     "execution_count": 18,
     "metadata": {},
     "output_type": "execute_result"
    }
   ],
   "source": [
    "transfers.nunique(axis=0)"
   ]
  },
  {
   "cell_type": "markdown",
   "id": "727a37a9",
   "metadata": {},
   "source": [
    "### 6.4 Univariate Analysis with Focus On Value (Price)"
   ]
  },
  {
   "cell_type": "markdown",
   "id": "a9327801",
   "metadata": {},
   "source": [
    "#### 6.4.1 Value (Price in ether)\n",
    "- We have many questions about if price data is solid.\n",
    "- Terraforms parsing seems to be wierd specifically.\n",
    "- Overall price data is very noisy, even at the top outlier section.\n",
    "- There is sudden rise in frequency at high price just for a single region.\n",
    "- Most transactions are 0 valued or valued very close to 0."
   ]
  },
  {
   "cell_type": "markdown",
   "id": "14f15dde",
   "metadata": {},
   "source": [
    "##### 6.4.1.1 Basic Analysis\n",
    "- The data is heavily right-skewed with the skewedness score ([SS](https://pandas.pydata.org/docs/reference/api/pandas.DataFrame.skew.html)), where positive SS means right-skewed and negative SS means left-skewed\n",
    "- We confirm our statistical observation with box plot."
   ]
  },
  {
   "cell_type": "code",
   "execution_count": 19,
   "id": "1b47bf94",
   "metadata": {},
   "outputs": [
    {
     "data": {
      "text/plain": [
       "1           0.000000\n",
       "2           0.001945\n",
       "3           0.001945\n",
       "4           0.310000\n",
       "5           0.018000\n",
       "              ...   \n",
       "38599371    0.000000\n",
       "38599372    0.000000\n",
       "38599373    0.000000\n",
       "38599374    0.000000\n",
       "38599375    0.000000\n",
       "Name: value, Length: 35377652, dtype: float64"
      ]
     },
     "execution_count": 19,
     "metadata": {},
     "output_type": "execute_result"
    }
   ],
   "source": [
    "value = transfers['value']\n",
    "value"
   ]
  },
  {
   "cell_type": "code",
   "execution_count": 20,
   "id": "f0e15aa7",
   "metadata": {},
   "outputs": [
    {
     "data": {
      "text/plain": [
       "count    3.537765e+07\n",
       "mean     2.692828e-01\n",
       "std      2.015947e+01\n",
       "min      0.000000e+00\n",
       "25%      0.000000e+00\n",
       "50%      0.000000e+00\n",
       "75%      1.000000e-02\n",
       "max      2.695200e+04\n",
       "Name: value, dtype: float64"
      ]
     },
     "execution_count": 20,
     "metadata": {},
     "output_type": "execute_result"
    }
   ],
   "source": [
    "value.describe()"
   ]
  },
  {
   "cell_type": "code",
   "execution_count": 21,
   "id": "ad6840a8",
   "metadata": {},
   "outputs": [
    {
     "data": {
      "text/plain": [
       "753.1684518946765"
      ]
     },
     "execution_count": 21,
     "metadata": {},
     "output_type": "execute_result"
    }
   ],
   "source": [
    "value.skew()"
   ]
  },
  {
   "cell_type": "code",
   "execution_count": 22,
   "id": "8fd3696a",
   "metadata": {},
   "outputs": [
    {
     "data": {
      "image/png": "[encoded data removed]",
      "text/plain": [
       "<Figure size 432x288 with 1 Axes>"
      ]
     },
     "metadata": {
      "needs_background": "light"
     },
     "output_type": "display_data"
    }
   ],
   "source": [
    "value.plot.box()\n",
    "plt.show()"
   ]
  },
  {
   "cell_type": "markdown",
   "id": "cb8c54dc",
   "metadata": {},
   "source": [
    "##### 6.4.1.2 Filter out 0 value transaction - There are 67.10% of 0 value transactions.\n",
    "- There are 67.10% of 0 value transactions.\n",
    "    - They seem to be transfers and no sales.\n",
    "- After filtering out 0 value, the SS improved to 432.739, but still very bad.\n",
    "- Keeps non 0 transfers for further analysis."
   ]
  },
  {
   "cell_type": "code",
   "execution_count": 23,
   "id": "7b34113f",
   "metadata": {},
   "outputs": [
    {
     "name": "stdout",
     "output_type": "stream",
     "text": [
      "0.6710360129155287\n"
     ]
    }
   ],
   "source": [
    "value_0 = transfers[transfers['value'] == 0]\n",
    "num_value_0 = value_0.shape[0]\n",
    "print(23737752 / 35374781)"
   ]
  },
  {
   "cell_type": "code",
   "execution_count": 24,
   "id": "d62f1b80",
   "metadata": {},
   "outputs": [
    {
     "data": {
      "text/plain": [
       "2             0.001945\n",
       "3             0.001945\n",
       "4             0.310000\n",
       "5             0.018000\n",
       "8           175.000000\n",
       "               ...    \n",
       "38599305      0.090000\n",
       "38599310      0.008900\n",
       "38599311      0.008900\n",
       "38599359      0.008900\n",
       "38599360      0.008900\n",
       "Name: value, Length: 11638069, dtype: float64"
      ]
     },
     "execution_count": 24,
     "metadata": {},
     "output_type": "execute_result"
    }
   ],
   "source": [
    "filtered_value = value[value != 0]\n",
    "filtered_value"
   ]
  },
  {
   "cell_type": "code",
   "execution_count": 25,
   "id": "cd9baa29",
   "metadata": {},
   "outputs": [
    {
     "data": {
      "text/plain": [
       "count    1.163807e+07\n",
       "mean     8.185715e-01\n",
       "std      3.514181e+01\n",
       "min      1.000000e-18\n",
       "25%      1.050000e-02\n",
       "50%      4.980000e-02\n",
       "75%      1.690000e-01\n",
       "max      2.695200e+04\n",
       "Name: value, dtype: float64"
      ]
     },
     "execution_count": 25,
     "metadata": {},
     "output_type": "execute_result"
    }
   ],
   "source": [
    "filtered_value.describe()"
   ]
  },
  {
   "cell_type": "code",
   "execution_count": 26,
   "id": "93b47fe8",
   "metadata": {},
   "outputs": [
    {
     "data": {
      "text/plain": [
       "432.1735036451095"
      ]
     },
     "execution_count": 26,
     "metadata": {},
     "output_type": "execute_result"
    }
   ],
   "source": [
    "filtered_value.skew()"
   ]
  },
  {
   "cell_type": "code",
   "execution_count": 27,
   "id": "768f22b7",
   "metadata": {},
   "outputs": [
    {
     "data": {
      "image/png": "[encoded data removed]",
      "text/plain": [
       "<Figure size 432x288 with 1 Axes>"
      ]
     },
     "metadata": {
      "needs_background": "light"
     },
     "output_type": "display_data"
    }
   ],
   "source": [
    "filtered_value.plot.box()\n",
    "plt.show()"
   ]
  },
  {
   "cell_type": "code",
   "execution_count": 28,
   "id": "8b45c23f",
   "metadata": {},
   "outputs": [
    {
     "data": {
      "image/png": "[encoded data removed]",
      "text/plain": [
       "<Figure size 432x288 with 1 Axes>"
      ]
     },
     "metadata": {
      "needs_background": "light"
     },
     "output_type": "display_data"
    }
   ],
   "source": [
    "filtered_value.plot.hist(bins=100)\n",
    "plt.xlabel(\"Value in Ether\")\n",
    "plt.show()"
   ]
  },
  {
   "cell_type": "code",
   "execution_count": 29,
   "id": "5f1f2641",
   "metadata": {},
   "outputs": [],
   "source": [
    "transfers = transfers[transfers.value > 0]"
   ]
  },
  {
   "cell_type": "markdown",
   "id": "49f76df8",
   "metadata": {},
   "source": [
    "##### 6.4.1.3 Try Transforms\n",
    "- Tried taking [log-transformation](https://en.wikipedia.org/wiki/Logarithm), but due to many close to 0 values, we get left-skewed data.\n",
    "    - We should consider doing computation in different [unit](https://www.gemini.com/cryptopedia/satoshi-value-gwei-to-ether-to-wei-converter-eth-gwei) to deal less with decimal numbers.\n",
    "    - Can we try with different log base?\n",
    "- Taking [square-root transformation](https://en.wikipedia.org/wiki/Square_root) (squeezing effect) or (maz-min) normalization did not help much due to extreme outliers."
   ]
  },
  {
   "cell_type": "code",
   "execution_count": 30,
   "id": "ad5cde7c",
   "metadata": {},
   "outputs": [],
   "source": [
    "log_transformed_value = filtered_value.apply(np.log)"
   ]
  },
  {
   "cell_type": "code",
   "execution_count": 31,
   "id": "4b0cdee3",
   "metadata": {},
   "outputs": [
    {
     "data": {
      "image/png": "[encoded data removed]",
      "text/plain": [
       "<Figure size 432x288 with 1 Axes>"
      ]
     },
     "metadata": {
      "needs_background": "light"
     },
     "output_type": "display_data"
    }
   ],
   "source": [
    "log_transformed_value.plot.box()\n",
    "plt.show()"
   ]
  },
  {
   "cell_type": "code",
   "execution_count": 32,
   "id": "3d8deebe",
   "metadata": {
    "scrolled": true
   },
   "outputs": [
    {
     "data": {
      "image/png": "[encoded data removed]",
      "text/plain": [
       "<Figure size 432x288 with 1 Axes>"
      ]
     },
     "metadata": {
      "needs_background": "light"
     },
     "output_type": "display_data"
    }
   ],
   "source": [
    "log_transformed_value.plot.hist(bins=100)\n",
    "plt.xlabel(\"Log (Value in Ether)\")\n",
    "plt.show()"
   ]
  },
  {
   "cell_type": "code",
   "execution_count": 33,
   "id": "fd9756ef",
   "metadata": {},
   "outputs": [
    {
     "data": {
      "text/plain": [
       "-5.76521658367982"
      ]
     },
     "execution_count": 33,
     "metadata": {},
     "output_type": "execute_result"
    }
   ],
   "source": [
    "log_transformed_value.skew()"
   ]
  },
  {
   "cell_type": "code",
   "execution_count": 34,
   "id": "ddb8ac9d",
   "metadata": {},
   "outputs": [],
   "source": [
    "sqrt_transformed_value = filtered_value.apply(np.sqrt)"
   ]
  },
  {
   "cell_type": "code",
   "execution_count": 35,
   "id": "074b7271",
   "metadata": {},
   "outputs": [
    {
     "data": {
      "image/png": "[encoded data removed]",
      "text/plain": [
       "<Figure size 432x288 with 1 Axes>"
      ]
     },
     "metadata": {
      "needs_background": "light"
     },
     "output_type": "display_data"
    }
   ],
   "source": [
    "sqrt_transformed_value.plot.box()\n",
    "plt.show()"
   ]
  },
  {
   "cell_type": "code",
   "execution_count": 36,
   "id": "59ec621f",
   "metadata": {},
   "outputs": [
    {
     "data": {
      "image/png": "[encoded data removed]",
      "text/plain": [
       "<Figure size 432x288 with 1 Axes>"
      ]
     },
     "metadata": {
      "needs_background": "light"
     },
     "output_type": "display_data"
    }
   ],
   "source": [
    "sqrt_transformed_value.plot.hist(bins=100)\n",
    "plt.xlabel(\"Sqrt (Value in Ether)\")\n",
    "plt.show()"
   ]
  },
  {
   "cell_type": "code",
   "execution_count": 37,
   "id": "eabdcef9",
   "metadata": {},
   "outputs": [
    {
     "data": {
      "text/plain": [
       "29.91767568887387"
      ]
     },
     "execution_count": 37,
     "metadata": {},
     "output_type": "execute_result"
    }
   ],
   "source": [
    "sqrt_transformed_value.skew()"
   ]
  },
  {
   "cell_type": "code",
   "execution_count": 38,
   "id": "fd340b08",
   "metadata": {},
   "outputs": [],
   "source": [
    "normalized_value = (filtered_value / filtered_value.mean()) / filtered_value.std()"
   ]
  },
  {
   "cell_type": "code",
   "execution_count": 39,
   "id": "cd9d116e",
   "metadata": {},
   "outputs": [
    {
     "data": {
      "text/plain": [
       "432.173503645107"
      ]
     },
     "execution_count": 39,
     "metadata": {},
     "output_type": "execute_result"
    }
   ],
   "source": [
    "normalized_value.skew()"
   ]
  },
  {
   "cell_type": "code",
   "execution_count": 40,
   "id": "c4008524",
   "metadata": {},
   "outputs": [
    {
     "data": {
      "image/png": "[encoded data removed]",
      "text/plain": [
       "<Figure size 432x288 with 1 Axes>"
      ]
     },
     "metadata": {
      "needs_background": "light"
     },
     "output_type": "display_data"
    }
   ],
   "source": [
    "normalized_value.plot.box()\n",
    "plt.show()"
   ]
  },
  {
   "cell_type": "code",
   "execution_count": 41,
   "id": "ddf4b912",
   "metadata": {},
   "outputs": [
    {
     "data": {
      "image/png": "[encoded data removed]",
      "text/plain": [
       "<Figure size 432x288 with 1 Axes>"
      ]
     },
     "metadata": {
      "needs_background": "light"
     },
     "output_type": "display_data"
    }
   ],
   "source": [
    "normalized_value.plot.hist(bins=100)\n",
    "plt.xlabel(\"Normalized Value in Ether\")\n",
    "plt.show()"
   ]
  },
  {
   "cell_type": "markdown",
   "id": "ba8aab23",
   "metadata": {},
   "source": [
    "##### 6.4.1.4 Identify Outliers\n",
    "- Out of all the outliers 100% of them are high outliers, that are above Q1 (pretty obvious from the previous histogram).\n",
    "- The high outliers themselves are heavily right-skewed as well."
   ]
  },
  {
   "cell_type": "code",
   "execution_count": 42,
   "id": "c22bdf7b",
   "metadata": {},
   "outputs": [],
   "source": [
    "outliers = get_outliers(filtered_value)"
   ]
  },
  {
   "cell_type": "code",
   "execution_count": 43,
   "id": "acc7ef38",
   "metadata": {},
   "outputs": [],
   "source": [
    "high_outliers = get_high_outliers(filtered_value)"
   ]
  },
  {
   "cell_type": "code",
   "execution_count": 44,
   "id": "57185c13",
   "metadata": {},
   "outputs": [
    {
     "data": {
      "text/plain": [
       "1.0"
      ]
     },
     "execution_count": 44,
     "metadata": {},
     "output_type": "execute_result"
    }
   ],
   "source": [
    "len(high_outliers) / len(outliers)"
   ]
  },
  {
   "cell_type": "code",
   "execution_count": 45,
   "id": "5c990753",
   "metadata": {},
   "outputs": [
    {
     "data": {
      "text/plain": [
       "0.40678622142293935"
      ]
     },
     "execution_count": 45,
     "metadata": {},
     "output_type": "execute_result"
    }
   ],
   "source": [
    "np.min(high_outliers)"
   ]
  },
  {
   "cell_type": "code",
   "execution_count": 46,
   "id": "9a1b3f09",
   "metadata": {},
   "outputs": [],
   "source": [
    "high_outliers = pd.Series(high_outliers)"
   ]
  },
  {
   "cell_type": "code",
   "execution_count": 47,
   "id": "506259f3",
   "metadata": {},
   "outputs": [
    {
     "data": {
      "text/plain": [
       "count    1.507793e+06\n",
       "mean     5.833637e+00\n",
       "std      9.748402e+01\n",
       "min      4.067862e-01\n",
       "25%      6.000000e-01\n",
       "50%      9.900000e-01\n",
       "75%      2.302830e+00\n",
       "max      2.695200e+04\n",
       "dtype: float64"
      ]
     },
     "execution_count": 47,
     "metadata": {},
     "output_type": "execute_result"
    }
   ],
   "source": [
    "high_outliers.describe()"
   ]
  },
  {
   "cell_type": "code",
   "execution_count": 48,
   "id": "303415e6",
   "metadata": {},
   "outputs": [
    {
     "data": {
      "image/png": "[encoded data removed]",
      "text/plain": [
       "<Figure size 432x288 with 1 Axes>"
      ]
     },
     "metadata": {
      "needs_background": "light"
     },
     "output_type": "display_data"
    }
   ],
   "source": [
    "high_outliers.plot.hist(bins=100)\n",
    "plt.xlabel(\"Value in Ether\")\n",
    "plt.show()"
   ]
  },
  {
   "cell_type": "code",
   "execution_count": 49,
   "id": "037c806f",
   "metadata": {},
   "outputs": [
    {
     "data": {
      "text/plain": [
       "156.11362337056764"
      ]
     },
     "execution_count": 49,
     "metadata": {},
     "output_type": "execute_result"
    }
   ],
   "source": [
    "high_outliers.skew()"
   ]
  },
  {
   "cell_type": "markdown",
   "id": "260ec7ff",
   "metadata": {},
   "source": [
    "##### 6.4.1.5 Try Ranking with Top Value Transcations\n",
    "- Not so good.\n",
    "- Blacklist:\n",
    "    - 0xe786b5596a792d7beafcf08eaf9de711c7b7b14b (not available any more) to blacklist."
   ]
  },
  {
   "cell_type": "code",
   "execution_count": 50,
   "id": "55bf6420",
   "metadata": {},
   "outputs": [
    {
     "data": {
      "text/plain": [
       "778617     26952.000000\n",
       "786566     26952.000000\n",
       "757866     26914.000000\n",
       "758405     26914.000000\n",
       "756420     26913.999845\n",
       "738498     26877.000000\n",
       "712455     26872.000000\n",
       "294639     25000.000000\n",
       "1284670    24329.000000\n",
       "717254     18476.000000\n",
       "dtype: float64"
      ]
     },
     "execution_count": 50,
     "metadata": {},
     "output_type": "execute_result"
    }
   ],
   "source": [
    "high_outliers.sort_values(ascending=False).head(10)"
   ]
  },
  {
   "cell_type": "code",
   "execution_count": 51,
   "id": "dbd5be4b",
   "metadata": {},
   "outputs": [
    {
     "name": "stdout",
     "output_type": "stream",
     "text": [
      "https://opensea.io/assets/ethereum/0x57f1887a8bf19b14fc0df6fd9b2acc9af147ea85/90330141559067330348100661400037728936860528297692356196704825531921747852049\n",
      "https://opensea.io/assets/ethereum/0x13d66dbace34218fddaf50f7057092a43507adef/5585\n",
      "https://opensea.io/assets/ethereum/0x3b8420eb6ef77bc25025b32d8205cde2683f979e/2850\n",
      "https://opensea.io/assets/ethereum/0x57f1887a8bf19b14fc0df6fd9b2acc9af147ea85/3775412211110698559507407168889921979788193658315639870822486099160278105418\n",
      "https://opensea.io/assets/ethereum/0x57f1887a8bf19b14fc0df6fd9b2acc9af147ea85/53940848497051110815272310637608580885927594680206949856538624585433695987367\n",
      "https://opensea.io/assets/ethereum/0x7d8820fa92eb1584636f4f5b8515b5476b75171a/5851\n",
      "https://opensea.io/assets/ethereum/0x57f1887a8bf19b14fc0df6fd9b2acc9af147ea85/71075691972228546839934580618238740032275021032661525626165018601135867074334\n",
      "https://opensea.io/assets/ethereum/0x49bd963f01588adf5c118d3eab2e5ae0dcf5ec0c/339\n",
      "https://opensea.io/assets/ethereum/0x17f05df821fe3cc5bf6d884cd818fae2ee88ccf8/3495\n",
      "https://opensea.io/assets/ethereum/0x78f190efe7b9198b76207f14d90ba96fb782680e/11\n"
     ]
    }
   ],
   "source": [
    "for rank, i in enumerate(high_outliers.sort_values(ascending=False).head(10).index.values):\n",
    "    print(f\"https://opensea.io/assets/ethereum/{transfers.iloc[i].token_address}/{transfers.iloc[i].token_id}\")"
   ]
  },
  {
   "cell_type": "markdown",
   "id": "bcfec336",
   "metadata": {},
   "source": [
    "#### 6.4.2 Token Address\n",
    "- Token address is used to distinguish different contracts."
   ]
  },
  {
   "cell_type": "markdown",
   "id": "9add6b43",
   "metadata": {},
   "source": [
    "##### 6.4.2.1 Basic Analysis"
   ]
  },
  {
   "cell_type": "markdown",
   "id": "d3cf662a",
   "metadata": {},
   "source": [
    "- There is a great inbalance in transaction counts for different NFTs.\n",
    "- It is heavily right-skewed, but not as much as price."
   ]
  },
  {
   "cell_type": "code",
   "execution_count": 52,
   "id": "d0e2161a",
   "metadata": {},
   "outputs": [
    {
     "data": {
      "text/plain": [
       "count                                       11638069\n",
       "unique                                         23137\n",
       "top       0x57f1887a8bf19b14fc0df6fd9b2acc9af147ea85\n",
       "freq                                         1670504\n",
       "Name: token_address, dtype: object"
      ]
     },
     "execution_count": 52,
     "metadata": {},
     "output_type": "execute_result"
    }
   ],
   "source": [
    "token_address = transfers['token_address']\n",
    "token_address.describe()"
   ]
  },
  {
   "cell_type": "markdown",
   "id": "309a4215",
   "metadata": {},
   "source": [
    "##### 6.4.2.2 Collection Transaction Count"
   ]
  },
  {
   "cell_type": "code",
   "execution_count": 53,
   "id": "95d05356",
   "metadata": {},
   "outputs": [
    {
     "data": {
      "text/plain": [
       "count    2.313700e+04\n",
       "mean     5.030068e+02\n",
       "std      1.112730e+04\n",
       "min      1.000000e+00\n",
       "25%      2.000000e+00\n",
       "50%      1.400000e+01\n",
       "75%      1.390000e+02\n",
       "max      1.670504e+06\n",
       "Name: token_address, dtype: float64"
      ]
     },
     "execution_count": 53,
     "metadata": {},
     "output_type": "execute_result"
    }
   ],
   "source": [
    "token_address_count = transfers['token_address'].value_counts()\n",
    "token_address_count.describe()"
   ]
  },
  {
   "cell_type": "code",
   "execution_count": 54,
   "id": "fb855377",
   "metadata": {},
   "outputs": [
    {
     "data": {
      "text/plain": [
       "0x57f1887a8bf19b14fc0df6fd9b2acc9af147ea85    1.435379e-01\n",
       "0x34d85c9cdeb23fa97cb08333b511ac86e1c4e258    4.685915e-03\n",
       "0xc36442b4a4522e871399cd717abdd847ab11fe88    3.368772e-03\n",
       "0x76b3af5f0f9b89ca5a4f9fe6c58421dbe567062d    3.223215e-03\n",
       "0xa7d8d9ef8d8ce8992df33d8b8cf4aebabd5bd270    3.052482e-03\n",
       "                                                  ...     \n",
       "0x0446d21d390695cb05d73fb676a9247761f2d9f6    8.592491e-08\n",
       "0x6b2cf2c3c7db49946d604652dc097f70e067395b    8.592491e-08\n",
       "0x5ec160241ab6bd4cd619f38adab89341eefe49b5    8.592491e-08\n",
       "0x4e2e28ed2a76db46ad3703e161f0cf6ecabb1bf9    8.592491e-08\n",
       "0xe30a7869d929101954fa1747311453b197e66e8a    8.592491e-08\n",
       "Name: token_address, Length: 23137, dtype: float64"
      ]
     },
     "execution_count": 54,
     "metadata": {},
     "output_type": "execute_result"
    }
   ],
   "source": [
    "transfers['token_address'].value_counts(normalize=True).sort_values(ascending=False)"
   ]
  },
  {
   "cell_type": "code",
   "execution_count": 55,
   "id": "9f0a44da",
   "metadata": {},
   "outputs": [
    {
     "data": {
      "text/plain": [
       "146.16842609713984"
      ]
     },
     "execution_count": 55,
     "metadata": {},
     "output_type": "execute_result"
    }
   ],
   "source": [
    "token_address_count.skew()"
   ]
  },
  {
   "cell_type": "code",
   "execution_count": 56,
   "id": "952de4a0",
   "metadata": {},
   "outputs": [
    {
     "data": {
      "text/plain": [
       "3794"
      ]
     },
     "execution_count": 56,
     "metadata": {},
     "output_type": "execute_result"
    }
   ],
   "source": [
    "len(get_outliers(token_address_count))"
   ]
  },
  {
   "cell_type": "markdown",
   "id": "cbe977ca",
   "metadata": {},
   "source": [
    "##### 6.4.2.3 Transaction Count per Collection\n",
    "- Althogh it is not as skewed as price data, ranking based on transaction count does not seem viable.\n",
    "- Top ranked NFTs according to transaction count is not very good.\n",
    "- This is kind of expected because good art does not get traded very often. \n",
    "- But, the goal of EDA is to have 0 assumptions.\n",
    "- Blacklist:\n",
    "    - 0xcbbadd74b3bb09836d97d91050e13e06089ba485\n",
    "    - 0x72b12aec69da93357f2b69acf33d5b75cf17575b\n",
    "    - 0xcab80a2bf07becaf8d48168081352ea873b8db91\n",
    "    - 0x696f33f4dd9be5538483f63308453d2d67d07331\n",
    "    - 0x56826a77f7a5dacf6476d4239f98bd72f15db703"
   ]
  },
  {
   "cell_type": "code",
   "execution_count": 57,
   "id": "592970f2",
   "metadata": {},
   "outputs": [],
   "source": [
    "top_20_transaction_count = token_address_count.sort_values(ascending=False).head(20)"
   ]
  },
  {
   "cell_type": "code",
   "execution_count": 58,
   "id": "db0398ed",
   "metadata": {},
   "outputs": [
    {
     "name": "stdout",
     "output_type": "stream",
     "text": [
      "Rank 0 with Count 1670504: https://etherscan.io/address/0x57f1887a8bf19b14fc0df6fd9b2acc9af147ea85\n",
      "Rank 1 with Count 54535: https://etherscan.io/address/0x34d85c9cdeb23fa97cb08333b511ac86e1c4e258\n",
      "Rank 2 with Count 39206: https://etherscan.io/address/0xc36442b4a4522e871399cd717abdd847ab11fe88\n",
      "Rank 3 with Count 37512: https://etherscan.io/address/0x76b3af5f0f9b89ca5a4f9fe6c58421dbe567062d\n",
      "Rank 4 with Count 35525: https://etherscan.io/address/0xa7d8d9ef8d8ce8992df33d8b8cf4aebabd5bd270\n",
      "Rank 5 with Count 33387: https://etherscan.io/address/0x1485297e942ce64e0870ece60179dfda34b4c625\n",
      "Rank 6 with Count 33372: https://etherscan.io/address/0x845a007d9f283614f403a24e3eb3455f720559ca\n",
      "Rank 7 with Count 32654: https://etherscan.io/address/0x5eaeadda470245343249452e744e423f489abbc4\n",
      "Rank 8 with Count 30606: https://etherscan.io/address/0x05e7f2499ff153fea2f20bbde0b5584c911c0af1\n",
      "Rank 9 with Count 30527: https://etherscan.io/address/0x011c77fa577c500deedad364b8af9e8540b808c0\n",
      "Rank 10 with Count 30519: https://etherscan.io/address/0xc907ddb25a926d51784aedd4cf9c04e3eb5da12c\n",
      "Rank 11 with Count 30499: https://etherscan.io/address/0x9f9b2b8e268d06dc67f0f76627654b80e219e1d6\n",
      "Rank 12 with Count 30351: https://etherscan.io/address/0x160c404b2b49cbc3240055ceaee026df1e8497a0\n",
      "Rank 13 with Count 29889: https://etherscan.io/address/0xd3605059c3ce9facf625fa72d727508b7b7f280f\n",
      "Rank 14 with Count 26845: https://etherscan.io/address/0x415f77738147a65a9d76bb0407af206a921cee0f\n",
      "Rank 15 with Count 26397: https://etherscan.io/address/0xdcaf23e44639daf29f6532da213999d737f15aa4\n",
      "Rank 16 with Count 26046: https://etherscan.io/address/0x4052425a34a35e53d916d94393cbc4eb1c572c3c\n",
      "Rank 17 with Count 26016: https://etherscan.io/address/0x1e4afe0c027d4f14fdba4254efc1a3ac2f7d49b5\n",
      "Rank 18 with Count 25893: https://etherscan.io/address/0x0ee80069c9b4993882fe0b3fc256260eff385982\n",
      "Rank 19 with Count 25072: https://etherscan.io/address/0x3cf57cc9cf5263748c6f926ff498ac0c6f95b26e\n"
     ]
    }
   ],
   "source": [
    "for rank, (address, count) in enumerate(top_20_transaction_count.iteritems()):\n",
    "    print(f\"Rank {rank} with Count {count}: https://etherscan.io/address/{address}\")"
   ]
  },
  {
   "cell_type": "code",
   "execution_count": 59,
   "id": "d12033d8",
   "metadata": {},
   "outputs": [
    {
     "name": "stdout",
     "output_type": "stream",
     "text": [
      "Rank 1 collection by Transaction Count\n",
      "SS: 105.82849614701391\n",
      "https://etherscan.io/address/0x57f1887a8bf19b14fc0df6fd9b2acc9af147ea85/\n"
     ]
    },
    {
     "data": {
      "image/png": "[encoded data removed]",
      "text/plain": [
       "<Figure size 432x288 with 1 Axes>"
      ]
     },
     "metadata": {
      "needs_background": "light"
     },
     "output_type": "display_data"
    },
    {
     "name": "stdout",
     "output_type": "stream",
     "text": [
      "Rank 2 collection by Transaction Count\n",
      "SS: 6.570267147349441\n",
      "https://etherscan.io/address/0x34d85c9cdeb23fa97cb08333b511ac86e1c4e258/\n"
     ]
    },
    {
     "data": {
      "image/png": "[encoded data removed]",
      "text/plain": [
       "<Figure size 432x288 with 1 Axes>"
      ]
     },
     "metadata": {
      "needs_background": "light"
     },
     "output_type": "display_data"
    },
    {
     "name": "stdout",
     "output_type": "stream",
     "text": [
      "Rank 3 collection by Transaction Count\n",
      "SS: 28.55262370639752\n",
      "https://etherscan.io/address/0xc36442b4a4522e871399cd717abdd847ab11fe88/\n"
     ]
    },
    {
     "data": {
      "image/png": "[encoded data removed]",
      "text/plain": [
       "<Figure size 432x288 with 1 Axes>"
      ]
     },
     "metadata": {
      "needs_background": "light"
     },
     "output_type": "display_data"
    },
    {
     "name": "stdout",
     "output_type": "stream",
     "text": [
      "Rank 4 collection by Transaction Count\n",
      "SS: 9.553921217553142\n",
      "https://etherscan.io/address/0x76b3af5f0f9b89ca5a4f9fe6c58421dbe567062d/\n"
     ]
    },
    {
     "data": {
      "image/png": "[encoded data removed]",
      "text/plain": [
       "<Figure size 432x288 with 1 Axes>"
      ]
     },
     "metadata": {
      "needs_background": "light"
     },
     "output_type": "display_data"
    },
    {
     "name": "stdout",
     "output_type": "stream",
     "text": [
      "Rank 5 collection by Transaction Count\n",
      "SS: 12.135329622611852\n",
      "https://etherscan.io/address/0xa7d8d9ef8d8ce8992df33d8b8cf4aebabd5bd270/\n"
     ]
    },
    {
     "data": {
      "image/png": "[encoded data removed]",
      "text/plain": [
       "<Figure size 432x288 with 1 Axes>"
      ]
     },
     "metadata": {
      "needs_background": "light"
     },
     "output_type": "display_data"
    },
    {
     "name": "stdout",
     "output_type": "stream",
     "text": [
      "Rank 6 collection by Transaction Count\n",
      "SS: 5.315197534459559\n",
      "https://etherscan.io/address/0x1485297e942ce64e0870ece60179dfda34b4c625/\n"
     ]
    },
    {
     "data": {
      "image/png": "[encoded data removed]",
      "text/plain": [
       "<Figure size 432x288 with 1 Axes>"
      ]
     },
     "metadata": {
      "needs_background": "light"
     },
     "output_type": "display_data"
    },
    {
     "name": "stdout",
     "output_type": "stream",
     "text": [
      "Rank 7 collection by Transaction Count\n",
      "SS: 17.0935056026301\n",
      "https://etherscan.io/address/0x845a007d9f283614f403a24e3eb3455f720559ca/\n"
     ]
    },
    {
     "data": {
      "image/png": "[encoded data removed]",
      "text/plain": [
       "<Figure size 432x288 with 1 Axes>"
      ]
     },
     "metadata": {
      "needs_background": "light"
     },
     "output_type": "display_data"
    },
    {
     "name": "stdout",
     "output_type": "stream",
     "text": [
      "Rank 8 collection by Transaction Count\n",
      "SS: 3.788767676387239\n",
      "https://etherscan.io/address/0x5eaeadda470245343249452e744e423f489abbc4/\n"
     ]
    },
    {
     "data": {
      "image/png": "[encoded data removed]",
      "text/plain": [
       "<Figure size 432x288 with 1 Axes>"
      ]
     },
     "metadata": {
      "needs_background": "light"
     },
     "output_type": "display_data"
    },
    {
     "name": "stdout",
     "output_type": "stream",
     "text": [
      "Rank 9 collection by Transaction Count\n",
      "SS: 6.567789901405678\n",
      "https://etherscan.io/address/0x05e7f2499ff153fea2f20bbde0b5584c911c0af1/\n"
     ]
    },
    {
     "data": {
      "image/png": "[encoded data removed]",
      "text/plain": [
       "<Figure size 432x288 with 1 Axes>"
      ]
     },
     "metadata": {
      "needs_background": "light"
     },
     "output_type": "display_data"
    },
    {
     "name": "stdout",
     "output_type": "stream",
     "text": [
      "Rank 10 collection by Transaction Count\n",
      "SS: 8.229155414241788\n",
      "https://etherscan.io/address/0x011c77fa577c500deedad364b8af9e8540b808c0/\n"
     ]
    },
    {
     "data": {
      "image/png": "[encoded data removed]",
      "text/plain": [
       "<Figure size 432x288 with 1 Axes>"
      ]
     },
     "metadata": {
      "needs_background": "light"
     },
     "output_type": "display_data"
    },
    {
     "name": "stdout",
     "output_type": "stream",
     "text": [
      "Rank 11 collection by Transaction Count\n",
      "SS: 5.487615804377261\n",
      "https://etherscan.io/address/0xc907ddb25a926d51784aedd4cf9c04e3eb5da12c/\n"
     ]
    },
    {
     "data": {
      "image/png": "[encoded data removed]",
      "text/plain": [
       "<Figure size 432x288 with 1 Axes>"
      ]
     },
     "metadata": {
      "needs_background": "light"
     },
     "output_type": "display_data"
    },
    {
     "name": "stdout",
     "output_type": "stream",
     "text": [
      "Rank 12 collection by Transaction Count\n",
      "SS: 8.711506761154324\n",
      "https://etherscan.io/address/0x9f9b2b8e268d06dc67f0f76627654b80e219e1d6/\n"
     ]
    },
    {
     "data": {
      "image/png": "[encoded data removed]",
      "text/plain": [
       "<Figure size 432x288 with 1 Axes>"
      ]
     },
     "metadata": {
      "needs_background": "light"
     },
     "output_type": "display_data"
    },
    {
     "name": "stdout",
     "output_type": "stream",
     "text": [
      "Rank 13 collection by Transaction Count\n",
      "SS: 7.862608103775015\n",
      "https://etherscan.io/address/0x160c404b2b49cbc3240055ceaee026df1e8497a0/\n"
     ]
    },
    {
     "data": {
      "image/png": "[encoded data removed]",
      "text/plain": [
       "<Figure size 432x288 with 1 Axes>"
      ]
     },
     "metadata": {
      "needs_background": "light"
     },
     "output_type": "display_data"
    },
    {
     "name": "stdout",
     "output_type": "stream",
     "text": [
      "Rank 14 collection by Transaction Count\n",
      "SS: 18.221291799940953\n",
      "https://etherscan.io/address/0xd3605059c3ce9facf625fa72d727508b7b7f280f/\n"
     ]
    },
    {
     "data": {
      "image/png": "[encoded data removed]",
      "text/plain": [
       "<Figure size 432x288 with 1 Axes>"
      ]
     },
     "metadata": {
      "needs_background": "light"
     },
     "output_type": "display_data"
    },
    {
     "name": "stdout",
     "output_type": "stream",
     "text": [
      "Rank 15 collection by Transaction Count\n",
      "SS: 7.638064063247135\n",
      "https://etherscan.io/address/0x415f77738147a65a9d76bb0407af206a921cee0f/\n"
     ]
    },
    {
     "data": {
      "image/png": "[encoded data removed]",
      "text/plain": [
       "<Figure size 432x288 with 1 Axes>"
      ]
     },
     "metadata": {
      "needs_background": "light"
     },
     "output_type": "display_data"
    },
    {
     "name": "stdout",
     "output_type": "stream",
     "text": [
      "Rank 16 collection by Transaction Count\n",
      "SS: 2.5395241711585075\n",
      "https://etherscan.io/address/0xdcaf23e44639daf29f6532da213999d737f15aa4/\n"
     ]
    },
    {
     "data": {
      "image/png": "[encoded data removed]",
      "text/plain": [
       "<Figure size 432x288 with 1 Axes>"
      ]
     },
     "metadata": {
      "needs_background": "light"
     },
     "output_type": "display_data"
    },
    {
     "name": "stdout",
     "output_type": "stream",
     "text": [
      "Rank 17 collection by Transaction Count\n",
      "SS: 8.434166500204027\n",
      "https://etherscan.io/address/0x4052425a34a35e53d916d94393cbc4eb1c572c3c/\n"
     ]
    },
    {
     "data": {
      "image/png": "[encoded data removed]",
      "text/plain": [
       "<Figure size 432x288 with 1 Axes>"
      ]
     },
     "metadata": {
      "needs_background": "light"
     },
     "output_type": "display_data"
    },
    {
     "name": "stdout",
     "output_type": "stream",
     "text": [
      "Rank 18 collection by Transaction Count\n",
      "SS: 5.115109361730646\n",
      "https://etherscan.io/address/0x1e4afe0c027d4f14fdba4254efc1a3ac2f7d49b5/\n"
     ]
    },
    {
     "data": {
      "image/png": "[encoded data removed]",
      "text/plain": [
       "<Figure size 432x288 with 1 Axes>"
      ]
     },
     "metadata": {
      "needs_background": "light"
     },
     "output_type": "display_data"
    },
    {
     "name": "stdout",
     "output_type": "stream",
     "text": [
      "Rank 19 collection by Transaction Count\n",
      "SS: 5.162625320345633\n",
      "https://etherscan.io/address/0x0ee80069c9b4993882fe0b3fc256260eff385982/\n"
     ]
    },
    {
     "data": {
      "image/png": "[encoded data removed]",
      "text/plain": [
       "<Figure size 432x288 with 1 Axes>"
      ]
     },
     "metadata": {
      "needs_background": "light"
     },
     "output_type": "display_data"
    },
    {
     "name": "stdout",
     "output_type": "stream",
     "text": [
      "Rank 20 collection by Transaction Count\n",
      "SS: 4.475812791419141\n",
      "https://etherscan.io/address/0x3cf57cc9cf5263748c6f926ff498ac0c6f95b26e/\n"
     ]
    },
    {
     "data": {
      "image/png": "[encoded data removed]",
      "text/plain": [
       "<Figure size 432x288 with 1 Axes>"
      ]
     },
     "metadata": {
      "needs_background": "light"
     },
     "output_type": "display_data"
    }
   ],
   "source": [
    "for rank, idx in enumerate(top_20_transaction_count.index.values):\n",
    "    collection_value = transfers[transfers['token_address'] == idx]['value']\n",
    "    print(f\"Rank {rank+1} collection by Transaction Count\")\n",
    "    print(\"SS: {}\".format(collection_value.skew()))\n",
    "    print(f\"https://etherscan.io/address/{idx}/\")\n",
    "    collection_value.plot.hist(bins=100)\n",
    "    plt.xlabel(\"Value in Ether\")\n",
    "    plt.show()"
   ]
  },
  {
   "cell_type": "markdown",
   "id": "03dd5709",
   "metadata": {},
   "source": [
    "##### 6.4.2.4 Total Transaction Value (Price) per Collection\n",
    "- The value (price) per collection is heavily skewed also with many outliers\n",
    "- Due to heavy skewedness it will be not wise to compute average to summarize the characteristics of collections. \n",
    "- Total is more advised.\n",
    "- Blacklist add:\n",
    "    - 0xc36442b4a4522e871399cd717abdd847ab11fe88 (Uniswap)"
   ]
  },
  {
   "cell_type": "code",
   "execution_count": 60,
   "id": "679a68a2",
   "metadata": {},
   "outputs": [],
   "source": [
    "total_value_per_collection = transfers.groupby(['token_address'])['value'].sum()"
   ]
  },
  {
   "cell_type": "code",
   "execution_count": 61,
   "id": "37f8a76e",
   "metadata": {},
   "outputs": [
    {
     "data": {
      "text/plain": [
       "count    2.313700e+04\n",
       "mean     4.117471e+02\n",
       "std      1.780292e+04\n",
       "min      1.000000e-18\n",
       "25%      1.080000e-01\n",
       "50%      8.500000e-01\n",
       "75%      1.010854e+01\n",
       "max      2.435802e+06\n",
       "Name: value, dtype: float64"
      ]
     },
     "execution_count": 61,
     "metadata": {},
     "output_type": "execute_result"
    }
   ],
   "source": [
    "total_value_per_collection.describe()"
   ]
  },
  {
   "cell_type": "code",
   "execution_count": 62,
   "id": "2653e2f4",
   "metadata": {},
   "outputs": [
    {
     "data": {
      "text/plain": [
       "116.13712507710746"
      ]
     },
     "execution_count": 62,
     "metadata": {},
     "output_type": "execute_result"
    }
   ],
   "source": [
    "total_value_per_collection.skew()"
   ]
  },
  {
   "cell_type": "code",
   "execution_count": 63,
   "id": "78cc4d30",
   "metadata": {},
   "outputs": [],
   "source": [
    "top_20_total_value_collections = total_value_per_collection.sort_values(ascending=False).head(20)"
   ]
  },
  {
   "cell_type": "code",
   "execution_count": 64,
   "id": "81076588",
   "metadata": {},
   "outputs": [
    {
     "name": "stdout",
     "output_type": "stream",
     "text": [
      "Rank 0 with Count 2435802.4155549803: https://etherscan.io/address/0xc36442b4a4522e871399cd717abdd847ab11fe88\n",
      "Rank 1 with Count 750437.345667492: https://etherscan.io/address/0x34d85c9cdeb23fa97cb08333b511ac86e1c4e258\n",
      "Rank 2 with Count 494079.85706077464: https://etherscan.io/address/0x81ae0be3a8044772d04f32398bac1e1b4b215aa8\n",
      "Rank 3 with Count 465755.9339827968: https://etherscan.io/address/0x1dfe7ca09e99d10835bf73044a23b73fc20623df\n",
      "Rank 4 with Count 311173.59483725583: https://etherscan.io/address/0x7bd29408f11d2bfc23c34f18275bbf23bb716bc7\n",
      "Rank 5 with Count 270063.79444542713: https://etherscan.io/address/0xbc4ca0eda7647a8ab7c2061c2e118a18a936f13d\n",
      "Rank 6 with Count 177039.74632709823: https://etherscan.io/address/0xad6917fc71101d377f5cbbc5b1fc0e941f08ae58\n",
      "Rank 7 with Count 164998.4779737034: https://etherscan.io/address/0xed5af388653567af2f388e6224dc7c4b3241c544\n",
      "Rank 8 with Count 135655.23648640554: https://etherscan.io/address/0x160c404b2b49cbc3240055ceaee026df1e8497a0\n",
      "Rank 9 with Count 127086.58445705958: https://etherscan.io/address/0x60e4d786628fea6478f785a6d7e704777c86a7c6\n",
      "Rank 10 with Count 116882.48110079247: https://etherscan.io/address/0x306b1ea3ecdf94ab739f1910bbda052ed4a9f949\n",
      "Rank 11 with Count 98523.31934581867: https://etherscan.io/address/0x57f1887a8bf19b14fc0df6fd9b2acc9af147ea85\n",
      "Rank 12 with Count 95281.1390628841: https://etherscan.io/address/0x4e1f41613c9084fdb9e34e11fae9412427480e56\n",
      "Rank 13 with Count 89124.73119: https://etherscan.io/address/0xc73d48167123430958049ca698137927b3c9441c\n",
      "Rank 14 with Count 88554.33266270297: https://etherscan.io/address/0x8a90cab2b38dba80c64b7734e58ee1db38b8992e\n",
      "Rank 15 with Count 88453.74643767244: https://etherscan.io/address/0x892848074ddea461a15f337250da3ce55580ca85\n",
      "Rank 16 with Count 81552.4154662386: https://etherscan.io/address/0x23581767a106ae21c074b2276d25e5c3e136a68b\n",
      "Rank 17 with Count 79872.91468534632: https://etherscan.io/address/0xbce3781ae7ca1a5e050bd9c4c77369867ebc307e\n",
      "Rank 18 with Count 78254.04603549594: https://etherscan.io/address/0xb47e3cd837ddf8e4c57f05d70ab865de6e193bbb\n",
      "Rank 19 with Count 58543.236336134796: https://etherscan.io/address/0x5cc5b05a8a13e3fbdb0bb9fccd98d38e50f90c38\n"
     ]
    }
   ],
   "source": [
    "for rank, (address, count) in enumerate(top_20_total_value_collections.iteritems()):\n",
    "    print(f\"Rank {rank} with Count {count}: https://etherscan.io/address/{address}\")"
   ]
  },
  {
   "cell_type": "code",
   "execution_count": 65,
   "id": "59d70d12",
   "metadata": {},
   "outputs": [
    {
     "name": "stdout",
     "output_type": "stream",
     "text": [
      "Rank 1 collection by Total Value\n",
      "SS: 28.55262370639752\n",
      "https://etherscan.io/address/0xc36442b4a4522e871399cd717abdd847ab11fe88/\n"
     ]
    },
    {
     "data": {
      "image/png": "[encoded data removed]",
      "text/plain": [
       "<Figure size 432x288 with 1 Axes>"
      ]
     },
     "metadata": {
      "needs_background": "light"
     },
     "output_type": "display_data"
    },
    {
     "name": "stdout",
     "output_type": "stream",
     "text": [
      "Rank 2 collection by Total Value\n",
      "SS: 6.570267147349441\n",
      "https://etherscan.io/address/0x34d85c9cdeb23fa97cb08333b511ac86e1c4e258/\n"
     ]
    },
    {
     "data": {
      "image/png": "[encoded data removed]",
      "text/plain": [
       "<Figure size 432x288 with 1 Axes>"
      ]
     },
     "metadata": {
      "needs_background": "light"
     },
     "output_type": "display_data"
    },
    {
     "name": "stdout",
     "output_type": "stream",
     "text": [
      "Rank 3 collection by Total Value\n",
      "SS: -0.18687135855513198\n",
      "https://etherscan.io/address/0x81ae0be3a8044772d04f32398bac1e1b4b215aa8/\n"
     ]
    },
    {
     "data": {
      "image/png": "[encoded data removed]",
      "text/plain": [
       "<Figure size 432x288 with 1 Axes>"
      ]
     },
     "metadata": {
      "needs_background": "light"
     },
     "output_type": "display_data"
    },
    {
     "name": "stdout",
     "output_type": "stream",
     "text": [
      "Rank 4 collection by Total Value\n",
      "SS: 0.6515743341275175\n",
      "https://etherscan.io/address/0x1dfe7ca09e99d10835bf73044a23b73fc20623df/\n"
     ]
    },
    {
     "data": {
      "image/png": "[encoded data removed]",
      "text/plain": [
       "<Figure size 432x288 with 1 Axes>"
      ]
     },
     "metadata": {
      "needs_background": "light"
     },
     "output_type": "display_data"
    },
    {
     "name": "stdout",
     "output_type": "stream",
     "text": [
      "Rank 5 collection by Total Value\n",
      "SS: 0.38861678654331094\n",
      "https://etherscan.io/address/0x7bd29408f11d2bfc23c34f18275bbf23bb716bc7/\n"
     ]
    },
    {
     "data": {
      "image/png": "[encoded data removed]",
      "text/plain": [
       "<Figure size 432x288 with 1 Axes>"
      ]
     },
     "metadata": {
      "needs_background": "light"
     },
     "output_type": "display_data"
    },
    {
     "name": "stdout",
     "output_type": "stream",
     "text": [
      "Rank 6 collection by Total Value\n",
      "SS: 1.870019605572381\n",
      "https://etherscan.io/address/0xbc4ca0eda7647a8ab7c2061c2e118a18a936f13d/\n"
     ]
    },
    {
     "data": {
      "image/png": "[encoded data removed]",
      "text/plain": [
       "<Figure size 432x288 with 1 Axes>"
      ]
     },
     "metadata": {
      "needs_background": "light"
     },
     "output_type": "display_data"
    },
    {
     "name": "stdout",
     "output_type": "stream",
     "text": [
      "Rank 7 collection by Total Value\n",
      "SS: 1.1427003659061876\n",
      "https://etherscan.io/address/0xad6917fc71101d377f5cbbc5b1fc0e941f08ae58/\n"
     ]
    },
    {
     "data": {
      "image/png": "[encoded data removed]",
      "text/plain": [
       "<Figure size 432x288 with 1 Axes>"
      ]
     },
     "metadata": {
      "needs_background": "light"
     },
     "output_type": "display_data"
    },
    {
     "name": "stdout",
     "output_type": "stream",
     "text": [
      "Rank 8 collection by Total Value\n",
      "SS: 5.1346055523243725\n",
      "https://etherscan.io/address/0xed5af388653567af2f388e6224dc7c4b3241c544/\n"
     ]
    },
    {
     "data": {
      "image/png": "[encoded data removed]",
      "text/plain": [
       "<Figure size 432x288 with 1 Axes>"
      ]
     },
     "metadata": {
      "needs_background": "light"
     },
     "output_type": "display_data"
    },
    {
     "name": "stdout",
     "output_type": "stream",
     "text": [
      "Rank 9 collection by Total Value\n",
      "SS: 7.862608103775015\n",
      "https://etherscan.io/address/0x160c404b2b49cbc3240055ceaee026df1e8497a0/\n"
     ]
    },
    {
     "data": {
      "image/png": "[encoded data removed]",
      "text/plain": [
       "<Figure size 432x288 with 1 Axes>"
      ]
     },
     "metadata": {
      "needs_background": "light"
     },
     "output_type": "display_data"
    },
    {
     "name": "stdout",
     "output_type": "stream",
     "text": [
      "Rank 10 collection by Total Value\n",
      "SS: 6.772773724540024\n",
      "https://etherscan.io/address/0x60e4d786628fea6478f785a6d7e704777c86a7c6/\n"
     ]
    },
    {
     "data": {
      "image/png": "[encoded data removed]",
      "text/plain": [
       "<Figure size 432x288 with 1 Axes>"
      ]
     },
     "metadata": {
      "needs_background": "light"
     },
     "output_type": "display_data"
    },
    {
     "name": "stdout",
     "output_type": "stream",
     "text": [
      "Rank 11 collection by Total Value\n",
      "SS: 9.68651187458063\n",
      "https://etherscan.io/address/0x306b1ea3ecdf94ab739f1910bbda052ed4a9f949/\n"
     ]
    },
    {
     "data": {
      "image/png": "[encoded data removed]",
      "text/plain": [
       "<Figure size 432x288 with 1 Axes>"
      ]
     },
     "metadata": {
      "needs_background": "light"
     },
     "output_type": "display_data"
    },
    {
     "name": "stdout",
     "output_type": "stream",
     "text": [
      "Rank 12 collection by Total Value\n",
      "SS: 105.82849614701391\n",
      "https://etherscan.io/address/0x57f1887a8bf19b14fc0df6fd9b2acc9af147ea85/\n"
     ]
    },
    {
     "data": {
      "image/png": "[encoded data removed]",
      "text/plain": [
       "<Figure size 432x288 with 1 Axes>"
      ]
     },
     "metadata": {
      "needs_background": "light"
     },
     "output_type": "display_data"
    },
    {
     "name": "stdout",
     "output_type": "stream",
     "text": [
      "Rank 13 collection by Total Value\n",
      "SS: 4.09889233984005\n",
      "https://etherscan.io/address/0x4e1f41613c9084fdb9e34e11fae9412427480e56/\n"
     ]
    },
    {
     "data": {
      "image/png": "[encoded data removed]",
      "text/plain": [
       "<Figure size 432x288 with 1 Axes>"
      ]
     },
     "metadata": {
      "needs_background": "light"
     },
     "output_type": "display_data"
    },
    {
     "name": "stdout",
     "output_type": "stream",
     "text": [
      "Rank 14 collection by Total Value\n",
      "SS: -0.09403416282296952\n",
      "https://etherscan.io/address/0xc73d48167123430958049ca698137927b3c9441c/\n"
     ]
    },
    {
     "data": {
      "image/png": "[encoded data removed]",
      "text/plain": [
       "<Figure size 432x288 with 1 Axes>"
      ]
     },
     "metadata": {
      "needs_background": "light"
     },
     "output_type": "display_data"
    },
    {
     "name": "stdout",
     "output_type": "stream",
     "text": [
      "Rank 15 collection by Total Value\n",
      "SS: 6.143926799269185\n",
      "https://etherscan.io/address/0x8a90cab2b38dba80c64b7734e58ee1db38b8992e/\n"
     ]
    },
    {
     "data": {
      "image/png": "[encoded data removed]",
      "text/plain": [
       "<Figure size 432x288 with 1 Axes>"
      ]
     },
     "metadata": {
      "needs_background": "light"
     },
     "output_type": "display_data"
    },
    {
     "name": "stdout",
     "output_type": "stream",
     "text": [
      "Rank 16 collection by Total Value\n",
      "SS: 2.3077508990236946\n",
      "https://etherscan.io/address/0x892848074ddea461a15f337250da3ce55580ca85/\n"
     ]
    },
    {
     "data": {
      "image/png": "[encoded data removed]",
      "text/plain": [
       "<Figure size 432x288 with 1 Axes>"
      ]
     },
     "metadata": {
      "needs_background": "light"
     },
     "output_type": "display_data"
    },
    {
     "name": "stdout",
     "output_type": "stream",
     "text": [
      "Rank 17 collection by Total Value\n",
      "SS: 5.8669578416385555\n",
      "https://etherscan.io/address/0x23581767a106ae21c074b2276d25e5c3e136a68b/\n"
     ]
    },
    {
     "data": {
      "image/png": "[encoded data removed]",
      "text/plain": [
       "<Figure size 432x288 with 1 Axes>"
      ]
     },
     "metadata": {
      "needs_background": "light"
     },
     "output_type": "display_data"
    },
    {
     "name": "stdout",
     "output_type": "stream",
     "text": [
      "Rank 18 collection by Total Value\n",
      "SS: 7.041765953210644\n",
      "https://etherscan.io/address/0xbce3781ae7ca1a5e050bd9c4c77369867ebc307e/\n"
     ]
    },
    {
     "data": {
      "image/png": "[encoded data removed]",
      "text/plain": [
       "<Figure size 432x288 with 1 Axes>"
      ]
     },
     "metadata": {
      "needs_background": "light"
     },
     "output_type": "display_data"
    },
    {
     "name": "stdout",
     "output_type": "stream",
     "text": [
      "Rank 19 collection by Total Value\n",
      "SS: 21.51867657137903\n",
      "https://etherscan.io/address/0xb47e3cd837ddf8e4c57f05d70ab865de6e193bbb/\n"
     ]
    },
    {
     "data": {
      "image/png": "[encoded data removed]",
      "text/plain": [
       "<Figure size 432x288 with 1 Axes>"
      ]
     },
     "metadata": {
      "needs_background": "light"
     },
     "output_type": "display_data"
    },
    {
     "name": "stdout",
     "output_type": "stream",
     "text": [
      "Rank 20 collection by Total Value\n",
      "SS: 5.028377997774935\n",
      "https://etherscan.io/address/0x5cc5b05a8a13e3fbdb0bb9fccd98d38e50f90c38/\n"
     ]
    },
    {
     "data": {
      "image/png": "[encoded data removed]",
      "text/plain": [
       "<Figure size 432x288 with 1 Axes>"
      ]
     },
     "metadata": {
      "needs_background": "light"
     },
     "output_type": "display_data"
    }
   ],
   "source": [
    "for rank, idx in enumerate(top_20_total_value_collections.index.values):\n",
    "    collection_value = transfers[transfers['token_address'] == idx]['value']\n",
    "    print(f\"Rank {rank+1} collection by Total Value\")\n",
    "    print(\"SS: {}\".format(collection_value.skew()))\n",
    "    print(f\"https://etherscan.io/address/{idx}/\")\n",
    "    collection_value.plot.hist(bins=100)\n",
    "    plt.xlabel(\"Value in Ether\")\n",
    "    plt.show()"
   ]
  },
  {
   "cell_type": "markdown",
   "id": "a13c232d",
   "metadata": {},
   "source": [
    "#### 6.4.3 Token Id\n",
    "- Token Id is used to identify different NFTs within a collection (contract).\n",
    "- Therefore, token_address + token_id is unique to each NFTs."
   ]
  },
  {
   "cell_type": "markdown",
   "id": "87e51eef",
   "metadata": {},
   "source": [
    "##### 6.4.3.1 Transaction Count per NFT\n",
    "- Data looks much better than it did at the collection level.\n",
    "- However, it is extremely noisy.\n",
    "- It is very difficult to find any patter."
   ]
  },
  {
   "cell_type": "code",
   "execution_count": 66,
   "id": "a10452eb",
   "metadata": {},
   "outputs": [],
   "source": [
    "tx_count_per_nft = transfers.groupby(['token_address','token_id'])['block_timestamp'].count()\n",
    "top_20_tx_count_nft = tx_count_per_nft.sort_values(ascending=False).head(20)"
   ]
  },
  {
   "cell_type": "code",
   "execution_count": 67,
   "id": "debb5cac",
   "metadata": {},
   "outputs": [
    {
     "name": "stdout",
     "output_type": "stream",
     "text": [
      "Rank 1 NFT by Tx Count\n",
      "SS: -0.6969445791264731\n",
      "https://opensea.io/assets/ethereum/0x81ae0be3a8044772d04f32398bac1e1b4b215aa8/164\n"
     ]
    },
    {
     "data": {
      "image/png": "[encoded data removed]",
      "text/plain": [
       "<Figure size 432x288 with 1 Axes>"
      ]
     },
     "metadata": {
      "needs_background": "light"
     },
     "output_type": "display_data"
    },
    {
     "name": "stdout",
     "output_type": "stream",
     "text": [
      "Rank 2 NFT by Tx Count\n",
      "SS: -0.9756949869858692\n",
      "https://opensea.io/assets/ethereum/0x7bd29408f11d2bfc23c34f18275bbf23bb716bc7/689\n"
     ]
    },
    {
     "data": {
      "image/png": "[encoded data removed]",
      "text/plain": [
       "<Figure size 432x288 with 1 Axes>"
      ]
     },
     "metadata": {
      "needs_background": "light"
     },
     "output_type": "display_data"
    },
    {
     "name": "stdout",
     "output_type": "stream",
     "text": [
      "Rank 3 NFT by Tx Count\n",
      "SS: -1.000672920799661\n",
      "https://opensea.io/assets/ethereum/0x7bd29408f11d2bfc23c34f18275bbf23bb716bc7/1938\n"
     ]
    },
    {
     "data": {
      "image/png": "[encoded data removed]",
      "text/plain": [
       "<Figure size 432x288 with 1 Axes>"
      ]
     },
     "metadata": {
      "needs_background": "light"
     },
     "output_type": "display_data"
    },
    {
     "name": "stdout",
     "output_type": "stream",
     "text": [
      "Rank 4 NFT by Tx Count\n",
      "SS: -0.8014911921751754\n",
      "https://opensea.io/assets/ethereum/0x7bd29408f11d2bfc23c34f18275bbf23bb716bc7/19564\n"
     ]
    },
    {
     "data": {
      "image/png": "[encoded data removed]",
      "text/plain": [
       "<Figure size 432x288 with 1 Axes>"
      ]
     },
     "metadata": {
      "needs_background": "light"
     },
     "output_type": "display_data"
    },
    {
     "name": "stdout",
     "output_type": "stream",
     "text": [
      "Rank 5 NFT by Tx Count\n",
      "SS: -0.22258600015148214\n",
      "https://opensea.io/assets/ethereum/0x1dfe7ca09e99d10835bf73044a23b73fc20623df/666688\n"
     ]
    },
    {
     "data": {
      "image/png": "[encoded data removed]",
      "text/plain": [
       "<Figure size 432x288 with 1 Axes>"
      ]
     },
     "metadata": {
      "needs_background": "light"
     },
     "output_type": "display_data"
    },
    {
     "name": "stdout",
     "output_type": "stream",
     "text": [
      "Rank 6 NFT by Tx Count\n",
      "SS: -0.3569035616895273\n",
      "https://opensea.io/assets/ethereum/0xccb9d89e0f77df3618eec9f6bf899be3b5561a89/13120\n"
     ]
    },
    {
     "data": {
      "image/png": "[encoded data removed]",
      "text/plain": [
       "<Figure size 432x288 with 1 Axes>"
      ]
     },
     "metadata": {
      "needs_background": "light"
     },
     "output_type": "display_data"
    },
    {
     "name": "stdout",
     "output_type": "stream",
     "text": [
      "Rank 7 NFT by Tx Count\n",
      "SS: -0.35732315142335946\n",
      "https://opensea.io/assets/ethereum/0xccb9d89e0f77df3618eec9f6bf899be3b5561a89/16795\n"
     ]
    },
    {
     "data": {
      "image/png": "[encoded data removed]",
      "text/plain": [
       "<Figure size 432x288 with 1 Axes>"
      ]
     },
     "metadata": {
      "needs_background": "light"
     },
     "output_type": "display_data"
    },
    {
     "name": "stdout",
     "output_type": "stream",
     "text": [
      "Rank 8 NFT by Tx Count\n",
      "SS: -0.4566880552271327\n",
      "https://opensea.io/assets/ethereum/0xccb9d89e0f77df3618eec9f6bf899be3b5561a89/37915\n"
     ]
    },
    {
     "data": {
      "image/png": "[encoded data removed]",
      "text/plain": [
       "<Figure size 432x288 with 1 Axes>"
      ]
     },
     "metadata": {
      "needs_background": "light"
     },
     "output_type": "display_data"
    },
    {
     "name": "stdout",
     "output_type": "stream",
     "text": [
      "Rank 9 NFT by Tx Count\n",
      "SS: -0.4566880552271327\n",
      "https://opensea.io/assets/ethereum/0xccb9d89e0f77df3618eec9f6bf899be3b5561a89/37927\n"
     ]
    },
    {
     "data": {
      "image/png": "[encoded data removed]",
      "text/plain": [
       "<Figure size 432x288 with 1 Axes>"
      ]
     },
     "metadata": {
      "needs_background": "light"
     },
     "output_type": "display_data"
    },
    {
     "name": "stdout",
     "output_type": "stream",
     "text": [
      "Rank 10 NFT by Tx Count\n",
      "SS: -0.14546132761487707\n",
      "https://opensea.io/assets/ethereum/0x79fcdef22feed20eddacbb2587640e45491b757f/99\n"
     ]
    },
    {
     "data": {
      "image/png": "[encoded data removed]",
      "text/plain": [
       "<Figure size 432x288 with 1 Axes>"
      ]
     },
     "metadata": {
      "needs_background": "light"
     },
     "output_type": "display_data"
    },
    {
     "name": "stdout",
     "output_type": "stream",
     "text": [
      "Rank 11 NFT by Tx Count\n",
      "SS: 0\n",
      "https://opensea.io/assets/ethereum/0x0b1d6565d88f9bf6473e21c2ab58d28a495d7bb5/1868\n"
     ]
    },
    {
     "data": {
      "image/png": "[encoded data removed]",
      "text/plain": [
       "<Figure size 432x288 with 1 Axes>"
      ]
     },
     "metadata": {
      "needs_background": "light"
     },
     "output_type": "display_data"
    },
    {
     "name": "stdout",
     "output_type": "stream",
     "text": [
      "Rank 12 NFT by Tx Count\n",
      "SS: 1.0980330744964173\n",
      "https://opensea.io/assets/ethereum/0xed5af388653567af2f388e6224dc7c4b3241c544/6298\n"
     ]
    },
    {
     "data": {
      "image/png": "[encoded data removed]",
      "text/plain": [
       "<Figure size 432x288 with 1 Axes>"
      ]
     },
     "metadata": {
      "needs_background": "light"
     },
     "output_type": "display_data"
    },
    {
     "name": "stdout",
     "output_type": "stream",
     "text": [
      "Rank 13 NFT by Tx Count\n",
      "SS: -3.744244322201946\n",
      "https://opensea.io/assets/ethereum/0xccb9d89e0f77df3618eec9f6bf899be3b5561a89/25203\n"
     ]
    },
    {
     "data": {
      "image/png": "[encoded data removed]",
      "text/plain": [
       "<Figure size 432x288 with 1 Axes>"
      ]
     },
     "metadata": {
      "needs_background": "light"
     },
     "output_type": "display_data"
    },
    {
     "name": "stdout",
     "output_type": "stream",
     "text": [
      "Rank 14 NFT by Tx Count\n",
      "SS: -3.744244322201946\n",
      "https://opensea.io/assets/ethereum/0xccb9d89e0f77df3618eec9f6bf899be3b5561a89/24079\n"
     ]
    },
    {
     "data": {
      "image/png": "[encoded data removed]",
      "text/plain": [
       "<Figure size 432x288 with 1 Axes>"
      ]
     },
     "metadata": {
      "needs_background": "light"
     },
     "output_type": "display_data"
    },
    {
     "name": "stdout",
     "output_type": "stream",
     "text": [
      "Rank 15 NFT by Tx Count\n",
      "SS: 1.3889087598056968\n",
      "https://opensea.io/assets/ethereum/0xb896c17c8e5e06ea393c4b2b79d5842fabcd3b94/6824\n"
     ]
    },
    {
     "data": {
      "image/png": "[encoded data removed]",
      "text/plain": [
       "<Figure size 432x288 with 1 Axes>"
      ]
     },
     "metadata": {
      "needs_background": "light"
     },
     "output_type": "display_data"
    },
    {
     "name": "stdout",
     "output_type": "stream",
     "text": [
      "Rank 16 NFT by Tx Count\n",
      "SS: 1.3889087598056968\n",
      "https://opensea.io/assets/ethereum/0xb896c17c8e5e06ea393c4b2b79d5842fabcd3b94/6821\n"
     ]
    },
    {
     "data": {
      "image/png": "[encoded data removed]",
      "text/plain": [
       "<Figure size 432x288 with 1 Axes>"
      ]
     },
     "metadata": {
      "needs_background": "light"
     },
     "output_type": "display_data"
    },
    {
     "name": "stdout",
     "output_type": "stream",
     "text": [
      "Rank 17 NFT by Tx Count\n",
      "SS: 1.3889087598056968\n",
      "https://opensea.io/assets/ethereum/0xb896c17c8e5e06ea393c4b2b79d5842fabcd3b94/6822\n"
     ]
    },
    {
     "data": {
      "image/png": "[encoded data removed]",
      "text/plain": [
       "<Figure size 432x288 with 1 Axes>"
      ]
     },
     "metadata": {
      "needs_background": "light"
     },
     "output_type": "display_data"
    },
    {
     "name": "stdout",
     "output_type": "stream",
     "text": [
      "Rank 18 NFT by Tx Count\n",
      "SS: 1.3889087598056968\n",
      "https://opensea.io/assets/ethereum/0xb896c17c8e5e06ea393c4b2b79d5842fabcd3b94/6825\n"
     ]
    },
    {
     "data": {
      "image/png": "[encoded data removed]",
      "text/plain": [
       "<Figure size 432x288 with 1 Axes>"
      ]
     },
     "metadata": {
      "needs_background": "light"
     },
     "output_type": "display_data"
    },
    {
     "name": "stdout",
     "output_type": "stream",
     "text": [
      "Rank 19 NFT by Tx Count\n",
      "SS: 1.378423832905718\n",
      "https://opensea.io/assets/ethereum/0xb896c17c8e5e06ea393c4b2b79d5842fabcd3b94/6823\n"
     ]
    },
    {
     "data": {
      "image/png": "[encoded data removed]",
      "text/plain": [
       "<Figure size 432x288 with 1 Axes>"
      ]
     },
     "metadata": {
      "needs_background": "light"
     },
     "output_type": "display_data"
    },
    {
     "name": "stdout",
     "output_type": "stream",
     "text": [
      "Rank 20 NFT by Tx Count\n",
      "SS: 1.3476876601228527\n",
      "https://opensea.io/assets/ethereum/0xb896c17c8e5e06ea393c4b2b79d5842fabcd3b94/7856\n"
     ]
    },
    {
     "data": {
      "image/png": "[encoded data removed]",
      "text/plain": [
       "<Figure size 432x288 with 1 Axes>"
      ]
     },
     "metadata": {
      "needs_background": "light"
     },
     "output_type": "display_data"
    }
   ],
   "source": [
    "for rank, idx in enumerate(top_20_tx_count_nft.index.values):\n",
    "    nft_value = transfers[(transfers['token_address'] == idx[0]) & (transfers['token_id'] == idx[1])]['value']\n",
    "    print(f\"Rank {rank+1} NFT by Tx Count\")\n",
    "    print(\"SS: {}\".format(nft_value.skew()))\n",
    "    print(f\"https://opensea.io/assets/ethereum/{idx[0]}/{idx[1]}\")\n",
    "    nft_value.plot.hist(bins=100)\n",
    "    plt.xlabel(\"Value in Ether\")\n",
    "    plt.show()"
   ]
  },
  {
   "cell_type": "markdown",
   "id": "aae442ca",
   "metadata": {},
   "source": [
    "##### 6.4.3.2 Total Transaction Value per NFT\n",
    "- Probably the best piece of data we have seen all day.\n",
    "- With enough number of transactions, the price distribution within the NFT seems to be quiet well balanced.\n",
    "- We want to remove high value transction with single transaction count (anomally)."
   ]
  },
  {
   "cell_type": "code",
   "execution_count": 68,
   "id": "2b0cebab",
   "metadata": {},
   "outputs": [],
   "source": [
    "total_value_per_nft = transfers.groupby(['token_address', 'token_id'])['value'].sum()\n",
    "top_20_total_value = total_value_per_nft.sort_values(ascending=False).head(20)"
   ]
  },
  {
   "cell_type": "code",
   "execution_count": 69,
   "id": "61922609",
   "metadata": {
    "scrolled": false
   },
   "outputs": [
    {
     "name": "stdout",
     "output_type": "stream",
     "text": [
      "Rank 1 NFT by Total Value\n",
      "The number of transactions: 1400\n",
      "SS: -0.6969445791264731\n",
      "https://opensea.io/assets/ethereum/0x81ae0be3a8044772d04f32398bac1e1b4b215aa8/164\n"
     ]
    },
    {
     "data": {
      "image/png": "[encoded data removed]",
      "text/plain": [
       "<Figure size 432x288 with 1 Axes>"
      ]
     },
     "metadata": {
      "needs_background": "light"
     },
     "output_type": "display_data"
    },
    {
     "name": "stdout",
     "output_type": "stream",
     "text": [
      "Rank 2 NFT by Total Value\n",
      "The number of transactions: 376\n",
      "SS: -0.22258600015148214\n",
      "https://opensea.io/assets/ethereum/0x1dfe7ca09e99d10835bf73044a23b73fc20623df/666688\n"
     ]
    },
    {
     "data": {
      "image/png": "[encoded data removed]",
      "text/plain": [
       "<Figure size 432x288 with 1 Axes>"
      ]
     },
     "metadata": {
      "needs_background": "light"
     },
     "output_type": "display_data"
    },
    {
     "name": "stdout",
     "output_type": "stream",
     "text": [
      "Rank 3 NFT by Total Value\n",
      "The number of transactions: 797\n",
      "SS: -0.9756949869858692\n",
      "https://opensea.io/assets/ethereum/0x7bd29408f11d2bfc23c34f18275bbf23bb716bc7/689\n"
     ]
    },
    {
     "data": {
      "image/png": "[encoded data removed]",
      "text/plain": [
       "<Figure size 432x288 with 1 Axes>"
      ]
     },
     "metadata": {
      "needs_background": "light"
     },
     "output_type": "display_data"
    },
    {
     "name": "stdout",
     "output_type": "stream",
     "text": [
      "Rank 4 NFT by Total Value\n",
      "The number of transactions: 655\n",
      "SS: -0.8014911921751754\n",
      "https://opensea.io/assets/ethereum/0x7bd29408f11d2bfc23c34f18275bbf23bb716bc7/19564\n"
     ]
    },
    {
     "data": {
      "image/png": "[encoded data removed]",
      "text/plain": [
       "<Figure size 432x288 with 1 Axes>"
      ]
     },
     "metadata": {
      "needs_background": "light"
     },
     "output_type": "display_data"
    },
    {
     "name": "stdout",
     "output_type": "stream",
     "text": [
      "Rank 5 NFT by Total Value\n",
      "The number of transactions: 665\n",
      "SS: -1.000672920799661\n",
      "https://opensea.io/assets/ethereum/0x7bd29408f11d2bfc23c34f18275bbf23bb716bc7/1938\n"
     ]
    },
    {
     "data": {
      "image/png": "[encoded data removed]",
      "text/plain": [
       "<Figure size 432x288 with 1 Axes>"
      ]
     },
     "metadata": {
      "needs_background": "light"
     },
     "output_type": "display_data"
    },
    {
     "name": "stdout",
     "output_type": "stream",
     "text": [
      "Rank 6 NFT by Total Value\n",
      "The number of transactions: 34\n",
      "SS: -0.36331436647843035\n",
      "https://opensea.io/assets/ethereum/0x4e1f41613c9084fdb9e34e11fae9412427480e56/9559\n"
     ]
    },
    {
     "data": {
      "image/png": "[encoded data removed]",
      "text/plain": [
       "<Figure size 432x288 with 1 Axes>"
      ]
     },
     "metadata": {
      "needs_background": "light"
     },
     "output_type": "display_data"
    },
    {
     "name": "stdout",
     "output_type": "stream",
     "text": [
      "Rank 7 NFT by Total Value\n",
      "The number of transactions: 35\n",
      "SS: -0.04336159643805856\n",
      "https://opensea.io/assets/ethereum/0x4e1f41613c9084fdb9e34e11fae9412427480e56/5283\n"
     ]
    },
    {
     "data": {
      "image/png": "[encoded data removed]",
      "text/plain": [
       "<Figure size 432x288 with 1 Axes>"
      ]
     },
     "metadata": {
      "needs_background": "light"
     },
     "output_type": "display_data"
    },
    {
     "name": "stdout",
     "output_type": "stream",
     "text": [
      "Rank 8 NFT by Total Value\n",
      "The number of transactions: 1\n",
      "SS: nan\n",
      "https://opensea.io/assets/ethereum/0xc36442b4a4522e871399cd717abdd847ab11fe88/256128\n"
     ]
    },
    {
     "data": {
      "image/png": "[encoded data removed]",
      "text/plain": [
       "<Figure size 432x288 with 1 Axes>"
      ]
     },
     "metadata": {
      "needs_background": "light"
     },
     "output_type": "display_data"
    },
    {
     "name": "stdout",
     "output_type": "stream",
     "text": [
      "Rank 9 NFT by Total Value\n",
      "The number of transactions: 1\n",
      "SS: nan\n",
      "https://opensea.io/assets/ethereum/0xc36442b4a4522e871399cd717abdd847ab11fe88/256596\n"
     ]
    },
    {
     "data": {
      "image/png": "[encoded data removed]",
      "text/plain": [
       "<Figure size 432x288 with 1 Axes>"
      ]
     },
     "metadata": {
      "needs_background": "light"
     },
     "output_type": "display_data"
    },
    {
     "name": "stdout",
     "output_type": "stream",
     "text": [
      "Rank 10 NFT by Total Value\n",
      "The number of transactions: 1\n",
      "SS: nan\n",
      "https://opensea.io/assets/ethereum/0xc36442b4a4522e871399cd717abdd847ab11fe88/255078\n"
     ]
    },
    {
     "data": {
      "image/png": "[encoded data removed]",
      "text/plain": [
       "<Figure size 432x288 with 1 Axes>"
      ]
     },
     "metadata": {
      "needs_background": "light"
     },
     "output_type": "display_data"
    },
    {
     "name": "stdout",
     "output_type": "stream",
     "text": [
      "Rank 11 NFT by Total Value\n",
      "The number of transactions: 1\n",
      "SS: nan\n",
      "https://opensea.io/assets/ethereum/0xc36442b4a4522e871399cd717abdd847ab11fe88/255042\n"
     ]
    },
    {
     "data": {
      "image/png": "[encoded data removed]",
      "text/plain": [
       "<Figure size 432x288 with 1 Axes>"
      ]
     },
     "metadata": {
      "needs_background": "light"
     },
     "output_type": "display_data"
    },
    {
     "name": "stdout",
     "output_type": "stream",
     "text": [
      "Rank 12 NFT by Total Value\n",
      "The number of transactions: 1\n",
      "SS: nan\n",
      "https://opensea.io/assets/ethereum/0xc36442b4a4522e871399cd717abdd847ab11fe88/255203\n"
     ]
    },
    {
     "data": {
      "image/png": "[encoded data removed]",
      "text/plain": [
       "<Figure size 432x288 with 1 Axes>"
      ]
     },
     "metadata": {
      "needs_background": "light"
     },
     "output_type": "display_data"
    },
    {
     "name": "stdout",
     "output_type": "stream",
     "text": [
      "Rank 13 NFT by Total Value\n",
      "The number of transactions: 1\n",
      "SS: nan\n",
      "https://opensea.io/assets/ethereum/0xc36442b4a4522e871399cd717abdd847ab11fe88/253618\n"
     ]
    },
    {
     "data": {
      "image/png": "[encoded data removed]",
      "text/plain": [
       "<Figure size 432x288 with 1 Axes>"
      ]
     },
     "metadata": {
      "needs_background": "light"
     },
     "output_type": "display_data"
    },
    {
     "name": "stdout",
     "output_type": "stream",
     "text": [
      "Rank 14 NFT by Total Value\n",
      "The number of transactions: 1\n",
      "SS: nan\n",
      "https://opensea.io/assets/ethereum/0xc36442b4a4522e871399cd717abdd847ab11fe88/253569\n"
     ]
    },
    {
     "data": {
      "image/png": "[encoded data removed]",
      "text/plain": [
       "<Figure size 432x288 with 1 Axes>"
      ]
     },
     "metadata": {
      "needs_background": "light"
     },
     "output_type": "display_data"
    },
    {
     "name": "stdout",
     "output_type": "stream",
     "text": [
      "Rank 15 NFT by Total Value\n",
      "The number of transactions: 23\n",
      "SS: -1.3294741438221456\n",
      "https://opensea.io/assets/ethereum/0x4e1f41613c9084fdb9e34e11fae9412427480e56/9728\n"
     ]
    },
    {
     "data": {
      "image/png": "[encoded data removed]",
      "text/plain": [
       "<Figure size 432x288 with 1 Axes>"
      ]
     },
     "metadata": {
      "needs_background": "light"
     },
     "output_type": "display_data"
    },
    {
     "name": "stdout",
     "output_type": "stream",
     "text": [
      "Rank 16 NFT by Total Value\n",
      "The number of transactions: 1\n",
      "SS: nan\n",
      "https://opensea.io/assets/ethereum/0xc36442b4a4522e871399cd717abdd847ab11fe88/238341\n"
     ]
    },
    {
     "data": {
      "image/png": "[encoded data removed]",
      "text/plain": [
       "<Figure size 432x288 with 1 Axes>"
      ]
     },
     "metadata": {
      "needs_background": "light"
     },
     "output_type": "display_data"
    },
    {
     "name": "stdout",
     "output_type": "stream",
     "text": [
      "Rank 17 NFT by Total Value\n",
      "The number of transactions: 1\n",
      "SS: nan\n",
      "https://opensea.io/assets/ethereum/0xc36442b4a4522e871399cd717abdd847ab11fe88/270490\n"
     ]
    },
    {
     "data": {
      "image/png": "[encoded data removed]",
      "text/plain": [
       "<Figure size 432x288 with 1 Axes>"
      ]
     },
     "metadata": {
      "needs_background": "light"
     },
     "output_type": "display_data"
    },
    {
     "name": "stdout",
     "output_type": "stream",
     "text": [
      "Rank 18 NFT by Total Value\n",
      "The number of transactions: 1\n",
      "SS: nan\n",
      "https://opensea.io/assets/ethereum/0xc36442b4a4522e871399cd717abdd847ab11fe88/253381\n"
     ]
    },
    {
     "data": {
      "image/png": "[encoded data removed]",
      "text/plain": [
       "<Figure size 432x288 with 1 Axes>"
      ]
     },
     "metadata": {
      "needs_background": "light"
     },
     "output_type": "display_data"
    },
    {
     "name": "stdout",
     "output_type": "stream",
     "text": [
      "Rank 19 NFT by Total Value\n",
      "The number of transactions: 1\n",
      "SS: nan\n",
      "https://opensea.io/assets/ethereum/0xc36442b4a4522e871399cd717abdd847ab11fe88/253333\n"
     ]
    },
    {
     "data": {
      "image/png": "[encoded data removed]",
      "text/plain": [
       "<Figure size 432x288 with 1 Axes>"
      ]
     },
     "metadata": {
      "needs_background": "light"
     },
     "output_type": "display_data"
    },
    {
     "name": "stdout",
     "output_type": "stream",
     "text": [
      "Rank 20 NFT by Total Value\n",
      "The number of transactions: 1\n",
      "SS: nan\n",
      "https://opensea.io/assets/ethereum/0xc36442b4a4522e871399cd717abdd847ab11fe88/254912\n"
     ]
    },
    {
     "data": {
      "image/png": "[encoded data removed]",
      "text/plain": [
       "<Figure size 432x288 with 1 Axes>"
      ]
     },
     "metadata": {
      "needs_background": "light"
     },
     "output_type": "display_data"
    }
   ],
   "source": [
    "for rank, idx in enumerate(top_20_total_value.index.values):\n",
    "    nft_value = transfers[(transfers['token_address'] == idx[0]) & (transfers['token_id'] == idx[1])]['value']\n",
    "    print(f\"Rank {rank+1} NFT by Total Value\")\n",
    "    print(f\"The number of transactions: {nft_value.size}\")\n",
    "    print(\"SS: {}\".format(nft_value.skew()))\n",
    "    print(f\"https://opensea.io/assets/ethereum/{idx[0]}/{idx[1]}\")\n",
    "    nft_value.plot.hist(bins=100)\n",
    "    plt.xlabel(\"Value in Ether\")\n",
    "    plt.show()"
   ]
  },
  {
   "cell_type": "markdown",
   "id": "6f814bf1",
   "metadata": {},
   "source": [
    "### 6.5 Popular Collections\n",
    "- Check the characteristics of poupular collections.\n",
    "- They all have good amount of transaction counts.\n",
    "- Distribution is pretty normal if we find a good section of data.\n",
    "- We get good section by removing high outliers and transactions with value less than 10.\n",
    "- Even for them a lot of trancation is around 0 ether.\n",
    "- Try sum score and mean score and sum + mean score.\n",
    "- For collection, the sum might be the best metric for now.\n",
    "\n",
    "##### 6.5.1 Crytpo Punks"
   ]
  },
  {
   "cell_type": "code",
   "execution_count": 70,
   "id": "d610f8d7",
   "metadata": {},
   "outputs": [
    {
     "data": {
      "text/html": [
       "<div>\n",
       "<style scoped>\n",
       "    .dataframe tbody tr th:only-of-type {\n",
       "        vertical-align: middle;\n",
       "    }\n",
       "\n",
       "    .dataframe tbody tr th {\n",
       "        vertical-align: top;\n",
       "    }\n",
       "\n",
       "    .dataframe thead th {\n",
       "        text-align: right;\n",
       "    }\n",
       "</style>\n",
       "<table border=\"1\" class=\"dataframe\">\n",
       "  <thead>\n",
       "    <tr style=\"text-align: right;\">\n",
       "      <th></th>\n",
       "      <th>amount</th>\n",
       "      <th>block_hash</th>\n",
       "      <th>block_number</th>\n",
       "      <th>block_timestamp</th>\n",
       "      <th>contract_type</th>\n",
       "      <th>from_address</th>\n",
       "      <th>log_index</th>\n",
       "      <th>operator</th>\n",
       "      <th>to_address</th>\n",
       "      <th>token_address</th>\n",
       "      <th>token_id</th>\n",
       "      <th>transaction_hash</th>\n",
       "      <th>transaction_index</th>\n",
       "      <th>transaction_type</th>\n",
       "      <th>value</th>\n",
       "      <th>verified</th>\n",
       "    </tr>\n",
       "  </thead>\n",
       "  <tbody>\n",
       "    <tr>\n",
       "      <th>49253</th>\n",
       "      <td>1</td>\n",
       "      <td>0x9a987f613a1f691bbb363a7989ffd77f9c2dcf98a3ec...</td>\n",
       "      <td>14693983</td>\n",
       "      <td>2022-05-01T20:10:21.000Z</td>\n",
       "      <td>N/A</td>\n",
       "      <td>0xdb1c00a5cdc1849f999ff9e417a2556178cf73d7</td>\n",
       "      <td>78</td>\n",
       "      <td>N/A</td>\n",
       "      <td>0x1919db36ca2fa2e15f9000fd9cdc2edcf863e685</td>\n",
       "      <td>0xb47e3cd837ddf8e4c57f05d70ab865de6e193bbb</td>\n",
       "      <td>7402</td>\n",
       "      <td>0xcaa3db88ea33f38202022796565fe174f81321c533a4...</td>\n",
       "      <td>56</td>\n",
       "      <td>Single</td>\n",
       "      <td>62.690000</td>\n",
       "      <td>1</td>\n",
       "    </tr>\n",
       "    <tr>\n",
       "      <th>94547</th>\n",
       "      <td>1</td>\n",
       "      <td>0xf32a2a2fa5b4ee2ec709ca8d53d4b96889378956eb0b...</td>\n",
       "      <td>14693118</td>\n",
       "      <td>2022-05-01T16:51:59.000Z</td>\n",
       "      <td>N/A</td>\n",
       "      <td>0xed01f8a737813f0bda2d4340d191dbf8c2cbcf30</td>\n",
       "      <td>460</td>\n",
       "      <td>N/A</td>\n",
       "      <td>0xd9014705d2368dd097f2631b81965e85b3f5a0ba</td>\n",
       "      <td>0xb47e3cd837ddf8e4c57f05d70ab865de6e193bbb</td>\n",
       "      <td>2228</td>\n",
       "      <td>0x237fba9c8c8408303860289582b4b20f5da9661c6408...</td>\n",
       "      <td>287</td>\n",
       "      <td>Single</td>\n",
       "      <td>20.206624</td>\n",
       "      <td>1</td>\n",
       "    </tr>\n",
       "    <tr>\n",
       "      <th>94548</th>\n",
       "      <td>1</td>\n",
       "      <td>0xf32a2a2fa5b4ee2ec709ca8d53d4b96889378956eb0b...</td>\n",
       "      <td>14693118</td>\n",
       "      <td>2022-05-01T16:51:59.000Z</td>\n",
       "      <td>N/A</td>\n",
       "      <td>0xb7f7f6c52f2e2fdb1963eab30438024864c313f6</td>\n",
       "      <td>458</td>\n",
       "      <td>N/A</td>\n",
       "      <td>0xed01f8a737813f0bda2d4340d191dbf8c2cbcf30</td>\n",
       "      <td>0xb47e3cd837ddf8e4c57f05d70ab865de6e193bbb</td>\n",
       "      <td>2228</td>\n",
       "      <td>0x237fba9c8c8408303860289582b4b20f5da9661c6408...</td>\n",
       "      <td>287</td>\n",
       "      <td>Single</td>\n",
       "      <td>20.206624</td>\n",
       "      <td>1</td>\n",
       "    </tr>\n",
       "    <tr>\n",
       "      <th>177940</th>\n",
       "      <td>1</td>\n",
       "      <td>0x618c8f47a1df7e1f37d5ca1fb421d3fd68cdcf95ae2b...</td>\n",
       "      <td>14691815</td>\n",
       "      <td>2022-05-01T11:55:45.000Z</td>\n",
       "      <td>N/A</td>\n",
       "      <td>0xa9dc1bf6a46bc0d03c2b3d621d434dd6e998190d</td>\n",
       "      <td>296</td>\n",
       "      <td>N/A</td>\n",
       "      <td>0xc876b346d50c4199458ee0e3754883f62fe3a5b0</td>\n",
       "      <td>0xb47e3cd837ddf8e4c57f05d70ab865de6e193bbb</td>\n",
       "      <td>4894</td>\n",
       "      <td>0xbb91c6178c4a9a90ad8bd2a6398857414dd2909b8ede...</td>\n",
       "      <td>57</td>\n",
       "      <td>Single</td>\n",
       "      <td>110.000000</td>\n",
       "      <td>1</td>\n",
       "    </tr>\n",
       "    <tr>\n",
       "      <th>289090</th>\n",
       "      <td>1</td>\n",
       "      <td>0x232d1a601930fc95e06047d36fa45ebb1af74222d0bf...</td>\n",
       "      <td>14690367</td>\n",
       "      <td>2022-05-01T06:18:05.000Z</td>\n",
       "      <td>N/A</td>\n",
       "      <td>0x0e2c268410d5a9af2d293f365760bb4ff10932f4</td>\n",
       "      <td>30</td>\n",
       "      <td>N/A</td>\n",
       "      <td>0x1db5628f9443a603615beb064106bb159bedeebc</td>\n",
       "      <td>0xb47e3cd837ddf8e4c57f05d70ab865de6e193bbb</td>\n",
       "      <td>7181</td>\n",
       "      <td>0x9e40b4b2ca576278869ce391689d13afc996917ad078...</td>\n",
       "      <td>33</td>\n",
       "      <td>Single</td>\n",
       "      <td>63.990000</td>\n",
       "      <td>1</td>\n",
       "    </tr>\n",
       "    <tr>\n",
       "      <th>...</th>\n",
       "      <td>...</td>\n",
       "      <td>...</td>\n",
       "      <td>...</td>\n",
       "      <td>...</td>\n",
       "      <td>...</td>\n",
       "      <td>...</td>\n",
       "      <td>...</td>\n",
       "      <td>...</td>\n",
       "      <td>...</td>\n",
       "      <td>...</td>\n",
       "      <td>...</td>\n",
       "      <td>...</td>\n",
       "      <td>...</td>\n",
       "      <td>...</td>\n",
       "      <td>...</td>\n",
       "      <td>...</td>\n",
       "    </tr>\n",
       "    <tr>\n",
       "      <th>38350193</th>\n",
       "      <td>1</td>\n",
       "      <td>0xdd6856ef01f7579866c5009b7d22fb2050f75134e746...</td>\n",
       "      <td>15270822</td>\n",
       "      <td>2022-08-03T17:33:45.000Z</td>\n",
       "      <td>N/A</td>\n",
       "      <td>0x74806540d1429d177013c8b90a6679626a18cec8</td>\n",
       "      <td>145</td>\n",
       "      <td>N/A</td>\n",
       "      <td>0x1919db36ca2fa2e15f9000fd9cdc2edcf863e685</td>\n",
       "      <td>0xb47e3cd837ddf8e4c57f05d70ab865de6e193bbb</td>\n",
       "      <td>6118</td>\n",
       "      <td>0x5721ab8a7af731c0f48550fabd3744ed64f2089a77ab...</td>\n",
       "      <td>74</td>\n",
       "      <td>Single</td>\n",
       "      <td>80.000000</td>\n",
       "      <td>1</td>\n",
       "    </tr>\n",
       "    <tr>\n",
       "      <th>38352517</th>\n",
       "      <td>1</td>\n",
       "      <td>0x8686ab9941988afd479aa65399839f2325de5f8ecfd2...</td>\n",
       "      <td>15270810</td>\n",
       "      <td>2022-08-03T17:30:14.000Z</td>\n",
       "      <td>N/A</td>\n",
       "      <td>0x0232d1083e970f0c78f56202b9a666b526fa379f</td>\n",
       "      <td>249</td>\n",
       "      <td>N/A</td>\n",
       "      <td>0xaf5fc2a71fe35956bcd1ff7bf7ba73aa9e0c9a8b</td>\n",
       "      <td>0xb47e3cd837ddf8e4c57f05d70ab865de6e193bbb</td>\n",
       "      <td>6821</td>\n",
       "      <td>0xe3b9addfc7e5f9ba2f21d65125c8c155214118b685b2...</td>\n",
       "      <td>108</td>\n",
       "      <td>Single</td>\n",
       "      <td>78.950000</td>\n",
       "      <td>1</td>\n",
       "    </tr>\n",
       "    <tr>\n",
       "      <th>38354949</th>\n",
       "      <td>1</td>\n",
       "      <td>0xccb88c241519214503777e217499ab1d313a2d89f90b...</td>\n",
       "      <td>15270755</td>\n",
       "      <td>2022-08-03T17:18:58.000Z</td>\n",
       "      <td>N/A</td>\n",
       "      <td>0x457ec0c459f3ac559ceb48951675fbae4c744288</td>\n",
       "      <td>135</td>\n",
       "      <td>N/A</td>\n",
       "      <td>0x1919db36ca2fa2e15f9000fd9cdc2edcf863e685</td>\n",
       "      <td>0xb47e3cd837ddf8e4c57f05d70ab865de6e193bbb</td>\n",
       "      <td>4715</td>\n",
       "      <td>0xa262436758908209d537b101bf96e8fc26ceb05a31f5...</td>\n",
       "      <td>72</td>\n",
       "      <td>Single</td>\n",
       "      <td>81.950000</td>\n",
       "      <td>1</td>\n",
       "    </tr>\n",
       "    <tr>\n",
       "      <th>38357227</th>\n",
       "      <td>1</td>\n",
       "      <td>0xeaf369225787b0aed9cb13d9c4f14ae3681f5b46c291...</td>\n",
       "      <td>15270710</td>\n",
       "      <td>2022-08-03T17:10:18.000Z</td>\n",
       "      <td>N/A</td>\n",
       "      <td>0x0232d1083e970f0c78f56202b9a666b526fa379f</td>\n",
       "      <td>108</td>\n",
       "      <td>N/A</td>\n",
       "      <td>0x60e23da7a0b229902da892ddd6a839382eab04ca</td>\n",
       "      <td>0xb47e3cd837ddf8e4c57f05d70ab865de6e193bbb</td>\n",
       "      <td>2672</td>\n",
       "      <td>0x3aa3018a9f52696c4094bb381cabd8af42cda79d65a4...</td>\n",
       "      <td>54</td>\n",
       "      <td>Single</td>\n",
       "      <td>74.750000</td>\n",
       "      <td>1</td>\n",
       "    </tr>\n",
       "    <tr>\n",
       "      <th>38473039</th>\n",
       "      <td>1</td>\n",
       "      <td>0x3d71b187c873cab348f8182fbf2aa78df8a5efaac095...</td>\n",
       "      <td>15268436</td>\n",
       "      <td>2022-08-03T08:20:44.000Z</td>\n",
       "      <td>N/A</td>\n",
       "      <td>0xca3be8fcc0bb1e966aad0fb5705ba11b517bd219</td>\n",
       "      <td>22</td>\n",
       "      <td>N/A</td>\n",
       "      <td>0x5708741dfb33583b96dea8a8ee8c8efadfec8a13</td>\n",
       "      <td>0xb47e3cd837ddf8e4c57f05d70ab865de6e193bbb</td>\n",
       "      <td>9018</td>\n",
       "      <td>0x76adfd41da13035941c6408fcfbb9773d948b8dd6d22...</td>\n",
       "      <td>4</td>\n",
       "      <td>Single</td>\n",
       "      <td>86.000000</td>\n",
       "      <td>1</td>\n",
       "    </tr>\n",
       "  </tbody>\n",
       "</table>\n",
       "<p>1040 rows × 16 columns</p>\n",
       "</div>"
      ],
      "text/plain": [
       "         amount                                         block_hash  \\\n",
       "49253         1  0x9a987f613a1f691bbb363a7989ffd77f9c2dcf98a3ec...   \n",
       "94547         1  0xf32a2a2fa5b4ee2ec709ca8d53d4b96889378956eb0b...   \n",
       "94548         1  0xf32a2a2fa5b4ee2ec709ca8d53d4b96889378956eb0b...   \n",
       "177940        1  0x618c8f47a1df7e1f37d5ca1fb421d3fd68cdcf95ae2b...   \n",
       "289090        1  0x232d1a601930fc95e06047d36fa45ebb1af74222d0bf...   \n",
       "...         ...                                                ...   \n",
       "38350193      1  0xdd6856ef01f7579866c5009b7d22fb2050f75134e746...   \n",
       "38352517      1  0x8686ab9941988afd479aa65399839f2325de5f8ecfd2...   \n",
       "38354949      1  0xccb88c241519214503777e217499ab1d313a2d89f90b...   \n",
       "38357227      1  0xeaf369225787b0aed9cb13d9c4f14ae3681f5b46c291...   \n",
       "38473039      1  0x3d71b187c873cab348f8182fbf2aa78df8a5efaac095...   \n",
       "\n",
       "          block_number           block_timestamp contract_type  \\\n",
       "49253         14693983  2022-05-01T20:10:21.000Z           N/A   \n",
       "94547         14693118  2022-05-01T16:51:59.000Z           N/A   \n",
       "94548         14693118  2022-05-01T16:51:59.000Z           N/A   \n",
       "177940        14691815  2022-05-01T11:55:45.000Z           N/A   \n",
       "289090        14690367  2022-05-01T06:18:05.000Z           N/A   \n",
       "...                ...                       ...           ...   \n",
       "38350193      15270822  2022-08-03T17:33:45.000Z           N/A   \n",
       "38352517      15270810  2022-08-03T17:30:14.000Z           N/A   \n",
       "38354949      15270755  2022-08-03T17:18:58.000Z           N/A   \n",
       "38357227      15270710  2022-08-03T17:10:18.000Z           N/A   \n",
       "38473039      15268436  2022-08-03T08:20:44.000Z           N/A   \n",
       "\n",
       "                                        from_address  log_index operator  \\\n",
       "49253     0xdb1c00a5cdc1849f999ff9e417a2556178cf73d7         78      N/A   \n",
       "94547     0xed01f8a737813f0bda2d4340d191dbf8c2cbcf30        460      N/A   \n",
       "94548     0xb7f7f6c52f2e2fdb1963eab30438024864c313f6        458      N/A   \n",
       "177940    0xa9dc1bf6a46bc0d03c2b3d621d434dd6e998190d        296      N/A   \n",
       "289090    0x0e2c268410d5a9af2d293f365760bb4ff10932f4         30      N/A   \n",
       "...                                              ...        ...      ...   \n",
       "38350193  0x74806540d1429d177013c8b90a6679626a18cec8        145      N/A   \n",
       "38352517  0x0232d1083e970f0c78f56202b9a666b526fa379f        249      N/A   \n",
       "38354949  0x457ec0c459f3ac559ceb48951675fbae4c744288        135      N/A   \n",
       "38357227  0x0232d1083e970f0c78f56202b9a666b526fa379f        108      N/A   \n",
       "38473039  0xca3be8fcc0bb1e966aad0fb5705ba11b517bd219         22      N/A   \n",
       "\n",
       "                                          to_address  \\\n",
       "49253     0x1919db36ca2fa2e15f9000fd9cdc2edcf863e685   \n",
       "94547     0xd9014705d2368dd097f2631b81965e85b3f5a0ba   \n",
       "94548     0xed01f8a737813f0bda2d4340d191dbf8c2cbcf30   \n",
       "177940    0xc876b346d50c4199458ee0e3754883f62fe3a5b0   \n",
       "289090    0x1db5628f9443a603615beb064106bb159bedeebc   \n",
       "...                                              ...   \n",
       "38350193  0x1919db36ca2fa2e15f9000fd9cdc2edcf863e685   \n",
       "38352517  0xaf5fc2a71fe35956bcd1ff7bf7ba73aa9e0c9a8b   \n",
       "38354949  0x1919db36ca2fa2e15f9000fd9cdc2edcf863e685   \n",
       "38357227  0x60e23da7a0b229902da892ddd6a839382eab04ca   \n",
       "38473039  0x5708741dfb33583b96dea8a8ee8c8efadfec8a13   \n",
       "\n",
       "                                       token_address token_id  \\\n",
       "49253     0xb47e3cd837ddf8e4c57f05d70ab865de6e193bbb     7402   \n",
       "94547     0xb47e3cd837ddf8e4c57f05d70ab865de6e193bbb     2228   \n",
       "94548     0xb47e3cd837ddf8e4c57f05d70ab865de6e193bbb     2228   \n",
       "177940    0xb47e3cd837ddf8e4c57f05d70ab865de6e193bbb     4894   \n",
       "289090    0xb47e3cd837ddf8e4c57f05d70ab865de6e193bbb     7181   \n",
       "...                                              ...      ...   \n",
       "38350193  0xb47e3cd837ddf8e4c57f05d70ab865de6e193bbb     6118   \n",
       "38352517  0xb47e3cd837ddf8e4c57f05d70ab865de6e193bbb     6821   \n",
       "38354949  0xb47e3cd837ddf8e4c57f05d70ab865de6e193bbb     4715   \n",
       "38357227  0xb47e3cd837ddf8e4c57f05d70ab865de6e193bbb     2672   \n",
       "38473039  0xb47e3cd837ddf8e4c57f05d70ab865de6e193bbb     9018   \n",
       "\n",
       "                                           transaction_hash  \\\n",
       "49253     0xcaa3db88ea33f38202022796565fe174f81321c533a4...   \n",
       "94547     0x237fba9c8c8408303860289582b4b20f5da9661c6408...   \n",
       "94548     0x237fba9c8c8408303860289582b4b20f5da9661c6408...   \n",
       "177940    0xbb91c6178c4a9a90ad8bd2a6398857414dd2909b8ede...   \n",
       "289090    0x9e40b4b2ca576278869ce391689d13afc996917ad078...   \n",
       "...                                                     ...   \n",
       "38350193  0x5721ab8a7af731c0f48550fabd3744ed64f2089a77ab...   \n",
       "38352517  0xe3b9addfc7e5f9ba2f21d65125c8c155214118b685b2...   \n",
       "38354949  0xa262436758908209d537b101bf96e8fc26ceb05a31f5...   \n",
       "38357227  0x3aa3018a9f52696c4094bb381cabd8af42cda79d65a4...   \n",
       "38473039  0x76adfd41da13035941c6408fcfbb9773d948b8dd6d22...   \n",
       "\n",
       "          transaction_index transaction_type       value  verified  \n",
       "49253                    56           Single   62.690000         1  \n",
       "94547                   287           Single   20.206624         1  \n",
       "94548                   287           Single   20.206624         1  \n",
       "177940                   57           Single  110.000000         1  \n",
       "289090                   33           Single   63.990000         1  \n",
       "...                     ...              ...         ...       ...  \n",
       "38350193                 74           Single   80.000000         1  \n",
       "38352517                108           Single   78.950000         1  \n",
       "38354949                 72           Single   81.950000         1  \n",
       "38357227                 54           Single   74.750000         1  \n",
       "38473039                  4           Single   86.000000         1  \n",
       "\n",
       "[1040 rows x 16 columns]"
      ]
     },
     "execution_count": 70,
     "metadata": {},
     "output_type": "execute_result"
    }
   ],
   "source": [
    "crypto_punks = transfers[transfers['token_address'] == \"0xb47e3cd837dDF8e4c57F05d70Ab865de6e193BBB\".lower()]\n",
    "crypto_punks"
   ]
  },
  {
   "cell_type": "code",
   "execution_count": 71,
   "id": "2222896d",
   "metadata": {},
   "outputs": [
    {
     "data": {
      "text/plain": [
       "21.51867657137903"
      ]
     },
     "execution_count": 71,
     "metadata": {},
     "output_type": "execute_result"
    }
   ],
   "source": [
    "crypto_punks.value.skew()"
   ]
  },
  {
   "cell_type": "code",
   "execution_count": 72,
   "id": "f2c38d63",
   "metadata": {},
   "outputs": [
    {
     "data": {
      "text/plain": [
       "count    1040.000000\n",
       "mean       75.244275\n",
       "std        87.357746\n",
       "min         1.536868\n",
       "25%        54.980000\n",
       "50%        69.965000\n",
       "75%        83.777500\n",
       "max      2500.000000\n",
       "Name: value, dtype: float64"
      ]
     },
     "execution_count": 72,
     "metadata": {},
     "output_type": "execute_result"
    }
   ],
   "source": [
    "crypto_punks.value.describe()"
   ]
  },
  {
   "cell_type": "code",
   "execution_count": 73,
   "id": "7121081a",
   "metadata": {},
   "outputs": [
    {
     "data": {
      "image/png": "[encoded data removed]",
      "text/plain": [
       "<Figure size 432x288 with 1 Axes>"
      ]
     },
     "metadata": {
      "needs_background": "light"
     },
     "output_type": "display_data"
    }
   ],
   "source": [
    "crypto_punks.value.plot.hist(bins=100)\n",
    "plt.xlabel(\"Value\")\n",
    "plt.show()"
   ]
  },
  {
   "cell_type": "code",
   "execution_count": 74,
   "id": "a4444331",
   "metadata": {},
   "outputs": [
    {
     "data": {
      "image/png": "[encoded data removed]",
      "text/plain": [
       "<Figure size 432x288 with 1 Axes>"
      ]
     },
     "metadata": {
      "needs_background": "light"
     },
     "output_type": "display_data"
    }
   ],
   "source": [
    "crypto_punks.value.plot.box()\n",
    "plt.show()"
   ]
  },
  {
   "cell_type": "code",
   "execution_count": 75,
   "id": "76caef0b",
   "metadata": {},
   "outputs": [],
   "source": [
    "cp_value_inliers = pd.Series(get_inliers(crypto_punks.value))"
   ]
  },
  {
   "cell_type": "code",
   "execution_count": 76,
   "id": "16956d02",
   "metadata": {},
   "outputs": [
    {
     "data": {
      "text/plain": [
       "-0.35701561673745025"
      ]
     },
     "execution_count": 76,
     "metadata": {},
     "output_type": "execute_result"
    }
   ],
   "source": [
    "cp_value_inliers_3 = cp_value_inliers[cp_value_inliers > 10]\n",
    "cp_value_inliers_3.skew()"
   ]
  },
  {
   "cell_type": "code",
   "execution_count": 77,
   "id": "2f47460b",
   "metadata": {},
   "outputs": [
    {
     "data": {
      "image/png": "[encoded data removed]",
      "text/plain": [
       "<Figure size 432x288 with 1 Axes>"
      ]
     },
     "metadata": {
      "needs_background": "light"
     },
     "output_type": "display_data"
    }
   ],
   "source": [
    "cp_value_inliers_3.plot.hist(bins=100)\n",
    "plt.xlabel(\"Value\")\n",
    "plt.show()"
   ]
  },
  {
   "cell_type": "code",
   "execution_count": 78,
   "id": "9b0630ae",
   "metadata": {},
   "outputs": [
    {
     "data": {
      "text/plain": [
       "67.77991595495236"
      ]
     },
     "execution_count": 78,
     "metadata": {},
     "output_type": "execute_result"
    }
   ],
   "source": [
    "cp_value_inliers_3.mean() "
   ]
  },
  {
   "cell_type": "code",
   "execution_count": 79,
   "id": "a8f181c5",
   "metadata": {},
   "outputs": [
    {
     "data": {
      "text/plain": [
       "66763.21721562817"
      ]
     },
     "execution_count": 79,
     "metadata": {},
     "output_type": "execute_result"
    }
   ],
   "source": [
    "cp_value_inliers_3.sum()"
   ]
  },
  {
   "cell_type": "code",
   "execution_count": 80,
   "id": "a13b49d8",
   "metadata": {},
   "outputs": [
    {
     "data": {
      "text/plain": [
       "66830.99713158312"
      ]
     },
     "execution_count": 80,
     "metadata": {},
     "output_type": "execute_result"
    }
   ],
   "source": [
    "cp_score = cp_value_inliers_3.mean() + cp_value_inliers_3.sum()\n",
    "cp_score"
   ]
  },
  {
   "cell_type": "markdown",
   "id": "041d7b30",
   "metadata": {},
   "source": [
    "##### 6.5.2  BoredApes"
   ]
  },
  {
   "cell_type": "code",
   "execution_count": 81,
   "id": "a6cb36e1",
   "metadata": {},
   "outputs": [
    {
     "data": {
      "text/html": [
       "<div>\n",
       "<style scoped>\n",
       "    .dataframe tbody tr th:only-of-type {\n",
       "        vertical-align: middle;\n",
       "    }\n",
       "\n",
       "    .dataframe tbody tr th {\n",
       "        vertical-align: top;\n",
       "    }\n",
       "\n",
       "    .dataframe thead th {\n",
       "        text-align: right;\n",
       "    }\n",
       "</style>\n",
       "<table border=\"1\" class=\"dataframe\">\n",
       "  <thead>\n",
       "    <tr style=\"text-align: right;\">\n",
       "      <th></th>\n",
       "      <th>amount</th>\n",
       "      <th>block_hash</th>\n",
       "      <th>block_number</th>\n",
       "      <th>block_timestamp</th>\n",
       "      <th>contract_type</th>\n",
       "      <th>from_address</th>\n",
       "      <th>log_index</th>\n",
       "      <th>operator</th>\n",
       "      <th>to_address</th>\n",
       "      <th>token_address</th>\n",
       "      <th>token_id</th>\n",
       "      <th>transaction_hash</th>\n",
       "      <th>transaction_index</th>\n",
       "      <th>transaction_type</th>\n",
       "      <th>value</th>\n",
       "      <th>verified</th>\n",
       "    </tr>\n",
       "  </thead>\n",
       "  <tbody>\n",
       "    <tr>\n",
       "      <th>12831</th>\n",
       "      <td>1</td>\n",
       "      <td>0x8e3312497e57e330d0f082245f43c67808eab3be1088...</td>\n",
       "      <td>14694780</td>\n",
       "      <td>2022-05-01T23:05:40.000Z</td>\n",
       "      <td>ERC721</td>\n",
       "      <td>0x90dfb72736481bbacc7938d2d3673590b92647ae</td>\n",
       "      <td>184</td>\n",
       "      <td>N/A</td>\n",
       "      <td>0xb7ef760f30d139097ba547bd6f0dfaecbf148452</td>\n",
       "      <td>0xbc4ca0eda7647a8ab7c2061c2e118a18a936f13d</td>\n",
       "      <td>1871</td>\n",
       "      <td>0xbd0cd3634e462ea61f3931af23458f8321756c6a622a...</td>\n",
       "      <td>100</td>\n",
       "      <td>Single</td>\n",
       "      <td>0.053914</td>\n",
       "      <td>1</td>\n",
       "    </tr>\n",
       "    <tr>\n",
       "      <th>19366</th>\n",
       "      <td>1</td>\n",
       "      <td>0x37134b1dcfac2c4dfff834c4c48fe9c8715f9726a3f4...</td>\n",
       "      <td>14694643</td>\n",
       "      <td>2022-05-01T22:38:01.000Z</td>\n",
       "      <td>ERC721</td>\n",
       "      <td>0x70b97a0da65c15dfb0ffa02aee6fa36e507c2762</td>\n",
       "      <td>430</td>\n",
       "      <td>N/A</td>\n",
       "      <td>0xb7ef760f30d139097ba547bd6f0dfaecbf148452</td>\n",
       "      <td>0xbc4ca0eda7647a8ab7c2061c2e118a18a936f13d</td>\n",
       "      <td>2329</td>\n",
       "      <td>0xa5c346dd50160a7a5d2ed2bedadddb23a7886d313578...</td>\n",
       "      <td>162</td>\n",
       "      <td>Single</td>\n",
       "      <td>54.143457</td>\n",
       "      <td>1</td>\n",
       "    </tr>\n",
       "    <tr>\n",
       "      <th>19367</th>\n",
       "      <td>1</td>\n",
       "      <td>0x37134b1dcfac2c4dfff834c4c48fe9c8715f9726a3f4...</td>\n",
       "      <td>14694643</td>\n",
       "      <td>2022-05-01T22:38:01.000Z</td>\n",
       "      <td>ERC721</td>\n",
       "      <td>0x5f6ac80cdb9e87f3cfa6a90e5140b9a16a361d5c</td>\n",
       "      <td>419</td>\n",
       "      <td>N/A</td>\n",
       "      <td>0x70b97a0da65c15dfb0ffa02aee6fa36e507c2762</td>\n",
       "      <td>0xbc4ca0eda7647a8ab7c2061c2e118a18a936f13d</td>\n",
       "      <td>2329</td>\n",
       "      <td>0xa5c346dd50160a7a5d2ed2bedadddb23a7886d313578...</td>\n",
       "      <td>162</td>\n",
       "      <td>Single</td>\n",
       "      <td>54.143457</td>\n",
       "      <td>1</td>\n",
       "    </tr>\n",
       "    <tr>\n",
       "      <th>19368</th>\n",
       "      <td>1</td>\n",
       "      <td>0x37134b1dcfac2c4dfff834c4c48fe9c8715f9726a3f4...</td>\n",
       "      <td>14694643</td>\n",
       "      <td>2022-05-01T22:38:01.000Z</td>\n",
       "      <td>ERC721</td>\n",
       "      <td>0xdbfd76af2157dc15ee4e57f3f942bb45ba84af24</td>\n",
       "      <td>416</td>\n",
       "      <td>N/A</td>\n",
       "      <td>0x5f6ac80cdb9e87f3cfa6a90e5140b9a16a361d5c</td>\n",
       "      <td>0xbc4ca0eda7647a8ab7c2061c2e118a18a936f13d</td>\n",
       "      <td>2329</td>\n",
       "      <td>0xa5c346dd50160a7a5d2ed2bedadddb23a7886d313578...</td>\n",
       "      <td>162</td>\n",
       "      <td>Single</td>\n",
       "      <td>54.143457</td>\n",
       "      <td>1</td>\n",
       "    </tr>\n",
       "    <tr>\n",
       "      <th>36548</th>\n",
       "      <td>1</td>\n",
       "      <td>0x7adb1d293da977c6defb018e6e5159f1c21eade388b5...</td>\n",
       "      <td>14694226</td>\n",
       "      <td>2022-05-01T21:04:13.000Z</td>\n",
       "      <td>ERC721</td>\n",
       "      <td>0x5d018611a65c87ac28f7f20007cbb1a96dc9e591</td>\n",
       "      <td>170</td>\n",
       "      <td>N/A</td>\n",
       "      <td>0xe0f5afbfa874cef79e67deb4f9bdbf96f36c9083</td>\n",
       "      <td>0xbc4ca0eda7647a8ab7c2061c2e118a18a936f13d</td>\n",
       "      <td>8829</td>\n",
       "      <td>0x0440ea28277e24c632fb421861acceb329053eeae1a9...</td>\n",
       "      <td>95</td>\n",
       "      <td>Single</td>\n",
       "      <td>126.000000</td>\n",
       "      <td>1</td>\n",
       "    </tr>\n",
       "    <tr>\n",
       "      <th>...</th>\n",
       "      <td>...</td>\n",
       "      <td>...</td>\n",
       "      <td>...</td>\n",
       "      <td>...</td>\n",
       "      <td>...</td>\n",
       "      <td>...</td>\n",
       "      <td>...</td>\n",
       "      <td>...</td>\n",
       "      <td>...</td>\n",
       "      <td>...</td>\n",
       "      <td>...</td>\n",
       "      <td>...</td>\n",
       "      <td>...</td>\n",
       "      <td>...</td>\n",
       "      <td>...</td>\n",
       "      <td>...</td>\n",
       "    </tr>\n",
       "    <tr>\n",
       "      <th>38491593</th>\n",
       "      <td>1</td>\n",
       "      <td>0xbff222025114c5a765cd3c9cd25d6df2f48f65c32ef1...</td>\n",
       "      <td>15268117</td>\n",
       "      <td>2022-08-03T07:14:50.000Z</td>\n",
       "      <td>ERC721</td>\n",
       "      <td>0x07c0872e541f05910cb2ff1f310f50f79555bd08</td>\n",
       "      <td>219</td>\n",
       "      <td>N/A</td>\n",
       "      <td>0x9e2344a4fb70e54ca31dc43ce8bce7fee75fb41d</td>\n",
       "      <td>0xbc4ca0eda7647a8ab7c2061c2e118a18a936f13d</td>\n",
       "      <td>314</td>\n",
       "      <td>0xc215ce844c893fd082737e6d39d0fc8aed7bfb253d35...</td>\n",
       "      <td>124</td>\n",
       "      <td>Single</td>\n",
       "      <td>79.000000</td>\n",
       "      <td>1</td>\n",
       "    </tr>\n",
       "    <tr>\n",
       "      <th>38548086</th>\n",
       "      <td>1</td>\n",
       "      <td>0x5649c441c4f3461eda408fa615a8fea61cb141cf5ddb...</td>\n",
       "      <td>15267097</td>\n",
       "      <td>2022-08-03T03:35:04.000Z</td>\n",
       "      <td>ERC721</td>\n",
       "      <td>0x4d7c645a178e4610b0bc45a738df908ab469943d</td>\n",
       "      <td>584</td>\n",
       "      <td>N/A</td>\n",
       "      <td>0x174e59a138d57556c8c883b36b7dafdbee391774</td>\n",
       "      <td>0xbc4ca0eda7647a8ab7c2061c2e118a18a936f13d</td>\n",
       "      <td>918</td>\n",
       "      <td>0xc9d9397ff66e9c884e4ab1efd7fe178ed1ab93e9f8eb...</td>\n",
       "      <td>407</td>\n",
       "      <td>Single</td>\n",
       "      <td>0.005000</td>\n",
       "      <td>1</td>\n",
       "    </tr>\n",
       "    <tr>\n",
       "      <th>38548087</th>\n",
       "      <td>1</td>\n",
       "      <td>0x5649c441c4f3461eda408fa615a8fea61cb141cf5ddb...</td>\n",
       "      <td>15267097</td>\n",
       "      <td>2022-08-03T03:35:04.000Z</td>\n",
       "      <td>ERC721</td>\n",
       "      <td>0x174e59a138d57556c8c883b36b7dafdbee391774</td>\n",
       "      <td>582</td>\n",
       "      <td>N/A</td>\n",
       "      <td>0x4d7c645a178e4610b0bc45a738df908ab469943d</td>\n",
       "      <td>0xbc4ca0eda7647a8ab7c2061c2e118a18a936f13d</td>\n",
       "      <td>7232</td>\n",
       "      <td>0xc9d9397ff66e9c884e4ab1efd7fe178ed1ab93e9f8eb...</td>\n",
       "      <td>407</td>\n",
       "      <td>Single</td>\n",
       "      <td>0.005000</td>\n",
       "      <td>1</td>\n",
       "    </tr>\n",
       "    <tr>\n",
       "      <th>38559850</th>\n",
       "      <td>1</td>\n",
       "      <td>0x6e8174deebc48d52ec27d33f4706930d1da3624cb1de...</td>\n",
       "      <td>15266893</td>\n",
       "      <td>2022-08-03T02:40:50.000Z</td>\n",
       "      <td>ERC721</td>\n",
       "      <td>0xdd94fe8f7e96d579e82f67d5b0ef6df493f72d80</td>\n",
       "      <td>674</td>\n",
       "      <td>N/A</td>\n",
       "      <td>0x174e59a138d57556c8c883b36b7dafdbee391774</td>\n",
       "      <td>0xbc4ca0eda7647a8ab7c2061c2e118a18a936f13d</td>\n",
       "      <td>7232</td>\n",
       "      <td>0x0479edbb4121df8fef7c23e2ad85b7a25b4a3e6d62b8...</td>\n",
       "      <td>363</td>\n",
       "      <td>Single</td>\n",
       "      <td>0.005000</td>\n",
       "      <td>1</td>\n",
       "    </tr>\n",
       "    <tr>\n",
       "      <th>38559851</th>\n",
       "      <td>1</td>\n",
       "      <td>0x6e8174deebc48d52ec27d33f4706930d1da3624cb1de...</td>\n",
       "      <td>15266893</td>\n",
       "      <td>2022-08-03T02:40:50.000Z</td>\n",
       "      <td>ERC721</td>\n",
       "      <td>0x174e59a138d57556c8c883b36b7dafdbee391774</td>\n",
       "      <td>672</td>\n",
       "      <td>N/A</td>\n",
       "      <td>0xdd94fe8f7e96d579e82f67d5b0ef6df493f72d80</td>\n",
       "      <td>0xbc4ca0eda7647a8ab7c2061c2e118a18a936f13d</td>\n",
       "      <td>4175</td>\n",
       "      <td>0x0479edbb4121df8fef7c23e2ad85b7a25b4a3e6d62b8...</td>\n",
       "      <td>363</td>\n",
       "      <td>Single</td>\n",
       "      <td>0.005000</td>\n",
       "      <td>1</td>\n",
       "    </tr>\n",
       "  </tbody>\n",
       "</table>\n",
       "<p>3483 rows × 16 columns</p>\n",
       "</div>"
      ],
      "text/plain": [
       "         amount                                         block_hash  \\\n",
       "12831         1  0x8e3312497e57e330d0f082245f43c67808eab3be1088...   \n",
       "19366         1  0x37134b1dcfac2c4dfff834c4c48fe9c8715f9726a3f4...   \n",
       "19367         1  0x37134b1dcfac2c4dfff834c4c48fe9c8715f9726a3f4...   \n",
       "19368         1  0x37134b1dcfac2c4dfff834c4c48fe9c8715f9726a3f4...   \n",
       "36548         1  0x7adb1d293da977c6defb018e6e5159f1c21eade388b5...   \n",
       "...         ...                                                ...   \n",
       "38491593      1  0xbff222025114c5a765cd3c9cd25d6df2f48f65c32ef1...   \n",
       "38548086      1  0x5649c441c4f3461eda408fa615a8fea61cb141cf5ddb...   \n",
       "38548087      1  0x5649c441c4f3461eda408fa615a8fea61cb141cf5ddb...   \n",
       "38559850      1  0x6e8174deebc48d52ec27d33f4706930d1da3624cb1de...   \n",
       "38559851      1  0x6e8174deebc48d52ec27d33f4706930d1da3624cb1de...   \n",
       "\n",
       "          block_number           block_timestamp contract_type  \\\n",
       "12831         14694780  2022-05-01T23:05:40.000Z        ERC721   \n",
       "19366         14694643  2022-05-01T22:38:01.000Z        ERC721   \n",
       "19367         14694643  2022-05-01T22:38:01.000Z        ERC721   \n",
       "19368         14694643  2022-05-01T22:38:01.000Z        ERC721   \n",
       "36548         14694226  2022-05-01T21:04:13.000Z        ERC721   \n",
       "...                ...                       ...           ...   \n",
       "38491593      15268117  2022-08-03T07:14:50.000Z        ERC721   \n",
       "38548086      15267097  2022-08-03T03:35:04.000Z        ERC721   \n",
       "38548087      15267097  2022-08-03T03:35:04.000Z        ERC721   \n",
       "38559850      15266893  2022-08-03T02:40:50.000Z        ERC721   \n",
       "38559851      15266893  2022-08-03T02:40:50.000Z        ERC721   \n",
       "\n",
       "                                        from_address  log_index operator  \\\n",
       "12831     0x90dfb72736481bbacc7938d2d3673590b92647ae        184      N/A   \n",
       "19366     0x70b97a0da65c15dfb0ffa02aee6fa36e507c2762        430      N/A   \n",
       "19367     0x5f6ac80cdb9e87f3cfa6a90e5140b9a16a361d5c        419      N/A   \n",
       "19368     0xdbfd76af2157dc15ee4e57f3f942bb45ba84af24        416      N/A   \n",
       "36548     0x5d018611a65c87ac28f7f20007cbb1a96dc9e591        170      N/A   \n",
       "...                                              ...        ...      ...   \n",
       "38491593  0x07c0872e541f05910cb2ff1f310f50f79555bd08        219      N/A   \n",
       "38548086  0x4d7c645a178e4610b0bc45a738df908ab469943d        584      N/A   \n",
       "38548087  0x174e59a138d57556c8c883b36b7dafdbee391774        582      N/A   \n",
       "38559850  0xdd94fe8f7e96d579e82f67d5b0ef6df493f72d80        674      N/A   \n",
       "38559851  0x174e59a138d57556c8c883b36b7dafdbee391774        672      N/A   \n",
       "\n",
       "                                          to_address  \\\n",
       "12831     0xb7ef760f30d139097ba547bd6f0dfaecbf148452   \n",
       "19366     0xb7ef760f30d139097ba547bd6f0dfaecbf148452   \n",
       "19367     0x70b97a0da65c15dfb0ffa02aee6fa36e507c2762   \n",
       "19368     0x5f6ac80cdb9e87f3cfa6a90e5140b9a16a361d5c   \n",
       "36548     0xe0f5afbfa874cef79e67deb4f9bdbf96f36c9083   \n",
       "...                                              ...   \n",
       "38491593  0x9e2344a4fb70e54ca31dc43ce8bce7fee75fb41d   \n",
       "38548086  0x174e59a138d57556c8c883b36b7dafdbee391774   \n",
       "38548087  0x4d7c645a178e4610b0bc45a738df908ab469943d   \n",
       "38559850  0x174e59a138d57556c8c883b36b7dafdbee391774   \n",
       "38559851  0xdd94fe8f7e96d579e82f67d5b0ef6df493f72d80   \n",
       "\n",
       "                                       token_address token_id  \\\n",
       "12831     0xbc4ca0eda7647a8ab7c2061c2e118a18a936f13d     1871   \n",
       "19366     0xbc4ca0eda7647a8ab7c2061c2e118a18a936f13d     2329   \n",
       "19367     0xbc4ca0eda7647a8ab7c2061c2e118a18a936f13d     2329   \n",
       "19368     0xbc4ca0eda7647a8ab7c2061c2e118a18a936f13d     2329   \n",
       "36548     0xbc4ca0eda7647a8ab7c2061c2e118a18a936f13d     8829   \n",
       "...                                              ...      ...   \n",
       "38491593  0xbc4ca0eda7647a8ab7c2061c2e118a18a936f13d      314   \n",
       "38548086  0xbc4ca0eda7647a8ab7c2061c2e118a18a936f13d      918   \n",
       "38548087  0xbc4ca0eda7647a8ab7c2061c2e118a18a936f13d     7232   \n",
       "38559850  0xbc4ca0eda7647a8ab7c2061c2e118a18a936f13d     7232   \n",
       "38559851  0xbc4ca0eda7647a8ab7c2061c2e118a18a936f13d     4175   \n",
       "\n",
       "                                           transaction_hash  \\\n",
       "12831     0xbd0cd3634e462ea61f3931af23458f8321756c6a622a...   \n",
       "19366     0xa5c346dd50160a7a5d2ed2bedadddb23a7886d313578...   \n",
       "19367     0xa5c346dd50160a7a5d2ed2bedadddb23a7886d313578...   \n",
       "19368     0xa5c346dd50160a7a5d2ed2bedadddb23a7886d313578...   \n",
       "36548     0x0440ea28277e24c632fb421861acceb329053eeae1a9...   \n",
       "...                                                     ...   \n",
       "38491593  0xc215ce844c893fd082737e6d39d0fc8aed7bfb253d35...   \n",
       "38548086  0xc9d9397ff66e9c884e4ab1efd7fe178ed1ab93e9f8eb...   \n",
       "38548087  0xc9d9397ff66e9c884e4ab1efd7fe178ed1ab93e9f8eb...   \n",
       "38559850  0x0479edbb4121df8fef7c23e2ad85b7a25b4a3e6d62b8...   \n",
       "38559851  0x0479edbb4121df8fef7c23e2ad85b7a25b4a3e6d62b8...   \n",
       "\n",
       "          transaction_index transaction_type       value  verified  \n",
       "12831                   100           Single    0.053914         1  \n",
       "19366                   162           Single   54.143457         1  \n",
       "19367                   162           Single   54.143457         1  \n",
       "19368                   162           Single   54.143457         1  \n",
       "36548                    95           Single  126.000000         1  \n",
       "...                     ...              ...         ...       ...  \n",
       "38491593                124           Single   79.000000         1  \n",
       "38548086                407           Single    0.005000         1  \n",
       "38548087                407           Single    0.005000         1  \n",
       "38559850                363           Single    0.005000         1  \n",
       "38559851                363           Single    0.005000         1  \n",
       "\n",
       "[3483 rows x 16 columns]"
      ]
     },
     "execution_count": 81,
     "metadata": {},
     "output_type": "execute_result"
    }
   ],
   "source": [
    "bored_apes = transfers[transfers['token_address'] == \"0xBC4CA0EdA7647A8aB7C2061c2E118A18a936f13D\".lower()]\n",
    "bored_apes"
   ]
  },
  {
   "cell_type": "code",
   "execution_count": 82,
   "id": "427709e0",
   "metadata": {},
   "outputs": [
    {
     "data": {
      "text/plain": [
       "1.870019605572381"
      ]
     },
     "execution_count": 82,
     "metadata": {},
     "output_type": "execute_result"
    }
   ],
   "source": [
    "bored_apes['value'].skew()"
   ]
  },
  {
   "cell_type": "code",
   "execution_count": 83,
   "id": "93f6c927",
   "metadata": {},
   "outputs": [
    {
     "data": {
      "text/plain": [
       "count    3.483000e+03\n",
       "mean     7.753770e+01\n",
       "std      6.253593e+01\n",
       "min      1.100030e-09\n",
       "25%      3.433492e+01\n",
       "50%      8.200000e+01\n",
       "75%      1.118439e+02\n",
       "max      1.024000e+03\n",
       "Name: value, dtype: float64"
      ]
     },
     "execution_count": 83,
     "metadata": {},
     "output_type": "execute_result"
    }
   ],
   "source": [
    "bored_apes.value.describe()"
   ]
  },
  {
   "cell_type": "code",
   "execution_count": 84,
   "id": "c3d0a1f0",
   "metadata": {},
   "outputs": [
    {
     "data": {
      "image/png": "[encoded data removed]",
      "text/plain": [
       "<Figure size 432x288 with 1 Axes>"
      ]
     },
     "metadata": {
      "needs_background": "light"
     },
     "output_type": "display_data"
    }
   ],
   "source": [
    "bored_apes['value'].plot.hist(bins=100)\n",
    "plt.xlabel(\"Value\")\n",
    "plt.show()"
   ]
  },
  {
   "cell_type": "code",
   "execution_count": 85,
   "id": "50a6d5bf",
   "metadata": {},
   "outputs": [
    {
     "data": {
      "image/png": "[encoded data removed]",
      "text/plain": [
       "<Figure size 432x288 with 1 Axes>"
      ]
     },
     "metadata": {
      "needs_background": "light"
     },
     "output_type": "display_data"
    }
   ],
   "source": [
    "bored_apes.value.plot.box()\n",
    "plt.show()"
   ]
  },
  {
   "cell_type": "code",
   "execution_count": 86,
   "id": "01812b20",
   "metadata": {},
   "outputs": [],
   "source": [
    "ba_inliers = pd.Series(get_inliers(bored_apes.value))"
   ]
  },
  {
   "cell_type": "code",
   "execution_count": 87,
   "id": "272391f5",
   "metadata": {},
   "outputs": [
    {
     "data": {
      "text/plain": [
       "0.313578964577042"
      ]
     },
     "execution_count": 87,
     "metadata": {},
     "output_type": "execute_result"
    }
   ],
   "source": [
    "ba_inliers.skew()"
   ]
  },
  {
   "cell_type": "code",
   "execution_count": 88,
   "id": "20649bd4",
   "metadata": {},
   "outputs": [
    {
     "data": {
      "image/png": "[encoded data removed]",
      "text/plain": [
       "<Figure size 432x288 with 1 Axes>"
      ]
     },
     "metadata": {
      "needs_background": "light"
     },
     "output_type": "display_data"
    }
   ],
   "source": [
    "ba_inliers.plot.hist(bins=100)\n",
    "plt.xlabel(\"Value\")\n",
    "plt.show()"
   ]
  },
  {
   "cell_type": "code",
   "execution_count": 89,
   "id": "f7cebce3",
   "metadata": {},
   "outputs": [],
   "source": [
    "ba_inliers_10 = ba_inliers[ba_inliers > 10]"
   ]
  },
  {
   "cell_type": "code",
   "execution_count": 90,
   "id": "ffcf0f63",
   "metadata": {},
   "outputs": [
    {
     "data": {
      "text/plain": [
       "0.4314188731431569"
      ]
     },
     "execution_count": 90,
     "metadata": {},
     "output_type": "execute_result"
    }
   ],
   "source": [
    "ba_inliers_10.skew()"
   ]
  },
  {
   "cell_type": "code",
   "execution_count": 91,
   "id": "57c66170",
   "metadata": {},
   "outputs": [
    {
     "data": {
      "image/png": "[encoded data removed]",
      "text/plain": [
       "<Figure size 432x288 with 1 Axes>"
      ]
     },
     "metadata": {
      "needs_background": "light"
     },
     "output_type": "display_data"
    }
   ],
   "source": [
    "ba_inliers_10.plot.hist(bins=100)\n",
    "plt.xlabel(\"Value\")\n",
    "plt.show()"
   ]
  },
  {
   "cell_type": "code",
   "execution_count": 92,
   "id": "cf6c2ee2",
   "metadata": {},
   "outputs": [
    {
     "data": {
      "text/plain": [
       "88.9347047907973"
      ]
     },
     "execution_count": 92,
     "metadata": {},
     "output_type": "execute_result"
    }
   ],
   "source": [
    "ba_inliers_10.mean()"
   ]
  },
  {
   "cell_type": "code",
   "execution_count": 93,
   "id": "f83e6f4a",
   "metadata": {},
   "outputs": [
    {
     "data": {
      "text/plain": [
       "248038.89166153315"
      ]
     },
     "execution_count": 93,
     "metadata": {},
     "output_type": "execute_result"
    }
   ],
   "source": [
    "ba_inliers_10.sum()"
   ]
  },
  {
   "cell_type": "code",
   "execution_count": 94,
   "id": "e9258258",
   "metadata": {},
   "outputs": [
    {
     "data": {
      "text/plain": [
       "248127.82636632395"
      ]
     },
     "execution_count": 94,
     "metadata": {},
     "output_type": "execute_result"
    }
   ],
   "source": [
    "ba_score = ba_inliers_10.mean() + ba_inliers_10.sum()\n",
    "ba_score"
   ]
  },
  {
   "cell_type": "markdown",
   "id": "39f84799",
   "metadata": {},
   "source": [
    "##### 6.5.3 Mutant Ape Yacht Club"
   ]
  },
  {
   "cell_type": "code",
   "execution_count": 95,
   "id": "25afaf4c",
   "metadata": {},
   "outputs": [
    {
     "data": {
      "text/html": [
       "<div>\n",
       "<style scoped>\n",
       "    .dataframe tbody tr th:only-of-type {\n",
       "        vertical-align: middle;\n",
       "    }\n",
       "\n",
       "    .dataframe tbody tr th {\n",
       "        vertical-align: top;\n",
       "    }\n",
       "\n",
       "    .dataframe thead th {\n",
       "        text-align: right;\n",
       "    }\n",
       "</style>\n",
       "<table border=\"1\" class=\"dataframe\">\n",
       "  <thead>\n",
       "    <tr style=\"text-align: right;\">\n",
       "      <th></th>\n",
       "      <th>amount</th>\n",
       "      <th>block_hash</th>\n",
       "      <th>block_number</th>\n",
       "      <th>block_timestamp</th>\n",
       "      <th>contract_type</th>\n",
       "      <th>from_address</th>\n",
       "      <th>log_index</th>\n",
       "      <th>operator</th>\n",
       "      <th>to_address</th>\n",
       "      <th>token_address</th>\n",
       "      <th>token_id</th>\n",
       "      <th>transaction_hash</th>\n",
       "      <th>transaction_index</th>\n",
       "      <th>transaction_type</th>\n",
       "      <th>value</th>\n",
       "      <th>verified</th>\n",
       "    </tr>\n",
       "  </thead>\n",
       "  <tbody>\n",
       "    <tr>\n",
       "      <th>249</th>\n",
       "      <td>1</td>\n",
       "      <td>0xab386e0cb9c974a856a08304cef7725b8022a01beb88...</td>\n",
       "      <td>14695004</td>\n",
       "      <td>2022-05-01T23:58:28.000Z</td>\n",
       "      <td>ERC721</td>\n",
       "      <td>0x068c0b630fddb7e5d1e3dc0d5a0fd3ee64e88e51</td>\n",
       "      <td>210</td>\n",
       "      <td>N/A</td>\n",
       "      <td>0x260c7afd82ec0dfd27a53b391d23d0f2b88a8677</td>\n",
       "      <td>0x60e4d786628fea6478f785a6d7e704777c86a7c6</td>\n",
       "      <td>295</td>\n",
       "      <td>0x87b290f02f8e8df26d084dcc4b2fd699ecba9d71adf8...</td>\n",
       "      <td>142</td>\n",
       "      <td>Single</td>\n",
       "      <td>25.98</td>\n",
       "      <td>1</td>\n",
       "    </tr>\n",
       "    <tr>\n",
       "      <th>2934</th>\n",
       "      <td>1</td>\n",
       "      <td>0x0c97185e9609b3c0d54e0e93b0d65826f630a067a945...</td>\n",
       "      <td>14694955</td>\n",
       "      <td>2022-05-01T23:45:40.000Z</td>\n",
       "      <td>ERC721</td>\n",
       "      <td>0x7f326925cb78f94e711d8dae10bb614f03291409</td>\n",
       "      <td>590</td>\n",
       "      <td>N/A</td>\n",
       "      <td>0x014f3a8bbcc20c17428a8ee9214f4923e30ba4ee</td>\n",
       "      <td>0x60e4d786628fea6478f785a6d7e704777c86a7c6</td>\n",
       "      <td>344</td>\n",
       "      <td>0x689d28d1fe7724160cd1544565fd50abe5a9ad13ace0...</td>\n",
       "      <td>201</td>\n",
       "      <td>Single</td>\n",
       "      <td>27.00</td>\n",
       "      <td>1</td>\n",
       "    </tr>\n",
       "    <tr>\n",
       "      <th>5676</th>\n",
       "      <td>1</td>\n",
       "      <td>0xf250f2d1c09067c02ebe7c1cbc5a9a3938ab6f99709b...</td>\n",
       "      <td>14694920</td>\n",
       "      <td>2022-05-01T23:37:05.000Z</td>\n",
       "      <td>ERC721</td>\n",
       "      <td>0x843f2c19bc6df9e32b482e2f9ad6c078001088b1</td>\n",
       "      <td>1</td>\n",
       "      <td>N/A</td>\n",
       "      <td>0x22cb8d9408623328fbc7189a657f118cd03eec9c</td>\n",
       "      <td>0x60e4d786628fea6478f785a6d7e704777c86a7c6</td>\n",
       "      <td>8222</td>\n",
       "      <td>0x622d05f4729ec68f6068fa29fd5cca876a45382838ce...</td>\n",
       "      <td>0</td>\n",
       "      <td>Single</td>\n",
       "      <td>26.70</td>\n",
       "      <td>1</td>\n",
       "    </tr>\n",
       "    <tr>\n",
       "      <th>5859</th>\n",
       "      <td>1</td>\n",
       "      <td>0x29d6efa3444c788687bdcb7287e3e363ec73d962dfa0...</td>\n",
       "      <td>14694916</td>\n",
       "      <td>2022-05-01T23:35:45.000Z</td>\n",
       "      <td>ERC721</td>\n",
       "      <td>0x98f591323a52635beea65ae57aad981dce27a59f</td>\n",
       "      <td>529</td>\n",
       "      <td>N/A</td>\n",
       "      <td>0x421789d625ce587ab9f545cc778502883f90442e</td>\n",
       "      <td>0x60e4d786628fea6478f785a6d7e704777c86a7c6</td>\n",
       "      <td>525</td>\n",
       "      <td>0xaed772dfcb32baa8e0efd0c84f4d2fb7850b8f748e28...</td>\n",
       "      <td>324</td>\n",
       "      <td>Single</td>\n",
       "      <td>29.99</td>\n",
       "      <td>1</td>\n",
       "    </tr>\n",
       "    <tr>\n",
       "      <th>7420</th>\n",
       "      <td>1</td>\n",
       "      <td>0xb8aaa57f94fdf465e3f639cdfaf12e0315bc1b262b79...</td>\n",
       "      <td>14694888</td>\n",
       "      <td>2022-05-01T23:31:17.000Z</td>\n",
       "      <td>ERC721</td>\n",
       "      <td>0xcaaaec015a35499cadc0229e7c73ec305643f444</td>\n",
       "      <td>36</td>\n",
       "      <td>N/A</td>\n",
       "      <td>0x8890cd645ce242a740415169a6959cd803e542f6</td>\n",
       "      <td>0x60e4d786628fea6478f785a6d7e704777c86a7c6</td>\n",
       "      <td>16815</td>\n",
       "      <td>0x6b3c75f9291d1bf4251f9f3fadf2666410dc076bded2...</td>\n",
       "      <td>27</td>\n",
       "      <td>Single</td>\n",
       "      <td>32.69</td>\n",
       "      <td>1</td>\n",
       "    </tr>\n",
       "    <tr>\n",
       "      <th>...</th>\n",
       "      <td>...</td>\n",
       "      <td>...</td>\n",
       "      <td>...</td>\n",
       "      <td>...</td>\n",
       "      <td>...</td>\n",
       "      <td>...</td>\n",
       "      <td>...</td>\n",
       "      <td>...</td>\n",
       "      <td>...</td>\n",
       "      <td>...</td>\n",
       "      <td>...</td>\n",
       "      <td>...</td>\n",
       "      <td>...</td>\n",
       "      <td>...</td>\n",
       "      <td>...</td>\n",
       "      <td>...</td>\n",
       "    </tr>\n",
       "    <tr>\n",
       "      <th>38521787</th>\n",
       "      <td>1</td>\n",
       "      <td>0xd5a269dbbe30bea347e4f78cf06903f652017270b2a2...</td>\n",
       "      <td>15267564</td>\n",
       "      <td>2022-08-03T05:17:38.000Z</td>\n",
       "      <td>ERC721</td>\n",
       "      <td>0xc5825a27a03ff2fba429f49d7e337c4d4dd39400</td>\n",
       "      <td>141</td>\n",
       "      <td>N/A</td>\n",
       "      <td>0x9f0716bf7e4a4e19867599a54f1108e0c11fec98</td>\n",
       "      <td>0x60e4d786628fea6478f785a6d7e704777c86a7c6</td>\n",
       "      <td>5791</td>\n",
       "      <td>0xa24f58ceb00e328a05903df62e2b31637623ee8a9bab...</td>\n",
       "      <td>42</td>\n",
       "      <td>Single</td>\n",
       "      <td>36.00</td>\n",
       "      <td>1</td>\n",
       "    </tr>\n",
       "    <tr>\n",
       "      <th>38557576</th>\n",
       "      <td>1</td>\n",
       "      <td>0xd4350bd652bb5731028291d077a0360ca8a7acc71f1e...</td>\n",
       "      <td>15266949</td>\n",
       "      <td>2022-08-03T02:57:31.000Z</td>\n",
       "      <td>ERC721</td>\n",
       "      <td>0xc23d3085a6c132eb7bec00a471a2ba10658d7edc</td>\n",
       "      <td>413</td>\n",
       "      <td>N/A</td>\n",
       "      <td>0xf9eef0aa05d74f2b099b057e6f807f9904456eba</td>\n",
       "      <td>0x60e4d786628fea6478f785a6d7e704777c86a7c6</td>\n",
       "      <td>13180</td>\n",
       "      <td>0xe0ee33cdde8430804276a1a4a3620523de71ad090038...</td>\n",
       "      <td>254</td>\n",
       "      <td>Single</td>\n",
       "      <td>15.80</td>\n",
       "      <td>1</td>\n",
       "    </tr>\n",
       "    <tr>\n",
       "      <th>38571260</th>\n",
       "      <td>1</td>\n",
       "      <td>0x8cec885f59f545644151e4a3304a749d053eec6e60ac...</td>\n",
       "      <td>15266744</td>\n",
       "      <td>2022-08-03T02:02:56.000Z</td>\n",
       "      <td>ERC721</td>\n",
       "      <td>0x276417be271dbeb696cb97cda7c6982fd89e6bd4</td>\n",
       "      <td>143</td>\n",
       "      <td>N/A</td>\n",
       "      <td>0xa71a7a02efe2171940373472a3b1cd6966e2d95c</td>\n",
       "      <td>0x60e4d786628fea6478f785a6d7e704777c86a7c6</td>\n",
       "      <td>4649</td>\n",
       "      <td>0xd2dc01089b4c7057a83fb5c29822fa34c2c8c64eb66d...</td>\n",
       "      <td>120</td>\n",
       "      <td>Single</td>\n",
       "      <td>16.05</td>\n",
       "      <td>1</td>\n",
       "    </tr>\n",
       "    <tr>\n",
       "      <th>38586837</th>\n",
       "      <td>1</td>\n",
       "      <td>0x83066dddb72badd1ec2f3d139331a84775db7dfe425f...</td>\n",
       "      <td>15266433</td>\n",
       "      <td>2022-08-03T00:52:34.000Z</td>\n",
       "      <td>ERC721</td>\n",
       "      <td>0xd760ef23c9a203bd3718e91fc08b412ed49c5846</td>\n",
       "      <td>330</td>\n",
       "      <td>N/A</td>\n",
       "      <td>0x1618406d203aefa14526f77d79fdbeac9d42137b</td>\n",
       "      <td>0x60e4d786628fea6478f785a6d7e704777c86a7c6</td>\n",
       "      <td>9489</td>\n",
       "      <td>0xb6c646976e9a6f81749ccaa1a32aa9dfc951d59f1e77...</td>\n",
       "      <td>205</td>\n",
       "      <td>Single</td>\n",
       "      <td>17.30</td>\n",
       "      <td>1</td>\n",
       "    </tr>\n",
       "    <tr>\n",
       "      <th>38589715</th>\n",
       "      <td>1</td>\n",
       "      <td>0x2380c1b0510a85d92d0653d9f628bad4d67044cadb7f...</td>\n",
       "      <td>15266380</td>\n",
       "      <td>2022-08-03T00:43:37.000Z</td>\n",
       "      <td>ERC721</td>\n",
       "      <td>0xa9ef8855a7901b2886110b69e6ddb438e490167f</td>\n",
       "      <td>192</td>\n",
       "      <td>N/A</td>\n",
       "      <td>0x1a256c53291a71624044c8dd84bf07ed9737d927</td>\n",
       "      <td>0x60e4d786628fea6478f785a6d7e704777c86a7c6</td>\n",
       "      <td>27220</td>\n",
       "      <td>0x07d86885d8e1fb902bc572ff27047653cd18394890f5...</td>\n",
       "      <td>109</td>\n",
       "      <td>Single</td>\n",
       "      <td>17.25</td>\n",
       "      <td>1</td>\n",
       "    </tr>\n",
       "  </tbody>\n",
       "</table>\n",
       "<p>6035 rows × 16 columns</p>\n",
       "</div>"
      ],
      "text/plain": [
       "         amount                                         block_hash  \\\n",
       "249           1  0xab386e0cb9c974a856a08304cef7725b8022a01beb88...   \n",
       "2934          1  0x0c97185e9609b3c0d54e0e93b0d65826f630a067a945...   \n",
       "5676          1  0xf250f2d1c09067c02ebe7c1cbc5a9a3938ab6f99709b...   \n",
       "5859          1  0x29d6efa3444c788687bdcb7287e3e363ec73d962dfa0...   \n",
       "7420          1  0xb8aaa57f94fdf465e3f639cdfaf12e0315bc1b262b79...   \n",
       "...         ...                                                ...   \n",
       "38521787      1  0xd5a269dbbe30bea347e4f78cf06903f652017270b2a2...   \n",
       "38557576      1  0xd4350bd652bb5731028291d077a0360ca8a7acc71f1e...   \n",
       "38571260      1  0x8cec885f59f545644151e4a3304a749d053eec6e60ac...   \n",
       "38586837      1  0x83066dddb72badd1ec2f3d139331a84775db7dfe425f...   \n",
       "38589715      1  0x2380c1b0510a85d92d0653d9f628bad4d67044cadb7f...   \n",
       "\n",
       "          block_number           block_timestamp contract_type  \\\n",
       "249           14695004  2022-05-01T23:58:28.000Z        ERC721   \n",
       "2934          14694955  2022-05-01T23:45:40.000Z        ERC721   \n",
       "5676          14694920  2022-05-01T23:37:05.000Z        ERC721   \n",
       "5859          14694916  2022-05-01T23:35:45.000Z        ERC721   \n",
       "7420          14694888  2022-05-01T23:31:17.000Z        ERC721   \n",
       "...                ...                       ...           ...   \n",
       "38521787      15267564  2022-08-03T05:17:38.000Z        ERC721   \n",
       "38557576      15266949  2022-08-03T02:57:31.000Z        ERC721   \n",
       "38571260      15266744  2022-08-03T02:02:56.000Z        ERC721   \n",
       "38586837      15266433  2022-08-03T00:52:34.000Z        ERC721   \n",
       "38589715      15266380  2022-08-03T00:43:37.000Z        ERC721   \n",
       "\n",
       "                                        from_address  log_index operator  \\\n",
       "249       0x068c0b630fddb7e5d1e3dc0d5a0fd3ee64e88e51        210      N/A   \n",
       "2934      0x7f326925cb78f94e711d8dae10bb614f03291409        590      N/A   \n",
       "5676      0x843f2c19bc6df9e32b482e2f9ad6c078001088b1          1      N/A   \n",
       "5859      0x98f591323a52635beea65ae57aad981dce27a59f        529      N/A   \n",
       "7420      0xcaaaec015a35499cadc0229e7c73ec305643f444         36      N/A   \n",
       "...                                              ...        ...      ...   \n",
       "38521787  0xc5825a27a03ff2fba429f49d7e337c4d4dd39400        141      N/A   \n",
       "38557576  0xc23d3085a6c132eb7bec00a471a2ba10658d7edc        413      N/A   \n",
       "38571260  0x276417be271dbeb696cb97cda7c6982fd89e6bd4        143      N/A   \n",
       "38586837  0xd760ef23c9a203bd3718e91fc08b412ed49c5846        330      N/A   \n",
       "38589715  0xa9ef8855a7901b2886110b69e6ddb438e490167f        192      N/A   \n",
       "\n",
       "                                          to_address  \\\n",
       "249       0x260c7afd82ec0dfd27a53b391d23d0f2b88a8677   \n",
       "2934      0x014f3a8bbcc20c17428a8ee9214f4923e30ba4ee   \n",
       "5676      0x22cb8d9408623328fbc7189a657f118cd03eec9c   \n",
       "5859      0x421789d625ce587ab9f545cc778502883f90442e   \n",
       "7420      0x8890cd645ce242a740415169a6959cd803e542f6   \n",
       "...                                              ...   \n",
       "38521787  0x9f0716bf7e4a4e19867599a54f1108e0c11fec98   \n",
       "38557576  0xf9eef0aa05d74f2b099b057e6f807f9904456eba   \n",
       "38571260  0xa71a7a02efe2171940373472a3b1cd6966e2d95c   \n",
       "38586837  0x1618406d203aefa14526f77d79fdbeac9d42137b   \n",
       "38589715  0x1a256c53291a71624044c8dd84bf07ed9737d927   \n",
       "\n",
       "                                       token_address token_id  \\\n",
       "249       0x60e4d786628fea6478f785a6d7e704777c86a7c6      295   \n",
       "2934      0x60e4d786628fea6478f785a6d7e704777c86a7c6      344   \n",
       "5676      0x60e4d786628fea6478f785a6d7e704777c86a7c6     8222   \n",
       "5859      0x60e4d786628fea6478f785a6d7e704777c86a7c6      525   \n",
       "7420      0x60e4d786628fea6478f785a6d7e704777c86a7c6    16815   \n",
       "...                                              ...      ...   \n",
       "38521787  0x60e4d786628fea6478f785a6d7e704777c86a7c6     5791   \n",
       "38557576  0x60e4d786628fea6478f785a6d7e704777c86a7c6    13180   \n",
       "38571260  0x60e4d786628fea6478f785a6d7e704777c86a7c6     4649   \n",
       "38586837  0x60e4d786628fea6478f785a6d7e704777c86a7c6     9489   \n",
       "38589715  0x60e4d786628fea6478f785a6d7e704777c86a7c6    27220   \n",
       "\n",
       "                                           transaction_hash  \\\n",
       "249       0x87b290f02f8e8df26d084dcc4b2fd699ecba9d71adf8...   \n",
       "2934      0x689d28d1fe7724160cd1544565fd50abe5a9ad13ace0...   \n",
       "5676      0x622d05f4729ec68f6068fa29fd5cca876a45382838ce...   \n",
       "5859      0xaed772dfcb32baa8e0efd0c84f4d2fb7850b8f748e28...   \n",
       "7420      0x6b3c75f9291d1bf4251f9f3fadf2666410dc076bded2...   \n",
       "...                                                     ...   \n",
       "38521787  0xa24f58ceb00e328a05903df62e2b31637623ee8a9bab...   \n",
       "38557576  0xe0ee33cdde8430804276a1a4a3620523de71ad090038...   \n",
       "38571260  0xd2dc01089b4c7057a83fb5c29822fa34c2c8c64eb66d...   \n",
       "38586837  0xb6c646976e9a6f81749ccaa1a32aa9dfc951d59f1e77...   \n",
       "38589715  0x07d86885d8e1fb902bc572ff27047653cd18394890f5...   \n",
       "\n",
       "          transaction_index transaction_type  value  verified  \n",
       "249                     142           Single  25.98         1  \n",
       "2934                    201           Single  27.00         1  \n",
       "5676                      0           Single  26.70         1  \n",
       "5859                    324           Single  29.99         1  \n",
       "7420                     27           Single  32.69         1  \n",
       "...                     ...              ...    ...       ...  \n",
       "38521787                 42           Single  36.00         1  \n",
       "38557576                254           Single  15.80         1  \n",
       "38571260                120           Single  16.05         1  \n",
       "38586837                205           Single  17.30         1  \n",
       "38589715                109           Single  17.25         1  \n",
       "\n",
       "[6035 rows x 16 columns]"
      ]
     },
     "execution_count": 95,
     "metadata": {},
     "output_type": "execute_result"
    }
   ],
   "source": [
    "mutant_ape = transfers[transfers['token_address'] == \"0x60E4d786628Fea6478F785A6d7e704777c86a7c6\".lower()]\n",
    "mutant_ape"
   ]
  },
  {
   "cell_type": "code",
   "execution_count": 96,
   "id": "4c4bd77f",
   "metadata": {},
   "outputs": [
    {
     "data": {
      "text/plain": [
       "count    6035.000000\n",
       "mean       21.058258\n",
       "std        25.370720\n",
       "min         0.001000\n",
       "25%         9.877275\n",
       "50%        18.880000\n",
       "75%        24.700000\n",
       "max       286.809000\n",
       "Name: value, dtype: float64"
      ]
     },
     "execution_count": 96,
     "metadata": {},
     "output_type": "execute_result"
    }
   ],
   "source": [
    "mutant_ape.value.describe()"
   ]
  },
  {
   "cell_type": "code",
   "execution_count": 97,
   "id": "6dc5bc39",
   "metadata": {},
   "outputs": [],
   "source": [
    "ma_inliers = pd.Series(get_inliers(mutant_ape.value))"
   ]
  },
  {
   "cell_type": "code",
   "execution_count": 98,
   "id": "9c6bb21c",
   "metadata": {},
   "outputs": [
    {
     "data": {
      "text/plain": [
       "0.057397779143904565"
      ]
     },
     "execution_count": 98,
     "metadata": {},
     "output_type": "execute_result"
    }
   ],
   "source": [
    "ma_inliers.skew()"
   ]
  },
  {
   "cell_type": "code",
   "execution_count": 99,
   "id": "59d0fe99",
   "metadata": {},
   "outputs": [],
   "source": [
    "ma_inliers_10 = ma_inliers[ma_inliers > 10]"
   ]
  },
  {
   "cell_type": "code",
   "execution_count": 100,
   "id": "db56df6f",
   "metadata": {},
   "outputs": [
    {
     "data": {
      "text/plain": [
       "1.159746290911114"
      ]
     },
     "execution_count": 100,
     "metadata": {},
     "output_type": "execute_result"
    }
   ],
   "source": [
    "ma_inliers_10.skew()"
   ]
  },
  {
   "cell_type": "code",
   "execution_count": 101,
   "id": "4828eacd",
   "metadata": {},
   "outputs": [
    {
     "data": {
      "image/png": "[encoded data removed]",
      "text/plain": [
       "<Figure size 432x288 with 1 Axes>"
      ]
     },
     "metadata": {
      "needs_background": "light"
     },
     "output_type": "display_data"
    }
   ],
   "source": [
    "ma_inliers_10.plot.hist(bins=100)\n",
    "plt.xlabel(\"Value\")\n",
    "plt.show()"
   ]
  },
  {
   "cell_type": "code",
   "execution_count": 102,
   "id": "9fc98bab",
   "metadata": {},
   "outputs": [
    {
     "data": {
      "text/plain": [
       "22.00858394612484"
      ]
     },
     "execution_count": 102,
     "metadata": {},
     "output_type": "execute_result"
    }
   ],
   "source": [
    "ma_inliers_10.mean()"
   ]
  },
  {
   "cell_type": "code",
   "execution_count": 103,
   "id": "6862ee56",
   "metadata": {},
   "outputs": [
    {
     "data": {
      "text/plain": [
       "94086.69636968354"
      ]
     },
     "execution_count": 103,
     "metadata": {},
     "output_type": "execute_result"
    }
   ],
   "source": [
    "ma_inliers_10.sum()"
   ]
  },
  {
   "cell_type": "code",
   "execution_count": 104,
   "id": "6e24b6e0",
   "metadata": {},
   "outputs": [],
   "source": [
    "ma_score = ma_inliers_10.mean() + ma_inliers_10.sum()"
   ]
  },
  {
   "cell_type": "code",
   "execution_count": 105,
   "id": "a107c3c2",
   "metadata": {},
   "outputs": [
    {
     "data": {
      "text/plain": [
       "94108.70495362967"
      ]
     },
     "execution_count": 105,
     "metadata": {},
     "output_type": "execute_result"
    }
   ],
   "source": [
    "ma_score"
   ]
  },
  {
   "cell_type": "markdown",
   "id": "f8f884c6",
   "metadata": {},
   "source": [
    "##### 6.5.4 Moonbirds"
   ]
  },
  {
   "cell_type": "code",
   "execution_count": 106,
   "id": "f48b37b2",
   "metadata": {},
   "outputs": [
    {
     "data": {
      "text/html": [
       "<div>\n",
       "<style scoped>\n",
       "    .dataframe tbody tr th:only-of-type {\n",
       "        vertical-align: middle;\n",
       "    }\n",
       "\n",
       "    .dataframe tbody tr th {\n",
       "        vertical-align: top;\n",
       "    }\n",
       "\n",
       "    .dataframe thead th {\n",
       "        text-align: right;\n",
       "    }\n",
       "</style>\n",
       "<table border=\"1\" class=\"dataframe\">\n",
       "  <thead>\n",
       "    <tr style=\"text-align: right;\">\n",
       "      <th></th>\n",
       "      <th>amount</th>\n",
       "      <th>block_hash</th>\n",
       "      <th>block_number</th>\n",
       "      <th>block_timestamp</th>\n",
       "      <th>contract_type</th>\n",
       "      <th>from_address</th>\n",
       "      <th>log_index</th>\n",
       "      <th>operator</th>\n",
       "      <th>to_address</th>\n",
       "      <th>token_address</th>\n",
       "      <th>token_id</th>\n",
       "      <th>transaction_hash</th>\n",
       "      <th>transaction_index</th>\n",
       "      <th>transaction_type</th>\n",
       "      <th>value</th>\n",
       "      <th>verified</th>\n",
       "    </tr>\n",
       "  </thead>\n",
       "  <tbody>\n",
       "    <tr>\n",
       "      <th>330</th>\n",
       "      <td>1</td>\n",
       "      <td>0xc3932255fefad0ce92b904e2ec06f2704d9ce5ae1da2...</td>\n",
       "      <td>14695001</td>\n",
       "      <td>2022-05-01T23:58:09.000Z</td>\n",
       "      <td>ERC721</td>\n",
       "      <td>0xe43f60c0ef3fb1bd2b79759224e4307b5bf53607</td>\n",
       "      <td>38</td>\n",
       "      <td>N/A</td>\n",
       "      <td>0x4fee2d2e9ca2899f392ca656eccc3800e2c36bed</td>\n",
       "      <td>0x23581767a106ae21c074b2276d25e5c3e136a68b</td>\n",
       "      <td>805</td>\n",
       "      <td>0x4849d3364ee0c0c263f50bdb5048711cbfd9cfd28027...</td>\n",
       "      <td>31</td>\n",
       "      <td>Single</td>\n",
       "      <td>11.683319</td>\n",
       "      <td>1</td>\n",
       "    </tr>\n",
       "    <tr>\n",
       "      <th>2297</th>\n",
       "      <td>1</td>\n",
       "      <td>0x7b04d9864d7fc3b8a273c3ca2e4176a8509809b3bbf4...</td>\n",
       "      <td>14694966</td>\n",
       "      <td>2022-05-01T23:49:42.000Z</td>\n",
       "      <td>ERC721</td>\n",
       "      <td>0xcd6f234b7b0c6d42543cc56574cf256d92d9ec74</td>\n",
       "      <td>102</td>\n",
       "      <td>N/A</td>\n",
       "      <td>0xe87cc2ea916a7d471976b675d5f72302908e4590</td>\n",
       "      <td>0x23581767a106ae21c074b2276d25e5c3e136a68b</td>\n",
       "      <td>2239</td>\n",
       "      <td>0x1f32cc699373b05606854137dbcc4c0649ceefe77651...</td>\n",
       "      <td>81</td>\n",
       "      <td>Single</td>\n",
       "      <td>33.000000</td>\n",
       "      <td>1</td>\n",
       "    </tr>\n",
       "    <tr>\n",
       "      <th>6444</th>\n",
       "      <td>1</td>\n",
       "      <td>0x06abeebd8b65a01c4961476f96709e0ee47a5452f150...</td>\n",
       "      <td>14694909</td>\n",
       "      <td>2022-05-01T23:34:17.000Z</td>\n",
       "      <td>ERC721</td>\n",
       "      <td>0x483c069180324a165ee53c6fe327125d559e9478</td>\n",
       "      <td>54</td>\n",
       "      <td>N/A</td>\n",
       "      <td>0x5166d101c87b5914957515a78aa6015736b1b8f3</td>\n",
       "      <td>0x23581767a106ae21c074b2276d25e5c3e136a68b</td>\n",
       "      <td>2511</td>\n",
       "      <td>0x19cdf7226fbacec6ad5593978b5dfd20648d945949b7...</td>\n",
       "      <td>38</td>\n",
       "      <td>Single</td>\n",
       "      <td>31.000000</td>\n",
       "      <td>1</td>\n",
       "    </tr>\n",
       "    <tr>\n",
       "      <th>9365</th>\n",
       "      <td>1</td>\n",
       "      <td>0x26c78b6ba291b55ec3a2d619c99981b4eb5ad0832eef...</td>\n",
       "      <td>14694842</td>\n",
       "      <td>2022-05-01T23:21:57.000Z</td>\n",
       "      <td>ERC721</td>\n",
       "      <td>0xdbe8b36f62d26f09198b526129fcecaa51f9a455</td>\n",
       "      <td>204</td>\n",
       "      <td>N/A</td>\n",
       "      <td>0xe710592ac31387fcfc84666f8c108d7f38f29c2e</td>\n",
       "      <td>0x23581767a106ae21c074b2276d25e5c3e136a68b</td>\n",
       "      <td>4750</td>\n",
       "      <td>0x79a1cc7efd03a4a0bf3100939035cb5e8c4f4e5b7779...</td>\n",
       "      <td>121</td>\n",
       "      <td>Single</td>\n",
       "      <td>29.450000</td>\n",
       "      <td>1</td>\n",
       "    </tr>\n",
       "    <tr>\n",
       "      <th>9754</th>\n",
       "      <td>1</td>\n",
       "      <td>0x24e8c10cee065f4c6a1382a8ac4c9f34ad73f874bc70...</td>\n",
       "      <td>14694831</td>\n",
       "      <td>2022-05-01T23:19:42.000Z</td>\n",
       "      <td>ERC721</td>\n",
       "      <td>0x906ee0c8b6057953a7eaf935247a21f57fb4fafb</td>\n",
       "      <td>382</td>\n",
       "      <td>N/A</td>\n",
       "      <td>0xf49a2301d12d7dbbacff216a2bfb3c603dfc12e2</td>\n",
       "      <td>0x23581767a106ae21c074b2276d25e5c3e136a68b</td>\n",
       "      <td>691</td>\n",
       "      <td>0xfbe5e7292c9b7fa8bff5059721c65be13fe38d9fd3bb...</td>\n",
       "      <td>256</td>\n",
       "      <td>Single</td>\n",
       "      <td>29.000000</td>\n",
       "      <td>1</td>\n",
       "    </tr>\n",
       "    <tr>\n",
       "      <th>...</th>\n",
       "      <td>...</td>\n",
       "      <td>...</td>\n",
       "      <td>...</td>\n",
       "      <td>...</td>\n",
       "      <td>...</td>\n",
       "      <td>...</td>\n",
       "      <td>...</td>\n",
       "      <td>...</td>\n",
       "      <td>...</td>\n",
       "      <td>...</td>\n",
       "      <td>...</td>\n",
       "      <td>...</td>\n",
       "      <td>...</td>\n",
       "      <td>...</td>\n",
       "      <td>...</td>\n",
       "      <td>...</td>\n",
       "    </tr>\n",
       "    <tr>\n",
       "      <th>38458919</th>\n",
       "      <td>1</td>\n",
       "      <td>0x5739201d3e34a4cf146f0b0a01b7f880972feafe234c...</td>\n",
       "      <td>15268639</td>\n",
       "      <td>2022-08-03T09:12:38.000Z</td>\n",
       "      <td>ERC721</td>\n",
       "      <td>0x162bc440bd8474bc5e7da451a7dc0052f93b0c8b</td>\n",
       "      <td>55</td>\n",
       "      <td>N/A</td>\n",
       "      <td>0x7228a52ca531c87b371f91c71d6608a975b06e27</td>\n",
       "      <td>0x23581767a106ae21c074b2276d25e5c3e136a68b</td>\n",
       "      <td>1790</td>\n",
       "      <td>0x57585d9748d58c6e770f3009d3cbfad48553358dc6ab...</td>\n",
       "      <td>21</td>\n",
       "      <td>Single</td>\n",
       "      <td>37.950000</td>\n",
       "      <td>1</td>\n",
       "    </tr>\n",
       "    <tr>\n",
       "      <th>38458920</th>\n",
       "      <td>1</td>\n",
       "      <td>0x5739201d3e34a4cf146f0b0a01b7f880972feafe234c...</td>\n",
       "      <td>15268639</td>\n",
       "      <td>2022-08-03T09:12:38.000Z</td>\n",
       "      <td>ERC721</td>\n",
       "      <td>0x25c1541071258523322657289a4c2923c21185d2</td>\n",
       "      <td>53</td>\n",
       "      <td>N/A</td>\n",
       "      <td>0x7228a52ca531c87b371f91c71d6608a975b06e27</td>\n",
       "      <td>0x23581767a106ae21c074b2276d25e5c3e136a68b</td>\n",
       "      <td>3618</td>\n",
       "      <td>0x57585d9748d58c6e770f3009d3cbfad48553358dc6ab...</td>\n",
       "      <td>21</td>\n",
       "      <td>Single</td>\n",
       "      <td>37.950000</td>\n",
       "      <td>1</td>\n",
       "    </tr>\n",
       "    <tr>\n",
       "      <th>38473257</th>\n",
       "      <td>1</td>\n",
       "      <td>0xc8f5000791cb55a230a9101e7a21af3b7a5aa68446cf...</td>\n",
       "      <td>15268427</td>\n",
       "      <td>2022-08-03T08:18:59.000Z</td>\n",
       "      <td>ERC721</td>\n",
       "      <td>0x8c9926e50bb066b3feedc5f0ced73f7202fb035c</td>\n",
       "      <td>2</td>\n",
       "      <td>N/A</td>\n",
       "      <td>0x14395a809064c9beca62e94fb1a0bec538a6ec48</td>\n",
       "      <td>0x23581767a106ae21c074b2276d25e5c3e136a68b</td>\n",
       "      <td>3420</td>\n",
       "      <td>0x33b3749b5fcd73cd43800364cc9df74888d785e00673...</td>\n",
       "      <td>0</td>\n",
       "      <td>Single</td>\n",
       "      <td>16.000000</td>\n",
       "      <td>1</td>\n",
       "    </tr>\n",
       "    <tr>\n",
       "      <th>38515972</th>\n",
       "      <td>1</td>\n",
       "      <td>0xc95234f5d297fe5498586c936f83c209316c8b315985...</td>\n",
       "      <td>15267645</td>\n",
       "      <td>2022-08-03T05:35:33.000Z</td>\n",
       "      <td>ERC721</td>\n",
       "      <td>0x0ad56b522dee0dd29e9343f1c4615fcf009273e2</td>\n",
       "      <td>107</td>\n",
       "      <td>N/A</td>\n",
       "      <td>0x95ae8165ffedcef346b0b4375f9f12a581a19fd4</td>\n",
       "      <td>0x23581767a106ae21c074b2276d25e5c3e136a68b</td>\n",
       "      <td>6723</td>\n",
       "      <td>0xa890cc46f659d412cb646cae0400350307d19d68096b...</td>\n",
       "      <td>143</td>\n",
       "      <td>Single</td>\n",
       "      <td>18.930000</td>\n",
       "      <td>1</td>\n",
       "    </tr>\n",
       "    <tr>\n",
       "      <th>38567533</th>\n",
       "      <td>1</td>\n",
       "      <td>0x8ee45d4090f78ee33273ed0a506a2a813e4da027e7d7...</td>\n",
       "      <td>15266817</td>\n",
       "      <td>2022-08-03T02:20:30.000Z</td>\n",
       "      <td>ERC721</td>\n",
       "      <td>0x8723aa2e394ce7aba3fc06948714b53c423feabc</td>\n",
       "      <td>305</td>\n",
       "      <td>N/A</td>\n",
       "      <td>0x8b297bef5d7a715443f913150963fe0ca7d97d44</td>\n",
       "      <td>0x23581767a106ae21c074b2276d25e5c3e136a68b</td>\n",
       "      <td>482</td>\n",
       "      <td>0x9c3722a8f1a2a17b454388f71603b96cb51463aa994c...</td>\n",
       "      <td>177</td>\n",
       "      <td>Single</td>\n",
       "      <td>23.970000</td>\n",
       "      <td>1</td>\n",
       "    </tr>\n",
       "  </tbody>\n",
       "</table>\n",
       "<p>1951 rows × 16 columns</p>\n",
       "</div>"
      ],
      "text/plain": [
       "         amount                                         block_hash  \\\n",
       "330           1  0xc3932255fefad0ce92b904e2ec06f2704d9ce5ae1da2...   \n",
       "2297          1  0x7b04d9864d7fc3b8a273c3ca2e4176a8509809b3bbf4...   \n",
       "6444          1  0x06abeebd8b65a01c4961476f96709e0ee47a5452f150...   \n",
       "9365          1  0x26c78b6ba291b55ec3a2d619c99981b4eb5ad0832eef...   \n",
       "9754          1  0x24e8c10cee065f4c6a1382a8ac4c9f34ad73f874bc70...   \n",
       "...         ...                                                ...   \n",
       "38458919      1  0x5739201d3e34a4cf146f0b0a01b7f880972feafe234c...   \n",
       "38458920      1  0x5739201d3e34a4cf146f0b0a01b7f880972feafe234c...   \n",
       "38473257      1  0xc8f5000791cb55a230a9101e7a21af3b7a5aa68446cf...   \n",
       "38515972      1  0xc95234f5d297fe5498586c936f83c209316c8b315985...   \n",
       "38567533      1  0x8ee45d4090f78ee33273ed0a506a2a813e4da027e7d7...   \n",
       "\n",
       "          block_number           block_timestamp contract_type  \\\n",
       "330           14695001  2022-05-01T23:58:09.000Z        ERC721   \n",
       "2297          14694966  2022-05-01T23:49:42.000Z        ERC721   \n",
       "6444          14694909  2022-05-01T23:34:17.000Z        ERC721   \n",
       "9365          14694842  2022-05-01T23:21:57.000Z        ERC721   \n",
       "9754          14694831  2022-05-01T23:19:42.000Z        ERC721   \n",
       "...                ...                       ...           ...   \n",
       "38458919      15268639  2022-08-03T09:12:38.000Z        ERC721   \n",
       "38458920      15268639  2022-08-03T09:12:38.000Z        ERC721   \n",
       "38473257      15268427  2022-08-03T08:18:59.000Z        ERC721   \n",
       "38515972      15267645  2022-08-03T05:35:33.000Z        ERC721   \n",
       "38567533      15266817  2022-08-03T02:20:30.000Z        ERC721   \n",
       "\n",
       "                                        from_address  log_index operator  \\\n",
       "330       0xe43f60c0ef3fb1bd2b79759224e4307b5bf53607         38      N/A   \n",
       "2297      0xcd6f234b7b0c6d42543cc56574cf256d92d9ec74        102      N/A   \n",
       "6444      0x483c069180324a165ee53c6fe327125d559e9478         54      N/A   \n",
       "9365      0xdbe8b36f62d26f09198b526129fcecaa51f9a455        204      N/A   \n",
       "9754      0x906ee0c8b6057953a7eaf935247a21f57fb4fafb        382      N/A   \n",
       "...                                              ...        ...      ...   \n",
       "38458919  0x162bc440bd8474bc5e7da451a7dc0052f93b0c8b         55      N/A   \n",
       "38458920  0x25c1541071258523322657289a4c2923c21185d2         53      N/A   \n",
       "38473257  0x8c9926e50bb066b3feedc5f0ced73f7202fb035c          2      N/A   \n",
       "38515972  0x0ad56b522dee0dd29e9343f1c4615fcf009273e2        107      N/A   \n",
       "38567533  0x8723aa2e394ce7aba3fc06948714b53c423feabc        305      N/A   \n",
       "\n",
       "                                          to_address  \\\n",
       "330       0x4fee2d2e9ca2899f392ca656eccc3800e2c36bed   \n",
       "2297      0xe87cc2ea916a7d471976b675d5f72302908e4590   \n",
       "6444      0x5166d101c87b5914957515a78aa6015736b1b8f3   \n",
       "9365      0xe710592ac31387fcfc84666f8c108d7f38f29c2e   \n",
       "9754      0xf49a2301d12d7dbbacff216a2bfb3c603dfc12e2   \n",
       "...                                              ...   \n",
       "38458919  0x7228a52ca531c87b371f91c71d6608a975b06e27   \n",
       "38458920  0x7228a52ca531c87b371f91c71d6608a975b06e27   \n",
       "38473257  0x14395a809064c9beca62e94fb1a0bec538a6ec48   \n",
       "38515972  0x95ae8165ffedcef346b0b4375f9f12a581a19fd4   \n",
       "38567533  0x8b297bef5d7a715443f913150963fe0ca7d97d44   \n",
       "\n",
       "                                       token_address token_id  \\\n",
       "330       0x23581767a106ae21c074b2276d25e5c3e136a68b      805   \n",
       "2297      0x23581767a106ae21c074b2276d25e5c3e136a68b     2239   \n",
       "6444      0x23581767a106ae21c074b2276d25e5c3e136a68b     2511   \n",
       "9365      0x23581767a106ae21c074b2276d25e5c3e136a68b     4750   \n",
       "9754      0x23581767a106ae21c074b2276d25e5c3e136a68b      691   \n",
       "...                                              ...      ...   \n",
       "38458919  0x23581767a106ae21c074b2276d25e5c3e136a68b     1790   \n",
       "38458920  0x23581767a106ae21c074b2276d25e5c3e136a68b     3618   \n",
       "38473257  0x23581767a106ae21c074b2276d25e5c3e136a68b     3420   \n",
       "38515972  0x23581767a106ae21c074b2276d25e5c3e136a68b     6723   \n",
       "38567533  0x23581767a106ae21c074b2276d25e5c3e136a68b      482   \n",
       "\n",
       "                                           transaction_hash  \\\n",
       "330       0x4849d3364ee0c0c263f50bdb5048711cbfd9cfd28027...   \n",
       "2297      0x1f32cc699373b05606854137dbcc4c0649ceefe77651...   \n",
       "6444      0x19cdf7226fbacec6ad5593978b5dfd20648d945949b7...   \n",
       "9365      0x79a1cc7efd03a4a0bf3100939035cb5e8c4f4e5b7779...   \n",
       "9754      0xfbe5e7292c9b7fa8bff5059721c65be13fe38d9fd3bb...   \n",
       "...                                                     ...   \n",
       "38458919  0x57585d9748d58c6e770f3009d3cbfad48553358dc6ab...   \n",
       "38458920  0x57585d9748d58c6e770f3009d3cbfad48553358dc6ab...   \n",
       "38473257  0x33b3749b5fcd73cd43800364cc9df74888d785e00673...   \n",
       "38515972  0xa890cc46f659d412cb646cae0400350307d19d68096b...   \n",
       "38567533  0x9c3722a8f1a2a17b454388f71603b96cb51463aa994c...   \n",
       "\n",
       "          transaction_index transaction_type      value  verified  \n",
       "330                      31           Single  11.683319         1  \n",
       "2297                     81           Single  33.000000         1  \n",
       "6444                     38           Single  31.000000         1  \n",
       "9365                    121           Single  29.450000         1  \n",
       "9754                    256           Single  29.000000         1  \n",
       "...                     ...              ...        ...       ...  \n",
       "38458919                 21           Single  37.950000         1  \n",
       "38458920                 21           Single  37.950000         1  \n",
       "38473257                  0           Single  16.000000         1  \n",
       "38515972                143           Single  18.930000         1  \n",
       "38567533                177           Single  23.970000         1  \n",
       "\n",
       "[1951 rows x 16 columns]"
      ]
     },
     "execution_count": 106,
     "metadata": {},
     "output_type": "execute_result"
    }
   ],
   "source": [
    "moonbirds = transfers[transfers.token_address == \"0x23581767a106ae21c074b2276D25e5C3e136a68b\".lower()] \n",
    "moonbirds"
   ]
  },
  {
   "cell_type": "code",
   "execution_count": 107,
   "id": "a5aada31",
   "metadata": {},
   "outputs": [
    {
     "data": {
      "text/plain": [
       "count    1951.000000\n",
       "mean       41.800315\n",
       "std       114.922322\n",
       "min         0.005000\n",
       "25%        18.500000\n",
       "50%        22.300289\n",
       "75%        27.760000\n",
       "max       749.309000\n",
       "Name: value, dtype: float64"
      ]
     },
     "execution_count": 107,
     "metadata": {},
     "output_type": "execute_result"
    }
   ],
   "source": [
    "moonbirds.value.describe()"
   ]
  },
  {
   "cell_type": "code",
   "execution_count": 108,
   "id": "d60ca18a",
   "metadata": {},
   "outputs": [],
   "source": [
    "ma_inliers = pd.Series(get_inliers(moonbirds.value))"
   ]
  },
  {
   "cell_type": "code",
   "execution_count": 109,
   "id": "50874247",
   "metadata": {},
   "outputs": [
    {
     "data": {
      "text/plain": [
       "0.37445220162202975"
      ]
     },
     "execution_count": 109,
     "metadata": {},
     "output_type": "execute_result"
    }
   ],
   "source": [
    "ma_inliers.skew()"
   ]
  },
  {
   "cell_type": "code",
   "execution_count": 110,
   "id": "8f7297f0",
   "metadata": {},
   "outputs": [],
   "source": [
    "ma_inliers_10 = ma_inliers[ma_inliers > 10]"
   ]
  },
  {
   "cell_type": "code",
   "execution_count": 111,
   "id": "1c754c42",
   "metadata": {},
   "outputs": [
    {
     "data": {
      "text/plain": [
       "0.5988810328230555"
      ]
     },
     "execution_count": 111,
     "metadata": {},
     "output_type": "execute_result"
    }
   ],
   "source": [
    "ma_inliers_10.skew()"
   ]
  },
  {
   "cell_type": "code",
   "execution_count": 112,
   "id": "b7f84e76",
   "metadata": {},
   "outputs": [
    {
     "data": {
      "image/png": "[encoded data removed]",
      "text/plain": [
       "<Figure size 432x288 with 1 Axes>"
      ]
     },
     "metadata": {
      "needs_background": "light"
     },
     "output_type": "display_data"
    }
   ],
   "source": [
    "ma_inliers_10.plot.hist(bins=100)\n",
    "plt.xlabel(\"Value\")\n",
    "plt.show()"
   ]
  },
  {
   "cell_type": "code",
   "execution_count": 113,
   "id": "8170528a",
   "metadata": {},
   "outputs": [
    {
     "data": {
      "text/plain": [
       "37420.44394223944"
      ]
     },
     "execution_count": 113,
     "metadata": {},
     "output_type": "execute_result"
    }
   ],
   "source": [
    "ma_inliers_10.sum()"
   ]
  },
  {
   "cell_type": "code",
   "execution_count": 114,
   "id": "4e4cdc28",
   "metadata": {},
   "outputs": [
    {
     "data": {
      "text/plain": [
       "23.638941214301667"
      ]
     },
     "execution_count": 114,
     "metadata": {},
     "output_type": "execute_result"
    }
   ],
   "source": [
    "ma_inliers_10.mean()"
   ]
  },
  {
   "cell_type": "code",
   "execution_count": 115,
   "id": "d0b2e34f",
   "metadata": {},
   "outputs": [],
   "source": [
    "ma_score = ma_inliers_10.sum() + ma_inliers_10.mean()"
   ]
  },
  {
   "cell_type": "code",
   "execution_count": 116,
   "id": "9cf54e83",
   "metadata": {},
   "outputs": [
    {
     "data": {
      "text/plain": [
       "37444.082883453746"
      ]
     },
     "execution_count": 116,
     "metadata": {},
     "output_type": "execute_result"
    }
   ],
   "source": [
    "ma_score"
   ]
  },
  {
   "cell_type": "markdown",
   "id": "0f918220",
   "metadata": {},
   "source": [
    "### 6.6 Test Assumptions for Collection Ranking\n",
    "- The best ranking that we can do based on current situation.\n",
    "- The intuition is to get rid of ouliers as much as possible and try to rank with the portion of the data that we know is better.\n",
    "- As we have seen from our anaysis, the sum of collection values gives decent ranking."
   ]
  },
  {
   "cell_type": "markdown",
   "id": "1e022637",
   "metadata": {},
   "source": [
    "#### 1. Filter for tx count > 1000"
   ]
  },
  {
   "cell_type": "code",
   "execution_count": 117,
   "id": "e10bcbcd",
   "metadata": {},
   "outputs": [],
   "source": [
    "tx_count = transfers.token_address.value_counts()"
   ]
  },
  {
   "cell_type": "code",
   "execution_count": 118,
   "id": "635007f6",
   "metadata": {},
   "outputs": [
    {
     "data": {
      "text/plain": [
       "1884"
      ]
     },
     "execution_count": 118,
     "metadata": {},
     "output_type": "execute_result"
    }
   ],
   "source": [
    "len(tx_count[tx_count > 1000].index)"
   ]
  },
  {
   "cell_type": "code",
   "execution_count": 119,
   "id": "be0c442c",
   "metadata": {},
   "outputs": [],
   "source": [
    "good = transfers[transfers.token_address.isin(tx_count[tx_count > 1000].index)]"
   ]
  },
  {
   "cell_type": "markdown",
   "id": "c8d6fee1",
   "metadata": {},
   "source": [
    "#### 2. Filter out ERC1155 and ERC165"
   ]
  },
  {
   "cell_type": "code",
   "execution_count": 120,
   "id": "c6ad52f0",
   "metadata": {},
   "outputs": [],
   "source": [
    "good = good[(good.contract_type != \"ERC1155\") & (good.contract_type != \"ERC165\")]"
   ]
  },
  {
   "cell_type": "markdown",
   "id": "c75d9cd1",
   "metadata": {},
   "source": [
    "#### 3. Filter out value < 10 and outliers"
   ]
  },
  {
   "cell_type": "code",
   "execution_count": 121,
   "id": "fe58cc3f",
   "metadata": {},
   "outputs": [],
   "source": [
    "good = good[good.value > 10]"
   ]
  },
  {
   "cell_type": "code",
   "execution_count": 122,
   "id": "50b28ddf",
   "metadata": {},
   "outputs": [
    {
     "data": {
      "text/plain": [
       "count    82484.000000\n",
       "mean        69.968087\n",
       "std        402.445174\n",
       "min         10.001600\n",
       "25%         14.750000\n",
       "50%         22.465900\n",
       "75%         47.361771\n",
       "max      26952.000000\n",
       "Name: value, dtype: float64"
      ]
     },
     "execution_count": 122,
     "metadata": {},
     "output_type": "execute_result"
    }
   ],
   "source": [
    "good.value.describe()"
   ]
  },
  {
   "cell_type": "code",
   "execution_count": 123,
   "id": "02bfae47",
   "metadata": {},
   "outputs": [
    {
     "data": {
      "text/plain": [
       "39.93596044244699"
      ]
     },
     "execution_count": 123,
     "metadata": {},
     "output_type": "execute_result"
    }
   ],
   "source": [
    "good.value.skew()"
   ]
  },
  {
   "cell_type": "code",
   "execution_count": 124,
   "id": "642c0b48",
   "metadata": {},
   "outputs": [],
   "source": [
    "inliers = get_inliers(good.value)"
   ]
  },
  {
   "cell_type": "code",
   "execution_count": 125,
   "id": "82b8b858",
   "metadata": {},
   "outputs": [
    {
     "data": {
      "text/plain": [
       "96.266"
      ]
     },
     "execution_count": 125,
     "metadata": {},
     "output_type": "execute_result"
    }
   ],
   "source": [
    "inliers.max()"
   ]
  },
  {
   "cell_type": "code",
   "execution_count": 126,
   "id": "70add2a5",
   "metadata": {},
   "outputs": [],
   "source": [
    "good = good[good.value < 100]"
   ]
  },
  {
   "cell_type": "code",
   "execution_count": 127,
   "id": "d40911c7",
   "metadata": {},
   "outputs": [
    {
     "data": {
      "text/plain": [
       "1.6473684409491658"
      ]
     },
     "execution_count": 127,
     "metadata": {},
     "output_type": "execute_result"
    }
   ],
   "source": [
    "good.value.skew()"
   ]
  },
  {
   "cell_type": "code",
   "execution_count": 128,
   "id": "9fa5fb4f",
   "metadata": {},
   "outputs": [
    {
     "data": {
      "text/plain": [
       "<AxesSubplot:ylabel='Frequency'>"
      ]
     },
     "execution_count": 128,
     "metadata": {},
     "output_type": "execute_result"
    },
    {
     "data": {
      "image/png": "[encoded data removed]",
      "text/plain": [
       "<Figure size 432x288 with 1 Axes>"
      ]
     },
     "metadata": {
      "needs_background": "light"
     },
     "output_type": "display_data"
    }
   ],
   "source": [
    "good.value.plot.hist(bins=100)"
   ]
  },
  {
   "cell_type": "markdown",
   "id": "5cc4ef5b",
   "metadata": {},
   "source": [
    "#### 4. Rank with AVG or SUM or AVG + SUM"
   ]
  },
  {
   "cell_type": "markdown",
   "id": "15c65ad6",
   "metadata": {},
   "source": [
    "##### AVG"
   ]
  },
  {
   "cell_type": "code",
   "execution_count": 129,
   "id": "307e3553",
   "metadata": {},
   "outputs": [
    {
     "name": "stdout",
     "output_type": "stream",
     "text": [
      "Rank 1 with 404865.5568540599\n",
      "https://etherscan.io/address/0x34d85c9cdeb23fa97cb08333b511ac86e1c4e258\n",
      "Rank 2 with 189167.81876447855\n",
      "https://etherscan.io/address/0xc36442b4a4522e871399cd717abdd847ab11fe88\n",
      "Rank 3 with 167640.8976\n",
      "https://etherscan.io/address/0xad6917fc71101d377f5cbbc5b1fc0e941f08ae58\n",
      "Rank 4 with 104326.68491710485\n",
      "https://etherscan.io/address/0x60e4d786628fea6478f785a6d7e704777c86a7c6\n",
      "Rank 5 with 103943.98568068712\n",
      "https://etherscan.io/address/0xbc4ca0eda7647a8ab7c2061c2e118a18a936f13d\n",
      "Rank 6 with 85404.2\n",
      "https://etherscan.io/address/0xc73d48167123430958049ca698137927b3c9441c\n",
      "Rank 7 with 84753.42268582854\n",
      "https://etherscan.io/address/0xed5af388653567af2f388e6224dc7c4b3241c544\n",
      "Rank 8 with 61423.22721562817\n",
      "https://etherscan.io/address/0xb47e3cd837ddf8e4c57f05d70ab865de6e193bbb\n",
      "Rank 9 with 56757.64047708893\n",
      "https://etherscan.io/address/0x8a90cab2b38dba80c64b7734e58ee1db38b8992e\n",
      "Rank 10 with 51741.73882627188\n",
      "https://etherscan.io/address/0x160c404b2b49cbc3240055ceaee026df1e8497a0\n",
      "Rank 11 with 46755.59189559103\n",
      "https://etherscan.io/address/0x306b1ea3ecdf94ab739f1910bbda052ed4a9f949\n",
      "Rank 12 with 40772.79770546961\n",
      "https://etherscan.io/address/0x23581767a106ae21c074b2276d25e5c3e136a68b\n",
      "Rank 13 with 40552.46422482169\n",
      "https://etherscan.io/address/0x49cf6f5d44e70224e2e23fdcdd2c053f30ada28b\n",
      "Rank 14 with 34117.664656478715\n",
      "https://etherscan.io/address/0xbce3781ae7ca1a5e050bd9c4c77369867ebc307e\n",
      "Rank 15 with 26609.42049999995\n",
      "https://etherscan.io/address/0xba627f3d081cc97ac0edc40591eda7053ac63532\n",
      "Rank 16 with 24605.42272844792\n",
      "https://etherscan.io/address/0x7bd29408f11d2bfc23c34f18275bbf23bb716bc7\n",
      "Rank 17 with 21284.92687273524\n",
      "https://etherscan.io/address/0x9690b63eb85467be5267a3603f770589ab12dc95\n",
      "Rank 18 with 20638.3518537016\n",
      "https://etherscan.io/address/0xa7d8d9ef8d8ce8992df33d8b8cf4aebabd5bd270\n",
      "Rank 19 with 16634.65654889833\n",
      "https://etherscan.io/address/0x7d8820fa92eb1584636f4f5b8515b5476b75171a\n",
      "Rank 20 with 16189.976556158905\n",
      "https://etherscan.io/address/0x57f1887a8bf19b14fc0df6fd9b2acc9af147ea85\n"
     ]
    }
   ],
   "source": [
    "collection_ranking_1 = good.groupby(['token_address'])['value'].sum().sort_values(ascending=False)\n",
    "for rank, (address, score) in enumerate(collection_ranking_1.head(20).iteritems()):\n",
    "    print(f\"Rank {rank+1} with {score}\")\n",
    "    print(f\"https://etherscan.io/address/{address}\")"
   ]
  },
  {
   "cell_type": "markdown",
   "id": "e3d08a94",
   "metadata": {},
   "source": [
    "##### SUM"
   ]
  },
  {
   "cell_type": "code",
   "execution_count": 130,
   "id": "eac60023",
   "metadata": {},
   "outputs": [
    {
     "name": "stdout",
     "output_type": "stream",
     "text": [
      "Rank 1 with 67.22361\n",
      "https://etherscan.io/address/0x1fd468114d46b0315b702e8a332ff0a7d242d61d\n",
      "Rank 2 with 65.62310599960274\n",
      "https://etherscan.io/address/0xb47e3cd837ddf8e4c57f05d70ab865de6e193bbb\n",
      "Rank 3 with 60.89278598751443\n",
      "https://etherscan.io/address/0xbc4ca0eda7647a8ab7c2061c2e118a18a936f13d\n",
      "Rank 4 with 59.326666666666675\n",
      "https://etherscan.io/address/0x445ede1ce0a4f6d05720cc691893c5bc3ea1bed7\n",
      "Rank 5 with 56.76969102607518\n",
      "https://etherscan.io/address/0xad6917fc71101d377f5cbbc5b1fc0e941f08ae58\n",
      "Rank 6 with 54.861000000000004\n",
      "https://etherscan.io/address/0x82c7a8f707110f5fbb16184a5933e9f78a34c6ab\n",
      "Rank 7 with 50.88941176470588\n",
      "https://etherscan.io/address/0x46ac8540d698167fcbb9e846511beb8cf8af9bd8\n",
      "Rank 8 with 50.0\n",
      "https://etherscan.io/address/0xafe7bb8c4cacbc8bd1a72318ada9e636aa6c9cca\n",
      "Rank 9 with 45.7683\n",
      "https://etherscan.io/address/0xd3605059c3ce9facf625fa72d727508b7b7f280f\n",
      "Rank 10 with 44.90040643877358\n",
      "https://etherscan.io/address/0x7bd29408f11d2bfc23c34f18275bbf23bb716bc7\n",
      "Rank 11 with 43.562387755102044\n",
      "https://etherscan.io/address/0x27787755137863bb7f2387ed34942543c9f24efe\n",
      "Rank 12 with 43.519999999999996\n",
      "https://etherscan.io/address/0x0406243ca557c259712be750773177bc714e49f6\n",
      "Rank 13 with 43.32277911764706\n",
      "https://etherscan.io/address/0xca0d2f057ee8faa06660ca0677b6df33c8e875ee\n",
      "Rank 14 with 41.36264666666667\n",
      "https://etherscan.io/address/0xff36ca1396d2a9016869274f1017d6c2139f495e\n",
      "Rank 15 with 40.4736169072952\n",
      "https://etherscan.io/address/0x7d8820fa92eb1584636f4f5b8515b5476b75171a\n",
      "Rank 16 with 38.35532668417925\n",
      "https://etherscan.io/address/0xf61f24c2d93bf2de187546b14425bf631f28d6dc\n",
      "Rank 17 with 37.96706717967037\n",
      "https://etherscan.io/address/0x892848074ddea461a15f337250da3ce55580ca85\n",
      "Rank 18 with 37.60642888595332\n",
      "https://etherscan.io/address/0xc73d48167123430958049ca698137927b3c9441c\n",
      "Rank 19 with 35.508968686868684\n",
      "https://etherscan.io/address/0xaad35c2dadbe77f97301617d82e661776c891fa9\n",
      "Rank 20 with 35.45\n",
      "https://etherscan.io/address/0x68cd21d362c2dae66909afd810e391fa152b2379\n"
     ]
    }
   ],
   "source": [
    "collection_ranking_2 = good.groupby(['token_address'])['value'].mean().sort_values(ascending=False)\n",
    "for rank, (address, score) in enumerate(collection_ranking_2.head(20).iteritems()):\n",
    "    print(f\"Rank {rank+1} with {score}\")\n",
    "    print(f\"https://etherscan.io/address/{address}\")"
   ]
  },
  {
   "cell_type": "markdown",
   "id": "72320e24",
   "metadata": {},
   "source": [
    "##### AVG + SUM"
   ]
  },
  {
   "cell_type": "code",
   "execution_count": 131,
   "id": "94a7723a",
   "metadata": {},
   "outputs": [
    {
     "name": "stdout",
     "output_type": "stream",
     "text": [
      "Rank 1 with 404897.20923126687\n",
      "https://etherscan.io/address/0x34d85c9cdeb23fa97cb08333b511ac86e1c4e258\n",
      "Rank 2 with 189203.09810404672\n",
      "https://etherscan.io/address/0xc36442b4a4522e871399cd717abdd847ab11fe88\n",
      "Rank 3 with 167697.66729102607\n",
      "https://etherscan.io/address/0xad6917fc71101d377f5cbbc5b1fc0e941f08ae58\n",
      "Rank 4 with 104350.2562422104\n",
      "https://etherscan.io/address/0x60e4d786628fea6478f785a6d7e704777c86a7c6\n",
      "Rank 5 with 104004.87846667464\n",
      "https://etherscan.io/address/0xbc4ca0eda7647a8ab7c2061c2e118a18a936f13d\n",
      "Rank 6 with 85441.80642888595\n",
      "https://etherscan.io/address/0xc73d48167123430958049ca698137927b3c9441c\n",
      "Rank 7 with 84772.7904698061\n",
      "https://etherscan.io/address/0xed5af388653567af2f388e6224dc7c4b3241c544\n",
      "Rank 8 with 61488.850321627775\n",
      "https://etherscan.io/address/0xb47e3cd837ddf8e4c57f05d70ab865de6e193bbb\n",
      "Rank 9 with 56778.763528997035\n",
      "https://etherscan.io/address/0x8a90cab2b38dba80c64b7734e58ee1db38b8992e\n",
      "Rank 10 with 51767.378934709086\n",
      "https://etherscan.io/address/0x160c404b2b49cbc3240055ceaee026df1e8497a0\n",
      "Rank 11 with 46781.29590432967\n",
      "https://etherscan.io/address/0x306b1ea3ecdf94ab739f1910bbda052ed4a9f949\n",
      "Rank 12 with 40797.71995345584\n",
      "https://etherscan.io/address/0x23581767a106ae21c074b2276d25e5c3e136a68b\n",
      "Rank 13 with 40570.2816519855\n",
      "https://etherscan.io/address/0x49cf6f5d44e70224e2e23fdcdd2c053f30ada28b\n",
      "Rank 14 with 34150.4385898663\n",
      "https://etherscan.io/address/0xbce3781ae7ca1a5e050bd9c4c77369867ebc307e\n",
      "Rank 15 with 26634.738692673593\n",
      "https://etherscan.io/address/0xba627f3d081cc97ac0edc40591eda7053ac63532\n",
      "Rank 16 with 24650.323134886694\n",
      "https://etherscan.io/address/0x7bd29408f11d2bfc23c34f18275bbf23bb716bc7\n",
      "Rank 17 with 21301.87347056385\n",
      "https://etherscan.io/address/0x9690b63eb85467be5267a3603f770589ab12dc95\n",
      "Rank 18 with 20667.70939545651\n",
      "https://etherscan.io/address/0xa7d8d9ef8d8ce8992df33d8b8cf4aebabd5bd270\n",
      "Rank 19 with 16675.130165805625\n",
      "https://etherscan.io/address/0x7d8820fa92eb1584636f4f5b8515b5476b75171a\n",
      "Rank 20 with 16208.671679202967\n",
      "https://etherscan.io/address/0x57f1887a8bf19b14fc0df6fd9b2acc9af147ea85\n"
     ]
    }
   ],
   "source": [
    "collection_ranking_3 = good.groupby(['token_address'])['value'].mean() + good.groupby(['token_address'])['value'].sum()\n",
    "for rank, (address, score) in enumerate(collection_ranking_3.sort_values(ascending=False).head(20).iteritems()):\n",
    "    print(f\"Rank {rank+1} with {score}\")\n",
    "    print(f\"https://etherscan.io/address/{address}\")"
   ]
  },
  {
   "cell_type": "markdown",
   "id": "386d654f",
   "metadata": {},
   "source": [
    "### 5. Rank with transformed value"
   ]
  },
  {
   "cell_type": "code",
   "execution_count": 132,
   "id": "32441967",
   "metadata": {},
   "outputs": [],
   "source": [
    "good_log_value = good.value.apply(np.log)"
   ]
  },
  {
   "cell_type": "code",
   "execution_count": 133,
   "id": "09bf34b2",
   "metadata": {},
   "outputs": [
    {
     "data": {
      "text/plain": [
       "<AxesSubplot:ylabel='Frequency'>"
      ]
     },
     "execution_count": 133,
     "metadata": {},
     "output_type": "execute_result"
    },
    {
     "data": {
      "image/png": "[encoded data removed]",
      "text/plain": [
       "<Figure size 432x288 with 1 Axes>"
      ]
     },
     "metadata": {
      "needs_background": "light"
     },
     "output_type": "display_data"
    }
   ],
   "source": [
    "good_log_value.plot.hist(bins=100)"
   ]
  },
  {
   "cell_type": "code",
   "execution_count": 134,
   "id": "6c490741",
   "metadata": {},
   "outputs": [
    {
     "data": {
      "text/plain": [
       "0.6451028992163941"
      ]
     },
     "execution_count": 134,
     "metadata": {},
     "output_type": "execute_result"
    }
   ],
   "source": [
    "good_log_value.skew()"
   ]
  },
  {
   "cell_type": "code",
   "execution_count": 135,
   "id": "81d1520b",
   "metadata": {},
   "outputs": [],
   "source": [
    "good['log_value'] = good.apply(lambda row: np.log(row.value), axis=1)"
   ]
  },
  {
   "cell_type": "code",
   "execution_count": 136,
   "id": "83112307",
   "metadata": {},
   "outputs": [
    {
     "name": "stdout",
     "output_type": "stream",
     "text": [
      "Rank 1 with 41921.3480339099\n",
      "https://etherscan.io/address/0x34d85c9cdeb23fa97cb08333b511ac86e1c4e258\n",
      "Rank 2 with 17989.203841614293\n",
      "https://etherscan.io/address/0xc36442b4a4522e871399cd717abdd847ab11fe88\n",
      "Rank 3 with 13672.94796114146\n",
      "https://etherscan.io/address/0x60e4d786628fea6478f785a6d7e704777c86a7c6\n",
      "Rank 4 with 12308.97956133717\n",
      "https://etherscan.io/address/0xed5af388653567af2f388e6224dc7c4b3241c544\n",
      "Rank 5 with 11844.158862848139\n",
      "https://etherscan.io/address/0xad6917fc71101d377f5cbbc5b1fc0e941f08ae58\n",
      "Rank 6 with 8175.70614900594\n",
      "https://etherscan.io/address/0xc73d48167123430958049ca698137927b3c9441c\n",
      "Rank 7 with 7880.991742542087\n",
      "https://etherscan.io/address/0x8a90cab2b38dba80c64b7734e58ee1db38b8992e\n",
      "Rank 8 with 6804.287645506172\n",
      "https://etherscan.io/address/0xbc4ca0eda7647a8ab7c2061c2e118a18a936f13d\n",
      "Rank 9 with 6310.331630263063\n",
      "https://etherscan.io/address/0x49cf6f5d44e70224e2e23fdcdd2c053f30ada28b\n",
      "Rank 10 with 6182.977000348957\n",
      "https://etherscan.io/address/0x160c404b2b49cbc3240055ceaee026df1e8497a0\n",
      "Rank 11 with 5619.178998724169\n",
      "https://etherscan.io/address/0x306b1ea3ecdf94ab739f1910bbda052ed4a9f949\n",
      "Rank 12 with 5183.813959857849\n",
      "https://etherscan.io/address/0x23581767a106ae21c074b2276d25e5c3e136a68b\n",
      "Rank 13 with 3856.3712093320346\n",
      "https://etherscan.io/address/0xb47e3cd837ddf8e4c57f05d70ab865de6e193bbb\n",
      "Rank 14 with 3428.155054288643\n",
      "https://etherscan.io/address/0x9690b63eb85467be5267a3603f770589ab12dc95\n",
      "Rank 15 with 3413.1809107142535\n",
      "https://etherscan.io/address/0xbce3781ae7ca1a5e050bd9c4c77369867ebc307e\n",
      "Rank 16 with 3268.2953267706407\n",
      "https://etherscan.io/address/0xba627f3d081cc97ac0edc40591eda7053ac63532\n",
      "Rank 17 with 2471.017466933787\n",
      "https://etherscan.io/address/0x57f1887a8bf19b14fc0df6fd9b2acc9af147ea85\n",
      "Rank 18 with 2231.1308653820765\n",
      "https://etherscan.io/address/0xa7d8d9ef8d8ce8992df33d8b8cf4aebabd5bd270\n",
      "Rank 19 with 2206.303307163629\n",
      "https://etherscan.io/address/0x87a84fd1f96904519ab96815f24dfbb95c0d2aae\n",
      "Rank 20 with 2094.3639546945983\n",
      "https://etherscan.io/address/0x5cc5b05a8a13e3fbdb0bb9fccd98d38e50f90c38\n"
     ]
    }
   ],
   "source": [
    "collection_ranking_1 = good.groupby(['token_address'])['log_value'].sum().sort_values(ascending=False)\n",
    "for rank, (address, score) in enumerate(collection_ranking_1.head(20).iteritems()):\n",
    "    print(f\"Rank {rank+1} with {score}\")\n",
    "    print(f\"https://etherscan.io/address/{address}\")"
   ]
  },
  {
   "cell_type": "code",
   "execution_count": 137,
   "id": "a2a41e49",
   "metadata": {},
   "outputs": [
    {
     "name": "stdout",
     "output_type": "stream",
     "text": [
      "Rank 1 with 4.1200547108248236\n",
      "https://etherscan.io/address/0xb47e3cd837ddf8e4c57f05d70ab865de6e193bbb\n",
      "Rank 2 with 4.101697148560088\n",
      "https://etherscan.io/address/0x1fd468114d46b0315b702e8a332ff0a7d242d61d\n",
      "Rank 3 with 4.031373595586832\n",
      "https://etherscan.io/address/0x445ede1ce0a4f6d05720cc691893c5bc3ea1bed7\n",
      "Rank 4 with 4.010890234625174\n",
      "https://etherscan.io/address/0xad6917fc71101d377f5cbbc5b1fc0e941f08ae58\n",
      "Rank 5 with 3.9861087554224794\n",
      "https://etherscan.io/address/0xbc4ca0eda7647a8ab7c2061c2e118a18a936f13d\n",
      "Rank 6 with 3.912023005428146\n",
      "https://etherscan.io/address/0xafe7bb8c4cacbc8bd1a72318ada9e636aa6c9cca\n",
      "Rank 7 with 3.823591711742858\n",
      "https://etherscan.io/address/0xd3605059c3ce9facf625fa72d727508b7b7f280f\n",
      "Rank 8 with 3.7729298240640734\n",
      "https://etherscan.io/address/0x0406243ca557c259712be750773177bc714e49f6\n",
      "Rank 9 with 3.7674596380864767\n",
      "https://etherscan.io/address/0xca0d2f057ee8faa06660ca0677b6df33c8e875ee\n",
      "Rank 10 with 3.737060382152367\n",
      "https://etherscan.io/address/0x82c7a8f707110f5fbb16184a5933e9f78a34c6ab\n",
      "Rank 11 with 3.711798443233353\n",
      "https://etherscan.io/address/0x46ac8540d698167fcbb9e846511beb8cf8af9bd8\n",
      "Rank 12 with 3.6000467410858388\n",
      "https://etherscan.io/address/0xc73d48167123430958049ca698137927b3c9441c\n",
      "Rank 13 with 3.573320622097093\n",
      "https://etherscan.io/address/0xff36ca1396d2a9016869274f1017d6c2139f495e\n",
      "Rank 14 with 3.5681232529781366\n",
      "https://etherscan.io/address/0x68cd21d362c2dae66909afd810e391fa152b2379\n",
      "Rank 15 with 3.55145100884496\n",
      "https://etherscan.io/address/0x7bd29408f11d2bfc23c34f18275bbf23bb716bc7\n",
      "Rank 16 with 3.5225159524288587\n",
      "https://etherscan.io/address/0x02cf8ab518dd1aa2773598fe00479043800058cd\n",
      "Rank 17 with 3.505557396986398\n",
      "https://etherscan.io/address/0xb7ec7bbd2d2193b47027247fc666fb342d23c4b5\n",
      "Rank 18 with 3.5000432111593183\n",
      "https://etherscan.io/address/0xf61f24c2d93bf2de187546b14425bf631f28d6dc\n",
      "Rank 19 with 3.4793298576821514\n",
      "https://etherscan.io/address/0x7d8820fa92eb1584636f4f5b8515b5476b75171a\n",
      "Rank 20 with 3.47286926073966\n",
      "https://etherscan.io/address/0x27787755137863bb7f2387ed34942543c9f24efe\n"
     ]
    }
   ],
   "source": [
    "collection_ranking_2 = good.groupby(['token_address'])['log_value'].mean().sort_values(ascending=False)\n",
    "for rank, (address, score) in enumerate(collection_ranking_2.head(20).iteritems()):\n",
    "    print(f\"Rank {rank+1} with {score}\")\n",
    "    print(f\"https://etherscan.io/address/{address}\")"
   ]
  },
  {
   "cell_type": "code",
   "execution_count": 138,
   "id": "f7a9f6cc",
   "metadata": {},
   "outputs": [
    {
     "name": "stdout",
     "output_type": "stream",
     "text": [
      "Rank 1 with 51767.378934709086\n",
      "https://etherscan.io/address/0x160c404b2b49cbc3240055ceaee026df1e8497a0\n",
      "Rank 2 with 9086.893095597568\n",
      "https://etherscan.io/address/0x1792a96e5668ad7c167ab804a100ce42395ce54d\n",
      "Rank 3 with 5237.907849592615\n",
      "https://etherscan.io/address/0x05e7f2499ff153fea2f20bbde0b5584c911c0af1\n",
      "Rank 4 with 2868.677367654318\n",
      "https://etherscan.io/address/0x0a36f2178c0db2c85471c45334a1dd17d130fd42\n",
      "Rank 5 with 1911.4858904109592\n",
      "https://etherscan.io/address/0x0c2e57efddba8c768147d1fdf9176a0a6ebd5d83\n",
      "Rank 6 with 1876.7406559346155\n",
      "https://etherscan.io/address/0x123b30e25973fecd8354dd5f41cc45a3065ef88c\n",
      "Rank 7 with 1794.6481186299043\n",
      "https://etherscan.io/address/0x03ef30e1aee25abd320ad961b8cd31aa1a011c97\n",
      "Rank 8 with 1531.0962852941177\n",
      "https://etherscan.io/address/0x011c77fa577c500deedad364b8af9e8540b808c0\n",
      "Rank 9 with 1228.4460651666645\n",
      "https://etherscan.io/address/0x10cdcb5a80e888ec9e9154439e86b911f684da7b\n",
      "Rank 10 with 1186.4121911764705\n",
      "https://etherscan.io/address/0x02cf8ab518dd1aa2773598fe00479043800058cd\n",
      "Rank 11 with 1155.0737446575342\n",
      "https://etherscan.io/address/0x1485297e942ce64e0870ece60179dfda34b4c625\n",
      "Rank 12 with 981.2859657464788\n",
      "https://etherscan.io/address/0x07ce5d64b7b845c8ff645e9a3825f94e6bdd82f1\n",
      "Rank 13 with 905.7356393442623\n",
      "https://etherscan.io/address/0x0cfb5d82be2b949e8fa73a656df91821e2ad99fd\n",
      "Rank 14 with 696.3199999999999\n",
      "https://etherscan.io/address/0x0406243ca557c259712be750773177bc714e49f6\n",
      "Rank 15 with 436.5009\n",
      "https://etherscan.io/address/0x05218d1744caf09190f72333f9167ce12d18af5c\n",
      "Rank 16 with 320.66999999999996\n",
      "https://etherscan.io/address/0x05745e72fb8b4a9b51118a168d956760e4a36444\n",
      "Rank 17 with 283.79292307692305\n",
      "https://etherscan.io/address/0x0a69ceeb9abcc8d0905dd0458153a5d2262a8cd6\n",
      "Rank 18 with 252.45\n",
      "https://etherscan.io/address/0x09233d553058c2f42ba751c87816a8e9fae7ef10\n",
      "Rank 19 with 196.65867\n",
      "https://etherscan.io/address/0x031920cc2d9f5c10b444fd44009cd64f829e7be2\n",
      "Rank 20 with 24.0\n",
      "https://etherscan.io/address/0x024bba6cb351288487b7f93e6d76e07f6dcbe296\n"
     ]
    }
   ],
   "source": [
    "collection_ranking_3 = good.groupby(['token_address'])['value'].mean() + good.groupby(['token_address'])['value'].sum()\n",
    "for rank, (address, score) in enumerate(collection_ranking_3.head(20).sort_values(ascending=False).iteritems()):\n",
    "    print(f\"Rank {rank+1} with {score}\")\n",
    "    print(f\"https://etherscan.io/address/{address}\")"
   ]
  },
  {
   "cell_type": "markdown",
   "id": "b25d641f",
   "metadata": {},
   "source": [
    "## 7. Conclusion\n",
    "\n",
    "- EDA is the most important job to do before any machine learning or modeling.\n",
    "    - Understand data before doing anything.\n",
    "    - 知彼知己, 百戰不殆. 不知彼而知己, 一勝一負. 不知彼, 不知己. 每戰必殆.\n",
    "- We need to get reliable data about price.\n",
    "- Transaction value has the lead to the information that we are looking for not transaction counts.\n",
    "- Collection level price distribution is heavily skewed to the right.\n",
    "- NFT level price distribution is more balanced but might not be very useful for learning patterns because they can be very bimodal."
   ]
  },
  {
   "cell_type": "code",
   "execution_count": null,
   "id": "56c71f46",
   "metadata": {},
   "outputs": [],
   "source": []
  }
 ],
 "metadata": {
  "kernelspec": {
   "display_name": "Python 3 (ipykernel)",
   "language": "python",
   "name": "python3"
  },
  "language_info": {
   "codemirror_mode": {
    "name": "ipython",
    "version": 3
   },
   "file_extension": ".py",
   "mimetype": "text/x-python",
   "name": "python",
   "nbconvert_exporter": "python",
   "pygments_lexer": "ipython3",
   "version": "3.10.4"
  },
  "vscode": {
   "interpreter": {
    "hash": "292c9bb84cf49a3a17631b668258b53bd8be2723f6f62439d2eb1575bd5d5e79"
   }
  }
 },
 "nbformat": 4,
 "nbformat_minor": 5
}
