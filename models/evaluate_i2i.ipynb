{
 "cells": [
  {
   "cell_type": "markdown",
   "id": "f339ce0f",
   "metadata": {},
   "source": [
    "# Imports\n",
    "- time: to make image loading smoother\n",
    "- bs4.BeautifulSoup: to crawl webpage to get NFT image URLs\n",
    "- IPython.display.Image: to display NFT images\n",
    "- pandas: to manipulate data\n",
    "- requests: to read html text from webpage"
   ]
  },
  {
   "cell_type": "code",
   "execution_count": 22,
   "id": "3eebc538",
   "metadata": {},
   "outputs": [],
   "source": [
    "import time\n",
    "\n",
    "from bs4 import BeautifulSoup \n",
    "from IPython.display import Image\n",
    "\n",
    "import pandas as pd\n",
    "import requests"
   ]
  },
  {
   "cell_type": "markdown",
   "id": "e805f668",
   "metadata": {},
   "source": [
    "# Goal\n",
    "\n",
    "We want to evaluate current **item-to-item recommendation** to see if it is good for our initial launch."
   ]
  },
  {
   "cell_type": "markdown",
   "id": "22d8010f",
   "metadata": {},
   "source": [
    "# Load i2i recommendation"
   ]
  },
  {
   "cell_type": "code",
   "execution_count": 3,
   "id": "fce86bc0",
   "metadata": {},
   "outputs": [],
   "source": [
    "filepath = \"/Users/keonyonglee/Projects/nimble/nft-recommendation-data-analysis-data/nft-recommendation/nft_i2i.csv\"\n",
    "\n",
    "# Set up column names\n",
    "names = ['nft_id', 'num_of_buyers']\n",
    "names.extend([f'sim_nft_id_{x}' for  x in range(1,21)])\n",
    "names.extend([f'sim_score_{x}' for x in range(1, 21)])"
   ]
  },
  {
   "cell_type": "markdown",
   "id": "d86280b9",
   "metadata": {},
   "source": [
    "Columns\n",
    "- 1: nft_id\n",
    "- 2: num_of_buyers for the nft\n",
    "- 3~22: similar_nft_id_1 ~ 20\n",
    "- 23~42: similar_scores_1 ~ 20"
   ]
  },
  {
   "cell_type": "code",
   "execution_count": 4,
   "id": "3691f4b0",
   "metadata": {},
   "outputs": [
    {
     "data": {
      "text/plain": [
       "['nft_id',\n",
       " 'num_of_buyers',\n",
       " 'sim_nft_id_1',\n",
       " 'sim_nft_id_2',\n",
       " 'sim_nft_id_3',\n",
       " 'sim_nft_id_4',\n",
       " 'sim_nft_id_5',\n",
       " 'sim_nft_id_6',\n",
       " 'sim_nft_id_7',\n",
       " 'sim_nft_id_8',\n",
       " 'sim_nft_id_9',\n",
       " 'sim_nft_id_10',\n",
       " 'sim_nft_id_11',\n",
       " 'sim_nft_id_12',\n",
       " 'sim_nft_id_13',\n",
       " 'sim_nft_id_14',\n",
       " 'sim_nft_id_15',\n",
       " 'sim_nft_id_16',\n",
       " 'sim_nft_id_17',\n",
       " 'sim_nft_id_18',\n",
       " 'sim_nft_id_19',\n",
       " 'sim_nft_id_20',\n",
       " 'sim_score_1',\n",
       " 'sim_score_2',\n",
       " 'sim_score_3',\n",
       " 'sim_score_4',\n",
       " 'sim_score_5',\n",
       " 'sim_score_6',\n",
       " 'sim_score_7',\n",
       " 'sim_score_8',\n",
       " 'sim_score_9',\n",
       " 'sim_score_10',\n",
       " 'sim_score_11',\n",
       " 'sim_score_12',\n",
       " 'sim_score_13',\n",
       " 'sim_score_14',\n",
       " 'sim_score_15',\n",
       " 'sim_score_16',\n",
       " 'sim_score_17',\n",
       " 'sim_score_18',\n",
       " 'sim_score_19',\n",
       " 'sim_score_20']"
      ]
     },
     "execution_count": 4,
     "metadata": {},
     "output_type": "execute_result"
    }
   ],
   "source": [
    "names"
   ]
  },
  {
   "cell_type": "code",
   "execution_count": 6,
   "id": "d3738d2e",
   "metadata": {},
   "outputs": [
    {
     "name": "stdout",
     "output_type": "stream",
     "text": [
      "CPU times: user 16.8 s, sys: 1.24 s, total: 18 s\n",
      "Wall time: 18.5 s\n"
     ]
    }
   ],
   "source": [
    "%%time\n",
    "nft_reco = pd.read_csv(filepath, header=0, names=names)"
   ]
  },
  {
   "cell_type": "code",
   "execution_count": 7,
   "id": "70d975e4",
   "metadata": {},
   "outputs": [
    {
     "data": {
      "text/html": [
       "<div>\n",
       "<style scoped>\n",
       "    .dataframe tbody tr th:only-of-type {\n",
       "        vertical-align: middle;\n",
       "    }\n",
       "\n",
       "    .dataframe tbody tr th {\n",
       "        vertical-align: top;\n",
       "    }\n",
       "\n",
       "    .dataframe thead th {\n",
       "        text-align: right;\n",
       "    }\n",
       "</style>\n",
       "<table border=\"1\" class=\"dataframe\">\n",
       "  <thead>\n",
       "    <tr style=\"text-align: right;\">\n",
       "      <th></th>\n",
       "      <th>nft_id</th>\n",
       "      <th>num_of_buyers</th>\n",
       "      <th>sim_nft_id_1</th>\n",
       "      <th>sim_nft_id_2</th>\n",
       "      <th>sim_nft_id_3</th>\n",
       "      <th>sim_nft_id_4</th>\n",
       "      <th>sim_nft_id_5</th>\n",
       "      <th>sim_nft_id_6</th>\n",
       "      <th>sim_nft_id_7</th>\n",
       "      <th>sim_nft_id_8</th>\n",
       "      <th>...</th>\n",
       "      <th>sim_score_11</th>\n",
       "      <th>sim_score_12</th>\n",
       "      <th>sim_score_13</th>\n",
       "      <th>sim_score_14</th>\n",
       "      <th>sim_score_15</th>\n",
       "      <th>sim_score_16</th>\n",
       "      <th>sim_score_17</th>\n",
       "      <th>sim_score_18</th>\n",
       "      <th>sim_score_19</th>\n",
       "      <th>sim_score_20</th>\n",
       "    </tr>\n",
       "  </thead>\n",
       "  <tbody>\n",
       "    <tr>\n",
       "      <th>0</th>\n",
       "      <td>0x57f1887a8bf19b14fc0df6fd9b2acc9af147ea85/705...</td>\n",
       "      <td>2</td>\n",
       "      <td>0x13e1c9123dde5334e8c2b24db9f2dc16f5673de6/2527</td>\n",
       "      <td>0x0a36f2178c0db2c85471c45334a1dd17d130fd42/634</td>\n",
       "      <td>0x2b6edb48a1fe01ba427509cf3dace7f47c3c7a19/573</td>\n",
       "      <td>0x2b6edb48a1fe01ba427509cf3dace7f47c3c7a19/572</td>\n",
       "      <td>0x011c77fa577c500deedad364b8af9e8540b808c0/4083</td>\n",
       "      <td>0x57f1887a8bf19b14fc0df6fd9b2acc9af147ea85/510...</td>\n",
       "      <td>0xf1bdfc38b0089097f050141d21f5e8a3cb0ec8fc/819</td>\n",
       "      <td>0x57f1887a8bf19b14fc0df6fd9b2acc9af147ea85/860...</td>\n",
       "      <td>...</td>\n",
       "      <td>0.707107</td>\n",
       "      <td>0.707107</td>\n",
       "      <td>0.707107</td>\n",
       "      <td>0.707107</td>\n",
       "      <td>0.707107</td>\n",
       "      <td>0.707107</td>\n",
       "      <td>0.707107</td>\n",
       "      <td>0.707107</td>\n",
       "      <td>0.707107</td>\n",
       "      <td>0.707107</td>\n",
       "    </tr>\n",
       "    <tr>\n",
       "      <th>1</th>\n",
       "      <td>0xc7457f480416e145093edb355f626faa0fc7f90e/2145</td>\n",
       "      <td>7</td>\n",
       "      <td>0xc7457f480416e145093edb355f626faa0fc7f90e/3012</td>\n",
       "      <td>0xc7457f480416e145093edb355f626faa0fc7f90e/3704</td>\n",
       "      <td>0x0e5b1348bddc08b24efb3cca4f2a519da305cd4f/688</td>\n",
       "      <td>0x2de87c6f15bc8b3af69443e5274302d02d55a38c/1842</td>\n",
       "      <td>0xd62899a44ddd9c57a5320d86c421123f8ec4c6bf/935</td>\n",
       "      <td>0x809d8f2b12454fc07408d2479cf6dc701ecd5a9f/4274</td>\n",
       "      <td>0xc7457f480416e145093edb355f626faa0fc7f90e/3359</td>\n",
       "      <td>0xc7457f480416e145093edb355f626faa0fc7f90e/4952</td>\n",
       "      <td>...</td>\n",
       "      <td>0.707107</td>\n",
       "      <td>0.707107</td>\n",
       "      <td>0.707107</td>\n",
       "      <td>0.707107</td>\n",
       "      <td>0.707107</td>\n",
       "      <td>0.707107</td>\n",
       "      <td>0.707107</td>\n",
       "      <td>0.707107</td>\n",
       "      <td>0.707107</td>\n",
       "      <td>0.707107</td>\n",
       "    </tr>\n",
       "    <tr>\n",
       "      <th>2</th>\n",
       "      <td>0x34d85c9cdeb23fa97cb08333b511ac86e1c4e258/91665</td>\n",
       "      <td>2</td>\n",
       "      <td>0xa8ad3151f6226eed6fa8f7238a833684f0a86fcd/816</td>\n",
       "      <td>0x80336ad7a747236ef41f47ed2c7641828a480baa/4158</td>\n",
       "      <td>0x26645fdcf7f52831ba891cec92673e0fbc593571/486</td>\n",
       "      <td>0x5bd815fd6c096bab38b4c6553cfce3585194dff9/8611</td>\n",
       "      <td>0xd3605059c3ce9facf625fa72d727508b7b7f280f/2130</td>\n",
       "      <td>0x26645fdcf7f52831ba891cec92673e0fbc593571/5336</td>\n",
       "      <td>0x90085fb517a0b46676b3efc6a56e255cbd0f22b9/6118</td>\n",
       "      <td>0x26645fdcf7f52831ba891cec92673e0fbc593571/2256</td>\n",
       "      <td>...</td>\n",
       "      <td>0.707107</td>\n",
       "      <td>0.707107</td>\n",
       "      <td>0.707107</td>\n",
       "      <td>0.707107</td>\n",
       "      <td>0.707107</td>\n",
       "      <td>0.707107</td>\n",
       "      <td>0.707107</td>\n",
       "      <td>0.707107</td>\n",
       "      <td>0.707107</td>\n",
       "      <td>0.707107</td>\n",
       "    </tr>\n",
       "    <tr>\n",
       "      <th>3</th>\n",
       "      <td>0x57f1887a8bf19b14fc0df6fd9b2acc9af147ea85/103...</td>\n",
       "      <td>2</td>\n",
       "      <td>0x57f1887a8bf19b14fc0df6fd9b2acc9af147ea85/791...</td>\n",
       "      <td>0xa97ad3ce4d36b9d782ca7a2d45b25a052c44dce6/3775</td>\n",
       "      <td>0x57f1887a8bf19b14fc0df6fd9b2acc9af147ea85/254...</td>\n",
       "      <td>0x57f1887a8bf19b14fc0df6fd9b2acc9af147ea85/833...</td>\n",
       "      <td>0x57f1887a8bf19b14fc0df6fd9b2acc9af147ea85/922...</td>\n",
       "      <td>0x57f1887a8bf19b14fc0df6fd9b2acc9af147ea85/916...</td>\n",
       "      <td>0x9548052b0428ebc1cbf52c7e3085c3664da0c764/4943</td>\n",
       "      <td>0x9548052b0428ebc1cbf52c7e3085c3664da0c764/444</td>\n",
       "      <td>...</td>\n",
       "      <td>0.707107</td>\n",
       "      <td>0.707107</td>\n",
       "      <td>0.707107</td>\n",
       "      <td>0.707107</td>\n",
       "      <td>0.707107</td>\n",
       "      <td>0.707107</td>\n",
       "      <td>0.707107</td>\n",
       "      <td>0.577350</td>\n",
       "      <td>0.577350</td>\n",
       "      <td>0.577350</td>\n",
       "    </tr>\n",
       "    <tr>\n",
       "      <th>4</th>\n",
       "      <td>0x57f1887a8bf19b14fc0df6fd9b2acc9af147ea85/392...</td>\n",
       "      <td>2</td>\n",
       "      <td>0x57f1887a8bf19b14fc0df6fd9b2acc9af147ea85/630...</td>\n",
       "      <td>0x57f1887a8bf19b14fc0df6fd9b2acc9af147ea85/392...</td>\n",
       "      <td>0x5bdf47c6691edf5d2e5f7a156324d88e1478fca6/4575</td>\n",
       "      <td>0x565abc3feaa3bc3820b83620f4bbf16b5c4d47a3/2502</td>\n",
       "      <td>0x57f1887a8bf19b14fc0df6fd9b2acc9af147ea85/353...</td>\n",
       "      <td>0x76b3af5f0f9b89ca5a4f9fe6c58421dbe567062d/3720</td>\n",
       "      <td>0xb15b1ec7d152e3a42d620d4cb1af400b5ca6fcab/1942</td>\n",
       "      <td>0xbfce321046aaf5879c74cc4555db8fd9629fde92/891</td>\n",
       "      <td>...</td>\n",
       "      <td>0.707107</td>\n",
       "      <td>0.707107</td>\n",
       "      <td>0.707107</td>\n",
       "      <td>0.707107</td>\n",
       "      <td>0.707107</td>\n",
       "      <td>0.707107</td>\n",
       "      <td>0.707107</td>\n",
       "      <td>0.707107</td>\n",
       "      <td>0.707107</td>\n",
       "      <td>0.707107</td>\n",
       "    </tr>\n",
       "  </tbody>\n",
       "</table>\n",
       "<p>5 rows × 42 columns</p>\n",
       "</div>"
      ],
      "text/plain": [
       "                                              nft_id  num_of_buyers  \\\n",
       "0  0x57f1887a8bf19b14fc0df6fd9b2acc9af147ea85/705...              2   \n",
       "1    0xc7457f480416e145093edb355f626faa0fc7f90e/2145              7   \n",
       "2   0x34d85c9cdeb23fa97cb08333b511ac86e1c4e258/91665              2   \n",
       "3  0x57f1887a8bf19b14fc0df6fd9b2acc9af147ea85/103...              2   \n",
       "4  0x57f1887a8bf19b14fc0df6fd9b2acc9af147ea85/392...              2   \n",
       "\n",
       "                                        sim_nft_id_1  \\\n",
       "0    0x13e1c9123dde5334e8c2b24db9f2dc16f5673de6/2527   \n",
       "1    0xc7457f480416e145093edb355f626faa0fc7f90e/3012   \n",
       "2     0xa8ad3151f6226eed6fa8f7238a833684f0a86fcd/816   \n",
       "3  0x57f1887a8bf19b14fc0df6fd9b2acc9af147ea85/791...   \n",
       "4  0x57f1887a8bf19b14fc0df6fd9b2acc9af147ea85/630...   \n",
       "\n",
       "                                        sim_nft_id_2  \\\n",
       "0     0x0a36f2178c0db2c85471c45334a1dd17d130fd42/634   \n",
       "1    0xc7457f480416e145093edb355f626faa0fc7f90e/3704   \n",
       "2    0x80336ad7a747236ef41f47ed2c7641828a480baa/4158   \n",
       "3    0xa97ad3ce4d36b9d782ca7a2d45b25a052c44dce6/3775   \n",
       "4  0x57f1887a8bf19b14fc0df6fd9b2acc9af147ea85/392...   \n",
       "\n",
       "                                        sim_nft_id_3  \\\n",
       "0     0x2b6edb48a1fe01ba427509cf3dace7f47c3c7a19/573   \n",
       "1     0x0e5b1348bddc08b24efb3cca4f2a519da305cd4f/688   \n",
       "2     0x26645fdcf7f52831ba891cec92673e0fbc593571/486   \n",
       "3  0x57f1887a8bf19b14fc0df6fd9b2acc9af147ea85/254...   \n",
       "4    0x5bdf47c6691edf5d2e5f7a156324d88e1478fca6/4575   \n",
       "\n",
       "                                        sim_nft_id_4  \\\n",
       "0     0x2b6edb48a1fe01ba427509cf3dace7f47c3c7a19/572   \n",
       "1    0x2de87c6f15bc8b3af69443e5274302d02d55a38c/1842   \n",
       "2    0x5bd815fd6c096bab38b4c6553cfce3585194dff9/8611   \n",
       "3  0x57f1887a8bf19b14fc0df6fd9b2acc9af147ea85/833...   \n",
       "4    0x565abc3feaa3bc3820b83620f4bbf16b5c4d47a3/2502   \n",
       "\n",
       "                                        sim_nft_id_5  \\\n",
       "0    0x011c77fa577c500deedad364b8af9e8540b808c0/4083   \n",
       "1     0xd62899a44ddd9c57a5320d86c421123f8ec4c6bf/935   \n",
       "2    0xd3605059c3ce9facf625fa72d727508b7b7f280f/2130   \n",
       "3  0x57f1887a8bf19b14fc0df6fd9b2acc9af147ea85/922...   \n",
       "4  0x57f1887a8bf19b14fc0df6fd9b2acc9af147ea85/353...   \n",
       "\n",
       "                                        sim_nft_id_6  \\\n",
       "0  0x57f1887a8bf19b14fc0df6fd9b2acc9af147ea85/510...   \n",
       "1    0x809d8f2b12454fc07408d2479cf6dc701ecd5a9f/4274   \n",
       "2    0x26645fdcf7f52831ba891cec92673e0fbc593571/5336   \n",
       "3  0x57f1887a8bf19b14fc0df6fd9b2acc9af147ea85/916...   \n",
       "4    0x76b3af5f0f9b89ca5a4f9fe6c58421dbe567062d/3720   \n",
       "\n",
       "                                      sim_nft_id_7  \\\n",
       "0   0xf1bdfc38b0089097f050141d21f5e8a3cb0ec8fc/819   \n",
       "1  0xc7457f480416e145093edb355f626faa0fc7f90e/3359   \n",
       "2  0x90085fb517a0b46676b3efc6a56e255cbd0f22b9/6118   \n",
       "3  0x9548052b0428ebc1cbf52c7e3085c3664da0c764/4943   \n",
       "4  0xb15b1ec7d152e3a42d620d4cb1af400b5ca6fcab/1942   \n",
       "\n",
       "                                        sim_nft_id_8  ... sim_score_11  \\\n",
       "0  0x57f1887a8bf19b14fc0df6fd9b2acc9af147ea85/860...  ...     0.707107   \n",
       "1    0xc7457f480416e145093edb355f626faa0fc7f90e/4952  ...     0.707107   \n",
       "2    0x26645fdcf7f52831ba891cec92673e0fbc593571/2256  ...     0.707107   \n",
       "3     0x9548052b0428ebc1cbf52c7e3085c3664da0c764/444  ...     0.707107   \n",
       "4     0xbfce321046aaf5879c74cc4555db8fd9629fde92/891  ...     0.707107   \n",
       "\n",
       "  sim_score_12 sim_score_13 sim_score_14 sim_score_15 sim_score_16  \\\n",
       "0     0.707107     0.707107     0.707107     0.707107     0.707107   \n",
       "1     0.707107     0.707107     0.707107     0.707107     0.707107   \n",
       "2     0.707107     0.707107     0.707107     0.707107     0.707107   \n",
       "3     0.707107     0.707107     0.707107     0.707107     0.707107   \n",
       "4     0.707107     0.707107     0.707107     0.707107     0.707107   \n",
       "\n",
       "  sim_score_17 sim_score_18 sim_score_19 sim_score_20  \n",
       "0     0.707107     0.707107     0.707107     0.707107  \n",
       "1     0.707107     0.707107     0.707107     0.707107  \n",
       "2     0.707107     0.707107     0.707107     0.707107  \n",
       "3     0.707107     0.577350     0.577350     0.577350  \n",
       "4     0.707107     0.707107     0.707107     0.707107  \n",
       "\n",
       "[5 rows x 42 columns]"
      ]
     },
     "execution_count": 7,
     "metadata": {},
     "output_type": "execute_result"
    }
   ],
   "source": [
    "# Check first 5 rows\n",
    "nft_reco.head(5)"
   ]
  },
  {
   "cell_type": "code",
   "execution_count": 8,
   "id": "d390d234",
   "metadata": {},
   "outputs": [
    {
     "data": {
      "text/plain": [
       "0"
      ]
     },
     "execution_count": 8,
     "metadata": {},
     "output_type": "execute_result"
    }
   ],
   "source": [
    "# check for duplicate NFTs\n",
    "nft_reco.duplicated(subset='nft_id').sum()"
   ]
  },
  {
   "cell_type": "code",
   "execution_count": 58,
   "id": "ac6a4169",
   "metadata": {},
   "outputs": [],
   "source": [
    "# Choose 20 random sample clusters and consider top 10 recommendations\n",
    "columns = [\"nft_id\"] + [f'sim_nft_id_{x}' for  x in range(1,11)]\n",
    "random_samples = nft_reco.sample(20)[columns]"
   ]
  },
  {
   "cell_type": "code",
   "execution_count": 59,
   "id": "3b87854f",
   "metadata": {},
   "outputs": [
    {
     "data": {
      "text/html": [
       "<div>\n",
       "<style scoped>\n",
       "    .dataframe tbody tr th:only-of-type {\n",
       "        vertical-align: middle;\n",
       "    }\n",
       "\n",
       "    .dataframe tbody tr th {\n",
       "        vertical-align: top;\n",
       "    }\n",
       "\n",
       "    .dataframe thead th {\n",
       "        text-align: right;\n",
       "    }\n",
       "</style>\n",
       "<table border=\"1\" class=\"dataframe\">\n",
       "  <thead>\n",
       "    <tr style=\"text-align: right;\">\n",
       "      <th></th>\n",
       "      <th>nft_id</th>\n",
       "      <th>sim_nft_id_1</th>\n",
       "      <th>sim_nft_id_2</th>\n",
       "      <th>sim_nft_id_3</th>\n",
       "      <th>sim_nft_id_4</th>\n",
       "      <th>sim_nft_id_5</th>\n",
       "      <th>sim_nft_id_6</th>\n",
       "      <th>sim_nft_id_7</th>\n",
       "      <th>sim_nft_id_8</th>\n",
       "      <th>sim_nft_id_9</th>\n",
       "      <th>sim_nft_id_10</th>\n",
       "    </tr>\n",
       "  </thead>\n",
       "  <tbody>\n",
       "    <tr>\n",
       "      <th>1574269</th>\n",
       "      <td>0xe17827609ac34443b3987661f4e037642f6bd9ba/7734</td>\n",
       "      <td>0xccb9d89e0f77df3618eec9f6bf899be3b5561a89/13120</td>\n",
       "      <td>0x0b1d6565d88f9bf6473e21c2ab58d28a495d7bb5/1868</td>\n",
       "      <td>0xccb9d89e0f77df3618eec9f6bf899be3b5561a89/9248</td>\n",
       "      <td>0xccb9d89e0f77df3618eec9f6bf899be3b5561a89/9317</td>\n",
       "      <td>0x57f1887a8bf19b14fc0df6fd9b2acc9af147ea85/924...</td>\n",
       "      <td>0x57f1887a8bf19b14fc0df6fd9b2acc9af147ea85/111...</td>\n",
       "      <td>0x57f1887a8bf19b14fc0df6fd9b2acc9af147ea85/922...</td>\n",
       "      <td>0x57f1887a8bf19b14fc0df6fd9b2acc9af147ea85/441...</td>\n",
       "      <td>0x57f1887a8bf19b14fc0df6fd9b2acc9af147ea85/836...</td>\n",
       "      <td>0x57f1887a8bf19b14fc0df6fd9b2acc9af147ea85/757...</td>\n",
       "    </tr>\n",
       "    <tr>\n",
       "      <th>1601060</th>\n",
       "      <td>0xaa462106da447c0440a4be29614c19387a59a331/3839</td>\n",
       "      <td>0xccb9d89e0f77df3618eec9f6bf899be3b5561a89/16795</td>\n",
       "      <td>0x0b1d6565d88f9bf6473e21c2ab58d28a495d7bb5/1868</td>\n",
       "      <td>0xccb9d89e0f77df3618eec9f6bf899be3b5561a89/9248</td>\n",
       "      <td>0xccb9d89e0f77df3618eec9f6bf899be3b5561a89/9317</td>\n",
       "      <td>0x57f1887a8bf19b14fc0df6fd9b2acc9af147ea85/111...</td>\n",
       "      <td>0x57f1887a8bf19b14fc0df6fd9b2acc9af147ea85/924...</td>\n",
       "      <td>0x57f1887a8bf19b14fc0df6fd9b2acc9af147ea85/922...</td>\n",
       "      <td>0x57f1887a8bf19b14fc0df6fd9b2acc9af147ea85/441...</td>\n",
       "      <td>0x57f1887a8bf19b14fc0df6fd9b2acc9af147ea85/836...</td>\n",
       "      <td>0x57f1887a8bf19b14fc0df6fd9b2acc9af147ea85/757...</td>\n",
       "    </tr>\n",
       "    <tr>\n",
       "      <th>1142113</th>\n",
       "      <td>0xe21ebcd28d37a67757b9bc7b290f4c4928a430b1/5184</td>\n",
       "      <td>0x89686fcba3b65f4bdf96c3c69c2db099200f3fa6/1003</td>\n",
       "      <td>0x03e836cfddcaf8683751925308ae985734955b33/8421</td>\n",
       "      <td>0x03e836cfddcaf8683751925308ae985734955b33/8422</td>\n",
       "      <td>0x5f1cbe84d44e292fe3eae51b87f34bbdc8f04fc8/3366</td>\n",
       "      <td>0x5f1cbe84d44e292fe3eae51b87f34bbdc8f04fc8/946</td>\n",
       "      <td>0xffddd1bd34dbe1368def6b27d2893768c10175e3/2360</td>\n",
       "      <td>0xe8abee779aabdd0833ec688c9628f6bc9e63403e/2748</td>\n",
       "      <td>0x5f1cbe84d44e292fe3eae51b87f34bbdc8f04fc8/2493</td>\n",
       "      <td>0x3b2c32363f8a61de868708dc6d0054246b5c98dd/9682</td>\n",
       "      <td>0x89686fcba3b65f4bdf96c3c69c2db099200f3fa6/6974</td>\n",
       "    </tr>\n",
       "    <tr>\n",
       "      <th>1366523</th>\n",
       "      <td>0x4591c791790f352685a29111eca67abdc878863e/9984</td>\n",
       "      <td>0xccb9d89e0f77df3618eec9f6bf899be3b5561a89/16795</td>\n",
       "      <td>0x0b1d6565d88f9bf6473e21c2ab58d28a495d7bb5/1868</td>\n",
       "      <td>0xccb9d89e0f77df3618eec9f6bf899be3b5561a89/9248</td>\n",
       "      <td>0xccb9d89e0f77df3618eec9f6bf899be3b5561a89/9317</td>\n",
       "      <td>0x57f1887a8bf19b14fc0df6fd9b2acc9af147ea85/924...</td>\n",
       "      <td>0x57f1887a8bf19b14fc0df6fd9b2acc9af147ea85/111...</td>\n",
       "      <td>0x57f1887a8bf19b14fc0df6fd9b2acc9af147ea85/922...</td>\n",
       "      <td>0x57f1887a8bf19b14fc0df6fd9b2acc9af147ea85/441...</td>\n",
       "      <td>0x57f1887a8bf19b14fc0df6fd9b2acc9af147ea85/836...</td>\n",
       "      <td>0x57f1887a8bf19b14fc0df6fd9b2acc9af147ea85/757...</td>\n",
       "    </tr>\n",
       "    <tr>\n",
       "      <th>1644114</th>\n",
       "      <td>0x98779a737c6dea58c4b0e818a13188a5d09fb26c/219</td>\n",
       "      <td>0x98779a737c6dea58c4b0e818a13188a5d09fb26c/9127</td>\n",
       "      <td>0x98779a737c6dea58c4b0e818a13188a5d09fb26c/620</td>\n",
       "      <td>0x98779a737c6dea58c4b0e818a13188a5d09fb26c/7270</td>\n",
       "      <td>0x98779a737c6dea58c4b0e818a13188a5d09fb26c/6939</td>\n",
       "      <td>0x1ab8c55870a404e769868982645e81ab6ec76f7a/3537</td>\n",
       "      <td>0x247133f8145bd1e42589e326e2f5baaecac6f1e8/419</td>\n",
       "      <td>0xc86664e7d2608f881f796ee8e24fa9d4d7598406/767</td>\n",
       "      <td>0x8052a3765df60dff44eb911982c8ef1ca107ba1a/98</td>\n",
       "      <td>0xbd3f82a81c3f74542736765ce4fd579d177b6bc5/4728</td>\n",
       "      <td>0xbd3f82a81c3f74542736765ce4fd579d177b6bc5/5526</td>\n",
       "    </tr>\n",
       "    <tr>\n",
       "      <th>415084</th>\n",
       "      <td>0xed74cd768668c6dfcd629ba393a23943b19dbc06/2205</td>\n",
       "      <td>0x82cb9d20862641301c987f0b096086d32bc11b65/6414</td>\n",
       "      <td>0x23d236e8eff192ebfafa73ff153067240da6c500/1302</td>\n",
       "      <td>0x23d236e8eff192ebfafa73ff153067240da6c500/674</td>\n",
       "      <td>0xb852c6b5892256c264cc2c888ea462189154d8d7/1854</td>\n",
       "      <td>0x57f1887a8bf19b14fc0df6fd9b2acc9af147ea85/901...</td>\n",
       "      <td>0xed74cd768668c6dfcd629ba393a23943b19dbc06/3327</td>\n",
       "      <td>0x57f1887a8bf19b14fc0df6fd9b2acc9af147ea85/177...</td>\n",
       "      <td>0x28c6ea3f9cf9bc1a07a828fce1e7783261691b49/2409</td>\n",
       "      <td>0x57f1887a8bf19b14fc0df6fd9b2acc9af147ea85/231...</td>\n",
       "      <td>0x29b4ea6b1164c7cd8a3a0a1dc4ad88d1e0589124/4880</td>\n",
       "    </tr>\n",
       "    <tr>\n",
       "      <th>55534</th>\n",
       "      <td>0x57f1887a8bf19b14fc0df6fd9b2acc9af147ea85/967...</td>\n",
       "      <td>0x57f1887a8bf19b14fc0df6fd9b2acc9af147ea85/239...</td>\n",
       "      <td>0x57f1887a8bf19b14fc0df6fd9b2acc9af147ea85/369...</td>\n",
       "      <td>0x57f1887a8bf19b14fc0df6fd9b2acc9af147ea85/263...</td>\n",
       "      <td>0x57f1887a8bf19b14fc0df6fd9b2acc9af147ea85/923...</td>\n",
       "      <td>0x57f1887a8bf19b14fc0df6fd9b2acc9af147ea85/162...</td>\n",
       "      <td>0x57f1887a8bf19b14fc0df6fd9b2acc9af147ea85/102...</td>\n",
       "      <td>0x57f1887a8bf19b14fc0df6fd9b2acc9af147ea85/886...</td>\n",
       "      <td>0x57f1887a8bf19b14fc0df6fd9b2acc9af147ea85/112...</td>\n",
       "      <td>0x57f1887a8bf19b14fc0df6fd9b2acc9af147ea85/106...</td>\n",
       "      <td>0x57f1887a8bf19b14fc0df6fd9b2acc9af147ea85/700...</td>\n",
       "    </tr>\n",
       "    <tr>\n",
       "      <th>1081407</th>\n",
       "      <td>0xc3062023692b858879274ec8abeb86bc1eff7a1e/4347</td>\n",
       "      <td>0xc3062023692b858879274ec8abeb86bc1eff7a1e/945</td>\n",
       "      <td>0xd50faccb745b6983111bb95522e0e7889eb35724/5517</td>\n",
       "      <td>0xfca823de572ed9d65ae804bb638a486409dea391/6495</td>\n",
       "      <td>0x90085fb517a0b46676b3efc6a56e255cbd0f22b9/4079</td>\n",
       "      <td>0x9f9b2b8e268d06dc67f0f76627654b80e219e1d6/6780</td>\n",
       "      <td>0x3c6d92f1db872469c8dbc04ff6301b766214a712/968</td>\n",
       "      <td>0xddfc15ec4a1d1f1cf15dc047dd4f0cc24de0fc34/6996</td>\n",
       "      <td>0xd50faccb745b6983111bb95522e0e7889eb35724/7809</td>\n",
       "      <td>0x31d45de84fde2fb36575085e05754a4932dd5170/3854</td>\n",
       "      <td>0xfca823de572ed9d65ae804bb638a486409dea391/6341</td>\n",
       "    </tr>\n",
       "    <tr>\n",
       "      <th>243644</th>\n",
       "      <td>0xf220db48f0d3ca8a9833e0353e7497dbceae7ac6/7677</td>\n",
       "      <td>0x2912919719414a093deac78031e90ba493b8da34/1439</td>\n",
       "      <td>0x3cd859effbb3375acde3e2941c7e8e833221dfb1/8733</td>\n",
       "      <td>0x3cd859effbb3375acde3e2941c7e8e833221dfb1/8466</td>\n",
       "      <td>0xfcaecb01d2e095b2cf3e5293afd83bea5e9ff259/4381</td>\n",
       "      <td>0xeac6403e1db546edc25179eb403085212600bb3d/4568</td>\n",
       "      <td>0x3cd859effbb3375acde3e2941c7e8e833221dfb1/4320</td>\n",
       "      <td>0x19b86299c21505cdf59ce63740b240a9c822b5e4/7434</td>\n",
       "      <td>0x0ee80069c9b4993882fe0b3fc256260eff385982/4098</td>\n",
       "      <td>0x3cd859effbb3375acde3e2941c7e8e833221dfb1/9849</td>\n",
       "      <td>0x3cd859effbb3375acde3e2941c7e8e833221dfb1/9830</td>\n",
       "    </tr>\n",
       "    <tr>\n",
       "      <th>448251</th>\n",
       "      <td>0x7bd29408f11d2bfc23c34f18275bbf23bb716bc7/17601</td>\n",
       "      <td>0x57f1887a8bf19b14fc0df6fd9b2acc9af147ea85/129...</td>\n",
       "      <td>0x9ecea566716e98b96fdc1e6e947610ba03366d8f/2625</td>\n",
       "      <td>0x011c77fa577c500deedad364b8af9e8540b808c0/6452</td>\n",
       "      <td>0xc907ddb25a926d51784aedd4cf9c04e3eb5da12c/9389</td>\n",
       "      <td>0xc907ddb25a926d51784aedd4cf9c04e3eb5da12c/9392</td>\n",
       "      <td>0x7deda0afe6df3da6a85a87b371f8b464c30c6803/7489</td>\n",
       "      <td>0x7deda0afe6df3da6a85a87b371f8b464c30c6803/8857</td>\n",
       "      <td>0x9ecea566716e98b96fdc1e6e947610ba03366d8f/924</td>\n",
       "      <td>0x0a3d4f735898a66e621ab55c4e975db10cadf13e/1873</td>\n",
       "      <td>0x867ba3c89fb7c8f4d72068859c26d147f5330043/4028</td>\n",
       "    </tr>\n",
       "    <tr>\n",
       "      <th>474189</th>\n",
       "      <td>0xed74cd768668c6dfcd629ba393a23943b19dbc06/5911</td>\n",
       "      <td>0x845a007d9f283614f403a24e3eb3455f720559ca/4716</td>\n",
       "      <td>0x6728d91abacdbac2f326baa384513a523c21b80a/4678</td>\n",
       "      <td>0x5f1cbe84d44e292fe3eae51b87f34bbdc8f04fc8/4509</td>\n",
       "      <td>0xa1102b1acd17be19a1e7ab211379a34d8d0f7407/4405</td>\n",
       "      <td>0xa0768dc386712ed355f41d56bdbc05bfbb9c797b/2109</td>\n",
       "      <td>0x845a007d9f283614f403a24e3eb3455f720559ca/9914</td>\n",
       "      <td>0xa1102b1acd17be19a1e7ab211379a34d8d0f7407/3670</td>\n",
       "      <td>0x845a007d9f283614f403a24e3eb3455f720559ca/8940</td>\n",
       "      <td>0xa0768dc386712ed355f41d56bdbc05bfbb9c797b/6212</td>\n",
       "      <td>0xa1102b1acd17be19a1e7ab211379a34d8d0f7407/4612</td>\n",
       "    </tr>\n",
       "    <tr>\n",
       "      <th>1432833</th>\n",
       "      <td>0x8e5324d34ee9ab2ed84ac9ba237ca0433e89130c/3235</td>\n",
       "      <td>0x8e5324d34ee9ab2ed84ac9ba237ca0433e89130c/2715</td>\n",
       "      <td>0x8e5324d34ee9ab2ed84ac9ba237ca0433e89130c/266</td>\n",
       "      <td>0x8e5324d34ee9ab2ed84ac9ba237ca0433e89130c/1428</td>\n",
       "      <td>0x8e5324d34ee9ab2ed84ac9ba237ca0433e89130c/3245</td>\n",
       "      <td>0x8e5324d34ee9ab2ed84ac9ba237ca0433e89130c/6178</td>\n",
       "      <td>0x8e5324d34ee9ab2ed84ac9ba237ca0433e89130c/5816</td>\n",
       "      <td>0x8e5324d34ee9ab2ed84ac9ba237ca0433e89130c/6105</td>\n",
       "      <td>0x8e5324d34ee9ab2ed84ac9ba237ca0433e89130c/6070</td>\n",
       "      <td>0x8e5324d34ee9ab2ed84ac9ba237ca0433e89130c/6502</td>\n",
       "      <td>0x8e5324d34ee9ab2ed84ac9ba237ca0433e89130c/6484</td>\n",
       "    </tr>\n",
       "    <tr>\n",
       "      <th>841614</th>\n",
       "      <td>0x6e8273f3d292482891e7be48e763259af9a3f6bb/1592</td>\n",
       "      <td>0xd2b4423b313697c81f214696d8cd0b3af1de501e/1543</td>\n",
       "      <td>0x014b6a629d6d8deb6f2cde20e2d5a99d4a601fec/150</td>\n",
       "      <td>0xf8581210a6a5cb4821f1a85319f246c11067b84e/804</td>\n",
       "      <td>0xb1c59ce016934f055cc2ddadc19f40d495e4960a/4449</td>\n",
       "      <td>0xd2b4423b313697c81f214696d8cd0b3af1de501e/1542</td>\n",
       "      <td>0x6e8273f3d292482891e7be48e763259af9a3f6bb/2047</td>\n",
       "      <td>0x6e8273f3d292482891e7be48e763259af9a3f6bb/2168</td>\n",
       "      <td>0x6e8273f3d292482891e7be48e763259af9a3f6bb/1601</td>\n",
       "      <td>0x6e8273f3d292482891e7be48e763259af9a3f6bb/1258</td>\n",
       "      <td>0x6e8273f3d292482891e7be48e763259af9a3f6bb/909</td>\n",
       "    </tr>\n",
       "    <tr>\n",
       "      <th>1180601</th>\n",
       "      <td>0xe361f10965542ee57d39043c9c3972b77841f581/344</td>\n",
       "      <td>0x57f1887a8bf19b14fc0df6fd9b2acc9af147ea85/103...</td>\n",
       "      <td>0x57f1887a8bf19b14fc0df6fd9b2acc9af147ea85/101...</td>\n",
       "      <td>0x57f1887a8bf19b14fc0df6fd9b2acc9af147ea85/109...</td>\n",
       "      <td>0x57f1887a8bf19b14fc0df6fd9b2acc9af147ea85/113...</td>\n",
       "      <td>0x57f1887a8bf19b14fc0df6fd9b2acc9af147ea85/513...</td>\n",
       "      <td>0x57f1887a8bf19b14fc0df6fd9b2acc9af147ea85/268...</td>\n",
       "      <td>0x57f1887a8bf19b14fc0df6fd9b2acc9af147ea85/434...</td>\n",
       "      <td>0x57f1887a8bf19b14fc0df6fd9b2acc9af147ea85/134...</td>\n",
       "      <td>0x57f1887a8bf19b14fc0df6fd9b2acc9af147ea85/953...</td>\n",
       "      <td>0x40c345f02b56041d1d0ade97de5bb65158738ef3/942</td>\n",
       "    </tr>\n",
       "    <tr>\n",
       "      <th>1176690</th>\n",
       "      <td>0xe91ceaf5f93032f347ac16fa5b9356ad6aba54bc/3368</td>\n",
       "      <td>0xc0c30d6bbd74f5c11e255dd34bc2fa7af03122bf/1522</td>\n",
       "      <td>0x43ebbeda1ab50de58e2adbc071ab78d27864b5e4/2346</td>\n",
       "      <td>0x7093c9d9692b2f59796f9329cbb7bc282215d7d9/523</td>\n",
       "      <td>0xed2fa73a2d62f79eb6d9c15cd4e1ddc552ec3e80/1499</td>\n",
       "      <td>0x4ef3d9eab34783995bc394d569845585ac805ef8/5329</td>\n",
       "      <td>0x8ab8c42bf87ef3deaa33d2efebdc1e6d675ae32f/1370</td>\n",
       "      <td>0x8ab8c42bf87ef3deaa33d2efebdc1e6d675ae32f/1369</td>\n",
       "      <td>0xcb4307f1c3b5556256748ddf5b86e81258990b3c/5107</td>\n",
       "      <td>0x43ebbeda1ab50de58e2adbc071ab78d27864b5e4/2348</td>\n",
       "      <td>0xecc0140a81cd0b331091750a4420a33325e31f4a/1216</td>\n",
       "    </tr>\n",
       "    <tr>\n",
       "      <th>133712</th>\n",
       "      <td>0xb668beb1fa440f6cf2da0399f8c28cab993bdd65/1285</td>\n",
       "      <td>0x0b7600ca77fc257fe7eb432f87825cccc4590037/3249</td>\n",
       "      <td>0x7f9c2c1a1ff282748cba62d38d5acc801710f6d0/569</td>\n",
       "      <td>0xa06fda2caa66148603314451ba0f30c9c5d539e3/9615</td>\n",
       "      <td>0xf3e65ca116cb7869e5cfc8b4ce69f2f900121e1f/2304</td>\n",
       "      <td>0x323d0aa0b5be2f90728482e2e24ccd00d5419b84/375</td>\n",
       "      <td>0x323d0aa0b5be2f90728482e2e24ccd00d5419b84/376</td>\n",
       "      <td>0x323d0aa0b5be2f90728482e2e24ccd00d5419b84/377</td>\n",
       "      <td>0x323d0aa0b5be2f90728482e2e24ccd00d5419b84/378</td>\n",
       "      <td>0x323d0aa0b5be2f90728482e2e24ccd00d5419b84/380</td>\n",
       "      <td>0x323d0aa0b5be2f90728482e2e24ccd00d5419b84/381</td>\n",
       "    </tr>\n",
       "    <tr>\n",
       "      <th>1032222</th>\n",
       "      <td>0xaac2cb9f4561d924f7f45b47726f8b3752515ae5/5201</td>\n",
       "      <td>0xccb9d89e0f77df3618eec9f6bf899be3b5561a89/16795</td>\n",
       "      <td>0x0b1d6565d88f9bf6473e21c2ab58d28a495d7bb5/1868</td>\n",
       "      <td>0xccb9d89e0f77df3618eec9f6bf899be3b5561a89/9248</td>\n",
       "      <td>0xccb9d89e0f77df3618eec9f6bf899be3b5561a89/9317</td>\n",
       "      <td>0x57f1887a8bf19b14fc0df6fd9b2acc9af147ea85/111...</td>\n",
       "      <td>0x57f1887a8bf19b14fc0df6fd9b2acc9af147ea85/924...</td>\n",
       "      <td>0x57f1887a8bf19b14fc0df6fd9b2acc9af147ea85/441...</td>\n",
       "      <td>0x57f1887a8bf19b14fc0df6fd9b2acc9af147ea85/922...</td>\n",
       "      <td>0x57f1887a8bf19b14fc0df6fd9b2acc9af147ea85/836...</td>\n",
       "      <td>0x57f1887a8bf19b14fc0df6fd9b2acc9af147ea85/757...</td>\n",
       "    </tr>\n",
       "    <tr>\n",
       "      <th>1186984</th>\n",
       "      <td>0x05fe4e1c113272211fa00983f162d04cd202ff53/1375</td>\n",
       "      <td>0xccb9d89e0f77df3618eec9f6bf899be3b5561a89/13120</td>\n",
       "      <td>0x0b1d6565d88f9bf6473e21c2ab58d28a495d7bb5/1868</td>\n",
       "      <td>0xccb9d89e0f77df3618eec9f6bf899be3b5561a89/9248</td>\n",
       "      <td>0xccb9d89e0f77df3618eec9f6bf899be3b5561a89/9317</td>\n",
       "      <td>0x57f1887a8bf19b14fc0df6fd9b2acc9af147ea85/111...</td>\n",
       "      <td>0x57f1887a8bf19b14fc0df6fd9b2acc9af147ea85/924...</td>\n",
       "      <td>0x57f1887a8bf19b14fc0df6fd9b2acc9af147ea85/441...</td>\n",
       "      <td>0x57f1887a8bf19b14fc0df6fd9b2acc9af147ea85/922...</td>\n",
       "      <td>0x57f1887a8bf19b14fc0df6fd9b2acc9af147ea85/836...</td>\n",
       "      <td>0x57f1887a8bf19b14fc0df6fd9b2acc9af147ea85/757...</td>\n",
       "    </tr>\n",
       "    <tr>\n",
       "      <th>194453</th>\n",
       "      <td>0x193616faf0f51b454fabe38088616a1fd5a5d85e/1285</td>\n",
       "      <td>0xccb9d89e0f77df3618eec9f6bf899be3b5561a89/13120</td>\n",
       "      <td>0x0b1d6565d88f9bf6473e21c2ab58d28a495d7bb5/1868</td>\n",
       "      <td>0xccb9d89e0f77df3618eec9f6bf899be3b5561a89/9248</td>\n",
       "      <td>0xccb9d89e0f77df3618eec9f6bf899be3b5561a89/9317</td>\n",
       "      <td>0x57f1887a8bf19b14fc0df6fd9b2acc9af147ea85/924...</td>\n",
       "      <td>0x57f1887a8bf19b14fc0df6fd9b2acc9af147ea85/111...</td>\n",
       "      <td>0x57f1887a8bf19b14fc0df6fd9b2acc9af147ea85/922...</td>\n",
       "      <td>0x57f1887a8bf19b14fc0df6fd9b2acc9af147ea85/441...</td>\n",
       "      <td>0x57f1887a8bf19b14fc0df6fd9b2acc9af147ea85/836...</td>\n",
       "      <td>0x57f1887a8bf19b14fc0df6fd9b2acc9af147ea85/757...</td>\n",
       "    </tr>\n",
       "    <tr>\n",
       "      <th>1319515</th>\n",
       "      <td>0x3c6d92f1db872469c8dbc04ff6301b766214a712/1709</td>\n",
       "      <td>0x3c6d92f1db872469c8dbc04ff6301b766214a712/3988</td>\n",
       "      <td>0x3c6d92f1db872469c8dbc04ff6301b766214a712/4439</td>\n",
       "      <td>0x3c6d92f1db872469c8dbc04ff6301b766214a712/183</td>\n",
       "      <td>0x3c6d92f1db872469c8dbc04ff6301b766214a712/3260</td>\n",
       "      <td>0x6c0fd5e012e5819e89bbefc2325d1a03f7e79785/1284</td>\n",
       "      <td>0xdcaf23e44639daf29f6532da213999d737f15aa4/550</td>\n",
       "      <td>0x33857ad1031122a00a68e6bf9ac4475ba6c6f8be/144</td>\n",
       "      <td>0x9eaaf84ca9878736d0d7329f860d574a8e83551c/2753</td>\n",
       "      <td>0x33857ad1031122a00a68e6bf9ac4475ba6c6f8be/3824</td>\n",
       "      <td>0xbe6d1fbfd71b1a5a2f546df5dc0fa3b080626be8/1821</td>\n",
       "    </tr>\n",
       "  </tbody>\n",
       "</table>\n",
       "</div>"
      ],
      "text/plain": [
       "                                                    nft_id  \\\n",
       "1574269    0xe17827609ac34443b3987661f4e037642f6bd9ba/7734   \n",
       "1601060    0xaa462106da447c0440a4be29614c19387a59a331/3839   \n",
       "1142113    0xe21ebcd28d37a67757b9bc7b290f4c4928a430b1/5184   \n",
       "1366523    0x4591c791790f352685a29111eca67abdc878863e/9984   \n",
       "1644114     0x98779a737c6dea58c4b0e818a13188a5d09fb26c/219   \n",
       "415084     0xed74cd768668c6dfcd629ba393a23943b19dbc06/2205   \n",
       "55534    0x57f1887a8bf19b14fc0df6fd9b2acc9af147ea85/967...   \n",
       "1081407    0xc3062023692b858879274ec8abeb86bc1eff7a1e/4347   \n",
       "243644     0xf220db48f0d3ca8a9833e0353e7497dbceae7ac6/7677   \n",
       "448251    0x7bd29408f11d2bfc23c34f18275bbf23bb716bc7/17601   \n",
       "474189     0xed74cd768668c6dfcd629ba393a23943b19dbc06/5911   \n",
       "1432833    0x8e5324d34ee9ab2ed84ac9ba237ca0433e89130c/3235   \n",
       "841614     0x6e8273f3d292482891e7be48e763259af9a3f6bb/1592   \n",
       "1180601     0xe361f10965542ee57d39043c9c3972b77841f581/344   \n",
       "1176690    0xe91ceaf5f93032f347ac16fa5b9356ad6aba54bc/3368   \n",
       "133712     0xb668beb1fa440f6cf2da0399f8c28cab993bdd65/1285   \n",
       "1032222    0xaac2cb9f4561d924f7f45b47726f8b3752515ae5/5201   \n",
       "1186984    0x05fe4e1c113272211fa00983f162d04cd202ff53/1375   \n",
       "194453     0x193616faf0f51b454fabe38088616a1fd5a5d85e/1285   \n",
       "1319515    0x3c6d92f1db872469c8dbc04ff6301b766214a712/1709   \n",
       "\n",
       "                                              sim_nft_id_1  \\\n",
       "1574269   0xccb9d89e0f77df3618eec9f6bf899be3b5561a89/13120   \n",
       "1601060   0xccb9d89e0f77df3618eec9f6bf899be3b5561a89/16795   \n",
       "1142113    0x89686fcba3b65f4bdf96c3c69c2db099200f3fa6/1003   \n",
       "1366523   0xccb9d89e0f77df3618eec9f6bf899be3b5561a89/16795   \n",
       "1644114    0x98779a737c6dea58c4b0e818a13188a5d09fb26c/9127   \n",
       "415084     0x82cb9d20862641301c987f0b096086d32bc11b65/6414   \n",
       "55534    0x57f1887a8bf19b14fc0df6fd9b2acc9af147ea85/239...   \n",
       "1081407     0xc3062023692b858879274ec8abeb86bc1eff7a1e/945   \n",
       "243644     0x2912919719414a093deac78031e90ba493b8da34/1439   \n",
       "448251   0x57f1887a8bf19b14fc0df6fd9b2acc9af147ea85/129...   \n",
       "474189     0x845a007d9f283614f403a24e3eb3455f720559ca/4716   \n",
       "1432833    0x8e5324d34ee9ab2ed84ac9ba237ca0433e89130c/2715   \n",
       "841614     0xd2b4423b313697c81f214696d8cd0b3af1de501e/1543   \n",
       "1180601  0x57f1887a8bf19b14fc0df6fd9b2acc9af147ea85/103...   \n",
       "1176690    0xc0c30d6bbd74f5c11e255dd34bc2fa7af03122bf/1522   \n",
       "133712     0x0b7600ca77fc257fe7eb432f87825cccc4590037/3249   \n",
       "1032222   0xccb9d89e0f77df3618eec9f6bf899be3b5561a89/16795   \n",
       "1186984   0xccb9d89e0f77df3618eec9f6bf899be3b5561a89/13120   \n",
       "194453    0xccb9d89e0f77df3618eec9f6bf899be3b5561a89/13120   \n",
       "1319515    0x3c6d92f1db872469c8dbc04ff6301b766214a712/3988   \n",
       "\n",
       "                                              sim_nft_id_2  \\\n",
       "1574269    0x0b1d6565d88f9bf6473e21c2ab58d28a495d7bb5/1868   \n",
       "1601060    0x0b1d6565d88f9bf6473e21c2ab58d28a495d7bb5/1868   \n",
       "1142113    0x03e836cfddcaf8683751925308ae985734955b33/8421   \n",
       "1366523    0x0b1d6565d88f9bf6473e21c2ab58d28a495d7bb5/1868   \n",
       "1644114     0x98779a737c6dea58c4b0e818a13188a5d09fb26c/620   \n",
       "415084     0x23d236e8eff192ebfafa73ff153067240da6c500/1302   \n",
       "55534    0x57f1887a8bf19b14fc0df6fd9b2acc9af147ea85/369...   \n",
       "1081407    0xd50faccb745b6983111bb95522e0e7889eb35724/5517   \n",
       "243644     0x3cd859effbb3375acde3e2941c7e8e833221dfb1/8733   \n",
       "448251     0x9ecea566716e98b96fdc1e6e947610ba03366d8f/2625   \n",
       "474189     0x6728d91abacdbac2f326baa384513a523c21b80a/4678   \n",
       "1432833     0x8e5324d34ee9ab2ed84ac9ba237ca0433e89130c/266   \n",
       "841614      0x014b6a629d6d8deb6f2cde20e2d5a99d4a601fec/150   \n",
       "1180601  0x57f1887a8bf19b14fc0df6fd9b2acc9af147ea85/101...   \n",
       "1176690    0x43ebbeda1ab50de58e2adbc071ab78d27864b5e4/2346   \n",
       "133712      0x7f9c2c1a1ff282748cba62d38d5acc801710f6d0/569   \n",
       "1032222    0x0b1d6565d88f9bf6473e21c2ab58d28a495d7bb5/1868   \n",
       "1186984    0x0b1d6565d88f9bf6473e21c2ab58d28a495d7bb5/1868   \n",
       "194453     0x0b1d6565d88f9bf6473e21c2ab58d28a495d7bb5/1868   \n",
       "1319515    0x3c6d92f1db872469c8dbc04ff6301b766214a712/4439   \n",
       "\n",
       "                                              sim_nft_id_3  \\\n",
       "1574269    0xccb9d89e0f77df3618eec9f6bf899be3b5561a89/9248   \n",
       "1601060    0xccb9d89e0f77df3618eec9f6bf899be3b5561a89/9248   \n",
       "1142113    0x03e836cfddcaf8683751925308ae985734955b33/8422   \n",
       "1366523    0xccb9d89e0f77df3618eec9f6bf899be3b5561a89/9248   \n",
       "1644114    0x98779a737c6dea58c4b0e818a13188a5d09fb26c/7270   \n",
       "415084      0x23d236e8eff192ebfafa73ff153067240da6c500/674   \n",
       "55534    0x57f1887a8bf19b14fc0df6fd9b2acc9af147ea85/263...   \n",
       "1081407    0xfca823de572ed9d65ae804bb638a486409dea391/6495   \n",
       "243644     0x3cd859effbb3375acde3e2941c7e8e833221dfb1/8466   \n",
       "448251     0x011c77fa577c500deedad364b8af9e8540b808c0/6452   \n",
       "474189     0x5f1cbe84d44e292fe3eae51b87f34bbdc8f04fc8/4509   \n",
       "1432833    0x8e5324d34ee9ab2ed84ac9ba237ca0433e89130c/1428   \n",
       "841614      0xf8581210a6a5cb4821f1a85319f246c11067b84e/804   \n",
       "1180601  0x57f1887a8bf19b14fc0df6fd9b2acc9af147ea85/109...   \n",
       "1176690     0x7093c9d9692b2f59796f9329cbb7bc282215d7d9/523   \n",
       "133712     0xa06fda2caa66148603314451ba0f30c9c5d539e3/9615   \n",
       "1032222    0xccb9d89e0f77df3618eec9f6bf899be3b5561a89/9248   \n",
       "1186984    0xccb9d89e0f77df3618eec9f6bf899be3b5561a89/9248   \n",
       "194453     0xccb9d89e0f77df3618eec9f6bf899be3b5561a89/9248   \n",
       "1319515     0x3c6d92f1db872469c8dbc04ff6301b766214a712/183   \n",
       "\n",
       "                                              sim_nft_id_4  \\\n",
       "1574269    0xccb9d89e0f77df3618eec9f6bf899be3b5561a89/9317   \n",
       "1601060    0xccb9d89e0f77df3618eec9f6bf899be3b5561a89/9317   \n",
       "1142113    0x5f1cbe84d44e292fe3eae51b87f34bbdc8f04fc8/3366   \n",
       "1366523    0xccb9d89e0f77df3618eec9f6bf899be3b5561a89/9317   \n",
       "1644114    0x98779a737c6dea58c4b0e818a13188a5d09fb26c/6939   \n",
       "415084     0xb852c6b5892256c264cc2c888ea462189154d8d7/1854   \n",
       "55534    0x57f1887a8bf19b14fc0df6fd9b2acc9af147ea85/923...   \n",
       "1081407    0x90085fb517a0b46676b3efc6a56e255cbd0f22b9/4079   \n",
       "243644     0xfcaecb01d2e095b2cf3e5293afd83bea5e9ff259/4381   \n",
       "448251     0xc907ddb25a926d51784aedd4cf9c04e3eb5da12c/9389   \n",
       "474189     0xa1102b1acd17be19a1e7ab211379a34d8d0f7407/4405   \n",
       "1432833    0x8e5324d34ee9ab2ed84ac9ba237ca0433e89130c/3245   \n",
       "841614     0xb1c59ce016934f055cc2ddadc19f40d495e4960a/4449   \n",
       "1180601  0x57f1887a8bf19b14fc0df6fd9b2acc9af147ea85/113...   \n",
       "1176690    0xed2fa73a2d62f79eb6d9c15cd4e1ddc552ec3e80/1499   \n",
       "133712     0xf3e65ca116cb7869e5cfc8b4ce69f2f900121e1f/2304   \n",
       "1032222    0xccb9d89e0f77df3618eec9f6bf899be3b5561a89/9317   \n",
       "1186984    0xccb9d89e0f77df3618eec9f6bf899be3b5561a89/9317   \n",
       "194453     0xccb9d89e0f77df3618eec9f6bf899be3b5561a89/9317   \n",
       "1319515    0x3c6d92f1db872469c8dbc04ff6301b766214a712/3260   \n",
       "\n",
       "                                              sim_nft_id_5  \\\n",
       "1574269  0x57f1887a8bf19b14fc0df6fd9b2acc9af147ea85/924...   \n",
       "1601060  0x57f1887a8bf19b14fc0df6fd9b2acc9af147ea85/111...   \n",
       "1142113     0x5f1cbe84d44e292fe3eae51b87f34bbdc8f04fc8/946   \n",
       "1366523  0x57f1887a8bf19b14fc0df6fd9b2acc9af147ea85/924...   \n",
       "1644114    0x1ab8c55870a404e769868982645e81ab6ec76f7a/3537   \n",
       "415084   0x57f1887a8bf19b14fc0df6fd9b2acc9af147ea85/901...   \n",
       "55534    0x57f1887a8bf19b14fc0df6fd9b2acc9af147ea85/162...   \n",
       "1081407    0x9f9b2b8e268d06dc67f0f76627654b80e219e1d6/6780   \n",
       "243644     0xeac6403e1db546edc25179eb403085212600bb3d/4568   \n",
       "448251     0xc907ddb25a926d51784aedd4cf9c04e3eb5da12c/9392   \n",
       "474189     0xa0768dc386712ed355f41d56bdbc05bfbb9c797b/2109   \n",
       "1432833    0x8e5324d34ee9ab2ed84ac9ba237ca0433e89130c/6178   \n",
       "841614     0xd2b4423b313697c81f214696d8cd0b3af1de501e/1542   \n",
       "1180601  0x57f1887a8bf19b14fc0df6fd9b2acc9af147ea85/513...   \n",
       "1176690    0x4ef3d9eab34783995bc394d569845585ac805ef8/5329   \n",
       "133712      0x323d0aa0b5be2f90728482e2e24ccd00d5419b84/375   \n",
       "1032222  0x57f1887a8bf19b14fc0df6fd9b2acc9af147ea85/111...   \n",
       "1186984  0x57f1887a8bf19b14fc0df6fd9b2acc9af147ea85/111...   \n",
       "194453   0x57f1887a8bf19b14fc0df6fd9b2acc9af147ea85/924...   \n",
       "1319515    0x6c0fd5e012e5819e89bbefc2325d1a03f7e79785/1284   \n",
       "\n",
       "                                              sim_nft_id_6  \\\n",
       "1574269  0x57f1887a8bf19b14fc0df6fd9b2acc9af147ea85/111...   \n",
       "1601060  0x57f1887a8bf19b14fc0df6fd9b2acc9af147ea85/924...   \n",
       "1142113    0xffddd1bd34dbe1368def6b27d2893768c10175e3/2360   \n",
       "1366523  0x57f1887a8bf19b14fc0df6fd9b2acc9af147ea85/111...   \n",
       "1644114     0x247133f8145bd1e42589e326e2f5baaecac6f1e8/419   \n",
       "415084     0xed74cd768668c6dfcd629ba393a23943b19dbc06/3327   \n",
       "55534    0x57f1887a8bf19b14fc0df6fd9b2acc9af147ea85/102...   \n",
       "1081407     0x3c6d92f1db872469c8dbc04ff6301b766214a712/968   \n",
       "243644     0x3cd859effbb3375acde3e2941c7e8e833221dfb1/4320   \n",
       "448251     0x7deda0afe6df3da6a85a87b371f8b464c30c6803/7489   \n",
       "474189     0x845a007d9f283614f403a24e3eb3455f720559ca/9914   \n",
       "1432833    0x8e5324d34ee9ab2ed84ac9ba237ca0433e89130c/5816   \n",
       "841614     0x6e8273f3d292482891e7be48e763259af9a3f6bb/2047   \n",
       "1180601  0x57f1887a8bf19b14fc0df6fd9b2acc9af147ea85/268...   \n",
       "1176690    0x8ab8c42bf87ef3deaa33d2efebdc1e6d675ae32f/1370   \n",
       "133712      0x323d0aa0b5be2f90728482e2e24ccd00d5419b84/376   \n",
       "1032222  0x57f1887a8bf19b14fc0df6fd9b2acc9af147ea85/924...   \n",
       "1186984  0x57f1887a8bf19b14fc0df6fd9b2acc9af147ea85/924...   \n",
       "194453   0x57f1887a8bf19b14fc0df6fd9b2acc9af147ea85/111...   \n",
       "1319515     0xdcaf23e44639daf29f6532da213999d737f15aa4/550   \n",
       "\n",
       "                                              sim_nft_id_7  \\\n",
       "1574269  0x57f1887a8bf19b14fc0df6fd9b2acc9af147ea85/922...   \n",
       "1601060  0x57f1887a8bf19b14fc0df6fd9b2acc9af147ea85/922...   \n",
       "1142113    0xe8abee779aabdd0833ec688c9628f6bc9e63403e/2748   \n",
       "1366523  0x57f1887a8bf19b14fc0df6fd9b2acc9af147ea85/922...   \n",
       "1644114     0xc86664e7d2608f881f796ee8e24fa9d4d7598406/767   \n",
       "415084   0x57f1887a8bf19b14fc0df6fd9b2acc9af147ea85/177...   \n",
       "55534    0x57f1887a8bf19b14fc0df6fd9b2acc9af147ea85/886...   \n",
       "1081407    0xddfc15ec4a1d1f1cf15dc047dd4f0cc24de0fc34/6996   \n",
       "243644     0x19b86299c21505cdf59ce63740b240a9c822b5e4/7434   \n",
       "448251     0x7deda0afe6df3da6a85a87b371f8b464c30c6803/8857   \n",
       "474189     0xa1102b1acd17be19a1e7ab211379a34d8d0f7407/3670   \n",
       "1432833    0x8e5324d34ee9ab2ed84ac9ba237ca0433e89130c/6105   \n",
       "841614     0x6e8273f3d292482891e7be48e763259af9a3f6bb/2168   \n",
       "1180601  0x57f1887a8bf19b14fc0df6fd9b2acc9af147ea85/434...   \n",
       "1176690    0x8ab8c42bf87ef3deaa33d2efebdc1e6d675ae32f/1369   \n",
       "133712      0x323d0aa0b5be2f90728482e2e24ccd00d5419b84/377   \n",
       "1032222  0x57f1887a8bf19b14fc0df6fd9b2acc9af147ea85/441...   \n",
       "1186984  0x57f1887a8bf19b14fc0df6fd9b2acc9af147ea85/441...   \n",
       "194453   0x57f1887a8bf19b14fc0df6fd9b2acc9af147ea85/922...   \n",
       "1319515     0x33857ad1031122a00a68e6bf9ac4475ba6c6f8be/144   \n",
       "\n",
       "                                              sim_nft_id_8  \\\n",
       "1574269  0x57f1887a8bf19b14fc0df6fd9b2acc9af147ea85/441...   \n",
       "1601060  0x57f1887a8bf19b14fc0df6fd9b2acc9af147ea85/441...   \n",
       "1142113    0x5f1cbe84d44e292fe3eae51b87f34bbdc8f04fc8/2493   \n",
       "1366523  0x57f1887a8bf19b14fc0df6fd9b2acc9af147ea85/441...   \n",
       "1644114      0x8052a3765df60dff44eb911982c8ef1ca107ba1a/98   \n",
       "415084     0x28c6ea3f9cf9bc1a07a828fce1e7783261691b49/2409   \n",
       "55534    0x57f1887a8bf19b14fc0df6fd9b2acc9af147ea85/112...   \n",
       "1081407    0xd50faccb745b6983111bb95522e0e7889eb35724/7809   \n",
       "243644     0x0ee80069c9b4993882fe0b3fc256260eff385982/4098   \n",
       "448251      0x9ecea566716e98b96fdc1e6e947610ba03366d8f/924   \n",
       "474189     0x845a007d9f283614f403a24e3eb3455f720559ca/8940   \n",
       "1432833    0x8e5324d34ee9ab2ed84ac9ba237ca0433e89130c/6070   \n",
       "841614     0x6e8273f3d292482891e7be48e763259af9a3f6bb/1601   \n",
       "1180601  0x57f1887a8bf19b14fc0df6fd9b2acc9af147ea85/134...   \n",
       "1176690    0xcb4307f1c3b5556256748ddf5b86e81258990b3c/5107   \n",
       "133712      0x323d0aa0b5be2f90728482e2e24ccd00d5419b84/378   \n",
       "1032222  0x57f1887a8bf19b14fc0df6fd9b2acc9af147ea85/922...   \n",
       "1186984  0x57f1887a8bf19b14fc0df6fd9b2acc9af147ea85/922...   \n",
       "194453   0x57f1887a8bf19b14fc0df6fd9b2acc9af147ea85/441...   \n",
       "1319515    0x9eaaf84ca9878736d0d7329f860d574a8e83551c/2753   \n",
       "\n",
       "                                              sim_nft_id_9  \\\n",
       "1574269  0x57f1887a8bf19b14fc0df6fd9b2acc9af147ea85/836...   \n",
       "1601060  0x57f1887a8bf19b14fc0df6fd9b2acc9af147ea85/836...   \n",
       "1142113    0x3b2c32363f8a61de868708dc6d0054246b5c98dd/9682   \n",
       "1366523  0x57f1887a8bf19b14fc0df6fd9b2acc9af147ea85/836...   \n",
       "1644114    0xbd3f82a81c3f74542736765ce4fd579d177b6bc5/4728   \n",
       "415084   0x57f1887a8bf19b14fc0df6fd9b2acc9af147ea85/231...   \n",
       "55534    0x57f1887a8bf19b14fc0df6fd9b2acc9af147ea85/106...   \n",
       "1081407    0x31d45de84fde2fb36575085e05754a4932dd5170/3854   \n",
       "243644     0x3cd859effbb3375acde3e2941c7e8e833221dfb1/9849   \n",
       "448251     0x0a3d4f735898a66e621ab55c4e975db10cadf13e/1873   \n",
       "474189     0xa0768dc386712ed355f41d56bdbc05bfbb9c797b/6212   \n",
       "1432833    0x8e5324d34ee9ab2ed84ac9ba237ca0433e89130c/6502   \n",
       "841614     0x6e8273f3d292482891e7be48e763259af9a3f6bb/1258   \n",
       "1180601  0x57f1887a8bf19b14fc0df6fd9b2acc9af147ea85/953...   \n",
       "1176690    0x43ebbeda1ab50de58e2adbc071ab78d27864b5e4/2348   \n",
       "133712      0x323d0aa0b5be2f90728482e2e24ccd00d5419b84/380   \n",
       "1032222  0x57f1887a8bf19b14fc0df6fd9b2acc9af147ea85/836...   \n",
       "1186984  0x57f1887a8bf19b14fc0df6fd9b2acc9af147ea85/836...   \n",
       "194453   0x57f1887a8bf19b14fc0df6fd9b2acc9af147ea85/836...   \n",
       "1319515    0x33857ad1031122a00a68e6bf9ac4475ba6c6f8be/3824   \n",
       "\n",
       "                                             sim_nft_id_10  \n",
       "1574269  0x57f1887a8bf19b14fc0df6fd9b2acc9af147ea85/757...  \n",
       "1601060  0x57f1887a8bf19b14fc0df6fd9b2acc9af147ea85/757...  \n",
       "1142113    0x89686fcba3b65f4bdf96c3c69c2db099200f3fa6/6974  \n",
       "1366523  0x57f1887a8bf19b14fc0df6fd9b2acc9af147ea85/757...  \n",
       "1644114    0xbd3f82a81c3f74542736765ce4fd579d177b6bc5/5526  \n",
       "415084     0x29b4ea6b1164c7cd8a3a0a1dc4ad88d1e0589124/4880  \n",
       "55534    0x57f1887a8bf19b14fc0df6fd9b2acc9af147ea85/700...  \n",
       "1081407    0xfca823de572ed9d65ae804bb638a486409dea391/6341  \n",
       "243644     0x3cd859effbb3375acde3e2941c7e8e833221dfb1/9830  \n",
       "448251     0x867ba3c89fb7c8f4d72068859c26d147f5330043/4028  \n",
       "474189     0xa1102b1acd17be19a1e7ab211379a34d8d0f7407/4612  \n",
       "1432833    0x8e5324d34ee9ab2ed84ac9ba237ca0433e89130c/6484  \n",
       "841614      0x6e8273f3d292482891e7be48e763259af9a3f6bb/909  \n",
       "1180601     0x40c345f02b56041d1d0ade97de5bb65158738ef3/942  \n",
       "1176690    0xecc0140a81cd0b331091750a4420a33325e31f4a/1216  \n",
       "133712      0x323d0aa0b5be2f90728482e2e24ccd00d5419b84/381  \n",
       "1032222  0x57f1887a8bf19b14fc0df6fd9b2acc9af147ea85/757...  \n",
       "1186984  0x57f1887a8bf19b14fc0df6fd9b2acc9af147ea85/757...  \n",
       "194453   0x57f1887a8bf19b14fc0df6fd9b2acc9af147ea85/757...  \n",
       "1319515    0xbe6d1fbfd71b1a5a2f546df5dc0fa3b080626be8/1821  "
      ]
     },
     "execution_count": 59,
     "metadata": {},
     "output_type": "execute_result"
    }
   ],
   "source": [
    "random_samples"
   ]
  },
  {
   "cell_type": "code",
   "execution_count": 60,
   "id": "56fd025c",
   "metadata": {},
   "outputs": [],
   "source": [
    "def get_html_data(url: str) -> str or None:\n",
    "    \"\"\"Gets html text from URL\n",
    "\n",
    "    Args:\n",
    "        url: URL of the web page to crawl\n",
    "\n",
    "    Returns:\n",
    "        The string format of html file\n",
    "    \"\"\"\n",
    "\n",
    "    response = requests.get(url, headers={\"User-Agent\":\"Mozilla/5.0\"})\n",
    "    if response.status_code == 200:\n",
    "        return response.content\n",
    "    else:\n",
    "        return None"
   ]
  },
  {
   "cell_type": "code",
   "execution_count": 53,
   "id": "b34b4ed3",
   "metadata": {},
   "outputs": [],
   "source": [
    "def get_image_url_from_Opensea(html_data: str) -> str or None:\n",
    "    \"\"\"Finds and returns NFT image URL from an Opensea html\n",
    "\n",
    "    Args:\n",
    "        html_data: html of a web page to crawl in string\n",
    "\n",
    "    Returns:\n",
    "        Image URL in str for the NFT if it exists on Opensea\n",
    "            or None otherwise\n",
    "    \"\"\"\n",
    "\n",
    "    soup = BeautifulSoup(html_data, 'html.parser')\n",
    "    image = soup.find(\"img\", class_=\"Image--image\")\n",
    "    if image is not None:\n",
    "        return image[\"src\"]\n",
    "    else:\n",
    "        return None"
   ]
  },
  {
   "cell_type": "code",
   "execution_count": 61,
   "id": "584b8eb0",
   "metadata": {},
   "outputs": [
    {
     "name": "stdout",
     "output_type": "stream",
     "text": [
      "Sample 1574269\n",
      "https://opensea.io/assets/ethereum/0xe17827609ac34443b3987661f4e037642f6bd9ba/7734\n",
      "https://i.seadn.io/gae/BRG1pPHfyo1yH3mpjS5tkPG8CI7AWAh9TbcFpdDfmKPihRnM7LkqdbFUlAE1GTDeP00N9ZZXmAfyBoLWF4KPFnFui1G7a7foNi4-_A?auto=format&w=1000\n"
     ]
    },
    {
     "data": {
      "text/html": [
       "<img src=\"https://i.seadn.io/gae/BRG1pPHfyo1yH3mpjS5tkPG8CI7AWAh9TbcFpdDfmKPihRnM7LkqdbFUlAE1GTDeP00N9ZZXmAfyBoLWF4KPFnFui1G7a7foNi4-_A?auto=format&w=1000\" width=\"200\"/>"
      ],
      "text/plain": [
       "<IPython.core.display.Image object>"
      ]
     },
     "metadata": {},
     "output_type": "display_data"
    },
    {
     "name": "stdout",
     "output_type": "stream",
     "text": [
      "https://opensea.io/assets/ethereum/0xccb9d89e0f77df3618eec9f6bf899be3b5561a89/13120\n",
      "https://i.seadn.io/gae/OTz0UPh8ScBoS_y7fRJYbNOyfgLrJdopt1MxLVCGnrDTGecJZ5iEMnvF0jaPIypGq_k2iYwDe7HOecE2Zos4StkPL9H1AAo2j_9DJw?auto=format&w=1000\n"
     ]
    },
    {
     "data": {
      "text/html": [
       "<img src=\"https://i.seadn.io/gae/OTz0UPh8ScBoS_y7fRJYbNOyfgLrJdopt1MxLVCGnrDTGecJZ5iEMnvF0jaPIypGq_k2iYwDe7HOecE2Zos4StkPL9H1AAo2j_9DJw?auto=format&w=1000\" width=\"200\"/>"
      ],
      "text/plain": [
       "<IPython.core.display.Image object>"
      ]
     },
     "metadata": {},
     "output_type": "display_data"
    },
    {
     "name": "stdout",
     "output_type": "stream",
     "text": [
      "https://opensea.io/assets/ethereum/0x0b1d6565d88f9bf6473e21c2ab58d28a495d7bb5/1868\n",
      "https://i.seadn.io/gae/JW8KQwiuQ1aaxef3r0whjU3BvbvwFcLy5mTRfVSQn85c28nqy4utVWYgFRx-uBo_XV1O2Xln0yWRcXClUWVU9ehgc0MqhNjWocFz2Q?auto=format&w=1000\n"
     ]
    },
    {
     "data": {
      "text/html": [
       "<img src=\"https://i.seadn.io/gae/JW8KQwiuQ1aaxef3r0whjU3BvbvwFcLy5mTRfVSQn85c28nqy4utVWYgFRx-uBo_XV1O2Xln0yWRcXClUWVU9ehgc0MqhNjWocFz2Q?auto=format&w=1000\" width=\"200\"/>"
      ],
      "text/plain": [
       "<IPython.core.display.Image object>"
      ]
     },
     "metadata": {},
     "output_type": "display_data"
    },
    {
     "name": "stdout",
     "output_type": "stream",
     "text": [
      "https://opensea.io/assets/ethereum/0xccb9d89e0f77df3618eec9f6bf899be3b5561a89/9248\n",
      "https://i.seadn.io/gae/OTz0UPh8ScBoS_y7fRJYbNOyfgLrJdopt1MxLVCGnrDTGecJZ5iEMnvF0jaPIypGq_k2iYwDe7HOecE2Zos4StkPL9H1AAo2j_9DJw?auto=format&w=1000\n"
     ]
    },
    {
     "data": {
      "text/html": [
       "<img src=\"https://i.seadn.io/gae/OTz0UPh8ScBoS_y7fRJYbNOyfgLrJdopt1MxLVCGnrDTGecJZ5iEMnvF0jaPIypGq_k2iYwDe7HOecE2Zos4StkPL9H1AAo2j_9DJw?auto=format&w=1000\" width=\"200\"/>"
      ],
      "text/plain": [
       "<IPython.core.display.Image object>"
      ]
     },
     "metadata": {},
     "output_type": "display_data"
    },
    {
     "name": "stdout",
     "output_type": "stream",
     "text": [
      "https://opensea.io/assets/ethereum/0xccb9d89e0f77df3618eec9f6bf899be3b5561a89/9317\n",
      "https://i.seadn.io/gae/OTz0UPh8ScBoS_y7fRJYbNOyfgLrJdopt1MxLVCGnrDTGecJZ5iEMnvF0jaPIypGq_k2iYwDe7HOecE2Zos4StkPL9H1AAo2j_9DJw?auto=format&w=1000\n"
     ]
    },
    {
     "data": {
      "text/html": [
       "<img src=\"https://i.seadn.io/gae/OTz0UPh8ScBoS_y7fRJYbNOyfgLrJdopt1MxLVCGnrDTGecJZ5iEMnvF0jaPIypGq_k2iYwDe7HOecE2Zos4StkPL9H1AAo2j_9DJw?auto=format&w=1000\" width=\"200\"/>"
      ],
      "text/plain": [
       "<IPython.core.display.Image object>"
      ]
     },
     "metadata": {},
     "output_type": "display_data"
    },
    {
     "name": "stdout",
     "output_type": "stream",
     "text": [
      "https://opensea.io/assets/ethereum/0x57f1887a8bf19b14fc0df6fd9b2acc9af147ea85/92414454883234172887579282723781215083076584435211629312965528044662367033239\n",
      "https://img.seadn.io/files/5ac2d5da176e08a2eee4b96167ae0258.png?fit=max&w=1000\n"
     ]
    },
    {
     "data": {
      "text/html": [
       "<img src=\"https://img.seadn.io/files/5ac2d5da176e08a2eee4b96167ae0258.png?fit=max&w=1000\" width=\"200\"/>"
      ],
      "text/plain": [
       "<IPython.core.display.Image object>"
      ]
     },
     "metadata": {},
     "output_type": "display_data"
    },
    {
     "name": "stdout",
     "output_type": "stream",
     "text": [
      "https://opensea.io/assets/ethereum/0x57f1887a8bf19b14fc0df6fd9b2acc9af147ea85/111700958393428431501672004950200808578200509781444952760328770801084880967734\n",
      "https://img.seadn.io/files/3164909d8e84e9d6c23286a174492d4e.png?fit=max&w=1000\n"
     ]
    },
    {
     "data": {
      "text/html": [
       "<img src=\"https://img.seadn.io/files/3164909d8e84e9d6c23286a174492d4e.png?fit=max&w=1000\" width=\"200\"/>"
      ],
      "text/plain": [
       "<IPython.core.display.Image object>"
      ]
     },
     "metadata": {},
     "output_type": "display_data"
    },
    {
     "name": "stdout",
     "output_type": "stream",
     "text": [
      "https://opensea.io/assets/ethereum/0x57f1887a8bf19b14fc0df6fd9b2acc9af147ea85/92253338114402754409262310834449954874599504807899703431958334591263038014072\n",
      "https://img.seadn.io/files/9fccc5800a6fc8856ccbc6781d29fd61.png?fit=max&w=1000\n"
     ]
    },
    {
     "data": {
      "text/html": [
       "<img src=\"https://img.seadn.io/files/9fccc5800a6fc8856ccbc6781d29fd61.png?fit=max&w=1000\" width=\"200\"/>"
      ],
      "text/plain": [
       "<IPython.core.display.Image object>"
      ]
     },
     "metadata": {},
     "output_type": "display_data"
    },
    {
     "name": "stdout",
     "output_type": "stream",
     "text": [
      "https://opensea.io/assets/ethereum/0x57f1887a8bf19b14fc0df6fd9b2acc9af147ea85/44138268083015339630934127047217135477588783151663021533521209707703661116054\n",
      "https://openseauserdata.com/files/cc100cb24353685cd97e08bf05e6df15.svg\n"
     ]
    },
    {
     "data": {
      "text/html": [
       "<img src=\"https://openseauserdata.com/files/cc100cb24353685cd97e08bf05e6df15.svg\" width=\"200\"/>"
      ],
      "text/plain": [
       "<IPython.core.display.Image object>"
      ]
     },
     "metadata": {},
     "output_type": "display_data"
    },
    {
     "name": "stdout",
     "output_type": "stream",
     "text": [
      "https://opensea.io/assets/ethereum/0x57f1887a8bf19b14fc0df6fd9b2acc9af147ea85/83613517140011267036202742848665917198548152168016026765886636581976486367688\n",
      "https://openseauserdata.com/files/638ca45792f5ed9baf5765366427f354.svg\n"
     ]
    },
    {
     "data": {
      "text/html": [
       "<img src=\"https://openseauserdata.com/files/638ca45792f5ed9baf5765366427f354.svg\" width=\"200\"/>"
      ],
      "text/plain": [
       "<IPython.core.display.Image object>"
      ]
     },
     "metadata": {},
     "output_type": "display_data"
    },
    {
     "name": "stdout",
     "output_type": "stream",
     "text": [
      "https://opensea.io/assets/ethereum/0x57f1887a8bf19b14fc0df6fd9b2acc9af147ea85/75725764897340509222004166190721621453090440957521362222684836539819488539182\n",
      "https://openseauserdata.com/files/0d55ba1c0a88f0a8f7adef87c42ea8f8.svg\n"
     ]
    },
    {
     "data": {
      "text/html": [
       "<img src=\"https://openseauserdata.com/files/0d55ba1c0a88f0a8f7adef87c42ea8f8.svg\" width=\"200\"/>"
      ],
      "text/plain": [
       "<IPython.core.display.Image object>"
      ]
     },
     "metadata": {},
     "output_type": "display_data"
    },
    {
     "name": "stdout",
     "output_type": "stream",
     "text": [
      "========================\n",
      "Sample 1601060\n",
      "https://opensea.io/assets/ethereum/0xaa462106da447c0440a4be29614c19387a59a331/3839\n",
      "https://i.seadn.io/gae/sk7ZFPeqoLis3lxiesHC8WbNzqZMOAz91tRmXs3XfbVEwwwQCBPejnObS7NwJF8S5polZvnSg8DPBCch64a1OMA0XA9-0lTvXfyR?auto=format&w=1000\n"
     ]
    },
    {
     "data": {
      "text/html": [
       "<img src=\"https://i.seadn.io/gae/sk7ZFPeqoLis3lxiesHC8WbNzqZMOAz91tRmXs3XfbVEwwwQCBPejnObS7NwJF8S5polZvnSg8DPBCch64a1OMA0XA9-0lTvXfyR?auto=format&w=1000\" width=\"200\"/>"
      ],
      "text/plain": [
       "<IPython.core.display.Image object>"
      ]
     },
     "metadata": {},
     "output_type": "display_data"
    },
    {
     "name": "stdout",
     "output_type": "stream",
     "text": [
      "https://opensea.io/assets/ethereum/0xccb9d89e0f77df3618eec9f6bf899be3b5561a89/16795\n",
      "https://i.seadn.io/gae/OTz0UPh8ScBoS_y7fRJYbNOyfgLrJdopt1MxLVCGnrDTGecJZ5iEMnvF0jaPIypGq_k2iYwDe7HOecE2Zos4StkPL9H1AAo2j_9DJw?auto=format&w=1000\n"
     ]
    },
    {
     "data": {
      "text/html": [
       "<img src=\"https://i.seadn.io/gae/OTz0UPh8ScBoS_y7fRJYbNOyfgLrJdopt1MxLVCGnrDTGecJZ5iEMnvF0jaPIypGq_k2iYwDe7HOecE2Zos4StkPL9H1AAo2j_9DJw?auto=format&w=1000\" width=\"200\"/>"
      ],
      "text/plain": [
       "<IPython.core.display.Image object>"
      ]
     },
     "metadata": {},
     "output_type": "display_data"
    },
    {
     "name": "stdout",
     "output_type": "stream",
     "text": [
      "https://opensea.io/assets/ethereum/0x0b1d6565d88f9bf6473e21c2ab58d28a495d7bb5/1868\n",
      "https://i.seadn.io/gae/JW8KQwiuQ1aaxef3r0whjU3BvbvwFcLy5mTRfVSQn85c28nqy4utVWYgFRx-uBo_XV1O2Xln0yWRcXClUWVU9ehgc0MqhNjWocFz2Q?auto=format&w=1000\n"
     ]
    },
    {
     "data": {
      "text/html": [
       "<img src=\"https://i.seadn.io/gae/JW8KQwiuQ1aaxef3r0whjU3BvbvwFcLy5mTRfVSQn85c28nqy4utVWYgFRx-uBo_XV1O2Xln0yWRcXClUWVU9ehgc0MqhNjWocFz2Q?auto=format&w=1000\" width=\"200\"/>"
      ],
      "text/plain": [
       "<IPython.core.display.Image object>"
      ]
     },
     "metadata": {},
     "output_type": "display_data"
    },
    {
     "name": "stdout",
     "output_type": "stream",
     "text": [
      "https://opensea.io/assets/ethereum/0xccb9d89e0f77df3618eec9f6bf899be3b5561a89/9248\n",
      "https://i.seadn.io/gae/OTz0UPh8ScBoS_y7fRJYbNOyfgLrJdopt1MxLVCGnrDTGecJZ5iEMnvF0jaPIypGq_k2iYwDe7HOecE2Zos4StkPL9H1AAo2j_9DJw?auto=format&w=1000\n"
     ]
    },
    {
     "data": {
      "text/html": [
       "<img src=\"https://i.seadn.io/gae/OTz0UPh8ScBoS_y7fRJYbNOyfgLrJdopt1MxLVCGnrDTGecJZ5iEMnvF0jaPIypGq_k2iYwDe7HOecE2Zos4StkPL9H1AAo2j_9DJw?auto=format&w=1000\" width=\"200\"/>"
      ],
      "text/plain": [
       "<IPython.core.display.Image object>"
      ]
     },
     "metadata": {},
     "output_type": "display_data"
    },
    {
     "name": "stdout",
     "output_type": "stream",
     "text": [
      "https://opensea.io/assets/ethereum/0xccb9d89e0f77df3618eec9f6bf899be3b5561a89/9317\n",
      "https://i.seadn.io/gae/OTz0UPh8ScBoS_y7fRJYbNOyfgLrJdopt1MxLVCGnrDTGecJZ5iEMnvF0jaPIypGq_k2iYwDe7HOecE2Zos4StkPL9H1AAo2j_9DJw?auto=format&w=1000\n"
     ]
    },
    {
     "data": {
      "text/html": [
       "<img src=\"https://i.seadn.io/gae/OTz0UPh8ScBoS_y7fRJYbNOyfgLrJdopt1MxLVCGnrDTGecJZ5iEMnvF0jaPIypGq_k2iYwDe7HOecE2Zos4StkPL9H1AAo2j_9DJw?auto=format&w=1000\" width=\"200\"/>"
      ],
      "text/plain": [
       "<IPython.core.display.Image object>"
      ]
     },
     "metadata": {},
     "output_type": "display_data"
    },
    {
     "name": "stdout",
     "output_type": "stream",
     "text": [
      "https://opensea.io/assets/ethereum/0x57f1887a8bf19b14fc0df6fd9b2acc9af147ea85/111700958393428431501672004950200808578200509781444952760328770801084880967734\n",
      "https://img.seadn.io/files/3164909d8e84e9d6c23286a174492d4e.png?fit=max&w=1000\n"
     ]
    },
    {
     "data": {
      "text/html": [
       "<img src=\"https://img.seadn.io/files/3164909d8e84e9d6c23286a174492d4e.png?fit=max&w=1000\" width=\"200\"/>"
      ],
      "text/plain": [
       "<IPython.core.display.Image object>"
      ]
     },
     "metadata": {},
     "output_type": "display_data"
    },
    {
     "name": "stdout",
     "output_type": "stream",
     "text": [
      "https://opensea.io/assets/ethereum/0x57f1887a8bf19b14fc0df6fd9b2acc9af147ea85/92414454883234172887579282723781215083076584435211629312965528044662367033239\n",
      "https://img.seadn.io/files/5ac2d5da176e08a2eee4b96167ae0258.png?fit=max&w=1000\n"
     ]
    },
    {
     "data": {
      "text/html": [
       "<img src=\"https://img.seadn.io/files/5ac2d5da176e08a2eee4b96167ae0258.png?fit=max&w=1000\" width=\"200\"/>"
      ],
      "text/plain": [
       "<IPython.core.display.Image object>"
      ]
     },
     "metadata": {},
     "output_type": "display_data"
    },
    {
     "name": "stdout",
     "output_type": "stream",
     "text": [
      "https://opensea.io/assets/ethereum/0x57f1887a8bf19b14fc0df6fd9b2acc9af147ea85/92253338114402754409262310834449954874599504807899703431958334591263038014072\n",
      "https://img.seadn.io/files/9fccc5800a6fc8856ccbc6781d29fd61.png?fit=max&w=1000\n"
     ]
    },
    {
     "data": {
      "text/html": [
       "<img src=\"https://img.seadn.io/files/9fccc5800a6fc8856ccbc6781d29fd61.png?fit=max&w=1000\" width=\"200\"/>"
      ],
      "text/plain": [
       "<IPython.core.display.Image object>"
      ]
     },
     "metadata": {},
     "output_type": "display_data"
    },
    {
     "name": "stdout",
     "output_type": "stream",
     "text": [
      "https://opensea.io/assets/ethereum/0x57f1887a8bf19b14fc0df6fd9b2acc9af147ea85/44138268083015339630934127047217135477588783151663021533521209707703661116054\n",
      "https://openseauserdata.com/files/cc100cb24353685cd97e08bf05e6df15.svg\n"
     ]
    },
    {
     "data": {
      "text/html": [
       "<img src=\"https://openseauserdata.com/files/cc100cb24353685cd97e08bf05e6df15.svg\" width=\"200\"/>"
      ],
      "text/plain": [
       "<IPython.core.display.Image object>"
      ]
     },
     "metadata": {},
     "output_type": "display_data"
    },
    {
     "name": "stdout",
     "output_type": "stream",
     "text": [
      "https://opensea.io/assets/ethereum/0x57f1887a8bf19b14fc0df6fd9b2acc9af147ea85/83613517140011267036202742848665917198548152168016026765886636581976486367688\n",
      "https://openseauserdata.com/files/638ca45792f5ed9baf5765366427f354.svg\n"
     ]
    },
    {
     "data": {
      "text/html": [
       "<img src=\"https://openseauserdata.com/files/638ca45792f5ed9baf5765366427f354.svg\" width=\"200\"/>"
      ],
      "text/plain": [
       "<IPython.core.display.Image object>"
      ]
     },
     "metadata": {},
     "output_type": "display_data"
    },
    {
     "name": "stdout",
     "output_type": "stream",
     "text": [
      "https://opensea.io/assets/ethereum/0x57f1887a8bf19b14fc0df6fd9b2acc9af147ea85/75725764897340509222004166190721621453090440957521362222684836539819488539182\n",
      "https://openseauserdata.com/files/0d55ba1c0a88f0a8f7adef87c42ea8f8.svg\n"
     ]
    },
    {
     "data": {
      "text/html": [
       "<img src=\"https://openseauserdata.com/files/0d55ba1c0a88f0a8f7adef87c42ea8f8.svg\" width=\"200\"/>"
      ],
      "text/plain": [
       "<IPython.core.display.Image object>"
      ]
     },
     "metadata": {},
     "output_type": "display_data"
    },
    {
     "name": "stdout",
     "output_type": "stream",
     "text": [
      "========================\n",
      "Sample 1142113\n",
      "https://opensea.io/assets/ethereum/0xe21ebcd28d37a67757b9bc7b290f4c4928a430b1/5184\n",
      "https://openseauserdata.com/files/e9f8ab3e45f2cc90fa90b54c7414a257.svg\n"
     ]
    },
    {
     "data": {
      "text/html": [
       "<img src=\"https://openseauserdata.com/files/e9f8ab3e45f2cc90fa90b54c7414a257.svg\" width=\"200\"/>"
      ],
      "text/plain": [
       "<IPython.core.display.Image object>"
      ]
     },
     "metadata": {},
     "output_type": "display_data"
    },
    {
     "name": "stdout",
     "output_type": "stream",
     "text": [
      "https://opensea.io/assets/ethereum/0x89686fcba3b65f4bdf96c3c69c2db099200f3fa6/1003\n",
      "https://i.seadn.io/gae/-VsGVyDu57I0T0UHKTrf5NVX5idJwf2J7a-Ko1DD_schiGkWWoCv_vxrx2UuCjJzqaPzR0ZblhZKihj2Ug2DCxaWxLY2tROa4419hZ0?auto=format&w=1000\n"
     ]
    },
    {
     "data": {
      "text/html": [
       "<img src=\"https://i.seadn.io/gae/-VsGVyDu57I0T0UHKTrf5NVX5idJwf2J7a-Ko1DD_schiGkWWoCv_vxrx2UuCjJzqaPzR0ZblhZKihj2Ug2DCxaWxLY2tROa4419hZ0?auto=format&w=1000\" width=\"200\"/>"
      ],
      "text/plain": [
       "<IPython.core.display.Image object>"
      ]
     },
     "metadata": {},
     "output_type": "display_data"
    },
    {
     "name": "stdout",
     "output_type": "stream",
     "text": [
      "https://opensea.io/assets/ethereum/0x03e836cfddcaf8683751925308ae985734955b33/8421\n",
      "https://i.seadn.io/gae/h3bPVrtptQcibfP8yrPNJd1u5K4QwGaAz7LkCMrxlxwCnW5U8oLFjPEjfnPifS8pTV00K5a-zuQjQUN-Lrf03kQlPeDddGzqsIii?auto=format&w=1000\n"
     ]
    },
    {
     "data": {
      "text/html": [
       "<img src=\"https://i.seadn.io/gae/h3bPVrtptQcibfP8yrPNJd1u5K4QwGaAz7LkCMrxlxwCnW5U8oLFjPEjfnPifS8pTV00K5a-zuQjQUN-Lrf03kQlPeDddGzqsIii?auto=format&w=1000\" width=\"200\"/>"
      ],
      "text/plain": [
       "<IPython.core.display.Image object>"
      ]
     },
     "metadata": {},
     "output_type": "display_data"
    },
    {
     "name": "stdout",
     "output_type": "stream",
     "text": [
      "https://opensea.io/assets/ethereum/0x03e836cfddcaf8683751925308ae985734955b33/8422\n",
      "https://i.seadn.io/gae/z2gwc3OWQS08hDQ078UoiR3LN2-AeELu7x6ivI-clZ7sSXL32mc-bO57NPrllTk2dFsvhkN_GvYyUlPwO9szVtnIioiIZ2Ch8vg0SEQ?auto=format&w=1000\n"
     ]
    },
    {
     "data": {
      "text/html": [
       "<img src=\"https://i.seadn.io/gae/z2gwc3OWQS08hDQ078UoiR3LN2-AeELu7x6ivI-clZ7sSXL32mc-bO57NPrllTk2dFsvhkN_GvYyUlPwO9szVtnIioiIZ2Ch8vg0SEQ?auto=format&w=1000\" width=\"200\"/>"
      ],
      "text/plain": [
       "<IPython.core.display.Image object>"
      ]
     },
     "metadata": {},
     "output_type": "display_data"
    },
    {
     "name": "stdout",
     "output_type": "stream",
     "text": [
      "https://opensea.io/assets/ethereum/0x5f1cbe84d44e292fe3eae51b87f34bbdc8f04fc8/3366\n",
      "https://i.seadn.io/gae/P070Lxf4RDGM-j2JmoY18VVSU5GsYA_ReBZoEQmavdVuaFSHUi8JstO3iJgSuLqYjyaLGjv-qa5BxSF8EYYUXJrTvRH-_XkHzy7-zQ?auto=format&w=1000\n"
     ]
    },
    {
     "data": {
      "text/html": [
       "<img src=\"https://i.seadn.io/gae/P070Lxf4RDGM-j2JmoY18VVSU5GsYA_ReBZoEQmavdVuaFSHUi8JstO3iJgSuLqYjyaLGjv-qa5BxSF8EYYUXJrTvRH-_XkHzy7-zQ?auto=format&w=1000\" width=\"200\"/>"
      ],
      "text/plain": [
       "<IPython.core.display.Image object>"
      ]
     },
     "metadata": {},
     "output_type": "display_data"
    },
    {
     "name": "stdout",
     "output_type": "stream",
     "text": [
      "https://opensea.io/assets/ethereum/0x5f1cbe84d44e292fe3eae51b87f34bbdc8f04fc8/946\n",
      "https://i.seadn.io/gae/Su-NKewtM5XgDy5DTKAZtSgGX6qelWDt4oKuz-e7tiRK07wlmOL3EN2nzrPqQcYaJSZmxIQkdrfiLoBsJ96BixHayJ1t0B0UIYMwLg?auto=format&w=1000\n"
     ]
    },
    {
     "data": {
      "text/html": [
       "<img src=\"https://i.seadn.io/gae/Su-NKewtM5XgDy5DTKAZtSgGX6qelWDt4oKuz-e7tiRK07wlmOL3EN2nzrPqQcYaJSZmxIQkdrfiLoBsJ96BixHayJ1t0B0UIYMwLg?auto=format&w=1000\" width=\"200\"/>"
      ],
      "text/plain": [
       "<IPython.core.display.Image object>"
      ]
     },
     "metadata": {},
     "output_type": "display_data"
    },
    {
     "name": "stdout",
     "output_type": "stream",
     "text": [
      "https://opensea.io/assets/ethereum/0xffddd1bd34dbe1368def6b27d2893768c10175e3/2360\n",
      "https://i.seadn.io/gae/ZbbVaIWtbveApkxI82-ejv7AJSitT3SIxxAMU1VaDi9ZXei8q-_MjzYis7e8tgOzbF-Qom2oHqWFMWYpynDNGi-U2Ler73ODANFBHg?auto=format&w=1000\n"
     ]
    },
    {
     "data": {
      "text/html": [
       "<img src=\"https://i.seadn.io/gae/ZbbVaIWtbveApkxI82-ejv7AJSitT3SIxxAMU1VaDi9ZXei8q-_MjzYis7e8tgOzbF-Qom2oHqWFMWYpynDNGi-U2Ler73ODANFBHg?auto=format&w=1000\" width=\"200\"/>"
      ],
      "text/plain": [
       "<IPython.core.display.Image object>"
      ]
     },
     "metadata": {},
     "output_type": "display_data"
    },
    {
     "name": "stdout",
     "output_type": "stream",
     "text": [
      "https://opensea.io/assets/ethereum/0xe8abee779aabdd0833ec688c9628f6bc9e63403e/2748\n",
      "https://i.seadn.io/gae/8Kk5Ulobm-q49hknxMufpZSsOuYV7TqLzDx6W13lsB3J5-X9cZ5NE5MO3L3Vhv02Pe5uIQhEMk4J94w9kV2KkEafLDG2oIZuYYrc?auto=format&w=1000\n"
     ]
    },
    {
     "data": {
      "text/html": [
       "<img src=\"https://i.seadn.io/gae/8Kk5Ulobm-q49hknxMufpZSsOuYV7TqLzDx6W13lsB3J5-X9cZ5NE5MO3L3Vhv02Pe5uIQhEMk4J94w9kV2KkEafLDG2oIZuYYrc?auto=format&w=1000\" width=\"200\"/>"
      ],
      "text/plain": [
       "<IPython.core.display.Image object>"
      ]
     },
     "metadata": {},
     "output_type": "display_data"
    },
    {
     "name": "stdout",
     "output_type": "stream",
     "text": [
      "https://opensea.io/assets/ethereum/0x5f1cbe84d44e292fe3eae51b87f34bbdc8f04fc8/2493\n",
      "https://i.seadn.io/gae/RRY0-9aUDIBbFnWoLz32JUX7mtGolcURt-4oNSRDLDafs0QZ2V9l6WiuhFfC0yCQ586Gp7C3_pL76JAkDdew9PD3MXMsUf6CGQHH?auto=format&w=1000\n"
     ]
    },
    {
     "data": {
      "text/html": [
       "<img src=\"https://i.seadn.io/gae/RRY0-9aUDIBbFnWoLz32JUX7mtGolcURt-4oNSRDLDafs0QZ2V9l6WiuhFfC0yCQ586Gp7C3_pL76JAkDdew9PD3MXMsUf6CGQHH?auto=format&w=1000\" width=\"200\"/>"
      ],
      "text/plain": [
       "<IPython.core.display.Image object>"
      ]
     },
     "metadata": {},
     "output_type": "display_data"
    },
    {
     "name": "stdout",
     "output_type": "stream",
     "text": [
      "https://opensea.io/assets/ethereum/0x3b2c32363f8a61de868708dc6d0054246b5c98dd/9682\n",
      "https://i.seadn.io/gae/O57EIU8zuRZEvjqcwBJnR7uggisuSe6wH-_PFQywWHTMeTfBG0H8yddVY1aT3gMSWd6Ns0LTTPP5JET-TTUGXu1KymHFi9Kqf3501WE?auto=format&w=1000\n"
     ]
    },
    {
     "data": {
      "text/html": [
       "<img src=\"https://i.seadn.io/gae/O57EIU8zuRZEvjqcwBJnR7uggisuSe6wH-_PFQywWHTMeTfBG0H8yddVY1aT3gMSWd6Ns0LTTPP5JET-TTUGXu1KymHFi9Kqf3501WE?auto=format&w=1000\" width=\"200\"/>"
      ],
      "text/plain": [
       "<IPython.core.display.Image object>"
      ]
     },
     "metadata": {},
     "output_type": "display_data"
    },
    {
     "name": "stdout",
     "output_type": "stream",
     "text": [
      "https://opensea.io/assets/ethereum/0x89686fcba3b65f4bdf96c3c69c2db099200f3fa6/6974\n",
      "https://i.seadn.io/gae/MxtcehDARbzoIethe7wlt2A4au5RejtDEZzPiIujcD9FhCy7MrttKl7Fgf3aFXHWjEGx2eBMF_k9duokS73OpLJI9FuquF9kwSF7hA?auto=format&w=1000\n"
     ]
    },
    {
     "data": {
      "text/html": [
       "<img src=\"https://i.seadn.io/gae/MxtcehDARbzoIethe7wlt2A4au5RejtDEZzPiIujcD9FhCy7MrttKl7Fgf3aFXHWjEGx2eBMF_k9duokS73OpLJI9FuquF9kwSF7hA?auto=format&w=1000\" width=\"200\"/>"
      ],
      "text/plain": [
       "<IPython.core.display.Image object>"
      ]
     },
     "metadata": {},
     "output_type": "display_data"
    },
    {
     "name": "stdout",
     "output_type": "stream",
     "text": [
      "========================\n",
      "Sample 1366523\n",
      "https://opensea.io/assets/ethereum/0xccb9d89e0f77df3618eec9f6bf899be3b5561a89/16795\n",
      "https://i.seadn.io/gae/OTz0UPh8ScBoS_y7fRJYbNOyfgLrJdopt1MxLVCGnrDTGecJZ5iEMnvF0jaPIypGq_k2iYwDe7HOecE2Zos4StkPL9H1AAo2j_9DJw?auto=format&w=1000\n"
     ]
    },
    {
     "data": {
      "text/html": [
       "<img src=\"https://i.seadn.io/gae/OTz0UPh8ScBoS_y7fRJYbNOyfgLrJdopt1MxLVCGnrDTGecJZ5iEMnvF0jaPIypGq_k2iYwDe7HOecE2Zos4StkPL9H1AAo2j_9DJw?auto=format&w=1000\" width=\"200\"/>"
      ],
      "text/plain": [
       "<IPython.core.display.Image object>"
      ]
     },
     "metadata": {},
     "output_type": "display_data"
    },
    {
     "name": "stdout",
     "output_type": "stream",
     "text": [
      "https://opensea.io/assets/ethereum/0x0b1d6565d88f9bf6473e21c2ab58d28a495d7bb5/1868\n",
      "https://i.seadn.io/gae/JW8KQwiuQ1aaxef3r0whjU3BvbvwFcLy5mTRfVSQn85c28nqy4utVWYgFRx-uBo_XV1O2Xln0yWRcXClUWVU9ehgc0MqhNjWocFz2Q?auto=format&w=1000\n"
     ]
    },
    {
     "data": {
      "text/html": [
       "<img src=\"https://i.seadn.io/gae/JW8KQwiuQ1aaxef3r0whjU3BvbvwFcLy5mTRfVSQn85c28nqy4utVWYgFRx-uBo_XV1O2Xln0yWRcXClUWVU9ehgc0MqhNjWocFz2Q?auto=format&w=1000\" width=\"200\"/>"
      ],
      "text/plain": [
       "<IPython.core.display.Image object>"
      ]
     },
     "metadata": {},
     "output_type": "display_data"
    },
    {
     "name": "stdout",
     "output_type": "stream",
     "text": [
      "https://opensea.io/assets/ethereum/0xccb9d89e0f77df3618eec9f6bf899be3b5561a89/9248\n",
      "https://i.seadn.io/gae/OTz0UPh8ScBoS_y7fRJYbNOyfgLrJdopt1MxLVCGnrDTGecJZ5iEMnvF0jaPIypGq_k2iYwDe7HOecE2Zos4StkPL9H1AAo2j_9DJw?auto=format&w=1000\n"
     ]
    },
    {
     "data": {
      "text/html": [
       "<img src=\"https://i.seadn.io/gae/OTz0UPh8ScBoS_y7fRJYbNOyfgLrJdopt1MxLVCGnrDTGecJZ5iEMnvF0jaPIypGq_k2iYwDe7HOecE2Zos4StkPL9H1AAo2j_9DJw?auto=format&w=1000\" width=\"200\"/>"
      ],
      "text/plain": [
       "<IPython.core.display.Image object>"
      ]
     },
     "metadata": {},
     "output_type": "display_data"
    },
    {
     "name": "stdout",
     "output_type": "stream",
     "text": [
      "https://opensea.io/assets/ethereum/0xccb9d89e0f77df3618eec9f6bf899be3b5561a89/9317\n",
      "https://i.seadn.io/gae/OTz0UPh8ScBoS_y7fRJYbNOyfgLrJdopt1MxLVCGnrDTGecJZ5iEMnvF0jaPIypGq_k2iYwDe7HOecE2Zos4StkPL9H1AAo2j_9DJw?auto=format&w=1000\n"
     ]
    },
    {
     "data": {
      "text/html": [
       "<img src=\"https://i.seadn.io/gae/OTz0UPh8ScBoS_y7fRJYbNOyfgLrJdopt1MxLVCGnrDTGecJZ5iEMnvF0jaPIypGq_k2iYwDe7HOecE2Zos4StkPL9H1AAo2j_9DJw?auto=format&w=1000\" width=\"200\"/>"
      ],
      "text/plain": [
       "<IPython.core.display.Image object>"
      ]
     },
     "metadata": {},
     "output_type": "display_data"
    },
    {
     "name": "stdout",
     "output_type": "stream",
     "text": [
      "https://opensea.io/assets/ethereum/0x57f1887a8bf19b14fc0df6fd9b2acc9af147ea85/92414454883234172887579282723781215083076584435211629312965528044662367033239\n",
      "https://img.seadn.io/files/5ac2d5da176e08a2eee4b96167ae0258.png?fit=max&w=1000\n"
     ]
    },
    {
     "data": {
      "text/html": [
       "<img src=\"https://img.seadn.io/files/5ac2d5da176e08a2eee4b96167ae0258.png?fit=max&w=1000\" width=\"200\"/>"
      ],
      "text/plain": [
       "<IPython.core.display.Image object>"
      ]
     },
     "metadata": {},
     "output_type": "display_data"
    },
    {
     "name": "stdout",
     "output_type": "stream",
     "text": [
      "https://opensea.io/assets/ethereum/0x57f1887a8bf19b14fc0df6fd9b2acc9af147ea85/111700958393428431501672004950200808578200509781444952760328770801084880967734\n",
      "https://img.seadn.io/files/3164909d8e84e9d6c23286a174492d4e.png?fit=max&w=1000\n"
     ]
    },
    {
     "data": {
      "text/html": [
       "<img src=\"https://img.seadn.io/files/3164909d8e84e9d6c23286a174492d4e.png?fit=max&w=1000\" width=\"200\"/>"
      ],
      "text/plain": [
       "<IPython.core.display.Image object>"
      ]
     },
     "metadata": {},
     "output_type": "display_data"
    },
    {
     "name": "stdout",
     "output_type": "stream",
     "text": [
      "https://opensea.io/assets/ethereum/0x57f1887a8bf19b14fc0df6fd9b2acc9af147ea85/92253338114402754409262310834449954874599504807899703431958334591263038014072\n",
      "https://img.seadn.io/files/9fccc5800a6fc8856ccbc6781d29fd61.png?fit=max&w=1000\n"
     ]
    },
    {
     "data": {
      "text/html": [
       "<img src=\"https://img.seadn.io/files/9fccc5800a6fc8856ccbc6781d29fd61.png?fit=max&w=1000\" width=\"200\"/>"
      ],
      "text/plain": [
       "<IPython.core.display.Image object>"
      ]
     },
     "metadata": {},
     "output_type": "display_data"
    },
    {
     "name": "stdout",
     "output_type": "stream",
     "text": [
      "https://opensea.io/assets/ethereum/0x57f1887a8bf19b14fc0df6fd9b2acc9af147ea85/44138268083015339630934127047217135477588783151663021533521209707703661116054\n",
      "https://openseauserdata.com/files/cc100cb24353685cd97e08bf05e6df15.svg\n"
     ]
    },
    {
     "data": {
      "text/html": [
       "<img src=\"https://openseauserdata.com/files/cc100cb24353685cd97e08bf05e6df15.svg\" width=\"200\"/>"
      ],
      "text/plain": [
       "<IPython.core.display.Image object>"
      ]
     },
     "metadata": {},
     "output_type": "display_data"
    },
    {
     "name": "stdout",
     "output_type": "stream",
     "text": [
      "https://opensea.io/assets/ethereum/0x57f1887a8bf19b14fc0df6fd9b2acc9af147ea85/83613517140011267036202742848665917198548152168016026765886636581976486367688\n",
      "https://openseauserdata.com/files/638ca45792f5ed9baf5765366427f354.svg\n"
     ]
    },
    {
     "data": {
      "text/html": [
       "<img src=\"https://openseauserdata.com/files/638ca45792f5ed9baf5765366427f354.svg\" width=\"200\"/>"
      ],
      "text/plain": [
       "<IPython.core.display.Image object>"
      ]
     },
     "metadata": {},
     "output_type": "display_data"
    },
    {
     "name": "stdout",
     "output_type": "stream",
     "text": [
      "https://opensea.io/assets/ethereum/0x57f1887a8bf19b14fc0df6fd9b2acc9af147ea85/75725764897340509222004166190721621453090440957521362222684836539819488539182\n",
      "https://openseauserdata.com/files/0d55ba1c0a88f0a8f7adef87c42ea8f8.svg\n"
     ]
    },
    {
     "data": {
      "text/html": [
       "<img src=\"https://openseauserdata.com/files/0d55ba1c0a88f0a8f7adef87c42ea8f8.svg\" width=\"200\"/>"
      ],
      "text/plain": [
       "<IPython.core.display.Image object>"
      ]
     },
     "metadata": {},
     "output_type": "display_data"
    },
    {
     "name": "stdout",
     "output_type": "stream",
     "text": [
      "========================\n",
      "Sample 1644114\n",
      "https://opensea.io/assets/ethereum/0x1ab8c55870a404e769868982645e81ab6ec76f7a/3537\n",
      "https://i.seadn.io/gae/xRJQnKD9gErydZBXkhRh6__ghi1TTc9-lfXDPKPAfU5DoRK-i2weFeSaYZB1wHjGXT21ThcsNx5wvPhyfcHcf1ZWeHmQHphi2HYJ?auto=format&w=1000\n"
     ]
    },
    {
     "data": {
      "text/html": [
       "<img src=\"https://i.seadn.io/gae/xRJQnKD9gErydZBXkhRh6__ghi1TTc9-lfXDPKPAfU5DoRK-i2weFeSaYZB1wHjGXT21ThcsNx5wvPhyfcHcf1ZWeHmQHphi2HYJ?auto=format&w=1000\" width=\"200\"/>"
      ],
      "text/plain": [
       "<IPython.core.display.Image object>"
      ]
     },
     "metadata": {},
     "output_type": "display_data"
    },
    {
     "name": "stdout",
     "output_type": "stream",
     "text": [
      "https://opensea.io/assets/ethereum/0x247133f8145bd1e42589e326e2f5baaecac6f1e8/419\n",
      "https://i.seadn.io/gae/FaDye0JDBQ2ysxdaUxXE5F_UoG30aTIXY065oVZX8dSHdSUhDDXAHLKYj4CojkC03ShP-UaffjpjKnf8ce3MXPQq88DwO-h1V4wv?auto=format&w=1000\n"
     ]
    },
    {
     "data": {
      "text/html": [
       "<img src=\"https://i.seadn.io/gae/FaDye0JDBQ2ysxdaUxXE5F_UoG30aTIXY065oVZX8dSHdSUhDDXAHLKYj4CojkC03ShP-UaffjpjKnf8ce3MXPQq88DwO-h1V4wv?auto=format&w=1000\" width=\"200\"/>"
      ],
      "text/plain": [
       "<IPython.core.display.Image object>"
      ]
     },
     "metadata": {},
     "output_type": "display_data"
    },
    {
     "name": "stdout",
     "output_type": "stream",
     "text": [
      "https://opensea.io/assets/ethereum/0xc86664e7d2608f881f796ee8e24fa9d4d7598406/767\n",
      "https://i.seadn.io/gae/5iW6ZYD15qrHoKLotwe9VFNKZKSRXd3uav_4RbnBSCzWWfLvZsfMFAybJmdE5OqGv7pJYrdFHWQU3DzqUsyY1DopRw3LkT7vcXVI?auto=format&w=1000\n"
     ]
    },
    {
     "data": {
      "text/html": [
       "<img src=\"https://i.seadn.io/gae/5iW6ZYD15qrHoKLotwe9VFNKZKSRXd3uav_4RbnBSCzWWfLvZsfMFAybJmdE5OqGv7pJYrdFHWQU3DzqUsyY1DopRw3LkT7vcXVI?auto=format&w=1000\" width=\"200\"/>"
      ],
      "text/plain": [
       "<IPython.core.display.Image object>"
      ]
     },
     "metadata": {},
     "output_type": "display_data"
    },
    {
     "name": "stdout",
     "output_type": "stream",
     "text": [
      "https://opensea.io/assets/ethereum/0x8052a3765df60dff44eb911982c8ef1ca107ba1a/98\n",
      "https://i.seadn.io/gae/nUqOYcmNZ1_HVKLWWp8drXoq1KAhUBxFIvkvRvel1gA_fu733j-zcHUngRmtgjbYBUrnob2DJfJ3hjrY1TtB-u4KWBfiQ95JWI8lDQ?auto=format&w=1000\n"
     ]
    },
    {
     "data": {
      "text/html": [
       "<img src=\"https://i.seadn.io/gae/nUqOYcmNZ1_HVKLWWp8drXoq1KAhUBxFIvkvRvel1gA_fu733j-zcHUngRmtgjbYBUrnob2DJfJ3hjrY1TtB-u4KWBfiQ95JWI8lDQ?auto=format&w=1000\" width=\"200\"/>"
      ],
      "text/plain": [
       "<IPython.core.display.Image object>"
      ]
     },
     "metadata": {},
     "output_type": "display_data"
    },
    {
     "name": "stdout",
     "output_type": "stream",
     "text": [
      "========================\n",
      "Sample 415084\n",
      "https://opensea.io/assets/ethereum/0xed74cd768668c6dfcd629ba393a23943b19dbc06/2205\n",
      "https://i.seadn.io/gae/X3345qCwg4_ZsdKwSHkjinf_K01ur9vTUBNR36bA_RaEWcNmfuRhOaPmgP5yV7wCG5iD-BT9TgzhxVyQVRWWw962gDgYoim3nO0tUQ?auto=format&w=1000\n"
     ]
    },
    {
     "data": {
      "text/html": [
       "<img src=\"https://i.seadn.io/gae/X3345qCwg4_ZsdKwSHkjinf_K01ur9vTUBNR36bA_RaEWcNmfuRhOaPmgP5yV7wCG5iD-BT9TgzhxVyQVRWWw962gDgYoim3nO0tUQ?auto=format&w=1000\" width=\"200\"/>"
      ],
      "text/plain": [
       "<IPython.core.display.Image object>"
      ]
     },
     "metadata": {},
     "output_type": "display_data"
    },
    {
     "name": "stdout",
     "output_type": "stream",
     "text": [
      "https://opensea.io/assets/ethereum/0x82cb9d20862641301c987f0b096086d32bc11b65/6414\n",
      "https://i.seadn.io/gae/BFNnwi3J57vzthaWnAnzyicdQ6LBi1poLmLKGdLudd_p2CbU32hHnlcedU1LfzP6J4lZaSOrpia4_RqbKJUUZHLxR1-sKMykGBkgXQ?auto=format&w=1000\n"
     ]
    },
    {
     "data": {
      "text/html": [
       "<img src=\"https://i.seadn.io/gae/BFNnwi3J57vzthaWnAnzyicdQ6LBi1poLmLKGdLudd_p2CbU32hHnlcedU1LfzP6J4lZaSOrpia4_RqbKJUUZHLxR1-sKMykGBkgXQ?auto=format&w=1000\" width=\"200\"/>"
      ],
      "text/plain": [
       "<IPython.core.display.Image object>"
      ]
     },
     "metadata": {},
     "output_type": "display_data"
    },
    {
     "name": "stdout",
     "output_type": "stream",
     "text": [
      "https://opensea.io/assets/ethereum/0x23d236e8eff192ebfafa73ff153067240da6c500/1302\n",
      "https://i.seadn.io/gae/VUU1rJjtr-ppEcQ0-cLxz9gomXbFvpB98Hq3aa2TbrdHJdG2_68pD7NiwQMVAG6VayaEMk9nFk4CG2VLkq4Tie7FsnUX_IoZFiDrlzc?auto=format&w=1000\n"
     ]
    },
    {
     "data": {
      "text/html": [
       "<img src=\"https://i.seadn.io/gae/VUU1rJjtr-ppEcQ0-cLxz9gomXbFvpB98Hq3aa2TbrdHJdG2_68pD7NiwQMVAG6VayaEMk9nFk4CG2VLkq4Tie7FsnUX_IoZFiDrlzc?auto=format&w=1000\" width=\"200\"/>"
      ],
      "text/plain": [
       "<IPython.core.display.Image object>"
      ]
     },
     "metadata": {},
     "output_type": "display_data"
    },
    {
     "name": "stdout",
     "output_type": "stream",
     "text": [
      "https://opensea.io/assets/ethereum/0x23d236e8eff192ebfafa73ff153067240da6c500/674\n",
      "https://i.seadn.io/gae/1CAUSrgTatH0K0c2Hyu8scrSx-zq6Ez1I6cQJFm0XOMlre6FJebDxNAmGcJo0dCqPKvz9nmPRJ8A-8l3qNlDZ63pdfvpws4qwlMX?auto=format&w=1000\n"
     ]
    },
    {
     "data": {
      "text/html": [
       "<img src=\"https://i.seadn.io/gae/1CAUSrgTatH0K0c2Hyu8scrSx-zq6Ez1I6cQJFm0XOMlre6FJebDxNAmGcJo0dCqPKvz9nmPRJ8A-8l3qNlDZ63pdfvpws4qwlMX?auto=format&w=1000\" width=\"200\"/>"
      ],
      "text/plain": [
       "<IPython.core.display.Image object>"
      ]
     },
     "metadata": {},
     "output_type": "display_data"
    },
    {
     "name": "stdout",
     "output_type": "stream",
     "text": [
      "https://opensea.io/assets/ethereum/0xb852c6b5892256c264cc2c888ea462189154d8d7/1854\n",
      "https://lh3.googleusercontent.com/GvpccLBTzGj_xzTd78v1KQz79PkDikhS3PJjB49_fggv9JitG1vii8bqdq29mUdgSNvvzJ8jPuEpZ3lMwjJGtgcRa5ayBzS6jZRR=w1000\n"
     ]
    },
    {
     "data": {
      "text/html": [
       "<img src=\"https://lh3.googleusercontent.com/GvpccLBTzGj_xzTd78v1KQz79PkDikhS3PJjB49_fggv9JitG1vii8bqdq29mUdgSNvvzJ8jPuEpZ3lMwjJGtgcRa5ayBzS6jZRR=w1000\" width=\"200\"/>"
      ],
      "text/plain": [
       "<IPython.core.display.Image object>"
      ]
     },
     "metadata": {},
     "output_type": "display_data"
    },
    {
     "name": "stdout",
     "output_type": "stream",
     "text": [
      "https://opensea.io/assets/ethereum/0x57f1887a8bf19b14fc0df6fd9b2acc9af147ea85/9016597659992493747653629002773289520070247973346969058276077627121348229624\n",
      "https://img.seadn.io/files/67f4b81a355569a360365d531b2d963e.png?fit=max&w=1000\n"
     ]
    },
    {
     "data": {
      "text/html": [
       "<img src=\"https://img.seadn.io/files/67f4b81a355569a360365d531b2d963e.png?fit=max&w=1000\" width=\"200\"/>"
      ],
      "text/plain": [
       "<IPython.core.display.Image object>"
      ]
     },
     "metadata": {},
     "output_type": "display_data"
    },
    {
     "name": "stdout",
     "output_type": "stream",
     "text": [
      "https://opensea.io/assets/ethereum/0xed74cd768668c6dfcd629ba393a23943b19dbc06/3327\n",
      "https://i.seadn.io/gae/E0IUIEybyQiq4crJsVTMSAb-aXySLAR2A4YfTj4XowBiW63lHV4aX97Jjl3AIDZ71kvMumeDsTtlM3dL2GGay2RTs3tiDgmNzdOsAg?auto=format&w=1000\n"
     ]
    },
    {
     "data": {
      "text/html": [
       "<img src=\"https://i.seadn.io/gae/E0IUIEybyQiq4crJsVTMSAb-aXySLAR2A4YfTj4XowBiW63lHV4aX97Jjl3AIDZ71kvMumeDsTtlM3dL2GGay2RTs3tiDgmNzdOsAg?auto=format&w=1000\" width=\"200\"/>"
      ],
      "text/plain": [
       "<IPython.core.display.Image object>"
      ]
     },
     "metadata": {},
     "output_type": "display_data"
    },
    {
     "name": "stdout",
     "output_type": "stream",
     "text": [
      "https://opensea.io/assets/ethereum/0x57f1887a8bf19b14fc0df6fd9b2acc9af147ea85/1771779426089972444166070137614707320018861660322688959817568165653921538507\n",
      "https://img.seadn.io/files/8903ea16526217fc678de0ab7b52e41b.png?fit=max&w=1000\n"
     ]
    },
    {
     "data": {
      "text/html": [
       "<img src=\"https://img.seadn.io/files/8903ea16526217fc678de0ab7b52e41b.png?fit=max&w=1000\" width=\"200\"/>"
      ],
      "text/plain": [
       "<IPython.core.display.Image object>"
      ]
     },
     "metadata": {},
     "output_type": "display_data"
    },
    {
     "name": "stdout",
     "output_type": "stream",
     "text": [
      "https://opensea.io/assets/ethereum/0x28c6ea3f9cf9bc1a07a828fce1e7783261691b49/2409\n",
      "https://img.seadn.io/files/a52df38f78c4d3a06fa34c845dc07b1a.jpg?fit=max&w=1000\n"
     ]
    },
    {
     "data": {
      "text/html": [
       "<img src=\"https://img.seadn.io/files/a52df38f78c4d3a06fa34c845dc07b1a.jpg?fit=max&w=1000\" width=\"200\"/>"
      ],
      "text/plain": [
       "<IPython.core.display.Image object>"
      ]
     },
     "metadata": {},
     "output_type": "display_data"
    },
    {
     "name": "stdout",
     "output_type": "stream",
     "text": [
      "https://opensea.io/assets/ethereum/0x57f1887a8bf19b14fc0df6fd9b2acc9af147ea85/23100784332054344004586062864978425801026288307030956732903742319419647423443\n",
      "https://img.seadn.io/files/782e7e6882b82381300fb6e1d84bb505.png?fit=max&w=1000\n"
     ]
    },
    {
     "data": {
      "text/html": [
       "<img src=\"https://img.seadn.io/files/782e7e6882b82381300fb6e1d84bb505.png?fit=max&w=1000\" width=\"200\"/>"
      ],
      "text/plain": [
       "<IPython.core.display.Image object>"
      ]
     },
     "metadata": {},
     "output_type": "display_data"
    },
    {
     "name": "stdout",
     "output_type": "stream",
     "text": [
      "https://opensea.io/assets/ethereum/0x29b4ea6b1164c7cd8a3a0a1dc4ad88d1e0589124/4880\n",
      "https://openseauserdata.com/files/3b5ab39c8160055efb82370458f41246.svg\n"
     ]
    },
    {
     "data": {
      "text/html": [
       "<img src=\"https://openseauserdata.com/files/3b5ab39c8160055efb82370458f41246.svg\" width=\"200\"/>"
      ],
      "text/plain": [
       "<IPython.core.display.Image object>"
      ]
     },
     "metadata": {},
     "output_type": "display_data"
    },
    {
     "name": "stdout",
     "output_type": "stream",
     "text": [
      "========================\n",
      "Sample 55534\n",
      "https://opensea.io/assets/ethereum/0x57f1887a8bf19b14fc0df6fd9b2acc9af147ea85/96724939391151904674595444506748877400484377413975054769816251643233439769470\n",
      "https://openseauserdata.com/files/96fdf3186f02a41af8149cf7b9493352.svg\n"
     ]
    },
    {
     "data": {
      "text/html": [
       "<img src=\"https://openseauserdata.com/files/96fdf3186f02a41af8149cf7b9493352.svg\" width=\"200\"/>"
      ],
      "text/plain": [
       "<IPython.core.display.Image object>"
      ]
     },
     "metadata": {},
     "output_type": "display_data"
    },
    {
     "name": "stdout",
     "output_type": "stream",
     "text": [
      "https://opensea.io/assets/ethereum/0x57f1887a8bf19b14fc0df6fd9b2acc9af147ea85/2390353978749534404516236069738511831993063914646891573470236369538744500203\n",
      "https://openseauserdata.com/files/1e778a097f69ad91f2159de73b8d3a57.svg\n"
     ]
    },
    {
     "data": {
      "text/html": [
       "<img src=\"https://openseauserdata.com/files/1e778a097f69ad91f2159de73b8d3a57.svg\" width=\"200\"/>"
      ],
      "text/plain": [
       "<IPython.core.display.Image object>"
      ]
     },
     "metadata": {},
     "output_type": "display_data"
    },
    {
     "name": "stdout",
     "output_type": "stream",
     "text": [
      "https://opensea.io/assets/ethereum/0x57f1887a8bf19b14fc0df6fd9b2acc9af147ea85/36920977635165227445305121598704261757536135837556237002216142260526713144891\n",
      "https://openseauserdata.com/files/ff2908b5c94c7a0d69146e515186783a.svg\n"
     ]
    },
    {
     "data": {
      "text/html": [
       "<img src=\"https://openseauserdata.com/files/ff2908b5c94c7a0d69146e515186783a.svg\" width=\"200\"/>"
      ],
      "text/plain": [
       "<IPython.core.display.Image object>"
      ]
     },
     "metadata": {},
     "output_type": "display_data"
    },
    {
     "name": "stdout",
     "output_type": "stream",
     "text": [
      "https://opensea.io/assets/ethereum/0x57f1887a8bf19b14fc0df6fd9b2acc9af147ea85/26320147123724092684195337767890667359093298549858969718259610383402632403673\n",
      "https://openseauserdata.com/files/e151ee7a95ea28bf770fe8fe7a03e518.svg\n"
     ]
    },
    {
     "data": {
      "text/html": [
       "<img src=\"https://openseauserdata.com/files/e151ee7a95ea28bf770fe8fe7a03e518.svg\" width=\"200\"/>"
      ],
      "text/plain": [
       "<IPython.core.display.Image object>"
      ]
     },
     "metadata": {},
     "output_type": "display_data"
    },
    {
     "name": "stdout",
     "output_type": "stream",
     "text": [
      "https://opensea.io/assets/ethereum/0x57f1887a8bf19b14fc0df6fd9b2acc9af147ea85/9236247334310264723337472359275415956890471029116506528995691439730157600371\n",
      "https://openseauserdata.com/files/3124f6a2bd908097904dfcb9cea1dbf7.svg\n"
     ]
    },
    {
     "data": {
      "text/html": [
       "<img src=\"https://openseauserdata.com/files/3124f6a2bd908097904dfcb9cea1dbf7.svg\" width=\"200\"/>"
      ],
      "text/plain": [
       "<IPython.core.display.Image object>"
      ]
     },
     "metadata": {},
     "output_type": "display_data"
    },
    {
     "name": "stdout",
     "output_type": "stream",
     "text": [
      "https://opensea.io/assets/ethereum/0x57f1887a8bf19b14fc0df6fd9b2acc9af147ea85/16279992365917593009905211344536619076973719477150553437991447275373402558959\n",
      "https://openseauserdata.com/files/fc614e3cbe8113c3669ee960a8b950b1.svg\n"
     ]
    },
    {
     "data": {
      "text/html": [
       "<img src=\"https://openseauserdata.com/files/fc614e3cbe8113c3669ee960a8b950b1.svg\" width=\"200\"/>"
      ],
      "text/plain": [
       "<IPython.core.display.Image object>"
      ]
     },
     "metadata": {},
     "output_type": "display_data"
    },
    {
     "name": "stdout",
     "output_type": "stream",
     "text": [
      "https://opensea.io/assets/ethereum/0x57f1887a8bf19b14fc0df6fd9b2acc9af147ea85/102834315142486663936968653067636614430361201417174209448486731863540817195256\n",
      "https://openseauserdata.com/files/51b3d6e0422f609d94934a03f6b7dcf6.svg\n"
     ]
    },
    {
     "data": {
      "text/html": [
       "<img src=\"https://openseauserdata.com/files/51b3d6e0422f609d94934a03f6b7dcf6.svg\" width=\"200\"/>"
      ],
      "text/plain": [
       "<IPython.core.display.Image object>"
      ]
     },
     "metadata": {},
     "output_type": "display_data"
    },
    {
     "name": "stdout",
     "output_type": "stream",
     "text": [
      "https://opensea.io/assets/ethereum/0x57f1887a8bf19b14fc0df6fd9b2acc9af147ea85/88683823806071376489740854902517620159288579739259130891612445406092315269982\n",
      "https://openseauserdata.com/files/b2c2e78f79133d0f0e6cfb8e8915c090.svg\n"
     ]
    },
    {
     "data": {
      "text/html": [
       "<img src=\"https://openseauserdata.com/files/b2c2e78f79133d0f0e6cfb8e8915c090.svg\" width=\"200\"/>"
      ],
      "text/plain": [
       "<IPython.core.display.Image object>"
      ]
     },
     "metadata": {},
     "output_type": "display_data"
    },
    {
     "name": "stdout",
     "output_type": "stream",
     "text": [
      "https://opensea.io/assets/ethereum/0x57f1887a8bf19b14fc0df6fd9b2acc9af147ea85/112154308056100899326034710893421287587195127005210414273826970759331592387700\n",
      "https://openseauserdata.com/files/64942d220a799d183287b16ca9bfbd4e.svg\n"
     ]
    },
    {
     "data": {
      "text/html": [
       "<img src=\"https://openseauserdata.com/files/64942d220a799d183287b16ca9bfbd4e.svg\" width=\"200\"/>"
      ],
      "text/plain": [
       "<IPython.core.display.Image object>"
      ]
     },
     "metadata": {},
     "output_type": "display_data"
    },
    {
     "name": "stdout",
     "output_type": "stream",
     "text": [
      "https://opensea.io/assets/ethereum/0x57f1887a8bf19b14fc0df6fd9b2acc9af147ea85/106266091471917188061265949594031922838457843175515867019030520327278444951832\n",
      "https://openseauserdata.com/files/b4d51322bb5b8c25702b3345c9b5d65a.svg\n"
     ]
    },
    {
     "data": {
      "text/html": [
       "<img src=\"https://openseauserdata.com/files/b4d51322bb5b8c25702b3345c9b5d65a.svg\" width=\"200\"/>"
      ],
      "text/plain": [
       "<IPython.core.display.Image object>"
      ]
     },
     "metadata": {},
     "output_type": "display_data"
    },
    {
     "name": "stdout",
     "output_type": "stream",
     "text": [
      "https://opensea.io/assets/ethereum/0x57f1887a8bf19b14fc0df6fd9b2acc9af147ea85/70037958534429198757567933694996548672306402014711552381168230822307346632431\n",
      "https://openseauserdata.com/files/d4d2216da13ff003f670418a032f88c7.svg\n"
     ]
    },
    {
     "data": {
      "text/html": [
       "<img src=\"https://openseauserdata.com/files/d4d2216da13ff003f670418a032f88c7.svg\" width=\"200\"/>"
      ],
      "text/plain": [
       "<IPython.core.display.Image object>"
      ]
     },
     "metadata": {},
     "output_type": "display_data"
    },
    {
     "name": "stdout",
     "output_type": "stream",
     "text": [
      "========================\n",
      "Sample 1081407\n",
      "https://opensea.io/assets/ethereum/0xc3062023692b858879274ec8abeb86bc1eff7a1e/4347\n",
      "https://i.seadn.io/gae/78IxOqGKTm5czoCO9nhwwE6X96oydyq5IdTQSFaHsPIs_B9RbwDGQ_UKHPfz7eOrt03eIy-xn6rLOlwn369NHw0ROyMc9LtzdOEScx4?auto=format&w=1000\n"
     ]
    },
    {
     "data": {
      "text/html": [
       "<img src=\"https://i.seadn.io/gae/78IxOqGKTm5czoCO9nhwwE6X96oydyq5IdTQSFaHsPIs_B9RbwDGQ_UKHPfz7eOrt03eIy-xn6rLOlwn369NHw0ROyMc9LtzdOEScx4?auto=format&w=1000\" width=\"200\"/>"
      ],
      "text/plain": [
       "<IPython.core.display.Image object>"
      ]
     },
     "metadata": {},
     "output_type": "display_data"
    },
    {
     "name": "stdout",
     "output_type": "stream",
     "text": [
      "https://opensea.io/assets/ethereum/0xc3062023692b858879274ec8abeb86bc1eff7a1e/945\n",
      "https://i.seadn.io/gae/pmOqbeBNQiwcEwNJJUobSCmcO1M3dSLKMPLM8HaH90FEFoW4H0BTDVTXoDTRZlv1mSD06qLudgAUCpLojKxEhkpKmklIdbcfBBgUVA?auto=format&w=1000\n"
     ]
    },
    {
     "data": {
      "text/html": [
       "<img src=\"https://i.seadn.io/gae/pmOqbeBNQiwcEwNJJUobSCmcO1M3dSLKMPLM8HaH90FEFoW4H0BTDVTXoDTRZlv1mSD06qLudgAUCpLojKxEhkpKmklIdbcfBBgUVA?auto=format&w=1000\" width=\"200\"/>"
      ],
      "text/plain": [
       "<IPython.core.display.Image object>"
      ]
     },
     "metadata": {},
     "output_type": "display_data"
    },
    {
     "name": "stdout",
     "output_type": "stream",
     "text": [
      "https://opensea.io/assets/ethereum/0xd50faccb745b6983111bb95522e0e7889eb35724/5517\n",
      "https://i.seadn.io/gae/FcHoppn8N-XUqDohlyIxm7D20Uxmv_oBN3ChetOSf3o5U-ev0FWOgRToJWfOnnJgbtcLQPv9-Umq-Fkqn4O00PmzuxTqfo0KOeSywg?auto=format&w=1000\n"
     ]
    },
    {
     "data": {
      "text/html": [
       "<img src=\"https://i.seadn.io/gae/FcHoppn8N-XUqDohlyIxm7D20Uxmv_oBN3ChetOSf3o5U-ev0FWOgRToJWfOnnJgbtcLQPv9-Umq-Fkqn4O00PmzuxTqfo0KOeSywg?auto=format&w=1000\" width=\"200\"/>"
      ],
      "text/plain": [
       "<IPython.core.display.Image object>"
      ]
     },
     "metadata": {},
     "output_type": "display_data"
    },
    {
     "name": "stdout",
     "output_type": "stream",
     "text": [
      "https://opensea.io/assets/ethereum/0xfca823de572ed9d65ae804bb638a486409dea391/6495\n",
      "https://i.seadn.io/gae/r-6a9g8IZjrHSRJKQKVoblk8209j4rIpDcZbWiEsZa1V5noVvnDmeTknKqjDGKJgb9tfmz90t7wF72K4XlCd_-SRp7i4cipICMdgGg?auto=format&w=1000\n"
     ]
    },
    {
     "data": {
      "text/html": [
       "<img src=\"https://i.seadn.io/gae/r-6a9g8IZjrHSRJKQKVoblk8209j4rIpDcZbWiEsZa1V5noVvnDmeTknKqjDGKJgb9tfmz90t7wF72K4XlCd_-SRp7i4cipICMdgGg?auto=format&w=1000\" width=\"200\"/>"
      ],
      "text/plain": [
       "<IPython.core.display.Image object>"
      ]
     },
     "metadata": {},
     "output_type": "display_data"
    },
    {
     "name": "stdout",
     "output_type": "stream",
     "text": [
      "https://opensea.io/assets/ethereum/0x90085fb517a0b46676b3efc6a56e255cbd0f22b9/4079\n",
      "https://i.seadn.io/gae/gdaBanmWlT_pIvIMGinViAonsI93b3WGjjS5x0uoAUQYVi4u2OLfylKdsOcbX_WUBCD27nIrdY5Yw7KiV14xfIsQ68Oz0HFFbaDENQ?auto=format&w=1000\n"
     ]
    },
    {
     "data": {
      "text/html": [
       "<img src=\"https://i.seadn.io/gae/gdaBanmWlT_pIvIMGinViAonsI93b3WGjjS5x0uoAUQYVi4u2OLfylKdsOcbX_WUBCD27nIrdY5Yw7KiV14xfIsQ68Oz0HFFbaDENQ?auto=format&w=1000\" width=\"200\"/>"
      ],
      "text/plain": [
       "<IPython.core.display.Image object>"
      ]
     },
     "metadata": {},
     "output_type": "display_data"
    },
    {
     "name": "stdout",
     "output_type": "stream",
     "text": [
      "https://opensea.io/assets/ethereum/0x9f9b2b8e268d06dc67f0f76627654b80e219e1d6/6780\n",
      "https://i.seadn.io/gae/QW9Fxl43mZrGU8bBLLpKtGTYsHOGvNgjmERVqLwC3Osc9kK9yYpUSMmMS2cSXvD3PJft77FSe-98vsYDZWxkRw9T7LysuUB3_irF?auto=format&w=1000\n"
     ]
    },
    {
     "data": {
      "text/html": [
       "<img src=\"https://i.seadn.io/gae/QW9Fxl43mZrGU8bBLLpKtGTYsHOGvNgjmERVqLwC3Osc9kK9yYpUSMmMS2cSXvD3PJft77FSe-98vsYDZWxkRw9T7LysuUB3_irF?auto=format&w=1000\" width=\"200\"/>"
      ],
      "text/plain": [
       "<IPython.core.display.Image object>"
      ]
     },
     "metadata": {},
     "output_type": "display_data"
    },
    {
     "name": "stdout",
     "output_type": "stream",
     "text": [
      "https://opensea.io/assets/ethereum/0x3c6d92f1db872469c8dbc04ff6301b766214a712/968\n",
      "https://i.seadn.io/gae/TGrMeEgSZoa6IsNeFBeDk_u_vISV0ctLNhSBmJubfzKdLA33ZG6A1Uyz3WW5i4At9F6U7_WgCL5ak_f82-oBZoZb9epy51o8STx3bQ?auto=format&w=1000\n"
     ]
    },
    {
     "data": {
      "text/html": [
       "<img src=\"https://i.seadn.io/gae/TGrMeEgSZoa6IsNeFBeDk_u_vISV0ctLNhSBmJubfzKdLA33ZG6A1Uyz3WW5i4At9F6U7_WgCL5ak_f82-oBZoZb9epy51o8STx3bQ?auto=format&w=1000\" width=\"200\"/>"
      ],
      "text/plain": [
       "<IPython.core.display.Image object>"
      ]
     },
     "metadata": {},
     "output_type": "display_data"
    },
    {
     "name": "stdout",
     "output_type": "stream",
     "text": [
      "https://opensea.io/assets/ethereum/0xddfc15ec4a1d1f1cf15dc047dd4f0cc24de0fc34/6996\n",
      "https://i.seadn.io/gae/Y3okr1VwWPRdfEpSZuCxfCZWFysEi4Ym9PM6aYUG-km5cee6kxVBoLhDxwDKFzgGybmvzcLiPRu2UFnkv-Jom1QeweuYFw2t9WYgIw?auto=format&w=1000\n"
     ]
    },
    {
     "data": {
      "text/html": [
       "<img src=\"https://i.seadn.io/gae/Y3okr1VwWPRdfEpSZuCxfCZWFysEi4Ym9PM6aYUG-km5cee6kxVBoLhDxwDKFzgGybmvzcLiPRu2UFnkv-Jom1QeweuYFw2t9WYgIw?auto=format&w=1000\" width=\"200\"/>"
      ],
      "text/plain": [
       "<IPython.core.display.Image object>"
      ]
     },
     "metadata": {},
     "output_type": "display_data"
    },
    {
     "name": "stdout",
     "output_type": "stream",
     "text": [
      "https://opensea.io/assets/ethereum/0xd50faccb745b6983111bb95522e0e7889eb35724/7809\n",
      "https://i.seadn.io/gae/M2ZF8CmtqYezWFERqpUKSGTB7jsLFT70mmFU2hsqFnPEwvkXKBsGnf3DRN9AYM97oJS9n_UrfR2x-dybTJwEFn2dNBWzZOOsz3pbGt0?auto=format&w=1000\n"
     ]
    },
    {
     "data": {
      "text/html": [
       "<img src=\"https://i.seadn.io/gae/M2ZF8CmtqYezWFERqpUKSGTB7jsLFT70mmFU2hsqFnPEwvkXKBsGnf3DRN9AYM97oJS9n_UrfR2x-dybTJwEFn2dNBWzZOOsz3pbGt0?auto=format&w=1000\" width=\"200\"/>"
      ],
      "text/plain": [
       "<IPython.core.display.Image object>"
      ]
     },
     "metadata": {},
     "output_type": "display_data"
    },
    {
     "name": "stdout",
     "output_type": "stream",
     "text": [
      "https://opensea.io/assets/ethereum/0x31d45de84fde2fb36575085e05754a4932dd5170/3854\n",
      "https://img.seadn.io/files/05fe49b88e48b58453017b2fc549c9d7.png?fit=max&w=1000\n"
     ]
    },
    {
     "data": {
      "text/html": [
       "<img src=\"https://img.seadn.io/files/05fe49b88e48b58453017b2fc549c9d7.png?fit=max&w=1000\" width=\"200\"/>"
      ],
      "text/plain": [
       "<IPython.core.display.Image object>"
      ]
     },
     "metadata": {},
     "output_type": "display_data"
    },
    {
     "name": "stdout",
     "output_type": "stream",
     "text": [
      "https://opensea.io/assets/ethereum/0xfca823de572ed9d65ae804bb638a486409dea391/6341\n",
      "https://i.seadn.io/gae/XXa9Rsx84VYDG62kOVX8chjpeWfeOJW9pCEzq9qVVmetnuNmIxFD1MIVPWF6XIGsoAsA0fFcxYrcBPdbjiTMfiklhni09a8sNqRPEv0?auto=format&w=1000\n"
     ]
    },
    {
     "data": {
      "text/html": [
       "<img src=\"https://i.seadn.io/gae/XXa9Rsx84VYDG62kOVX8chjpeWfeOJW9pCEzq9qVVmetnuNmIxFD1MIVPWF6XIGsoAsA0fFcxYrcBPdbjiTMfiklhni09a8sNqRPEv0?auto=format&w=1000\" width=\"200\"/>"
      ],
      "text/plain": [
       "<IPython.core.display.Image object>"
      ]
     },
     "metadata": {},
     "output_type": "display_data"
    },
    {
     "name": "stdout",
     "output_type": "stream",
     "text": [
      "========================\n",
      "Sample 243644\n",
      "https://opensea.io/assets/ethereum/0xf220db48f0d3ca8a9833e0353e7497dbceae7ac6/7677\n",
      "https://i.seadn.io/gae/HD8qeCgCyWao_8SsPqA0YA-WICy2N5WT9KyRr7MNh2-QI6RdkqdLDOEmQil0cy3J86wBzRm73YIzMX9fV3zHKllkdcGcL02mGD5FGA?auto=format&w=1000\n"
     ]
    },
    {
     "data": {
      "text/html": [
       "<img src=\"https://i.seadn.io/gae/HD8qeCgCyWao_8SsPqA0YA-WICy2N5WT9KyRr7MNh2-QI6RdkqdLDOEmQil0cy3J86wBzRm73YIzMX9fV3zHKllkdcGcL02mGD5FGA?auto=format&w=1000\" width=\"200\"/>"
      ],
      "text/plain": [
       "<IPython.core.display.Image object>"
      ]
     },
     "metadata": {},
     "output_type": "display_data"
    },
    {
     "name": "stdout",
     "output_type": "stream",
     "text": [
      "https://opensea.io/assets/ethereum/0x2912919719414a093deac78031e90ba493b8da34/1439\n",
      "https://i.seadn.io/gae/ryxRft-pv9xyzbGNcQk6jCJj7zU1xNtJCxAL1718WDoZf9AXh3tjG3jbCuVn0v5aEH7wvMxkRpbWR2J5-2TXg82M7Tpj3gtaAqY9lA?auto=format&w=1000\n"
     ]
    },
    {
     "data": {
      "text/html": [
       "<img src=\"https://i.seadn.io/gae/ryxRft-pv9xyzbGNcQk6jCJj7zU1xNtJCxAL1718WDoZf9AXh3tjG3jbCuVn0v5aEH7wvMxkRpbWR2J5-2TXg82M7Tpj3gtaAqY9lA?auto=format&w=1000\" width=\"200\"/>"
      ],
      "text/plain": [
       "<IPython.core.display.Image object>"
      ]
     },
     "metadata": {},
     "output_type": "display_data"
    },
    {
     "name": "stdout",
     "output_type": "stream",
     "text": [
      "https://opensea.io/assets/ethereum/0x3cd859effbb3375acde3e2941c7e8e833221dfb1/8733\n",
      "https://i.seadn.io/gae/dmWd9FlahsvUXixDhbaWQ8pemenFqQihAJhJrEw2m9K2zQP3xJ8krGHzj7eRkgPdcT7m0vK8Gg_sMb_vkAr2Fg4YG7Z4WE1gFqzsqQ?auto=format&w=1000\n"
     ]
    },
    {
     "data": {
      "text/html": [
       "<img src=\"https://i.seadn.io/gae/dmWd9FlahsvUXixDhbaWQ8pemenFqQihAJhJrEw2m9K2zQP3xJ8krGHzj7eRkgPdcT7m0vK8Gg_sMb_vkAr2Fg4YG7Z4WE1gFqzsqQ?auto=format&w=1000\" width=\"200\"/>"
      ],
      "text/plain": [
       "<IPython.core.display.Image object>"
      ]
     },
     "metadata": {},
     "output_type": "display_data"
    },
    {
     "name": "stdout",
     "output_type": "stream",
     "text": [
      "https://opensea.io/assets/ethereum/0x3cd859effbb3375acde3e2941c7e8e833221dfb1/8466\n",
      "https://i.seadn.io/gae/PU50QcvM6RNPkkwewzPbOKdq8KyviUW8QWPBT5Ms8yoxyAYHwFeMGmSs1dEZKSjaSqcHaY4Q2I470188ArCS-EaTMDSj9fZy_mNPEA?auto=format&w=1000\n"
     ]
    },
    {
     "data": {
      "text/html": [
       "<img src=\"https://i.seadn.io/gae/PU50QcvM6RNPkkwewzPbOKdq8KyviUW8QWPBT5Ms8yoxyAYHwFeMGmSs1dEZKSjaSqcHaY4Q2I470188ArCS-EaTMDSj9fZy_mNPEA?auto=format&w=1000\" width=\"200\"/>"
      ],
      "text/plain": [
       "<IPython.core.display.Image object>"
      ]
     },
     "metadata": {},
     "output_type": "display_data"
    },
    {
     "name": "stdout",
     "output_type": "stream",
     "text": [
      "https://opensea.io/assets/ethereum/0xfcaecb01d2e095b2cf3e5293afd83bea5e9ff259/4381\n",
      "https://i.seadn.io/gae/b-X0eqMab3WYn632KWvCGY7GhimdzlIkZCIIT11JOzyYLljajYOm21k5rEMJ39WEdIhrhsweUtLNQQls257wWgniryDp02C1VjaODA?auto=format&w=1000\n"
     ]
    },
    {
     "data": {
      "text/html": [
       "<img src=\"https://i.seadn.io/gae/b-X0eqMab3WYn632KWvCGY7GhimdzlIkZCIIT11JOzyYLljajYOm21k5rEMJ39WEdIhrhsweUtLNQQls257wWgniryDp02C1VjaODA?auto=format&w=1000\" width=\"200\"/>"
      ],
      "text/plain": [
       "<IPython.core.display.Image object>"
      ]
     },
     "metadata": {},
     "output_type": "display_data"
    },
    {
     "name": "stdout",
     "output_type": "stream",
     "text": [
      "https://opensea.io/assets/ethereum/0xeac6403e1db546edc25179eb403085212600bb3d/4568\n",
      "https://i.seadn.io/gae/PmJ6TaS8rn3r9oN7wo2-XDm04rismELSY7BN5equH3bUQS3jzf5s4bKTezKcfZExEkl2JxAwrIkqmQvSRfDG8JKwzu1YBwIgYzm_?auto=format&w=1000\n"
     ]
    },
    {
     "data": {
      "text/html": [
       "<img src=\"https://i.seadn.io/gae/PmJ6TaS8rn3r9oN7wo2-XDm04rismELSY7BN5equH3bUQS3jzf5s4bKTezKcfZExEkl2JxAwrIkqmQvSRfDG8JKwzu1YBwIgYzm_?auto=format&w=1000\" width=\"200\"/>"
      ],
      "text/plain": [
       "<IPython.core.display.Image object>"
      ]
     },
     "metadata": {},
     "output_type": "display_data"
    },
    {
     "name": "stdout",
     "output_type": "stream",
     "text": [
      "https://opensea.io/assets/ethereum/0x3cd859effbb3375acde3e2941c7e8e833221dfb1/4320\n",
      "https://i.seadn.io/gae/EI-aBc_i-Z2OeQtpMUZIyUTdvCX4zhUtecQjDOzekTuAioz699mNH2afK3X2lDB-_9TOtVeSrA9Oe8ObjyhKpxw4_bzYY0E50WJ2X8g?auto=format&w=1000\n"
     ]
    },
    {
     "data": {
      "text/html": [
       "<img src=\"https://i.seadn.io/gae/EI-aBc_i-Z2OeQtpMUZIyUTdvCX4zhUtecQjDOzekTuAioz699mNH2afK3X2lDB-_9TOtVeSrA9Oe8ObjyhKpxw4_bzYY0E50WJ2X8g?auto=format&w=1000\" width=\"200\"/>"
      ],
      "text/plain": [
       "<IPython.core.display.Image object>"
      ]
     },
     "metadata": {},
     "output_type": "display_data"
    },
    {
     "name": "stdout",
     "output_type": "stream",
     "text": [
      "https://opensea.io/assets/ethereum/0x19b86299c21505cdf59ce63740b240a9c822b5e4/7434\n",
      "https://img.seadn.io/files/9d5f4d845f186519e821bacadb8254ea.png?fit=max&w=1000\n"
     ]
    },
    {
     "data": {
      "text/html": [
       "<img src=\"https://img.seadn.io/files/9d5f4d845f186519e821bacadb8254ea.png?fit=max&w=1000\" width=\"200\"/>"
      ],
      "text/plain": [
       "<IPython.core.display.Image object>"
      ]
     },
     "metadata": {},
     "output_type": "display_data"
    },
    {
     "name": "stdout",
     "output_type": "stream",
     "text": [
      "https://opensea.io/assets/ethereum/0x0ee80069c9b4993882fe0b3fc256260eff385982/4098\n",
      "https://i.seadn.io/gae/owbmvvthEzsZZX-gH7uCconFnZT_J8LhiDXqix4Xkdr4gfofoRPTjXdnrH2N0deb3vZqCDmb3-_vlIzZOdd9coikBzGaoY_i4I_CX4s?auto=format&w=1000\n"
     ]
    },
    {
     "data": {
      "text/html": [
       "<img src=\"https://i.seadn.io/gae/owbmvvthEzsZZX-gH7uCconFnZT_J8LhiDXqix4Xkdr4gfofoRPTjXdnrH2N0deb3vZqCDmb3-_vlIzZOdd9coikBzGaoY_i4I_CX4s?auto=format&w=1000\" width=\"200\"/>"
      ],
      "text/plain": [
       "<IPython.core.display.Image object>"
      ]
     },
     "metadata": {},
     "output_type": "display_data"
    },
    {
     "name": "stdout",
     "output_type": "stream",
     "text": [
      "https://opensea.io/assets/ethereum/0x3cd859effbb3375acde3e2941c7e8e833221dfb1/9849\n",
      "https://i.seadn.io/gae/PligyKljZDAgi-phP-NKbVV7O9cgchGMqnxgbS4EWRHjRdw7AlgYAT2agszs9T-QymesGFyaYZpCE4IgpdHBc5VlcS-HGJHO-nL940U?auto=format&w=1000\n"
     ]
    },
    {
     "data": {
      "text/html": [
       "<img src=\"https://i.seadn.io/gae/PligyKljZDAgi-phP-NKbVV7O9cgchGMqnxgbS4EWRHjRdw7AlgYAT2agszs9T-QymesGFyaYZpCE4IgpdHBc5VlcS-HGJHO-nL940U?auto=format&w=1000\" width=\"200\"/>"
      ],
      "text/plain": [
       "<IPython.core.display.Image object>"
      ]
     },
     "metadata": {},
     "output_type": "display_data"
    },
    {
     "name": "stdout",
     "output_type": "stream",
     "text": [
      "https://opensea.io/assets/ethereum/0x3cd859effbb3375acde3e2941c7e8e833221dfb1/9830\n",
      "https://i.seadn.io/gae/CCI-DpLWSeMlueQyPblJCGjVmqBuHJVd3rkbDzou2hJnjKr54hzvxA82c73rfZPx_cr110SM9SvAm3oAcUQxZA9UBkSAs-iV7XEmsPg?auto=format&w=1000\n"
     ]
    },
    {
     "data": {
      "text/html": [
       "<img src=\"https://i.seadn.io/gae/CCI-DpLWSeMlueQyPblJCGjVmqBuHJVd3rkbDzou2hJnjKr54hzvxA82c73rfZPx_cr110SM9SvAm3oAcUQxZA9UBkSAs-iV7XEmsPg?auto=format&w=1000\" width=\"200\"/>"
      ],
      "text/plain": [
       "<IPython.core.display.Image object>"
      ]
     },
     "metadata": {},
     "output_type": "display_data"
    },
    {
     "name": "stdout",
     "output_type": "stream",
     "text": [
      "========================\n",
      "Sample 448251\n",
      "https://opensea.io/assets/ethereum/0x7bd29408f11d2bfc23c34f18275bbf23bb716bc7/17601\n",
      "https://img.seadn.io/files/c7f3713ca786a0306c1e01e10dca768c.jpg?fit=max&w=1000\n"
     ]
    },
    {
     "data": {
      "text/html": [
       "<img src=\"https://img.seadn.io/files/c7f3713ca786a0306c1e01e10dca768c.jpg?fit=max&w=1000\" width=\"200\"/>"
      ],
      "text/plain": [
       "<IPython.core.display.Image object>"
      ]
     },
     "metadata": {},
     "output_type": "display_data"
    },
    {
     "name": "stdout",
     "output_type": "stream",
     "text": [
      "https://opensea.io/assets/ethereum/0x57f1887a8bf19b14fc0df6fd9b2acc9af147ea85/12914263511264227120629380647552191732466649591714545347524216900718518333091\n",
      "https://openseauserdata.com/files/eb6f7976ed4edad3202c7d53bdd82ac2.svg\n"
     ]
    },
    {
     "data": {
      "text/html": [
       "<img src=\"https://openseauserdata.com/files/eb6f7976ed4edad3202c7d53bdd82ac2.svg\" width=\"200\"/>"
      ],
      "text/plain": [
       "<IPython.core.display.Image object>"
      ]
     },
     "metadata": {},
     "output_type": "display_data"
    },
    {
     "name": "stdout",
     "output_type": "stream",
     "text": [
      "https://opensea.io/assets/ethereum/0x9ecea566716e98b96fdc1e6e947610ba03366d8f/2625\n",
      "https://i.seadn.io/gae/30jSQDxNBWFr1x9ilH96UMsPdkZZQIYB-UKoGbv0sgLBCNVWBv8p5tjra8zXWXSMMeMSf69phM0fypRuGZiWwBWx5-A9Nv8XflAp4FA?auto=format&w=1000\n"
     ]
    },
    {
     "data": {
      "text/html": [
       "<img src=\"https://i.seadn.io/gae/30jSQDxNBWFr1x9ilH96UMsPdkZZQIYB-UKoGbv0sgLBCNVWBv8p5tjra8zXWXSMMeMSf69phM0fypRuGZiWwBWx5-A9Nv8XflAp4FA?auto=format&w=1000\" width=\"200\"/>"
      ],
      "text/plain": [
       "<IPython.core.display.Image object>"
      ]
     },
     "metadata": {},
     "output_type": "display_data"
    },
    {
     "name": "stdout",
     "output_type": "stream",
     "text": [
      "https://opensea.io/assets/ethereum/0x011c77fa577c500deedad364b8af9e8540b808c0/6452\n",
      "https://i.seadn.io/gae/UBq0Yd4jyFPp5yR-Er0LEQMgT8UxFtw9x65MFtQo2Gcz-TzxiCqKBy1oB7N8hCGMH2QNBVnFU-1aOUyk6cCHBibLZ4LeSpf4UNF1yP8?auto=format&w=1000\n"
     ]
    },
    {
     "data": {
      "text/html": [
       "<img src=\"https://i.seadn.io/gae/UBq0Yd4jyFPp5yR-Er0LEQMgT8UxFtw9x65MFtQo2Gcz-TzxiCqKBy1oB7N8hCGMH2QNBVnFU-1aOUyk6cCHBibLZ4LeSpf4UNF1yP8?auto=format&w=1000\" width=\"200\"/>"
      ],
      "text/plain": [
       "<IPython.core.display.Image object>"
      ]
     },
     "metadata": {},
     "output_type": "display_data"
    },
    {
     "name": "stdout",
     "output_type": "stream",
     "text": [
      "https://opensea.io/assets/ethereum/0xc907ddb25a926d51784aedd4cf9c04e3eb5da12c/9389\n",
      "https://i.seadn.io/gae/Wm1W44SLL3k0Biljlk_1DPo4zHmIgfaFxTDSEv7KZ9AZx_92d1LxswQjvcXcxEFKsvPJeM4Neg7S2sFujPErHL-DsKckS2rx8IVjLw?auto=format&w=1000\n"
     ]
    },
    {
     "data": {
      "text/html": [
       "<img src=\"https://i.seadn.io/gae/Wm1W44SLL3k0Biljlk_1DPo4zHmIgfaFxTDSEv7KZ9AZx_92d1LxswQjvcXcxEFKsvPJeM4Neg7S2sFujPErHL-DsKckS2rx8IVjLw?auto=format&w=1000\" width=\"200\"/>"
      ],
      "text/plain": [
       "<IPython.core.display.Image object>"
      ]
     },
     "metadata": {},
     "output_type": "display_data"
    },
    {
     "name": "stdout",
     "output_type": "stream",
     "text": [
      "https://opensea.io/assets/ethereum/0xc907ddb25a926d51784aedd4cf9c04e3eb5da12c/9392\n",
      "https://i.seadn.io/gae/Eac2dthpNAf1OQ0oz0MzBxbzPIHLkW9bLIGAWyR_rZ5jAsmG9xcLG7kOCvkV0nhn5lvzZXNQepGtIJD5nuuN_C3t5cuTxZuzXPg1ww?auto=format&w=1000\n"
     ]
    },
    {
     "data": {
      "text/html": [
       "<img src=\"https://i.seadn.io/gae/Eac2dthpNAf1OQ0oz0MzBxbzPIHLkW9bLIGAWyR_rZ5jAsmG9xcLG7kOCvkV0nhn5lvzZXNQepGtIJD5nuuN_C3t5cuTxZuzXPg1ww?auto=format&w=1000\" width=\"200\"/>"
      ],
      "text/plain": [
       "<IPython.core.display.Image object>"
      ]
     },
     "metadata": {},
     "output_type": "display_data"
    },
    {
     "name": "stdout",
     "output_type": "stream",
     "text": [
      "https://opensea.io/assets/ethereum/0x7deda0afe6df3da6a85a87b371f8b464c30c6803/7489\n",
      "https://i.seadn.io/gae/KyfLutke2uSxLsydVrgRVyKDh_xXOJ1lQyrnbmArLkEDnEognbZXxNSsPQ2hVW1SxA5GmXSi5lQDlStrNS2D8qY34c79W_HNH8CSonE?auto=format&w=1000\n"
     ]
    },
    {
     "data": {
      "text/html": [
       "<img src=\"https://i.seadn.io/gae/KyfLutke2uSxLsydVrgRVyKDh_xXOJ1lQyrnbmArLkEDnEognbZXxNSsPQ2hVW1SxA5GmXSi5lQDlStrNS2D8qY34c79W_HNH8CSonE?auto=format&w=1000\" width=\"200\"/>"
      ],
      "text/plain": [
       "<IPython.core.display.Image object>"
      ]
     },
     "metadata": {},
     "output_type": "display_data"
    },
    {
     "name": "stdout",
     "output_type": "stream",
     "text": [
      "https://opensea.io/assets/ethereum/0x7deda0afe6df3da6a85a87b371f8b464c30c6803/8857\n",
      "https://i.seadn.io/gae/V6Ov1DPNCfwediCNCPfr8sZycYI8vv_ZAr2W7Smc3oc_5bw0rrILPi2lOhTCyHjaxSXLP4khYwk24qILnyajJveshzUmVclPfysf9w?auto=format&w=1000\n"
     ]
    },
    {
     "data": {
      "text/html": [
       "<img src=\"https://i.seadn.io/gae/V6Ov1DPNCfwediCNCPfr8sZycYI8vv_ZAr2W7Smc3oc_5bw0rrILPi2lOhTCyHjaxSXLP4khYwk24qILnyajJveshzUmVclPfysf9w?auto=format&w=1000\" width=\"200\"/>"
      ],
      "text/plain": [
       "<IPython.core.display.Image object>"
      ]
     },
     "metadata": {},
     "output_type": "display_data"
    },
    {
     "name": "stdout",
     "output_type": "stream",
     "text": [
      "https://opensea.io/assets/ethereum/0x9ecea566716e98b96fdc1e6e947610ba03366d8f/924\n",
      "https://i.seadn.io/gae/2PcNj95oezw-SaVWuxvP7xTr8X5ypc4UMh7ArnxtmCqXP-X24kl5xPF-5B9TR0NBa53GEJ3e2uxB9JMk45esJ2iA3jg1_lZGZu4EW1k?auto=format&w=1000\n"
     ]
    },
    {
     "data": {
      "text/html": [
       "<img src=\"https://i.seadn.io/gae/2PcNj95oezw-SaVWuxvP7xTr8X5ypc4UMh7ArnxtmCqXP-X24kl5xPF-5B9TR0NBa53GEJ3e2uxB9JMk45esJ2iA3jg1_lZGZu4EW1k?auto=format&w=1000\" width=\"200\"/>"
      ],
      "text/plain": [
       "<IPython.core.display.Image object>"
      ]
     },
     "metadata": {},
     "output_type": "display_data"
    },
    {
     "name": "stdout",
     "output_type": "stream",
     "text": [
      "https://opensea.io/assets/ethereum/0x0a3d4f735898a66e621ab55c4e975db10cadf13e/1873\n",
      "https://i.seadn.io/gae/gH2vtYn8yfv7icbRZttXYtj-va-t8BZNY2abK2gTI2Z1CO9eyaWPSpLckhF1K-UCVfpPy2IaMjJMptjBn2mUGDuE1zxzIpsyIviJ2A?auto=format&w=1000\n"
     ]
    },
    {
     "data": {
      "text/html": [
       "<img src=\"https://i.seadn.io/gae/gH2vtYn8yfv7icbRZttXYtj-va-t8BZNY2abK2gTI2Z1CO9eyaWPSpLckhF1K-UCVfpPy2IaMjJMptjBn2mUGDuE1zxzIpsyIviJ2A?auto=format&w=1000\" width=\"200\"/>"
      ],
      "text/plain": [
       "<IPython.core.display.Image object>"
      ]
     },
     "metadata": {},
     "output_type": "display_data"
    },
    {
     "name": "stdout",
     "output_type": "stream",
     "text": [
      "https://opensea.io/assets/ethereum/0x867ba3c89fb7c8f4d72068859c26d147f5330043/4028\n",
      "https://i.seadn.io/gae/ZgYyH_V7WBwj-NcZ1w0CqK05OI3fBDhLZom-MM0xmrQzSPebn8XhLnSi_lzkVh7tMrmTbKOxz5yCgg17RD_GMadTPm4eUDsM9QeEKA?auto=format&w=1000\n"
     ]
    },
    {
     "data": {
      "text/html": [
       "<img src=\"https://i.seadn.io/gae/ZgYyH_V7WBwj-NcZ1w0CqK05OI3fBDhLZom-MM0xmrQzSPebn8XhLnSi_lzkVh7tMrmTbKOxz5yCgg17RD_GMadTPm4eUDsM9QeEKA?auto=format&w=1000\" width=\"200\"/>"
      ],
      "text/plain": [
       "<IPython.core.display.Image object>"
      ]
     },
     "metadata": {},
     "output_type": "display_data"
    },
    {
     "name": "stdout",
     "output_type": "stream",
     "text": [
      "========================\n",
      "Sample 474189\n",
      "https://opensea.io/assets/ethereum/0xed74cd768668c6dfcd629ba393a23943b19dbc06/5911\n",
      "https://i.seadn.io/gae/FCe6d4PjNMYV6xXKPvnaQmDPNM2f3pb6nWj1DAbmhFhn3KOxydAZFGgtAIIXUL1FBU9cq24rdYaw_IOcVsLshFaBBLwTcbBz8JsCig?auto=format&w=1000\n"
     ]
    },
    {
     "data": {
      "text/html": [
       "<img src=\"https://i.seadn.io/gae/FCe6d4PjNMYV6xXKPvnaQmDPNM2f3pb6nWj1DAbmhFhn3KOxydAZFGgtAIIXUL1FBU9cq24rdYaw_IOcVsLshFaBBLwTcbBz8JsCig?auto=format&w=1000\" width=\"200\"/>"
      ],
      "text/plain": [
       "<IPython.core.display.Image object>"
      ]
     },
     "metadata": {},
     "output_type": "display_data"
    },
    {
     "name": "stdout",
     "output_type": "stream",
     "text": [
      "https://opensea.io/assets/ethereum/0x845a007d9f283614f403a24e3eb3455f720559ca/4716\n",
      "https://img.seadn.io/files/8adbc4d3e11956c013ddee49a7f8b55a.png?fit=max&w=1000\n"
     ]
    },
    {
     "data": {
      "text/html": [
       "<img src=\"https://img.seadn.io/files/8adbc4d3e11956c013ddee49a7f8b55a.png?fit=max&w=1000\" width=\"200\"/>"
      ],
      "text/plain": [
       "<IPython.core.display.Image object>"
      ]
     },
     "metadata": {},
     "output_type": "display_data"
    },
    {
     "name": "stdout",
     "output_type": "stream",
     "text": [
      "https://opensea.io/assets/ethereum/0x6728d91abacdbac2f326baa384513a523c21b80a/4678\n",
      "https://i.seadn.io/gae/PmfM8Fpdf1yRsNH61_GAnhaAN2FvfGjLF4UGRmFnEYwcGYRXSUxP7IRJeCCDC6JP1C210OTFckTcq3xHlAQsJpPalEgrhrgLlCPq5Q?auto=format&w=1000\n"
     ]
    },
    {
     "data": {
      "text/html": [
       "<img src=\"https://i.seadn.io/gae/PmfM8Fpdf1yRsNH61_GAnhaAN2FvfGjLF4UGRmFnEYwcGYRXSUxP7IRJeCCDC6JP1C210OTFckTcq3xHlAQsJpPalEgrhrgLlCPq5Q?auto=format&w=1000\" width=\"200\"/>"
      ],
      "text/plain": [
       "<IPython.core.display.Image object>"
      ]
     },
     "metadata": {},
     "output_type": "display_data"
    },
    {
     "name": "stdout",
     "output_type": "stream",
     "text": [
      "https://opensea.io/assets/ethereum/0x5f1cbe84d44e292fe3eae51b87f34bbdc8f04fc8/4509\n",
      "https://i.seadn.io/gae/gl2Vlo3gJcojjQi4B-kPfvLTf9QjrsmQCD1CGiCBZawQcwaSKWhzJFmsCXEfT02l6jBuppXJGAB-wzvB6bqAqUn7K7Fyxbtku58OLqc?auto=format&w=1000\n"
     ]
    },
    {
     "data": {
      "text/html": [
       "<img src=\"https://i.seadn.io/gae/gl2Vlo3gJcojjQi4B-kPfvLTf9QjrsmQCD1CGiCBZawQcwaSKWhzJFmsCXEfT02l6jBuppXJGAB-wzvB6bqAqUn7K7Fyxbtku58OLqc?auto=format&w=1000\" width=\"200\"/>"
      ],
      "text/plain": [
       "<IPython.core.display.Image object>"
      ]
     },
     "metadata": {},
     "output_type": "display_data"
    },
    {
     "name": "stdout",
     "output_type": "stream",
     "text": [
      "https://opensea.io/assets/ethereum/0xa1102b1acd17be19a1e7ab211379a34d8d0f7407/4405\n",
      "https://i.seadn.io/gae/QGgDJuOPSUEaB6Cz9b9iSwjUs8DOYacisrmUAmPj5r2rN4Jmw6LtOnnpTo3lvnfjAFUTJV1YcFRBCZducrnaZCjsolTl3a-nuuWTfA?auto=format&w=1000\n"
     ]
    },
    {
     "data": {
      "text/html": [
       "<img src=\"https://i.seadn.io/gae/QGgDJuOPSUEaB6Cz9b9iSwjUs8DOYacisrmUAmPj5r2rN4Jmw6LtOnnpTo3lvnfjAFUTJV1YcFRBCZducrnaZCjsolTl3a-nuuWTfA?auto=format&w=1000\" width=\"200\"/>"
      ],
      "text/plain": [
       "<IPython.core.display.Image object>"
      ]
     },
     "metadata": {},
     "output_type": "display_data"
    },
    {
     "name": "stdout",
     "output_type": "stream",
     "text": [
      "https://opensea.io/assets/ethereum/0x845a007d9f283614f403a24e3eb3455f720559ca/9914\n",
      "https://img.seadn.io/files/949a5f6a18600e8a068e62b5ff204dc8.png?fit=max&w=1000\n"
     ]
    },
    {
     "data": {
      "text/html": [
       "<img src=\"https://img.seadn.io/files/949a5f6a18600e8a068e62b5ff204dc8.png?fit=max&w=1000\" width=\"200\"/>"
      ],
      "text/plain": [
       "<IPython.core.display.Image object>"
      ]
     },
     "metadata": {},
     "output_type": "display_data"
    },
    {
     "name": "stdout",
     "output_type": "stream",
     "text": [
      "https://opensea.io/assets/ethereum/0xa1102b1acd17be19a1e7ab211379a34d8d0f7407/3670\n",
      "https://i.seadn.io/gae/QGgDJuOPSUEaB6Cz9b9iSwjUs8DOYacisrmUAmPj5r2rN4Jmw6LtOnnpTo3lvnfjAFUTJV1YcFRBCZducrnaZCjsolTl3a-nuuWTfA?auto=format&w=1000\n"
     ]
    },
    {
     "data": {
      "text/html": [
       "<img src=\"https://i.seadn.io/gae/QGgDJuOPSUEaB6Cz9b9iSwjUs8DOYacisrmUAmPj5r2rN4Jmw6LtOnnpTo3lvnfjAFUTJV1YcFRBCZducrnaZCjsolTl3a-nuuWTfA?auto=format&w=1000\" width=\"200\"/>"
      ],
      "text/plain": [
       "<IPython.core.display.Image object>"
      ]
     },
     "metadata": {},
     "output_type": "display_data"
    },
    {
     "name": "stdout",
     "output_type": "stream",
     "text": [
      "https://opensea.io/assets/ethereum/0x845a007d9f283614f403a24e3eb3455f720559ca/8940\n",
      "https://img.seadn.io/files/28fe7f642c04624858c8c3ace65c9fa8.png?fit=max&w=1000\n"
     ]
    },
    {
     "data": {
      "text/html": [
       "<img src=\"https://img.seadn.io/files/28fe7f642c04624858c8c3ace65c9fa8.png?fit=max&w=1000\" width=\"200\"/>"
      ],
      "text/plain": [
       "<IPython.core.display.Image object>"
      ]
     },
     "metadata": {},
     "output_type": "display_data"
    },
    {
     "name": "stdout",
     "output_type": "stream",
     "text": [
      "https://opensea.io/assets/ethereum/0xa1102b1acd17be19a1e7ab211379a34d8d0f7407/4612\n",
      "https://i.seadn.io/gae/QGgDJuOPSUEaB6Cz9b9iSwjUs8DOYacisrmUAmPj5r2rN4Jmw6LtOnnpTo3lvnfjAFUTJV1YcFRBCZducrnaZCjsolTl3a-nuuWTfA?auto=format&w=1000\n"
     ]
    },
    {
     "data": {
      "text/html": [
       "<img src=\"https://i.seadn.io/gae/QGgDJuOPSUEaB6Cz9b9iSwjUs8DOYacisrmUAmPj5r2rN4Jmw6LtOnnpTo3lvnfjAFUTJV1YcFRBCZducrnaZCjsolTl3a-nuuWTfA?auto=format&w=1000\" width=\"200\"/>"
      ],
      "text/plain": [
       "<IPython.core.display.Image object>"
      ]
     },
     "metadata": {},
     "output_type": "display_data"
    },
    {
     "name": "stdout",
     "output_type": "stream",
     "text": [
      "========================\n",
      "Sample 1432833\n",
      "https://opensea.io/assets/ethereum/0x8e5324d34ee9ab2ed84ac9ba237ca0433e89130c/3235\n",
      "https://i.seadn.io/gae/WWVMpRTIxbNcVMPgi8lEOy6M_XrleL0MzAoNNIbfbPLG4gPokTjYHyvQ7bZaHF_763i84kt2BgTVr4-xdxhm6EkMhnfEUbHYgbKOyA?auto=format&w=1000\n"
     ]
    },
    {
     "data": {
      "text/html": [
       "<img src=\"https://i.seadn.io/gae/WWVMpRTIxbNcVMPgi8lEOy6M_XrleL0MzAoNNIbfbPLG4gPokTjYHyvQ7bZaHF_763i84kt2BgTVr4-xdxhm6EkMhnfEUbHYgbKOyA?auto=format&w=1000\" width=\"200\"/>"
      ],
      "text/plain": [
       "<IPython.core.display.Image object>"
      ]
     },
     "metadata": {},
     "output_type": "display_data"
    },
    {
     "name": "stdout",
     "output_type": "stream",
     "text": [
      "https://opensea.io/assets/ethereum/0x8e5324d34ee9ab2ed84ac9ba237ca0433e89130c/2715\n",
      "https://i.seadn.io/gae/F6ojKyRdpDCBpGQ74ELHYV2APOfbXjA4qwRu_B1_TtgRvPYRxBsjnwY4cxFr-nCVUPKjrzxHKSRhJXKgry06k7exn8-7KLELoklU?auto=format&w=1000\n"
     ]
    },
    {
     "data": {
      "text/html": [
       "<img src=\"https://i.seadn.io/gae/F6ojKyRdpDCBpGQ74ELHYV2APOfbXjA4qwRu_B1_TtgRvPYRxBsjnwY4cxFr-nCVUPKjrzxHKSRhJXKgry06k7exn8-7KLELoklU?auto=format&w=1000\" width=\"200\"/>"
      ],
      "text/plain": [
       "<IPython.core.display.Image object>"
      ]
     },
     "metadata": {},
     "output_type": "display_data"
    },
    {
     "name": "stdout",
     "output_type": "stream",
     "text": [
      "https://opensea.io/assets/ethereum/0x8e5324d34ee9ab2ed84ac9ba237ca0433e89130c/266\n",
      "https://i.seadn.io/gae/u11_klJXeXDzgnynNWaT-lADkl0GdfBmYxh6CuWv_5N7M_d6xAyITPrEpBd0CklsG3A5WMmDqdw6nDzhRWb2-6uI_E9F-gSz0ePWWQ?auto=format&w=1000\n"
     ]
    },
    {
     "data": {
      "text/html": [
       "<img src=\"https://i.seadn.io/gae/u11_klJXeXDzgnynNWaT-lADkl0GdfBmYxh6CuWv_5N7M_d6xAyITPrEpBd0CklsG3A5WMmDqdw6nDzhRWb2-6uI_E9F-gSz0ePWWQ?auto=format&w=1000\" width=\"200\"/>"
      ],
      "text/plain": [
       "<IPython.core.display.Image object>"
      ]
     },
     "metadata": {},
     "output_type": "display_data"
    },
    {
     "name": "stdout",
     "output_type": "stream",
     "text": [
      "https://opensea.io/assets/ethereum/0x8e5324d34ee9ab2ed84ac9ba237ca0433e89130c/1428\n",
      "https://i.seadn.io/gae/6rSvhl6nvc9T18StV6FAM9qsIzvR030rQBEL4BfeuOMMhphL5gw26JeiCjtda7l3OVnBFLCwef-TG8nzoStrgDTaOaGLm7wRFgbVFw?auto=format&w=1000\n"
     ]
    },
    {
     "data": {
      "text/html": [
       "<img src=\"https://i.seadn.io/gae/6rSvhl6nvc9T18StV6FAM9qsIzvR030rQBEL4BfeuOMMhphL5gw26JeiCjtda7l3OVnBFLCwef-TG8nzoStrgDTaOaGLm7wRFgbVFw?auto=format&w=1000\" width=\"200\"/>"
      ],
      "text/plain": [
       "<IPython.core.display.Image object>"
      ]
     },
     "metadata": {},
     "output_type": "display_data"
    },
    {
     "name": "stdout",
     "output_type": "stream",
     "text": [
      "https://opensea.io/assets/ethereum/0x8e5324d34ee9ab2ed84ac9ba237ca0433e89130c/3245\n",
      "https://i.seadn.io/gae/YcrJ61ys5lRJFtImigftfYEo4wLe9OZb1713g8jdGTnzfaUTM1-r5OAuWocAN50DMM2uUWBWlq70NMuAzYDdK386G6G5r9FiDu6VLQ?auto=format&w=1000\n"
     ]
    },
    {
     "data": {
      "text/html": [
       "<img src=\"https://i.seadn.io/gae/YcrJ61ys5lRJFtImigftfYEo4wLe9OZb1713g8jdGTnzfaUTM1-r5OAuWocAN50DMM2uUWBWlq70NMuAzYDdK386G6G5r9FiDu6VLQ?auto=format&w=1000\" width=\"200\"/>"
      ],
      "text/plain": [
       "<IPython.core.display.Image object>"
      ]
     },
     "metadata": {},
     "output_type": "display_data"
    },
    {
     "name": "stdout",
     "output_type": "stream",
     "text": [
      "https://opensea.io/assets/ethereum/0x8e5324d34ee9ab2ed84ac9ba237ca0433e89130c/6178\n",
      "https://i.seadn.io/gae/X3JoRompIUIo6dM1ptkO3H1nR2joLhc4wQi4KsHgzrO_8XcUCEi_sxuUgG8hCBV3163nM6Dn6MXtbn6pERvSz7ZlZxjGPRiBMl9jj0c?auto=format&w=1000\n"
     ]
    },
    {
     "data": {
      "text/html": [
       "<img src=\"https://i.seadn.io/gae/X3JoRompIUIo6dM1ptkO3H1nR2joLhc4wQi4KsHgzrO_8XcUCEi_sxuUgG8hCBV3163nM6Dn6MXtbn6pERvSz7ZlZxjGPRiBMl9jj0c?auto=format&w=1000\" width=\"200\"/>"
      ],
      "text/plain": [
       "<IPython.core.display.Image object>"
      ]
     },
     "metadata": {},
     "output_type": "display_data"
    },
    {
     "name": "stdout",
     "output_type": "stream",
     "text": [
      "https://opensea.io/assets/ethereum/0x8e5324d34ee9ab2ed84ac9ba237ca0433e89130c/5816\n",
      "https://i.seadn.io/gae/cKovW01DGSp5ZZHCtIW2lqG5LzEl_qBYF7GyalY5l00VCa2bt0OZ_rqF49IeFyncOdC75eSVcwDxXPcfsw6at4vGkKqvbA5FFePeiwU?auto=format&w=1000\n"
     ]
    },
    {
     "data": {
      "text/html": [
       "<img src=\"https://i.seadn.io/gae/cKovW01DGSp5ZZHCtIW2lqG5LzEl_qBYF7GyalY5l00VCa2bt0OZ_rqF49IeFyncOdC75eSVcwDxXPcfsw6at4vGkKqvbA5FFePeiwU?auto=format&w=1000\" width=\"200\"/>"
      ],
      "text/plain": [
       "<IPython.core.display.Image object>"
      ]
     },
     "metadata": {},
     "output_type": "display_data"
    },
    {
     "name": "stdout",
     "output_type": "stream",
     "text": [
      "https://opensea.io/assets/ethereum/0x8e5324d34ee9ab2ed84ac9ba237ca0433e89130c/6105\n",
      "https://i.seadn.io/gae/1q53-QBkeHbwbS0WuDE9wIqMInnrYLYTJVwKekvQilraa57zAJjaIPAsoRs2RXn52l2_pnJmOciTOU1V7rnL2ORP3UxIW1K1nhMEpA?auto=format&w=1000\n"
     ]
    },
    {
     "data": {
      "text/html": [
       "<img src=\"https://i.seadn.io/gae/1q53-QBkeHbwbS0WuDE9wIqMInnrYLYTJVwKekvQilraa57zAJjaIPAsoRs2RXn52l2_pnJmOciTOU1V7rnL2ORP3UxIW1K1nhMEpA?auto=format&w=1000\" width=\"200\"/>"
      ],
      "text/plain": [
       "<IPython.core.display.Image object>"
      ]
     },
     "metadata": {},
     "output_type": "display_data"
    },
    {
     "name": "stdout",
     "output_type": "stream",
     "text": [
      "https://opensea.io/assets/ethereum/0x8e5324d34ee9ab2ed84ac9ba237ca0433e89130c/6070\n",
      "https://i.seadn.io/gae/1Qp1ljElDOnsY2nBfemQAo18HwlbkFHcYAzelpU3e8YTLRdwcTgkt8JtETSdHcBVV06zY6cjVMWXTvPRgMlR0_77ulK5iDfYxJWykw?auto=format&w=1000\n"
     ]
    },
    {
     "data": {
      "text/html": [
       "<img src=\"https://i.seadn.io/gae/1Qp1ljElDOnsY2nBfemQAo18HwlbkFHcYAzelpU3e8YTLRdwcTgkt8JtETSdHcBVV06zY6cjVMWXTvPRgMlR0_77ulK5iDfYxJWykw?auto=format&w=1000\" width=\"200\"/>"
      ],
      "text/plain": [
       "<IPython.core.display.Image object>"
      ]
     },
     "metadata": {},
     "output_type": "display_data"
    },
    {
     "name": "stdout",
     "output_type": "stream",
     "text": [
      "https://opensea.io/assets/ethereum/0x8e5324d34ee9ab2ed84ac9ba237ca0433e89130c/6502\n",
      "https://i.seadn.io/gae/6rSvhl6nvc9T18StV6FAM9qsIzvR030rQBEL4BfeuOMMhphL5gw26JeiCjtda7l3OVnBFLCwef-TG8nzoStrgDTaOaGLm7wRFgbVFw?auto=format&w=1000\n"
     ]
    },
    {
     "data": {
      "text/html": [
       "<img src=\"https://i.seadn.io/gae/6rSvhl6nvc9T18StV6FAM9qsIzvR030rQBEL4BfeuOMMhphL5gw26JeiCjtda7l3OVnBFLCwef-TG8nzoStrgDTaOaGLm7wRFgbVFw?auto=format&w=1000\" width=\"200\"/>"
      ],
      "text/plain": [
       "<IPython.core.display.Image object>"
      ]
     },
     "metadata": {},
     "output_type": "display_data"
    },
    {
     "name": "stdout",
     "output_type": "stream",
     "text": [
      "https://opensea.io/assets/ethereum/0x8e5324d34ee9ab2ed84ac9ba237ca0433e89130c/6484\n",
      "https://i.seadn.io/gae/6xC8AEZDeshrMsERoHHZVFxFQfEBwnrHOBL-WnwkJ1xuT86q4c39R3gwQ9xDwMAb0tPK4nlcgVBlLdnkNAryVnL1iEF1Y6r44K-8zw?auto=format&w=1000\n"
     ]
    },
    {
     "data": {
      "text/html": [
       "<img src=\"https://i.seadn.io/gae/6xC8AEZDeshrMsERoHHZVFxFQfEBwnrHOBL-WnwkJ1xuT86q4c39R3gwQ9xDwMAb0tPK4nlcgVBlLdnkNAryVnL1iEF1Y6r44K-8zw?auto=format&w=1000\" width=\"200\"/>"
      ],
      "text/plain": [
       "<IPython.core.display.Image object>"
      ]
     },
     "metadata": {},
     "output_type": "display_data"
    },
    {
     "name": "stdout",
     "output_type": "stream",
     "text": [
      "========================\n",
      "Sample 841614\n",
      "https://opensea.io/assets/ethereum/0x6e8273f3d292482891e7be48e763259af9a3f6bb/1592\n",
      "https://i.seadn.io/gae/8YwPBN1lLAgs5DEJbXTMREVoOGheSy4BGRFQQI1zn6KToGNs2-50eQ_JdvRVv-Ul95_Ms_0IIZ8p2uYeC-zFsF-cXwXX6xuvZjYmjQ?auto=format&w=1000\n"
     ]
    },
    {
     "data": {
      "text/html": [
       "<img src=\"https://i.seadn.io/gae/8YwPBN1lLAgs5DEJbXTMREVoOGheSy4BGRFQQI1zn6KToGNs2-50eQ_JdvRVv-Ul95_Ms_0IIZ8p2uYeC-zFsF-cXwXX6xuvZjYmjQ?auto=format&w=1000\" width=\"200\"/>"
      ],
      "text/plain": [
       "<IPython.core.display.Image object>"
      ]
     },
     "metadata": {},
     "output_type": "display_data"
    },
    {
     "name": "stdout",
     "output_type": "stream",
     "text": [
      "https://opensea.io/assets/ethereum/0xd2b4423b313697c81f214696d8cd0b3af1de501e/1543\n",
      "https://i.seadn.io/gae/L1dA6myFNTUcTEXg5kSq8xvkuhRZIJcFrLDxy0tib1n1SN_Wc0kzi-7U09ruNuKVjOKouO34gymzfs0_iKNIZSdxFF1ZCur8Yk6eIw?auto=format&w=1000\n"
     ]
    },
    {
     "data": {
      "text/html": [
       "<img src=\"https://i.seadn.io/gae/L1dA6myFNTUcTEXg5kSq8xvkuhRZIJcFrLDxy0tib1n1SN_Wc0kzi-7U09ruNuKVjOKouO34gymzfs0_iKNIZSdxFF1ZCur8Yk6eIw?auto=format&w=1000\" width=\"200\"/>"
      ],
      "text/plain": [
       "<IPython.core.display.Image object>"
      ]
     },
     "metadata": {},
     "output_type": "display_data"
    },
    {
     "name": "stdout",
     "output_type": "stream",
     "text": [
      "https://opensea.io/assets/ethereum/0x014b6a629d6d8deb6f2cde20e2d5a99d4a601fec/150\n",
      "https://i.seadn.io/gae/6MC959tgpuKKY_nb2Xiw7iQdVbHlRPVwxVMK2mK2C9nKPdCYNxM6dEmPaQcy00fCpWHsMkzmj1MxuY3Ygab7f-ZaIv0Hkh88eSjc?auto=format&w=1000\n"
     ]
    },
    {
     "data": {
      "text/html": [
       "<img src=\"https://i.seadn.io/gae/6MC959tgpuKKY_nb2Xiw7iQdVbHlRPVwxVMK2mK2C9nKPdCYNxM6dEmPaQcy00fCpWHsMkzmj1MxuY3Ygab7f-ZaIv0Hkh88eSjc?auto=format&w=1000\" width=\"200\"/>"
      ],
      "text/plain": [
       "<IPython.core.display.Image object>"
      ]
     },
     "metadata": {},
     "output_type": "display_data"
    },
    {
     "name": "stdout",
     "output_type": "stream",
     "text": [
      "https://opensea.io/assets/ethereum/0xf8581210a6a5cb4821f1a85319f246c11067b84e/804\n",
      "https://i.seadn.io/gae/KCVj5pSo82-SsyPRa_3dmP-08oxHOfSC2m3r7eWMzDcGPgC0_AicpdSRZo6IWxo78SRX5z8xgddeg3ZUerzNaogW6_i-BTx7Pbp0RQ?auto=format&w=1000\n"
     ]
    },
    {
     "data": {
      "text/html": [
       "<img src=\"https://i.seadn.io/gae/KCVj5pSo82-SsyPRa_3dmP-08oxHOfSC2m3r7eWMzDcGPgC0_AicpdSRZo6IWxo78SRX5z8xgddeg3ZUerzNaogW6_i-BTx7Pbp0RQ?auto=format&w=1000\" width=\"200\"/>"
      ],
      "text/plain": [
       "<IPython.core.display.Image object>"
      ]
     },
     "metadata": {},
     "output_type": "display_data"
    },
    {
     "name": "stdout",
     "output_type": "stream",
     "text": [
      "https://opensea.io/assets/ethereum/0xb1c59ce016934f055cc2ddadc19f40d495e4960a/4449\n",
      "https://i.seadn.io/gae/4Lj10s9QqcWgbIqFS0SRWXtVk43BVzNqEtxUef7ozPcjPmVrIqcGOEh8cx2xFouh6ZMttKIUThuc2pPcIDIQHtnQemojWvS3ODQXBw?auto=format&w=1000\n"
     ]
    },
    {
     "data": {
      "text/html": [
       "<img src=\"https://i.seadn.io/gae/4Lj10s9QqcWgbIqFS0SRWXtVk43BVzNqEtxUef7ozPcjPmVrIqcGOEh8cx2xFouh6ZMttKIUThuc2pPcIDIQHtnQemojWvS3ODQXBw?auto=format&w=1000\" width=\"200\"/>"
      ],
      "text/plain": [
       "<IPython.core.display.Image object>"
      ]
     },
     "metadata": {},
     "output_type": "display_data"
    },
    {
     "name": "stdout",
     "output_type": "stream",
     "text": [
      "https://opensea.io/assets/ethereum/0xd2b4423b313697c81f214696d8cd0b3af1de501e/1542\n",
      "https://i.seadn.io/gae/zfFGfavU-y-fxaGMn-vqANTg5xZAjHSP6zbICjyLEx5HmzSTmT6QVqkn-01J9ZQHZJ2lgFhknKIJbbUmXWmh6AN4lsMddFDWmkfqHA?auto=format&w=1000\n"
     ]
    },
    {
     "data": {
      "text/html": [
       "<img src=\"https://i.seadn.io/gae/zfFGfavU-y-fxaGMn-vqANTg5xZAjHSP6zbICjyLEx5HmzSTmT6QVqkn-01J9ZQHZJ2lgFhknKIJbbUmXWmh6AN4lsMddFDWmkfqHA?auto=format&w=1000\" width=\"200\"/>"
      ],
      "text/plain": [
       "<IPython.core.display.Image object>"
      ]
     },
     "metadata": {},
     "output_type": "display_data"
    },
    {
     "name": "stdout",
     "output_type": "stream",
     "text": [
      "https://opensea.io/assets/ethereum/0x6e8273f3d292482891e7be48e763259af9a3f6bb/2047\n",
      "https://i.seadn.io/gae/HRTb4Ncc1ybYRbEz8e7vqzZ-TohUHvrHqDZdA77pC5xm1Aou5jf2hvht65UiaiUIfr0Wc7NprF7DhAfcKE4M30Coj0L2wvWk_lJz?auto=format&w=1000\n"
     ]
    },
    {
     "data": {
      "text/html": [
       "<img src=\"https://i.seadn.io/gae/HRTb4Ncc1ybYRbEz8e7vqzZ-TohUHvrHqDZdA77pC5xm1Aou5jf2hvht65UiaiUIfr0Wc7NprF7DhAfcKE4M30Coj0L2wvWk_lJz?auto=format&w=1000\" width=\"200\"/>"
      ],
      "text/plain": [
       "<IPython.core.display.Image object>"
      ]
     },
     "metadata": {},
     "output_type": "display_data"
    },
    {
     "name": "stdout",
     "output_type": "stream",
     "text": [
      "https://opensea.io/assets/ethereum/0x6e8273f3d292482891e7be48e763259af9a3f6bb/2168\n",
      "https://i.seadn.io/gae/jPAc1ANBJUMbant9HgaK45vh-6x7GEiIEIKnwk3cJDmcZ9PQ28puGm2-0IPLfcKZD0nLeWwwYCa-toiRKpmhgu6kGiSb-rAEK2OxAA?auto=format&w=1000\n"
     ]
    },
    {
     "data": {
      "text/html": [
       "<img src=\"https://i.seadn.io/gae/jPAc1ANBJUMbant9HgaK45vh-6x7GEiIEIKnwk3cJDmcZ9PQ28puGm2-0IPLfcKZD0nLeWwwYCa-toiRKpmhgu6kGiSb-rAEK2OxAA?auto=format&w=1000\" width=\"200\"/>"
      ],
      "text/plain": [
       "<IPython.core.display.Image object>"
      ]
     },
     "metadata": {},
     "output_type": "display_data"
    },
    {
     "name": "stdout",
     "output_type": "stream",
     "text": [
      "https://opensea.io/assets/ethereum/0x6e8273f3d292482891e7be48e763259af9a3f6bb/1601\n",
      "https://i.seadn.io/gae/RlBJq1ZCR58LPNk8kXm2yjAEEAw0ijHjbhuK7i6Iiik6Ua0aCqGgW8GMMXHP76zNUDX2NzQh5zdCb73Jl7gG_K-o6PcxW3oQ0Z1JbQ?auto=format&w=1000\n"
     ]
    },
    {
     "data": {
      "text/html": [
       "<img src=\"https://i.seadn.io/gae/RlBJq1ZCR58LPNk8kXm2yjAEEAw0ijHjbhuK7i6Iiik6Ua0aCqGgW8GMMXHP76zNUDX2NzQh5zdCb73Jl7gG_K-o6PcxW3oQ0Z1JbQ?auto=format&w=1000\" width=\"200\"/>"
      ],
      "text/plain": [
       "<IPython.core.display.Image object>"
      ]
     },
     "metadata": {},
     "output_type": "display_data"
    },
    {
     "name": "stdout",
     "output_type": "stream",
     "text": [
      "https://opensea.io/assets/ethereum/0x6e8273f3d292482891e7be48e763259af9a3f6bb/1258\n",
      "https://i.seadn.io/gae/X4Rmjj_D35pus5SV3TrPlZBa9PxoxKpqleh226iTJw5iy2C49RxwlX5GlhAyw4Zfx3bxfoBa1MER5QL2OlenD6QLQ4SBC7I1giGnBlA?auto=format&w=1000\n"
     ]
    },
    {
     "data": {
      "text/html": [
       "<img src=\"https://i.seadn.io/gae/X4Rmjj_D35pus5SV3TrPlZBa9PxoxKpqleh226iTJw5iy2C49RxwlX5GlhAyw4Zfx3bxfoBa1MER5QL2OlenD6QLQ4SBC7I1giGnBlA?auto=format&w=1000\" width=\"200\"/>"
      ],
      "text/plain": [
       "<IPython.core.display.Image object>"
      ]
     },
     "metadata": {},
     "output_type": "display_data"
    },
    {
     "name": "stdout",
     "output_type": "stream",
     "text": [
      "https://opensea.io/assets/ethereum/0x6e8273f3d292482891e7be48e763259af9a3f6bb/909\n",
      "https://i.seadn.io/gae/1JOiVoR1r0SIZMDpfyk4PcXuUQlYSyp0-0HJGrjJwGYPlO77V_dT51sFzi_Twfkz8XTLMT23wDhjhXOhMGChr5BMxrFixBTZ9E964_w?auto=format&w=1000\n"
     ]
    },
    {
     "data": {
      "text/html": [
       "<img src=\"https://i.seadn.io/gae/1JOiVoR1r0SIZMDpfyk4PcXuUQlYSyp0-0HJGrjJwGYPlO77V_dT51sFzi_Twfkz8XTLMT23wDhjhXOhMGChr5BMxrFixBTZ9E964_w?auto=format&w=1000\" width=\"200\"/>"
      ],
      "text/plain": [
       "<IPython.core.display.Image object>"
      ]
     },
     "metadata": {},
     "output_type": "display_data"
    },
    {
     "name": "stdout",
     "output_type": "stream",
     "text": [
      "========================\n",
      "Sample 1180601\n",
      "https://opensea.io/assets/ethereum/0xe361f10965542ee57d39043c9c3972b77841f581/344\n",
      "https://i.seadn.io/gae/voskBFI669W3aIR-cHBfrU5pYG84tNHWlCydUlwH3277g8Hs3PdEaiSnlWRB7ZicEryC5HttjVVOYTmAkWmhldOnuXqHFyy65P2psA?auto=format&w=1000\n"
     ]
    },
    {
     "data": {
      "text/html": [
       "<img src=\"https://i.seadn.io/gae/voskBFI669W3aIR-cHBfrU5pYG84tNHWlCydUlwH3277g8Hs3PdEaiSnlWRB7ZicEryC5HttjVVOYTmAkWmhldOnuXqHFyy65P2psA?auto=format&w=1000\" width=\"200\"/>"
      ],
      "text/plain": [
       "<IPython.core.display.Image object>"
      ]
     },
     "metadata": {},
     "output_type": "display_data"
    },
    {
     "name": "stdout",
     "output_type": "stream",
     "text": [
      "https://opensea.io/assets/ethereum/0x57f1887a8bf19b14fc0df6fd9b2acc9af147ea85/103315165880429365368023849565089159570311980545227836694628311227508264938600\n",
      "https://openseauserdata.com/files/b938bdca64742c9aba6ee4de5c844c3d.svg\n"
     ]
    },
    {
     "data": {
      "text/html": [
       "<img src=\"https://openseauserdata.com/files/b938bdca64742c9aba6ee4de5c844c3d.svg\" width=\"200\"/>"
      ],
      "text/plain": [
       "<IPython.core.display.Image object>"
      ]
     },
     "metadata": {},
     "output_type": "display_data"
    },
    {
     "name": "stdout",
     "output_type": "stream",
     "text": [
      "https://opensea.io/assets/ethereum/0x57f1887a8bf19b14fc0df6fd9b2acc9af147ea85/101225561630299171570901549870904487518113922541292606520863064859390347954224\n",
      "https://openseauserdata.com/files/2ebb4784640112fc606d09cbee8ca7d4.svg\n"
     ]
    },
    {
     "data": {
      "text/html": [
       "<img src=\"https://openseauserdata.com/files/2ebb4784640112fc606d09cbee8ca7d4.svg\" width=\"200\"/>"
      ],
      "text/plain": [
       "<IPython.core.display.Image object>"
      ]
     },
     "metadata": {},
     "output_type": "display_data"
    },
    {
     "name": "stdout",
     "output_type": "stream",
     "text": [
      "https://opensea.io/assets/ethereum/0x57f1887a8bf19b14fc0df6fd9b2acc9af147ea85/109000930990403104165420097349587074732134403286135562633289157668442066464814\n",
      "https://openseauserdata.com/files/a54b0f30864e6c62749ae8072bc02941.svg\n"
     ]
    },
    {
     "data": {
      "text/html": [
       "<img src=\"https://openseauserdata.com/files/a54b0f30864e6c62749ae8072bc02941.svg\" width=\"200\"/>"
      ],
      "text/plain": [
       "<IPython.core.display.Image object>"
      ]
     },
     "metadata": {},
     "output_type": "display_data"
    },
    {
     "name": "stdout",
     "output_type": "stream",
     "text": [
      "https://opensea.io/assets/ethereum/0x57f1887a8bf19b14fc0df6fd9b2acc9af147ea85/113369426283000905898620121656770157512570948549194151620908404264704520745888\n",
      "https://openseauserdata.com/files/5569b4747b0b03d1d1e4fcae598b1684.svg\n"
     ]
    },
    {
     "data": {
      "text/html": [
       "<img src=\"https://openseauserdata.com/files/5569b4747b0b03d1d1e4fcae598b1684.svg\" width=\"200\"/>"
      ],
      "text/plain": [
       "<IPython.core.display.Image object>"
      ]
     },
     "metadata": {},
     "output_type": "display_data"
    },
    {
     "name": "stdout",
     "output_type": "stream",
     "text": [
      "https://opensea.io/assets/ethereum/0x57f1887a8bf19b14fc0df6fd9b2acc9af147ea85/51326836263809453909299218572374686005339401338965301484532239461875287162759\n",
      "https://openseauserdata.com/files/bfff5b2b060e2eede20fab8eeec17959.svg\n"
     ]
    },
    {
     "data": {
      "text/html": [
       "<img src=\"https://openseauserdata.com/files/bfff5b2b060e2eede20fab8eeec17959.svg\" width=\"200\"/>"
      ],
      "text/plain": [
       "<IPython.core.display.Image object>"
      ]
     },
     "metadata": {},
     "output_type": "display_data"
    },
    {
     "name": "stdout",
     "output_type": "stream",
     "text": [
      "https://opensea.io/assets/ethereum/0x57f1887a8bf19b14fc0df6fd9b2acc9af147ea85/26858617594436576211854339669098429543153811838800052914437470720780428635447\n",
      "https://openseauserdata.com/files/ab2d57461493da7bbd4066b479c2e100.svg\n"
     ]
    },
    {
     "data": {
      "text/html": [
       "<img src=\"https://openseauserdata.com/files/ab2d57461493da7bbd4066b479c2e100.svg\" width=\"200\"/>"
      ],
      "text/plain": [
       "<IPython.core.display.Image object>"
      ]
     },
     "metadata": {},
     "output_type": "display_data"
    },
    {
     "name": "stdout",
     "output_type": "stream",
     "text": [
      "https://opensea.io/assets/ethereum/0x57f1887a8bf19b14fc0df6fd9b2acc9af147ea85/43426361949601291238445915963498982882851576581930871624773659685177387506624\n",
      "https://openseauserdata.com/files/87f9855d1e50f2b36b46550fc852cf99.svg\n"
     ]
    },
    {
     "data": {
      "text/html": [
       "<img src=\"https://openseauserdata.com/files/87f9855d1e50f2b36b46550fc852cf99.svg\" width=\"200\"/>"
      ],
      "text/plain": [
       "<IPython.core.display.Image object>"
      ]
     },
     "metadata": {},
     "output_type": "display_data"
    },
    {
     "name": "stdout",
     "output_type": "stream",
     "text": [
      "https://opensea.io/assets/ethereum/0x57f1887a8bf19b14fc0df6fd9b2acc9af147ea85/13434925657456652690970143503846893690221600846579058708310805870190593052616\n",
      "https://openseauserdata.com/files/101845a9a53768afc4361a59059c0a87.svg\n"
     ]
    },
    {
     "data": {
      "text/html": [
       "<img src=\"https://openseauserdata.com/files/101845a9a53768afc4361a59059c0a87.svg\" width=\"200\"/>"
      ],
      "text/plain": [
       "<IPython.core.display.Image object>"
      ]
     },
     "metadata": {},
     "output_type": "display_data"
    },
    {
     "name": "stdout",
     "output_type": "stream",
     "text": [
      "https://opensea.io/assets/ethereum/0x57f1887a8bf19b14fc0df6fd9b2acc9af147ea85/95357670224644246026882600623922274868251303340988101992755880909289661562387\n",
      "https://openseauserdata.com/files/c2f861683912a91856315538e7c7e5ea.svg\n"
     ]
    },
    {
     "data": {
      "text/html": [
       "<img src=\"https://openseauserdata.com/files/c2f861683912a91856315538e7c7e5ea.svg\" width=\"200\"/>"
      ],
      "text/plain": [
       "<IPython.core.display.Image object>"
      ]
     },
     "metadata": {},
     "output_type": "display_data"
    },
    {
     "name": "stdout",
     "output_type": "stream",
     "text": [
      "========================\n",
      "Sample 1176690\n",
      "https://opensea.io/assets/ethereum/0xe91ceaf5f93032f347ac16fa5b9356ad6aba54bc/3368\n",
      "https://i.seadn.io/gae/oW39KJxZ1vUGHEHZKeqUvdxU8MGNP5MBEjQ1YmVMR73LJT--ElLg7mZUvY6-TGsd8nyBeE1rYCWdypxFw0MK3macKfP6oOYJTsPutw?auto=format&w=1000\n"
     ]
    },
    {
     "data": {
      "text/html": [
       "<img src=\"https://i.seadn.io/gae/oW39KJxZ1vUGHEHZKeqUvdxU8MGNP5MBEjQ1YmVMR73LJT--ElLg7mZUvY6-TGsd8nyBeE1rYCWdypxFw0MK3macKfP6oOYJTsPutw?auto=format&w=1000\" width=\"200\"/>"
      ],
      "text/plain": [
       "<IPython.core.display.Image object>"
      ]
     },
     "metadata": {},
     "output_type": "display_data"
    },
    {
     "name": "stdout",
     "output_type": "stream",
     "text": [
      "https://opensea.io/assets/ethereum/0xc0c30d6bbd74f5c11e255dd34bc2fa7af03122bf/1522\n",
      "https://i.seadn.io/gae/VqDW_uCNp3QzpK8WRs2fSCW7tXU90wJd86G7CUlvHfKQDZnmddmD-aoPFdc7QJ_N3FFeOkQ4vLGnaTO4iMRDOIFrtflHqPkiP23WIPo?auto=format&w=1000\n"
     ]
    },
    {
     "data": {
      "text/html": [
       "<img src=\"https://i.seadn.io/gae/VqDW_uCNp3QzpK8WRs2fSCW7tXU90wJd86G7CUlvHfKQDZnmddmD-aoPFdc7QJ_N3FFeOkQ4vLGnaTO4iMRDOIFrtflHqPkiP23WIPo?auto=format&w=1000\" width=\"200\"/>"
      ],
      "text/plain": [
       "<IPython.core.display.Image object>"
      ]
     },
     "metadata": {},
     "output_type": "display_data"
    },
    {
     "name": "stdout",
     "output_type": "stream",
     "text": [
      "https://opensea.io/assets/ethereum/0x43ebbeda1ab50de58e2adbc071ab78d27864b5e4/2346\n",
      "https://i.seadn.io/gae/UuSqT9SVJgemykUSvOedaL3lTLWEt68mzDZHoUX-yRw9131ILzekc30_2UVCxh9OqJFuhJQomk1hoRe_-flS-nFfYG5KWAHAF62oYg?auto=format&w=1000\n"
     ]
    },
    {
     "data": {
      "text/html": [
       "<img src=\"https://i.seadn.io/gae/UuSqT9SVJgemykUSvOedaL3lTLWEt68mzDZHoUX-yRw9131ILzekc30_2UVCxh9OqJFuhJQomk1hoRe_-flS-nFfYG5KWAHAF62oYg?auto=format&w=1000\" width=\"200\"/>"
      ],
      "text/plain": [
       "<IPython.core.display.Image object>"
      ]
     },
     "metadata": {},
     "output_type": "display_data"
    },
    {
     "name": "stdout",
     "output_type": "stream",
     "text": [
      "https://opensea.io/assets/ethereum/0x7093c9d9692b2f59796f9329cbb7bc282215d7d9/523\n",
      "https://i.seadn.io/gae/BKSyxGQllixAUgfPdfNzBPPjl831FFW-Lv_0NqTIW7MM7RXurDd9g4oR4LodvqQSzsBYdHxjwtsFmn60kVndIeMhQiq4quISd4iu5g?auto=format&w=1000\n"
     ]
    },
    {
     "data": {
      "text/html": [
       "<img src=\"https://i.seadn.io/gae/BKSyxGQllixAUgfPdfNzBPPjl831FFW-Lv_0NqTIW7MM7RXurDd9g4oR4LodvqQSzsBYdHxjwtsFmn60kVndIeMhQiq4quISd4iu5g?auto=format&w=1000\" width=\"200\"/>"
      ],
      "text/plain": [
       "<IPython.core.display.Image object>"
      ]
     },
     "metadata": {},
     "output_type": "display_data"
    },
    {
     "name": "stdout",
     "output_type": "stream",
     "text": [
      "https://opensea.io/assets/ethereum/0x4ef3d9eab34783995bc394d569845585ac805ef8/5329\n",
      "https://i.seadn.io/gae/lox9ReaMFif0bUjyRMchThLaZW5WdS6c1Hv7iKki-gEJ4EQWX6EEwXgNbFOA67gaG7759bE_hNygJ-lJ5_llXzE2JYvbquHN2f-VvqY?auto=format&w=1000\n"
     ]
    },
    {
     "data": {
      "text/html": [
       "<img src=\"https://i.seadn.io/gae/lox9ReaMFif0bUjyRMchThLaZW5WdS6c1Hv7iKki-gEJ4EQWX6EEwXgNbFOA67gaG7759bE_hNygJ-lJ5_llXzE2JYvbquHN2f-VvqY?auto=format&w=1000\" width=\"200\"/>"
      ],
      "text/plain": [
       "<IPython.core.display.Image object>"
      ]
     },
     "metadata": {},
     "output_type": "display_data"
    },
    {
     "name": "stdout",
     "output_type": "stream",
     "text": [
      "https://opensea.io/assets/ethereum/0x8ab8c42bf87ef3deaa33d2efebdc1e6d675ae32f/1370\n",
      "https://i.seadn.io/gae/YVLnCAq75rijPl5Bo52uaXRM0l0z-7Q1CPhanyKvSP0H3AFyjjda__g_G5jm52azZf2jG1tTr-wu0mP06N-rS1V6mZiQ33wJbmeiIXc?auto=format&w=1000\n"
     ]
    },
    {
     "data": {
      "text/html": [
       "<img src=\"https://i.seadn.io/gae/YVLnCAq75rijPl5Bo52uaXRM0l0z-7Q1CPhanyKvSP0H3AFyjjda__g_G5jm52azZf2jG1tTr-wu0mP06N-rS1V6mZiQ33wJbmeiIXc?auto=format&w=1000\" width=\"200\"/>"
      ],
      "text/plain": [
       "<IPython.core.display.Image object>"
      ]
     },
     "metadata": {},
     "output_type": "display_data"
    },
    {
     "name": "stdout",
     "output_type": "stream",
     "text": [
      "https://opensea.io/assets/ethereum/0x8ab8c42bf87ef3deaa33d2efebdc1e6d675ae32f/1369\n",
      "https://i.seadn.io/gcs/files/bae6a53ace32b77c9cc86baca0b8a720.jpg?auto=format&w=1000\n"
     ]
    },
    {
     "data": {
      "text/html": [
       "<img src=\"https://i.seadn.io/gcs/files/bae6a53ace32b77c9cc86baca0b8a720.jpg?auto=format&w=1000\" width=\"200\"/>"
      ],
      "text/plain": [
       "<IPython.core.display.Image object>"
      ]
     },
     "metadata": {},
     "output_type": "display_data"
    },
    {
     "name": "stdout",
     "output_type": "stream",
     "text": [
      "https://opensea.io/assets/ethereum/0xcb4307f1c3b5556256748ddf5b86e81258990b3c/5107\n",
      "https://i.seadn.io/gae/KBKSFlT1eSC7aQOkLXE_t6cgynC_SHffJyw7MIjNO3lqBTmESA2ZDL5NQLyWDMexImqdA1rADgIyTIBpPRedFJ43yMd91q_CVz6pF3g?auto=format&w=1000\n"
     ]
    },
    {
     "data": {
      "text/html": [
       "<img src=\"https://i.seadn.io/gae/KBKSFlT1eSC7aQOkLXE_t6cgynC_SHffJyw7MIjNO3lqBTmESA2ZDL5NQLyWDMexImqdA1rADgIyTIBpPRedFJ43yMd91q_CVz6pF3g?auto=format&w=1000\" width=\"200\"/>"
      ],
      "text/plain": [
       "<IPython.core.display.Image object>"
      ]
     },
     "metadata": {},
     "output_type": "display_data"
    },
    {
     "name": "stdout",
     "output_type": "stream",
     "text": [
      "https://opensea.io/assets/ethereum/0x43ebbeda1ab50de58e2adbc071ab78d27864b5e4/2348\n",
      "https://i.seadn.io/gae/nR5C8GgC4-laVWxoycG2vaRYuol-TjpfWoDUKo2I_CVFCfdSWoJxr_qAt0-cDA8mWzV1Qf-uIWsTaZBVWqE9KtS9M4woZaUob5UQU9Q?auto=format&w=1000\n"
     ]
    },
    {
     "data": {
      "text/html": [
       "<img src=\"https://i.seadn.io/gae/nR5C8GgC4-laVWxoycG2vaRYuol-TjpfWoDUKo2I_CVFCfdSWoJxr_qAt0-cDA8mWzV1Qf-uIWsTaZBVWqE9KtS9M4woZaUob5UQU9Q?auto=format&w=1000\" width=\"200\"/>"
      ],
      "text/plain": [
       "<IPython.core.display.Image object>"
      ]
     },
     "metadata": {},
     "output_type": "display_data"
    },
    {
     "name": "stdout",
     "output_type": "stream",
     "text": [
      "https://opensea.io/assets/ethereum/0xecc0140a81cd0b331091750a4420a33325e31f4a/1216\n",
      "https://i.seadn.io/gae/PtN2rDXXDIaTlllZzL88-kS_SMNWrbEBh9eh-9qv9CjjCz6LC5eZ1IdKUn4h_EFcy_zXmOO4QWTTIXGn0hINquMRGqnDZmsJFzSvZQ0?auto=format&w=1000\n"
     ]
    },
    {
     "data": {
      "text/html": [
       "<img src=\"https://i.seadn.io/gae/PtN2rDXXDIaTlllZzL88-kS_SMNWrbEBh9eh-9qv9CjjCz6LC5eZ1IdKUn4h_EFcy_zXmOO4QWTTIXGn0hINquMRGqnDZmsJFzSvZQ0?auto=format&w=1000\" width=\"200\"/>"
      ],
      "text/plain": [
       "<IPython.core.display.Image object>"
      ]
     },
     "metadata": {},
     "output_type": "display_data"
    },
    {
     "name": "stdout",
     "output_type": "stream",
     "text": [
      "========================\n",
      "Sample 133712\n",
      "https://opensea.io/assets/ethereum/0x0b7600ca77fc257fe7eb432f87825cccc4590037/3249\n",
      "https://i.seadn.io/gae/GbDyvFYlwMVtbVJANIc3nYqcbWs7HSZ_Sp6rfPE3ISZA7spHDgM-YbanqFKugeHrgynIUAnF19lwIhV3StP1CNpUwkMcil4RQP2AXw?auto=format&w=1000\n"
     ]
    },
    {
     "data": {
      "text/html": [
       "<img src=\"https://i.seadn.io/gae/GbDyvFYlwMVtbVJANIc3nYqcbWs7HSZ_Sp6rfPE3ISZA7spHDgM-YbanqFKugeHrgynIUAnF19lwIhV3StP1CNpUwkMcil4RQP2AXw?auto=format&w=1000\" width=\"200\"/>"
      ],
      "text/plain": [
       "<IPython.core.display.Image object>"
      ]
     },
     "metadata": {},
     "output_type": "display_data"
    },
    {
     "name": "stdout",
     "output_type": "stream",
     "text": [
      "https://opensea.io/assets/ethereum/0x7f9c2c1a1ff282748cba62d38d5acc801710f6d0/569\n",
      "https://i.seadn.io/gae/_-H1j0dh0Ignur7AiQtGQmQniTYI3nlLFwimGR9AqRMhqTgHowapP9F5r4WDViElENzYojVKLlNsp5WcgFN4SeuMBbi_-ss_3InCrQ?auto=format&w=1000\n"
     ]
    },
    {
     "data": {
      "text/html": [
       "<img src=\"https://i.seadn.io/gae/_-H1j0dh0Ignur7AiQtGQmQniTYI3nlLFwimGR9AqRMhqTgHowapP9F5r4WDViElENzYojVKLlNsp5WcgFN4SeuMBbi_-ss_3InCrQ?auto=format&w=1000\" width=\"200\"/>"
      ],
      "text/plain": [
       "<IPython.core.display.Image object>"
      ]
     },
     "metadata": {},
     "output_type": "display_data"
    },
    {
     "name": "stdout",
     "output_type": "stream",
     "text": [
      "https://opensea.io/assets/ethereum/0xa06fda2caa66148603314451ba0f30c9c5d539e3/9615\n",
      "https://i.seadn.io/gae/LdFvsdmJfqA4wEQ1mxFimRGz57yLTuo-2fwBBXm00AxX9SJ_dd7Oac_FG9r88YxC7_8NHwY8SqGk12TrbzJtHm7HnilmU2sScS0l?auto=format&w=1000\n"
     ]
    },
    {
     "data": {
      "text/html": [
       "<img src=\"https://i.seadn.io/gae/LdFvsdmJfqA4wEQ1mxFimRGz57yLTuo-2fwBBXm00AxX9SJ_dd7Oac_FG9r88YxC7_8NHwY8SqGk12TrbzJtHm7HnilmU2sScS0l?auto=format&w=1000\" width=\"200\"/>"
      ],
      "text/plain": [
       "<IPython.core.display.Image object>"
      ]
     },
     "metadata": {},
     "output_type": "display_data"
    },
    {
     "name": "stdout",
     "output_type": "stream",
     "text": [
      "https://opensea.io/assets/ethereum/0xf3e65ca116cb7869e5cfc8b4ce69f2f900121e1f/2304\n",
      "https://i.seadn.io/gae/YEAEyyC7KEZCd4hyg7dpU2yRujLV-9_B70NAAirWuYjz-LJWORkLa_sYkvCMONjBSdZ-IUUpd9WM8GXR6HHGsf2oqWfUkagqhHej9w?auto=format&w=1000\n"
     ]
    },
    {
     "data": {
      "text/html": [
       "<img src=\"https://i.seadn.io/gae/YEAEyyC7KEZCd4hyg7dpU2yRujLV-9_B70NAAirWuYjz-LJWORkLa_sYkvCMONjBSdZ-IUUpd9WM8GXR6HHGsf2oqWfUkagqhHej9w?auto=format&w=1000\" width=\"200\"/>"
      ],
      "text/plain": [
       "<IPython.core.display.Image object>"
      ]
     },
     "metadata": {},
     "output_type": "display_data"
    },
    {
     "name": "stdout",
     "output_type": "stream",
     "text": [
      "https://opensea.io/assets/ethereum/0x323d0aa0b5be2f90728482e2e24ccd00d5419b84/375\n",
      "https://i.seadn.io/gae/fs0pCUo4eRbOt8m3Dz_WhrCJl-sVjElrp1V7Reonoiw1Yj14X9q0z6VNoFQQKba1NhzmFkFnReDf4zUiIKG8pIePqXZ2MeN9WB7yrQ?auto=format&w=1000\n"
     ]
    },
    {
     "data": {
      "text/html": [
       "<img src=\"https://i.seadn.io/gae/fs0pCUo4eRbOt8m3Dz_WhrCJl-sVjElrp1V7Reonoiw1Yj14X9q0z6VNoFQQKba1NhzmFkFnReDf4zUiIKG8pIePqXZ2MeN9WB7yrQ?auto=format&w=1000\" width=\"200\"/>"
      ],
      "text/plain": [
       "<IPython.core.display.Image object>"
      ]
     },
     "metadata": {},
     "output_type": "display_data"
    },
    {
     "name": "stdout",
     "output_type": "stream",
     "text": [
      "https://opensea.io/assets/ethereum/0x323d0aa0b5be2f90728482e2e24ccd00d5419b84/376\n",
      "https://i.seadn.io/gae/fs0pCUo4eRbOt8m3Dz_WhrCJl-sVjElrp1V7Reonoiw1Yj14X9q0z6VNoFQQKba1NhzmFkFnReDf4zUiIKG8pIePqXZ2MeN9WB7yrQ?auto=format&w=1000\n"
     ]
    },
    {
     "data": {
      "text/html": [
       "<img src=\"https://i.seadn.io/gae/fs0pCUo4eRbOt8m3Dz_WhrCJl-sVjElrp1V7Reonoiw1Yj14X9q0z6VNoFQQKba1NhzmFkFnReDf4zUiIKG8pIePqXZ2MeN9WB7yrQ?auto=format&w=1000\" width=\"200\"/>"
      ],
      "text/plain": [
       "<IPython.core.display.Image object>"
      ]
     },
     "metadata": {},
     "output_type": "display_data"
    },
    {
     "name": "stdout",
     "output_type": "stream",
     "text": [
      "https://opensea.io/assets/ethereum/0x323d0aa0b5be2f90728482e2e24ccd00d5419b84/377\n",
      "https://i.seadn.io/gae/fs0pCUo4eRbOt8m3Dz_WhrCJl-sVjElrp1V7Reonoiw1Yj14X9q0z6VNoFQQKba1NhzmFkFnReDf4zUiIKG8pIePqXZ2MeN9WB7yrQ?auto=format&w=1000\n"
     ]
    },
    {
     "data": {
      "text/html": [
       "<img src=\"https://i.seadn.io/gae/fs0pCUo4eRbOt8m3Dz_WhrCJl-sVjElrp1V7Reonoiw1Yj14X9q0z6VNoFQQKba1NhzmFkFnReDf4zUiIKG8pIePqXZ2MeN9WB7yrQ?auto=format&w=1000\" width=\"200\"/>"
      ],
      "text/plain": [
       "<IPython.core.display.Image object>"
      ]
     },
     "metadata": {},
     "output_type": "display_data"
    },
    {
     "name": "stdout",
     "output_type": "stream",
     "text": [
      "https://opensea.io/assets/ethereum/0x323d0aa0b5be2f90728482e2e24ccd00d5419b84/378\n",
      "https://i.seadn.io/gae/fs0pCUo4eRbOt8m3Dz_WhrCJl-sVjElrp1V7Reonoiw1Yj14X9q0z6VNoFQQKba1NhzmFkFnReDf4zUiIKG8pIePqXZ2MeN9WB7yrQ?auto=format&w=1000\n"
     ]
    },
    {
     "data": {
      "text/html": [
       "<img src=\"https://i.seadn.io/gae/fs0pCUo4eRbOt8m3Dz_WhrCJl-sVjElrp1V7Reonoiw1Yj14X9q0z6VNoFQQKba1NhzmFkFnReDf4zUiIKG8pIePqXZ2MeN9WB7yrQ?auto=format&w=1000\" width=\"200\"/>"
      ],
      "text/plain": [
       "<IPython.core.display.Image object>"
      ]
     },
     "metadata": {},
     "output_type": "display_data"
    },
    {
     "name": "stdout",
     "output_type": "stream",
     "text": [
      "https://opensea.io/assets/ethereum/0x323d0aa0b5be2f90728482e2e24ccd00d5419b84/380\n",
      "https://i.seadn.io/gae/fs0pCUo4eRbOt8m3Dz_WhrCJl-sVjElrp1V7Reonoiw1Yj14X9q0z6VNoFQQKba1NhzmFkFnReDf4zUiIKG8pIePqXZ2MeN9WB7yrQ?auto=format&w=1000\n"
     ]
    },
    {
     "data": {
      "text/html": [
       "<img src=\"https://i.seadn.io/gae/fs0pCUo4eRbOt8m3Dz_WhrCJl-sVjElrp1V7Reonoiw1Yj14X9q0z6VNoFQQKba1NhzmFkFnReDf4zUiIKG8pIePqXZ2MeN9WB7yrQ?auto=format&w=1000\" width=\"200\"/>"
      ],
      "text/plain": [
       "<IPython.core.display.Image object>"
      ]
     },
     "metadata": {},
     "output_type": "display_data"
    },
    {
     "name": "stdout",
     "output_type": "stream",
     "text": [
      "https://opensea.io/assets/ethereum/0x323d0aa0b5be2f90728482e2e24ccd00d5419b84/381\n",
      "https://i.seadn.io/gae/fs0pCUo4eRbOt8m3Dz_WhrCJl-sVjElrp1V7Reonoiw1Yj14X9q0z6VNoFQQKba1NhzmFkFnReDf4zUiIKG8pIePqXZ2MeN9WB7yrQ?auto=format&w=1000\n"
     ]
    },
    {
     "data": {
      "text/html": [
       "<img src=\"https://i.seadn.io/gae/fs0pCUo4eRbOt8m3Dz_WhrCJl-sVjElrp1V7Reonoiw1Yj14X9q0z6VNoFQQKba1NhzmFkFnReDf4zUiIKG8pIePqXZ2MeN9WB7yrQ?auto=format&w=1000\" width=\"200\"/>"
      ],
      "text/plain": [
       "<IPython.core.display.Image object>"
      ]
     },
     "metadata": {},
     "output_type": "display_data"
    },
    {
     "name": "stdout",
     "output_type": "stream",
     "text": [
      "========================\n",
      "Sample 1032222\n",
      "https://opensea.io/assets/ethereum/0xaac2cb9f4561d924f7f45b47726f8b3752515ae5/5201\n",
      "https://i.seadn.io/gae/De2a37_vx-V9oMkc0BXR6BdqUxQu1l-V67cWBs7-QINfHcel8j9yh5VLVgUcYW593DrB7koj05N91pO6IZZ_GvQ5kE2L8WTE7ZoPdg?auto=format&w=1000\n"
     ]
    },
    {
     "data": {
      "text/html": [
       "<img src=\"https://i.seadn.io/gae/De2a37_vx-V9oMkc0BXR6BdqUxQu1l-V67cWBs7-QINfHcel8j9yh5VLVgUcYW593DrB7koj05N91pO6IZZ_GvQ5kE2L8WTE7ZoPdg?auto=format&w=1000\" width=\"200\"/>"
      ],
      "text/plain": [
       "<IPython.core.display.Image object>"
      ]
     },
     "metadata": {},
     "output_type": "display_data"
    },
    {
     "name": "stdout",
     "output_type": "stream",
     "text": [
      "https://opensea.io/assets/ethereum/0xccb9d89e0f77df3618eec9f6bf899be3b5561a89/16795\n",
      "https://i.seadn.io/gae/OTz0UPh8ScBoS_y7fRJYbNOyfgLrJdopt1MxLVCGnrDTGecJZ5iEMnvF0jaPIypGq_k2iYwDe7HOecE2Zos4StkPL9H1AAo2j_9DJw?auto=format&w=1000\n"
     ]
    },
    {
     "data": {
      "text/html": [
       "<img src=\"https://i.seadn.io/gae/OTz0UPh8ScBoS_y7fRJYbNOyfgLrJdopt1MxLVCGnrDTGecJZ5iEMnvF0jaPIypGq_k2iYwDe7HOecE2Zos4StkPL9H1AAo2j_9DJw?auto=format&w=1000\" width=\"200\"/>"
      ],
      "text/plain": [
       "<IPython.core.display.Image object>"
      ]
     },
     "metadata": {},
     "output_type": "display_data"
    },
    {
     "name": "stdout",
     "output_type": "stream",
     "text": [
      "https://opensea.io/assets/ethereum/0x0b1d6565d88f9bf6473e21c2ab58d28a495d7bb5/1868\n",
      "https://i.seadn.io/gae/JW8KQwiuQ1aaxef3r0whjU3BvbvwFcLy5mTRfVSQn85c28nqy4utVWYgFRx-uBo_XV1O2Xln0yWRcXClUWVU9ehgc0MqhNjWocFz2Q?auto=format&w=1000\n"
     ]
    },
    {
     "data": {
      "text/html": [
       "<img src=\"https://i.seadn.io/gae/JW8KQwiuQ1aaxef3r0whjU3BvbvwFcLy5mTRfVSQn85c28nqy4utVWYgFRx-uBo_XV1O2Xln0yWRcXClUWVU9ehgc0MqhNjWocFz2Q?auto=format&w=1000\" width=\"200\"/>"
      ],
      "text/plain": [
       "<IPython.core.display.Image object>"
      ]
     },
     "metadata": {},
     "output_type": "display_data"
    },
    {
     "name": "stdout",
     "output_type": "stream",
     "text": [
      "https://opensea.io/assets/ethereum/0xccb9d89e0f77df3618eec9f6bf899be3b5561a89/9248\n",
      "https://i.seadn.io/gae/OTz0UPh8ScBoS_y7fRJYbNOyfgLrJdopt1MxLVCGnrDTGecJZ5iEMnvF0jaPIypGq_k2iYwDe7HOecE2Zos4StkPL9H1AAo2j_9DJw?auto=format&w=1000\n"
     ]
    },
    {
     "data": {
      "text/html": [
       "<img src=\"https://i.seadn.io/gae/OTz0UPh8ScBoS_y7fRJYbNOyfgLrJdopt1MxLVCGnrDTGecJZ5iEMnvF0jaPIypGq_k2iYwDe7HOecE2Zos4StkPL9H1AAo2j_9DJw?auto=format&w=1000\" width=\"200\"/>"
      ],
      "text/plain": [
       "<IPython.core.display.Image object>"
      ]
     },
     "metadata": {},
     "output_type": "display_data"
    },
    {
     "name": "stdout",
     "output_type": "stream",
     "text": [
      "https://opensea.io/assets/ethereum/0xccb9d89e0f77df3618eec9f6bf899be3b5561a89/9317\n",
      "https://i.seadn.io/gae/OTz0UPh8ScBoS_y7fRJYbNOyfgLrJdopt1MxLVCGnrDTGecJZ5iEMnvF0jaPIypGq_k2iYwDe7HOecE2Zos4StkPL9H1AAo2j_9DJw?auto=format&w=1000\n"
     ]
    },
    {
     "data": {
      "text/html": [
       "<img src=\"https://i.seadn.io/gae/OTz0UPh8ScBoS_y7fRJYbNOyfgLrJdopt1MxLVCGnrDTGecJZ5iEMnvF0jaPIypGq_k2iYwDe7HOecE2Zos4StkPL9H1AAo2j_9DJw?auto=format&w=1000\" width=\"200\"/>"
      ],
      "text/plain": [
       "<IPython.core.display.Image object>"
      ]
     },
     "metadata": {},
     "output_type": "display_data"
    },
    {
     "name": "stdout",
     "output_type": "stream",
     "text": [
      "https://opensea.io/assets/ethereum/0x57f1887a8bf19b14fc0df6fd9b2acc9af147ea85/111700958393428431501672004950200808578200509781444952760328770801084880967734\n",
      "https://img.seadn.io/files/3164909d8e84e9d6c23286a174492d4e.png?fit=max&w=1000\n"
     ]
    },
    {
     "data": {
      "text/html": [
       "<img src=\"https://img.seadn.io/files/3164909d8e84e9d6c23286a174492d4e.png?fit=max&w=1000\" width=\"200\"/>"
      ],
      "text/plain": [
       "<IPython.core.display.Image object>"
      ]
     },
     "metadata": {},
     "output_type": "display_data"
    },
    {
     "name": "stdout",
     "output_type": "stream",
     "text": [
      "https://opensea.io/assets/ethereum/0x57f1887a8bf19b14fc0df6fd9b2acc9af147ea85/92414454883234172887579282723781215083076584435211629312965528044662367033239\n",
      "https://img.seadn.io/files/5ac2d5da176e08a2eee4b96167ae0258.png?fit=max&w=1000\n"
     ]
    },
    {
     "data": {
      "text/html": [
       "<img src=\"https://img.seadn.io/files/5ac2d5da176e08a2eee4b96167ae0258.png?fit=max&w=1000\" width=\"200\"/>"
      ],
      "text/plain": [
       "<IPython.core.display.Image object>"
      ]
     },
     "metadata": {},
     "output_type": "display_data"
    },
    {
     "name": "stdout",
     "output_type": "stream",
     "text": [
      "https://opensea.io/assets/ethereum/0x57f1887a8bf19b14fc0df6fd9b2acc9af147ea85/44138268083015339630934127047217135477588783151663021533521209707703661116054\n",
      "https://openseauserdata.com/files/cc100cb24353685cd97e08bf05e6df15.svg\n"
     ]
    },
    {
     "data": {
      "text/html": [
       "<img src=\"https://openseauserdata.com/files/cc100cb24353685cd97e08bf05e6df15.svg\" width=\"200\"/>"
      ],
      "text/plain": [
       "<IPython.core.display.Image object>"
      ]
     },
     "metadata": {},
     "output_type": "display_data"
    },
    {
     "name": "stdout",
     "output_type": "stream",
     "text": [
      "https://opensea.io/assets/ethereum/0x57f1887a8bf19b14fc0df6fd9b2acc9af147ea85/92253338114402754409262310834449954874599504807899703431958334591263038014072\n",
      "https://img.seadn.io/files/9fccc5800a6fc8856ccbc6781d29fd61.png?fit=max&w=1000\n"
     ]
    },
    {
     "data": {
      "text/html": [
       "<img src=\"https://img.seadn.io/files/9fccc5800a6fc8856ccbc6781d29fd61.png?fit=max&w=1000\" width=\"200\"/>"
      ],
      "text/plain": [
       "<IPython.core.display.Image object>"
      ]
     },
     "metadata": {},
     "output_type": "display_data"
    },
    {
     "name": "stdout",
     "output_type": "stream",
     "text": [
      "https://opensea.io/assets/ethereum/0x57f1887a8bf19b14fc0df6fd9b2acc9af147ea85/83613517140011267036202742848665917198548152168016026765886636581976486367688\n",
      "https://openseauserdata.com/files/638ca45792f5ed9baf5765366427f354.svg\n"
     ]
    },
    {
     "data": {
      "text/html": [
       "<img src=\"https://openseauserdata.com/files/638ca45792f5ed9baf5765366427f354.svg\" width=\"200\"/>"
      ],
      "text/plain": [
       "<IPython.core.display.Image object>"
      ]
     },
     "metadata": {},
     "output_type": "display_data"
    },
    {
     "name": "stdout",
     "output_type": "stream",
     "text": [
      "https://opensea.io/assets/ethereum/0x57f1887a8bf19b14fc0df6fd9b2acc9af147ea85/75725764897340509222004166190721621453090440957521362222684836539819488539182\n",
      "https://openseauserdata.com/files/0d55ba1c0a88f0a8f7adef87c42ea8f8.svg\n"
     ]
    },
    {
     "data": {
      "text/html": [
       "<img src=\"https://openseauserdata.com/files/0d55ba1c0a88f0a8f7adef87c42ea8f8.svg\" width=\"200\"/>"
      ],
      "text/plain": [
       "<IPython.core.display.Image object>"
      ]
     },
     "metadata": {},
     "output_type": "display_data"
    },
    {
     "name": "stdout",
     "output_type": "stream",
     "text": [
      "========================\n",
      "Sample 1186984\n",
      "https://opensea.io/assets/ethereum/0x05fe4e1c113272211fa00983f162d04cd202ff53/1375\n",
      "https://i.seadn.io/gae/oty3eLsR4882F8xRWG0E7jtWmXIqOm_sjsVzMZT7yp5KBnPe2QIyzo2GZ_qCbF4KtrG-C43duRXqhVhggCyogQNxA9ZXEEWjLozXNA?auto=format&w=1000\n"
     ]
    },
    {
     "data": {
      "text/html": [
       "<img src=\"https://i.seadn.io/gae/oty3eLsR4882F8xRWG0E7jtWmXIqOm_sjsVzMZT7yp5KBnPe2QIyzo2GZ_qCbF4KtrG-C43duRXqhVhggCyogQNxA9ZXEEWjLozXNA?auto=format&w=1000\" width=\"200\"/>"
      ],
      "text/plain": [
       "<IPython.core.display.Image object>"
      ]
     },
     "metadata": {},
     "output_type": "display_data"
    },
    {
     "name": "stdout",
     "output_type": "stream",
     "text": [
      "https://opensea.io/assets/ethereum/0xccb9d89e0f77df3618eec9f6bf899be3b5561a89/13120\n",
      "https://i.seadn.io/gae/OTz0UPh8ScBoS_y7fRJYbNOyfgLrJdopt1MxLVCGnrDTGecJZ5iEMnvF0jaPIypGq_k2iYwDe7HOecE2Zos4StkPL9H1AAo2j_9DJw?auto=format&w=1000\n"
     ]
    },
    {
     "data": {
      "text/html": [
       "<img src=\"https://i.seadn.io/gae/OTz0UPh8ScBoS_y7fRJYbNOyfgLrJdopt1MxLVCGnrDTGecJZ5iEMnvF0jaPIypGq_k2iYwDe7HOecE2Zos4StkPL9H1AAo2j_9DJw?auto=format&w=1000\" width=\"200\"/>"
      ],
      "text/plain": [
       "<IPython.core.display.Image object>"
      ]
     },
     "metadata": {},
     "output_type": "display_data"
    },
    {
     "name": "stdout",
     "output_type": "stream",
     "text": [
      "https://opensea.io/assets/ethereum/0x0b1d6565d88f9bf6473e21c2ab58d28a495d7bb5/1868\n",
      "https://i.seadn.io/gae/JW8KQwiuQ1aaxef3r0whjU3BvbvwFcLy5mTRfVSQn85c28nqy4utVWYgFRx-uBo_XV1O2Xln0yWRcXClUWVU9ehgc0MqhNjWocFz2Q?auto=format&w=1000\n"
     ]
    },
    {
     "data": {
      "text/html": [
       "<img src=\"https://i.seadn.io/gae/JW8KQwiuQ1aaxef3r0whjU3BvbvwFcLy5mTRfVSQn85c28nqy4utVWYgFRx-uBo_XV1O2Xln0yWRcXClUWVU9ehgc0MqhNjWocFz2Q?auto=format&w=1000\" width=\"200\"/>"
      ],
      "text/plain": [
       "<IPython.core.display.Image object>"
      ]
     },
     "metadata": {},
     "output_type": "display_data"
    },
    {
     "name": "stdout",
     "output_type": "stream",
     "text": [
      "https://opensea.io/assets/ethereum/0xccb9d89e0f77df3618eec9f6bf899be3b5561a89/9248\n",
      "https://i.seadn.io/gae/OTz0UPh8ScBoS_y7fRJYbNOyfgLrJdopt1MxLVCGnrDTGecJZ5iEMnvF0jaPIypGq_k2iYwDe7HOecE2Zos4StkPL9H1AAo2j_9DJw?auto=format&w=1000\n"
     ]
    },
    {
     "data": {
      "text/html": [
       "<img src=\"https://i.seadn.io/gae/OTz0UPh8ScBoS_y7fRJYbNOyfgLrJdopt1MxLVCGnrDTGecJZ5iEMnvF0jaPIypGq_k2iYwDe7HOecE2Zos4StkPL9H1AAo2j_9DJw?auto=format&w=1000\" width=\"200\"/>"
      ],
      "text/plain": [
       "<IPython.core.display.Image object>"
      ]
     },
     "metadata": {},
     "output_type": "display_data"
    },
    {
     "name": "stdout",
     "output_type": "stream",
     "text": [
      "https://opensea.io/assets/ethereum/0xccb9d89e0f77df3618eec9f6bf899be3b5561a89/9317\n",
      "https://i.seadn.io/gae/OTz0UPh8ScBoS_y7fRJYbNOyfgLrJdopt1MxLVCGnrDTGecJZ5iEMnvF0jaPIypGq_k2iYwDe7HOecE2Zos4StkPL9H1AAo2j_9DJw?auto=format&w=1000\n"
     ]
    },
    {
     "data": {
      "text/html": [
       "<img src=\"https://i.seadn.io/gae/OTz0UPh8ScBoS_y7fRJYbNOyfgLrJdopt1MxLVCGnrDTGecJZ5iEMnvF0jaPIypGq_k2iYwDe7HOecE2Zos4StkPL9H1AAo2j_9DJw?auto=format&w=1000\" width=\"200\"/>"
      ],
      "text/plain": [
       "<IPython.core.display.Image object>"
      ]
     },
     "metadata": {},
     "output_type": "display_data"
    },
    {
     "name": "stdout",
     "output_type": "stream",
     "text": [
      "https://opensea.io/assets/ethereum/0x57f1887a8bf19b14fc0df6fd9b2acc9af147ea85/111700958393428431501672004950200808578200509781444952760328770801084880967734\n",
      "https://img.seadn.io/files/3164909d8e84e9d6c23286a174492d4e.png?fit=max&w=1000\n"
     ]
    },
    {
     "data": {
      "text/html": [
       "<img src=\"https://img.seadn.io/files/3164909d8e84e9d6c23286a174492d4e.png?fit=max&w=1000\" width=\"200\"/>"
      ],
      "text/plain": [
       "<IPython.core.display.Image object>"
      ]
     },
     "metadata": {},
     "output_type": "display_data"
    },
    {
     "name": "stdout",
     "output_type": "stream",
     "text": [
      "https://opensea.io/assets/ethereum/0x57f1887a8bf19b14fc0df6fd9b2acc9af147ea85/92414454883234172887579282723781215083076584435211629312965528044662367033239\n",
      "https://img.seadn.io/files/5ac2d5da176e08a2eee4b96167ae0258.png?fit=max&w=1000\n"
     ]
    },
    {
     "data": {
      "text/html": [
       "<img src=\"https://img.seadn.io/files/5ac2d5da176e08a2eee4b96167ae0258.png?fit=max&w=1000\" width=\"200\"/>"
      ],
      "text/plain": [
       "<IPython.core.display.Image object>"
      ]
     },
     "metadata": {},
     "output_type": "display_data"
    },
    {
     "name": "stdout",
     "output_type": "stream",
     "text": [
      "https://opensea.io/assets/ethereum/0x57f1887a8bf19b14fc0df6fd9b2acc9af147ea85/44138268083015339630934127047217135477588783151663021533521209707703661116054\n",
      "https://openseauserdata.com/files/cc100cb24353685cd97e08bf05e6df15.svg\n"
     ]
    },
    {
     "data": {
      "text/html": [
       "<img src=\"https://openseauserdata.com/files/cc100cb24353685cd97e08bf05e6df15.svg\" width=\"200\"/>"
      ],
      "text/plain": [
       "<IPython.core.display.Image object>"
      ]
     },
     "metadata": {},
     "output_type": "display_data"
    },
    {
     "name": "stdout",
     "output_type": "stream",
     "text": [
      "https://opensea.io/assets/ethereum/0x57f1887a8bf19b14fc0df6fd9b2acc9af147ea85/92253338114402754409262310834449954874599504807899703431958334591263038014072\n",
      "https://img.seadn.io/files/9fccc5800a6fc8856ccbc6781d29fd61.png?fit=max&w=1000\n"
     ]
    },
    {
     "data": {
      "text/html": [
       "<img src=\"https://img.seadn.io/files/9fccc5800a6fc8856ccbc6781d29fd61.png?fit=max&w=1000\" width=\"200\"/>"
      ],
      "text/plain": [
       "<IPython.core.display.Image object>"
      ]
     },
     "metadata": {},
     "output_type": "display_data"
    },
    {
     "name": "stdout",
     "output_type": "stream",
     "text": [
      "https://opensea.io/assets/ethereum/0x57f1887a8bf19b14fc0df6fd9b2acc9af147ea85/83613517140011267036202742848665917198548152168016026765886636581976486367688\n",
      "https://openseauserdata.com/files/638ca45792f5ed9baf5765366427f354.svg\n"
     ]
    },
    {
     "data": {
      "text/html": [
       "<img src=\"https://openseauserdata.com/files/638ca45792f5ed9baf5765366427f354.svg\" width=\"200\"/>"
      ],
      "text/plain": [
       "<IPython.core.display.Image object>"
      ]
     },
     "metadata": {},
     "output_type": "display_data"
    },
    {
     "name": "stdout",
     "output_type": "stream",
     "text": [
      "https://opensea.io/assets/ethereum/0x57f1887a8bf19b14fc0df6fd9b2acc9af147ea85/75725764897340509222004166190721621453090440957521362222684836539819488539182\n",
      "https://openseauserdata.com/files/0d55ba1c0a88f0a8f7adef87c42ea8f8.svg\n"
     ]
    },
    {
     "data": {
      "text/html": [
       "<img src=\"https://openseauserdata.com/files/0d55ba1c0a88f0a8f7adef87c42ea8f8.svg\" width=\"200\"/>"
      ],
      "text/plain": [
       "<IPython.core.display.Image object>"
      ]
     },
     "metadata": {},
     "output_type": "display_data"
    },
    {
     "name": "stdout",
     "output_type": "stream",
     "text": [
      "========================\n",
      "Sample 194453\n",
      "https://opensea.io/assets/ethereum/0x193616faf0f51b454fabe38088616a1fd5a5d85e/1285\n",
      "https://i.seadn.io/gae/GBqMLPqG33wGsgIS-f4qNzIvnTHC1-kaem7LbvZyPp9XB43KA4RmEVgCKTH904-uaPaW4bP5ryCxyhxNGhX1FVP4vWTJRWZGCnUP5g?auto=format&w=1000\n"
     ]
    },
    {
     "data": {
      "text/html": [
       "<img src=\"https://i.seadn.io/gae/GBqMLPqG33wGsgIS-f4qNzIvnTHC1-kaem7LbvZyPp9XB43KA4RmEVgCKTH904-uaPaW4bP5ryCxyhxNGhX1FVP4vWTJRWZGCnUP5g?auto=format&w=1000\" width=\"200\"/>"
      ],
      "text/plain": [
       "<IPython.core.display.Image object>"
      ]
     },
     "metadata": {},
     "output_type": "display_data"
    },
    {
     "name": "stdout",
     "output_type": "stream",
     "text": [
      "https://opensea.io/assets/ethereum/0xccb9d89e0f77df3618eec9f6bf899be3b5561a89/13120\n",
      "https://i.seadn.io/gae/OTz0UPh8ScBoS_y7fRJYbNOyfgLrJdopt1MxLVCGnrDTGecJZ5iEMnvF0jaPIypGq_k2iYwDe7HOecE2Zos4StkPL9H1AAo2j_9DJw?auto=format&w=1000\n"
     ]
    },
    {
     "data": {
      "text/html": [
       "<img src=\"https://i.seadn.io/gae/OTz0UPh8ScBoS_y7fRJYbNOyfgLrJdopt1MxLVCGnrDTGecJZ5iEMnvF0jaPIypGq_k2iYwDe7HOecE2Zos4StkPL9H1AAo2j_9DJw?auto=format&w=1000\" width=\"200\"/>"
      ],
      "text/plain": [
       "<IPython.core.display.Image object>"
      ]
     },
     "metadata": {},
     "output_type": "display_data"
    },
    {
     "name": "stdout",
     "output_type": "stream",
     "text": [
      "https://opensea.io/assets/ethereum/0x0b1d6565d88f9bf6473e21c2ab58d28a495d7bb5/1868\n",
      "https://i.seadn.io/gae/JW8KQwiuQ1aaxef3r0whjU3BvbvwFcLy5mTRfVSQn85c28nqy4utVWYgFRx-uBo_XV1O2Xln0yWRcXClUWVU9ehgc0MqhNjWocFz2Q?auto=format&w=1000\n"
     ]
    },
    {
     "data": {
      "text/html": [
       "<img src=\"https://i.seadn.io/gae/JW8KQwiuQ1aaxef3r0whjU3BvbvwFcLy5mTRfVSQn85c28nqy4utVWYgFRx-uBo_XV1O2Xln0yWRcXClUWVU9ehgc0MqhNjWocFz2Q?auto=format&w=1000\" width=\"200\"/>"
      ],
      "text/plain": [
       "<IPython.core.display.Image object>"
      ]
     },
     "metadata": {},
     "output_type": "display_data"
    },
    {
     "name": "stdout",
     "output_type": "stream",
     "text": [
      "https://opensea.io/assets/ethereum/0xccb9d89e0f77df3618eec9f6bf899be3b5561a89/9248\n",
      "https://i.seadn.io/gae/OTz0UPh8ScBoS_y7fRJYbNOyfgLrJdopt1MxLVCGnrDTGecJZ5iEMnvF0jaPIypGq_k2iYwDe7HOecE2Zos4StkPL9H1AAo2j_9DJw?auto=format&w=1000\n"
     ]
    },
    {
     "data": {
      "text/html": [
       "<img src=\"https://i.seadn.io/gae/OTz0UPh8ScBoS_y7fRJYbNOyfgLrJdopt1MxLVCGnrDTGecJZ5iEMnvF0jaPIypGq_k2iYwDe7HOecE2Zos4StkPL9H1AAo2j_9DJw?auto=format&w=1000\" width=\"200\"/>"
      ],
      "text/plain": [
       "<IPython.core.display.Image object>"
      ]
     },
     "metadata": {},
     "output_type": "display_data"
    },
    {
     "name": "stdout",
     "output_type": "stream",
     "text": [
      "https://opensea.io/assets/ethereum/0xccb9d89e0f77df3618eec9f6bf899be3b5561a89/9317\n",
      "https://i.seadn.io/gae/OTz0UPh8ScBoS_y7fRJYbNOyfgLrJdopt1MxLVCGnrDTGecJZ5iEMnvF0jaPIypGq_k2iYwDe7HOecE2Zos4StkPL9H1AAo2j_9DJw?auto=format&w=1000\n"
     ]
    },
    {
     "data": {
      "text/html": [
       "<img src=\"https://i.seadn.io/gae/OTz0UPh8ScBoS_y7fRJYbNOyfgLrJdopt1MxLVCGnrDTGecJZ5iEMnvF0jaPIypGq_k2iYwDe7HOecE2Zos4StkPL9H1AAo2j_9DJw?auto=format&w=1000\" width=\"200\"/>"
      ],
      "text/plain": [
       "<IPython.core.display.Image object>"
      ]
     },
     "metadata": {},
     "output_type": "display_data"
    },
    {
     "name": "stdout",
     "output_type": "stream",
     "text": [
      "https://opensea.io/assets/ethereum/0x57f1887a8bf19b14fc0df6fd9b2acc9af147ea85/92414454883234172887579282723781215083076584435211629312965528044662367033239\n",
      "https://img.seadn.io/files/5ac2d5da176e08a2eee4b96167ae0258.png?fit=max&w=1000\n"
     ]
    },
    {
     "data": {
      "text/html": [
       "<img src=\"https://img.seadn.io/files/5ac2d5da176e08a2eee4b96167ae0258.png?fit=max&w=1000\" width=\"200\"/>"
      ],
      "text/plain": [
       "<IPython.core.display.Image object>"
      ]
     },
     "metadata": {},
     "output_type": "display_data"
    },
    {
     "name": "stdout",
     "output_type": "stream",
     "text": [
      "https://opensea.io/assets/ethereum/0x57f1887a8bf19b14fc0df6fd9b2acc9af147ea85/111700958393428431501672004950200808578200509781444952760328770801084880967734\n",
      "https://img.seadn.io/files/3164909d8e84e9d6c23286a174492d4e.png?fit=max&w=1000\n"
     ]
    },
    {
     "data": {
      "text/html": [
       "<img src=\"https://img.seadn.io/files/3164909d8e84e9d6c23286a174492d4e.png?fit=max&w=1000\" width=\"200\"/>"
      ],
      "text/plain": [
       "<IPython.core.display.Image object>"
      ]
     },
     "metadata": {},
     "output_type": "display_data"
    },
    {
     "name": "stdout",
     "output_type": "stream",
     "text": [
      "https://opensea.io/assets/ethereum/0x57f1887a8bf19b14fc0df6fd9b2acc9af147ea85/92253338114402754409262310834449954874599504807899703431958334591263038014072\n",
      "https://img.seadn.io/files/9fccc5800a6fc8856ccbc6781d29fd61.png?fit=max&w=1000\n"
     ]
    },
    {
     "data": {
      "text/html": [
       "<img src=\"https://img.seadn.io/files/9fccc5800a6fc8856ccbc6781d29fd61.png?fit=max&w=1000\" width=\"200\"/>"
      ],
      "text/plain": [
       "<IPython.core.display.Image object>"
      ]
     },
     "metadata": {},
     "output_type": "display_data"
    },
    {
     "name": "stdout",
     "output_type": "stream",
     "text": [
      "https://opensea.io/assets/ethereum/0x57f1887a8bf19b14fc0df6fd9b2acc9af147ea85/44138268083015339630934127047217135477588783151663021533521209707703661116054\n",
      "https://openseauserdata.com/files/cc100cb24353685cd97e08bf05e6df15.svg\n"
     ]
    },
    {
     "data": {
      "text/html": [
       "<img src=\"https://openseauserdata.com/files/cc100cb24353685cd97e08bf05e6df15.svg\" width=\"200\"/>"
      ],
      "text/plain": [
       "<IPython.core.display.Image object>"
      ]
     },
     "metadata": {},
     "output_type": "display_data"
    },
    {
     "name": "stdout",
     "output_type": "stream",
     "text": [
      "https://opensea.io/assets/ethereum/0x57f1887a8bf19b14fc0df6fd9b2acc9af147ea85/83613517140011267036202742848665917198548152168016026765886636581976486367688\n",
      "https://openseauserdata.com/files/638ca45792f5ed9baf5765366427f354.svg\n"
     ]
    },
    {
     "data": {
      "text/html": [
       "<img src=\"https://openseauserdata.com/files/638ca45792f5ed9baf5765366427f354.svg\" width=\"200\"/>"
      ],
      "text/plain": [
       "<IPython.core.display.Image object>"
      ]
     },
     "metadata": {},
     "output_type": "display_data"
    },
    {
     "name": "stdout",
     "output_type": "stream",
     "text": [
      "https://opensea.io/assets/ethereum/0x57f1887a8bf19b14fc0df6fd9b2acc9af147ea85/75725764897340509222004166190721621453090440957521362222684836539819488539182\n",
      "https://openseauserdata.com/files/0d55ba1c0a88f0a8f7adef87c42ea8f8.svg\n"
     ]
    },
    {
     "data": {
      "text/html": [
       "<img src=\"https://openseauserdata.com/files/0d55ba1c0a88f0a8f7adef87c42ea8f8.svg\" width=\"200\"/>"
      ],
      "text/plain": [
       "<IPython.core.display.Image object>"
      ]
     },
     "metadata": {},
     "output_type": "display_data"
    },
    {
     "name": "stdout",
     "output_type": "stream",
     "text": [
      "========================\n",
      "Sample 1319515\n",
      "https://opensea.io/assets/ethereum/0x3c6d92f1db872469c8dbc04ff6301b766214a712/1709\n",
      "https://i.seadn.io/gae/XWECB72TIzlxX2xzNI_jNfatOc4vghrCje90GcGr50sOvbE00TSsbyn0K_Aw-HY_0iYpBDZxLnHU3dxGl57IPCTfbBRZOSBvcurm4g?auto=format&w=1000\n"
     ]
    },
    {
     "data": {
      "text/html": [
       "<img src=\"https://i.seadn.io/gae/XWECB72TIzlxX2xzNI_jNfatOc4vghrCje90GcGr50sOvbE00TSsbyn0K_Aw-HY_0iYpBDZxLnHU3dxGl57IPCTfbBRZOSBvcurm4g?auto=format&w=1000\" width=\"200\"/>"
      ],
      "text/plain": [
       "<IPython.core.display.Image object>"
      ]
     },
     "metadata": {},
     "output_type": "display_data"
    },
    {
     "name": "stdout",
     "output_type": "stream",
     "text": [
      "https://opensea.io/assets/ethereum/0x3c6d92f1db872469c8dbc04ff6301b766214a712/3988\n",
      "https://i.seadn.io/gae/8qjEQJ4SXQDHq_wEFM3oh4_8fxcABZ37UdpEarLNaV_wAVysSXIJfAD_09nB5TmGoUE9ZTucsUXwW9uFvsbg3LI8d6Pg-Y0eOw0RAQ?auto=format&w=1000\n"
     ]
    },
    {
     "data": {
      "text/html": [
       "<img src=\"https://i.seadn.io/gae/8qjEQJ4SXQDHq_wEFM3oh4_8fxcABZ37UdpEarLNaV_wAVysSXIJfAD_09nB5TmGoUE9ZTucsUXwW9uFvsbg3LI8d6Pg-Y0eOw0RAQ?auto=format&w=1000\" width=\"200\"/>"
      ],
      "text/plain": [
       "<IPython.core.display.Image object>"
      ]
     },
     "metadata": {},
     "output_type": "display_data"
    },
    {
     "name": "stdout",
     "output_type": "stream",
     "text": [
      "https://opensea.io/assets/ethereum/0x3c6d92f1db872469c8dbc04ff6301b766214a712/4439\n",
      "https://i.seadn.io/gae/ModCC9J9Dkxd-RyRmJeBBpIfWl2XJhxDB2EBym8uKrP_hfVU8BoWNpGgNOFodYx4_e7OgePbYMnH-WHHvTozhaiCM9G68xfJGw9bZg?auto=format&w=1000\n"
     ]
    },
    {
     "data": {
      "text/html": [
       "<img src=\"https://i.seadn.io/gae/ModCC9J9Dkxd-RyRmJeBBpIfWl2XJhxDB2EBym8uKrP_hfVU8BoWNpGgNOFodYx4_e7OgePbYMnH-WHHvTozhaiCM9G68xfJGw9bZg?auto=format&w=1000\" width=\"200\"/>"
      ],
      "text/plain": [
       "<IPython.core.display.Image object>"
      ]
     },
     "metadata": {},
     "output_type": "display_data"
    },
    {
     "name": "stdout",
     "output_type": "stream",
     "text": [
      "https://opensea.io/assets/ethereum/0x3c6d92f1db872469c8dbc04ff6301b766214a712/183\n",
      "https://i.seadn.io/gae/ypVuNazTQCL9Je5HVmJ1rfGrPn3Iea5fbZtkr9cbXxAxE1Q8P9BYTzagIPeKvIe6b-9G55phitIOAhFtzjMEf5vERf74Jt-kZENl?auto=format&w=1000\n"
     ]
    },
    {
     "data": {
      "text/html": [
       "<img src=\"https://i.seadn.io/gae/ypVuNazTQCL9Je5HVmJ1rfGrPn3Iea5fbZtkr9cbXxAxE1Q8P9BYTzagIPeKvIe6b-9G55phitIOAhFtzjMEf5vERf74Jt-kZENl?auto=format&w=1000\" width=\"200\"/>"
      ],
      "text/plain": [
       "<IPython.core.display.Image object>"
      ]
     },
     "metadata": {},
     "output_type": "display_data"
    },
    {
     "name": "stdout",
     "output_type": "stream",
     "text": [
      "https://opensea.io/assets/ethereum/0x3c6d92f1db872469c8dbc04ff6301b766214a712/3260\n",
      "https://i.seadn.io/gae/oXzkOo2GNoi3HfSavYUW4W5be9TtV_M1uEmJTpxJ-yldViQ-Ox1wxquZAtOdtqW1YnW1pVkAoSW8GMLnhAw4mZ-3LtPhsAFR4auqsw?auto=format&w=1000\n"
     ]
    },
    {
     "data": {
      "text/html": [
       "<img src=\"https://i.seadn.io/gae/oXzkOo2GNoi3HfSavYUW4W5be9TtV_M1uEmJTpxJ-yldViQ-Ox1wxquZAtOdtqW1YnW1pVkAoSW8GMLnhAw4mZ-3LtPhsAFR4auqsw?auto=format&w=1000\" width=\"200\"/>"
      ],
      "text/plain": [
       "<IPython.core.display.Image object>"
      ]
     },
     "metadata": {},
     "output_type": "display_data"
    },
    {
     "name": "stdout",
     "output_type": "stream",
     "text": [
      "https://opensea.io/assets/ethereum/0xdcaf23e44639daf29f6532da213999d737f15aa4/550\n",
      "https://i.seadn.io/gae/_SDD3vcUFTEMO2ylwytRnhyp3McLvZoD-GJ4VEh1C0fIOuvOAWYqxL_D1oFrj-MkAnBjmlvrbocfHXasMBzK7bS6uSKEdhdvFer4nJs?auto=format&w=1000\n"
     ]
    },
    {
     "data": {
      "text/html": [
       "<img src=\"https://i.seadn.io/gae/_SDD3vcUFTEMO2ylwytRnhyp3McLvZoD-GJ4VEh1C0fIOuvOAWYqxL_D1oFrj-MkAnBjmlvrbocfHXasMBzK7bS6uSKEdhdvFer4nJs?auto=format&w=1000\" width=\"200\"/>"
      ],
      "text/plain": [
       "<IPython.core.display.Image object>"
      ]
     },
     "metadata": {},
     "output_type": "display_data"
    },
    {
     "name": "stdout",
     "output_type": "stream",
     "text": [
      "https://opensea.io/assets/ethereum/0x33857ad1031122a00a68e6bf9ac4475ba6c6f8be/144\n",
      "https://i.seadn.io/gae/lA74Z6IIPjKJ-Fqezj5hb_5rkR5zOsSehiaN-UnzEL4zM-Gj4DQlQhXnL6b53IZ4dyw3XNItxskydDbs1dnb-oYYdG-fP7qRJmwh?auto=format&w=1000\n"
     ]
    },
    {
     "data": {
      "text/html": [
       "<img src=\"https://i.seadn.io/gae/lA74Z6IIPjKJ-Fqezj5hb_5rkR5zOsSehiaN-UnzEL4zM-Gj4DQlQhXnL6b53IZ4dyw3XNItxskydDbs1dnb-oYYdG-fP7qRJmwh?auto=format&w=1000\" width=\"200\"/>"
      ],
      "text/plain": [
       "<IPython.core.display.Image object>"
      ]
     },
     "metadata": {},
     "output_type": "display_data"
    },
    {
     "name": "stdout",
     "output_type": "stream",
     "text": [
      "https://opensea.io/assets/ethereum/0x9eaaf84ca9878736d0d7329f860d574a8e83551c/2753\n",
      "https://i.seadn.io/gae/yc_LanYC55Ak8U0OQs3KjPZMjnVJwS8wWukcEsfdLkMjjg--4qYGH7zc2EI5JEfzuQNhNX-MKYtmt0dAnh-Evv9jG4gIKucrK96THg?auto=format&w=1000\n"
     ]
    },
    {
     "data": {
      "text/html": [
       "<img src=\"https://i.seadn.io/gae/yc_LanYC55Ak8U0OQs3KjPZMjnVJwS8wWukcEsfdLkMjjg--4qYGH7zc2EI5JEfzuQNhNX-MKYtmt0dAnh-Evv9jG4gIKucrK96THg?auto=format&w=1000\" width=\"200\"/>"
      ],
      "text/plain": [
       "<IPython.core.display.Image object>"
      ]
     },
     "metadata": {},
     "output_type": "display_data"
    },
    {
     "name": "stdout",
     "output_type": "stream",
     "text": [
      "https://opensea.io/assets/ethereum/0x33857ad1031122a00a68e6bf9ac4475ba6c6f8be/3824\n",
      "https://i.seadn.io/gae/6h1v5wb2-SQE-3Uxj8BFIOVDORTkIOW7wpE7uiRQMyiY7pxIjc4NaJhH_wndoBaeMFV2EOedO4vfT50Uf7cL5caN6gOABQWUJ_PGoQ?auto=format&w=1000\n"
     ]
    },
    {
     "data": {
      "text/html": [
       "<img src=\"https://i.seadn.io/gae/6h1v5wb2-SQE-3Uxj8BFIOVDORTkIOW7wpE7uiRQMyiY7pxIjc4NaJhH_wndoBaeMFV2EOedO4vfT50Uf7cL5caN6gOABQWUJ_PGoQ?auto=format&w=1000\" width=\"200\"/>"
      ],
      "text/plain": [
       "<IPython.core.display.Image object>"
      ]
     },
     "metadata": {},
     "output_type": "display_data"
    },
    {
     "name": "stdout",
     "output_type": "stream",
     "text": [
      "https://opensea.io/assets/ethereum/0xbe6d1fbfd71b1a5a2f546df5dc0fa3b080626be8/1821\n",
      "https://i.seadn.io/gae/h4QtTc2755Tf8AhEZPTHDknLIsGxcHkN0oqQh0f-TE_jC_yhMvgMU3JYT12JpFYrQolazwuMNDDkYhZONJqRaGSzXuL2Z7ijehmnVIU?auto=format&w=1000\n"
     ]
    },
    {
     "data": {
      "text/html": [
       "<img src=\"https://i.seadn.io/gae/h4QtTc2755Tf8AhEZPTHDknLIsGxcHkN0oqQh0f-TE_jC_yhMvgMU3JYT12JpFYrQolazwuMNDDkYhZONJqRaGSzXuL2Z7ijehmnVIU?auto=format&w=1000\" width=\"200\"/>"
      ],
      "text/plain": [
       "<IPython.core.display.Image object>"
      ]
     },
     "metadata": {},
     "output_type": "display_data"
    },
    {
     "name": "stdout",
     "output_type": "stream",
     "text": [
      "========================\n"
     ]
    }
   ],
   "source": [
    "# Display i2i clusters\n",
    "for index, row in random_samples.iterrows():\n",
    "    print(f\"Sample {index}\")\n",
    "    for column in columns:\n",
    "        url = f\"https://opensea.io/assets/ethereum/{row[column]}\"\n",
    "        html_data = get_html_data(url)\n",
    "        if html_data is not None:\n",
    "            image_url = get_image_url_from_Opensea(html_data)\n",
    "            if image_url is not None:\n",
    "                print(url)\n",
    "                print(image_url)\n",
    "                display(Image(url=image_url, width=200))\n",
    "                time.sleep(2)\n",
    "    print(\"========================\")"
   ]
  },
  {
   "cell_type": "markdown",
   "id": "f8c0c062",
   "metadata": {},
   "source": [
    "# Conclusion\n",
    "- From eyeballing, the recommendation is good because we see some NFTs from the same collection and some NFTs from different collections. Also, I can notice some visual and \"vibe\" similarities between the recommended NFTs.\n",
    "- Need to filter out ENS and Memory (the black images are Memory NFTs)\n",
    "- Need to filter out recommendtion list with only one collection\n",
    "- Crawling data from OpenSea is not very complete because they only have data for NFTs that are currently listed on OpenSea. Maybe, NFTGo is a better place."
   ]
  },
  {
   "cell_type": "markdown",
   "id": "684ecf82",
   "metadata": {},
   "source": [
    "# Todo\n",
    "\n",
    "## Use metrics to evaluate the recommendation\n",
    "- Diversity = 1 - average_similarity_score\n",
    "- Coverage = # of unique recommended NFTs / # of all NFTs\n",
    "- Accuracy = Did buyers who have those NFTs actually buy NFts from the recommended collection? (Need to think more on this)\n",
    "- Relevance = How relevant the recommended NFTs are (Need to think how to measure this)\n",
    "\n",
    "## Fine tune the current **collaborative filtering (CF) algorithm**\n",
    "\n",
    "### Possible fine tuning:\n",
    "- Weighted similarity score to promote **diversity, novelty, and coverage**\n",
    "    - The intuition is to penalize the NFTs from the same collection and reward the NFTs from different collections\n",
    "    - We need to understand what is good diverisity in terms of the number of collections in the recommended list or in terms of the diversity score, which is equal to 1 - average similarity score.\n",
    "    - We also have to consider the ranked order of recommended list: is it better to have the same collections in the top of the list or is it better to have novel collections in the top of the list? Maybe, we need user testing to determine this.\n",
    "- Filter by **the number of buyers**\n",
    "    - For example, the recommendations for the NFTs with 2 buyers cannot be good because current CF algorithm is based on the number of buyers.\n",
    "    - We want to understand what is a good threshold for the number of buyers.\n",
    "- Filter by **the similarity score**\n",
    "    - NFTs with the similarity score 0 is pretty meanignless (i.e. same as random recommendation)\n",
    "    - We want to evaluate if the current similarity score scheme is meaningful by comparing the high score and low score recommendations\n",
    "\n",
    "## Clustering with images\n",
    "- Initially use pre-trained (ImageNet) ResNet\n",
    "- We might want to finetune ResNet for NFT images which are inherently different from ImageNet images\n",
    "\n",
    "## Get text data\n",
    "- This could me as informative as image for NFTs because of their metaverse environment"
   ]
  },
  {
   "cell_type": "markdown",
   "id": "25457525",
   "metadata": {},
   "source": []
  }
 ],
 "metadata": {
  "kernelspec": {
   "display_name": "Python 3.9.6 64-bit",
   "language": "python",
   "name": "python3"
  },
  "language_info": {
   "codemirror_mode": {
    "name": "ipython",
    "version": 3
   },
   "file_extension": ".py",
   "mimetype": "text/x-python",
   "name": "python",
   "nbconvert_exporter": "python",
   "pygments_lexer": "ipython3",
   "version": "3.9.6"
  },
  "vscode": {
   "interpreter": {
    "hash": "31f2aee4e71d21fbe5cf8b01ff0e069b9275f58929596ceb00d14d90e3e16cd6"
   }
  }
 },
 "nbformat": 4,
 "nbformat_minor": 5
}
