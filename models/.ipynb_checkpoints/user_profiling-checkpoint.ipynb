{
 "cells": [
  {
   "cell_type": "code",
   "execution_count": 8,
   "id": "9f2e3227",
   "metadata": {},
   "outputs": [],
   "source": [
    "%matplotlib inline\n",
    "# Import libraries\n",
    "from collections.abc import Iterator\n",
    "from datetime import date, timedelta\n",
    "from web3 import Web3\n",
    "\n",
    "import boto3\n",
    "import botocore\n",
    "import logging\n",
    "import matplotlib.pyplot as plt\n",
    "import numpy as np\n",
    "import os\n",
    "import pandas as pd\n",
    "import random\n",
    "import seaborn as sns\n",
    "import string\n",
    "import time\n",
    "import warnings\n",
    "import webbrowser\n",
    "\n",
    "warnings.filterwarnings('ignore')\n",
    "pd.set_option('display.max_colwidth', None)"
   ]
  },
  {
   "cell_type": "markdown",
   "id": "242e2d43",
   "metadata": {},
   "source": [
    "# Download Data"
   ]
  },
  {
   "cell_type": "code",
   "execution_count": 17,
   "id": "76fc8337",
   "metadata": {},
   "outputs": [],
   "source": [
    "def iterate_dates(start_date: date, end_date: date) -> Iterator:\n",
    "    '''Yields date in range of [start_date, end_date]\n",
    "\n",
    "    Args:\n",
    "        start_date: inclusive start date\n",
    "        end_date: inclusive end date\n",
    "    '''\n",
    "    for n in range(int((end_date - start_date).days)+1):\n",
    "        yield start_date + timedelta(n)\n",
    "\n",
    "def convert_value_from_wei(transfers: pd.DataFrame, unit: string) -> pd.DataFrame:\n",
    "    '''Convert value in WEI to unit for transfers\n",
    "        where possible units are 'kwei', 'mwei', 'gwei', 'microether', 'milliether', 'ether'\n",
    "\n",
    "    Args:\n",
    "        transfers: dataframe you want to convert the value of\n",
    "        unit: unit to convert to\n",
    "\n",
    "    Returns:\n",
    "        a new dataframe with converted value\n",
    "\n",
    "    Raises:\n",
    "        ValueError if unit is not valid\n",
    "    '''\n",
    "    if unit not in ['kwei', 'mwei', 'gwei', 'microether', 'milliether', 'ether']:\n",
    "        raise ValueError(\"Invalid unit\")\n",
    "    values_in_ether = transfers['value'].apply(lambda x: float(Web3.from_wei(int(x), unit)))\n",
    "    transfers['value'] = values_in_ether\n",
    "    return transfers\n",
    "\n",
    "def download_nft_transfers(start_date: date, end_date: date, local_path: string):\n",
    "    '''Downloads nft token transfer data from start_date to end_date\n",
    "\n",
    "    Args:\n",
    "        start_date: inclusive start date\n",
    "        end_date: inclusive end date\n",
    "        local_path: download path\n",
    "\n",
    "    Raises:\n",
    "        FileNotFoundError: if local_path does not exist\n",
    "    '''\n",
    "    \n",
    "    if not os.path.exists(local_path):\n",
    "        raise FileNotFoundError(f\"The {local_path} does not exist\")\n",
    "\n",
    "    s3_client = boto3.client('s3')\n",
    "    bucket_name = \"nimble-data-warehouse-dev\"\n",
    "    for download_date in iterate_dates(start_date, end_date):\n",
    "        str_date = download_date.strftime(\"%Y-%m-%d\")\n",
    "        remote_path = f\"etl/ethereum/nft_token_transfers/date={str_date}/nft_token_transfers.csv\"\n",
    "        fname = os.path.join(local_path, f\"nft_token_transfers={str_date}.csv\")\n",
    "        if not os.path.exists(fname):\n",
    "            try:\n",
    "                s3_client.download_file(bucket_name, remote_path, fname)\n",
    "                logging.info(f\"{remote_path} downloaded\")\n",
    "            except botocore.exceptions.ClientError as error:\n",
    "                logging.error(f'{remote_path} not found')\n",
    "            except botocore.exceptions.ParamValidationError as error:\n",
    "                logging.error('The parameters you provided are incorrect: {}'.format(error))"
   ]
  },
  {
   "cell_type": "code",
   "execution_count": 10,
   "id": "9dbd865c",
   "metadata": {},
   "outputs": [
    {
     "name": "stdout",
     "output_type": "stream",
     "text": [
      "CPU times: user 2min 10s, sys: 34 s, total: 2min 44s\n",
      "Wall time: 15min 37s\n"
     ]
    }
   ],
   "source": [
    "%%time\n",
    "# Load transfer data for multiple dates in range [start_date, end_date]\n",
    "start_date = date(2022,6,1)\n",
    "end_date = date(2022,6,30)\n",
    "local_path = \"/Users/chenj/Desktop/app_data\"\n",
    "download_nft_transfers(start_date, end_date, local_path)"
   ]
  },
  {
   "cell_type": "code",
   "execution_count": 18,
   "id": "e0c90ab8",
   "metadata": {},
   "outputs": [],
   "source": [
    "def load_transfer_data(start_date: date, end_date: date, local_path: string) -> pd.DataFrame:\n",
    "    \"\"\"Loads NFT token transfer data with value in ether from start_date to end_date\n",
    "\n",
    "    Args:\n",
    "        start_date: an inclusive start date for nft token transfers\n",
    "        end_date: an inclusive end date for nft token transfers\n",
    "        local_path: a local path where the nft toke transfer date is located\n",
    "    \n",
    "    Returns:\n",
    "        concatenated transfers dataframe for [start_date, end_date]\n",
    "\n",
    "    Raises:\n",
    "        ValueError: if start_date is greater than end_date\n",
    "        FileNotFoundError: if local_path does not exist or if no csv file is found in the local_path\n",
    "    \"\"\"\n",
    "    if not os.path.exists(local_path):\n",
    "        raise FileNotFoundError(\"The local_path does not exist\")\n",
    "    if start_date > end_date:\n",
    "        raise ValueError(\"The 'end_date' should be equal to or greather than 'start_date'\")\n",
    "\n",
    "    transfers_list = []\n",
    "    for date_ in iterate_dates(start_date, end_date):\n",
    "        fname = os.path.join(local_path, \"nft_token_transfers={}.csv\".format(date_.strftime(\"%Y-%m-%d\")))\n",
    "        if os.path.exists(fname):\n",
    "            transfers = pd.read_csv(fname, low_memory=False)\n",
    "            transfers = convert_value_from_wei(transfers, 'ether')\n",
    "            transfers_list.append(transfers)\n",
    "        else:\n",
    "            logging.error(f\"{fname} does not exist\")\n",
    "    \n",
    "    if transfers_list:\n",
    "        return pd.concat(transfers_list, ignore_index=True)\n",
    "    else:\n",
    "        raise FileNotFoundError(f\"No csv file was loaded from {local_path}\")"
   ]
  },
  {
   "cell_type": "code",
   "execution_count": 19,
   "id": "4b8b8be1",
   "metadata": {},
   "outputs": [
    {
     "name": "stdout",
     "output_type": "stream",
     "text": [
      "CPU times: user 41.2 s, sys: 3.49 s, total: 44.7 s\n",
      "Wall time: 44.9 s\n"
     ]
    }
   ],
   "source": [
    "%%time\n",
    "transfers = load_transfer_data(start_date, end_date, local_path)"
   ]
  },
  {
   "cell_type": "code",
   "execution_count": 20,
   "id": "57ad1018",
   "metadata": {},
   "outputs": [],
   "source": [
    "transfers.to_csv(\n",
    "    local_path+ '//raw_transfers.csv')"
   ]
  },
  {
   "cell_type": "markdown",
   "id": "7a33b8aa",
   "metadata": {},
   "source": [
    "# Preprocessing"
   ]
  },
  {
   "cell_type": "code",
   "execution_count": 21,
   "id": "e02ef959",
   "metadata": {},
   "outputs": [
    {
     "name": "stdout",
     "output_type": "stream",
     "text": [
      "CPU times: user 23.3 s, sys: 2.6 s, total: 25.9 s\n",
      "Wall time: 26.2 s\n"
     ]
    }
   ],
   "source": [
    "%%time\n",
    "events = pd.read_csv(\n",
    "    local_path+'/raw_transfers.csv')"
   ]
  },
  {
   "cell_type": "code",
   "execution_count": 22,
   "id": "003684d6",
   "metadata": {},
   "outputs": [
    {
     "name": "stdout",
     "output_type": "stream",
     "text": [
      "CPU times: user 1min 30s, sys: 2.19 s, total: 1min 33s\n",
      "Wall time: 1min 33s\n"
     ]
    }
   ],
   "source": [
    "%%time\n",
    "events.fillna(\"N/A\", inplace=True)\n",
    "events = events[~events.contract_type.isin(['ERC1155', 'ERC165'])]\n",
    "events['nft_id'] = events.apply(\n",
    "    lambda row: f'{row.token_address}/{row.token_id}', axis=1)\n",
    "events['timestamp'] = pd.to_datetime(events.block_timestamp)"
   ]
  },
  {
   "cell_type": "code",
   "execution_count": 23,
   "id": "8f9633c4",
   "metadata": {},
   "outputs": [
    {
     "name": "stdout",
     "output_type": "stream",
     "text": [
      "CPU times: user 5.02 s, sys: 195 ms, total: 5.21 s\n",
      "Wall time: 5.21 s\n"
     ]
    }
   ],
   "source": [
    "%%time\n",
    "events['date'] = events.timestamp.dt.date\n",
    "events['time'] = events.timestamp.dt.time\n",
    "events.drop(columns={'Unnamed: 0'}, inplace=True)\n",
    "events.rename(columns={'from_address': 'seller'},\n",
    "              inplace=True)\n",
    "events.rename(columns={'to_address': 'buyer'},\n",
    "              inplace=True)\n",
    "events.rename(columns={'token_address': 'collection_id'},\n",
    "              inplace=True)\n",
    "events.rename(columns={'value': 'price_in_eth'},\n",
    "              inplace=True)"
   ]
  },
  {
   "cell_type": "code",
   "execution_count": 24,
   "id": "6ea1cb66",
   "metadata": {},
   "outputs": [],
   "source": [
    "def is_invalid_event(event):\n",
    "    buyer_burn_or_mint = False\n",
    "    if event['buyer'] == '0x0000000000000000000000000000000000000000' or event[\n",
    "        'buyer'] == '0x000000000000000000000000000000000000dead':\n",
    "        buyer_burn_or_mint = True\n",
    "\n",
    "    seller_burn_or_mint = False\n",
    "    if event['seller'] == '0x0000000000000000000000000000000000000000' or event[\n",
    "        'seller'] == '0x000000000000000000000000000000000000dead':\n",
    "        seller_burn_or_mint = True\n",
    "    \n",
    "    return buyer_burn_or_mint and seller_burn_or_mint"
   ]
  },
  {
   "cell_type": "code",
   "execution_count": 25,
   "id": "2ca08c48",
   "metadata": {},
   "outputs": [],
   "source": [
    "events['is_valid'] = events.apply(\n",
    "    lambda event: not is_invalid_event(event),\n",
    "    axis=1)"
   ]
  },
  {
   "cell_type": "code",
   "execution_count": 29,
   "id": "4a92bb32",
   "metadata": {},
   "outputs": [],
   "source": [
    "#events.drop(columns={'mint_count'}, inplace=True)"
   ]
  },
  {
   "cell_type": "code",
   "execution_count": 30,
   "id": "565316fe",
   "metadata": {},
   "outputs": [
    {
     "name": "stdout",
     "output_type": "stream",
     "text": [
      "CPU times: user 27.5 ms, sys: 46 ms, total: 73.5 ms\n",
      "Wall time: 197 ms\n"
     ]
    }
   ],
   "source": [
    "%%time\n",
    "events[events['is_valid'] == False].to_csv(\n",
    "    local_path+'/invalid_events.csv')"
   ]
  },
  {
   "cell_type": "code",
   "execution_count": 31,
   "id": "9e975e2d",
   "metadata": {},
   "outputs": [],
   "source": [
    "events = events[events['is_valid'] == True]"
   ]
  },
  {
   "cell_type": "code",
   "execution_count": 32,
   "id": "3553d175",
   "metadata": {},
   "outputs": [
    {
     "name": "stdout",
     "output_type": "stream",
     "text": [
      "0\n",
      "71520\n"
     ]
    }
   ],
   "source": [
    "# sanity check\n",
    "print(len(events[events['seller'] == '0x000000000000000000000000000000000000dead']))\n",
    "print(len(events[events['buyer'] == '0x0000000000000000000000000000000000000000']))"
   ]
  },
  {
   "cell_type": "code",
   "execution_count": 33,
   "id": "c22ac268",
   "metadata": {},
   "outputs": [
    {
     "name": "stdout",
     "output_type": "stream",
     "text": [
      "44295\n"
     ]
    }
   ],
   "source": [
    "print(len(events[events['buyer'] == '0x000000000000000000000000000000000000dead']))"
   ]
  },
  {
   "cell_type": "code",
   "execution_count": 34,
   "id": "5036751c",
   "metadata": {},
   "outputs": [],
   "source": [
    "events.drop(columns={'is_valid'}, inplace=True)"
   ]
  },
  {
   "cell_type": "code",
   "execution_count": 35,
   "id": "ec1f6aa0",
   "metadata": {},
   "outputs": [],
   "source": [
    "events[events['is_batch'] == True].to_csv(\n",
    "    local_path+'/valid_batch_events.csv')"
   ]
  },
  {
   "cell_type": "code",
   "execution_count": 36,
   "id": "f4768563",
   "metadata": {},
   "outputs": [
    {
     "name": "stdout",
     "output_type": "stream",
     "text": [
      "CPU times: user 30.1 s, sys: 1.04 s, total: 31.2 s\n",
      "Wall time: 31.3 s\n"
     ]
    }
   ],
   "source": [
    "%%time\n",
    "events[events['is_batch'] == False].to_csv(\n",
    "    local_path+'/valid_non_batch_events.csv')"
   ]
  },
  {
   "cell_type": "code",
   "execution_count": 37,
   "id": "b98728e9",
   "metadata": {},
   "outputs": [
    {
     "name": "stdout",
     "output_type": "stream",
     "text": [
      "CPU times: user 1min 40s, sys: 3.01 s, total: 1min 43s\n",
      "Wall time: 1min 43s\n"
     ]
    }
   ],
   "source": [
    "%%time\n",
    "events.to_csv(\n",
    "    local_path+'/all_valid_events.csv')"
   ]
  },
  {
   "cell_type": "markdown",
   "id": "732da5f8",
   "metadata": {},
   "source": [
    "# Wallet Stats"
   ]
  },
  {
   "cell_type": "code",
   "execution_count": 38,
   "id": "72ad6ba1",
   "metadata": {},
   "outputs": [
    {
     "name": "stdout",
     "output_type": "stream",
     "text": [
      "CPU times: user 30.6 s, sys: 4.33 s, total: 34.9 s\n",
      "Wall time: 35.8 s\n"
     ]
    }
   ],
   "source": [
    "%%time\n",
    "events = pd.read_csv(\n",
    "    local_path+'/all_valid_events.csv')"
   ]
  },
  {
   "cell_type": "markdown",
   "id": "385f7749",
   "metadata": {},
   "source": [
    "#### Wallets"
   ]
  },
  {
   "cell_type": "code",
   "execution_count": 39,
   "id": "3f9bda1e",
   "metadata": {},
   "outputs": [
    {
     "name": "stdout",
     "output_type": "stream",
     "text": [
      "CPU times: user 1.62 s, sys: 68.9 ms, total: 1.69 s\n",
      "Wall time: 1.69 s\n"
     ]
    }
   ],
   "source": [
    "%%time\n",
    "wallets = pd.unique(\n",
    "    events[['seller', 'buyer']].values.ravel('K'))\n",
    "wallets = pd.DataFrame(wallets, columns = ['wallet'])"
   ]
  },
  {
   "cell_type": "code",
   "execution_count": 40,
   "id": "f6adf489",
   "metadata": {},
   "outputs": [],
   "source": [
    "special_wallets = set(['0x0000000000000000000000000000000000000000',\n",
    "                      '0x000000000000000000000000000000000000dead'])"
   ]
  },
  {
   "cell_type": "markdown",
   "id": "c2fbdeff",
   "metadata": {},
   "source": [
    "#### Mint Count\n",
    "- Unique # of NFTs minted to this wallet"
   ]
  },
  {
   "cell_type": "code",
   "execution_count": 41,
   "id": "fd25f6fa",
   "metadata": {},
   "outputs": [],
   "source": [
    "receive_at_mint_cnt = events[\n",
    "    events['seller'].isin(special_wallets)\n",
    "].drop_duplicates(\n",
    "    subset=['buyer', 'nft_id'], keep='last', ignore_index=True\n",
    ").groupby(\n",
    "    ['buyer']\n",
    ").size().reset_index(\n",
    "    name='receive_at_mint_cnt'\n",
    ")\n",
    "\n",
    "receive_at_mint_cnt.rename(\n",
    "    columns={'buyer': 'wallet'}, inplace=True\n",
    ")"
   ]
  },
  {
   "cell_type": "code",
   "execution_count": 42,
   "id": "df017041",
   "metadata": {},
   "outputs": [],
   "source": [
    "receive_at_mint_cnt_with_cost = events[\n",
    "    events['seller'].isin(special_wallets)\n",
    "][\n",
    "    events['price_in_eth'] != 0\n",
    "].drop_duplicates(\n",
    "    subset=['buyer', 'nft_id'], keep='last', ignore_index=True\n",
    ").groupby(\n",
    "    ['buyer']\n",
    ").size().reset_index(\n",
    "    name='receive_at_mint_cnt_with_cost'\n",
    ")\n",
    "\n",
    "receive_at_mint_cnt_with_cost.rename(\n",
    "    columns={'buyer': 'wallet'}, inplace=True\n",
    ")"
   ]
  },
  {
   "cell_type": "code",
   "execution_count": 43,
   "id": "c6400e7f",
   "metadata": {},
   "outputs": [],
   "source": [
    "receive_at_mint_cnt_no_cost = events[\n",
    "    events['seller'].isin(special_wallets)\n",
    "][\n",
    "    events['price_in_eth'] == 0\n",
    "].drop_duplicates(\n",
    "    subset=['buyer', 'nft_id'], keep='last', ignore_index=True\n",
    ").groupby(\n",
    "    ['buyer']\n",
    ").size().reset_index(\n",
    "    name='receive_at_mint_cnt_no_cost'\n",
    ")\n",
    "\n",
    "receive_at_mint_cnt_no_cost.rename(\n",
    "    columns={'buyer': 'wallet'}, inplace=True\n",
    ")"
   ]
  },
  {
   "cell_type": "code",
   "execution_count": 44,
   "id": "8de3bde0",
   "metadata": {},
   "outputs": [],
   "source": [
    "wallets = pd.merge(receive_at_mint_cnt,\n",
    "                   wallets,\n",
    "                   on='wallet',\n",
    "                   how='outer')\n",
    "wallets = pd.merge(receive_at_mint_cnt_with_cost,\n",
    "                   wallets,\n",
    "                   on='wallet',\n",
    "                   how='outer')\n",
    "wallets = pd.merge(receive_at_mint_cnt_no_cost,\n",
    "                   wallets,\n",
    "                   on='wallet',\n",
    "                   how='outer')"
   ]
  },
  {
   "cell_type": "markdown",
   "id": "7c78c072",
   "metadata": {},
   "source": [
    "#### Burn Count"
   ]
  },
  {
   "cell_type": "code",
   "execution_count": 45,
   "id": "ae42af82",
   "metadata": {},
   "outputs": [],
   "source": [
    "burn_cnt = events[\n",
    "    events['buyer'].isin(special_wallets)\n",
    "].drop_duplicates(\n",
    "    subset=['seller', 'nft_id'], keep='last', ignore_index=True\n",
    ").groupby(\n",
    "    ['seller']\n",
    ").size().reset_index(\n",
    "    name='burn_cnt'\n",
    ")\n",
    "\n",
    "burn_cnt.rename(\n",
    "    columns={'seller': 'wallet'}, inplace=True\n",
    ")"
   ]
  },
  {
   "cell_type": "code",
   "execution_count": 46,
   "id": "a9fcf21d",
   "metadata": {},
   "outputs": [],
   "source": [
    "wallets = pd.merge(burn_cnt,\n",
    "                   wallets,\n",
    "                   on='wallet',\n",
    "                   how='outer')"
   ]
  },
  {
   "cell_type": "markdown",
   "id": "2de05ae1",
   "metadata": {},
   "source": [
    "#### Transfer Count"
   ]
  },
  {
   "cell_type": "code",
   "execution_count": 47,
   "id": "73936c30",
   "metadata": {},
   "outputs": [],
   "source": [
    "transfer_sender_cnt = events[\n",
    "    ~events['seller'].isin(special_wallets)\n",
    "][\n",
    "    ~events['buyer'].isin(special_wallets)\n",
    "][\n",
    "    events['price_in_eth'] == 0\n",
    "].drop_duplicates(\n",
    "    subset=['seller', 'nft_id'], keep='last', ignore_index=True\n",
    ").groupby(\n",
    "    ['seller']\n",
    ").size().reset_index(\n",
    "    name='transfer_sender_cnt'\n",
    ")\n",
    "\n",
    "transfer_sender_cnt.rename(\n",
    "    columns={'seller': 'wallet'}, inplace=True\n",
    ")"
   ]
  },
  {
   "cell_type": "code",
   "execution_count": 48,
   "id": "64c60d23",
   "metadata": {},
   "outputs": [],
   "source": [
    "transfer_receiver_cnt = events[\n",
    "    ~events['seller'].isin(special_wallets)\n",
    "][\n",
    "    ~events['buyer'].isin(special_wallets)\n",
    "][\n",
    "    events['price_in_eth'] == 0\n",
    "].drop_duplicates(\n",
    "    subset=['buyer', 'nft_id'], keep='last', ignore_index=True\n",
    ").groupby(\n",
    "    ['buyer']\n",
    ").size().reset_index(\n",
    "    name='transfer_receiver_cnt'\n",
    ")\n",
    "\n",
    "transfer_receiver_cnt.rename(\n",
    "    columns={'buyer': 'wallet'}, inplace=True\n",
    ")"
   ]
  },
  {
   "cell_type": "code",
   "execution_count": 49,
   "id": "99b49435",
   "metadata": {},
   "outputs": [],
   "source": [
    "wallets = pd.merge(transfer_sender_cnt,\n",
    "                   wallets,\n",
    "                   on='wallet',\n",
    "                   how='outer')\n",
    "\n",
    "wallets = pd.merge(transfer_receiver_cnt,\n",
    "                   wallets,\n",
    "                   on='wallet',\n",
    "                   how='outer')"
   ]
  },
  {
   "cell_type": "markdown",
   "id": "ddf5cb46",
   "metadata": {},
   "source": [
    "#### Purchase Count"
   ]
  },
  {
   "cell_type": "code",
   "execution_count": 50,
   "id": "7d258f5e",
   "metadata": {},
   "outputs": [],
   "source": [
    "purchase_cnt = events[\n",
    "    ~events['seller'].isin(special_wallets)\n",
    "][\n",
    "    ~events['buyer'].isin(special_wallets)\n",
    "][\n",
    "    events['price_in_eth'] != 0\n",
    "].drop_duplicates(\n",
    "    subset=['buyer', 'nft_id'], keep='last', ignore_index=True\n",
    ").groupby(\n",
    "    ['buyer']\n",
    ").size().reset_index(\n",
    "    name='purchase_cnt'\n",
    ")\n",
    "\n",
    "purchase_cnt.rename(\n",
    "    columns={'buyer': 'wallet'}, inplace=True\n",
    ")\n",
    "\n",
    "wallets = pd.merge(purchase_cnt,\n",
    "                   wallets,\n",
    "                   on='wallet',\n",
    "                   how='outer')"
   ]
  },
  {
   "cell_type": "markdown",
   "id": "7da1b84a",
   "metadata": {},
   "source": [
    "#### Sell Cnt"
   ]
  },
  {
   "cell_type": "code",
   "execution_count": 51,
   "id": "083c7d34",
   "metadata": {},
   "outputs": [],
   "source": [
    "sell_cnt = events[\n",
    "    ~events['seller'].isin(special_wallets)\n",
    "][\n",
    "    ~events['buyer'].isin(special_wallets)\n",
    "][\n",
    "    events['price_in_eth'] != 0\n",
    "].drop_duplicates(\n",
    "    subset=['seller', 'nft_id'], keep='last', ignore_index=True\n",
    ").groupby(\n",
    "    ['seller']\n",
    ").size().reset_index(\n",
    "    name='sell_cnt'\n",
    ")\n",
    "\n",
    "sell_cnt.rename(\n",
    "    columns={'seller': 'wallet'}, inplace=True\n",
    ")\n",
    "\n",
    "wallets = pd.merge(sell_cnt,\n",
    "                   wallets,\n",
    "                   on='wallet',\n",
    "                   how='outer')"
   ]
  },
  {
   "cell_type": "markdown",
   "id": "f98ae234",
   "metadata": {},
   "source": [
    "#### Collection Cnt"
   ]
  },
  {
   "cell_type": "code",
   "execution_count": 52,
   "id": "65100f48",
   "metadata": {},
   "outputs": [],
   "source": [
    "collection_purchase_cnt = events[\n",
    "    ~events['seller'].isin(special_wallets)\n",
    "][\n",
    "    ~events['buyer'].isin(special_wallets)\n",
    "][\n",
    "    events['price_in_eth'] != 0\n",
    "].drop_duplicates(\n",
    "    subset=['buyer', 'collection_id'], keep='last', ignore_index=True\n",
    ").groupby(\n",
    "    ['buyer']\n",
    ").size().reset_index(\n",
    "    name='collection_purchase_cnt'\n",
    ")\n",
    "\n",
    "collection_purchase_cnt.rename(\n",
    "    columns={'buyer': 'wallet'}, inplace=True\n",
    ")\n",
    "\n",
    "wallets = pd.merge(collection_purchase_cnt,\n",
    "                   wallets,\n",
    "                   on='wallet',\n",
    "                   how='outer')"
   ]
  },
  {
   "cell_type": "code",
   "execution_count": 53,
   "id": "5f6e84f6",
   "metadata": {},
   "outputs": [],
   "source": [
    "collection_sell_cnt = events[\n",
    "    ~events['seller'].isin(special_wallets)\n",
    "][\n",
    "    ~events['buyer'].isin(special_wallets)\n",
    "][\n",
    "    events['price_in_eth'] != 0\n",
    "].drop_duplicates(\n",
    "    subset=['seller', 'collection_id'], keep='last', ignore_index=True\n",
    ").groupby(\n",
    "    ['seller']\n",
    ").size().reset_index(\n",
    "    name='collection_sell_cnt'\n",
    ")\n",
    "\n",
    "collection_sell_cnt.rename(\n",
    "    columns={'seller': 'wallet'}, inplace=True\n",
    ")\n",
    "\n",
    "wallets = pd.merge(collection_sell_cnt,\n",
    "                   wallets,\n",
    "                   on='wallet',\n",
    "                   how='outer')"
   ]
  },
  {
   "cell_type": "markdown",
   "id": "72b5215a",
   "metadata": {},
   "source": [
    "#### Holding Time & Profit"
   ]
  },
  {
   "cell_type": "code",
   "execution_count": 54,
   "id": "0100bba3",
   "metadata": {},
   "outputs": [],
   "source": [
    "# keep only purchases\n",
    "events = pd.read_csv(\n",
    "    local_path+'/valid_non_batch_events.csv')\n",
    "\n",
    "events = events[~events['buyer'].isin(special_wallets)]\n",
    "events = events[~events['seller'].isin(special_wallets)]"
   ]
  },
  {
   "cell_type": "code",
   "execution_count": 55,
   "id": "4e4f834d",
   "metadata": {},
   "outputs": [],
   "source": [
    "events.drop(columns={'Unnamed: 0'},inplace=True)"
   ]
  },
  {
   "cell_type": "code",
   "execution_count": 56,
   "id": "05cf6378",
   "metadata": {},
   "outputs": [],
   "source": [
    "tx_count_per_nft = events.groupby(\n",
    "    'nft_id').size().reset_index(name='tx_count_per_nft')"
   ]
  },
  {
   "cell_type": "code",
   "execution_count": 57,
   "id": "f4f89d0c",
   "metadata": {},
   "outputs": [],
   "source": [
    "events = pd.merge(tx_count_per_nft,\n",
    "                  events,\n",
    "                  on='nft_id',\n",
    "                  how='outer')"
   ]
  },
  {
   "cell_type": "code",
   "execution_count": 58,
   "id": "632fde0c",
   "metadata": {},
   "outputs": [],
   "source": [
    "events = events[events['tx_count_per_nft'] >= 2]"
   ]
  },
  {
   "cell_type": "code",
   "execution_count": 59,
   "id": "e36c9bdf",
   "metadata": {},
   "outputs": [],
   "source": [
    "events = events.sort_values(['nft_id', 'timestamp'])"
   ]
  },
  {
   "cell_type": "code",
   "execution_count": 60,
   "id": "47e0ef49",
   "metadata": {},
   "outputs": [],
   "source": [
    "events['timestamp'] = pd.to_datetime(events['timestamp'])"
   ]
  },
  {
   "cell_type": "code",
   "execution_count": 61,
   "id": "38806353",
   "metadata": {},
   "outputs": [],
   "source": [
    "profit_and_holding_time = events.groupby('nft_id')['price_in_eth', 'timestamp'].diff()"
   ]
  },
  {
   "cell_type": "code",
   "execution_count": 62,
   "id": "b476fb91",
   "metadata": {},
   "outputs": [],
   "source": [
    "profit_and_holding_time['nft_id'] = events.loc[profit_and_holding_time.index].nft_id\n",
    "profit_and_holding_time['seller'] = events.loc[profit_and_holding_time.index].seller\n",
    "profit_and_holding_time['buyer'] = events.loc[profit_and_holding_time.index].buyer\n",
    "profit_and_holding_time.rename(\n",
    "    columns={'price_in_eth': 'profit', 'timestamp': 'holding_time'},\n",
    "    inplace=True)"
   ]
  },
  {
   "cell_type": "code",
   "execution_count": 63,
   "id": "7d56338b",
   "metadata": {},
   "outputs": [],
   "source": [
    "profit_and_holding_time = profit_and_holding_time.groupby(\n",
    "    'seller').agg({'holding_time': 'mean', 'profit': 'mean'})"
   ]
  },
  {
   "cell_type": "code",
   "execution_count": 64,
   "id": "5febd94f",
   "metadata": {},
   "outputs": [],
   "source": [
    "profit_and_holding_time = profit_and_holding_time.dropna(how='all').reset_index()"
   ]
  },
  {
   "cell_type": "code",
   "execution_count": 65,
   "id": "5589b9d8",
   "metadata": {},
   "outputs": [],
   "source": [
    "profit_and_holding_time['flipper'] = profit_and_holding_time.apply(\n",
    "    lambda x: True if x['holding_time'] < pd.Timedelta('3 days') else False, axis=1)"
   ]
  },
  {
   "cell_type": "code",
   "execution_count": 66,
   "id": "7db3047f",
   "metadata": {},
   "outputs": [],
   "source": [
    "profit_and_holding_time.rename(\n",
    "    columns={'seller': 'wallet'},\n",
    "    inplace=True)"
   ]
  },
  {
   "cell_type": "code",
   "execution_count": 67,
   "id": "473f55c4",
   "metadata": {},
   "outputs": [],
   "source": [
    "wallets = pd.merge(profit_and_holding_time,\n",
    "                   wallets,\n",
    "                   on='wallet',\n",
    "                   how='outer')"
   ]
  },
  {
   "cell_type": "code",
   "execution_count": 68,
   "id": "9e897eaa",
   "metadata": {},
   "outputs": [
    {
     "name": "stdout",
     "output_type": "stream",
     "text": [
      "CPU times: user 3.11 s, sys: 70.6 ms, total: 3.19 s\n",
      "Wall time: 3.19 s\n"
     ]
    }
   ],
   "source": [
    "%%time\n",
    "wallets.to_csv(\n",
    "    local_path+'/wallets.csv')"
   ]
  },
  {
   "cell_type": "markdown",
   "id": "3e40672e",
   "metadata": {},
   "source": [
    "# Badge Modeling"
   ]
  },
  {
   "cell_type": "code",
   "execution_count": 69,
   "id": "14f8ac59",
   "metadata": {},
   "outputs": [
    {
     "name": "stdout",
     "output_type": "stream",
     "text": [
      "CPU times: user 587 ms, sys: 47.4 ms, total: 635 ms\n",
      "Wall time: 634 ms\n"
     ]
    }
   ],
   "source": [
    "%%time\n",
    "wallets = pd.read_csv(\n",
    "    local_path+'/wallets.csv')"
   ]
  },
  {
   "cell_type": "code",
   "execution_count": 70,
   "id": "25a1e467",
   "metadata": {},
   "outputs": [
    {
     "data": {
      "text/plain": [
       "Index(['Unnamed: 0', 'wallet', 'holding_time', 'profit', 'flipper',\n",
       "       'collection_sell_cnt', 'collection_purchase_cnt', 'sell_cnt',\n",
       "       'purchase_cnt', 'transfer_receiver_cnt', 'transfer_sender_cnt',\n",
       "       'burn_cnt', 'receive_at_mint_cnt_no_cost',\n",
       "       'receive_at_mint_cnt_with_cost', 'receive_at_mint_cnt'],\n",
       "      dtype='object')"
      ]
     },
     "execution_count": 70,
     "metadata": {},
     "output_type": "execute_result"
    }
   ],
   "source": [
    "wallets.columns"
   ]
  },
  {
   "cell_type": "code",
   "execution_count": 71,
   "id": "e5e8f689",
   "metadata": {},
   "outputs": [],
   "source": [
    "def convert_to_hours(duration):\n",
    "    duration = str(duration)\n",
    "    \n",
    "    if duration == 'nan':\n",
    "        return 0.0\n",
    "    \n",
    "    time_list = duration.split(\"days\")\n",
    "    if len(time_list) == 2:\n",
    "        days, time_in_day = time_list[0], time_list[1]\n",
    "    elif len(time_list) == 1 and \"days\" in duration:\n",
    "        days, time_in_day = time_list[0], \"0\"\n",
    "    elif len(time_list) == 1 and \"days\" not in duration:\n",
    "        days, time_in_day = \"0\", time_list[0]\n",
    "    else:\n",
    "        return 0.0\n",
    "\n",
    "    days.strip(\" \")\n",
    "    hours, minutes, seconds = time_in_day.strip(\" \").split(\":\")\n",
    "    return float(days) * 24.0 + float(\n",
    "        hours) + float(\n",
    "        minutes) / 60.0 + float(\n",
    "        seconds) / 60.0 / 60.0"
   ]
  },
  {
   "cell_type": "code",
   "execution_count": 72,
   "id": "0ba67ba5",
   "metadata": {},
   "outputs": [],
   "source": [
    "wallets['holding_hours'] = wallets.apply(\n",
    "    lambda wallet: convert_to_hours(wallet['holding_time']),\n",
    "    axis=1)\n",
    "wallets = wallets.drop(columns=['Unnamed: 0'])"
   ]
  },
  {
   "cell_type": "code",
   "execution_count": 73,
   "id": "ff984947",
   "metadata": {},
   "outputs": [
    {
     "data": {
      "text/html": [
       "<div>\n",
       "<style scoped>\n",
       "    .dataframe tbody tr th:only-of-type {\n",
       "        vertical-align: middle;\n",
       "    }\n",
       "\n",
       "    .dataframe tbody tr th {\n",
       "        vertical-align: top;\n",
       "    }\n",
       "\n",
       "    .dataframe thead th {\n",
       "        text-align: right;\n",
       "    }\n",
       "</style>\n",
       "<table border=\"1\" class=\"dataframe\">\n",
       "  <thead>\n",
       "    <tr style=\"text-align: right;\">\n",
       "      <th></th>\n",
       "      <th>profit</th>\n",
       "      <th>collection_sell_cnt</th>\n",
       "      <th>collection_purchase_cnt</th>\n",
       "      <th>sell_cnt</th>\n",
       "      <th>purchase_cnt</th>\n",
       "      <th>transfer_receiver_cnt</th>\n",
       "      <th>transfer_sender_cnt</th>\n",
       "      <th>burn_cnt</th>\n",
       "      <th>receive_at_mint_cnt_no_cost</th>\n",
       "      <th>receive_at_mint_cnt_with_cost</th>\n",
       "      <th>receive_at_mint_cnt</th>\n",
       "      <th>holding_hours</th>\n",
       "    </tr>\n",
       "  </thead>\n",
       "  <tbody>\n",
       "    <tr>\n",
       "      <th>count</th>\n",
       "      <td>127965.000000</td>\n",
       "      <td>238066.000000</td>\n",
       "      <td>282753.000000</td>\n",
       "      <td>238066.000000</td>\n",
       "      <td>282753.000000</td>\n",
       "      <td>246484.000000</td>\n",
       "      <td>260429.000000</td>\n",
       "      <td>30373.000000</td>\n",
       "      <td>487469.000000</td>\n",
       "      <td>243895.000000</td>\n",
       "      <td>594274.000000</td>\n",
       "      <td>878973.000000</td>\n",
       "    </tr>\n",
       "    <tr>\n",
       "      <th>mean</th>\n",
       "      <td>-0.072915</td>\n",
       "      <td>3.809364</td>\n",
       "      <td>2.924217</td>\n",
       "      <td>9.481997</td>\n",
       "      <td>7.983257</td>\n",
       "      <td>5.747574</td>\n",
       "      <td>5.417231</td>\n",
       "      <td>3.808185</td>\n",
       "      <td>13.714772</td>\n",
       "      <td>7.281941</td>\n",
       "      <td>14.238469</td>\n",
       "      <td>11.139845</td>\n",
       "    </tr>\n",
       "    <tr>\n",
       "      <th>std</th>\n",
       "      <td>3.693461</td>\n",
       "      <td>8.326014</td>\n",
       "      <td>6.427403</td>\n",
       "      <td>354.053919</td>\n",
       "      <td>270.766873</td>\n",
       "      <td>68.560676</td>\n",
       "      <td>250.283595</td>\n",
       "      <td>29.556422</td>\n",
       "      <td>122.267300</td>\n",
       "      <td>194.470996</td>\n",
       "      <td>169.489338</td>\n",
       "      <td>49.193656</td>\n",
       "    </tr>\n",
       "    <tr>\n",
       "      <th>min</th>\n",
       "      <td>-260.005000</td>\n",
       "      <td>1.000000</td>\n",
       "      <td>1.000000</td>\n",
       "      <td>1.000000</td>\n",
       "      <td>1.000000</td>\n",
       "      <td>1.000000</td>\n",
       "      <td>1.000000</td>\n",
       "      <td>1.000000</td>\n",
       "      <td>1.000000</td>\n",
       "      <td>1.000000</td>\n",
       "      <td>1.000000</td>\n",
       "      <td>0.000000</td>\n",
       "    </tr>\n",
       "    <tr>\n",
       "      <th>25%</th>\n",
       "      <td>-0.055000</td>\n",
       "      <td>1.000000</td>\n",
       "      <td>1.000000</td>\n",
       "      <td>1.000000</td>\n",
       "      <td>1.000000</td>\n",
       "      <td>1.000000</td>\n",
       "      <td>1.000000</td>\n",
       "      <td>1.000000</td>\n",
       "      <td>1.000000</td>\n",
       "      <td>1.000000</td>\n",
       "      <td>1.000000</td>\n",
       "      <td>0.000000</td>\n",
       "    </tr>\n",
       "    <tr>\n",
       "      <th>50%</th>\n",
       "      <td>0.000000</td>\n",
       "      <td>2.000000</td>\n",
       "      <td>1.000000</td>\n",
       "      <td>2.000000</td>\n",
       "      <td>2.000000</td>\n",
       "      <td>2.000000</td>\n",
       "      <td>2.000000</td>\n",
       "      <td>1.000000</td>\n",
       "      <td>2.000000</td>\n",
       "      <td>2.000000</td>\n",
       "      <td>2.000000</td>\n",
       "      <td>0.000000</td>\n",
       "    </tr>\n",
       "    <tr>\n",
       "      <th>75%</th>\n",
       "      <td>0.054938</td>\n",
       "      <td>4.000000</td>\n",
       "      <td>3.000000</td>\n",
       "      <td>7.000000</td>\n",
       "      <td>6.000000</td>\n",
       "      <td>4.000000</td>\n",
       "      <td>4.000000</td>\n",
       "      <td>3.000000</td>\n",
       "      <td>6.000000</td>\n",
       "      <td>5.000000</td>\n",
       "      <td>7.000000</td>\n",
       "      <td>0.000000</td>\n",
       "    </tr>\n",
       "    <tr>\n",
       "      <th>max</th>\n",
       "      <td>486.000000</td>\n",
       "      <td>2064.000000</td>\n",
       "      <td>2064.000000</td>\n",
       "      <td>143026.000000</td>\n",
       "      <td>143026.000000</td>\n",
       "      <td>14268.000000</td>\n",
       "      <td>121812.000000</td>\n",
       "      <td>4414.000000</td>\n",
       "      <td>47885.000000</td>\n",
       "      <td>95037.000000</td>\n",
       "      <td>95167.000000</td>\n",
       "      <td>714.075278</td>\n",
       "    </tr>\n",
       "  </tbody>\n",
       "</table>\n",
       "</div>"
      ],
      "text/plain": [
       "              profit  collection_sell_cnt  collection_purchase_cnt  \\\n",
       "count  127965.000000        238066.000000            282753.000000   \n",
       "mean       -0.072915             3.809364                 2.924217   \n",
       "std         3.693461             8.326014                 6.427403   \n",
       "min      -260.005000             1.000000                 1.000000   \n",
       "25%        -0.055000             1.000000                 1.000000   \n",
       "50%         0.000000             2.000000                 1.000000   \n",
       "75%         0.054938             4.000000                 3.000000   \n",
       "max       486.000000          2064.000000              2064.000000   \n",
       "\n",
       "            sell_cnt   purchase_cnt  transfer_receiver_cnt  \\\n",
       "count  238066.000000  282753.000000          246484.000000   \n",
       "mean        9.481997       7.983257               5.747574   \n",
       "std       354.053919     270.766873              68.560676   \n",
       "min         1.000000       1.000000               1.000000   \n",
       "25%         1.000000       1.000000               1.000000   \n",
       "50%         2.000000       2.000000               2.000000   \n",
       "75%         7.000000       6.000000               4.000000   \n",
       "max    143026.000000  143026.000000           14268.000000   \n",
       "\n",
       "       transfer_sender_cnt      burn_cnt  receive_at_mint_cnt_no_cost  \\\n",
       "count        260429.000000  30373.000000                487469.000000   \n",
       "mean              5.417231      3.808185                    13.714772   \n",
       "std             250.283595     29.556422                   122.267300   \n",
       "min               1.000000      1.000000                     1.000000   \n",
       "25%               1.000000      1.000000                     1.000000   \n",
       "50%               2.000000      1.000000                     2.000000   \n",
       "75%               4.000000      3.000000                     6.000000   \n",
       "max          121812.000000   4414.000000                 47885.000000   \n",
       "\n",
       "       receive_at_mint_cnt_with_cost  receive_at_mint_cnt  holding_hours  \n",
       "count                  243895.000000        594274.000000  878973.000000  \n",
       "mean                        7.281941            14.238469      11.139845  \n",
       "std                       194.470996           169.489338      49.193656  \n",
       "min                         1.000000             1.000000       0.000000  \n",
       "25%                         1.000000             1.000000       0.000000  \n",
       "50%                         2.000000             2.000000       0.000000  \n",
       "75%                         5.000000             7.000000       0.000000  \n",
       "max                     95037.000000         95167.000000     714.075278  "
      ]
     },
     "execution_count": 73,
     "metadata": {},
     "output_type": "execute_result"
    }
   ],
   "source": [
    "wallets.describe()"
   ]
  },
  {
   "cell_type": "code",
   "execution_count": 74,
   "id": "7221a9ca",
   "metadata": {},
   "outputs": [
    {
     "data": {
      "text/html": [
       "<div>\n",
       "<style scoped>\n",
       "    .dataframe tbody tr th:only-of-type {\n",
       "        vertical-align: middle;\n",
       "    }\n",
       "\n",
       "    .dataframe tbody tr th {\n",
       "        vertical-align: top;\n",
       "    }\n",
       "\n",
       "    .dataframe thead th {\n",
       "        text-align: right;\n",
       "    }\n",
       "</style>\n",
       "<table border=\"1\" class=\"dataframe\">\n",
       "  <thead>\n",
       "    <tr style=\"text-align: right;\">\n",
       "      <th></th>\n",
       "      <th>profit</th>\n",
       "      <th>collection_sell_cnt</th>\n",
       "      <th>collection_purchase_cnt</th>\n",
       "      <th>sell_cnt</th>\n",
       "      <th>purchase_cnt</th>\n",
       "      <th>transfer_receiver_cnt</th>\n",
       "      <th>transfer_sender_cnt</th>\n",
       "      <th>burn_cnt</th>\n",
       "      <th>receive_at_mint_cnt_no_cost</th>\n",
       "      <th>receive_at_mint_cnt_with_cost</th>\n",
       "      <th>receive_at_mint_cnt</th>\n",
       "      <th>holding_hours</th>\n",
       "    </tr>\n",
       "  </thead>\n",
       "  <tbody>\n",
       "    <tr>\n",
       "      <th>profit</th>\n",
       "      <td>1.000000</td>\n",
       "      <td>-0.009074</td>\n",
       "      <td>0.018992</td>\n",
       "      <td>-0.003406</td>\n",
       "      <td>0.014384</td>\n",
       "      <td>0.001280</td>\n",
       "      <td>0.000435</td>\n",
       "      <td>0.004629</td>\n",
       "      <td>0.004263</td>\n",
       "      <td>0.010114</td>\n",
       "      <td>0.005681</td>\n",
       "      <td>0.014675</td>\n",
       "    </tr>\n",
       "    <tr>\n",
       "      <th>collection_sell_cnt</th>\n",
       "      <td>-0.009074</td>\n",
       "      <td>1.000000</td>\n",
       "      <td>0.791590</td>\n",
       "      <td>0.482242</td>\n",
       "      <td>0.601861</td>\n",
       "      <td>0.247712</td>\n",
       "      <td>0.163488</td>\n",
       "      <td>0.008846</td>\n",
       "      <td>0.229392</td>\n",
       "      <td>0.042163</td>\n",
       "      <td>0.162557</td>\n",
       "      <td>0.058100</td>\n",
       "    </tr>\n",
       "    <tr>\n",
       "      <th>collection_purchase_cnt</th>\n",
       "      <td>0.018992</td>\n",
       "      <td>0.791590</td>\n",
       "      <td>1.000000</td>\n",
       "      <td>0.677354</td>\n",
       "      <td>0.661790</td>\n",
       "      <td>0.083127</td>\n",
       "      <td>0.114952</td>\n",
       "      <td>0.036493</td>\n",
       "      <td>0.055864</td>\n",
       "      <td>0.208449</td>\n",
       "      <td>0.080043</td>\n",
       "      <td>0.116338</td>\n",
       "    </tr>\n",
       "    <tr>\n",
       "      <th>sell_cnt</th>\n",
       "      <td>-0.003406</td>\n",
       "      <td>0.482242</td>\n",
       "      <td>0.677354</td>\n",
       "      <td>1.000000</td>\n",
       "      <td>0.996717</td>\n",
       "      <td>0.070963</td>\n",
       "      <td>0.071980</td>\n",
       "      <td>0.056568</td>\n",
       "      <td>0.025099</td>\n",
       "      <td>0.994385</td>\n",
       "      <td>0.455534</td>\n",
       "      <td>0.001744</td>\n",
       "    </tr>\n",
       "    <tr>\n",
       "      <th>purchase_cnt</th>\n",
       "      <td>0.014384</td>\n",
       "      <td>0.601861</td>\n",
       "      <td>0.661790</td>\n",
       "      <td>0.996717</td>\n",
       "      <td>1.000000</td>\n",
       "      <td>0.055891</td>\n",
       "      <td>0.083606</td>\n",
       "      <td>0.213597</td>\n",
       "      <td>0.007771</td>\n",
       "      <td>0.322910</td>\n",
       "      <td>0.011045</td>\n",
       "      <td>0.007850</td>\n",
       "    </tr>\n",
       "    <tr>\n",
       "      <th>transfer_receiver_cnt</th>\n",
       "      <td>0.001280</td>\n",
       "      <td>0.247712</td>\n",
       "      <td>0.083127</td>\n",
       "      <td>0.070963</td>\n",
       "      <td>0.055891</td>\n",
       "      <td>1.000000</td>\n",
       "      <td>0.068778</td>\n",
       "      <td>0.476748</td>\n",
       "      <td>0.251110</td>\n",
       "      <td>0.059201</td>\n",
       "      <td>0.150285</td>\n",
       "      <td>0.016863</td>\n",
       "    </tr>\n",
       "    <tr>\n",
       "      <th>transfer_sender_cnt</th>\n",
       "      <td>0.000435</td>\n",
       "      <td>0.163488</td>\n",
       "      <td>0.114952</td>\n",
       "      <td>0.071980</td>\n",
       "      <td>0.083606</td>\n",
       "      <td>0.068778</td>\n",
       "      <td>1.000000</td>\n",
       "      <td>0.003666</td>\n",
       "      <td>0.050643</td>\n",
       "      <td>0.030153</td>\n",
       "      <td>0.032535</td>\n",
       "      <td>0.002781</td>\n",
       "    </tr>\n",
       "    <tr>\n",
       "      <th>burn_cnt</th>\n",
       "      <td>0.004629</td>\n",
       "      <td>0.008846</td>\n",
       "      <td>0.036493</td>\n",
       "      <td>0.056568</td>\n",
       "      <td>0.213597</td>\n",
       "      <td>0.476748</td>\n",
       "      <td>0.003666</td>\n",
       "      <td>1.000000</td>\n",
       "      <td>0.065641</td>\n",
       "      <td>0.196375</td>\n",
       "      <td>0.080903</td>\n",
       "      <td>0.005353</td>\n",
       "    </tr>\n",
       "    <tr>\n",
       "      <th>receive_at_mint_cnt_no_cost</th>\n",
       "      <td>0.004263</td>\n",
       "      <td>0.229392</td>\n",
       "      <td>0.055864</td>\n",
       "      <td>0.025099</td>\n",
       "      <td>0.007771</td>\n",
       "      <td>0.251110</td>\n",
       "      <td>0.050643</td>\n",
       "      <td>0.065641</td>\n",
       "      <td>1.000000</td>\n",
       "      <td>0.040092</td>\n",
       "      <td>0.679241</td>\n",
       "      <td>0.011584</td>\n",
       "    </tr>\n",
       "    <tr>\n",
       "      <th>receive_at_mint_cnt_with_cost</th>\n",
       "      <td>0.010114</td>\n",
       "      <td>0.042163</td>\n",
       "      <td>0.208449</td>\n",
       "      <td>0.994385</td>\n",
       "      <td>0.322910</td>\n",
       "      <td>0.059201</td>\n",
       "      <td>0.030153</td>\n",
       "      <td>0.196375</td>\n",
       "      <td>0.040092</td>\n",
       "      <td>1.000000</td>\n",
       "      <td>0.835897</td>\n",
       "      <td>0.004737</td>\n",
       "    </tr>\n",
       "    <tr>\n",
       "      <th>receive_at_mint_cnt</th>\n",
       "      <td>0.005681</td>\n",
       "      <td>0.162557</td>\n",
       "      <td>0.080043</td>\n",
       "      <td>0.455534</td>\n",
       "      <td>0.011045</td>\n",
       "      <td>0.150285</td>\n",
       "      <td>0.032535</td>\n",
       "      <td>0.080903</td>\n",
       "      <td>0.679241</td>\n",
       "      <td>0.835897</td>\n",
       "      <td>1.000000</td>\n",
       "      <td>0.012575</td>\n",
       "    </tr>\n",
       "    <tr>\n",
       "      <th>holding_hours</th>\n",
       "      <td>0.014675</td>\n",
       "      <td>0.058100</td>\n",
       "      <td>0.116338</td>\n",
       "      <td>0.001744</td>\n",
       "      <td>0.007850</td>\n",
       "      <td>0.016863</td>\n",
       "      <td>0.002781</td>\n",
       "      <td>0.005353</td>\n",
       "      <td>0.011584</td>\n",
       "      <td>0.004737</td>\n",
       "      <td>0.012575</td>\n",
       "      <td>1.000000</td>\n",
       "    </tr>\n",
       "  </tbody>\n",
       "</table>\n",
       "</div>"
      ],
      "text/plain": [
       "                                 profit  collection_sell_cnt  \\\n",
       "profit                         1.000000            -0.009074   \n",
       "collection_sell_cnt           -0.009074             1.000000   \n",
       "collection_purchase_cnt        0.018992             0.791590   \n",
       "sell_cnt                      -0.003406             0.482242   \n",
       "purchase_cnt                   0.014384             0.601861   \n",
       "transfer_receiver_cnt          0.001280             0.247712   \n",
       "transfer_sender_cnt            0.000435             0.163488   \n",
       "burn_cnt                       0.004629             0.008846   \n",
       "receive_at_mint_cnt_no_cost    0.004263             0.229392   \n",
       "receive_at_mint_cnt_with_cost  0.010114             0.042163   \n",
       "receive_at_mint_cnt            0.005681             0.162557   \n",
       "holding_hours                  0.014675             0.058100   \n",
       "\n",
       "                               collection_purchase_cnt  sell_cnt  \\\n",
       "profit                                        0.018992 -0.003406   \n",
       "collection_sell_cnt                           0.791590  0.482242   \n",
       "collection_purchase_cnt                       1.000000  0.677354   \n",
       "sell_cnt                                      0.677354  1.000000   \n",
       "purchase_cnt                                  0.661790  0.996717   \n",
       "transfer_receiver_cnt                         0.083127  0.070963   \n",
       "transfer_sender_cnt                           0.114952  0.071980   \n",
       "burn_cnt                                      0.036493  0.056568   \n",
       "receive_at_mint_cnt_no_cost                   0.055864  0.025099   \n",
       "receive_at_mint_cnt_with_cost                 0.208449  0.994385   \n",
       "receive_at_mint_cnt                           0.080043  0.455534   \n",
       "holding_hours                                 0.116338  0.001744   \n",
       "\n",
       "                               purchase_cnt  transfer_receiver_cnt  \\\n",
       "profit                             0.014384               0.001280   \n",
       "collection_sell_cnt                0.601861               0.247712   \n",
       "collection_purchase_cnt            0.661790               0.083127   \n",
       "sell_cnt                           0.996717               0.070963   \n",
       "purchase_cnt                       1.000000               0.055891   \n",
       "transfer_receiver_cnt              0.055891               1.000000   \n",
       "transfer_sender_cnt                0.083606               0.068778   \n",
       "burn_cnt                           0.213597               0.476748   \n",
       "receive_at_mint_cnt_no_cost        0.007771               0.251110   \n",
       "receive_at_mint_cnt_with_cost      0.322910               0.059201   \n",
       "receive_at_mint_cnt                0.011045               0.150285   \n",
       "holding_hours                      0.007850               0.016863   \n",
       "\n",
       "                               transfer_sender_cnt  burn_cnt  \\\n",
       "profit                                    0.000435  0.004629   \n",
       "collection_sell_cnt                       0.163488  0.008846   \n",
       "collection_purchase_cnt                   0.114952  0.036493   \n",
       "sell_cnt                                  0.071980  0.056568   \n",
       "purchase_cnt                              0.083606  0.213597   \n",
       "transfer_receiver_cnt                     0.068778  0.476748   \n",
       "transfer_sender_cnt                       1.000000  0.003666   \n",
       "burn_cnt                                  0.003666  1.000000   \n",
       "receive_at_mint_cnt_no_cost               0.050643  0.065641   \n",
       "receive_at_mint_cnt_with_cost             0.030153  0.196375   \n",
       "receive_at_mint_cnt                       0.032535  0.080903   \n",
       "holding_hours                             0.002781  0.005353   \n",
       "\n",
       "                               receive_at_mint_cnt_no_cost  \\\n",
       "profit                                            0.004263   \n",
       "collection_sell_cnt                               0.229392   \n",
       "collection_purchase_cnt                           0.055864   \n",
       "sell_cnt                                          0.025099   \n",
       "purchase_cnt                                      0.007771   \n",
       "transfer_receiver_cnt                             0.251110   \n",
       "transfer_sender_cnt                               0.050643   \n",
       "burn_cnt                                          0.065641   \n",
       "receive_at_mint_cnt_no_cost                       1.000000   \n",
       "receive_at_mint_cnt_with_cost                     0.040092   \n",
       "receive_at_mint_cnt                               0.679241   \n",
       "holding_hours                                     0.011584   \n",
       "\n",
       "                               receive_at_mint_cnt_with_cost  \\\n",
       "profit                                              0.010114   \n",
       "collection_sell_cnt                                 0.042163   \n",
       "collection_purchase_cnt                             0.208449   \n",
       "sell_cnt                                            0.994385   \n",
       "purchase_cnt                                        0.322910   \n",
       "transfer_receiver_cnt                               0.059201   \n",
       "transfer_sender_cnt                                 0.030153   \n",
       "burn_cnt                                            0.196375   \n",
       "receive_at_mint_cnt_no_cost                         0.040092   \n",
       "receive_at_mint_cnt_with_cost                       1.000000   \n",
       "receive_at_mint_cnt                                 0.835897   \n",
       "holding_hours                                       0.004737   \n",
       "\n",
       "                               receive_at_mint_cnt  holding_hours  \n",
       "profit                                    0.005681       0.014675  \n",
       "collection_sell_cnt                       0.162557       0.058100  \n",
       "collection_purchase_cnt                   0.080043       0.116338  \n",
       "sell_cnt                                  0.455534       0.001744  \n",
       "purchase_cnt                              0.011045       0.007850  \n",
       "transfer_receiver_cnt                     0.150285       0.016863  \n",
       "transfer_sender_cnt                       0.032535       0.002781  \n",
       "burn_cnt                                  0.080903       0.005353  \n",
       "receive_at_mint_cnt_no_cost               0.679241       0.011584  \n",
       "receive_at_mint_cnt_with_cost             0.835897       0.004737  \n",
       "receive_at_mint_cnt                       1.000000       0.012575  \n",
       "holding_hours                             0.012575       1.000000  "
      ]
     },
     "execution_count": 74,
     "metadata": {},
     "output_type": "execute_result"
    }
   ],
   "source": [
    "wallets.corr()"
   ]
  },
  {
   "cell_type": "markdown",
   "id": "813e97da",
   "metadata": {},
   "source": [
    "### NFT Smart Money"
   ]
  },
  {
   "cell_type": "code",
   "execution_count": 75,
   "id": "4654f77f",
   "metadata": {},
   "outputs": [
    {
     "data": {
      "image/png": "[encoded data removed]",
      "text/plain": [
       "<Figure size 432x288 with 1 Axes>"
      ]
     },
     "metadata": {
      "needs_background": "light"
     },
     "output_type": "display_data"
    }
   ],
   "source": [
    "import matplotlib.pyplot as plt\n",
    "plt.hist(wallets['profit'], bins=10000)\n",
    "plt.ylabel('Count')\n",
    "plt.xlabel('Profit')\n",
    "plt.xlim(-10, 10)\n",
    "plt.show()"
   ]
  },
  {
   "cell_type": "code",
   "execution_count": 76,
   "id": "39430c99",
   "metadata": {},
   "outputs": [
    {
     "data": {
      "text/plain": [
       "878973"
      ]
     },
     "execution_count": 76,
     "metadata": {},
     "output_type": "execute_result"
    }
   ],
   "source": [
    "len(wallets)"
   ]
  },
  {
   "cell_type": "code",
   "execution_count": 77,
   "id": "41e9bc2f",
   "metadata": {},
   "outputs": [
    {
     "data": {
      "text/plain": [
       "2967"
      ]
     },
     "execution_count": 77,
     "metadata": {},
     "output_type": "execute_result"
    }
   ],
   "source": [
    "len(wallets[wallets['profit'] > 1.0])"
   ]
  },
  {
   "cell_type": "code",
   "execution_count": 78,
   "id": "4189f36d",
   "metadata": {},
   "outputs": [
    {
     "data": {
      "image/png": "[encoded data removed]",
      "text/plain": [
       "<Figure size 432x288 with 1 Axes>"
      ]
     },
     "metadata": {
      "needs_background": "light"
     },
     "output_type": "display_data"
    }
   ],
   "source": [
    "import matplotlib.pyplot as plt\n",
    "plt.hist(wallets['purchase_cnt'], bins=100000)\n",
    "plt.ylabel('Count')\n",
    "plt.xlabel('Purchase Cnt')\n",
    "plt.xlim(0, 150)\n",
    "plt.show()"
   ]
  },
  {
   "cell_type": "code",
   "execution_count": 79,
   "id": "0679d8eb",
   "metadata": {},
   "outputs": [
    {
     "data": {
      "text/plain": [
       "43588"
      ]
     },
     "execution_count": 79,
     "metadata": {},
     "output_type": "execute_result"
    }
   ],
   "source": [
    "len(wallets[wallets['purchase_cnt'] > 10])"
   ]
  },
  {
   "cell_type": "code",
   "execution_count": 80,
   "id": "4623cafb",
   "metadata": {},
   "outputs": [],
   "source": [
    "# first version of nft smart money with pretty strict rule\n",
    "nft_smart_money = wallets[wallets['profit'] > 5.0][wallets['purchase_cnt'] > 10]"
   ]
  },
  {
   "cell_type": "code",
   "execution_count": 81,
   "id": "b0979d51",
   "metadata": {},
   "outputs": [
    {
     "data": {
      "text/plain": [
       "45"
      ]
     },
     "execution_count": 81,
     "metadata": {},
     "output_type": "execute_result"
    }
   ],
   "source": [
    "len(nft_smart_money)"
   ]
  },
  {
   "cell_type": "code",
   "execution_count": 82,
   "id": "61f3ae97",
   "metadata": {},
   "outputs": [
    {
     "name": "stdout",
     "output_type": "stream",
     "text": [
      "The percentage of NFT smart money wallets is 0.01%\n"
     ]
    }
   ],
   "source": [
    "print(\"The percentage of NFT smart money wallets is {:.2f}%\".format(\n",
    "    len(nft_smart_money) / len(wallets) * 100))"
   ]
  },
  {
   "cell_type": "code",
   "execution_count": 83,
   "id": "7822e35f",
   "metadata": {},
   "outputs": [],
   "source": [
    "wallets['nft_smart_money'] = wallets.apply(\n",
    "    lambda wallet: True if wallet[\n",
    "        'profit'] > 5.0 and wallet[\n",
    "        'purchase_cnt'] > 10 else False,\n",
    "    axis=1)"
   ]
  },
  {
   "cell_type": "code",
   "execution_count": 84,
   "id": "5883808b",
   "metadata": {},
   "outputs": [
    {
     "data": {
      "text/plain": [
       "45"
      ]
     },
     "execution_count": 84,
     "metadata": {},
     "output_type": "execute_result"
    }
   ],
   "source": [
    "len(wallets[wallets['nft_smart_money'] == True])"
   ]
  },
  {
   "cell_type": "markdown",
   "id": "caa5ac8c",
   "metadata": {},
   "source": [
    "### NFT Holder"
   ]
  },
  {
   "cell_type": "code",
   "execution_count": 85,
   "id": "02197ee4",
   "metadata": {},
   "outputs": [
    {
     "data": {
      "image/png": "[encoded data removed]",
      "text/plain": [
       "<Figure size 432x288 with 1 Axes>"
      ]
     },
     "metadata": {
      "needs_background": "light"
     },
     "output_type": "display_data"
    }
   ],
   "source": [
    "import matplotlib.pyplot as plt\n",
    "plt.hist(wallets['holding_hours'], bins=10000)\n",
    "plt.ylabel('Count')\n",
    "plt.xlabel('Holding Time (hours)')\n",
    "plt.xlim(0, 20)\n",
    "plt.ylim(0, 10000)\n",
    "plt.show()"
   ]
  },
  {
   "cell_type": "code",
   "execution_count": 86,
   "id": "e8b93895",
   "metadata": {},
   "outputs": [],
   "source": [
    "# hold over 1 months and over 10 NFTs\n",
    "nft_holders = wallets[wallets['holding_hours'] > 720.0][wallets['purchase_cnt'] > 40]"
   ]
  },
  {
   "cell_type": "code",
   "execution_count": 87,
   "id": "47cb14f5",
   "metadata": {},
   "outputs": [
    {
     "data": {
      "text/plain": [
       "0"
      ]
     },
     "execution_count": 87,
     "metadata": {},
     "output_type": "execute_result"
    }
   ],
   "source": [
    "len(nft_holders)"
   ]
  },
  {
   "cell_type": "code",
   "execution_count": 88,
   "id": "2663f3ec",
   "metadata": {},
   "outputs": [
    {
     "name": "stdout",
     "output_type": "stream",
     "text": [
      "The percentage of NFT holders is 0.00%\n"
     ]
    }
   ],
   "source": [
    "print(\"The percentage of NFT holders is {:.2f}%\".format(\n",
    "    len(nft_holders) / len(wallets) * 100))"
   ]
  },
  {
   "cell_type": "code",
   "execution_count": 89,
   "id": "f75c3ee2",
   "metadata": {},
   "outputs": [],
   "source": [
    "wallets['nft_holder'] = wallets.apply(\n",
    "    lambda wallet: True if wallet[\n",
    "        'holding_hours'] > 720.0 and wallet[\n",
    "        'purchase_cnt'] > 40 else False,\n",
    "    axis=1)"
   ]
  },
  {
   "cell_type": "code",
   "execution_count": 90,
   "id": "c05761a2",
   "metadata": {},
   "outputs": [
    {
     "data": {
      "text/plain": [
       "0"
      ]
     },
     "execution_count": 90,
     "metadata": {},
     "output_type": "execute_result"
    }
   ],
   "source": [
    "len(wallets[wallets['nft_holder'] == True])"
   ]
  },
  {
   "cell_type": "markdown",
   "id": "0207b3d9",
   "metadata": {},
   "source": [
    "### NFT Flipper"
   ]
  },
  {
   "cell_type": "code",
   "execution_count": 91,
   "id": "87e9c802",
   "metadata": {},
   "outputs": [],
   "source": [
    "nft_flippers = wallets[wallets['holding_hours'] < 24.0][wallets['purchase_cnt'] > 10]"
   ]
  },
  {
   "cell_type": "code",
   "execution_count": 92,
   "id": "96cfcde3",
   "metadata": {},
   "outputs": [
    {
     "data": {
      "text/plain": [
       "21678"
      ]
     },
     "execution_count": 92,
     "metadata": {},
     "output_type": "execute_result"
    }
   ],
   "source": [
    "len(nft_flippers)"
   ]
  },
  {
   "cell_type": "code",
   "execution_count": 93,
   "id": "82546b90",
   "metadata": {},
   "outputs": [
    {
     "name": "stdout",
     "output_type": "stream",
     "text": [
      "The percentage of NFT flippers is 2.47%\n"
     ]
    }
   ],
   "source": [
    "print(\"The percentage of NFT flippers is {:.2f}%\".format(\n",
    "    len(nft_flippers) / len(wallets) * 100))"
   ]
  },
  {
   "cell_type": "code",
   "execution_count": 94,
   "id": "6885ac62",
   "metadata": {},
   "outputs": [],
   "source": [
    "wallets['nft_flipper'] = wallets.apply(\n",
    "    lambda wallet: True if wallet[\n",
    "        'holding_hours'] < 24.0 and wallet[\n",
    "        'purchase_cnt'] > 10 else False,\n",
    "    axis=1)"
   ]
  },
  {
   "cell_type": "code",
   "execution_count": 95,
   "id": "012df90e",
   "metadata": {},
   "outputs": [
    {
     "data": {
      "text/plain": [
       "21678"
      ]
     },
     "execution_count": 95,
     "metadata": {},
     "output_type": "execute_result"
    }
   ],
   "source": [
    "len(wallets[wallets['nft_flipper'] == True])"
   ]
  },
  {
   "cell_type": "markdown",
   "id": "feb62655",
   "metadata": {},
   "source": [
    "### Save Tagged Wallets"
   ]
  },
  {
   "cell_type": "code",
   "execution_count": 96,
   "id": "16b11b55",
   "metadata": {},
   "outputs": [
    {
     "name": "stdout",
     "output_type": "stream",
     "text": [
      "CPU times: user 2.96 s, sys: 92.3 ms, total: 3.05 s\n",
      "Wall time: 3.06 s\n"
     ]
    }
   ],
   "source": [
    "%%time\n",
    "wallets.to_csv(\n",
    "    local_path+'/tagged_wallets.csv')"
   ]
  },
  {
   "cell_type": "code",
   "execution_count": null,
   "id": "9f410c52",
   "metadata": {},
   "outputs": [],
   "source": []
  },
  {
   "cell_type": "code",
   "execution_count": null,
   "id": "6400f4e9",
   "metadata": {},
   "outputs": [],
   "source": []
  }
 ],
 "metadata": {
  "kernelspec": {
   "display_name": "Python 3 (ipykernel)",
   "language": "python",
   "name": "python3"
  },
  "language_info": {
   "codemirror_mode": {
    "name": "ipython",
    "version": 3
   },
   "file_extension": ".py",
   "mimetype": "text/x-python",
   "name": "python",
   "nbconvert_exporter": "python",
   "pygments_lexer": "ipython3",
   "version": "3.9.6"
  }
 },
 "nbformat": 4,
 "nbformat_minor": 5
}
