{
 "cells": [
  {
   "cell_type": "code",
   "execution_count": 92,
   "id": "5e1ce42c",
   "metadata": {},
   "outputs": [],
   "source": [
    "from collections.abc import Iterator\n",
    "from datetime import date, timedelta\n",
    "from web3 import Web3\n",
    "import boto3\n",
    "import botocore\n",
    "import logging\n",
    "import numpy as np\n",
    "import os\n",
    "import pandas as pd\n",
    "import seaborn as sns\n",
    "import string\n",
    "import matplotlib.pyplot as plt\n",
    "import math"
   ]
  },
  {
   "cell_type": "markdown",
   "id": "d24c6fcd",
   "metadata": {},
   "source": [
    "# Token Address to Token Name Mapping"
   ]
  },
  {
   "cell_type": "markdown",
   "id": "caddfb03",
   "metadata": {},
   "source": [
    "### https://github.com/InjectiveLabs/utils-go/blob/master/pkg/token/token_meta.json"
   ]
  },
  {
   "cell_type": "markdown",
   "id": "545fe228",
   "metadata": {},
   "source": [
    "# Data Cleanup"
   ]
  },
  {
   "cell_type": "code",
   "execution_count": 29,
   "id": "53fedd9a",
   "metadata": {},
   "outputs": [],
   "source": [
    "import os\n",
    "balances_path = os.getcwd() + \"/../data/injective-wallet-balances.csv\""
   ]
  },
  {
   "cell_type": "code",
   "execution_count": 30,
   "id": "21188f15",
   "metadata": {},
   "outputs": [],
   "source": [
    "balances = pd.read_csv(balances_path, low_memory=False)"
   ]
  },
  {
   "cell_type": "code",
   "execution_count": 31,
   "id": "775719ae",
   "metadata": {},
   "outputs": [
    {
     "name": "stdout",
     "output_type": "stream",
     "text": [
      "<class 'pandas.core.frame.DataFrame'>\n",
      "RangeIndex: 25624 entries, 0 to 25623\n",
      "Data columns (total 6 columns):\n",
      " #   Column                                                                Non-Null Count  Dtype  \n",
      "---  ------                                                                --------------  -----  \n",
      " 0   _id                                                                   25624 non-null  object \n",
      " 1   ibc/E7807A46C0B7B44B350DA58F51F278881B863EC4DCA94635DAB39E52C30766CB  126 non-null    float64\n",
      " 2   peggy0xdAC17F958D2ee523a2206206994597C13D831ec7                       6384 non-null   float64\n",
      " 3   inj                                                                   24624 non-null  float64\n",
      " 4   ibc/AC87717EA002B0123B10A05063E69BCA274BA2C44D842AEEB41558D2856DCE93  155 non-null    float64\n",
      " 5   ibc/C4CFF46FD6DE35CA4CF4CE031E643C8FDC9BA4B99AE598E9B0ED98FE3A2319F9  1141 non-null   float64\n",
      "dtypes: float64(5), object(1)\n",
      "memory usage: 1.2+ MB\n"
     ]
    }
   ],
   "source": [
    "balances.info()"
   ]
  },
  {
   "cell_type": "code",
   "execution_count": 32,
   "id": "6243fb72",
   "metadata": {},
   "outputs": [
    {
     "data": {
      "text/plain": [
       "Index(['_id',\n",
       "       'ibc/E7807A46C0B7B44B350DA58F51F278881B863EC4DCA94635DAB39E52C30766CB',\n",
       "       'peggy0xdAC17F958D2ee523a2206206994597C13D831ec7', 'inj',\n",
       "       'ibc/AC87717EA002B0123B10A05063E69BCA274BA2C44D842AEEB41558D2856DCE93',\n",
       "       'ibc/C4CFF46FD6DE35CA4CF4CE031E643C8FDC9BA4B99AE598E9B0ED98FE3A2319F9'],\n",
       "      dtype='object')"
      ]
     },
     "execution_count": 32,
     "metadata": {},
     "output_type": "execute_result"
    }
   ],
   "source": [
    "balances.columns"
   ]
  },
  {
   "cell_type": "code",
   "execution_count": 33,
   "id": "d9e9a2e8",
   "metadata": {},
   "outputs": [],
   "source": [
    "wallets = balances.rename(columns={'_id': 'wallet_address',\n",
    "                                    'peggy0xdAC17F958D2ee523a2206206994597C13D831ec7': 'USDT'\n",
    "                                   })[[\"wallet_address\", \"inj\", \"USDT\"]]"
   ]
  },
  {
   "cell_type": "code",
   "execution_count": 34,
   "id": "8357b799",
   "metadata": {},
   "outputs": [
    {
     "data": {
      "text/plain": [
       "Index(['wallet_address', 'inj', 'USDT'], dtype='object')"
      ]
     },
     "execution_count": 34,
     "metadata": {},
     "output_type": "execute_result"
    }
   ],
   "source": [
    "wallets.columns"
   ]
  },
  {
   "cell_type": "code",
   "execution_count": 35,
   "id": "31ff0f41",
   "metadata": {},
   "outputs": [
    {
     "data": {
      "text/html": [
       "<div>\n",
       "<style scoped>\n",
       "    .dataframe tbody tr th:only-of-type {\n",
       "        vertical-align: middle;\n",
       "    }\n",
       "\n",
       "    .dataframe tbody tr th {\n",
       "        vertical-align: top;\n",
       "    }\n",
       "\n",
       "    .dataframe thead th {\n",
       "        text-align: right;\n",
       "    }\n",
       "</style>\n",
       "<table border=\"1\" class=\"dataframe\">\n",
       "  <thead>\n",
       "    <tr style=\"text-align: right;\">\n",
       "      <th></th>\n",
       "      <th>inj</th>\n",
       "      <th>USDT</th>\n",
       "    </tr>\n",
       "  </thead>\n",
       "  <tbody>\n",
       "    <tr>\n",
       "      <th>count</th>\n",
       "      <td>2.462400e+04</td>\n",
       "      <td>6.384000e+03</td>\n",
       "    </tr>\n",
       "    <tr>\n",
       "      <th>mean</th>\n",
       "      <td>2.470877e+21</td>\n",
       "      <td>1.794591e+09</td>\n",
       "    </tr>\n",
       "    <tr>\n",
       "      <th>std</th>\n",
       "      <td>2.379779e+23</td>\n",
       "      <td>7.688510e+10</td>\n",
       "    </tr>\n",
       "    <tr>\n",
       "      <th>min</th>\n",
       "      <td>0.000000e+00</td>\n",
       "      <td>0.000000e+00</td>\n",
       "    </tr>\n",
       "    <tr>\n",
       "      <th>25%</th>\n",
       "      <td>1.800000e+15</td>\n",
       "      <td>1.020000e+02</td>\n",
       "    </tr>\n",
       "    <tr>\n",
       "      <th>50%</th>\n",
       "      <td>1.960000e+16</td>\n",
       "      <td>6.704000e+03</td>\n",
       "    </tr>\n",
       "    <tr>\n",
       "      <th>75%</th>\n",
       "      <td>5.443539e+17</td>\n",
       "      <td>5.148428e+05</td>\n",
       "    </tr>\n",
       "    <tr>\n",
       "      <th>max</th>\n",
       "      <td>3.518487e+25</td>\n",
       "      <td>5.974637e+12</td>\n",
       "    </tr>\n",
       "  </tbody>\n",
       "</table>\n",
       "</div>"
      ],
      "text/plain": [
       "                inj          USDT\n",
       "count  2.462400e+04  6.384000e+03\n",
       "mean   2.470877e+21  1.794591e+09\n",
       "std    2.379779e+23  7.688510e+10\n",
       "min    0.000000e+00  0.000000e+00\n",
       "25%    1.800000e+15  1.020000e+02\n",
       "50%    1.960000e+16  6.704000e+03\n",
       "75%    5.443539e+17  5.148428e+05\n",
       "max    3.518487e+25  5.974637e+12"
      ]
     },
     "execution_count": 35,
     "metadata": {},
     "output_type": "execute_result"
    }
   ],
   "source": [
    "wallets.describe()"
   ]
  },
  {
   "cell_type": "code",
   "execution_count": 36,
   "id": "cf3aa16c",
   "metadata": {},
   "outputs": [
    {
     "data": {
      "text/html": [
       "<div>\n",
       "<style scoped>\n",
       "    .dataframe tbody tr th:only-of-type {\n",
       "        vertical-align: middle;\n",
       "    }\n",
       "\n",
       "    .dataframe tbody tr th {\n",
       "        vertical-align: top;\n",
       "    }\n",
       "\n",
       "    .dataframe thead th {\n",
       "        text-align: right;\n",
       "    }\n",
       "</style>\n",
       "<table border=\"1\" class=\"dataframe\">\n",
       "  <thead>\n",
       "    <tr style=\"text-align: right;\">\n",
       "      <th></th>\n",
       "      <th>wallet_address</th>\n",
       "      <th>inj</th>\n",
       "      <th>USDT</th>\n",
       "    </tr>\n",
       "  </thead>\n",
       "  <tbody>\n",
       "    <tr>\n",
       "      <th>0</th>\n",
       "      <td>inj1ktgyluqg6qa7t5szl7z357ze5c9xvg9zjhzmcj</td>\n",
       "      <td>3.878799e+16</td>\n",
       "      <td>91086.0</td>\n",
       "    </tr>\n",
       "    <tr>\n",
       "      <th>1</th>\n",
       "      <td>inj1afmww9yewv9h0h0lsd67yc0tj5x8fqluqjmqeg</td>\n",
       "      <td>1.622408e+16</td>\n",
       "      <td>NaN</td>\n",
       "    </tr>\n",
       "    <tr>\n",
       "      <th>2</th>\n",
       "      <td>inj1awc2wjaa9axlv037wwyyqq8lpad3pdcqeze8ak</td>\n",
       "      <td>2.000000e+18</td>\n",
       "      <td>NaN</td>\n",
       "    </tr>\n",
       "    <tr>\n",
       "      <th>3</th>\n",
       "      <td>inj1gtd64kuxk0y6usp9tdvxvq2xp2x6nf4w0le7fq</td>\n",
       "      <td>3.761837e+17</td>\n",
       "      <td>122288.0</td>\n",
       "    </tr>\n",
       "    <tr>\n",
       "      <th>4</th>\n",
       "      <td>inj1samdx35rzh96y5u8ukynwpfwpxfmyarq5f3l4g</td>\n",
       "      <td>1.008928e+18</td>\n",
       "      <td>NaN</td>\n",
       "    </tr>\n",
       "  </tbody>\n",
       "</table>\n",
       "</div>"
      ],
      "text/plain": [
       "                               wallet_address           inj      USDT\n",
       "0  inj1ktgyluqg6qa7t5szl7z357ze5c9xvg9zjhzmcj  3.878799e+16   91086.0\n",
       "1  inj1afmww9yewv9h0h0lsd67yc0tj5x8fqluqjmqeg  1.622408e+16       NaN\n",
       "2  inj1awc2wjaa9axlv037wwyyqq8lpad3pdcqeze8ak  2.000000e+18       NaN\n",
       "3  inj1gtd64kuxk0y6usp9tdvxvq2xp2x6nf4w0le7fq  3.761837e+17  122288.0\n",
       "4  inj1samdx35rzh96y5u8ukynwpfwpxfmyarq5f3l4g  1.008928e+18       NaN"
      ]
     },
     "execution_count": 36,
     "metadata": {},
     "output_type": "execute_result"
    }
   ],
   "source": [
    "wallets.head()"
   ]
  },
  {
   "cell_type": "code",
   "execution_count": 37,
   "id": "f93cd255",
   "metadata": {},
   "outputs": [],
   "source": [
    "# decimals of inj is 18 while USDT decimal is 6\n",
    "wallets[\"inj\"] = wallets['inj'].apply(lambda x: float(x) / pow(10, 18))\n",
    "wallets[\"USDT\"] = wallets['USDT'].apply(lambda x: float(x) / pow(10, 6))"
   ]
  },
  {
   "cell_type": "code",
   "execution_count": 38,
   "id": "6503227c",
   "metadata": {},
   "outputs": [
    {
     "data": {
      "text/html": [
       "<div>\n",
       "<style scoped>\n",
       "    .dataframe tbody tr th:only-of-type {\n",
       "        vertical-align: middle;\n",
       "    }\n",
       "\n",
       "    .dataframe tbody tr th {\n",
       "        vertical-align: top;\n",
       "    }\n",
       "\n",
       "    .dataframe thead th {\n",
       "        text-align: right;\n",
       "    }\n",
       "</style>\n",
       "<table border=\"1\" class=\"dataframe\">\n",
       "  <thead>\n",
       "    <tr style=\"text-align: right;\">\n",
       "      <th></th>\n",
       "      <th>inj</th>\n",
       "      <th>USDT</th>\n",
       "    </tr>\n",
       "  </thead>\n",
       "  <tbody>\n",
       "    <tr>\n",
       "      <th>count</th>\n",
       "      <td>2.462400e+04</td>\n",
       "      <td>6.384000e+03</td>\n",
       "    </tr>\n",
       "    <tr>\n",
       "      <th>mean</th>\n",
       "      <td>2.470877e+03</td>\n",
       "      <td>1.794591e+03</td>\n",
       "    </tr>\n",
       "    <tr>\n",
       "      <th>std</th>\n",
       "      <td>2.379779e+05</td>\n",
       "      <td>7.688510e+04</td>\n",
       "    </tr>\n",
       "    <tr>\n",
       "      <th>min</th>\n",
       "      <td>0.000000e+00</td>\n",
       "      <td>0.000000e+00</td>\n",
       "    </tr>\n",
       "    <tr>\n",
       "      <th>25%</th>\n",
       "      <td>1.800000e-03</td>\n",
       "      <td>1.020000e-04</td>\n",
       "    </tr>\n",
       "    <tr>\n",
       "      <th>50%</th>\n",
       "      <td>1.960000e-02</td>\n",
       "      <td>6.704000e-03</td>\n",
       "    </tr>\n",
       "    <tr>\n",
       "      <th>75%</th>\n",
       "      <td>5.443539e-01</td>\n",
       "      <td>5.148427e-01</td>\n",
       "    </tr>\n",
       "    <tr>\n",
       "      <th>max</th>\n",
       "      <td>3.518487e+07</td>\n",
       "      <td>5.974637e+06</td>\n",
       "    </tr>\n",
       "  </tbody>\n",
       "</table>\n",
       "</div>"
      ],
      "text/plain": [
       "                inj          USDT\n",
       "count  2.462400e+04  6.384000e+03\n",
       "mean   2.470877e+03  1.794591e+03\n",
       "std    2.379779e+05  7.688510e+04\n",
       "min    0.000000e+00  0.000000e+00\n",
       "25%    1.800000e-03  1.020000e-04\n",
       "50%    1.960000e-02  6.704000e-03\n",
       "75%    5.443539e-01  5.148427e-01\n",
       "max    3.518487e+07  5.974637e+06"
      ]
     },
     "execution_count": 38,
     "metadata": {},
     "output_type": "execute_result"
    }
   ],
   "source": [
    "wallets.describe()"
   ]
  },
  {
   "cell_type": "code",
   "execution_count": 54,
   "id": "61c6e853",
   "metadata": {},
   "outputs": [],
   "source": [
    "wallets = wallets[~wallets.wallet_address.isna()]"
   ]
  },
  {
   "cell_type": "code",
   "execution_count": 56,
   "id": "4380dbe6",
   "metadata": {},
   "outputs": [
    {
     "data": {
      "text/plain": [
       "wallet_address    25624\n",
       "inj               24624\n",
       "USDT               6384\n",
       "dtype: int64"
      ]
     },
     "execution_count": 56,
     "metadata": {},
     "output_type": "execute_result"
    }
   ],
   "source": [
    "wallets.count()"
   ]
  },
  {
   "cell_type": "markdown",
   "id": "9833ddf6",
   "metadata": {},
   "source": [
    "#### conclusion: totally 25624 wallet addresses"
   ]
  },
  {
   "cell_type": "markdown",
   "id": "a4b9b9bd",
   "metadata": {},
   "source": [
    "# INJ Distribution EDA"
   ]
  },
  {
   "cell_type": "markdown",
   "id": "ac948ae8",
   "metadata": {},
   "source": [
    "### Agg Stats"
   ]
  },
  {
   "cell_type": "code",
   "execution_count": 89,
   "id": "70b8013c",
   "metadata": {},
   "outputs": [
    {
     "data": {
      "text/plain": [
       "wallet_address    inj1ktgyluqg6qa7t5szl7z357ze5c9xvg9zjhzmcjinj1...\n",
       "inj                                                 60842879.520136\n",
       "USDT                                                 9806735.222851\n",
       "dtype: object"
      ]
     },
     "execution_count": 89,
     "metadata": {},
     "output_type": "execute_result"
    }
   ],
   "source": [
    "wallets_inj = wallets[~wallets.inj.isna()]\n",
    "wallets_inj.sum()"
   ]
  },
  {
   "cell_type": "markdown",
   "id": "67946771",
   "metadata": {},
   "source": [
    "#### only 9M USDT assets on injective chain."
   ]
  },
  {
   "cell_type": "markdown",
   "id": "8f90c164",
   "metadata": {},
   "source": [
    "### Log Plot"
   ]
  },
  {
   "cell_type": "code",
   "execution_count": 102,
   "id": "4af4bac5",
   "metadata": {},
   "outputs": [
    {
     "name": "stderr",
     "output_type": "stream",
     "text": [
      "/var/folders/6z/0q8x55k111dd5lbqhn152yhm0000gn/T/ipykernel_20072/1136965811.py:1: SettingWithCopyWarning: \n",
      "A value is trying to be set on a copy of a slice from a DataFrame.\n",
      "Try using .loc[row_indexer,col_indexer] = value instead\n",
      "\n",
      "See the caveats in the documentation: https://pandas.pydata.org/pandas-docs/stable/user_guide/indexing.html#returning-a-view-versus-a-copy\n",
      "  wallets_inj['inj_log2'] = wallets_inj['inj'].apply(lambda x: math.log(float(x) + 1.0, 2))\n"
     ]
    },
    {
     "data": {
      "text/plain": [
       "<AxesSubplot:>"
      ]
     },
     "execution_count": 102,
     "metadata": {},
     "output_type": "execute_result"
    },
    {
     "data": {
      "image/png": "[encoded data removed]",
      "text/plain": [
       "<Figure size 432x288 with 1 Axes>"
      ]
     },
     "metadata": {
      "needs_background": "light"
     },
     "output_type": "display_data"
    }
   ],
   "source": [
    "wallets_inj['inj_log2'] = wallets_inj['inj'].apply(lambda x: math.log(float(x) + 1.0, 2))\n",
    "wallets_inj['inj_log2'].hist(bins=100)"
   ]
  },
  {
   "cell_type": "markdown",
   "id": "5edf4c6e",
   "metadata": {},
   "source": [
    "### Super Large INJ Holdings"
   ]
  },
  {
   "cell_type": "code",
   "execution_count": 59,
   "id": "7e217410",
   "metadata": {},
   "outputs": [
    {
     "data": {
      "text/plain": [
       "<AxesSubplot:>"
      ]
     },
     "execution_count": 59,
     "metadata": {},
     "output_type": "execute_result"
    },
    {
     "data": {
      "image/png": "[encoded data removed]",
      "text/plain": [
       "<Figure size 432x288 with 1 Axes>"
      ]
     },
     "metadata": {
      "needs_background": "light"
     },
     "output_type": "display_data"
    }
   ],
   "source": [
    "super_large_inj_wallets = wallets_inj[wallets_inj['inj'] > 15000000]\n",
    "super_large_inj_wallets['inj'].hist(bins=10)"
   ]
  },
  {
   "cell_type": "code",
   "execution_count": 60,
   "id": "0e8cf2dc",
   "metadata": {},
   "outputs": [
    {
     "data": {
      "text/plain": [
       "wallet_address    1\n",
       "inj               1\n",
       "USDT              0\n",
       "dtype: int64"
      ]
     },
     "execution_count": 60,
     "metadata": {},
     "output_type": "execute_result"
    }
   ],
   "source": [
    "super_large_inj_wallets.count()"
   ]
  },
  {
   "cell_type": "markdown",
   "id": "2b31f079",
   "metadata": {},
   "source": [
    "#### only 1 wallets have > 15,000,000 inj holdings."
   ]
  },
  {
   "cell_type": "markdown",
   "id": "1cc5bde5",
   "metadata": {},
   "source": [
    "### Large INJ Holdings"
   ]
  },
  {
   "cell_type": "code",
   "execution_count": 63,
   "id": "b56f8a5f",
   "metadata": {},
   "outputs": [
    {
     "name": "stderr",
     "output_type": "stream",
     "text": [
      "/var/folders/6z/0q8x55k111dd5lbqhn152yhm0000gn/T/ipykernel_20072/1087743826.py:1: UserWarning: Boolean Series key will be reindexed to match DataFrame index.\n",
      "  large_inj_wallets = wallets_inj[wallets_inj['inj'] > 1000000][wallets_inj['inj'] <= 15000000]\n"
     ]
    },
    {
     "data": {
      "text/plain": [
       "<AxesSubplot:>"
      ]
     },
     "execution_count": 63,
     "metadata": {},
     "output_type": "execute_result"
    },
    {
     "data": {
      "image/png": "[encoded data removed]",
      "text/plain": [
       "<Figure size 432x288 with 1 Axes>"
      ]
     },
     "metadata": {
      "needs_background": "light"
     },
     "output_type": "display_data"
    }
   ],
   "source": [
    "large_inj_wallets = wallets_inj[wallets_inj['inj'] > 1000000][wallets_inj['inj'] <= 15000000]\n",
    "large_inj_wallets['inj'].hist(bins=10)"
   ]
  },
  {
   "cell_type": "code",
   "execution_count": 64,
   "id": "8a4c516c",
   "metadata": {},
   "outputs": [
    {
     "data": {
      "text/plain": [
       "wallet_address    3\n",
       "inj               3\n",
       "USDT              0\n",
       "dtype: int64"
      ]
     },
     "execution_count": 64,
     "metadata": {},
     "output_type": "execute_result"
    }
   ],
   "source": [
    "large_inj_wallets.count()"
   ]
  },
  {
   "cell_type": "markdown",
   "id": "28738833",
   "metadata": {},
   "source": [
    "#### only 3 wallets have < 15,000,000 and > 1,000,000 inj holdings."
   ]
  },
  {
   "cell_type": "markdown",
   "id": "9b4767ef",
   "metadata": {},
   "source": [
    "### Medium INJ Holdings"
   ]
  },
  {
   "cell_type": "code",
   "execution_count": 70,
   "id": "d0b9c8bd",
   "metadata": {},
   "outputs": [
    {
     "name": "stderr",
     "output_type": "stream",
     "text": [
      "/var/folders/6z/0q8x55k111dd5lbqhn152yhm0000gn/T/ipykernel_20072/1658030544.py:1: UserWarning: Boolean Series key will be reindexed to match DataFrame index.\n",
      "  medium_inj_wallets = wallets_inj[wallets_inj['inj'] <= 1000000][wallets_inj['inj'] > 100000]\n"
     ]
    },
    {
     "data": {
      "text/plain": [
       "<AxesSubplot:>"
      ]
     },
     "execution_count": 70,
     "metadata": {},
     "output_type": "execute_result"
    },
    {
     "data": {
      "image/png": "[encoded data removed]",
      "text/plain": [
       "<Figure size 432x288 with 1 Axes>"
      ]
     },
     "metadata": {
      "needs_background": "light"
     },
     "output_type": "display_data"
    }
   ],
   "source": [
    "medium_inj_wallets = wallets_inj[wallets_inj['inj'] <= 1000000][wallets_inj['inj'] > 100000]\n",
    "medium_inj_wallets['inj'].hist(bins=10)"
   ]
  },
  {
   "cell_type": "code",
   "execution_count": 66,
   "id": "ad5c9e73",
   "metadata": {},
   "outputs": [
    {
     "data": {
      "text/plain": [
       "wallet_address    3\n",
       "inj               3\n",
       "USDT              0\n",
       "dtype: int64"
      ]
     },
     "execution_count": 66,
     "metadata": {},
     "output_type": "execute_result"
    }
   ],
   "source": [
    "large_inj_wallets.count()"
   ]
  },
  {
   "cell_type": "markdown",
   "id": "2bd83b41",
   "metadata": {},
   "source": [
    "#### only 3 wallets have <= 1,000,000 and > 100,000 inj holdings."
   ]
  },
  {
   "cell_type": "markdown",
   "id": "e59868bb",
   "metadata": {},
   "source": [
    "### Sizable Wallets"
   ]
  },
  {
   "cell_type": "code",
   "execution_count": 73,
   "id": "79c27947",
   "metadata": {},
   "outputs": [
    {
     "name": "stderr",
     "output_type": "stream",
     "text": [
      "/var/folders/6z/0q8x55k111dd5lbqhn152yhm0000gn/T/ipykernel_20072/2704850608.py:1: UserWarning: Boolean Series key will be reindexed to match DataFrame index.\n",
      "  sizable_inj_wallets = wallets_inj[wallets_inj['inj'] <= 100000][wallets_inj['inj'] > 10000]\n"
     ]
    },
    {
     "data": {
      "text/plain": [
       "<AxesSubplot:>"
      ]
     },
     "execution_count": 73,
     "metadata": {},
     "output_type": "execute_result"
    },
    {
     "data": {
      "image/png": "[encoded data removed]",
      "text/plain": [
       "<Figure size 432x288 with 1 Axes>"
      ]
     },
     "metadata": {
      "needs_background": "light"
     },
     "output_type": "display_data"
    }
   ],
   "source": [
    "sizable_inj_wallets = wallets_inj[wallets_inj['inj'] <= 100000][wallets_inj['inj'] > 10000]\n",
    "sizable_inj_wallets['inj'].hist(bins=10)"
   ]
  },
  {
   "cell_type": "code",
   "execution_count": 74,
   "id": "8595a706",
   "metadata": {},
   "outputs": [
    {
     "data": {
      "text/plain": [
       "wallet_address    41\n",
       "inj               41\n",
       "USDT              13\n",
       "dtype: int64"
      ]
     },
     "execution_count": 74,
     "metadata": {},
     "output_type": "execute_result"
    }
   ],
   "source": [
    "sizable_inj_wallets.count()"
   ]
  },
  {
   "cell_type": "markdown",
   "id": "a63a82c0",
   "metadata": {},
   "source": [
    "#### only 41 wallets have <= 100,000 and > 10,000 inj holdings."
   ]
  },
  {
   "cell_type": "markdown",
   "id": "ab8cf8e8",
   "metadata": {},
   "source": [
    "### Valuable Wallets"
   ]
  },
  {
   "cell_type": "code",
   "execution_count": 79,
   "id": "b316f53a",
   "metadata": {},
   "outputs": [
    {
     "name": "stderr",
     "output_type": "stream",
     "text": [
      "/var/folders/6z/0q8x55k111dd5lbqhn152yhm0000gn/T/ipykernel_20072/2185604086.py:1: UserWarning: Boolean Series key will be reindexed to match DataFrame index.\n",
      "  valuable_inj_wallets = wallets_inj[wallets_inj['inj'] <= 10000][wallets_inj['inj'] > 1000]\n"
     ]
    },
    {
     "data": {
      "text/plain": [
       "wallet_address    134\n",
       "inj               134\n",
       "USDT               41\n",
       "dtype: int64"
      ]
     },
     "execution_count": 79,
     "metadata": {},
     "output_type": "execute_result"
    },
    {
     "data": {
      "image/png": "[encoded data removed]",
      "text/plain": [
       "<Figure size 432x288 with 1 Axes>"
      ]
     },
     "metadata": {
      "needs_background": "light"
     },
     "output_type": "display_data"
    }
   ],
   "source": [
    "valuable_inj_wallets = wallets_inj[wallets_inj['inj'] <= 10000][wallets_inj['inj'] > 1000]\n",
    "valuable_inj_wallets['inj'].hist(bins=10)\n",
    "valuable_inj_wallets.count()"
   ]
  },
  {
   "cell_type": "markdown",
   "id": "890f57f5",
   "metadata": {},
   "source": [
    "#### only 134 wallets have <= 10,000 and > 1000 inj holdings."
   ]
  },
  {
   "cell_type": "markdown",
   "id": "269046f7",
   "metadata": {},
   "source": [
    "### Normal Wallets"
   ]
  },
  {
   "cell_type": "code",
   "execution_count": 82,
   "id": "a973f3e9",
   "metadata": {},
   "outputs": [
    {
     "name": "stderr",
     "output_type": "stream",
     "text": [
      "/var/folders/6z/0q8x55k111dd5lbqhn152yhm0000gn/T/ipykernel_20072/1633496245.py:1: UserWarning: Boolean Series key will be reindexed to match DataFrame index.\n",
      "  normal_inj_wallets = wallets_inj[wallets_inj['inj'] <= 1000][wallets_inj['inj'] > 200]\n"
     ]
    },
    {
     "data": {
      "text/plain": [
       "wallet_address    264\n",
       "inj               264\n",
       "USDT               73\n",
       "dtype: int64"
      ]
     },
     "execution_count": 82,
     "metadata": {},
     "output_type": "execute_result"
    },
    {
     "data": {
      "image/png": "[encoded data removed]",
      "text/plain": [
       "<Figure size 432x288 with 1 Axes>"
      ]
     },
     "metadata": {
      "needs_background": "light"
     },
     "output_type": "display_data"
    }
   ],
   "source": [
    "normal_inj_wallets = wallets_inj[wallets_inj['inj'] <= 1000][wallets_inj['inj'] > 200]\n",
    "normal_inj_wallets['inj'].hist(bins=100)\n",
    "normal_inj_wallets.count()"
   ]
  },
  {
   "cell_type": "markdown",
   "id": "8cfc38e2",
   "metadata": {},
   "source": [
    "#### only 264 wallets have <= 1000 and > 200 inj holdings."
   ]
  },
  {
   "cell_type": "markdown",
   "id": "7514f155",
   "metadata": {},
   "source": [
    "### Small Wallets"
   ]
  },
  {
   "cell_type": "code",
   "execution_count": 85,
   "id": "3eaa5d94",
   "metadata": {},
   "outputs": [
    {
     "name": "stderr",
     "output_type": "stream",
     "text": [
      "/var/folders/6z/0q8x55k111dd5lbqhn152yhm0000gn/T/ipykernel_20072/3677603361.py:1: UserWarning: Boolean Series key will be reindexed to match DataFrame index.\n",
      "  small_inj_wallets = wallets_inj[wallets_inj['inj'] <= 200][wallets_inj['inj'] > 50]\n"
     ]
    },
    {
     "data": {
      "text/plain": [
       "wallet_address    518\n",
       "inj               518\n",
       "USDT              133\n",
       "dtype: int64"
      ]
     },
     "execution_count": 85,
     "metadata": {},
     "output_type": "execute_result"
    },
    {
     "data": {
      "image/png": "[encoded data removed]",
      "text/plain": [
       "<Figure size 432x288 with 1 Axes>"
      ]
     },
     "metadata": {
      "needs_background": "light"
     },
     "output_type": "display_data"
    }
   ],
   "source": [
    "small_inj_wallets = wallets_inj[wallets_inj['inj'] <= 200][wallets_inj['inj'] > 50]\n",
    "small_inj_wallets['inj'].hist(bins=10)\n",
    "small_inj_wallets.count()"
   ]
  },
  {
   "cell_type": "markdown",
   "id": "034473b5",
   "metadata": {},
   "source": [
    "#### only 518 wallets have <= 200 and > 50 inj holdings."
   ]
  },
  {
   "cell_type": "markdown",
   "id": "2ccd37c2",
   "metadata": {},
   "source": [
    "### Tiny Wallets"
   ]
  },
  {
   "cell_type": "code",
   "execution_count": 87,
   "id": "d090d7b4",
   "metadata": {},
   "outputs": [
    {
     "name": "stderr",
     "output_type": "stream",
     "text": [
      "/var/folders/6z/0q8x55k111dd5lbqhn152yhm0000gn/T/ipykernel_20072/2207671826.py:1: UserWarning: Boolean Series key will be reindexed to match DataFrame index.\n",
      "  tiny_inj_wallets = wallets_inj[wallets_inj['inj'] <= 50][wallets_inj['inj'] > 10]\n"
     ]
    },
    {
     "data": {
      "text/plain": [
       "wallet_address    914\n",
       "inj               914\n",
       "USDT              222\n",
       "dtype: int64"
      ]
     },
     "execution_count": 87,
     "metadata": {},
     "output_type": "execute_result"
    },
    {
     "data": {
      "image/png": "[encoded data removed]",
      "text/plain": [
       "<Figure size 432x288 with 1 Axes>"
      ]
     },
     "metadata": {
      "needs_background": "light"
     },
     "output_type": "display_data"
    }
   ],
   "source": [
    "tiny_inj_wallets = wallets_inj[wallets_inj['inj'] <= 50][wallets_inj['inj'] > 10]\n",
    "tiny_inj_wallets['inj'].hist(bins=10)\n",
    "tiny_inj_wallets.count()"
   ]
  },
  {
   "cell_type": "markdown",
   "id": "c8a0acd5",
   "metadata": {},
   "source": [
    "#### only 914 wallets have <= 50 and > 10 inj holdings."
   ]
  },
  {
   "cell_type": "markdown",
   "id": "39e493b8",
   "metadata": {},
   "source": [
    "### Very Tiny Wallets"
   ]
  },
  {
   "cell_type": "code",
   "execution_count": 88,
   "id": "017bd618",
   "metadata": {},
   "outputs": [
    {
     "data": {
      "text/plain": [
       "wallet_address    22733\n",
       "inj               22733\n",
       "USDT               5647\n",
       "dtype: int64"
      ]
     },
     "execution_count": 88,
     "metadata": {},
     "output_type": "execute_result"
    },
    {
     "data": {
      "image/png": "[encoded data removed]",
      "text/plain": [
       "<Figure size 432x288 with 1 Axes>"
      ]
     },
     "metadata": {
      "needs_background": "light"
     },
     "output_type": "display_data"
    }
   ],
   "source": [
    "very_tiny_inj_wallets = wallets_inj[wallets_inj['inj'] <= 10]\n",
    "very_tiny_inj_wallets['inj'].hist(bins=10)\n",
    "very_tiny_inj_wallets.count()"
   ]
  },
  {
   "cell_type": "markdown",
   "id": "0712fe64",
   "metadata": {},
   "source": [
    "#### Most wallets have smaller than 10 INJ holdings"
   ]
  },
  {
   "cell_type": "markdown",
   "id": "8db74e1c",
   "metadata": {},
   "source": [
    "# Total Value EDA"
   ]
  },
  {
   "cell_type": "markdown",
   "id": "341211f4",
   "metadata": {},
   "source": [
    "###### At the time of writeup, INJ token price is 6.96.\n",
    "###### wallet_total_vale = inj holdings * inj price + usdt holdings"
   ]
  },
  {
   "cell_type": "code",
   "execution_count": 99,
   "id": "9b9a2acf",
   "metadata": {},
   "outputs": [],
   "source": [
    "wallets = wallets.fillna(0)"
   ]
  },
  {
   "cell_type": "code",
   "execution_count": 101,
   "id": "9628350d",
   "metadata": {},
   "outputs": [],
   "source": [
    "wallets['total_dollar_value'] = wallets.apply(lambda x: x['inj'] * 6.96 + x['USDT'], axis=1)"
   ]
  },
  {
   "cell_type": "code",
   "execution_count": 103,
   "id": "cb820df8",
   "metadata": {},
   "outputs": [
    {
     "data": {
      "text/plain": [
       "<AxesSubplot:>"
      ]
     },
     "execution_count": 103,
     "metadata": {},
     "output_type": "execute_result"
    },
    {
     "data": {
      "image/png": "[encoded data removed]",
      "text/plain": [
       "<Figure size 432x288 with 1 Axes>"
      ]
     },
     "metadata": {
      "needs_background": "light"
     },
     "output_type": "display_data"
    }
   ],
   "source": [
    "wallets['total_dollar_value_log2'] = wallets['total_dollar_value'].apply(lambda x: math.log(float(x) + 1.0, 2))\n",
    "wallets['total_dollar_value_log2'].hist(bins=100)"
   ]
  },
  {
   "cell_type": "code",
   "execution_count": 114,
   "id": "7baffd93",
   "metadata": {},
   "outputs": [
    {
     "data": {
      "text/plain": [
       "<AxesSubplot:>"
      ]
     },
     "execution_count": 114,
     "metadata": {},
     "output_type": "execute_result"
    },
    {
     "data": {
      "image/png": "[encoded data removed]",
      "text/plain": [
       "<Figure size 432x288 with 1 Axes>"
      ]
     },
     "metadata": {
      "needs_background": "light"
     },
     "output_type": "display_data"
    }
   ],
   "source": [
    "wallets[wallets['total_dollar_value_log2'] > 15]['total_dollar_value_log2'].hist(bins=10)"
   ]
  },
  {
   "cell_type": "code",
   "execution_count": 115,
   "id": "cf23a34f",
   "metadata": {},
   "outputs": [
    {
     "data": {
      "text/plain": [
       "wallet_address             119\n",
       "inj                        119\n",
       "USDT                       119\n",
       "total_dollar_value         119\n",
       "total_dollar_value_log2    119\n",
       "dtype: int64"
      ]
     },
     "execution_count": 115,
     "metadata": {},
     "output_type": "execute_result"
    }
   ],
   "source": [
    "wallets[wallets['total_dollar_value_log2'] > 15].count()"
   ]
  },
  {
   "cell_type": "code",
   "execution_count": 118,
   "id": "5aa0f9a3",
   "metadata": {},
   "outputs": [
    {
     "data": {
      "text/plain": [
       "<AxesSubplot:>"
      ]
     },
     "execution_count": 118,
     "metadata": {},
     "output_type": "execute_result"
    },
    {
     "data": {
      "image/png": "[encoded data removed]",
      "text/plain": [
       "<Figure size 432x288 with 1 Axes>"
      ]
     },
     "metadata": {
      "needs_background": "light"
     },
     "output_type": "display_data"
    }
   ],
   "source": [
    "wallets[wallets['total_dollar_value_log2'] < 15]['total_dollar_value_log2'].hist(bins=40)"
   ]
  },
  {
   "cell_type": "markdown",
   "id": "0dc27f3b",
   "metadata": {},
   "source": [
    "### Scoring"
   ]
  },
  {
   "cell_type": "code",
   "execution_count": 130,
   "id": "b95c9f9d",
   "metadata": {},
   "outputs": [],
   "source": [
    "#### normalized_score = 100 * total_dollar_value_log2 / 15 if total_dollar_value_log2 <= 15 else 100.\n",
    "wallets['normalized_value_score'] = wallets.apply(\n",
    "    lambda x: x['total_dollar_value_log2'] * 100 / 15, axis=1)"
   ]
  },
  {
   "cell_type": "code",
   "execution_count": 131,
   "id": "8b6220c2",
   "metadata": {},
   "outputs": [],
   "source": [
    "wallets['normalized_value_score'] = wallets.apply(\n",
    "    lambda x: x['normalized_value_score'] if x['normalized_value_score'] <= 100 else 100, axis=1)"
   ]
  },
  {
   "cell_type": "code",
   "execution_count": 132,
   "id": "45c9fdc1",
   "metadata": {},
   "outputs": [
    {
     "data": {
      "text/plain": [
       "<AxesSubplot:>"
      ]
     },
     "execution_count": 132,
     "metadata": {},
     "output_type": "execute_result"
    },
    {
     "data": {
      "image/png": "[encoded data removed]",
      "text/plain": [
       "<Figure size 432x288 with 1 Axes>"
      ]
     },
     "metadata": {
      "needs_background": "light"
     },
     "output_type": "display_data"
    }
   ],
   "source": [
    "wallets['normalized_value_score'].hist(bins=40)"
   ]
  },
  {
   "cell_type": "code",
   "execution_count": 133,
   "id": "8b25211d",
   "metadata": {},
   "outputs": [
    {
     "data": {
      "text/plain": [
       "Index(['wallet_address', 'inj', 'USDT', 'total_dollar_value',\n",
       "       'total_dollar_value_log2', 'noralized_value_score',\n",
       "       'normalized_value_score'],\n",
       "      dtype='object')"
      ]
     },
     "execution_count": 133,
     "metadata": {},
     "output_type": "execute_result"
    }
   ],
   "source": [
    "wallets.columns"
   ]
  },
  {
   "cell_type": "code",
   "execution_count": 134,
   "id": "f2da37df",
   "metadata": {},
   "outputs": [],
   "source": [
    "wallet_scores = wallets[['wallet_address', 'normalized_value_score']]"
   ]
  },
  {
   "cell_type": "code",
   "execution_count": 135,
   "id": "aaff4348",
   "metadata": {},
   "outputs": [
    {
     "data": {
      "text/html": [
       "<div>\n",
       "<style scoped>\n",
       "    .dataframe tbody tr th:only-of-type {\n",
       "        vertical-align: middle;\n",
       "    }\n",
       "\n",
       "    .dataframe tbody tr th {\n",
       "        vertical-align: top;\n",
       "    }\n",
       "\n",
       "    .dataframe thead th {\n",
       "        text-align: right;\n",
       "    }\n",
       "</style>\n",
       "<table border=\"1\" class=\"dataframe\">\n",
       "  <thead>\n",
       "    <tr style=\"text-align: right;\">\n",
       "      <th></th>\n",
       "      <th>wallet_address</th>\n",
       "      <th>normalized_value_score</th>\n",
       "    </tr>\n",
       "  </thead>\n",
       "  <tbody>\n",
       "    <tr>\n",
       "      <th>0</th>\n",
       "      <td>inj1ktgyluqg6qa7t5szl7z357ze5c9xvg9zjhzmcj</td>\n",
       "      <td>2.964803</td>\n",
       "    </tr>\n",
       "    <tr>\n",
       "      <th>1</th>\n",
       "      <td>inj1afmww9yewv9h0h0lsd67yc0tj5x8fqluqjmqeg</td>\n",
       "      <td>1.028996</td>\n",
       "    </tr>\n",
       "    <tr>\n",
       "      <th>2</th>\n",
       "      <td>inj1awc2wjaa9axlv037wwyyqq8lpad3pdcqeze8ak</td>\n",
       "      <td>25.994504</td>\n",
       "    </tr>\n",
       "    <tr>\n",
       "      <th>3</th>\n",
       "      <td>inj1gtd64kuxk0y6usp9tdvxvq2xp2x6nf4w0le7fq</td>\n",
       "      <td>12.688275</td>\n",
       "    </tr>\n",
       "    <tr>\n",
       "      <th>4</th>\n",
       "      <td>inj1samdx35rzh96y5u8ukynwpfwpxfmyarq5f3l4g</td>\n",
       "      <td>20.026582</td>\n",
       "    </tr>\n",
       "  </tbody>\n",
       "</table>\n",
       "</div>"
      ],
      "text/plain": [
       "                               wallet_address  normalized_value_score\n",
       "0  inj1ktgyluqg6qa7t5szl7z357ze5c9xvg9zjhzmcj                2.964803\n",
       "1  inj1afmww9yewv9h0h0lsd67yc0tj5x8fqluqjmqeg                1.028996\n",
       "2  inj1awc2wjaa9axlv037wwyyqq8lpad3pdcqeze8ak               25.994504\n",
       "3  inj1gtd64kuxk0y6usp9tdvxvq2xp2x6nf4w0le7fq               12.688275\n",
       "4  inj1samdx35rzh96y5u8ukynwpfwpxfmyarq5f3l4g               20.026582"
      ]
     },
     "execution_count": 135,
     "metadata": {},
     "output_type": "execute_result"
    }
   ],
   "source": [
    "wallet_scores.head()"
   ]
  },
  {
   "cell_type": "code",
   "execution_count": 136,
   "id": "f98d5df6",
   "metadata": {},
   "outputs": [],
   "source": [
    "wallet_scores.to_csv(\"../data/injective-wallet-value-scores.csv\")"
   ]
  }
 ],
 "metadata": {
  "kernelspec": {
   "display_name": "Python 3 (ipykernel)",
   "language": "python",
   "name": "python3"
  },
  "language_info": {
   "codemirror_mode": {
    "name": "ipython",
    "version": 3
   },
   "file_extension": ".py",
   "mimetype": "text/x-python",
   "name": "python",
   "nbconvert_exporter": "python",
   "pygments_lexer": "ipython3",
   "version": "3.9.16"
  }
 },
 "nbformat": 4,
 "nbformat_minor": 5
}
