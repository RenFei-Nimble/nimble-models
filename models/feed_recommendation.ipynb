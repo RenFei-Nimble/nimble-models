{
 "cells": [
  {
   "cell_type": "code",
   "execution_count": 3,
   "id": "f379d85f",
   "metadata": {},
   "outputs": [],
   "source": [
    "%matplotlib inline\n",
    "# Import libraries\n",
    "from collections.abc import Iterator\n",
    "from datetime import date, timedelta\n",
    "from web3 import Web3\n",
    "\n",
    "import boto3\n",
    "import botocore\n",
    "import logging\n",
    "import matplotlib.pyplot as plt\n",
    "import numpy as np\n",
    "import os\n",
    "import pandas as pd\n",
    "import random\n",
    "import seaborn as sns\n",
    "import string\n",
    "import time\n",
    "import warnings\n",
    "import webbrowser\n",
    "\n",
    "warnings.filterwarnings('ignore')\n",
    "pd.set_option('display.max_colwidth', None)"
   ]
  },
  {
   "cell_type": "markdown",
   "id": "7995c017",
   "metadata": {},
   "source": [
    "# Download Data"
   ]
  },
  {
   "cell_type": "code",
   "execution_count": 22,
   "id": "9398c805",
   "metadata": {},
   "outputs": [],
   "source": [
    "def iterate_dates(start_date: date, end_date: date) -> Iterator:\n",
    "    '''Yields date in range of [start_date, end_date]\n",
    "\n",
    "    Args:\n",
    "        start_date: inclusive start date\n",
    "        end_date: inclusive end date\n",
    "    '''\n",
    "    for n in range(int((end_date - start_date).days)+1):\n",
    "        yield start_date + timedelta(n)\n",
    "\n",
    "def convert_value_from_wei(transfers: pd.DataFrame, unit: string) -> pd.DataFrame:\n",
    "    '''Convert value in WEI to unit for transfers\n",
    "        where possible units are 'kwei', 'mwei', 'gwei', 'microether', 'milliether', 'ether'\n",
    "\n",
    "    Args:\n",
    "        transfers: dataframe you want to convert the value of\n",
    "        unit: unit to convert to\n",
    "\n",
    "    Returns:\n",
    "        a new dataframe with converted value\n",
    "\n",
    "    Raises:\n",
    "        ValueError if unit is not valid\n",
    "    '''\n",
    "    if unit not in ['kwei', 'mwei', 'gwei', 'microether', 'milliether', 'ether']:\n",
    "        raise ValueError(\"Invalid unit\")\n",
    "    values_in_ether = transfers['value'].apply(lambda x: float(Web3.fromWei(int(x), unit)))\n",
    "    transfers['value'] = values_in_ether\n",
    "    return transfers\n",
    "\n",
    "def download_nft_transfers(start_date: date, end_date: date, local_path: string):\n",
    "    '''Downloads nft token transfer data from start_date to end_date\n",
    "\n",
    "    Args:\n",
    "        start_date: inclusive start date\n",
    "        end_date: inclusive end date\n",
    "        local_path: download path\n",
    "\n",
    "    Raises:\n",
    "        FileNotFoundError: if local_path does not exist\n",
    "    '''\n",
    "    \n",
    "    if not os.path.exists(local_path):\n",
    "        raise FileNotFoundError(f\"The {local_path} does not exist\")\n",
    "\n",
    "    s3_client = boto3.client('s3')\n",
    "    bucket_name = \"nimble-data-warehouse-dev\"\n",
    "    for download_date in iterate_dates(start_date, end_date):\n",
    "        str_date = download_date.strftime(\"%Y-%m-%d\")\n",
    "        remote_path = f\"etl/ethereum/nft_token_transfers/date={str_date}/nft_token_transfers.csv\"\n",
    "        fname = os.path.join(local_path, f\"nft_token_transfers={str_date}.csv\")\n",
    "        if not os.path.exists(fname):\n",
    "            try:\n",
    "                s3_client.download_file(bucket_name, remote_path, fname)\n",
    "                logging.info(f\"{remote_path} downloaded\")\n",
    "            except botocore.exceptions.ClientError as error:\n",
    "                logging.error(f'{remote_path} not found')\n",
    "            except botocore.exceptions.ParamValidationError as error:\n",
    "                logging.error('The parameters you provided are incorrect: {}'.format(error))"
   ]
  },
  {
   "cell_type": "code",
   "execution_count": 23,
   "id": "5a52c0cb",
   "metadata": {
    "scrolled": true
   },
   "outputs": [
    {
     "name": "stdout",
     "output_type": "stream",
     "text": [
      "CPU times: user 11.1 ms, sys: 28.1 ms, total: 39.3 ms\n",
      "Wall time: 83.8 ms\n"
     ]
    }
   ],
   "source": [
    "%%time\n",
    "# Load transfer data for multiple dates in range [start_date, end_date]\n",
    "start_date = date(2022,5,1)\n",
    "end_date = date(2022,8,16)\n",
    "local_path = \"/Users/xin/coding/nft-recommendation/data_analysis/data\"\n",
    "download_nft_transfers(start_date, end_date, local_path)"
   ]
  },
  {
   "cell_type": "code",
   "execution_count": 27,
   "id": "4aac91b8",
   "metadata": {},
   "outputs": [],
   "source": [
    "def load_transfer_data(start_date: date, end_date: date, local_path: string) -> pd.DataFrame:\n",
    "    \"\"\"Loads NFT token transfer data with value in ether from start_date to end_date\n",
    "\n",
    "    Args:\n",
    "        start_date: an inclusive start date for nft token transfers\n",
    "        end_date: an inclusive end date for nft token transfers\n",
    "        local_path: a local path where the nft toke transfer date is located\n",
    "    \n",
    "    Returns:\n",
    "        concatenated transfers dataframe for [start_date, end_date]\n",
    "\n",
    "    Raises:\n",
    "        ValueError: if start_date is greater than end_date\n",
    "        FileNotFoundError: if local_path does not exist or if no csv file is found in the local_path\n",
    "    \"\"\"\n",
    "    if not os.path.exists(local_path):\n",
    "        raise FileNotFoundError(\"The local_path does not exist\")\n",
    "    if start_date > end_date:\n",
    "        raise ValueError(\"The 'end_date' should be equal to or greather than 'start_date'\")\n",
    "\n",
    "    transfers_list = []\n",
    "    for date_ in iterate_dates(start_date, end_date):\n",
    "        fname = os.path.join(local_path, \"nft_token_transfers={}.csv\".format(date_.strftime(\"%Y-%m-%d\")))\n",
    "        if os.path.exists(fname):\n",
    "            transfers = pd.read_csv(fname, low_memory=False)\n",
    "            transfers = convert_value_from_wei(transfers, 'ether')\n",
    "            transfers_list.append(transfers)\n",
    "        else:\n",
    "            logging.error(f\"{fname} does not exist\")\n",
    "    \n",
    "    if transfers_list:\n",
    "        return pd.concat(transfers_list, ignore_index=True)\n",
    "    else:\n",
    "        raise FileNotFoundError(f\"No csv file was loaded from {local_path}\")"
   ]
  },
  {
   "cell_type": "code",
   "execution_count": 28,
   "id": "5715c9f3",
   "metadata": {},
   "outputs": [
    {
     "name": "stdout",
     "output_type": "stream",
     "text": [
      "CPU times: user 3min 27s, sys: 31.9 s, total: 3min 59s\n",
      "Wall time: 27min 12s\n"
     ]
    }
   ],
   "source": [
    "%%time\n",
    "transfers = load_transfer_data(start_date, end_date, local_path)"
   ]
  },
  {
   "cell_type": "code",
   "execution_count": 30,
   "id": "0c861354",
   "metadata": {},
   "outputs": [],
   "source": [
    "transfers.to_csv(\n",
    "    '/Users/xin/coding/nft-recommendation/data_analysis/data/raw_transfers.csv')"
   ]
  },
  {
   "cell_type": "markdown",
   "id": "a96fc660",
   "metadata": {},
   "source": [
    "# Event Tagging"
   ]
  },
  {
   "cell_type": "code",
   "execution_count": 4,
   "id": "cea346f5",
   "metadata": {},
   "outputs": [
    {
     "name": "stdout",
     "output_type": "stream",
     "text": [
      "CPU times: user 2min 13s, sys: 37.5 s, total: 2min 50s\n",
      "Wall time: 3min 29s\n"
     ]
    }
   ],
   "source": [
    "%%time\n",
    "transfers = pd.read_csv(\n",
    "    '/Users/xin/coding/nft-recommendation/data_analysis/data/raw_transfers.csv')"
   ]
  },
  {
   "cell_type": "code",
   "execution_count": 5,
   "id": "8fd2a1b8",
   "metadata": {},
   "outputs": [
    {
     "name": "stdout",
     "output_type": "stream",
     "text": [
      "CPU times: user 1min 7s, sys: 6.59 s, total: 1min 14s\n",
      "Wall time: 1min 18s\n"
     ]
    }
   ],
   "source": [
    "%%time\n",
    "transfers.fillna(\"N/A\", inplace=True)"
   ]
  },
  {
   "cell_type": "code",
   "execution_count": 6,
   "id": "c3652dfe",
   "metadata": {},
   "outputs": [],
   "source": [
    "transfers['nft_id'] = transfers.apply(\n",
    "    lambda row: f'{row.token_address}/{row.token_id}', axis=1)\n",
    "transfers['timestamp'] = pd.to_datetime(transfers.block_timestamp) \n",
    "transfers['date'] = pd.to_datetime(transfers['timestamp']).dt.date\n",
    "transfers.rename(columns = {'value':'price_in_eth'}, inplace = True)\n",
    "transfers.rename(columns = {'from_address':'seller'}, inplace = True)\n",
    "transfers.rename(columns = {'to_address':'buyer'}, inplace = True)\n",
    "transfers.rename(columns = {'token_address':'collection_id'}, inplace = True)"
   ]
  },
  {
   "cell_type": "code",
   "execution_count": 8,
   "id": "5a009e11",
   "metadata": {},
   "outputs": [],
   "source": [
    "non_721_contracts = {\n",
    "    'ERC1155',\n",
    "    'ERC165'\n",
    "}\n",
    "\n",
    "ERC_721_contract = 'ERC721'\n",
    "\n",
    "burn_addresses = {\n",
    "    \"0x0000000000000000000000000000000000000000\",\n",
    "    \"0x000000000000000000000000000000000000dead\"\n",
    "}\n",
    "\n",
    "mint_address = \"0x0000000000000000000000000000000000000000\"\n",
    "\n",
    "def add_tag(collection,\n",
    "            contract_type,\n",
    "            seller,\n",
    "            buyer,\n",
    "            nft_price):\n",
    "    try:\n",
    "        if bool(collection not in burn_addresses) and bool(contract_type != ERC_721_contract):\n",
    "            return 'non721'\n",
    "\n",
    "        if bool(collection not in burn_addresses) and bool(\n",
    "            seller == mint_address) and bool(\n",
    "            buyer not in burn_addresses):\n",
    "            return 'mint'\n",
    "\n",
    "        if bool(collection not in burn_addresses) and bool(\n",
    "            seller not in burn_addresses) and bool(\n",
    "            buyer in burn_addresses):\n",
    "            return 'burn'\n",
    "\n",
    "        if bool(collection not in burn_addresses) and bool(\n",
    "            seller not in burn_addresses) and bool(\n",
    "            buyer not in burn_addresses) and bool(\n",
    "            nft_price > 0):\n",
    "            return 'purchase'\n",
    "    except:\n",
    "        return 'invalid'\n",
    "    \n",
    "    return 'invalid'"
   ]
  },
  {
   "cell_type": "code",
   "execution_count": 9,
   "id": "743c5ea4",
   "metadata": {},
   "outputs": [
    {
     "name": "stdout",
     "output_type": "stream",
     "text": [
      "CPU times: user 39.1 s, sys: 4.98 s, total: 44 s\n",
      "Wall time: 51.8 s\n"
     ]
    }
   ],
   "source": [
    "%%time\n",
    "import numpy as np\n",
    "\n",
    "transfers['type'] = np.vectorize(\n",
    "    add_tag)(transfers['collection_id'],\n",
    "             transfers['contract_type'],\n",
    "             transfers['seller'],\n",
    "             transfers['buyer'],\n",
    "             transfers['price_in_eth'])"
   ]
  },
  {
   "cell_type": "code",
   "execution_count": 15,
   "id": "624f7ea0",
   "metadata": {},
   "outputs": [
    {
     "data": {
      "text/plain": [
       "49777424"
      ]
     },
     "execution_count": 15,
     "metadata": {},
     "output_type": "execute_result"
    }
   ],
   "source": [
    "len(transfers)"
   ]
  },
  {
   "cell_type": "code",
   "execution_count": 16,
   "id": "d6fca888",
   "metadata": {},
   "outputs": [
    {
     "data": {
      "text/plain": [
       "29813252"
      ]
     },
     "execution_count": 16,
     "metadata": {},
     "output_type": "execute_result"
    }
   ],
   "source": [
    "len(transfers[transfers['type'] == 'mint'])"
   ]
  },
  {
   "cell_type": "code",
   "execution_count": 17,
   "id": "9885a265",
   "metadata": {},
   "outputs": [
    {
     "data": {
      "text/plain": [
       "8563622"
      ]
     },
     "execution_count": 17,
     "metadata": {},
     "output_type": "execute_result"
    }
   ],
   "source": [
    "len(transfers[transfers['type'] == 'purchase'])"
   ]
  },
  {
   "cell_type": "code",
   "execution_count": 18,
   "id": "12bf8f99",
   "metadata": {},
   "outputs": [
    {
     "data": {
      "text/plain": [
       "425466"
      ]
     },
     "execution_count": 18,
     "metadata": {},
     "output_type": "execute_result"
    }
   ],
   "source": [
    "len(transfers[transfers['type'] == 'burn'])"
   ]
  },
  {
   "cell_type": "code",
   "execution_count": 19,
   "id": "3bb017f5",
   "metadata": {},
   "outputs": [
    {
     "data": {
      "text/plain": [
       "6541338"
      ]
     },
     "execution_count": 19,
     "metadata": {},
     "output_type": "execute_result"
    }
   ],
   "source": [
    "len(transfers[transfers['type'] == 'invalid'])"
   ]
  },
  {
   "cell_type": "code",
   "execution_count": 20,
   "id": "4637567a",
   "metadata": {
    "scrolled": true
   },
   "outputs": [
    {
     "name": "stdout",
     "output_type": "stream",
     "text": [
      "CPU times: user 10min 54s, sys: 29 s, total: 11min 23s\n",
      "Wall time: 12min 16s\n"
     ]
    }
   ],
   "source": [
    "%%time\n",
    "transfers.to_csv(\n",
    "    '/Users/xin/coding/nft-recommendation/data_analysis/data/tagged_events.csv')"
   ]
  },
  {
   "cell_type": "code",
   "execution_count": 21,
   "id": "2ffb7100",
   "metadata": {},
   "outputs": [
    {
     "name": "stdout",
     "output_type": "stream",
     "text": [
      "CPU times: user 6min 40s, sys: 53.7 s, total: 7min 34s\n",
      "Wall time: 10min 3s\n"
     ]
    }
   ],
   "source": [
    "%%time\n",
    "transfers[transfers['type'] == 'mint'].to_csv(\n",
    "    '/Users/xin/coding/nft-recommendation/data_analysis/data/mints.csv')"
   ]
  },
  {
   "cell_type": "code",
   "execution_count": 22,
   "id": "040918bc",
   "metadata": {},
   "outputs": [
    {
     "name": "stdout",
     "output_type": "stream",
     "text": [
      "CPU times: user 10.2 s, sys: 16.5 s, total: 26.7 s\n",
      "Wall time: 1min 21s\n"
     ]
    }
   ],
   "source": [
    "%%time\n",
    "transfers[transfers['type'] == 'burn'].to_csv(\n",
    "    '/Users/xin/coding/nft-recommendation/data_analysis/data/burns.csv')"
   ]
  },
  {
   "cell_type": "code",
   "execution_count": 23,
   "id": "ff065fc9",
   "metadata": {},
   "outputs": [
    {
     "name": "stdout",
     "output_type": "stream",
     "text": [
      "CPU times: user 2min 4s, sys: 33.5 s, total: 2min 37s\n",
      "Wall time: 4min 1s\n"
     ]
    }
   ],
   "source": [
    "%%time\n",
    "transfers[transfers['type'] == 'purchase'].to_csv(\n",
    "    '/Users/xin/coding/nft-recommendation/data_analysis/data/purchases.csv')"
   ]
  },
  {
   "cell_type": "markdown",
   "id": "b9e8a21d",
   "metadata": {},
   "source": [
    "# Collection Ranking\n",
    "- Use purchase events only for this version"
   ]
  },
  {
   "cell_type": "markdown",
   "id": "4303e03c",
   "metadata": {},
   "source": [
    "### [Personalized] Top Collections from Historical Collection Purchases"
   ]
  },
  {
   "cell_type": "code",
   "execution_count": 39,
   "id": "e06904d6",
   "metadata": {},
   "outputs": [
    {
     "name": "stdout",
     "output_type": "stream",
     "text": [
      "CPU times: user 16.1 s, sys: 1.96 s, total: 18.1 s\n",
      "Wall time: 18.7 s\n"
     ]
    }
   ],
   "source": [
    "%%time\n",
    "transfers = pd.read_csv(\n",
    "    '/Users/xin/coding/nft-recommendation/data_analysis/data/purchases.csv')\n",
    "\n",
    "# two months data\n",
    "today = pd.to_datetime('2022-08-16')\n",
    "first_day = today - timedelta(days=60)\n",
    "transfers = transfers[\n",
    "    pd.to_datetime(transfers['date']) < today][\n",
    "    pd.to_datetime(transfers['date']) >= first_day\n",
    "]\n",
    "\n",
    "transfers.sort_values(by=['timestamp'], ascending=True, inplace=True)\n",
    "transfers = transfers.drop_duplicates(\n",
    "    subset=['collection_id', 'buyer'], keep='last', ignore_index=True)"
   ]
  },
  {
   "cell_type": "code",
   "execution_count": 40,
   "id": "e452a365",
   "metadata": {},
   "outputs": [
    {
     "name": "stdout",
     "output_type": "stream",
     "text": [
      "2022-08-16 00:00:00\n",
      "10.786619901657104\n"
     ]
    }
   ],
   "source": [
    "from collections import defaultdict\n",
    "\n",
    "time_elapsed = defaultdict(int)\n",
    "# we simulate a daily pipeline here to reflect the production better\n",
    "# this will make sure our model performs similarly offline and online\n",
    "print(today)\n",
    "start_time = time.time()    \n",
    "\n",
    "# purchased collections in the past two months\n",
    "# the purchased_collections is sorted by recency:\n",
    "#   Groupby preserves the order of rows within each group\n",
    "collections_purchased = transfers.groupby(\n",
    "    ['buyer']).collection_id.unique().to_frame().reset_index()\n",
    "\n",
    "collections_purchased.rename(\n",
    "    columns = {'collection_id':'purchased_collections'}, inplace = True)\n",
    "collections_purchased = collections_purchased[\n",
    "    ['buyer', 'purchased_collections']]\n",
    "collections_purchased['purchased_collections_cnt'] = collections_purchased.apply(\n",
    "    lambda x: len(x['purchased_collections']), axis=1\n",
    ")\n",
    "# seconds\n",
    "end_time = time.time()\n",
    "cur_time_elapsed = end_time - start_time\n",
    "print(cur_time_elapsed)"
   ]
  },
  {
   "cell_type": "markdown",
   "id": "a6bb70a2",
   "metadata": {},
   "source": [
    "### [Trending] Top Collections by Daily Total Value Changes"
   ]
  },
  {
   "cell_type": "code",
   "execution_count": 98,
   "id": "9cb4394f",
   "metadata": {},
   "outputs": [],
   "source": [
    "# load data\n",
    "transfers = pd.read_csv(\n",
    "    '/Users/xin/coding/nft-recommendation/data_analysis/data/purchases.csv')\n",
    "\n",
    "today = pd.to_datetime('2022-08-16')\n",
    "first_day = today - timedelta(days=2)\n",
    "transfers = transfers[\n",
    "    pd.to_datetime(transfers['date']) < today][\n",
    "    pd.to_datetime(transfers['date']) >= first_day\n",
    "]"
   ]
  },
  {
   "cell_type": "code",
   "execution_count": 99,
   "id": "8272df62",
   "metadata": {},
   "outputs": [],
   "source": [
    "# buyers per collection\n",
    "collections = transfers.groupby('collection_id').buyer.unique().to_frame()\n",
    "collections.rename(columns = {'buyer':'buyers'}, inplace = True)\n",
    "collections = collections.reset_index()\n",
    "collections['buyers_cnt'] = collections['buyers'].apply(lambda x: len(x))\n",
    "collections.reset_index(inplace=True)\n",
    "\n",
    "# price diff between mean and median\n",
    "collections['price_mean'] = transfers.groupby(\n",
    "    'collection_id').price_in_eth.mean().to_frame().reset_index()['price_in_eth']\n",
    "collections['price_median'] = transfers.groupby(\n",
    "    'collection_id').price_in_eth.median().to_frame().reset_index()['price_in_eth']\n",
    "collections['price_max'] = transfers.groupby(\n",
    "    'collection_id').price_in_eth.max().to_frame().reset_index()['price_in_eth']\n",
    "collections['price_diff'] = abs(collections['price_median'] - collections['price_mean'])\n",
    "collections['price_max_diff'] = abs(collections['price_max'] - collections['price_mean'])\n",
    "collections = collections[['collection_id', 'buyers_cnt',\n",
    "                           'price_diff', 'price_max_diff',\n",
    "                           'price_median', 'price_mean']]\n",
    "upper_bound = collections['price_diff'].quantile(.99985)\n",
    "outlier_collections = collections[collections['price_diff'] >= upper_bound]['collection_id']\n",
    "outlier_collections = set(outlier_collections)\n",
    "\n",
    "upper_bound = collections['buyers_cnt'].quantile(.985)\n",
    "buy_collections = collections[collections['buyers_cnt'] >= upper_bound]['collection_id']\n",
    "outlier_collections = set(buy_collections).union(outlier_collections)\n",
    "\n",
    "lower_bound = collections['buyers_cnt'].quantile(.0)\n",
    "buy_collections = collections[collections['buyers_cnt'] <= lower_bound]['collection_id']\n",
    "outlier_collections = set(buy_collections).union(outlier_collections)\n",
    "\n",
    "# extremely high TX collections\n",
    "tx_count = transfers.collection_id.value_counts()\n",
    "upper_bound = tx_count.quantile(.999)\n",
    "tx_collections = tx_count[tx_count >= upper_bound]\n",
    "outlier_collections = set(\n",
    "    tx_collections.to_frame().reset_index()['index']).union(outlier_collections)"
   ]
  },
  {
   "cell_type": "code",
   "execution_count": 100,
   "id": "013f51dc",
   "metadata": {},
   "outputs": [],
   "source": [
    "# filter outlier collections\n",
    "transfers = transfers[~transfers['collection_id'].isin(outlier_collections)]"
   ]
  },
  {
   "cell_type": "code",
   "execution_count": 101,
   "id": "90d23cd2",
   "metadata": {},
   "outputs": [],
   "source": [
    "# keep latest transfer for a particular NFT to avoid double counting\n",
    "transfers.sort_values(by=['timestamp'], ascending=True, inplace=True)\n",
    "transfers = transfers.drop_duplicates(\n",
    "    subset=['collection_id', 'nft_id'], keep='last', ignore_index=True)\n",
    "\n",
    "# today\n",
    "today = pd.to_datetime('2022-08-16')\n",
    "first_day = today - timedelta(days=1)\n",
    "transfers_today = transfers[\n",
    "    pd.to_datetime(transfers['date']) < today][\n",
    "    pd.to_datetime(transfers['date']) >= first_day\n",
    "]\n",
    "collection_ranking = transfers_today.groupby('collection_id').price_in_eth.sum().to_frame().reset_index()\n",
    "collection_ranking.rename(columns = {'price_in_eth':'total_value_today'}, inplace = True)\n",
    "collection_ranking = collection_ranking[['collection_id', 'total_value_today']]\n",
    "\n",
    "# past day\n",
    "today = pd.to_datetime('2022-08-15')\n",
    "first_day = today - timedelta(days=1)\n",
    "transfers_past_day = transfers[\n",
    "    pd.to_datetime(transfers['date']) < today][\n",
    "    pd.to_datetime(transfers['date']) >= first_day\n",
    "]\n",
    "collection_ranking_past_day = transfers_past_day.groupby('collection_id').price_in_eth.sum().to_frame().reset_index()\n",
    "collection_ranking_past_day.rename(columns = {'price_in_eth':'total_value_past_day'}, inplace = True)\n",
    "collection_ranking_past_day = collection_ranking_past_day[['collection_id', 'total_value_past_day']]\n",
    "\n",
    "# trending\n",
    "collection_ranking = pd.merge(collection_ranking, collection_ranking_past_day, on='collection_id', how='outer')\n",
    "collection_ranking = collection_ranking[['collection_id', 'total_value_today', 'total_value_past_day']]\n",
    "collection_ranking.fillna(0)\n",
    "collection_ranking['delta_value'] = collection_ranking[\n",
    "    'total_value_today'] - collection_ranking['total_value_past_day']\n",
    "collection_ranking = collection_ranking[collection_ranking['delta_value'] > 0]\n",
    "ranked_collections = collection_ranking.sort_values(\n",
    "    by=['delta_value'], ascending=False).head(50)['collection_id'].tolist()"
   ]
  },
  {
   "cell_type": "code",
   "execution_count": 102,
   "id": "ef2e1939",
   "metadata": {},
   "outputs": [],
   "source": [
    "len(ranked_collections)\n",
    "top_trending_collections = ranked_collections"
   ]
  },
  {
   "cell_type": "code",
   "execution_count": 103,
   "id": "f4a3202f",
   "metadata": {},
   "outputs": [],
   "source": [
    "from collections import defaultdict\n",
    "\n",
    "collection_rank = defaultdict(int)\n",
    "\n",
    "total_cnt = len(top_trending_collections)\n",
    "for i, col in enumerate(top_trending_collections):\n",
    "    collection_rank[col] += total_cnt - i\n",
    "    \n",
    "ranked_collections = dict(\n",
    "    sorted(collection_rank.items(),\n",
    "           key=lambda item: item[1],\n",
    "           reverse=True))"
   ]
  },
  {
   "cell_type": "code",
   "execution_count": 104,
   "id": "dce7296c",
   "metadata": {},
   "outputs": [
    {
     "data": {
      "text/plain": [
       "{'0x7bd29408f11d2bfc23c34f18275bbf23bb716bc7': 50,\n",
       " '0xb47e3cd837ddf8e4c57f05d70ab865de6e193bbb': 49,\n",
       " '0x60e4d786628fea6478f785a6d7e704777c86a7c6': 48,\n",
       " '0xa7d8d9ef8d8ce8992df33d8b8cf4aebabd5bd270': 47,\n",
       " '0x49cf6f5d44e70224e2e23fdcdd2c053f30ada28b': 46,\n",
       " '0xbc4ca0eda7647a8ab7c2061c2e118a18a936f13d': 45,\n",
       " '0xed5af388653567af2f388e6224dc7c4b3241c544': 44,\n",
       " '0xd1258db6ac08eb0e625b75b371c023da478e94a9': 43,\n",
       " '0xba30e5f9bb24caa003e9f2f0497ad287fdf95623': 42,\n",
       " '0x2c3fc1d826bc12027d05fbe3aeace0a2453bf9fd': 41,\n",
       " '0xff36ca1396d2a9016869274f1017d6c2139f495e': 40,\n",
       " '0x42069abfe407c60cf4ae4112bedead391dba1cdb': 39,\n",
       " '0x1a92f7381b9f03921564a437210bb9396471050c': 38,\n",
       " '0x7d8820fa92eb1584636f4f5b8515b5476b75171a': 37,\n",
       " '0xccc441ac31f02cd96c153db6fd5fe0a2f4e6a68d': 36,\n",
       " '0x79fcdef22feed20eddacbb2587640e45491b757f': 35,\n",
       " '0x59468516a8259058bad1ca5f8f4bff190d30e066': 34,\n",
       " '0x64ad353bc90a04361c4810ae7b3701f3beb48d7e': 33,\n",
       " '0xe0176ba60efddb29cac5b15338c9962daee9de0c': 32,\n",
       " '0x63f421b24cea6765b326753f6d4e558c21ea8f76': 31,\n",
       " '0xf07468ead8cf26c752c676e43c814fee9c8cf402': 30,\n",
       " '0x0b4b2ba334f476c8f41bfe52a428d6891755554d': 29,\n",
       " '0x0cfb5d82be2b949e8fa73a656df91821e2ad99fd': 28,\n",
       " '0xe47e5dcde8e14e874d2711e786bb34ae6980bef8': 27,\n",
       " '0x82c7a8f707110f5fbb16184a5933e9f78a34c6ab': 26,\n",
       " '0x364c828ee171616a39897688a831c2499ad972ec': 25,\n",
       " '0x5b5cf41d9ec08d101ffeeeebda411677582c9448': 24,\n",
       " '0x438295b5082dc6a0cc50960e3513d5d7f23405c4': 23,\n",
       " '0x249aeaa7fa06a63ea5389b72217476db881294df': 22,\n",
       " '0xf729f878f95548bc7f14b127c96089cf121505f8': 21,\n",
       " '0x892848074ddea461a15f337250da3ce55580ca85': 20,\n",
       " '0x5cc5b05a8a13e3fbdb0bb9fccd98d38e50f90c38': 19,\n",
       " '0x4a537f61ef574153664c0dbc8c8f4b900cacbe5d': 18,\n",
       " '0xd1169e5349d1cb9941f3dcba135c8a4b9eacfdde': 17,\n",
       " '0x3fd36d72f05fb1af76ee7ce9257ca850faba91ed': 16,\n",
       " '0x123b30e25973fecd8354dd5f41cc45a3065ef88c': 15,\n",
       " '0x8a90cab2b38dba80c64b7734e58ee1db38b8992e': 14,\n",
       " '0x9b091d2e0bb88ace4fe8f0fab87b93d8ba932ec4': 13,\n",
       " '0x09233d553058c2f42ba751c87816a8e9fae7ef10': 12,\n",
       " '0x80336ad7a747236ef41f47ed2c7641828a480baa': 11,\n",
       " '0x3702f4c46785bbd947d59a2516ac1ea30f2babf2': 10,\n",
       " '0x7ea3cca10668b8346aec0bf1844a49e995527c8b': 9,\n",
       " '0x32973908faee0bf825a343000fe412ebe56f802a': 8,\n",
       " '0xd0318da435dbce0b347cc6faa330b5a9889e3585': 7,\n",
       " '0x2a48420d75777af4c99970c0ed3c25effd1c08be': 6,\n",
       " '0xba72b008d53d3e65f6641e1d63376be2f9c1ad05': 5,\n",
       " '0x11ca9693156929ee2e7e1470c5e1a55b413e9007': 4,\n",
       " '0xf59afe732b2793d541780fd02945228db1fad8ed': 3,\n",
       " '0x4db1f25d3d98600140dfc18deb7515be5bd293af': 2,\n",
       " '0x11450058d796b02eb53e65374be59cff65d3fe7f': 1}"
      ]
     },
     "execution_count": 104,
     "metadata": {},
     "output_type": "execute_result"
    }
   ],
   "source": [
    "ranked_collections"
   ]
  },
  {
   "cell_type": "markdown",
   "id": "a0a8708b",
   "metadata": {},
   "source": [
    "### [Popular] Top Collections based on Total Value"
   ]
  },
  {
   "cell_type": "code",
   "execution_count": 105,
   "id": "2841a3d8",
   "metadata": {},
   "outputs": [],
   "source": [
    "# load data\n",
    "transfers = pd.read_csv(\n",
    "    '/Users/xin/coding/nft-recommendation/data_analysis/data/purchases.csv')\n",
    "\n",
    "today = pd.to_datetime('2022-08-16')\n",
    "first_day = today - timedelta(days=60)\n",
    "transfers = transfers[\n",
    "    pd.to_datetime(transfers['date']) < today][\n",
    "    pd.to_datetime(transfers['date']) >= first_day\n",
    "]"
   ]
  },
  {
   "cell_type": "code",
   "execution_count": 106,
   "id": "a1f683f2",
   "metadata": {},
   "outputs": [],
   "source": [
    "# buyers per collection\n",
    "collections = transfers.groupby('collection_id').buyer.unique().to_frame()\n",
    "collections.rename(columns = {'buyer':'buyers'}, inplace = True)\n",
    "collections = collections.reset_index()\n",
    "collections['buyers_cnt'] = collections['buyers'].apply(lambda x: len(x))\n",
    "collections.reset_index(inplace=True)\n",
    "\n",
    "# price diff between mean and median\n",
    "collections['price_mean'] = transfers.groupby(\n",
    "    'collection_id').price_in_eth.mean().to_frame().reset_index()['price_in_eth']\n",
    "collections['price_median'] = transfers.groupby(\n",
    "    'collection_id').price_in_eth.median().to_frame().reset_index()['price_in_eth']\n",
    "collections['price_max'] = transfers.groupby(\n",
    "    'collection_id').price_in_eth.max().to_frame().reset_index()['price_in_eth']\n",
    "collections['price_diff'] = abs(collections['price_median'] - collections['price_mean'])\n",
    "collections['price_max_diff'] = abs(collections['price_max'] - collections['price_mean'])\n",
    "collections = collections[['collection_id', 'buyers_cnt',\n",
    "                           'price_diff', 'price_max_diff',\n",
    "                           'price_median', 'price_mean']]\n",
    "upper_bound = collections['price_diff'].quantile(.99985)\n",
    "outlier_collections = collections[collections['price_diff'] >= upper_bound]['collection_id']\n",
    "outlier_collections = set(outlier_collections)\n",
    "\n",
    "upper_bound = collections['buyers_cnt'].quantile(.985)\n",
    "buy_collections = collections[collections['buyers_cnt'] >= upper_bound]['collection_id']\n",
    "outlier_collections = set(buy_collections).union(outlier_collections)\n",
    "\n",
    "lower_bound = collections['buyers_cnt'].quantile(.88)\n",
    "buy_collections = collections[collections['buyers_cnt'] <= lower_bound]['collection_id']\n",
    "outlier_collections = set(buy_collections).union(outlier_collections)\n",
    "\n",
    "# extremely high TX collections\n",
    "tx_count = transfers.collection_id.value_counts()\n",
    "upper_bound = tx_count.quantile(.999)\n",
    "tx_collections = tx_count[tx_count >= upper_bound]\n",
    "outlier_collections = set(\n",
    "    tx_collections.to_frame().reset_index()['index']).union(outlier_collections)"
   ]
  },
  {
   "cell_type": "code",
   "execution_count": 107,
   "id": "7579d887",
   "metadata": {},
   "outputs": [],
   "source": [
    "# filter outlier collections\n",
    "transfers = transfers[~transfers['collection_id'].isin(\n",
    "    outlier_collections)]"
   ]
  },
  {
   "cell_type": "code",
   "execution_count": 108,
   "id": "726d6216",
   "metadata": {},
   "outputs": [],
   "source": [
    "# keep latest transfer for a particular NFT\n",
    "transfers.sort_values(by=['timestamp'], ascending=True, inplace=True)\n",
    "transfers = transfers.drop_duplicates(\n",
    "    subset=['collection_id', 'nft_id'], keep='last', ignore_index=True)\n",
    "\n",
    "# popular collections\n",
    "collection_ranking = transfers.groupby(\n",
    "    ['collection_id']).price_in_eth.sum().sort_values(\n",
    "    ascending=False).reset_index()\n",
    "top_collections = collection_ranking.head(50)\n",
    "ranked_collections = top_collections['collection_id'].tolist()"
   ]
  },
  {
   "cell_type": "code",
   "execution_count": 109,
   "id": "6013e6d1",
   "metadata": {},
   "outputs": [],
   "source": [
    "top_popular_collections = ranked_collections"
   ]
  },
  {
   "cell_type": "code",
   "execution_count": 110,
   "id": "bbd30106",
   "metadata": {},
   "outputs": [],
   "source": [
    "from collections import defaultdict\n",
    "\n",
    "collection_rank = defaultdict(int)\n",
    "\n",
    "total_cnt = len(top_popular_collections)\n",
    "for i, col in enumerate(top_popular_collections):\n",
    "    collection_rank[col] += total_cnt - i\n",
    "    \n",
    "ranked_collections = dict(\n",
    "    sorted(collection_rank.items(),\n",
    "           key=lambda item: item[1],\n",
    "           reverse=True))"
   ]
  },
  {
   "cell_type": "code",
   "execution_count": 111,
   "id": "9c174ad3",
   "metadata": {},
   "outputs": [
    {
     "data": {
      "text/plain": [
       "{'0xb47e3cd837ddf8e4c57f05d70ab865de6e193bbb': 50,\n",
       " '0xbc4ca0eda7647a8ab7c2061c2e118a18a936f13d': 49,\n",
       " '0x60e4d786628fea6478f785a6d7e704777c86a7c6': 48,\n",
       " '0x23581767a106ae21c074b2276d25e5c3e136a68b': 47,\n",
       " '0x49cf6f5d44e70224e2e23fdcdd2c053f30ada28b': 46,\n",
       " '0x8a90cab2b38dba80c64b7734e58ee1db38b8992e': 45,\n",
       " '0xed5af388653567af2f388e6224dc7c4b3241c544': 44,\n",
       " '0x7bd29408f11d2bfc23c34f18275bbf23bb716bc7': 43,\n",
       " '0xba30e5f9bb24caa003e9f2f0497ad287fdf95623': 42,\n",
       " '0x059edd72cd353df5106d2b9cc5ab83a52287ac3a': 41,\n",
       " '0x2a036569dbbe7730d69ed664b74412e49f43c2c0': 40,\n",
       " '0x5cc5b05a8a13e3fbdb0bb9fccd98d38e50f90c38': 39,\n",
       " '0x42069abfe407c60cf4ae4112bedead391dba1cdb': 38,\n",
       " '0xccf3baa603dfddd7c41619fdb8dd0306b11571fe': 37,\n",
       " '0xbd3531da5cf5857e7cfaa92426877b022e612cf8': 36,\n",
       " '0x1a92f7381b9f03921564a437210bb9396471050c': 35,\n",
       " '0xb932a70a57673d89f4acffbe830e8ed7f75fb9e0': 34,\n",
       " '0xaadc2d4261199ce24a4b0a57370c4fcf43bb60aa': 33,\n",
       " '0x7d8820fa92eb1584636f4f5b8515b5476b75171a': 32,\n",
       " '0x0a36f2178c0db2c85471c45334a1dd17d130fd42': 31,\n",
       " '0x27787755137863bb7f2387ed34942543c9f24efe': 30,\n",
       " '0xbd4455da5929d5639ee098abfaa3241e9ae111af': 29,\n",
       " '0xc99c679c50033bbc5321eb88752e89a93e9e83c5': 28,\n",
       " '0x306b1ea3ecdf94ab739f1910bbda052ed4a9f949': 27,\n",
       " '0x282bdd42f4eb70e7a9d9f40c8fea0825b7f68c5d': 26,\n",
       " '0xa3aee8bce55beea1951ef834b99f3ac60d1abeeb': 25,\n",
       " '0x46fdfcb3cd89a1c54d36ee83a4adc184747b40d9': 24,\n",
       " '0x82c7a8f707110f5fbb16184a5933e9f78a34c6ab': 23,\n",
       " '0x75e95ba5997eb235f40ecf8347cdb11f18ff640b': 22,\n",
       " '0xe785e82358879f061bc3dcac6f0444462d4b5330': 21,\n",
       " '0x80336ad7a747236ef41f47ed2c7641828a480baa': 20,\n",
       " '0x79fcdef22feed20eddacbb2587640e45491b757f': 19,\n",
       " '0x26badf693f2b103b021c670c852262b379bbbe8a': 18,\n",
       " '0xccc441ac31f02cd96c153db6fd5fe0a2f4e6a68d': 17,\n",
       " '0x892848074ddea461a15f337250da3ce55580ca85': 16,\n",
       " '0x3110ef5f612208724ca51f5761a69081809f03b7': 15,\n",
       " '0xe0d1fa3fbd72db2ed179f80c0459b7da93fe4fe8': 14,\n",
       " '0x19b86299c21505cdf59ce63740b240a9c822b5e4': 13,\n",
       " '0x36f4d96fe0d4eb33cdc2dc6c0bca15b9cdd0d648': 12,\n",
       " '0xc143bbfcdbdbed6d454803804752a064a622c1f3': 11,\n",
       " '0x59468516a8259058bad1ca5f8f4bff190d30e066': 10,\n",
       " '0x5af0d9827e0c53e4799bb226655a1de152a425a5': 9,\n",
       " '0x3e7fc44e25c07be3d67c241e6e59cb838df2f892': 8,\n",
       " '0x8eaa9ae1ac89b1c8c8a8104d08c045f78aadb42d': 7,\n",
       " '0x4db1f25d3d98600140dfc18deb7515be5bd293af': 6,\n",
       " '0x64ad353bc90a04361c4810ae7b3701f3beb48d7e': 5,\n",
       " '0x0cfb5d82be2b949e8fa73a656df91821e2ad99fd': 4,\n",
       " '0x3fd36d72f05fb1af76ee7ce9257ca850faba91ed': 3,\n",
       " '0x2cf6be9aac1c7630d5a23af88c28275c70eb8819': 2,\n",
       " '0xc67b9897d793a823f0e9cf850aa1b0d23e3f8d09': 1}"
      ]
     },
     "execution_count": 111,
     "metadata": {},
     "output_type": "execute_result"
    }
   ],
   "source": [
    "ranked_collections"
   ]
  },
  {
   "cell_type": "code",
   "execution_count": 55,
   "id": "6b04ad28",
   "metadata": {},
   "outputs": [
    {
     "data": {
      "text/plain": [
       "{'0x0cfb5d82be2b949e8fa73a656df91821e2ad99fd',\n",
       " '0x1a92f7381b9f03921564a437210bb9396471050c',\n",
       " '0x3fd36d72f05fb1af76ee7ce9257ca850faba91ed',\n",
       " '0x42069abfe407c60cf4ae4112bedead391dba1cdb',\n",
       " '0x49cf6f5d44e70224e2e23fdcdd2c053f30ada28b',\n",
       " '0x4db1f25d3d98600140dfc18deb7515be5bd293af',\n",
       " '0x59468516a8259058bad1ca5f8f4bff190d30e066',\n",
       " '0x5cc5b05a8a13e3fbdb0bb9fccd98d38e50f90c38',\n",
       " '0x60e4d786628fea6478f785a6d7e704777c86a7c6',\n",
       " '0x64ad353bc90a04361c4810ae7b3701f3beb48d7e',\n",
       " '0x79fcdef22feed20eddacbb2587640e45491b757f',\n",
       " '0x7bd29408f11d2bfc23c34f18275bbf23bb716bc7',\n",
       " '0x7d8820fa92eb1584636f4f5b8515b5476b75171a',\n",
       " '0x80336ad7a747236ef41f47ed2c7641828a480baa',\n",
       " '0x82c7a8f707110f5fbb16184a5933e9f78a34c6ab',\n",
       " '0x892848074ddea461a15f337250da3ce55580ca85',\n",
       " '0x8a90cab2b38dba80c64b7734e58ee1db38b8992e',\n",
       " '0xb47e3cd837ddf8e4c57f05d70ab865de6e193bbb',\n",
       " '0xba30e5f9bb24caa003e9f2f0497ad287fdf95623',\n",
       " '0xbc4ca0eda7647a8ab7c2061c2e118a18a936f13d',\n",
       " '0xccc441ac31f02cd96c153db6fd5fe0a2f4e6a68d',\n",
       " '0xed5af388653567af2f388e6224dc7c4b3241c544'}"
      ]
     },
     "execution_count": 55,
     "metadata": {},
     "output_type": "execute_result"
    }
   ],
   "source": [
    "set(top_popular_collections).intersection(top_trending_collections)"
   ]
  },
  {
   "cell_type": "markdown",
   "id": "7d3febd3",
   "metadata": {},
   "source": [
    "### [KOL] Top Collections from Top Wallets"
   ]
  },
  {
   "cell_type": "code",
   "execution_count": 112,
   "id": "75607a7a",
   "metadata": {},
   "outputs": [],
   "source": [
    "# load data\n",
    "transfers = pd.read_csv(\n",
    "    '/Users/xin/coding/nft-recommendation/data_analysis/data/purchases.csv')\n",
    "\n",
    "today = pd.to_datetime('2022-08-16')\n",
    "first_day = today - timedelta(days=60)\n",
    "transfers = transfers[\n",
    "    pd.to_datetime(transfers['date']) < today][\n",
    "    pd.to_datetime(transfers['date']) >= first_day\n",
    "]"
   ]
  },
  {
   "cell_type": "code",
   "execution_count": 113,
   "id": "a164a8de",
   "metadata": {},
   "outputs": [],
   "source": [
    "# buyers per collection\n",
    "collections = transfers.groupby('collection_id').buyer.unique().to_frame()\n",
    "collections.rename(columns = {'buyer':'buyers'}, inplace = True)\n",
    "collections = collections.reset_index()\n",
    "collections['buyers_cnt'] = collections['buyers'].apply(lambda x: len(x))\n",
    "collections.reset_index(inplace=True)\n",
    "\n",
    "# price diff between mean and median\n",
    "collections['price_mean'] = transfers.groupby(\n",
    "    'collection_id').price_in_eth.mean().to_frame().reset_index()['price_in_eth']\n",
    "collections['price_median'] = transfers.groupby(\n",
    "    'collection_id').price_in_eth.median().to_frame().reset_index()['price_in_eth']\n",
    "collections['price_max'] = transfers.groupby(\n",
    "    'collection_id').price_in_eth.max().to_frame().reset_index()['price_in_eth']\n",
    "collections['price_diff'] = abs(collections['price_median'] - collections['price_mean'])\n",
    "collections['price_max_diff'] = abs(collections['price_max'] - collections['price_mean'])\n",
    "collections = collections[['collection_id', 'buyers_cnt',\n",
    "                           'price_diff', 'price_max_diff',\n",
    "                           'price_median', 'price_mean']]\n",
    "upper_bound = collections['price_diff'].quantile(.99985)\n",
    "outlier_collections = collections[collections['price_diff'] >= upper_bound]['collection_id']\n",
    "outlier_collections = set(outlier_collections)\n",
    "\n",
    "upper_bound = collections['buyers_cnt'].quantile(.985)\n",
    "buy_collections = collections[collections['buyers_cnt'] >= upper_bound]['collection_id']\n",
    "outlier_collections = set(buy_collections).union(outlier_collections)\n",
    "\n",
    "# extremely high TX collections\n",
    "tx_count = transfers.collection_id.value_counts()\n",
    "upper_bound = tx_count.quantile(.999)\n",
    "tx_collections = tx_count[tx_count >= upper_bound]\n",
    "outlier_collections = set(\n",
    "    tx_collections.to_frame().reset_index()['index']).union(outlier_collections)"
   ]
  },
  {
   "cell_type": "code",
   "execution_count": 114,
   "id": "c1375e67",
   "metadata": {},
   "outputs": [],
   "source": [
    "# filter outlier collections\n",
    "transfers = transfers[~transfers['collection_id'].isin(outlier_collections)]"
   ]
  },
  {
   "cell_type": "code",
   "execution_count": 115,
   "id": "5e8085d2",
   "metadata": {},
   "outputs": [],
   "source": [
    "# keep latest transfer for a particular NFT\n",
    "transfers.sort_values(by=['timestamp'], ascending=True, inplace=True)\n",
    "transfers = transfers.drop_duplicates(\n",
    "    subset=['collection_id', 'nft_id'], keep='last', ignore_index=True)\n",
    "\n",
    "# get top collections\n",
    "buyer_total_purchases = transfers.groupby(['buyer']).price_in_eth.sum()\n",
    "top_50_buyers = buyer_total_purchases.sort_values(ascending=False).head(50)\n",
    "top_50_buyers = list(top_50_buyers.reset_index()['buyer'])\n",
    "\n",
    "# filter by top buyers\n",
    "transfers = transfers[transfers.buyer.isin(top_50_buyers)]\n",
    "\n",
    "# important to rank before filtering\n",
    "collection_ranking = transfers.groupby(\n",
    "    ['collection_id']).price_in_eth.median().sort_values(\n",
    "    ascending=False).reset_index()\n",
    "\n",
    "ranked_collections = collection_ranking.head(50)['collection_id'].tolist()"
   ]
  },
  {
   "cell_type": "code",
   "execution_count": 116,
   "id": "5dfdd7df",
   "metadata": {},
   "outputs": [],
   "source": [
    "top_kol_collections = ranked_collections"
   ]
  },
  {
   "cell_type": "code",
   "execution_count": 117,
   "id": "d43dfb0e",
   "metadata": {},
   "outputs": [],
   "source": [
    "from collections import defaultdict\n",
    "\n",
    "collection_rank = defaultdict(int)\n",
    "\n",
    "total_cnt = len(top_kol_collections)\n",
    "for i, col in enumerate(top_kol_collections):\n",
    "    collection_rank[col] += total_cnt - i\n",
    "    \n",
    "ranked_collections = dict(\n",
    "    sorted(collection_rank.items(),\n",
    "           key=lambda item: item[1],\n",
    "           reverse=True))"
   ]
  },
  {
   "cell_type": "code",
   "execution_count": 118,
   "id": "8295059b",
   "metadata": {},
   "outputs": [
    {
     "data": {
      "text/plain": [
       "{'0xbc578ecca2115dac0c93c08674edc0c7d01fe09c': 50,\n",
       " '0xd4e4078ca3495de5b1d4db434bebc5a986197782': 49,\n",
       " '0x509a050f573be0d5e01a73c3726e17161729558b': 48,\n",
       " '0xb47e3cd837ddf8e4c57f05d70ab865de6e193bbb': 47,\n",
       " '0x08d7c0242953446436f34b4c78fe9da38c73668d': 46,\n",
       " '0xbc4ca0eda7647a8ab7c2061c2e118a18a936f13d': 45,\n",
       " '0x282bdd42f4eb70e7a9d9f40c8fea0825b7f68c5d': 44,\n",
       " '0xe8f88d16f24255fcfab25959705d724406d67d9d': 43,\n",
       " '0x6ffa9756ded18df772f18754c98c81b6fe76431d': 42,\n",
       " '0x46ac8540d698167fcbb9e846511beb8cf8af9bd8': 41,\n",
       " '0x85885aded016ba8a88593338928c88d99316ace9': 40,\n",
       " '0xd45ea3d9426595f32a4b87f0225022d8d179526c': 39,\n",
       " '0x3273ae3fff2f5f83b899181d617c8bbd870f9b24': 38,\n",
       " '0x60e4d786628fea6478f785a6d7e704777c86a7c6': 37,\n",
       " '0xb7f7f6c52f2e2fdb1963eab30438024864c313f6': 36,\n",
       " '0x0c06601b50aa10dcdb9434e627f5f12c971301ff': 35,\n",
       " '0xd2a077ec359d94e0a0b7e84435eacb40a67a817c': 34,\n",
       " '0x8a90cab2b38dba80c64b7734e58ee1db38b8992e': 33,\n",
       " '0x059edd72cd353df5106d2b9cc5ab83a52287ac3a': 32,\n",
       " '0x32d813d74836f2054a8820560a8b5604a2697360': 31,\n",
       " '0xc143bbfcdbdbed6d454803804752a064a622c1f3': 30,\n",
       " '0x1ccf997a9a93548e3b9dcdab159894fc0a80100a': 29,\n",
       " '0x6fefb647395e680339badc84dc774e3ca8bca7b9': 28,\n",
       " '0x0a36f2178c0db2c85471c45334a1dd17d130fd42': 27,\n",
       " '0x4866f5e34ae43987b93a929152eb3b95902bb0ca': 26,\n",
       " '0xeaa4c58427c184413b04db47889b28b5c98ebb7b': 25,\n",
       " '0xba30e5f9bb24caa003e9f2f0497ad287fdf95623': 24,\n",
       " '0xaadc2d4261199ce24a4b0a57370c4fcf43bb60aa': 23,\n",
       " '0x0b0585e9cf470c59b15914586fa54ed7a4467e3c': 22,\n",
       " '0xa5e97633d5626568fb1f45c45f2a4f3b793b264d': 21,\n",
       " '0x3d978e0b4fc54b419c4281320d7384a2ff93421f': 20,\n",
       " '0xd0e7bc3f1efc5f098534bce73589835b8273b9a0': 19,\n",
       " '0x7bd29408f11d2bfc23c34f18275bbf23bb716bc7': 18,\n",
       " '0xe1af29ff354eb041a3c08ce9362d65e8364df5c1': 17,\n",
       " '0xc1c7fb277d9c75df7cd03327a1b39aadbfb545a3': 16,\n",
       " '0xe785e82358879f061bc3dcac6f0444462d4b5330': 15,\n",
       " '0xd0b67acc0e5918192b158c1647dad5782e6f4fb5': 14,\n",
       " '0x1fbfea2506ee4234d0dbf22b2b5a359068b58c43': 13,\n",
       " '0xacab8aa12b92afb6adcb598dc16f4e09b3fee732': 12,\n",
       " '0x3acdb27a3c9673338b27a31ca17f2fb76b79ef92': 11,\n",
       " '0xbf45d42c7ff2c5c148863ce65e492657e7c6d926': 10,\n",
       " '0x250ff17091c3c8beddc32c6ce66f2e896c07acb7': 9,\n",
       " '0x484e5155ae4b277cdb7f13a80ab3f627ff491149': 8,\n",
       " '0x3f95f48b99f864913f697ef6c45dbcde1beef2ae': 7,\n",
       " '0x64780ce53f6e966e18a22af13a2f97369580ec11': 6,\n",
       " '0x33eecbf908478c10614626a9d304bfe18b78dd73': 5,\n",
       " '0x8a939fd297fab7388d6e6c634eee3c863626be57': 4,\n",
       " '0x6fc3ad6177b07227647ad6b4ae03cc476541a2a0': 3,\n",
       " '0xe37aa7c85a763da1c6d58285a465c2e5da84471b': 2,\n",
       " '0x944a883089beb14754601d11ff9d02862d607c5c': 1}"
      ]
     },
     "execution_count": 118,
     "metadata": {},
     "output_type": "execute_result"
    }
   ],
   "source": [
    "ranked_collections"
   ]
  },
  {
   "cell_type": "code",
   "execution_count": 62,
   "id": "12e42f35",
   "metadata": {},
   "outputs": [
    {
     "data": {
      "text/plain": [
       "{'0x059edd72cd353df5106d2b9cc5ab83a52287ac3a',\n",
       " '0x0a36f2178c0db2c85471c45334a1dd17d130fd42',\n",
       " '0x282bdd42f4eb70e7a9d9f40c8fea0825b7f68c5d',\n",
       " '0x60e4d786628fea6478f785a6d7e704777c86a7c6',\n",
       " '0x7bd29408f11d2bfc23c34f18275bbf23bb716bc7',\n",
       " '0x8a90cab2b38dba80c64b7734e58ee1db38b8992e',\n",
       " '0xaadc2d4261199ce24a4b0a57370c4fcf43bb60aa',\n",
       " '0xb47e3cd837ddf8e4c57f05d70ab865de6e193bbb',\n",
       " '0xba30e5f9bb24caa003e9f2f0497ad287fdf95623',\n",
       " '0xbc4ca0eda7647a8ab7c2061c2e118a18a936f13d',\n",
       " '0xc143bbfcdbdbed6d454803804752a064a622c1f3',\n",
       " '0xe785e82358879f061bc3dcac6f0444462d4b5330'}"
      ]
     },
     "execution_count": 62,
     "metadata": {},
     "output_type": "execute_result"
    }
   ],
   "source": [
    "set(top_popular_collections).intersection(set(top_kol_collections))"
   ]
  },
  {
   "cell_type": "markdown",
   "id": "cdfb6813",
   "metadata": {},
   "source": [
    "### [Homepage] Rank Collections from All Categories\n",
    "1. Add collection filtering if any\n",
    "2. Rank personalized, trending, popular and KOL collections altogether"
   ]
  },
  {
   "cell_type": "code",
   "execution_count": 63,
   "id": "643c7008",
   "metadata": {},
   "outputs": [],
   "source": [
    "from collections import defaultdict\n",
    "\n",
    "collection_rank = defaultdict(int)\n",
    "\n",
    "total_cnt = len(top_popular_collections)\n",
    "for i, col in enumerate(top_popular_collections):\n",
    "    collection_rank[col] += total_cnt - i\n",
    "\n",
    "total_cnt = len(top_trending_collections)\n",
    "for i, col in enumerate(top_trending_collections):\n",
    "    collection_rank[col] += total_cnt - i\n",
    "\n",
    "total_cnt = len(top_kol_collections)\n",
    "for i, col in enumerate(top_kol_collections):\n",
    "    collection_rank[col] += total_cnt - i\n",
    "\n",
    "# in production, we can add personalized collections\n",
    "# by only keeping most recent 5 purchased collections\n",
    "# if personalized_col is not in collection_rank:\n",
    "#   collection_rank[col] = 100\n",
    "# \n",
    "# collection_rank[col] += 20"
   ]
  },
  {
   "cell_type": "code",
   "execution_count": 64,
   "id": "3f4a653e",
   "metadata": {},
   "outputs": [],
   "source": [
    "ranked_collections = dict(\n",
    "    sorted(collection_rank.items(),\n",
    "           key=lambda item: item[1],\n",
    "           reverse=True))"
   ]
  },
  {
   "cell_type": "code",
   "execution_count": 65,
   "id": "bb3d9054",
   "metadata": {},
   "outputs": [
    {
     "data": {
      "text/plain": [
       "{'0xb47e3cd837ddf8e4c57f05d70ab865de6e193bbb': 146,\n",
       " '0xbc4ca0eda7647a8ab7c2061c2e118a18a936f13d': 139,\n",
       " '0x60e4d786628fea6478f785a6d7e704777c86a7c6': 133,\n",
       " '0x7bd29408f11d2bfc23c34f18275bbf23bb716bc7': 111,\n",
       " '0xba30e5f9bb24caa003e9f2f0497ad287fdf95623': 108,\n",
       " '0x49cf6f5d44e70224e2e23fdcdd2c053f30ada28b': 92,\n",
       " '0x8a90cab2b38dba80c64b7734e58ee1db38b8992e': 92,\n",
       " '0xed5af388653567af2f388e6224dc7c4b3241c544': 88,\n",
       " '0x42069abfe407c60cf4ae4112bedead391dba1cdb': 77,\n",
       " '0x059edd72cd353df5106d2b9cc5ab83a52287ac3a': 73,\n",
       " '0x1a92f7381b9f03921564a437210bb9396471050c': 73,\n",
       " '0x282bdd42f4eb70e7a9d9f40c8fea0825b7f68c5d': 70,\n",
       " '0x7d8820fa92eb1584636f4f5b8515b5476b75171a': 69,\n",
       " '0x5cc5b05a8a13e3fbdb0bb9fccd98d38e50f90c38': 58,\n",
       " '0x0a36f2178c0db2c85471c45334a1dd17d130fd42': 58,\n",
       " '0xaadc2d4261199ce24a4b0a57370c4fcf43bb60aa': 56,\n",
       " '0x79fcdef22feed20eddacbb2587640e45491b757f': 54,\n",
       " '0xccc441ac31f02cd96c153db6fd5fe0a2f4e6a68d': 53,\n",
       " '0xbc578ecca2115dac0c93c08674edc0c7d01fe09c': 50,\n",
       " '0x82c7a8f707110f5fbb16184a5933e9f78a34c6ab': 49,\n",
       " '0xd4e4078ca3495de5b1d4db434bebc5a986197782': 49,\n",
       " '0x509a050f573be0d5e01a73c3726e17161729558b': 48,\n",
       " '0x23581767a106ae21c074b2276d25e5c3e136a68b': 47,\n",
       " '0xa7d8d9ef8d8ce8992df33d8b8cf4aebabd5bd270': 47,\n",
       " '0x08d7c0242953446436f34b4c78fe9da38c73668d': 46,\n",
       " '0x59468516a8259058bad1ca5f8f4bff190d30e066': 44,\n",
       " '0xd1258db6ac08eb0e625b75b371c023da478e94a9': 43,\n",
       " '0xe8f88d16f24255fcfab25959705d724406d67d9d': 43,\n",
       " '0x6ffa9756ded18df772f18754c98c81b6fe76431d': 42,\n",
       " '0xc143bbfcdbdbed6d454803804752a064a622c1f3': 41,\n",
       " '0x2c3fc1d826bc12027d05fbe3aeace0a2453bf9fd': 41,\n",
       " '0x46ac8540d698167fcbb9e846511beb8cf8af9bd8': 41,\n",
       " '0x2a036569dbbe7730d69ed664b74412e49f43c2c0': 40,\n",
       " '0xff36ca1396d2a9016869274f1017d6c2139f495e': 40,\n",
       " '0x85885aded016ba8a88593338928c88d99316ace9': 40,\n",
       " '0xd45ea3d9426595f32a4b87f0225022d8d179526c': 39,\n",
       " '0x64ad353bc90a04361c4810ae7b3701f3beb48d7e': 38,\n",
       " '0x3273ae3fff2f5f83b899181d617c8bbd870f9b24': 38,\n",
       " '0xccf3baa603dfddd7c41619fdb8dd0306b11571fe': 37,\n",
       " '0xbd3531da5cf5857e7cfaa92426877b022e612cf8': 36,\n",
       " '0xe785e82358879f061bc3dcac6f0444462d4b5330': 36,\n",
       " '0x892848074ddea461a15f337250da3ce55580ca85': 36,\n",
       " '0xb7f7f6c52f2e2fdb1963eab30438024864c313f6': 36,\n",
       " '0x0c06601b50aa10dcdb9434e627f5f12c971301ff': 35,\n",
       " '0xb932a70a57673d89f4acffbe830e8ed7f75fb9e0': 34,\n",
       " '0xd2a077ec359d94e0a0b7e84435eacb40a67a817c': 34,\n",
       " '0x0cfb5d82be2b949e8fa73a656df91821e2ad99fd': 32,\n",
       " '0xe0176ba60efddb29cac5b15338c9962daee9de0c': 32,\n",
       " '0x80336ad7a747236ef41f47ed2c7641828a480baa': 31,\n",
       " '0x63f421b24cea6765b326753f6d4e558c21ea8f76': 31,\n",
       " '0x32d813d74836f2054a8820560a8b5604a2697360': 31,\n",
       " '0x27787755137863bb7f2387ed34942543c9f24efe': 30,\n",
       " '0xf07468ead8cf26c752c676e43c814fee9c8cf402': 30,\n",
       " '0xbd4455da5929d5639ee098abfaa3241e9ae111af': 29,\n",
       " '0x0b4b2ba334f476c8f41bfe52a428d6891755554d': 29,\n",
       " '0x1ccf997a9a93548e3b9dcdab159894fc0a80100a': 29,\n",
       " '0xc99c679c50033bbc5321eb88752e89a93e9e83c5': 28,\n",
       " '0x6fefb647395e680339badc84dc774e3ca8bca7b9': 28,\n",
       " '0x306b1ea3ecdf94ab739f1910bbda052ed4a9f949': 27,\n",
       " '0xe47e5dcde8e14e874d2711e786bb34ae6980bef8': 27,\n",
       " '0x4866f5e34ae43987b93a929152eb3b95902bb0ca': 26,\n",
       " '0xa3aee8bce55beea1951ef834b99f3ac60d1abeeb': 25,\n",
       " '0x364c828ee171616a39897688a831c2499ad972ec': 25,\n",
       " '0xeaa4c58427c184413b04db47889b28b5c98ebb7b': 25,\n",
       " '0x46fdfcb3cd89a1c54d36ee83a4adc184747b40d9': 24,\n",
       " '0x5b5cf41d9ec08d101ffeeeebda411677582c9448': 24,\n",
       " '0x438295b5082dc6a0cc50960e3513d5d7f23405c4': 23,\n",
       " '0x75e95ba5997eb235f40ecf8347cdb11f18ff640b': 22,\n",
       " '0x249aeaa7fa06a63ea5389b72217476db881294df': 22,\n",
       " '0x0b0585e9cf470c59b15914586fa54ed7a4467e3c': 22,\n",
       " '0xf729f878f95548bc7f14b127c96089cf121505f8': 21,\n",
       " '0xa5e97633d5626568fb1f45c45f2a4f3b793b264d': 21,\n",
       " '0x3d978e0b4fc54b419c4281320d7384a2ff93421f': 20,\n",
       " '0x3fd36d72f05fb1af76ee7ce9257ca850faba91ed': 19,\n",
       " '0xd0e7bc3f1efc5f098534bce73589835b8273b9a0': 19,\n",
       " '0x26badf693f2b103b021c670c852262b379bbbe8a': 18,\n",
       " '0x4a537f61ef574153664c0dbc8c8f4b900cacbe5d': 18,\n",
       " '0xd1169e5349d1cb9941f3dcba135c8a4b9eacfdde': 17,\n",
       " '0xe1af29ff354eb041a3c08ce9362d65e8364df5c1': 17,\n",
       " '0xc1c7fb277d9c75df7cd03327a1b39aadbfb545a3': 16,\n",
       " '0x3110ef5f612208724ca51f5761a69081809f03b7': 15,\n",
       " '0x123b30e25973fecd8354dd5f41cc45a3065ef88c': 15,\n",
       " '0xe0d1fa3fbd72db2ed179f80c0459b7da93fe4fe8': 14,\n",
       " '0xd0b67acc0e5918192b158c1647dad5782e6f4fb5': 14,\n",
       " '0x19b86299c21505cdf59ce63740b240a9c822b5e4': 13,\n",
       " '0x9b091d2e0bb88ace4fe8f0fab87b93d8ba932ec4': 13,\n",
       " '0x1fbfea2506ee4234d0dbf22b2b5a359068b58c43': 13,\n",
       " '0x36f4d96fe0d4eb33cdc2dc6c0bca15b9cdd0d648': 12,\n",
       " '0x09233d553058c2f42ba751c87816a8e9fae7ef10': 12,\n",
       " '0xacab8aa12b92afb6adcb598dc16f4e09b3fee732': 12,\n",
       " '0x3acdb27a3c9673338b27a31ca17f2fb76b79ef92': 11,\n",
       " '0x3702f4c46785bbd947d59a2516ac1ea30f2babf2': 10,\n",
       " '0xbf45d42c7ff2c5c148863ce65e492657e7c6d926': 10,\n",
       " '0x5af0d9827e0c53e4799bb226655a1de152a425a5': 9,\n",
       " '0x7ea3cca10668b8346aec0bf1844a49e995527c8b': 9,\n",
       " '0x250ff17091c3c8beddc32c6ce66f2e896c07acb7': 9,\n",
       " '0x3e7fc44e25c07be3d67c241e6e59cb838df2f892': 8,\n",
       " '0x4db1f25d3d98600140dfc18deb7515be5bd293af': 8,\n",
       " '0x32973908faee0bf825a343000fe412ebe56f802a': 8,\n",
       " '0x484e5155ae4b277cdb7f13a80ab3f627ff491149': 8,\n",
       " '0x8eaa9ae1ac89b1c8c8a8104d08c045f78aadb42d': 7,\n",
       " '0xd0318da435dbce0b347cc6faa330b5a9889e3585': 7,\n",
       " '0x3f95f48b99f864913f697ef6c45dbcde1beef2ae': 7,\n",
       " '0x2a48420d75777af4c99970c0ed3c25effd1c08be': 6,\n",
       " '0x64780ce53f6e966e18a22af13a2f97369580ec11': 6,\n",
       " '0xba72b008d53d3e65f6641e1d63376be2f9c1ad05': 5,\n",
       " '0x33eecbf908478c10614626a9d304bfe18b78dd73': 5,\n",
       " '0x11ca9693156929ee2e7e1470c5e1a55b413e9007': 4,\n",
       " '0x8a939fd297fab7388d6e6c634eee3c863626be57': 4,\n",
       " '0xf59afe732b2793d541780fd02945228db1fad8ed': 3,\n",
       " '0x6fc3ad6177b07227647ad6b4ae03cc476541a2a0': 3,\n",
       " '0x2cf6be9aac1c7630d5a23af88c28275c70eb8819': 2,\n",
       " '0xe37aa7c85a763da1c6d58285a465c2e5da84471b': 2,\n",
       " '0xc67b9897d793a823f0e9cf850aa1b0d23e3f8d09': 1,\n",
       " '0x11450058d796b02eb53e65374be59cff65d3fe7f': 1,\n",
       " '0x944a883089beb14754601d11ff9d02862d607c5c': 1}"
      ]
     },
     "execution_count": 65,
     "metadata": {},
     "output_type": "execute_result"
    }
   ],
   "source": [
    "ranked_collections"
   ]
  },
  {
   "cell_type": "markdown",
   "id": "0cedb44b",
   "metadata": {},
   "source": [
    "# NFT Purchase Stats\n",
    "1. The goal is to decide the time window for NFT event recommendation\n",
    "2. The data is aggregated at 5 mins intervals\n",
    "3. Personalizd ranking should be similar, though we illustrate with population ranked collections\n",
    "4. Personalized events adopt the same logic and just added to the same event candidate pool. That is all_collections should be replaced by most recent 10 collections."
   ]
  },
  {
   "cell_type": "code",
   "execution_count": 67,
   "id": "b2dd7dc8",
   "metadata": {},
   "outputs": [],
   "source": [
    "import math\n",
    "\n",
    "transfers = pd.read_csv(\n",
    "    '/Users/xin/coding/nft-recommendation/data_analysis/data/purchases.csv')\n",
    "\n",
    "# two months data to be consistent\n",
    "today = pd.to_datetime('2022-08-16')\n",
    "first_day = today - timedelta(days=60)\n",
    "transfers = transfers[\n",
    "    pd.to_datetime(transfers['date']) < today][\n",
    "    pd.to_datetime(transfers['date']) >= first_day\n",
    "]\n",
    "\n",
    "# all ranked collections from trending, popular, etc.\n",
    "all_collections = set(top_trending_collections).union(\n",
    "    set(top_kol_collections)).union(\n",
    "    set(top_popular_collections))\n",
    "\n",
    "# transfers preprocessing\n",
    "transfers = transfers[['transaction_hash',\n",
    "                       'timestamp',\n",
    "                       'nft_id',\n",
    "                       'collection_id',\n",
    "                       'buyer',\n",
    "                       'date',\n",
    "                       'price_in_eth']]\n",
    "transfers = transfers[transfers.collection_id.isin(\n",
    "    all_collections)]\n",
    "transfers['hour'] = transfers.apply(\n",
    "    lambda x: int(pd.to_datetime(x['timestamp']).hour),\n",
    "    axis=1)\n",
    "transfers['5min'] = transfers.apply(\n",
    "    lambda x: int(math.ceil(pd.to_datetime(x['timestamp']).minute / 5)),\n",
    "    axis=1)\n",
    "transfers.sort_values(by=['timestamp'], ascending=True, inplace=True)"
   ]
  },
  {
   "cell_type": "markdown",
   "id": "1ace62b8",
   "metadata": {},
   "source": [
    "###### 5min Transfer Stats"
   ]
  },
  {
   "cell_type": "code",
   "execution_count": 68,
   "id": "a871f2e2",
   "metadata": {},
   "outputs": [
    {
     "data": {
      "text/plain": [
       "<AxesSubplot:xlabel='date'>"
      ]
     },
     "execution_count": 68,
     "metadata": {},
     "output_type": "execute_result"
    },
    {
     "data": {
      "image/png": "[encoded data removed]",
      "text/plain": [
       "<Figure size 432x288 with 1 Axes>"
      ]
     },
     "metadata": {
      "needs_background": "light"
     },
     "output_type": "display_data"
    }
   ],
   "source": [
    "transfers_cnt_5min = transfers.groupby(\n",
    "    ['date', 'hour', '5min']).count().reset_index()\n",
    "transfers_cnt_5min.rename(\n",
    "    columns = {'price_in_eth':'5min_transfer_cnt'}, inplace = True)\n",
    "transfers_cnt_5min = transfers_cnt_5min[\n",
    "    ['date', '5min_transfer_cnt']]\n",
    "transfers_cnt_5min.plot(x='date', y='5min_transfer_cnt')"
   ]
  },
  {
   "cell_type": "code",
   "execution_count": 69,
   "id": "a1659213",
   "metadata": {},
   "outputs": [
    {
     "data": {
      "text/html": [
       "<div>\n",
       "<style scoped>\n",
       "    .dataframe tbody tr th:only-of-type {\n",
       "        vertical-align: middle;\n",
       "    }\n",
       "\n",
       "    .dataframe tbody tr th {\n",
       "        vertical-align: top;\n",
       "    }\n",
       "\n",
       "    .dataframe thead th {\n",
       "        text-align: right;\n",
       "    }\n",
       "</style>\n",
       "<table border=\"1\" class=\"dataframe\">\n",
       "  <thead>\n",
       "    <tr style=\"text-align: right;\">\n",
       "      <th></th>\n",
       "      <th>5min_transfer_cnt</th>\n",
       "    </tr>\n",
       "  </thead>\n",
       "  <tbody>\n",
       "    <tr>\n",
       "      <th>count</th>\n",
       "      <td>17211.000000</td>\n",
       "    </tr>\n",
       "    <tr>\n",
       "      <th>mean</th>\n",
       "      <td>4.839521</td>\n",
       "    </tr>\n",
       "    <tr>\n",
       "      <th>std</th>\n",
       "      <td>5.073434</td>\n",
       "    </tr>\n",
       "    <tr>\n",
       "      <th>min</th>\n",
       "      <td>1.000000</td>\n",
       "    </tr>\n",
       "    <tr>\n",
       "      <th>25%</th>\n",
       "      <td>2.000000</td>\n",
       "    </tr>\n",
       "    <tr>\n",
       "      <th>50%</th>\n",
       "      <td>4.000000</td>\n",
       "    </tr>\n",
       "    <tr>\n",
       "      <th>75%</th>\n",
       "      <td>6.000000</td>\n",
       "    </tr>\n",
       "    <tr>\n",
       "      <th>max</th>\n",
       "      <td>107.000000</td>\n",
       "    </tr>\n",
       "  </tbody>\n",
       "</table>\n",
       "</div>"
      ],
      "text/plain": [
       "       5min_transfer_cnt\n",
       "count       17211.000000\n",
       "mean            4.839521\n",
       "std             5.073434\n",
       "min             1.000000\n",
       "25%             2.000000\n",
       "50%             4.000000\n",
       "75%             6.000000\n",
       "max           107.000000"
      ]
     },
     "execution_count": 69,
     "metadata": {},
     "output_type": "execute_result"
    }
   ],
   "source": [
    "transfers_cnt_5min.describe()"
   ]
  },
  {
   "cell_type": "markdown",
   "id": "c018b70f",
   "metadata": {},
   "source": [
    "###### 10min Transfer Stats"
   ]
  },
  {
   "cell_type": "code",
   "execution_count": 70,
   "id": "0137dba0",
   "metadata": {},
   "outputs": [
    {
     "data": {
      "text/html": [
       "<div>\n",
       "<style scoped>\n",
       "    .dataframe tbody tr th:only-of-type {\n",
       "        vertical-align: middle;\n",
       "    }\n",
       "\n",
       "    .dataframe tbody tr th {\n",
       "        vertical-align: top;\n",
       "    }\n",
       "\n",
       "    .dataframe thead th {\n",
       "        text-align: right;\n",
       "    }\n",
       "</style>\n",
       "<table border=\"1\" class=\"dataframe\">\n",
       "  <thead>\n",
       "    <tr style=\"text-align: right;\">\n",
       "      <th></th>\n",
       "      <th>10min_transfer_cnt</th>\n",
       "    </tr>\n",
       "  </thead>\n",
       "  <tbody>\n",
       "    <tr>\n",
       "      <th>count</th>\n",
       "      <td>9340.000000</td>\n",
       "    </tr>\n",
       "    <tr>\n",
       "      <th>mean</th>\n",
       "      <td>8.917880</td>\n",
       "    </tr>\n",
       "    <tr>\n",
       "      <th>std</th>\n",
       "      <td>9.241174</td>\n",
       "    </tr>\n",
       "    <tr>\n",
       "      <th>min</th>\n",
       "      <td>1.000000</td>\n",
       "    </tr>\n",
       "    <tr>\n",
       "      <th>25%</th>\n",
       "      <td>4.000000</td>\n",
       "    </tr>\n",
       "    <tr>\n",
       "      <th>50%</th>\n",
       "      <td>7.000000</td>\n",
       "    </tr>\n",
       "    <tr>\n",
       "      <th>75%</th>\n",
       "      <td>11.000000</td>\n",
       "    </tr>\n",
       "    <tr>\n",
       "      <th>max</th>\n",
       "      <td>198.000000</td>\n",
       "    </tr>\n",
       "  </tbody>\n",
       "</table>\n",
       "</div>"
      ],
      "text/plain": [
       "       10min_transfer_cnt\n",
       "count         9340.000000\n",
       "mean             8.917880\n",
       "std              9.241174\n",
       "min              1.000000\n",
       "25%              4.000000\n",
       "50%              7.000000\n",
       "75%             11.000000\n",
       "max            198.000000"
      ]
     },
     "execution_count": 70,
     "metadata": {},
     "output_type": "execute_result"
    }
   ],
   "source": [
    "transfers['10min'] = transfers.apply(\n",
    "    lambda x: int(math.ceil(pd.to_datetime(x['timestamp']).minute / 10)),\n",
    "    axis=1)\n",
    "transfers_cnt_10min = transfers.groupby(\n",
    "    ['date', 'hour', '10min']).count().reset_index()\n",
    "transfers_cnt_10min.rename(\n",
    "    columns = {'price_in_eth':'10min_transfer_cnt'}, inplace = True)\n",
    "transfers_cnt_10min = transfers_cnt_10min[\n",
    "    ['date', '10min_transfer_cnt']]\n",
    "transfers_cnt_10min.describe()"
   ]
  },
  {
   "cell_type": "code",
   "execution_count": 71,
   "id": "836a1141",
   "metadata": {},
   "outputs": [
    {
     "data": {
      "text/plain": [
       "<AxesSubplot:xlabel='date'>"
      ]
     },
     "execution_count": 71,
     "metadata": {},
     "output_type": "execute_result"
    },
    {
     "data": {
      "image/png": "[encoded data removed]",
      "text/plain": [
       "<Figure size 432x288 with 1 Axes>"
      ]
     },
     "metadata": {
      "needs_background": "light"
     },
     "output_type": "display_data"
    }
   ],
   "source": [
    "transfers_cnt_10min.plot(x='date', y='10min_transfer_cnt')"
   ]
  },
  {
   "cell_type": "markdown",
   "id": "cf1bedcb",
   "metadata": {},
   "source": [
    "##### Hourly Transfer Stats"
   ]
  },
  {
   "cell_type": "code",
   "execution_count": 72,
   "id": "5920995f",
   "metadata": {},
   "outputs": [
    {
     "data": {
      "text/html": [
       "<div>\n",
       "<style scoped>\n",
       "    .dataframe tbody tr th:only-of-type {\n",
       "        vertical-align: middle;\n",
       "    }\n",
       "\n",
       "    .dataframe tbody tr th {\n",
       "        vertical-align: top;\n",
       "    }\n",
       "\n",
       "    .dataframe thead th {\n",
       "        text-align: right;\n",
       "    }\n",
       "</style>\n",
       "<table border=\"1\" class=\"dataframe\">\n",
       "  <thead>\n",
       "    <tr style=\"text-align: right;\">\n",
       "      <th></th>\n",
       "      <th>hourly_transfer_cnt</th>\n",
       "    </tr>\n",
       "  </thead>\n",
       "  <tbody>\n",
       "    <tr>\n",
       "      <th>count</th>\n",
       "      <td>1440.000000</td>\n",
       "    </tr>\n",
       "    <tr>\n",
       "      <th>mean</th>\n",
       "      <td>57.842361</td>\n",
       "    </tr>\n",
       "    <tr>\n",
       "      <th>std</th>\n",
       "      <td>46.961898</td>\n",
       "    </tr>\n",
       "    <tr>\n",
       "      <th>min</th>\n",
       "      <td>14.000000</td>\n",
       "    </tr>\n",
       "    <tr>\n",
       "      <th>25%</th>\n",
       "      <td>36.000000</td>\n",
       "    </tr>\n",
       "    <tr>\n",
       "      <th>50%</th>\n",
       "      <td>48.000000</td>\n",
       "    </tr>\n",
       "    <tr>\n",
       "      <th>75%</th>\n",
       "      <td>65.000000</td>\n",
       "    </tr>\n",
       "    <tr>\n",
       "      <th>max</th>\n",
       "      <td>736.000000</td>\n",
       "    </tr>\n",
       "  </tbody>\n",
       "</table>\n",
       "</div>"
      ],
      "text/plain": [
       "       hourly_transfer_cnt\n",
       "count          1440.000000\n",
       "mean             57.842361\n",
       "std              46.961898\n",
       "min              14.000000\n",
       "25%              36.000000\n",
       "50%              48.000000\n",
       "75%              65.000000\n",
       "max             736.000000"
      ]
     },
     "execution_count": 72,
     "metadata": {},
     "output_type": "execute_result"
    }
   ],
   "source": [
    "transfers_cnt_hourly = transfers.groupby(\n",
    "    ['date', 'hour']).count().reset_index()\n",
    "transfers_cnt_hourly.rename(\n",
    "    columns = {'price_in_eth':'hourly_transfer_cnt'}, inplace = True)\n",
    "transfers_cnt_hourly = transfers_cnt_hourly[\n",
    "    ['date', 'hourly_transfer_cnt']]\n",
    "transfers_cnt_hourly.describe()"
   ]
  },
  {
   "cell_type": "code",
   "execution_count": 73,
   "id": "34d53dd0",
   "metadata": {},
   "outputs": [
    {
     "data": {
      "text/plain": [
       "<AxesSubplot:xlabel='date'>"
      ]
     },
     "execution_count": 73,
     "metadata": {},
     "output_type": "execute_result"
    },
    {
     "data": {
      "image/png": "[encoded data removed]",
      "text/plain": [
       "<Figure size 432x288 with 1 Axes>"
      ]
     },
     "metadata": {
      "needs_background": "light"
     },
     "output_type": "display_data"
    }
   ],
   "source": [
    "transfers_cnt_hourly.plot(x='date', y='hourly_transfer_cnt')"
   ]
  },
  {
   "cell_type": "markdown",
   "id": "f636a731",
   "metadata": {},
   "source": [
    "##### Daily Transfer Stats"
   ]
  },
  {
   "cell_type": "code",
   "execution_count": 74,
   "id": "b3fec528",
   "metadata": {},
   "outputs": [
    {
     "data": {
      "text/html": [
       "<div>\n",
       "<style scoped>\n",
       "    .dataframe tbody tr th:only-of-type {\n",
       "        vertical-align: middle;\n",
       "    }\n",
       "\n",
       "    .dataframe tbody tr th {\n",
       "        vertical-align: top;\n",
       "    }\n",
       "\n",
       "    .dataframe thead th {\n",
       "        text-align: right;\n",
       "    }\n",
       "</style>\n",
       "<table border=\"1\" class=\"dataframe\">\n",
       "  <thead>\n",
       "    <tr style=\"text-align: right;\">\n",
       "      <th></th>\n",
       "      <th>daily_transfer_cnt</th>\n",
       "    </tr>\n",
       "  </thead>\n",
       "  <tbody>\n",
       "    <tr>\n",
       "      <th>count</th>\n",
       "      <td>60.000000</td>\n",
       "    </tr>\n",
       "    <tr>\n",
       "      <th>mean</th>\n",
       "      <td>1388.216667</td>\n",
       "    </tr>\n",
       "    <tr>\n",
       "      <th>std</th>\n",
       "      <td>451.427720</td>\n",
       "    </tr>\n",
       "    <tr>\n",
       "      <th>min</th>\n",
       "      <td>742.000000</td>\n",
       "    </tr>\n",
       "    <tr>\n",
       "      <th>25%</th>\n",
       "      <td>1097.250000</td>\n",
       "    </tr>\n",
       "    <tr>\n",
       "      <th>50%</th>\n",
       "      <td>1272.000000</td>\n",
       "    </tr>\n",
       "    <tr>\n",
       "      <th>75%</th>\n",
       "      <td>1503.500000</td>\n",
       "    </tr>\n",
       "    <tr>\n",
       "      <th>max</th>\n",
       "      <td>2515.000000</td>\n",
       "    </tr>\n",
       "  </tbody>\n",
       "</table>\n",
       "</div>"
      ],
      "text/plain": [
       "       daily_transfer_cnt\n",
       "count           60.000000\n",
       "mean          1388.216667\n",
       "std            451.427720\n",
       "min            742.000000\n",
       "25%           1097.250000\n",
       "50%           1272.000000\n",
       "75%           1503.500000\n",
       "max           2515.000000"
      ]
     },
     "execution_count": 74,
     "metadata": {},
     "output_type": "execute_result"
    }
   ],
   "source": [
    "transfers_cnt_daily = transfers.groupby(\n",
    "    ['date']).count().reset_index()\n",
    "transfers_cnt_daily.rename(\n",
    "    columns = {'price_in_eth':'daily_transfer_cnt'}, inplace = True)\n",
    "transfers_cnt_daily = transfers_cnt_daily[\n",
    "    ['date', 'daily_transfer_cnt']]\n",
    "transfers_cnt_daily.describe()"
   ]
  },
  {
   "cell_type": "code",
   "execution_count": 75,
   "id": "9931365a",
   "metadata": {},
   "outputs": [
    {
     "data": {
      "text/plain": [
       "<AxesSubplot:xlabel='date'>"
      ]
     },
     "execution_count": 75,
     "metadata": {},
     "output_type": "execute_result"
    },
    {
     "data": {
      "image/png": "[encoded data removed]",
      "text/plain": [
       "<Figure size 432x288 with 1 Axes>"
      ]
     },
     "metadata": {
      "needs_background": "light"
     },
     "output_type": "display_data"
    }
   ],
   "source": [
    "transfers_cnt_daily.plot(x='date', y='daily_transfer_cnt')"
   ]
  },
  {
   "cell_type": "markdown",
   "id": "e7d26872",
   "metadata": {},
   "source": [
    "# Event Ranking\n",
    "1. For the first version, we only focus on daily transfers\n",
    "2. For the daily transfers, the avg is 1388 while max is 2515\n",
    "3. The problem for event ranking is then narrowed to rank these events\n",
    "4. Later, we can think of how to carry over historical event to today's\n",
    "5. In production, we should add 5 mins or 10 mins events to the daily event queue before ranking. That is, the ranking logic is run every 5 or 10 mins\n",
    "6. This would require the daily feeds being updated every 5 or 10 mins"
   ]
  },
  {
   "cell_type": "markdown",
   "id": "e0f5f80f",
   "metadata": {},
   "source": [
    "### Get One Day Events"
   ]
  },
  {
   "cell_type": "code",
   "execution_count": 95,
   "id": "dad6d95a",
   "metadata": {},
   "outputs": [
    {
     "name": "stdout",
     "output_type": "stream",
     "text": [
      "CPU times: user 3min 10s, sys: 1min 18s, total: 4min 28s\n",
      "Wall time: 7min 4s\n"
     ]
    }
   ],
   "source": [
    "%%time\n",
    "transfers = pd.read_csv(\n",
    "    '/Users/xin/coding/nft-recommendation/data_analysis/data/tagged_events.csv')"
   ]
  },
  {
   "cell_type": "code",
   "execution_count": 97,
   "id": "ede7728d",
   "metadata": {},
   "outputs": [
    {
     "name": "stdout",
     "output_type": "stream",
     "text": [
      "CPU times: user 6.83 s, sys: 449 ms, total: 7.28 s\n",
      "Wall time: 8.65 s\n"
     ]
    }
   ],
   "source": [
    "%%time\n",
    "# one day data for ranking\n",
    "cur_dt = '2022-08-14'\n",
    "daily_events = transfers[transfers['date'] == cur_dt]\n",
    "import pandas as pd\n",
    "daily_events.to_csv(\n",
    "    '/Users/xin/coding/nft-recommendation/data_analysis/data/daily_events=2022-08-14.csv')"
   ]
  },
  {
   "cell_type": "code",
   "execution_count": 105,
   "id": "6ab8cb66",
   "metadata": {},
   "outputs": [],
   "source": [
    "# release memory\n",
    "df_to_delete = [transfers]\n",
    "del df_to_delete"
   ]
  },
  {
   "cell_type": "markdown",
   "id": "86a68915",
   "metadata": {},
   "source": [
    "### Filter by Top Collections"
   ]
  },
  {
   "cell_type": "code",
   "execution_count": 98,
   "id": "415bfd91",
   "metadata": {},
   "outputs": [
    {
     "name": "stdout",
     "output_type": "stream",
     "text": [
      "CPU times: user 1.52 s, sys: 258 ms, total: 1.78 s\n",
      "Wall time: 2.14 s\n"
     ]
    }
   ],
   "source": [
    "%%time\n",
    "import pandas as pd\n",
    "daily_events = pd.read_csv(\n",
    "    '/Users/xin/coding/nft-recommendation/data_analysis/data/daily_events=2022-08-14.csv')"
   ]
  },
  {
   "cell_type": "code",
   "execution_count": 99,
   "id": "2f4c1fcc",
   "metadata": {},
   "outputs": [],
   "source": [
    "daily_events = daily_events[[\n",
    "    'transaction_hash', 'timestamp', 'date', 'collection_id',\n",
    "    'nft_id', 'buyer', 'price_in_eth', 'type']]"
   ]
  },
  {
   "cell_type": "code",
   "execution_count": 100,
   "id": "ad4cd7de",
   "metadata": {},
   "outputs": [],
   "source": [
    "top_collections = {'0xb47e3cd837ddf8e4c57f05d70ab865de6e193bbb': 146,\n",
    " '0xbc4ca0eda7647a8ab7c2061c2e118a18a936f13d': 139,\n",
    " '0x60e4d786628fea6478f785a6d7e704777c86a7c6': 133,\n",
    " '0x7bd29408f11d2bfc23c34f18275bbf23bb716bc7': 111,\n",
    " '0xba30e5f9bb24caa003e9f2f0497ad287fdf95623': 108,\n",
    " '0x49cf6f5d44e70224e2e23fdcdd2c053f30ada28b': 92,\n",
    " '0x8a90cab2b38dba80c64b7734e58ee1db38b8992e': 92,\n",
    " '0xed5af388653567af2f388e6224dc7c4b3241c544': 88,\n",
    " '0x42069abfe407c60cf4ae4112bedead391dba1cdb': 77,\n",
    " '0x059edd72cd353df5106d2b9cc5ab83a52287ac3a': 73,\n",
    " '0x1a92f7381b9f03921564a437210bb9396471050c': 73,\n",
    " '0x282bdd42f4eb70e7a9d9f40c8fea0825b7f68c5d': 70,\n",
    " '0x7d8820fa92eb1584636f4f5b8515b5476b75171a': 69,\n",
    " '0x5cc5b05a8a13e3fbdb0bb9fccd98d38e50f90c38': 58,\n",
    " '0x0a36f2178c0db2c85471c45334a1dd17d130fd42': 58,\n",
    " '0xaadc2d4261199ce24a4b0a57370c4fcf43bb60aa': 56,\n",
    " '0x79fcdef22feed20eddacbb2587640e45491b757f': 54,\n",
    " '0xccc441ac31f02cd96c153db6fd5fe0a2f4e6a68d': 53,\n",
    " '0xbc578ecca2115dac0c93c08674edc0c7d01fe09c': 50,\n",
    " '0x82c7a8f707110f5fbb16184a5933e9f78a34c6ab': 49,\n",
    " '0xd4e4078ca3495de5b1d4db434bebc5a986197782': 49,\n",
    " '0x509a050f573be0d5e01a73c3726e17161729558b': 48,\n",
    " '0x23581767a106ae21c074b2276d25e5c3e136a68b': 47,\n",
    " '0xa7d8d9ef8d8ce8992df33d8b8cf4aebabd5bd270': 47,\n",
    " '0x08d7c0242953446436f34b4c78fe9da38c73668d': 46,\n",
    " '0x59468516a8259058bad1ca5f8f4bff190d30e066': 44,\n",
    " '0xd1258db6ac08eb0e625b75b371c023da478e94a9': 43,\n",
    " '0xe8f88d16f24255fcfab25959705d724406d67d9d': 43,\n",
    " '0x6ffa9756ded18df772f18754c98c81b6fe76431d': 42,\n",
    " '0xc143bbfcdbdbed6d454803804752a064a622c1f3': 41,\n",
    " '0x2c3fc1d826bc12027d05fbe3aeace0a2453bf9fd': 41,\n",
    " '0x46ac8540d698167fcbb9e846511beb8cf8af9bd8': 41,\n",
    " '0x2a036569dbbe7730d69ed664b74412e49f43c2c0': 40,\n",
    " '0xff36ca1396d2a9016869274f1017d6c2139f495e': 40,\n",
    " '0x85885aded016ba8a88593338928c88d99316ace9': 40,\n",
    " '0xd45ea3d9426595f32a4b87f0225022d8d179526c': 39,\n",
    " '0x64ad353bc90a04361c4810ae7b3701f3beb48d7e': 38,\n",
    " '0x3273ae3fff2f5f83b899181d617c8bbd870f9b24': 38,\n",
    " '0xccf3baa603dfddd7c41619fdb8dd0306b11571fe': 37,\n",
    " '0xbd3531da5cf5857e7cfaa92426877b022e612cf8': 36,\n",
    " '0xe785e82358879f061bc3dcac6f0444462d4b5330': 36,\n",
    " '0x892848074ddea461a15f337250da3ce55580ca85': 36,\n",
    " '0xb7f7f6c52f2e2fdb1963eab30438024864c313f6': 36,\n",
    " '0x0c06601b50aa10dcdb9434e627f5f12c971301ff': 35,\n",
    " '0xb932a70a57673d89f4acffbe830e8ed7f75fb9e0': 34,\n",
    " '0xd2a077ec359d94e0a0b7e84435eacb40a67a817c': 34,\n",
    " '0x0cfb5d82be2b949e8fa73a656df91821e2ad99fd': 32,\n",
    " '0xe0176ba60efddb29cac5b15338c9962daee9de0c': 32,\n",
    " '0x80336ad7a747236ef41f47ed2c7641828a480baa': 31,\n",
    " '0x63f421b24cea6765b326753f6d4e558c21ea8f76': 31,\n",
    " '0x32d813d74836f2054a8820560a8b5604a2697360': 31,\n",
    " '0x27787755137863bb7f2387ed34942543c9f24efe': 30,\n",
    " '0xf07468ead8cf26c752c676e43c814fee9c8cf402': 30,\n",
    " '0xbd4455da5929d5639ee098abfaa3241e9ae111af': 29,\n",
    " '0x0b4b2ba334f476c8f41bfe52a428d6891755554d': 29,\n",
    " '0x1ccf997a9a93548e3b9dcdab159894fc0a80100a': 29,\n",
    " '0xc99c679c50033bbc5321eb88752e89a93e9e83c5': 28,\n",
    " '0x6fefb647395e680339badc84dc774e3ca8bca7b9': 28,\n",
    " '0x306b1ea3ecdf94ab739f1910bbda052ed4a9f949': 27,\n",
    " '0xe47e5dcde8e14e874d2711e786bb34ae6980bef8': 27,\n",
    " '0x4866f5e34ae43987b93a929152eb3b95902bb0ca': 26,\n",
    " '0xa3aee8bce55beea1951ef834b99f3ac60d1abeeb': 25,\n",
    " '0x364c828ee171616a39897688a831c2499ad972ec': 25,\n",
    " '0xeaa4c58427c184413b04db47889b28b5c98ebb7b': 25,\n",
    " '0x46fdfcb3cd89a1c54d36ee83a4adc184747b40d9': 24,\n",
    " '0x5b5cf41d9ec08d101ffeeeebda411677582c9448': 24,\n",
    " '0x438295b5082dc6a0cc50960e3513d5d7f23405c4': 23,\n",
    " '0x75e95ba5997eb235f40ecf8347cdb11f18ff640b': 22,\n",
    " '0x249aeaa7fa06a63ea5389b72217476db881294df': 22,\n",
    " '0x0b0585e9cf470c59b15914586fa54ed7a4467e3c': 22,\n",
    " '0xf729f878f95548bc7f14b127c96089cf121505f8': 21,\n",
    " '0xa5e97633d5626568fb1f45c45f2a4f3b793b264d': 21,\n",
    " '0x3d978e0b4fc54b419c4281320d7384a2ff93421f': 20,\n",
    " '0x3fd36d72f05fb1af76ee7ce9257ca850faba91ed': 19,\n",
    " '0xd0e7bc3f1efc5f098534bce73589835b8273b9a0': 19,\n",
    " '0x26badf693f2b103b021c670c852262b379bbbe8a': 18,\n",
    " '0x4a537f61ef574153664c0dbc8c8f4b900cacbe5d': 18,\n",
    " '0xd1169e5349d1cb9941f3dcba135c8a4b9eacfdde': 17,\n",
    " '0xe1af29ff354eb041a3c08ce9362d65e8364df5c1': 17,\n",
    " '0xc1c7fb277d9c75df7cd03327a1b39aadbfb545a3': 16,\n",
    " '0x3110ef5f612208724ca51f5761a69081809f03b7': 15,\n",
    " '0x123b30e25973fecd8354dd5f41cc45a3065ef88c': 15,\n",
    " '0xe0d1fa3fbd72db2ed179f80c0459b7da93fe4fe8': 14,\n",
    " '0xd0b67acc0e5918192b158c1647dad5782e6f4fb5': 14,\n",
    " '0x19b86299c21505cdf59ce63740b240a9c822b5e4': 13,\n",
    " '0x9b091d2e0bb88ace4fe8f0fab87b93d8ba932ec4': 13,\n",
    " '0x1fbfea2506ee4234d0dbf22b2b5a359068b58c43': 13,\n",
    " '0x36f4d96fe0d4eb33cdc2dc6c0bca15b9cdd0d648': 12,\n",
    " '0x09233d553058c2f42ba751c87816a8e9fae7ef10': 12,\n",
    " '0xacab8aa12b92afb6adcb598dc16f4e09b3fee732': 12,\n",
    " '0x3acdb27a3c9673338b27a31ca17f2fb76b79ef92': 11,\n",
    " '0x3702f4c46785bbd947d59a2516ac1ea30f2babf2': 10,\n",
    " '0xbf45d42c7ff2c5c148863ce65e492657e7c6d926': 10,\n",
    " '0x5af0d9827e0c53e4799bb226655a1de152a425a5': 9,\n",
    " '0x7ea3cca10668b8346aec0bf1844a49e995527c8b': 9,\n",
    " '0x250ff17091c3c8beddc32c6ce66f2e896c07acb7': 9,\n",
    " '0x3e7fc44e25c07be3d67c241e6e59cb838df2f892': 8,\n",
    " '0x4db1f25d3d98600140dfc18deb7515be5bd293af': 8,\n",
    " '0x32973908faee0bf825a343000fe412ebe56f802a': 8,\n",
    " '0x484e5155ae4b277cdb7f13a80ab3f627ff491149': 8,\n",
    " '0x8eaa9ae1ac89b1c8c8a8104d08c045f78aadb42d': 7,\n",
    " '0xd0318da435dbce0b347cc6faa330b5a9889e3585': 7,\n",
    " '0x3f95f48b99f864913f697ef6c45dbcde1beef2ae': 7,\n",
    " '0x2a48420d75777af4c99970c0ed3c25effd1c08be': 6,\n",
    " '0x64780ce53f6e966e18a22af13a2f97369580ec11': 6,\n",
    " '0xba72b008d53d3e65f6641e1d63376be2f9c1ad05': 5,\n",
    " '0x33eecbf908478c10614626a9d304bfe18b78dd73': 5,\n",
    " '0x11ca9693156929ee2e7e1470c5e1a55b413e9007': 4,\n",
    " '0x8a939fd297fab7388d6e6c634eee3c863626be57': 4,\n",
    " '0xf59afe732b2793d541780fd02945228db1fad8ed': 3,\n",
    " '0x6fc3ad6177b07227647ad6b4ae03cc476541a2a0': 3,\n",
    " '0x2cf6be9aac1c7630d5a23af88c28275c70eb8819': 2,\n",
    " '0xe37aa7c85a763da1c6d58285a465c2e5da84471b': 2,\n",
    " '0xc67b9897d793a823f0e9cf850aa1b0d23e3f8d09': 1,\n",
    " '0x11450058d796b02eb53e65374be59cff65d3fe7f': 1,\n",
    " '0x944a883089beb14754601d11ff9d02862d607c5c': 1}\n",
    "top_collections_set = set(top_collections.keys())"
   ]
  },
  {
   "cell_type": "code",
   "execution_count": 101,
   "id": "2e42c761",
   "metadata": {},
   "outputs": [
    {
     "data": {
      "text/plain": [
       "{'0x059edd72cd353df5106d2b9cc5ab83a52287ac3a',\n",
       " '0x08d7c0242953446436f34b4c78fe9da38c73668d',\n",
       " '0x09233d553058c2f42ba751c87816a8e9fae7ef10',\n",
       " '0x0a36f2178c0db2c85471c45334a1dd17d130fd42',\n",
       " '0x0b0585e9cf470c59b15914586fa54ed7a4467e3c',\n",
       " '0x0b4b2ba334f476c8f41bfe52a428d6891755554d',\n",
       " '0x0c06601b50aa10dcdb9434e627f5f12c971301ff',\n",
       " '0x0cfb5d82be2b949e8fa73a656df91821e2ad99fd',\n",
       " '0x11450058d796b02eb53e65374be59cff65d3fe7f',\n",
       " '0x11ca9693156929ee2e7e1470c5e1a55b413e9007',\n",
       " '0x123b30e25973fecd8354dd5f41cc45a3065ef88c',\n",
       " '0x19b86299c21505cdf59ce63740b240a9c822b5e4',\n",
       " '0x1a92f7381b9f03921564a437210bb9396471050c',\n",
       " '0x1ccf997a9a93548e3b9dcdab159894fc0a80100a',\n",
       " '0x1fbfea2506ee4234d0dbf22b2b5a359068b58c43',\n",
       " '0x23581767a106ae21c074b2276d25e5c3e136a68b',\n",
       " '0x249aeaa7fa06a63ea5389b72217476db881294df',\n",
       " '0x250ff17091c3c8beddc32c6ce66f2e896c07acb7',\n",
       " '0x26badf693f2b103b021c670c852262b379bbbe8a',\n",
       " '0x27787755137863bb7f2387ed34942543c9f24efe',\n",
       " '0x282bdd42f4eb70e7a9d9f40c8fea0825b7f68c5d',\n",
       " '0x2a036569dbbe7730d69ed664b74412e49f43c2c0',\n",
       " '0x2a48420d75777af4c99970c0ed3c25effd1c08be',\n",
       " '0x2c3fc1d826bc12027d05fbe3aeace0a2453bf9fd',\n",
       " '0x2cf6be9aac1c7630d5a23af88c28275c70eb8819',\n",
       " '0x306b1ea3ecdf94ab739f1910bbda052ed4a9f949',\n",
       " '0x3110ef5f612208724ca51f5761a69081809f03b7',\n",
       " '0x3273ae3fff2f5f83b899181d617c8bbd870f9b24',\n",
       " '0x32973908faee0bf825a343000fe412ebe56f802a',\n",
       " '0x32d813d74836f2054a8820560a8b5604a2697360',\n",
       " '0x33eecbf908478c10614626a9d304bfe18b78dd73',\n",
       " '0x364c828ee171616a39897688a831c2499ad972ec',\n",
       " '0x36f4d96fe0d4eb33cdc2dc6c0bca15b9cdd0d648',\n",
       " '0x3702f4c46785bbd947d59a2516ac1ea30f2babf2',\n",
       " '0x3acdb27a3c9673338b27a31ca17f2fb76b79ef92',\n",
       " '0x3d978e0b4fc54b419c4281320d7384a2ff93421f',\n",
       " '0x3e7fc44e25c07be3d67c241e6e59cb838df2f892',\n",
       " '0x3f95f48b99f864913f697ef6c45dbcde1beef2ae',\n",
       " '0x3fd36d72f05fb1af76ee7ce9257ca850faba91ed',\n",
       " '0x42069abfe407c60cf4ae4112bedead391dba1cdb',\n",
       " '0x438295b5082dc6a0cc50960e3513d5d7f23405c4',\n",
       " '0x46ac8540d698167fcbb9e846511beb8cf8af9bd8',\n",
       " '0x46fdfcb3cd89a1c54d36ee83a4adc184747b40d9',\n",
       " '0x484e5155ae4b277cdb7f13a80ab3f627ff491149',\n",
       " '0x4866f5e34ae43987b93a929152eb3b95902bb0ca',\n",
       " '0x49cf6f5d44e70224e2e23fdcdd2c053f30ada28b',\n",
       " '0x4a537f61ef574153664c0dbc8c8f4b900cacbe5d',\n",
       " '0x4db1f25d3d98600140dfc18deb7515be5bd293af',\n",
       " '0x509a050f573be0d5e01a73c3726e17161729558b',\n",
       " '0x59468516a8259058bad1ca5f8f4bff190d30e066',\n",
       " '0x5af0d9827e0c53e4799bb226655a1de152a425a5',\n",
       " '0x5b5cf41d9ec08d101ffeeeebda411677582c9448',\n",
       " '0x5cc5b05a8a13e3fbdb0bb9fccd98d38e50f90c38',\n",
       " '0x60e4d786628fea6478f785a6d7e704777c86a7c6',\n",
       " '0x63f421b24cea6765b326753f6d4e558c21ea8f76',\n",
       " '0x64780ce53f6e966e18a22af13a2f97369580ec11',\n",
       " '0x64ad353bc90a04361c4810ae7b3701f3beb48d7e',\n",
       " '0x6fc3ad6177b07227647ad6b4ae03cc476541a2a0',\n",
       " '0x6fefb647395e680339badc84dc774e3ca8bca7b9',\n",
       " '0x6ffa9756ded18df772f18754c98c81b6fe76431d',\n",
       " '0x75e95ba5997eb235f40ecf8347cdb11f18ff640b',\n",
       " '0x79fcdef22feed20eddacbb2587640e45491b757f',\n",
       " '0x7bd29408f11d2bfc23c34f18275bbf23bb716bc7',\n",
       " '0x7d8820fa92eb1584636f4f5b8515b5476b75171a',\n",
       " '0x7ea3cca10668b8346aec0bf1844a49e995527c8b',\n",
       " '0x80336ad7a747236ef41f47ed2c7641828a480baa',\n",
       " '0x82c7a8f707110f5fbb16184a5933e9f78a34c6ab',\n",
       " '0x85885aded016ba8a88593338928c88d99316ace9',\n",
       " '0x892848074ddea461a15f337250da3ce55580ca85',\n",
       " '0x8a90cab2b38dba80c64b7734e58ee1db38b8992e',\n",
       " '0x8a939fd297fab7388d6e6c634eee3c863626be57',\n",
       " '0x8eaa9ae1ac89b1c8c8a8104d08c045f78aadb42d',\n",
       " '0x944a883089beb14754601d11ff9d02862d607c5c',\n",
       " '0x9b091d2e0bb88ace4fe8f0fab87b93d8ba932ec4',\n",
       " '0xa3aee8bce55beea1951ef834b99f3ac60d1abeeb',\n",
       " '0xa5e97633d5626568fb1f45c45f2a4f3b793b264d',\n",
       " '0xa7d8d9ef8d8ce8992df33d8b8cf4aebabd5bd270',\n",
       " '0xaadc2d4261199ce24a4b0a57370c4fcf43bb60aa',\n",
       " '0xacab8aa12b92afb6adcb598dc16f4e09b3fee732',\n",
       " '0xb47e3cd837ddf8e4c57f05d70ab865de6e193bbb',\n",
       " '0xb7f7f6c52f2e2fdb1963eab30438024864c313f6',\n",
       " '0xb932a70a57673d89f4acffbe830e8ed7f75fb9e0',\n",
       " '0xba30e5f9bb24caa003e9f2f0497ad287fdf95623',\n",
       " '0xba72b008d53d3e65f6641e1d63376be2f9c1ad05',\n",
       " '0xbc4ca0eda7647a8ab7c2061c2e118a18a936f13d',\n",
       " '0xbc578ecca2115dac0c93c08674edc0c7d01fe09c',\n",
       " '0xbd3531da5cf5857e7cfaa92426877b022e612cf8',\n",
       " '0xbd4455da5929d5639ee098abfaa3241e9ae111af',\n",
       " '0xbf45d42c7ff2c5c148863ce65e492657e7c6d926',\n",
       " '0xc143bbfcdbdbed6d454803804752a064a622c1f3',\n",
       " '0xc1c7fb277d9c75df7cd03327a1b39aadbfb545a3',\n",
       " '0xc67b9897d793a823f0e9cf850aa1b0d23e3f8d09',\n",
       " '0xc99c679c50033bbc5321eb88752e89a93e9e83c5',\n",
       " '0xccc441ac31f02cd96c153db6fd5fe0a2f4e6a68d',\n",
       " '0xccf3baa603dfddd7c41619fdb8dd0306b11571fe',\n",
       " '0xd0318da435dbce0b347cc6faa330b5a9889e3585',\n",
       " '0xd0b67acc0e5918192b158c1647dad5782e6f4fb5',\n",
       " '0xd0e7bc3f1efc5f098534bce73589835b8273b9a0',\n",
       " '0xd1169e5349d1cb9941f3dcba135c8a4b9eacfdde',\n",
       " '0xd1258db6ac08eb0e625b75b371c023da478e94a9',\n",
       " '0xd2a077ec359d94e0a0b7e84435eacb40a67a817c',\n",
       " '0xd45ea3d9426595f32a4b87f0225022d8d179526c',\n",
       " '0xd4e4078ca3495de5b1d4db434bebc5a986197782',\n",
       " '0xe0176ba60efddb29cac5b15338c9962daee9de0c',\n",
       " '0xe0d1fa3fbd72db2ed179f80c0459b7da93fe4fe8',\n",
       " '0xe1af29ff354eb041a3c08ce9362d65e8364df5c1',\n",
       " '0xe37aa7c85a763da1c6d58285a465c2e5da84471b',\n",
       " '0xe47e5dcde8e14e874d2711e786bb34ae6980bef8',\n",
       " '0xe785e82358879f061bc3dcac6f0444462d4b5330',\n",
       " '0xe8f88d16f24255fcfab25959705d724406d67d9d',\n",
       " '0xeaa4c58427c184413b04db47889b28b5c98ebb7b',\n",
       " '0xed5af388653567af2f388e6224dc7c4b3241c544',\n",
       " '0xf07468ead8cf26c752c676e43c814fee9c8cf402',\n",
       " '0xf59afe732b2793d541780fd02945228db1fad8ed',\n",
       " '0xf729f878f95548bc7f14b127c96089cf121505f8',\n",
       " '0xff36ca1396d2a9016869274f1017d6c2139f495e'}"
      ]
     },
     "execution_count": 101,
     "metadata": {},
     "output_type": "execute_result"
    }
   ],
   "source": [
    "top_collections_set"
   ]
  },
  {
   "cell_type": "code",
   "execution_count": 102,
   "id": "491610a9",
   "metadata": {},
   "outputs": [],
   "source": [
    "daily_events = daily_events[daily_events.collection_id.isin(\n",
    "    top_collections_set)]"
   ]
  },
  {
   "cell_type": "code",
   "execution_count": 103,
   "id": "2d378f65",
   "metadata": {},
   "outputs": [
    {
     "data": {
      "text/plain": [
       "3864"
      ]
     },
     "execution_count": 103,
     "metadata": {},
     "output_type": "execute_result"
    }
   ],
   "source": [
    "len(daily_events)"
   ]
  },
  {
   "cell_type": "code",
   "execution_count": 104,
   "id": "502136bc",
   "metadata": {},
   "outputs": [
    {
     "data": {
      "text/html": [
       "<div>\n",
       "<style scoped>\n",
       "    .dataframe tbody tr th:only-of-type {\n",
       "        vertical-align: middle;\n",
       "    }\n",
       "\n",
       "    .dataframe tbody tr th {\n",
       "        vertical-align: top;\n",
       "    }\n",
       "\n",
       "    .dataframe thead th {\n",
       "        text-align: right;\n",
       "    }\n",
       "</style>\n",
       "<table border=\"1\" class=\"dataframe\">\n",
       "  <thead>\n",
       "    <tr style=\"text-align: right;\">\n",
       "      <th></th>\n",
       "      <th>collection_id</th>\n",
       "      <th>rank</th>\n",
       "    </tr>\n",
       "  </thead>\n",
       "  <tbody>\n",
       "    <tr>\n",
       "      <th>0</th>\n",
       "      <td>0xb47e3cd837ddf8e4c57f05d70ab865de6e193bbb</td>\n",
       "      <td>146</td>\n",
       "    </tr>\n",
       "    <tr>\n",
       "      <th>1</th>\n",
       "      <td>0xbc4ca0eda7647a8ab7c2061c2e118a18a936f13d</td>\n",
       "      <td>139</td>\n",
       "    </tr>\n",
       "    <tr>\n",
       "      <th>2</th>\n",
       "      <td>0x60e4d786628fea6478f785a6d7e704777c86a7c6</td>\n",
       "      <td>133</td>\n",
       "    </tr>\n",
       "    <tr>\n",
       "      <th>3</th>\n",
       "      <td>0x7bd29408f11d2bfc23c34f18275bbf23bb716bc7</td>\n",
       "      <td>111</td>\n",
       "    </tr>\n",
       "    <tr>\n",
       "      <th>4</th>\n",
       "      <td>0xba30e5f9bb24caa003e9f2f0497ad287fdf95623</td>\n",
       "      <td>108</td>\n",
       "    </tr>\n",
       "  </tbody>\n",
       "</table>\n",
       "</div>"
      ],
      "text/plain": [
       "                                collection_id  rank\n",
       "0  0xb47e3cd837ddf8e4c57f05d70ab865de6e193bbb   146\n",
       "1  0xbc4ca0eda7647a8ab7c2061c2e118a18a936f13d   139\n",
       "2  0x60e4d786628fea6478f785a6d7e704777c86a7c6   133\n",
       "3  0x7bd29408f11d2bfc23c34f18275bbf23bb716bc7   111\n",
       "4  0xba30e5f9bb24caa003e9f2f0497ad287fdf95623   108"
      ]
     },
     "execution_count": 104,
     "metadata": {},
     "output_type": "execute_result"
    }
   ],
   "source": [
    "collection_rank = pd.DataFrame(\n",
    "    top_collections.items(),\n",
    "    columns=['collection_id', 'rank'])[['collection_id', 'rank']]\n",
    "collection_rank.head()"
   ]
  },
  {
   "cell_type": "code",
   "execution_count": 106,
   "id": "540d44f6",
   "metadata": {},
   "outputs": [],
   "source": [
    "daily_events = pd.merge(daily_events,\n",
    "                        collection_rank,\n",
    "                        on='collection_id',\n",
    "                        how='outer')"
   ]
  },
  {
   "cell_type": "code",
   "execution_count": 107,
   "id": "1f013127",
   "metadata": {},
   "outputs": [
    {
     "data": {
      "text/plain": [
       "3889"
      ]
     },
     "execution_count": 107,
     "metadata": {},
     "output_type": "execute_result"
    }
   ],
   "source": [
    "len(daily_events)"
   ]
  },
  {
   "cell_type": "code",
   "execution_count": 109,
   "id": "6f2b555f",
   "metadata": {},
   "outputs": [
    {
     "data": {
      "text/html": [
       "<div>\n",
       "<style scoped>\n",
       "    .dataframe tbody tr th:only-of-type {\n",
       "        vertical-align: middle;\n",
       "    }\n",
       "\n",
       "    .dataframe tbody tr th {\n",
       "        vertical-align: top;\n",
       "    }\n",
       "\n",
       "    .dataframe thead th {\n",
       "        text-align: right;\n",
       "    }\n",
       "</style>\n",
       "<table border=\"1\" class=\"dataframe\">\n",
       "  <thead>\n",
       "    <tr style=\"text-align: right;\">\n",
       "      <th></th>\n",
       "      <th>transaction_hash</th>\n",
       "      <th>timestamp</th>\n",
       "      <th>date</th>\n",
       "      <th>collection_id</th>\n",
       "      <th>nft_id</th>\n",
       "      <th>buyer</th>\n",
       "      <th>price_in_eth</th>\n",
       "      <th>type</th>\n",
       "      <th>rank</th>\n",
       "    </tr>\n",
       "  </thead>\n",
       "  <tbody>\n",
       "    <tr>\n",
       "      <th>0</th>\n",
       "      <td>0xa73c7548812c217a8dc590f3ac8e19e51453492f6f068f080a2648a47394f7ed</td>\n",
       "      <td>2022-08-14 23:59:51+00:00</td>\n",
       "      <td>2022-08-14</td>\n",
       "      <td>0x80336ad7a747236ef41f47ed2c7641828a480baa</td>\n",
       "      <td>0x80336ad7a747236ef41f47ed2c7641828a480baa/1987</td>\n",
       "      <td>0x559235e6c3692698df15d5dd3503fbdbb472a43b</td>\n",
       "      <td>1.1</td>\n",
       "      <td>purchase</td>\n",
       "      <td>31</td>\n",
       "    </tr>\n",
       "    <tr>\n",
       "      <th>1</th>\n",
       "      <td>0xec277983f6354a13b7bfe7ed53070d1269d96a202784f482581f9af382d8a739</td>\n",
       "      <td>2022-08-14 23:32:26+00:00</td>\n",
       "      <td>2022-08-14</td>\n",
       "      <td>0x80336ad7a747236ef41f47ed2c7641828a480baa</td>\n",
       "      <td>0x80336ad7a747236ef41f47ed2c7641828a480baa/2023</td>\n",
       "      <td>0x38e6f80e29d2f0ebf68e5ea8e177723cbf77dc87</td>\n",
       "      <td>0.0</td>\n",
       "      <td>invalid</td>\n",
       "      <td>31</td>\n",
       "    </tr>\n",
       "    <tr>\n",
       "      <th>2</th>\n",
       "      <td>0x9247381f85ad1da05529018f23c76d37163aa0055ec9b75205c191f5ea0194a0</td>\n",
       "      <td>2022-08-14 22:29:01+00:00</td>\n",
       "      <td>2022-08-14</td>\n",
       "      <td>0x80336ad7a747236ef41f47ed2c7641828a480baa</td>\n",
       "      <td>0x80336ad7a747236ef41f47ed2c7641828a480baa/1987</td>\n",
       "      <td>0xea04309d1d95b994a4f4efe77ef73fd4e79d8f11</td>\n",
       "      <td>0.0</td>\n",
       "      <td>invalid</td>\n",
       "      <td>31</td>\n",
       "    </tr>\n",
       "    <tr>\n",
       "      <th>3</th>\n",
       "      <td>0xba30294100dd2892f3421cbfef51480302e982bbc65ef195ab3b130a48ee9c23</td>\n",
       "      <td>2022-08-14 21:39:46+00:00</td>\n",
       "      <td>2022-08-14</td>\n",
       "      <td>0x80336ad7a747236ef41f47ed2c7641828a480baa</td>\n",
       "      <td>0x80336ad7a747236ef41f47ed2c7641828a480baa/1967</td>\n",
       "      <td>0xa40829b32748b8d6013e7a1a57e5e0d390407acd</td>\n",
       "      <td>0.0</td>\n",
       "      <td>invalid</td>\n",
       "      <td>31</td>\n",
       "    </tr>\n",
       "    <tr>\n",
       "      <th>4</th>\n",
       "      <td>0xa4ce7885627fc3e48394501b09643e34b27561f025252609c309528ead476efb</td>\n",
       "      <td>2022-08-14 21:27:46+00:00</td>\n",
       "      <td>2022-08-14</td>\n",
       "      <td>0x80336ad7a747236ef41f47ed2c7641828a480baa</td>\n",
       "      <td>0x80336ad7a747236ef41f47ed2c7641828a480baa/2141</td>\n",
       "      <td>0x30029eb13ba3be4296f63f188420386954bd0f91</td>\n",
       "      <td>0.0</td>\n",
       "      <td>invalid</td>\n",
       "      <td>31</td>\n",
       "    </tr>\n",
       "  </tbody>\n",
       "</table>\n",
       "</div>"
      ],
      "text/plain": [
       "                                                     transaction_hash  \\\n",
       "0  0xa73c7548812c217a8dc590f3ac8e19e51453492f6f068f080a2648a47394f7ed   \n",
       "1  0xec277983f6354a13b7bfe7ed53070d1269d96a202784f482581f9af382d8a739   \n",
       "2  0x9247381f85ad1da05529018f23c76d37163aa0055ec9b75205c191f5ea0194a0   \n",
       "3  0xba30294100dd2892f3421cbfef51480302e982bbc65ef195ab3b130a48ee9c23   \n",
       "4  0xa4ce7885627fc3e48394501b09643e34b27561f025252609c309528ead476efb   \n",
       "\n",
       "                   timestamp        date  \\\n",
       "0  2022-08-14 23:59:51+00:00  2022-08-14   \n",
       "1  2022-08-14 23:32:26+00:00  2022-08-14   \n",
       "2  2022-08-14 22:29:01+00:00  2022-08-14   \n",
       "3  2022-08-14 21:39:46+00:00  2022-08-14   \n",
       "4  2022-08-14 21:27:46+00:00  2022-08-14   \n",
       "\n",
       "                                collection_id  \\\n",
       "0  0x80336ad7a747236ef41f47ed2c7641828a480baa   \n",
       "1  0x80336ad7a747236ef41f47ed2c7641828a480baa   \n",
       "2  0x80336ad7a747236ef41f47ed2c7641828a480baa   \n",
       "3  0x80336ad7a747236ef41f47ed2c7641828a480baa   \n",
       "4  0x80336ad7a747236ef41f47ed2c7641828a480baa   \n",
       "\n",
       "                                            nft_id  \\\n",
       "0  0x80336ad7a747236ef41f47ed2c7641828a480baa/1987   \n",
       "1  0x80336ad7a747236ef41f47ed2c7641828a480baa/2023   \n",
       "2  0x80336ad7a747236ef41f47ed2c7641828a480baa/1987   \n",
       "3  0x80336ad7a747236ef41f47ed2c7641828a480baa/1967   \n",
       "4  0x80336ad7a747236ef41f47ed2c7641828a480baa/2141   \n",
       "\n",
       "                                        buyer  price_in_eth      type  rank  \n",
       "0  0x559235e6c3692698df15d5dd3503fbdbb472a43b           1.1  purchase    31  \n",
       "1  0x38e6f80e29d2f0ebf68e5ea8e177723cbf77dc87           0.0   invalid    31  \n",
       "2  0xea04309d1d95b994a4f4efe77ef73fd4e79d8f11           0.0   invalid    31  \n",
       "3  0xa40829b32748b8d6013e7a1a57e5e0d390407acd           0.0   invalid    31  \n",
       "4  0x30029eb13ba3be4296f63f188420386954bd0f91           0.0   invalid    31  "
      ]
     },
     "execution_count": 109,
     "metadata": {},
     "output_type": "execute_result"
    }
   ],
   "source": [
    "daily_events.head()"
   ]
  },
  {
   "cell_type": "code",
   "execution_count": 108,
   "id": "6c53ea36",
   "metadata": {},
   "outputs": [
    {
     "name": "stdout",
     "output_type": "stream",
     "text": [
      "CPU times: user 34.7 ms, sys: 37.1 ms, total: 71.8 ms\n",
      "Wall time: 71.9 ms\n"
     ]
    }
   ],
   "source": [
    "%%time\n",
    "import pandas as pd\n",
    "daily_events.to_csv(\n",
    "    '/Users/xin/coding/nft-recommendation/data_analysis/data/daily_events_with_rank=2022-08-14.csv')"
   ]
  },
  {
   "cell_type": "markdown",
   "id": "faa89502",
   "metadata": {},
   "source": [
    "### Rank Mints, Burns and Purchases\n",
    "- Todo: \n",
    "    - For personalization, include comment, like, and click factors into each ranking algorithm"
   ]
  },
  {
   "cell_type": "code",
   "execution_count": 166,
   "id": "893c99b8",
   "metadata": {},
   "outputs": [
    {
     "name": "stdout",
     "output_type": "stream",
     "text": [
      "CPU times: user 21.6 ms, sys: 15.6 ms, total: 37.3 ms\n",
      "Wall time: 40 ms\n"
     ]
    }
   ],
   "source": [
    "%%time\n",
    "import pandas as pd\n",
    "daily_events = pd.read_csv(\n",
    "    '/Users/xin/coding/nft-recommendation/data_analysis/data/daily_events_with_rank=2022-08-14.csv')"
   ]
  },
  {
   "cell_type": "code",
   "execution_count": 167,
   "id": "1fac0012",
   "metadata": {},
   "outputs": [
    {
     "data": {
      "text/html": [
       "<div>\n",
       "<style scoped>\n",
       "    .dataframe tbody tr th:only-of-type {\n",
       "        vertical-align: middle;\n",
       "    }\n",
       "\n",
       "    .dataframe tbody tr th {\n",
       "        vertical-align: top;\n",
       "    }\n",
       "\n",
       "    .dataframe thead th {\n",
       "        text-align: right;\n",
       "    }\n",
       "</style>\n",
       "<table border=\"1\" class=\"dataframe\">\n",
       "  <thead>\n",
       "    <tr style=\"text-align: right;\">\n",
       "      <th></th>\n",
       "      <th>Unnamed: 0</th>\n",
       "      <th>transaction_hash</th>\n",
       "      <th>timestamp</th>\n",
       "      <th>date</th>\n",
       "      <th>collection_id</th>\n",
       "      <th>nft_id</th>\n",
       "      <th>buyer</th>\n",
       "      <th>price_in_eth</th>\n",
       "      <th>type</th>\n",
       "      <th>rank</th>\n",
       "    </tr>\n",
       "  </thead>\n",
       "  <tbody>\n",
       "    <tr>\n",
       "      <th>0</th>\n",
       "      <td>0</td>\n",
       "      <td>0xa73c7548812c217a8dc590f3ac8e19e51453492f6f068f080a2648a47394f7ed</td>\n",
       "      <td>2022-08-14 23:59:51+00:00</td>\n",
       "      <td>2022-08-14</td>\n",
       "      <td>0x80336ad7a747236ef41f47ed2c7641828a480baa</td>\n",
       "      <td>0x80336ad7a747236ef41f47ed2c7641828a480baa/1987</td>\n",
       "      <td>0x559235e6c3692698df15d5dd3503fbdbb472a43b</td>\n",
       "      <td>1.1</td>\n",
       "      <td>purchase</td>\n",
       "      <td>31</td>\n",
       "    </tr>\n",
       "    <tr>\n",
       "      <th>1</th>\n",
       "      <td>1</td>\n",
       "      <td>0xec277983f6354a13b7bfe7ed53070d1269d96a202784f482581f9af382d8a739</td>\n",
       "      <td>2022-08-14 23:32:26+00:00</td>\n",
       "      <td>2022-08-14</td>\n",
       "      <td>0x80336ad7a747236ef41f47ed2c7641828a480baa</td>\n",
       "      <td>0x80336ad7a747236ef41f47ed2c7641828a480baa/2023</td>\n",
       "      <td>0x38e6f80e29d2f0ebf68e5ea8e177723cbf77dc87</td>\n",
       "      <td>0.0</td>\n",
       "      <td>invalid</td>\n",
       "      <td>31</td>\n",
       "    </tr>\n",
       "    <tr>\n",
       "      <th>2</th>\n",
       "      <td>2</td>\n",
       "      <td>0x9247381f85ad1da05529018f23c76d37163aa0055ec9b75205c191f5ea0194a0</td>\n",
       "      <td>2022-08-14 22:29:01+00:00</td>\n",
       "      <td>2022-08-14</td>\n",
       "      <td>0x80336ad7a747236ef41f47ed2c7641828a480baa</td>\n",
       "      <td>0x80336ad7a747236ef41f47ed2c7641828a480baa/1987</td>\n",
       "      <td>0xea04309d1d95b994a4f4efe77ef73fd4e79d8f11</td>\n",
       "      <td>0.0</td>\n",
       "      <td>invalid</td>\n",
       "      <td>31</td>\n",
       "    </tr>\n",
       "    <tr>\n",
       "      <th>3</th>\n",
       "      <td>3</td>\n",
       "      <td>0xba30294100dd2892f3421cbfef51480302e982bbc65ef195ab3b130a48ee9c23</td>\n",
       "      <td>2022-08-14 21:39:46+00:00</td>\n",
       "      <td>2022-08-14</td>\n",
       "      <td>0x80336ad7a747236ef41f47ed2c7641828a480baa</td>\n",
       "      <td>0x80336ad7a747236ef41f47ed2c7641828a480baa/1967</td>\n",
       "      <td>0xa40829b32748b8d6013e7a1a57e5e0d390407acd</td>\n",
       "      <td>0.0</td>\n",
       "      <td>invalid</td>\n",
       "      <td>31</td>\n",
       "    </tr>\n",
       "    <tr>\n",
       "      <th>4</th>\n",
       "      <td>4</td>\n",
       "      <td>0xa4ce7885627fc3e48394501b09643e34b27561f025252609c309528ead476efb</td>\n",
       "      <td>2022-08-14 21:27:46+00:00</td>\n",
       "      <td>2022-08-14</td>\n",
       "      <td>0x80336ad7a747236ef41f47ed2c7641828a480baa</td>\n",
       "      <td>0x80336ad7a747236ef41f47ed2c7641828a480baa/2141</td>\n",
       "      <td>0x30029eb13ba3be4296f63f188420386954bd0f91</td>\n",
       "      <td>0.0</td>\n",
       "      <td>invalid</td>\n",
       "      <td>31</td>\n",
       "    </tr>\n",
       "  </tbody>\n",
       "</table>\n",
       "</div>"
      ],
      "text/plain": [
       "   Unnamed: 0  \\\n",
       "0           0   \n",
       "1           1   \n",
       "2           2   \n",
       "3           3   \n",
       "4           4   \n",
       "\n",
       "                                                     transaction_hash  \\\n",
       "0  0xa73c7548812c217a8dc590f3ac8e19e51453492f6f068f080a2648a47394f7ed   \n",
       "1  0xec277983f6354a13b7bfe7ed53070d1269d96a202784f482581f9af382d8a739   \n",
       "2  0x9247381f85ad1da05529018f23c76d37163aa0055ec9b75205c191f5ea0194a0   \n",
       "3  0xba30294100dd2892f3421cbfef51480302e982bbc65ef195ab3b130a48ee9c23   \n",
       "4  0xa4ce7885627fc3e48394501b09643e34b27561f025252609c309528ead476efb   \n",
       "\n",
       "                   timestamp        date  \\\n",
       "0  2022-08-14 23:59:51+00:00  2022-08-14   \n",
       "1  2022-08-14 23:32:26+00:00  2022-08-14   \n",
       "2  2022-08-14 22:29:01+00:00  2022-08-14   \n",
       "3  2022-08-14 21:39:46+00:00  2022-08-14   \n",
       "4  2022-08-14 21:27:46+00:00  2022-08-14   \n",
       "\n",
       "                                collection_id  \\\n",
       "0  0x80336ad7a747236ef41f47ed2c7641828a480baa   \n",
       "1  0x80336ad7a747236ef41f47ed2c7641828a480baa   \n",
       "2  0x80336ad7a747236ef41f47ed2c7641828a480baa   \n",
       "3  0x80336ad7a747236ef41f47ed2c7641828a480baa   \n",
       "4  0x80336ad7a747236ef41f47ed2c7641828a480baa   \n",
       "\n",
       "                                            nft_id  \\\n",
       "0  0x80336ad7a747236ef41f47ed2c7641828a480baa/1987   \n",
       "1  0x80336ad7a747236ef41f47ed2c7641828a480baa/2023   \n",
       "2  0x80336ad7a747236ef41f47ed2c7641828a480baa/1987   \n",
       "3  0x80336ad7a747236ef41f47ed2c7641828a480baa/1967   \n",
       "4  0x80336ad7a747236ef41f47ed2c7641828a480baa/2141   \n",
       "\n",
       "                                        buyer  price_in_eth      type  rank  \n",
       "0  0x559235e6c3692698df15d5dd3503fbdbb472a43b           1.1  purchase    31  \n",
       "1  0x38e6f80e29d2f0ebf68e5ea8e177723cbf77dc87           0.0   invalid    31  \n",
       "2  0xea04309d1d95b994a4f4efe77ef73fd4e79d8f11           0.0   invalid    31  \n",
       "3  0xa40829b32748b8d6013e7a1a57e5e0d390407acd           0.0   invalid    31  \n",
       "4  0x30029eb13ba3be4296f63f188420386954bd0f91           0.0   invalid    31  "
      ]
     },
     "execution_count": 167,
     "metadata": {},
     "output_type": "execute_result"
    }
   ],
   "source": [
    "daily_events.head()"
   ]
  },
  {
   "cell_type": "code",
   "execution_count": 168,
   "id": "0dd54c88",
   "metadata": {},
   "outputs": [
    {
     "name": "stdout",
     "output_type": "stream",
     "text": [
      "0\n",
      "0\n",
      "675\n",
      "1032\n",
      "8\n"
     ]
    }
   ],
   "source": [
    "daily_events = daily_events[daily_events['date'].notnull()]\n",
    "types_to_rank = set(['purchase', 'mint', 'burn'])\n",
    "daily_events = daily_events[daily_events['type'].isin(types_to_rank)]\n",
    "print(len(daily_events[daily_events['type'] == 'invalid']))\n",
    "print(len(daily_events[daily_events['type'] == 'non721']))\n",
    "print(len(daily_events[daily_events['type'] == 'mint']))\n",
    "print(len(daily_events[daily_events['type'] == 'purchase']))\n",
    "print(len(daily_events[daily_events['type'] == 'burn']))"
   ]
  },
  {
   "cell_type": "code",
   "execution_count": 169,
   "id": "52f30b93",
   "metadata": {
    "scrolled": true
   },
   "outputs": [
    {
     "name": "stdout",
     "output_type": "stream",
     "text": [
      "CPU times: user 155 ms, sys: 5.24 ms, total: 160 ms\n",
      "Wall time: 158 ms\n"
     ]
    }
   ],
   "source": [
    "%%time\n",
    "import pandas as pd\n",
    "import math\n",
    "daily_events['hour'] = daily_events.apply(\n",
    "    lambda x: int(pd.to_datetime(x['timestamp']).hour),\n",
    "    axis=1)\n",
    "daily_events['5min'] = daily_events.apply(\n",
    "    lambda x: int(math.ceil(pd.to_datetime(x['timestamp']).minute / 5)),\n",
    "    axis=1)\n",
    "daily_events.sort_values(by=['timestamp'], ascending=False, inplace=True)"
   ]
  },
  {
   "cell_type": "code",
   "execution_count": 170,
   "id": "2ab1f3d3",
   "metadata": {},
   "outputs": [
    {
     "data": {
      "text/plain": [
       "array(['purchase', 'mint', 'burn'], dtype=object)"
      ]
     },
     "execution_count": 170,
     "metadata": {},
     "output_type": "execute_result"
    }
   ],
   "source": [
    "daily_events['type'].unique()"
   ]
  },
  {
   "cell_type": "code",
   "execution_count": 171,
   "id": "f70f36fc",
   "metadata": {},
   "outputs": [
    {
     "data": {
      "text/html": [
       "<div>\n",
       "<style scoped>\n",
       "    .dataframe tbody tr th:only-of-type {\n",
       "        vertical-align: middle;\n",
       "    }\n",
       "\n",
       "    .dataframe tbody tr th {\n",
       "        vertical-align: top;\n",
       "    }\n",
       "\n",
       "    .dataframe thead th {\n",
       "        text-align: right;\n",
       "    }\n",
       "</style>\n",
       "<table border=\"1\" class=\"dataframe\">\n",
       "  <thead>\n",
       "    <tr style=\"text-align: right;\">\n",
       "      <th></th>\n",
       "      <th>Unnamed: 0</th>\n",
       "      <th>transaction_hash</th>\n",
       "      <th>timestamp</th>\n",
       "      <th>date</th>\n",
       "      <th>collection_id</th>\n",
       "      <th>nft_id</th>\n",
       "      <th>buyer</th>\n",
       "      <th>price_in_eth</th>\n",
       "      <th>type</th>\n",
       "      <th>rank</th>\n",
       "      <th>hour</th>\n",
       "      <th>5min</th>\n",
       "    </tr>\n",
       "  </thead>\n",
       "  <tbody>\n",
       "    <tr>\n",
       "      <th>0</th>\n",
       "      <td>0</td>\n",
       "      <td>0xa73c7548812c217a8dc590f3ac8e19e51453492f6f068f080a2648a47394f7ed</td>\n",
       "      <td>2022-08-14 23:59:51+00:00</td>\n",
       "      <td>2022-08-14</td>\n",
       "      <td>0x80336ad7a747236ef41f47ed2c7641828a480baa</td>\n",
       "      <td>0x80336ad7a747236ef41f47ed2c7641828a480baa/1987</td>\n",
       "      <td>0x559235e6c3692698df15d5dd3503fbdbb472a43b</td>\n",
       "      <td>1.1000</td>\n",
       "      <td>purchase</td>\n",
       "      <td>31</td>\n",
       "      <td>23</td>\n",
       "      <td>12</td>\n",
       "    </tr>\n",
       "    <tr>\n",
       "      <th>167</th>\n",
       "      <td>167</td>\n",
       "      <td>0xd20a8a44e4c707ae4e55fb713bd9556b435967293e0aac1e1b79439c1b18597f</td>\n",
       "      <td>2022-08-14 23:58:15+00:00</td>\n",
       "      <td>2022-08-14</td>\n",
       "      <td>0x249aeaa7fa06a63ea5389b72217476db881294df</td>\n",
       "      <td>0x249aeaa7fa06a63ea5389b72217476db881294df/4640</td>\n",
       "      <td>0x5f6ae73426c63358ba0e69c445be1211e7da405f</td>\n",
       "      <td>0.1200</td>\n",
       "      <td>purchase</td>\n",
       "      <td>22</td>\n",
       "      <td>23</td>\n",
       "      <td>12</td>\n",
       "    </tr>\n",
       "    <tr>\n",
       "      <th>255</th>\n",
       "      <td>255</td>\n",
       "      <td>0x9e183c8631256d64770053cc5aa2bff9898538a9c76e4ade7b57fdd64ba12c63</td>\n",
       "      <td>2022-08-14 23:57:31+00:00</td>\n",
       "      <td>2022-08-14</td>\n",
       "      <td>0xc99c679c50033bbc5321eb88752e89a93e9e83c5</td>\n",
       "      <td>0xc99c679c50033bbc5321eb88752e89a93e9e83c5/1330</td>\n",
       "      <td>0x2a138e24cf857f189826600463c05d0cac5aeede</td>\n",
       "      <td>0.8780</td>\n",
       "      <td>purchase</td>\n",
       "      <td>28</td>\n",
       "      <td>23</td>\n",
       "      <td>12</td>\n",
       "    </tr>\n",
       "    <tr>\n",
       "      <th>296</th>\n",
       "      <td>296</td>\n",
       "      <td>0xce1c1b0c13ffd65823d63e9cb2bb747a64725c7e730cc6019a118eec0910b006</td>\n",
       "      <td>2022-08-14 23:57:18+00:00</td>\n",
       "      <td>2022-08-14</td>\n",
       "      <td>0x7bd29408f11d2bfc23c34f18275bbf23bb716bc7</td>\n",
       "      <td>0x7bd29408f11d2bfc23c34f18275bbf23bb716bc7/8117</td>\n",
       "      <td>0x89669dac0fa49b471528711a26ff250836d0f6c1</td>\n",
       "      <td>5.1100</td>\n",
       "      <td>purchase</td>\n",
       "      <td>111</td>\n",
       "      <td>23</td>\n",
       "      <td>12</td>\n",
       "    </tr>\n",
       "    <tr>\n",
       "      <th>380</th>\n",
       "      <td>380</td>\n",
       "      <td>0xdc18b09febf2ed3bd18e9b48bc96e77ccce3bd9c1c0276ac1843265f36f1ebfd</td>\n",
       "      <td>2022-08-14 23:55:52+00:00</td>\n",
       "      <td>2022-08-14</td>\n",
       "      <td>0x2a48420d75777af4c99970c0ed3c25effd1c08be</td>\n",
       "      <td>0x2a48420d75777af4c99970c0ed3c25effd1c08be/4887</td>\n",
       "      <td>0x3062b12ff6a74c961faee546fd152161b81a53fb</td>\n",
       "      <td>0.3228</td>\n",
       "      <td>purchase</td>\n",
       "      <td>6</td>\n",
       "      <td>23</td>\n",
       "      <td>11</td>\n",
       "    </tr>\n",
       "  </tbody>\n",
       "</table>\n",
       "</div>"
      ],
      "text/plain": [
       "     Unnamed: 0  \\\n",
       "0             0   \n",
       "167         167   \n",
       "255         255   \n",
       "296         296   \n",
       "380         380   \n",
       "\n",
       "                                                       transaction_hash  \\\n",
       "0    0xa73c7548812c217a8dc590f3ac8e19e51453492f6f068f080a2648a47394f7ed   \n",
       "167  0xd20a8a44e4c707ae4e55fb713bd9556b435967293e0aac1e1b79439c1b18597f   \n",
       "255  0x9e183c8631256d64770053cc5aa2bff9898538a9c76e4ade7b57fdd64ba12c63   \n",
       "296  0xce1c1b0c13ffd65823d63e9cb2bb747a64725c7e730cc6019a118eec0910b006   \n",
       "380  0xdc18b09febf2ed3bd18e9b48bc96e77ccce3bd9c1c0276ac1843265f36f1ebfd   \n",
       "\n",
       "                     timestamp        date  \\\n",
       "0    2022-08-14 23:59:51+00:00  2022-08-14   \n",
       "167  2022-08-14 23:58:15+00:00  2022-08-14   \n",
       "255  2022-08-14 23:57:31+00:00  2022-08-14   \n",
       "296  2022-08-14 23:57:18+00:00  2022-08-14   \n",
       "380  2022-08-14 23:55:52+00:00  2022-08-14   \n",
       "\n",
       "                                  collection_id  \\\n",
       "0    0x80336ad7a747236ef41f47ed2c7641828a480baa   \n",
       "167  0x249aeaa7fa06a63ea5389b72217476db881294df   \n",
       "255  0xc99c679c50033bbc5321eb88752e89a93e9e83c5   \n",
       "296  0x7bd29408f11d2bfc23c34f18275bbf23bb716bc7   \n",
       "380  0x2a48420d75777af4c99970c0ed3c25effd1c08be   \n",
       "\n",
       "                                              nft_id  \\\n",
       "0    0x80336ad7a747236ef41f47ed2c7641828a480baa/1987   \n",
       "167  0x249aeaa7fa06a63ea5389b72217476db881294df/4640   \n",
       "255  0xc99c679c50033bbc5321eb88752e89a93e9e83c5/1330   \n",
       "296  0x7bd29408f11d2bfc23c34f18275bbf23bb716bc7/8117   \n",
       "380  0x2a48420d75777af4c99970c0ed3c25effd1c08be/4887   \n",
       "\n",
       "                                          buyer  price_in_eth      type  rank  \\\n",
       "0    0x559235e6c3692698df15d5dd3503fbdbb472a43b        1.1000  purchase    31   \n",
       "167  0x5f6ae73426c63358ba0e69c445be1211e7da405f        0.1200  purchase    22   \n",
       "255  0x2a138e24cf857f189826600463c05d0cac5aeede        0.8780  purchase    28   \n",
       "296  0x89669dac0fa49b471528711a26ff250836d0f6c1        5.1100  purchase   111   \n",
       "380  0x3062b12ff6a74c961faee546fd152161b81a53fb        0.3228  purchase     6   \n",
       "\n",
       "     hour  5min  \n",
       "0      23    12  \n",
       "167    23    12  \n",
       "255    23    12  \n",
       "296    23    12  \n",
       "380    23    11  "
      ]
     },
     "execution_count": 171,
     "metadata": {},
     "output_type": "execute_result"
    }
   ],
   "source": [
    "daily_events.head()"
   ]
  },
  {
   "cell_type": "code",
   "execution_count": 172,
   "id": "5243e645",
   "metadata": {},
   "outputs": [],
   "source": [
    "def update_rank(cur_5min,\n",
    "                     cur_hour,\n",
    "                     cur_date,\n",
    "                     diversity_cnt,\n",
    "                     event):\n",
    "    rank = event['rank']\n",
    "    \n",
    "    # rerank by recency\n",
    "    if event['hour'] == cur_hour and event['date'] == cur_date:\n",
    "        # same hour: add rank by 25\n",
    "        # i.e collection rank + 25\n",
    "        rank += 25\n",
    "        # same 5min interval: add rank by another 25\n",
    "        # i.e collection rank + 50\n",
    "        if event['5min'] == cur_5min:\n",
    "            rank += 25\n",
    "    else:\n",
    "        if event['date'] != cur_date:\n",
    "            hours_passed_by = 24 - event['hour'] + cur_hour\n",
    "        else:\n",
    "            hours_passed_by = cur_hour - event['hour']\n",
    "        rank += 24 - hours_passed_by\n",
    "        \n",
    "    # rerank for diversity\n",
    "    collection = event['collection_id']\n",
    "    if diversity_cnt[collection] <= 3:\n",
    "        rank -= diversity_cnt[collection] * 10\n",
    "    elif diversity_cnt[collection] <= 6:\n",
    "        rank -= diversity_cnt[collection] * 20\n",
    "    else:\n",
    "        rank -= diversity_cnt[collection] * 30\n",
    "        \n",
    "    # Add personalization in production:\n",
    "    # rank += 30 if purchased before\n",
    "    if event['type'] == 'mint':\n",
    "        rank += 20\n",
    "    elif event['type'] == 'burn':\n",
    "        rank += 10\n",
    "        \n",
    "    diversity_cnt[collection] += 1\n",
    "\n",
    "    return rank"
   ]
  },
  {
   "cell_type": "code",
   "execution_count": 173,
   "id": "02f3d8d1",
   "metadata": {},
   "outputs": [],
   "source": [
    "from collections import defaultdict\n",
    "\n",
    "cur_5min = 11\n",
    "cur_hour = 23\n",
    "diversity_cnt = defaultdict(int)\n",
    "daily_events['rank'] = daily_events.apply(\n",
    "    lambda event: update_rank(\n",
    "        cur_5min, cur_hour, cur_dt, diversity_cnt, event), axis=1)"
   ]
  },
  {
   "cell_type": "code",
   "execution_count": 174,
   "id": "bca8da8a",
   "metadata": {},
   "outputs": [],
   "source": [
    "daily_events.sort_values(by=['rank'], ascending=False, inplace=True)"
   ]
  },
  {
   "cell_type": "code",
   "execution_count": 175,
   "id": "04214407",
   "metadata": {},
   "outputs": [
    {
     "data": {
      "text/html": [
       "<div>\n",
       "<style scoped>\n",
       "    .dataframe tbody tr th:only-of-type {\n",
       "        vertical-align: middle;\n",
       "    }\n",
       "\n",
       "    .dataframe tbody tr th {\n",
       "        vertical-align: top;\n",
       "    }\n",
       "\n",
       "    .dataframe thead th {\n",
       "        text-align: right;\n",
       "    }\n",
       "</style>\n",
       "<table border=\"1\" class=\"dataframe\">\n",
       "  <thead>\n",
       "    <tr style=\"text-align: right;\">\n",
       "      <th></th>\n",
       "      <th>Unnamed: 0</th>\n",
       "      <th>transaction_hash</th>\n",
       "      <th>timestamp</th>\n",
       "      <th>date</th>\n",
       "      <th>collection_id</th>\n",
       "      <th>nft_id</th>\n",
       "      <th>buyer</th>\n",
       "      <th>price_in_eth</th>\n",
       "      <th>type</th>\n",
       "      <th>rank</th>\n",
       "      <th>hour</th>\n",
       "      <th>5min</th>\n",
       "    </tr>\n",
       "  </thead>\n",
       "  <tbody>\n",
       "    <tr>\n",
       "      <th>80</th>\n",
       "      <td>80</td>\n",
       "      <td>0xedd7cc1337825f5cce8f38143b192366d621f1f3c762b599655835aa8a5df4ff</td>\n",
       "      <td>2022-08-14 21:51:19+00:00</td>\n",
       "      <td>2022-08-14</td>\n",
       "      <td>0xbc4ca0eda7647a8ab7c2061c2e118a18a936f13d</td>\n",
       "      <td>0xbc4ca0eda7647a8ab7c2061c2e118a18a936f13d/609</td>\n",
       "      <td>0x56441b79ebcb24c9a80221dad65c3ddfc7d39c17</td>\n",
       "      <td>0.005000</td>\n",
       "      <td>purchase</td>\n",
       "      <td>161</td>\n",
       "      <td>21</td>\n",
       "      <td>11</td>\n",
       "    </tr>\n",
       "    <tr>\n",
       "      <th>2571</th>\n",
       "      <td>2571</td>\n",
       "      <td>0xf8ffddeac2f01bca61d34c1d21ba64814d861fe502c8e370f837abf28e50b9ee</td>\n",
       "      <td>2022-08-14 23:19:54+00:00</td>\n",
       "      <td>2022-08-14</td>\n",
       "      <td>0x60e4d786628fea6478f785a6d7e704777c86a7c6</td>\n",
       "      <td>0x60e4d786628fea6478f785a6d7e704777c86a7c6/19210</td>\n",
       "      <td>0x3cf3303e38b8b4081689e1f590e76e482bff1139</td>\n",
       "      <td>14.850000</td>\n",
       "      <td>purchase</td>\n",
       "      <td>158</td>\n",
       "      <td>23</td>\n",
       "      <td>4</td>\n",
       "    </tr>\n",
       "    <tr>\n",
       "      <th>81</th>\n",
       "      <td>81</td>\n",
       "      <td>0x165256c32edcf0a248cfc62f16163de77ffd71e838180dd6055aa76ab2ee08c9</td>\n",
       "      <td>2022-08-14 21:42:52+00:00</td>\n",
       "      <td>2022-08-14</td>\n",
       "      <td>0xbc4ca0eda7647a8ab7c2061c2e118a18a936f13d</td>\n",
       "      <td>0xbc4ca0eda7647a8ab7c2061c2e118a18a936f13d/7644</td>\n",
       "      <td>0x19fffb371b95574df860e90b6a5b69256629b585</td>\n",
       "      <td>7.080397</td>\n",
       "      <td>purchase</td>\n",
       "      <td>151</td>\n",
       "      <td>21</td>\n",
       "      <td>9</td>\n",
       "    </tr>\n",
       "    <tr>\n",
       "      <th>2572</th>\n",
       "      <td>2572</td>\n",
       "      <td>0x7712d60c8f08bac83ac0da2adc323f1014d75447d0cae54c63f59c1106b3fcb7</td>\n",
       "      <td>2022-08-14 22:35:13+00:00</td>\n",
       "      <td>2022-08-14</td>\n",
       "      <td>0x60e4d786628fea6478f785a6d7e704777c86a7c6</td>\n",
       "      <td>0x60e4d786628fea6478f785a6d7e704777c86a7c6/4977</td>\n",
       "      <td>0x42f61c5f5504807b18e9ba30a6535848627b7a5b</td>\n",
       "      <td>14.490000</td>\n",
       "      <td>purchase</td>\n",
       "      <td>146</td>\n",
       "      <td>22</td>\n",
       "      <td>7</td>\n",
       "    </tr>\n",
       "    <tr>\n",
       "      <th>296</th>\n",
       "      <td>296</td>\n",
       "      <td>0xce1c1b0c13ffd65823d63e9cb2bb747a64725c7e730cc6019a118eec0910b006</td>\n",
       "      <td>2022-08-14 23:57:18+00:00</td>\n",
       "      <td>2022-08-14</td>\n",
       "      <td>0x7bd29408f11d2bfc23c34f18275bbf23bb716bc7</td>\n",
       "      <td>0x7bd29408f11d2bfc23c34f18275bbf23bb716bc7/8117</td>\n",
       "      <td>0x89669dac0fa49b471528711a26ff250836d0f6c1</td>\n",
       "      <td>5.110000</td>\n",
       "      <td>purchase</td>\n",
       "      <td>136</td>\n",
       "      <td>23</td>\n",
       "      <td>12</td>\n",
       "    </tr>\n",
       "  </tbody>\n",
       "</table>\n",
       "</div>"
      ],
      "text/plain": [
       "      Unnamed: 0  \\\n",
       "80            80   \n",
       "2571        2571   \n",
       "81            81   \n",
       "2572        2572   \n",
       "296          296   \n",
       "\n",
       "                                                        transaction_hash  \\\n",
       "80    0xedd7cc1337825f5cce8f38143b192366d621f1f3c762b599655835aa8a5df4ff   \n",
       "2571  0xf8ffddeac2f01bca61d34c1d21ba64814d861fe502c8e370f837abf28e50b9ee   \n",
       "81    0x165256c32edcf0a248cfc62f16163de77ffd71e838180dd6055aa76ab2ee08c9   \n",
       "2572  0x7712d60c8f08bac83ac0da2adc323f1014d75447d0cae54c63f59c1106b3fcb7   \n",
       "296   0xce1c1b0c13ffd65823d63e9cb2bb747a64725c7e730cc6019a118eec0910b006   \n",
       "\n",
       "                      timestamp        date  \\\n",
       "80    2022-08-14 21:51:19+00:00  2022-08-14   \n",
       "2571  2022-08-14 23:19:54+00:00  2022-08-14   \n",
       "81    2022-08-14 21:42:52+00:00  2022-08-14   \n",
       "2572  2022-08-14 22:35:13+00:00  2022-08-14   \n",
       "296   2022-08-14 23:57:18+00:00  2022-08-14   \n",
       "\n",
       "                                   collection_id  \\\n",
       "80    0xbc4ca0eda7647a8ab7c2061c2e118a18a936f13d   \n",
       "2571  0x60e4d786628fea6478f785a6d7e704777c86a7c6   \n",
       "81    0xbc4ca0eda7647a8ab7c2061c2e118a18a936f13d   \n",
       "2572  0x60e4d786628fea6478f785a6d7e704777c86a7c6   \n",
       "296   0x7bd29408f11d2bfc23c34f18275bbf23bb716bc7   \n",
       "\n",
       "                                                nft_id  \\\n",
       "80      0xbc4ca0eda7647a8ab7c2061c2e118a18a936f13d/609   \n",
       "2571  0x60e4d786628fea6478f785a6d7e704777c86a7c6/19210   \n",
       "81     0xbc4ca0eda7647a8ab7c2061c2e118a18a936f13d/7644   \n",
       "2572   0x60e4d786628fea6478f785a6d7e704777c86a7c6/4977   \n",
       "296    0x7bd29408f11d2bfc23c34f18275bbf23bb716bc7/8117   \n",
       "\n",
       "                                           buyer  price_in_eth      type  \\\n",
       "80    0x56441b79ebcb24c9a80221dad65c3ddfc7d39c17      0.005000  purchase   \n",
       "2571  0x3cf3303e38b8b4081689e1f590e76e482bff1139     14.850000  purchase   \n",
       "81    0x19fffb371b95574df860e90b6a5b69256629b585      7.080397  purchase   \n",
       "2572  0x42f61c5f5504807b18e9ba30a6535848627b7a5b     14.490000  purchase   \n",
       "296   0x89669dac0fa49b471528711a26ff250836d0f6c1      5.110000  purchase   \n",
       "\n",
       "      rank  hour  5min  \n",
       "80     161    21    11  \n",
       "2571   158    23     4  \n",
       "81     151    21     9  \n",
       "2572   146    22     7  \n",
       "296    136    23    12  "
      ]
     },
     "execution_count": 175,
     "metadata": {},
     "output_type": "execute_result"
    }
   ],
   "source": [
    "pd.set_option('display.max_colwidth', None)\n",
    "daily_events.head()"
   ]
  },
  {
   "cell_type": "code",
   "execution_count": 176,
   "id": "5f020209",
   "metadata": {},
   "outputs": [
    {
     "data": {
      "text/html": [
       "<div>\n",
       "<style scoped>\n",
       "    .dataframe tbody tr th:only-of-type {\n",
       "        vertical-align: middle;\n",
       "    }\n",
       "\n",
       "    .dataframe tbody tr th {\n",
       "        vertical-align: top;\n",
       "    }\n",
       "\n",
       "    .dataframe thead th {\n",
       "        text-align: right;\n",
       "    }\n",
       "</style>\n",
       "<table border=\"1\" class=\"dataframe\">\n",
       "  <thead>\n",
       "    <tr style=\"text-align: right;\">\n",
       "      <th></th>\n",
       "      <th>Unnamed: 0</th>\n",
       "      <th>transaction_hash</th>\n",
       "      <th>timestamp</th>\n",
       "      <th>collection_id</th>\n",
       "      <th>nft_id</th>\n",
       "      <th>buyer</th>\n",
       "      <th>price_in_eth</th>\n",
       "      <th>type</th>\n",
       "      <th>rank</th>\n",
       "    </tr>\n",
       "  </thead>\n",
       "  <tbody>\n",
       "    <tr>\n",
       "      <th>80</th>\n",
       "      <td>80</td>\n",
       "      <td>0xedd7cc1337825f5cce8f38143b192366d621f1f3c762b599655835aa8a5df4ff</td>\n",
       "      <td>2022-08-14 21:51:19+00:00</td>\n",
       "      <td>0xbc4ca0eda7647a8ab7c2061c2e118a18a936f13d</td>\n",
       "      <td>0xbc4ca0eda7647a8ab7c2061c2e118a18a936f13d/609</td>\n",
       "      <td>0x56441b79ebcb24c9a80221dad65c3ddfc7d39c17</td>\n",
       "      <td>0.005000</td>\n",
       "      <td>purchase</td>\n",
       "      <td>161</td>\n",
       "    </tr>\n",
       "    <tr>\n",
       "      <th>2571</th>\n",
       "      <td>2571</td>\n",
       "      <td>0xf8ffddeac2f01bca61d34c1d21ba64814d861fe502c8e370f837abf28e50b9ee</td>\n",
       "      <td>2022-08-14 23:19:54+00:00</td>\n",
       "      <td>0x60e4d786628fea6478f785a6d7e704777c86a7c6</td>\n",
       "      <td>0x60e4d786628fea6478f785a6d7e704777c86a7c6/19210</td>\n",
       "      <td>0x3cf3303e38b8b4081689e1f590e76e482bff1139</td>\n",
       "      <td>14.850000</td>\n",
       "      <td>purchase</td>\n",
       "      <td>158</td>\n",
       "    </tr>\n",
       "    <tr>\n",
       "      <th>81</th>\n",
       "      <td>81</td>\n",
       "      <td>0x165256c32edcf0a248cfc62f16163de77ffd71e838180dd6055aa76ab2ee08c9</td>\n",
       "      <td>2022-08-14 21:42:52+00:00</td>\n",
       "      <td>0xbc4ca0eda7647a8ab7c2061c2e118a18a936f13d</td>\n",
       "      <td>0xbc4ca0eda7647a8ab7c2061c2e118a18a936f13d/7644</td>\n",
       "      <td>0x19fffb371b95574df860e90b6a5b69256629b585</td>\n",
       "      <td>7.080397</td>\n",
       "      <td>purchase</td>\n",
       "      <td>151</td>\n",
       "    </tr>\n",
       "    <tr>\n",
       "      <th>2572</th>\n",
       "      <td>2572</td>\n",
       "      <td>0x7712d60c8f08bac83ac0da2adc323f1014d75447d0cae54c63f59c1106b3fcb7</td>\n",
       "      <td>2022-08-14 22:35:13+00:00</td>\n",
       "      <td>0x60e4d786628fea6478f785a6d7e704777c86a7c6</td>\n",
       "      <td>0x60e4d786628fea6478f785a6d7e704777c86a7c6/4977</td>\n",
       "      <td>0x42f61c5f5504807b18e9ba30a6535848627b7a5b</td>\n",
       "      <td>14.490000</td>\n",
       "      <td>purchase</td>\n",
       "      <td>146</td>\n",
       "    </tr>\n",
       "    <tr>\n",
       "      <th>296</th>\n",
       "      <td>296</td>\n",
       "      <td>0xce1c1b0c13ffd65823d63e9cb2bb747a64725c7e730cc6019a118eec0910b006</td>\n",
       "      <td>2022-08-14 23:57:18+00:00</td>\n",
       "      <td>0x7bd29408f11d2bfc23c34f18275bbf23bb716bc7</td>\n",
       "      <td>0x7bd29408f11d2bfc23c34f18275bbf23bb716bc7/8117</td>\n",
       "      <td>0x89669dac0fa49b471528711a26ff250836d0f6c1</td>\n",
       "      <td>5.110000</td>\n",
       "      <td>purchase</td>\n",
       "      <td>136</td>\n",
       "    </tr>\n",
       "    <tr>\n",
       "      <th>...</th>\n",
       "      <td>...</td>\n",
       "      <td>...</td>\n",
       "      <td>...</td>\n",
       "      <td>...</td>\n",
       "      <td>...</td>\n",
       "      <td>...</td>\n",
       "      <td>...</td>\n",
       "      <td>...</td>\n",
       "      <td>...</td>\n",
       "    </tr>\n",
       "    <tr>\n",
       "      <th>1927</th>\n",
       "      <td>1927</td>\n",
       "      <td>0xca3ce7df1f18ae8485044e42a09db9de87daaf9829e6424c45bc6f73e8006387</td>\n",
       "      <td>2022-08-14 01:25:55+00:00</td>\n",
       "      <td>0x63f421b24cea6765b326753f6d4e558c21ea8f76</td>\n",
       "      <td>0x63f421b24cea6765b326753f6d4e558c21ea8f76/4812</td>\n",
       "      <td>0xc915d5d72bf08d71ad9249cedb4acf29db022232</td>\n",
       "      <td>0.000000</td>\n",
       "      <td>mint</td>\n",
       "      <td>-16477</td>\n",
       "    </tr>\n",
       "    <tr>\n",
       "      <th>1929</th>\n",
       "      <td>1929</td>\n",
       "      <td>0xa045916f5f8dc8e31cedaf1421969ea0b81cc1fe69415c65d0dfa1b74551e3aa</td>\n",
       "      <td>2022-08-14 01:24:00+00:00</td>\n",
       "      <td>0x63f421b24cea6765b326753f6d4e558c21ea8f76</td>\n",
       "      <td>0x63f421b24cea6765b326753f6d4e558c21ea8f76/4810</td>\n",
       "      <td>0x70b684bda9e1e15bfe6115521ab08c15347ea2ee</td>\n",
       "      <td>0.000000</td>\n",
       "      <td>mint</td>\n",
       "      <td>-16507</td>\n",
       "    </tr>\n",
       "    <tr>\n",
       "      <th>1931</th>\n",
       "      <td>1931</td>\n",
       "      <td>0xc9a735049a5e8a9cfb18b8410ea51bd0e55eeb4b0054f06ee83a0c6ddf8fa7f3</td>\n",
       "      <td>2022-08-14 00:37:37+00:00</td>\n",
       "      <td>0x63f421b24cea6765b326753f6d4e558c21ea8f76</td>\n",
       "      <td>0x63f421b24cea6765b326753f6d4e558c21ea8f76/4808</td>\n",
       "      <td>0xaad21a4e83708284dd1127ea7415ab13c571fd40</td>\n",
       "      <td>0.000000</td>\n",
       "      <td>mint</td>\n",
       "      <td>-16538</td>\n",
       "    </tr>\n",
       "    <tr>\n",
       "      <th>1930</th>\n",
       "      <td>1930</td>\n",
       "      <td>0xc9a735049a5e8a9cfb18b8410ea51bd0e55eeb4b0054f06ee83a0c6ddf8fa7f3</td>\n",
       "      <td>2022-08-14 00:37:37+00:00</td>\n",
       "      <td>0x63f421b24cea6765b326753f6d4e558c21ea8f76</td>\n",
       "      <td>0x63f421b24cea6765b326753f6d4e558c21ea8f76/4809</td>\n",
       "      <td>0xaad21a4e83708284dd1127ea7415ab13c571fd40</td>\n",
       "      <td>0.000000</td>\n",
       "      <td>mint</td>\n",
       "      <td>-16568</td>\n",
       "    </tr>\n",
       "    <tr>\n",
       "      <th>1932</th>\n",
       "      <td>1932</td>\n",
       "      <td>0xf7b6925b6a1e3fe5a14d89e9a17bbc0d1e907f84bd5a8e80d51cefcc48183906</td>\n",
       "      <td>2022-08-14 00:12:33+00:00</td>\n",
       "      <td>0x63f421b24cea6765b326753f6d4e558c21ea8f76</td>\n",
       "      <td>0x63f421b24cea6765b326753f6d4e558c21ea8f76/2111</td>\n",
       "      <td>0xd34d3c9020c18bb8441ee15ec36e3bb508a656ab</td>\n",
       "      <td>0.105000</td>\n",
       "      <td>purchase</td>\n",
       "      <td>-16618</td>\n",
       "    </tr>\n",
       "  </tbody>\n",
       "</table>\n",
       "<p>1715 rows × 9 columns</p>\n",
       "</div>"
      ],
      "text/plain": [
       "      Unnamed: 0  \\\n",
       "80            80   \n",
       "2571        2571   \n",
       "81            81   \n",
       "2572        2572   \n",
       "296          296   \n",
       "...          ...   \n",
       "1927        1927   \n",
       "1929        1929   \n",
       "1931        1931   \n",
       "1930        1930   \n",
       "1932        1932   \n",
       "\n",
       "                                                        transaction_hash  \\\n",
       "80    0xedd7cc1337825f5cce8f38143b192366d621f1f3c762b599655835aa8a5df4ff   \n",
       "2571  0xf8ffddeac2f01bca61d34c1d21ba64814d861fe502c8e370f837abf28e50b9ee   \n",
       "81    0x165256c32edcf0a248cfc62f16163de77ffd71e838180dd6055aa76ab2ee08c9   \n",
       "2572  0x7712d60c8f08bac83ac0da2adc323f1014d75447d0cae54c63f59c1106b3fcb7   \n",
       "296   0xce1c1b0c13ffd65823d63e9cb2bb747a64725c7e730cc6019a118eec0910b006   \n",
       "...                                                                  ...   \n",
       "1927  0xca3ce7df1f18ae8485044e42a09db9de87daaf9829e6424c45bc6f73e8006387   \n",
       "1929  0xa045916f5f8dc8e31cedaf1421969ea0b81cc1fe69415c65d0dfa1b74551e3aa   \n",
       "1931  0xc9a735049a5e8a9cfb18b8410ea51bd0e55eeb4b0054f06ee83a0c6ddf8fa7f3   \n",
       "1930  0xc9a735049a5e8a9cfb18b8410ea51bd0e55eeb4b0054f06ee83a0c6ddf8fa7f3   \n",
       "1932  0xf7b6925b6a1e3fe5a14d89e9a17bbc0d1e907f84bd5a8e80d51cefcc48183906   \n",
       "\n",
       "                      timestamp                               collection_id  \\\n",
       "80    2022-08-14 21:51:19+00:00  0xbc4ca0eda7647a8ab7c2061c2e118a18a936f13d   \n",
       "2571  2022-08-14 23:19:54+00:00  0x60e4d786628fea6478f785a6d7e704777c86a7c6   \n",
       "81    2022-08-14 21:42:52+00:00  0xbc4ca0eda7647a8ab7c2061c2e118a18a936f13d   \n",
       "2572  2022-08-14 22:35:13+00:00  0x60e4d786628fea6478f785a6d7e704777c86a7c6   \n",
       "296   2022-08-14 23:57:18+00:00  0x7bd29408f11d2bfc23c34f18275bbf23bb716bc7   \n",
       "...                         ...                                         ...   \n",
       "1927  2022-08-14 01:25:55+00:00  0x63f421b24cea6765b326753f6d4e558c21ea8f76   \n",
       "1929  2022-08-14 01:24:00+00:00  0x63f421b24cea6765b326753f6d4e558c21ea8f76   \n",
       "1931  2022-08-14 00:37:37+00:00  0x63f421b24cea6765b326753f6d4e558c21ea8f76   \n",
       "1930  2022-08-14 00:37:37+00:00  0x63f421b24cea6765b326753f6d4e558c21ea8f76   \n",
       "1932  2022-08-14 00:12:33+00:00  0x63f421b24cea6765b326753f6d4e558c21ea8f76   \n",
       "\n",
       "                                                nft_id  \\\n",
       "80      0xbc4ca0eda7647a8ab7c2061c2e118a18a936f13d/609   \n",
       "2571  0x60e4d786628fea6478f785a6d7e704777c86a7c6/19210   \n",
       "81     0xbc4ca0eda7647a8ab7c2061c2e118a18a936f13d/7644   \n",
       "2572   0x60e4d786628fea6478f785a6d7e704777c86a7c6/4977   \n",
       "296    0x7bd29408f11d2bfc23c34f18275bbf23bb716bc7/8117   \n",
       "...                                                ...   \n",
       "1927   0x63f421b24cea6765b326753f6d4e558c21ea8f76/4812   \n",
       "1929   0x63f421b24cea6765b326753f6d4e558c21ea8f76/4810   \n",
       "1931   0x63f421b24cea6765b326753f6d4e558c21ea8f76/4808   \n",
       "1930   0x63f421b24cea6765b326753f6d4e558c21ea8f76/4809   \n",
       "1932   0x63f421b24cea6765b326753f6d4e558c21ea8f76/2111   \n",
       "\n",
       "                                           buyer  price_in_eth      type  \\\n",
       "80    0x56441b79ebcb24c9a80221dad65c3ddfc7d39c17      0.005000  purchase   \n",
       "2571  0x3cf3303e38b8b4081689e1f590e76e482bff1139     14.850000  purchase   \n",
       "81    0x19fffb371b95574df860e90b6a5b69256629b585      7.080397  purchase   \n",
       "2572  0x42f61c5f5504807b18e9ba30a6535848627b7a5b     14.490000  purchase   \n",
       "296   0x89669dac0fa49b471528711a26ff250836d0f6c1      5.110000  purchase   \n",
       "...                                          ...           ...       ...   \n",
       "1927  0xc915d5d72bf08d71ad9249cedb4acf29db022232      0.000000      mint   \n",
       "1929  0x70b684bda9e1e15bfe6115521ab08c15347ea2ee      0.000000      mint   \n",
       "1931  0xaad21a4e83708284dd1127ea7415ab13c571fd40      0.000000      mint   \n",
       "1930  0xaad21a4e83708284dd1127ea7415ab13c571fd40      0.000000      mint   \n",
       "1932  0xd34d3c9020c18bb8441ee15ec36e3bb508a656ab      0.105000  purchase   \n",
       "\n",
       "       rank  \n",
       "80      161  \n",
       "2571    158  \n",
       "81      151  \n",
       "2572    146  \n",
       "296     136  \n",
       "...     ...  \n",
       "1927 -16477  \n",
       "1929 -16507  \n",
       "1931 -16538  \n",
       "1930 -16568  \n",
       "1932 -16618  \n",
       "\n",
       "[1715 rows x 9 columns]"
      ]
     },
     "execution_count": 176,
     "metadata": {},
     "output_type": "execute_result"
    }
   ],
   "source": [
    "daily_events.drop(['date', 'hour', '5min'], axis=1)"
   ]
  },
  {
   "cell_type": "code",
   "execution_count": 177,
   "id": "a7f81979",
   "metadata": {},
   "outputs": [],
   "source": [
    "daily_events.to_csv(\n",
    "    '/Users/xin/coding/nft-recommendation/data_analysis/data/ranked_nft_events.csv')"
   ]
  }
 ],
 "metadata": {
  "kernelspec": {
   "display_name": "Python 3.9.6 64-bit",
   "language": "python",
   "name": "python3"
  },
  "language_info": {
   "codemirror_mode": {
    "name": "ipython",
    "version": 3
   },
   "file_extension": ".py",
   "mimetype": "text/x-python",
   "name": "python",
   "nbconvert_exporter": "python",
   "pygments_lexer": "ipython3",
   "version": "3.9.6"
  },
  "vscode": {
   "interpreter": {
    "hash": "31f2aee4e71d21fbe5cf8b01ff0e069b9275f58929596ceb00d14d90e3e16cd6"
   }
  }
 },
 "nbformat": 4,
 "nbformat_minor": 5
}
