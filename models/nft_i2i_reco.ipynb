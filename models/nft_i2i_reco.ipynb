{
 "cells": [
  {
   "cell_type": "markdown",
   "metadata": {},
   "source": [
    "# Explore the item to item recommendation for NFT"
   ]
  },
  {
   "cell_type": "markdown",
   "metadata": {},
   "source": [
    "## Item Collaborative Filtering (CF)\n",
    "\n",
    "We calculate each NFT pair scores by their common buyers. As the first step, we only take the purchase transaction into account but ignore everything else, such as price, date and so on. We can consider them later.\n",
    "\n",
    "Thus, the algorithm can be summarized as follows. For item $i$ and $j$, let's denote the number of their common buyers as $N_{ij}$, and the number of buyers for item $i$ as $N_i$, and for item $j$ as $N_j$. Then, the item CF score for items $i$ and $j$ can be calculated by\n",
    "\n",
    "$$CF(i, j) = \\frac{N_{ij}}{\\sqrt{N_i} \\cdot \\sqrt{N_j}}$$\n",
    "\n",
    "which is essentially the cosine value between two vectors, the user purchase vector for item $i$ and for item $j$."
   ]
  },
  {
   "cell_type": "code",
   "execution_count": 1,
   "metadata": {},
   "outputs": [],
   "source": [
    "import pandas as pd\n",
    "import numpy as np\n",
    "from scipy.sparse import csc_matrix\n",
    "import multiprocess\n"
   ]
  },
  {
   "cell_type": "code",
   "execution_count": 2,
   "metadata": {},
   "outputs": [
    {
     "name": "stdout",
     "output_type": "stream",
     "text": [
      "number of buyers 686727\n",
      "number of nft 5727563\n"
     ]
    }
   ],
   "source": [
    "# get the binary matrix\n",
    "purchase = pd.read_csv('/Users/wenyunyang/dev/nft-recommendation/data_analysis/data/purchases.csv')\n",
    "\n",
    "buyers = purchase['buyer'].unique()\n",
    "nft_id = purchase['nft_id'].unique()\n",
    "print('number of buyers', len(buyers))\n",
    "print('number of nft', len(nft_id))\n",
    "\n",
    "full_buyers_list = buyers\n",
    "full_nft_list = nft_id\n",
    "\n",
    "full_buyers_index = dict(zip(full_buyers_list, range(len(full_buyers_list))))\n",
    "full_nft_index = dict(zip(full_nft_list, range(len(full_nft_list))))\n",
    "\n",
    "n_buyer = len(full_buyers_list)\n",
    "n_nft = len(full_nft_list)\n",
    "\n",
    "vals, rows, cols = [], [], []\n",
    "for _, row in purchase.iterrows():\n",
    "    bi = full_buyers_index[row['buyer']]\n",
    "    ni = full_nft_index[row['nft_id']]\n",
    "    v = 1\n",
    "    vals.append(v)\n",
    "    rows.append(bi)\n",
    "    cols.append(ni)\n",
    "\n",
    "full_u2i_matrix = csc_matrix((vals, (rows, cols)), shape=(n_buyer, n_nft))\n",
    "full_u2i_norm = np.sqrt(full_u2i_matrix.sum(axis=0))"
   ]
  },
  {
   "cell_type": "code",
   "execution_count": 3,
   "metadata": {},
   "outputs": [
    {
     "name": "stdout",
     "output_type": "stream",
     "text": [
      "number of single buyer nft = 4069196\n",
      "number of non-single buyer nft = 1658367\n",
      "u2i_matrix shape =  (686727, 1658367)\n"
     ]
    }
   ],
   "source": [
    "# filter the nft if there is only one buyer\n",
    "\n",
    "single_buyer_nft_index = np.where(full_u2i_norm == 1)[1]\n",
    "print('number of single buyer nft = %d' % len(single_buyer_nft_index))\n",
    "\n",
    "keep_nft_index = np.where(full_u2i_norm > 1)[1]\n",
    "print('number of non-single buyer nft = %d' % len(keep_nft_index))\n",
    "u2i_matrix = full_u2i_matrix[:, keep_nft_index]\n",
    "print('u2i_matrix shape = ', u2i_matrix.shape)\n",
    "\n",
    "buyers_list = full_buyers_list\n",
    "nft_list = full_nft_list[keep_nft_index]\n",
    "\n",
    "buyers_index = full_buyers_index\n",
    "nft_index = dict(zip(nft_list, range(len(nft_list))))\n",
    "\n",
    "u2i_norm = full_u2i_norm[0, keep_nft_index]"
   ]
  },
  {
   "cell_type": "code",
   "execution_count": 4,
   "metadata": {},
   "outputs": [],
   "source": [
    "# compute top 10 similar nft for each nft\n",
    "\n",
    "def get_top_k(nft_id, k=20):\n",
    "    i_vec = u2i_matrix[:, nft_index[nft_id]]\n",
    "\n",
    "    ip = i_vec.multiply(u2i_matrix).sum(axis=0)\n",
    "\n",
    "    score = ip / u2i_norm\n",
    "\n",
    "    sorted_index = np.argsort(-score)\n",
    "\n",
    "    similar_tokens = [\n",
    "        nft_list[idx]\n",
    "        for idx in sorted_index[0, 1:k+1].tolist()[0]]\n",
    "    \n",
    "    top_scores = score[0, sorted_index[0, 1:k+1]]\n",
    "\n",
    "    n_buyer = i_vec.sum()\n",
    "\n",
    "    return similar_tokens, top_scores, n_buyer\n",
    "\n",
    "\n",
    "with multiprocess.Pool(processes=32) as pool:\n",
    "    results = pool.map(get_top_k, nft_list)\n"
   ]
  },
  {
   "cell_type": "code",
   "execution_count": 9,
   "metadata": {},
   "outputs": [],
   "source": [
    "\n",
    "with open('/Users/wenyunyang/dev/nft-recommendation/data_analysis/notebook/results/nft_i2i.csv', 'w') as fp:\n",
    "    for i, nft_id in enumerate(nft_list):\n",
    "        fp.write(','.join([\n",
    "            nft_id,\n",
    "            str(results[i][2]),   # number of buyers\n",
    "            *results[i][0],       # top-k similar NFT\n",
    "            *[str(e) for e in results[i][1].tolist()[0]],   # top-k scores\n",
    "        ]) + '\\n')\n",
    "    "
   ]
  },
  {
   "cell_type": "markdown",
   "metadata": {},
   "source": [
    "## Embedding Approach\n",
    "\n",
    "We learn the embeddings based on user item interactions"
   ]
  },
  {
   "cell_type": "markdown",
   "metadata": {},
   "source": []
  }
 ],
 "metadata": {
  "kernelspec": {
   "display_name": "Python 3.8.9 ('.venv': venv)",
   "language": "python",
   "name": "python3"
  },
  "language_info": {
   "codemirror_mode": {
    "name": "ipython",
    "version": 3
   },
   "file_extension": ".py",
   "mimetype": "text/x-python",
   "name": "python",
   "nbconvert_exporter": "python",
   "pygments_lexer": "ipython3",
   "version": "3.8.9"
  },
  "orig_nbformat": 4,
  "vscode": {
   "interpreter": {
    "hash": "d057dd1a417702bc945ebf33c807f457848e96987dd53c93df83fdf33006dfae"
   }
  }
 },
 "nbformat": 4,
 "nbformat_minor": 2
}
